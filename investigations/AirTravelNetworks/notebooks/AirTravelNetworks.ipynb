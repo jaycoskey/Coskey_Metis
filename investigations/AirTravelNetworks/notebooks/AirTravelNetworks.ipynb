{
 "cells": [
  {
   "cell_type": "markdown",
   "metadata": {},
   "source": [
    "# Air Travel Networks"
   ]
  },
  {
   "cell_type": "markdown",
   "metadata": {},
   "source": [
    "* Overview\n",
    " - Import data on airports and airline routes from https://openflights.org/data.html\n",
    " - Files: airlines.dat, airports.dat, countries.dat, routes.dat.\n",
    "\n",
    "* Data import issues\n",
    " - The above website claims that the data is encoded using ISO 8859-1 (Latin-1).\n",
    "   - But the data is actually UTF-8.\n",
    "   - Attempting to use Latin-1 encoding will fail.  (Due to some Cyrillic characters?)\n",
    " - Postgres bulk import requires that a single-quote at the end of a string be escaped (e.g., the Italian airline Elipiu').\n",
    " \n",
    "* Data schema\n",
    " - The data schema (created through SQL, then read in from INFORMATION_SCHEMA) is shown below.\n",
    " \n",
    "* Data integrity\n",
    " - Check for NULL values.  (More below)\n",
    " \n",
    "* Data validity\n",
    " - The values for the column \"Stops\" in table \"route\" aren't realistic.  (More below.)\n",
    "\n",
    "* Data visualization\n",
    " - More below."
   ]
  },
  {
   "cell_type": "markdown",
   "metadata": {},
   "source": [
    "<hr style=\"height:5px;color:black\"/>"
   ]
  },
  {
   "cell_type": "code",
   "execution_count": 1,
   "metadata": {},
   "outputs": [
    {
     "name": "stderr",
     "output_type": "stream",
     "text": [
      "/Applications/anaconda3/lib/python3.6/site-packages/psycopg2/__init__.py:144: UserWarning: The psycopg2 wheel package will be renamed from release 2.8; in order to keep installing from binary please use \"pip install psycopg2-binary\" instead. For details see: <http://initd.org/psycopg/docs/install.html#binary-install-from-pypi>.\n",
      "  \"\"\")\n"
     ]
    }
   ],
   "source": [
    "from collections import Counter\n",
    "import csv\n",
    "from math import atan2, cos, sin, radians, sqrt\n",
    "import matplotlib.pyplot as plt\n",
    "import networkx as nx\n",
    "import numpy as np\n",
    "import os\n",
    "import pandas as pd\n",
    "import psycopg2\n",
    "# from psycopg2.extensions import ISOLATION_LEVEL_AUTOCOMMIT\n",
    "from sqlalchemy import create_engine\n",
    "import yaml"
   ]
  },
  {
   "cell_type": "code",
   "execution_count": 77,
   "metadata": {
    "collapsed": true
   },
   "outputs": [],
   "source": [
    "%matplotlib inline"
   ]
  },
  {
   "cell_type": "code",
   "execution_count": 2,
   "metadata": {
    "collapsed": true
   },
   "outputs": [],
   "source": [
    "BASE_CONN_STR = os.environ['BASE_CONN_STR']\n",
    "CREATE_TABLES_YAML_DIR = '../src/'\n",
    "CREATE_TABLES_YAML_FILE = 'air_travel_tables_sql.yml'\n",
    "CREATE_TABLES_YAML_PATH = CREATE_TABLES_YAML_DIR + CREATE_TABLES_YAML_FILE\n",
    "DATA_DIR = '../data/openflights.org/'\n",
    "DB_NAME = 'air_travel'\n",
    "DB_USER='postgres'\n",
    "POSTGRES_HOST='localhost'\n",
    "POSTGRES_PORT=5432\n",
    "\n",
    "CONN_STR = BASE_CONN_STR + f\" dbname='{DB_NAME}'\""
   ]
  },
  {
   "cell_type": "code",
   "execution_count": 3,
   "metadata": {
    "collapsed": true
   },
   "outputs": [],
   "source": [
    "air_traffic_data_files = {\n",
    "    'airline': 'airlines.dat'\n",
    "    , 'airport': 'airports.dat'\n",
    "    , 'country': 'countries.dat'\n",
    "    , 'route': 'routes.dat'\n",
    "}\n",
    "air_traffic_data_column_count = {\n",
    "    'airline': 8\n",
    "    , 'airport': 14\n",
    "    , 'country': 4\n",
    "    , 'route': 9\n",
    "}"
   ]
  },
  {
   "cell_type": "code",
   "execution_count": 4,
   "metadata": {
    "collapsed": true
   },
   "outputs": [],
   "source": [
    "def create_db():\n",
    "    cmd_check_db = f\"\"\"\n",
    "        SELECT EXISTS (\n",
    "            SELECT datname FROM pg_catalog.pg_database\n",
    "            WHERE lower(datname) = lower('{DB_NAME}')\n",
    "        )\"\"\"\n",
    "    with psycopg2.connect(BASE_CONN_STR) as conn:\n",
    "        conn.autocommit = True\n",
    "        with conn.cursor() as cur:\n",
    "            cur.execute(cmd_check_db)\n",
    "            if not cur.fetchone()[0]:\n",
    "                cur.execute('CREATE DATABASE ' + DB_NAME)"
   ]
  },
  {
   "cell_type": "code",
   "execution_count": 5,
   "metadata": {
    "collapsed": true
   },
   "outputs": [],
   "source": [
    "def create_tables():\n",
    "    \n",
    "    with open(CREATE_TABLES_YAML_PATH, 'r') as yf:\n",
    "        create_table_objs = yaml.load(yf)\n",
    "\n",
    "    with psycopg2.connect(CONN_STR) as conn:\n",
    "        conn.autocommit = True\n",
    "        for table_name in create_table_objs:\n",
    "            cmd_check_table = f\"\"\"\n",
    "                SELECT EXISTS (\n",
    "                    SELECT * FROM information_schema.tables\n",
    "                    WHERE lower(table_name) = lower('{table_name}')\n",
    "                )\"\"\"\n",
    "            with conn.cursor() as cur:\n",
    "                print(f'INFO: About to check table {table_name}')\n",
    "                cur.execute(cmd_check_table)\n",
    "                if not cur.fetchone()[0]:\n",
    "                    cmd_create_table = create_table_objs[table_name]\n",
    "                    print(f'INFO: *** About to create table {table_name} ***')\n",
    "                    cur.execute(cmd_create_table)"
   ]
  },
  {
   "cell_type": "code",
   "execution_count": 6,
   "metadata": {
    "collapsed": true
   },
   "outputs": [],
   "source": [
    "def geo_dist(lat1, long1, lat2, long2):\n",
    "    R = 6373.0  # Radius of the earth, in km\n",
    "    lat1 = radians(lat1)\n",
    "    long1 = radians(long1)\n",
    "    lat2 = radians(lat2)\n",
    "    long2 = radians(long2)\n",
    "    dlat = lat2 - lat1\n",
    "    dlong = abs(long2 - long1)\n",
    "    a = (sin(dlat / 2))**2 + cos(lat1) * cos(lat2) * (sin(dlong / 2))**2\n",
    "    angle = 2 * atan2(sqrt(a), sqrt(1 - a))\n",
    "    distance = R * angle\n",
    "    return distance"
   ]
  },
  {
   "cell_type": "code",
   "execution_count": 7,
   "metadata": {
    "collapsed": true
   },
   "outputs": [],
   "source": [
    "def inspect_db():\n",
    "    with psycopg2.connect(CONN_STR) as conn:\n",
    "        with conn.cursor() as cur:\n",
    "            # Note: Not necessarily the same order used in the SQL DDL\n",
    "            cur.execute(\"\"\"\n",
    "                SELECT Tbl.table_schema\n",
    "                     , Tbl.table_name\n",
    "                     , Col.column_name\n",
    "                     , Col.data_type\n",
    "                     , Col.character_maximum_length\n",
    "                FROM INFORMATION_SCHEMA.tables AS Tbl\n",
    "                    JOIN INFORMATION_SCHEMA.columns AS Col\n",
    "                      ON Col.table_name = Tbl.table_name\n",
    "                WHERE Tbl.table_schema = 'public'\n",
    "                ORDER BY table_schema, table_name\n",
    "                ;\n",
    "                \"\"\")\n",
    "            for row in cur:\n",
    "                print(row)"
   ]
  },
  {
   "cell_type": "code",
   "execution_count": 8,
   "metadata": {
    "collapsed": true
   },
   "outputs": [],
   "source": [
    "def is_float(s):\n",
    "    try:\n",
    "        _ = float(s)\n",
    "        return True\n",
    "    except:\n",
    "        return False\n",
    "\n",
    "def is_int(s):\n",
    "    try:\n",
    "        _ = int(s)\n",
    "        return True\n",
    "    except:\n",
    "        return False"
   ]
  },
  {
   "cell_type": "code",
   "execution_count": 9,
   "metadata": {
    "collapsed": true
   },
   "outputs": [],
   "source": [
    "def upload_data():\n",
    "    for table, data_file in air_traffic_data_files.items():\n",
    "        data_path = DATA_DIR + data_file\n",
    "        num_cols = air_traffic_data_column_count[table]\n",
    "        values_template_str = ', '.join(['%s'] * num_cols)\n",
    "\n",
    "        with psycopg2.connect(CONN_STR) as conn:\n",
    "            with conn.cursor() as cur:\n",
    "                with open(data_path, 'r') as df:\n",
    "                    reader = csv.reader(df)\n",
    "                    # next(reader)  # No header row to skip\n",
    "                    for row_num, row in enumerate(reader):\n",
    "                        if len(row) != num_cols:\n",
    "                            print(f'Warning: Row #{row_num} only has {len(row)} columns')\n",
    "                            continue\n",
    "                        cmd_insert = f'INSERT INTO {table} VALUES ({values_template_str})'\n",
    "                        # print(f'cmd_insert={cmd_insert}')\n",
    "                        try:\n",
    "                            cur.execute(cmd_insert, row)\n",
    "                        except Exception as ex:\n",
    "                            print(f'ERROR ({ex.__str__().rstrip()}) on row #{row_num}: {row}')"
   ]
  },
  {
   "cell_type": "markdown",
   "metadata": {},
   "source": [
    "<hr style=\"height:5px;color:black\"/>"
   ]
  },
  {
   "cell_type": "markdown",
   "metadata": {},
   "source": [
    "# Create and load DB tables "
   ]
  },
  {
   "cell_type": "code",
   "execution_count": 10,
   "metadata": {
    "scrolled": false
   },
   "outputs": [
    {
     "name": "stdout",
     "output_type": "stream",
     "text": [
      "INFO: About to check table Airline\n",
      "INFO: *** About to create table Airline ***\n",
      "INFO: About to check table Airport\n",
      "INFO: *** About to create table Airport ***\n",
      "INFO: About to check table Country\n",
      "INFO: *** About to create table Country ***\n",
      "INFO: About to check table Route\n",
      "INFO: *** About to create table Route ***\n"
     ]
    }
   ],
   "source": [
    "create_tables()"
   ]
  },
  {
   "cell_type": "code",
   "execution_count": 11,
   "metadata": {
    "collapsed": true
   },
   "outputs": [],
   "source": [
    "upload_data()"
   ]
  },
  {
   "cell_type": "markdown",
   "metadata": {},
   "source": [
    "# Load the four tables of airline data into Jupyter"
   ]
  },
  {
   "cell_type": "code",
   "execution_count": 12,
   "metadata": {},
   "outputs": [
    {
     "name": "stdout",
     "output_type": "stream",
     "text": [
      "('public', 'airline', 'open_flights_airline_id', 'integer', None)\n",
      "('public', 'airline', 'name', 'character varying', 100)\n",
      "('public', 'airline', 'alias', 'character varying', 50)\n",
      "('public', 'airline', 'iata', 'character', 8)\n",
      "('public', 'airline', 'icao', 'character', 8)\n",
      "('public', 'airline', 'callsign', 'character varying', 50)\n",
      "('public', 'airline', 'country', 'character varying', 50)\n",
      "('public', 'airline', 'active', 'character', 1)\n",
      "('public', 'airport', 'open_flights_airport_id', 'integer', None)\n",
      "('public', 'airport', 'name', 'character varying', 100)\n",
      "('public', 'airport', 'city', 'character varying', 50)\n",
      "('public', 'airport', 'country', 'character varying', 50)\n",
      "('public', 'airport', 'iata', 'character', 3)\n",
      "('public', 'airport', 'icao', 'character', 4)\n",
      "('public', 'airport', 'latitude', 'character varying', 50)\n",
      "('public', 'airport', 'longitude', 'character varying', 50)\n",
      "('public', 'airport', 'altitude', 'character varying', 50)\n",
      "('public', 'airport', 'timezone', 'character varying', 50)\n",
      "('public', 'airport', 'dst', 'character', 2)\n",
      "('public', 'airport', 'timezone_olson_name', 'character varying', 50)\n",
      "('public', 'airport', 'airport_type', 'character varying', 10)\n",
      "('public', 'airport', 'source', 'character varying', 15)\n",
      "('public', 'country', 'name', 'character varying', 50)\n",
      "('public', 'country', 'code1', 'character', 2)\n",
      "('public', 'country', 'code_iso_3166', 'character', 2)\n",
      "('public', 'country', 'country_group', 'character', 2)\n",
      "('public', 'route', 'airline', 'character', 3)\n",
      "('public', 'route', 'open_flights_airline_id', 'character varying', 50)\n",
      "('public', 'route', 'source_airport', 'character varying', 50)\n",
      "('public', 'route', 'source_airport_id', 'character varying', 50)\n",
      "('public', 'route', 'destination_airport', 'character varying', 50)\n",
      "('public', 'route', 'destination_airport_id', 'character varying', 50)\n",
      "('public', 'route', 'codeshare', 'character', 1)\n",
      "('public', 'route', 'stops', 'integer', None)\n",
      "('public', 'route', 'equipment', 'character varying', 50)\n"
     ]
    }
   ],
   "source": [
    "inspect_db()"
   ]
  },
  {
   "cell_type": "markdown",
   "metadata": {},
   "source": [
    "# Data integrity: Check for NULLs"
   ]
  },
  {
   "cell_type": "code",
   "execution_count": 13,
   "metadata": {
    "collapsed": true
   },
   "outputs": [],
   "source": [
    "engine = create_engine(f'postgres://{DB_USER}@{POSTGRES_HOST}:{POSTGRES_PORT}/{DB_NAME}')"
   ]
  },
  {
   "cell_type": "code",
   "execution_count": 14,
   "metadata": {},
   "outputs": [
    {
     "data": {
      "text/plain": [
       "((6162, 8), (7184, 14), (260, 4), (67663, 9))"
      ]
     },
     "execution_count": 14,
     "metadata": {},
     "output_type": "execute_result"
    }
   ],
   "source": [
    "airline_df = pd.read_sql_table('airline', engine)\n",
    "airport_df = pd.read_sql_table('airport', engine)\n",
    "country_df = pd.read_sql_table('country', engine)\n",
    "route_df = pd.read_sql_table('route', engine)\n",
    "\n",
    "(airline_df.shape, airport_df.shape, country_df.shape, route_df.shape)"
   ]
  },
  {
   "cell_type": "code",
   "execution_count": 15,
   "metadata": {},
   "outputs": [
    {
     "data": {
      "text/plain": [
       "open_flights_airline_id    0\n",
       "name                       0\n",
       "alias                      0\n",
       "iata                       0\n",
       "icao                       0\n",
       "callsign                   0\n",
       "country                    0\n",
       "active                     0\n",
       "dtype: int64"
      ]
     },
     "execution_count": 15,
     "metadata": {},
     "output_type": "execute_result"
    }
   ],
   "source": [
    "# Out of 6162 rows:\n",
    "airline_df.isnull().sum()"
   ]
  },
  {
   "cell_type": "code",
   "execution_count": 16,
   "metadata": {},
   "outputs": [
    {
     "data": {
      "text/plain": [
       "open_flights_airport_id    0\n",
       "name                       0\n",
       "city                       0\n",
       "country                    0\n",
       "iata                       0\n",
       "icao                       0\n",
       "latitude                   0\n",
       "longitude                  0\n",
       "altitude                   0\n",
       "timezone                   0\n",
       "dst                        0\n",
       "timezone_olson_name        0\n",
       "airport_type               0\n",
       "source                     0\n",
       "dtype: int64"
      ]
     },
     "execution_count": 16,
     "metadata": {},
     "output_type": "execute_result"
    }
   ],
   "source": [
    "# Out of 7184 rows:\n",
    "airport_df.isnull().sum()"
   ]
  },
  {
   "cell_type": "code",
   "execution_count": 17,
   "metadata": {},
   "outputs": [
    {
     "data": {
      "text/plain": [
       "name             0\n",
       "code1            0\n",
       "code_iso_3166    0\n",
       "country_group    0\n",
       "dtype: int64"
      ]
     },
     "execution_count": 17,
     "metadata": {},
     "output_type": "execute_result"
    }
   ],
   "source": [
    "# Out of 260 rows:\n",
    "country_df.isnull().sum()"
   ]
  },
  {
   "cell_type": "code",
   "execution_count": 18,
   "metadata": {},
   "outputs": [
    {
     "data": {
      "text/plain": [
       "airline                    0\n",
       "open_flights_airline_id    0\n",
       "source_airport             0\n",
       "source_airport_id          0\n",
       "destination_airport        0\n",
       "destination_airport_id     0\n",
       "codeshare                  0\n",
       "stops                      0\n",
       "equipment                  0\n",
       "dtype: int64"
      ]
     },
     "execution_count": 18,
     "metadata": {},
     "output_type": "execute_result"
    }
   ],
   "source": [
    "# Out of 67,663 rows:\n",
    "route_df.isnull().sum()"
   ]
  },
  {
   "cell_type": "markdown",
   "metadata": {},
   "source": [
    "* Great!  No NULLs.\n",
    "* But that was achieved only by defining some columns that should contain numeric data (e.g., latitude, longitude) as varchar columns.\n",
    "* Let's now filter out those rows with incomplete (i.e., non-numeric) data in these columns, and cast them as appropriate.\n",
    "* **TODO:** Why do some airports not have a recorded timezone?"
   ]
  },
  {
   "cell_type": "markdown",
   "metadata": {},
   "source": [
    "# Filter and transform airport_df"
   ]
  },
  {
   "cell_type": "code",
   "execution_count": 19,
   "metadata": {
    "collapsed": true
   },
   "outputs": [],
   "source": [
    "airport_row_count_raw = airport_df.shape[0]"
   ]
  },
  {
   "cell_type": "code",
   "execution_count": 20,
   "metadata": {
    "collapsed": true
   },
   "outputs": [],
   "source": [
    "airport_mask = ((airport_df['latitude'].map(is_float))\n",
    "                & ((airport_df['longitude'].map(is_float)))\n",
    "                & (airport_df['altitude'].map(is_float))\n",
    "                & (airport_df['timezone'].map(is_float))\n",
    "               )"
   ]
  },
  {
   "cell_type": "code",
   "execution_count": 21,
   "metadata": {
    "collapsed": true
   },
   "outputs": [],
   "source": [
    "airport_df = airport_df[airport_mask]"
   ]
  },
  {
   "cell_type": "code",
   "execution_count": 22,
   "metadata": {
    "collapsed": true
   },
   "outputs": [],
   "source": [
    "airport_row_count_filtered = airport_df.shape[0]"
   ]
  },
  {
   "cell_type": "code",
   "execution_count": 23,
   "metadata": {
    "collapsed": true
   },
   "outputs": [],
   "source": [
    "airport_row_pct_remaining = airport_row_count_filtered / airport_row_count_raw"
   ]
  },
  {
   "cell_type": "code",
   "execution_count": 24,
   "metadata": {},
   "outputs": [
    {
     "name": "stdout",
     "output_type": "stream",
     "text": [
      "Percentage of airport rows remaining: 95.68\n"
     ]
    }
   ],
   "source": [
    "print(f'Percentage of airport rows remaining: {100*airport_row_pct_remaining:.2f}')"
   ]
  },
  {
   "cell_type": "code",
   "execution_count": 25,
   "metadata": {},
   "outputs": [
    {
     "data": {
      "text/plain": [
       "open_flights_airport_id     int64\n",
       "name                       object\n",
       "city                       object\n",
       "country                    object\n",
       "iata                       object\n",
       "icao                       object\n",
       "latitude                   object\n",
       "longitude                  object\n",
       "altitude                   object\n",
       "timezone                   object\n",
       "dst                        object\n",
       "timezone_olson_name        object\n",
       "airport_type               object\n",
       "source                     object\n",
       "dtype: object"
      ]
     },
     "execution_count": 25,
     "metadata": {},
     "output_type": "execute_result"
    }
   ],
   "source": [
    "airport_df.dtypes"
   ]
  },
  {
   "cell_type": "code",
   "execution_count": 26,
   "metadata": {
    "collapsed": true
   },
   "outputs": [],
   "source": [
    "airport_df['latitude'] = airport_df['latitude'].astype(float)\n",
    "airport_df['longitude'] = airport_df['longitude'].astype(float)\n",
    "airport_df['altitude'] = airport_df['altitude'].astype(float)\n",
    "airport_df['timezone'] = airport_df['timezone'].astype(float)"
   ]
  },
  {
   "cell_type": "code",
   "execution_count": 27,
   "metadata": {},
   "outputs": [
    {
     "data": {
      "text/plain": [
       "open_flights_airport_id      int64\n",
       "name                        object\n",
       "city                        object\n",
       "country                     object\n",
       "iata                        object\n",
       "icao                        object\n",
       "latitude                   float64\n",
       "longitude                  float64\n",
       "altitude                   float64\n",
       "timezone                   float64\n",
       "dst                         object\n",
       "timezone_olson_name         object\n",
       "airport_type                object\n",
       "source                      object\n",
       "dtype: object"
      ]
     },
     "execution_count": 27,
     "metadata": {},
     "output_type": "execute_result"
    }
   ],
   "source": [
    "airport_df.dtypes"
   ]
  },
  {
   "cell_type": "markdown",
   "metadata": {},
   "source": [
    "# Filter and transform route_df"
   ]
  },
  {
   "cell_type": "code",
   "execution_count": 28,
   "metadata": {
    "collapsed": true
   },
   "outputs": [],
   "source": [
    "route_row_count_raw = route_df.shape[0]"
   ]
  },
  {
   "cell_type": "code",
   "execution_count": 29,
   "metadata": {
    "collapsed": true
   },
   "outputs": [],
   "source": [
    "route_mask = ((route_df['open_flights_airline_id'].map(is_int))\n",
    "              & (route_df['source_airport_id'].map(is_int))\n",
    "              & (route_df['destination_airport_id'].map(is_int))\n",
    "             )"
   ]
  },
  {
   "cell_type": "code",
   "execution_count": 30,
   "metadata": {
    "collapsed": true
   },
   "outputs": [],
   "source": [
    "route_df = route_df[route_mask]"
   ]
  },
  {
   "cell_type": "code",
   "execution_count": 31,
   "metadata": {
    "collapsed": true
   },
   "outputs": [],
   "source": [
    "route_row_count_filtered = route_df.shape[0]"
   ]
  },
  {
   "cell_type": "code",
   "execution_count": 32,
   "metadata": {
    "collapsed": true
   },
   "outputs": [],
   "source": [
    "route_row_pct_remaining = route_row_count_filtered / route_row_count_raw"
   ]
  },
  {
   "cell_type": "code",
   "execution_count": 33,
   "metadata": {},
   "outputs": [
    {
     "name": "stdout",
     "output_type": "stream",
     "text": [
      "Percentage of airport rows remaining: 98.67\n"
     ]
    }
   ],
   "source": [
    "print(f'Percentage of airport rows remaining: {100*route_row_pct_remaining:.2f}')"
   ]
  },
  {
   "cell_type": "code",
   "execution_count": 34,
   "metadata": {},
   "outputs": [
    {
     "data": {
      "text/plain": [
       "airline                    object\n",
       "open_flights_airline_id    object\n",
       "source_airport             object\n",
       "source_airport_id          object\n",
       "destination_airport        object\n",
       "destination_airport_id     object\n",
       "codeshare                  object\n",
       "stops                       int64\n",
       "equipment                  object\n",
       "dtype: object"
      ]
     },
     "execution_count": 34,
     "metadata": {},
     "output_type": "execute_result"
    }
   ],
   "source": [
    "route_df.dtypes"
   ]
  },
  {
   "cell_type": "code",
   "execution_count": 35,
   "metadata": {
    "collapsed": true
   },
   "outputs": [],
   "source": [
    "route_df['open_flights_airline_id'] = route_df['open_flights_airline_id'].astype(int)\n",
    "route_df['source_airport_id'] = route_df['source_airport_id'].astype(int)\n",
    "route_df['destination_airport_id'] = route_df['destination_airport_id'].astype(int)"
   ]
  },
  {
   "cell_type": "code",
   "execution_count": 36,
   "metadata": {},
   "outputs": [
    {
     "data": {
      "text/plain": [
       "airline                    object\n",
       "open_flights_airline_id     int64\n",
       "source_airport             object\n",
       "source_airport_id           int64\n",
       "destination_airport        object\n",
       "destination_airport_id      int64\n",
       "codeshare                  object\n",
       "stops                       int64\n",
       "equipment                  object\n",
       "dtype: object"
      ]
     },
     "execution_count": 36,
     "metadata": {},
     "output_type": "execute_result"
    }
   ],
   "source": [
    "route_df.dtypes"
   ]
  },
  {
   "cell_type": "markdown",
   "metadata": {},
   "source": [
    "# Data validity: route table: stops\n",
    " - The values for the column \"Stops\" in table \"route\" aren't realistic.\n",
    " - The column \"Stops\" is described in the above website as\n",
    "      > Number of stops on this flight (\"0\" for direct).\n",
    " - Let's take a look at the range of values."
   ]
  },
  {
   "cell_type": "code",
   "execution_count": 37,
   "metadata": {},
   "outputs": [
    {
     "data": {
      "text/plain": [
       "Counter({0: 66754, 1: 11})"
      ]
     },
     "execution_count": 37,
     "metadata": {},
     "output_type": "execute_result"
    }
   ],
   "source": [
    "Counter(route_df['stops'])"
   ]
  },
  {
   "cell_type": "markdown",
   "metadata": {},
   "source": [
    "* Since there are only a (very, very) small number of stopover flights, we can look at all of them.\n",
    "* There are too few commercial flights with stopovers for this to be believable."
   ]
  },
  {
   "cell_type": "code",
   "execution_count": 38,
   "metadata": {},
   "outputs": [
    {
     "data": {
      "text/html": [
       "<div>\n",
       "<style>\n",
       "    .dataframe thead tr:only-child th {\n",
       "        text-align: right;\n",
       "    }\n",
       "\n",
       "    .dataframe thead th {\n",
       "        text-align: left;\n",
       "    }\n",
       "\n",
       "    .dataframe tbody tr th {\n",
       "        vertical-align: top;\n",
       "    }\n",
       "</style>\n",
       "<table border=\"1\" class=\"dataframe\">\n",
       "  <thead>\n",
       "    <tr style=\"text-align: right;\">\n",
       "      <th></th>\n",
       "      <th>airline</th>\n",
       "      <th>open_flights_airline_id</th>\n",
       "      <th>source_airport</th>\n",
       "      <th>source_airport_id</th>\n",
       "      <th>destination_airport</th>\n",
       "      <th>destination_airport_id</th>\n",
       "      <th>codeshare</th>\n",
       "      <th>stops</th>\n",
       "      <th>equipment</th>\n",
       "    </tr>\n",
       "  </thead>\n",
       "  <tbody>\n",
       "    <tr>\n",
       "      <th>2066</th>\n",
       "      <td>5T</td>\n",
       "      <td>1623</td>\n",
       "      <td>YRT</td>\n",
       "      <td>132</td>\n",
       "      <td>YEK</td>\n",
       "      <td>50</td>\n",
       "      <td></td>\n",
       "      <td>1</td>\n",
       "      <td>ATR</td>\n",
       "    </tr>\n",
       "    <tr>\n",
       "      <th>7810</th>\n",
       "      <td>AC</td>\n",
       "      <td>330</td>\n",
       "      <td>ABJ</td>\n",
       "      <td>253</td>\n",
       "      <td>BRU</td>\n",
       "      <td>302</td>\n",
       "      <td></td>\n",
       "      <td>1</td>\n",
       "      <td>333</td>\n",
       "    </tr>\n",
       "    <tr>\n",
       "      <th>8272</th>\n",
       "      <td>AC</td>\n",
       "      <td>330</td>\n",
       "      <td>YVR</td>\n",
       "      <td>156</td>\n",
       "      <td>YBL</td>\n",
       "      <td>30</td>\n",
       "      <td></td>\n",
       "      <td>1</td>\n",
       "      <td>BEH</td>\n",
       "    </tr>\n",
       "    <tr>\n",
       "      <th>17767</th>\n",
       "      <td>CU</td>\n",
       "      <td>1936</td>\n",
       "      <td>FCO</td>\n",
       "      <td>1555</td>\n",
       "      <td>HAV</td>\n",
       "      <td>1909</td>\n",
       "      <td></td>\n",
       "      <td>1</td>\n",
       "      <td>767</td>\n",
       "    </tr>\n",
       "    <tr>\n",
       "      <th>25116</th>\n",
       "      <td>FL</td>\n",
       "      <td>1316</td>\n",
       "      <td>HOU</td>\n",
       "      <td>3566</td>\n",
       "      <td>SAT</td>\n",
       "      <td>3621</td>\n",
       "      <td></td>\n",
       "      <td>1</td>\n",
       "      <td>735</td>\n",
       "    </tr>\n",
       "    <tr>\n",
       "      <th>25220</th>\n",
       "      <td>FL</td>\n",
       "      <td>1316</td>\n",
       "      <td>MCO</td>\n",
       "      <td>3878</td>\n",
       "      <td>HOU</td>\n",
       "      <td>3566</td>\n",
       "      <td></td>\n",
       "      <td>1</td>\n",
       "      <td>73W</td>\n",
       "    </tr>\n",
       "    <tr>\n",
       "      <th>25230</th>\n",
       "      <td>FL</td>\n",
       "      <td>1316</td>\n",
       "      <td>MCO</td>\n",
       "      <td>3878</td>\n",
       "      <td>ORF</td>\n",
       "      <td>3611</td>\n",
       "      <td></td>\n",
       "      <td>1</td>\n",
       "      <td>717</td>\n",
       "    </tr>\n",
       "    <tr>\n",
       "      <th>49746</th>\n",
       "      <td>SK</td>\n",
       "      <td>4319</td>\n",
       "      <td>ARN</td>\n",
       "      <td>737</td>\n",
       "      <td>GEV</td>\n",
       "      <td>715</td>\n",
       "      <td></td>\n",
       "      <td>1</td>\n",
       "      <td>ATP</td>\n",
       "    </tr>\n",
       "    <tr>\n",
       "      <th>63567</th>\n",
       "      <td>WN</td>\n",
       "      <td>4547</td>\n",
       "      <td>BOS</td>\n",
       "      <td>3448</td>\n",
       "      <td>MCO</td>\n",
       "      <td>3878</td>\n",
       "      <td></td>\n",
       "      <td>1</td>\n",
       "      <td>73W</td>\n",
       "    </tr>\n",
       "    <tr>\n",
       "      <th>64044</th>\n",
       "      <td>WN</td>\n",
       "      <td>4547</td>\n",
       "      <td>MCO</td>\n",
       "      <td>3878</td>\n",
       "      <td>BOS</td>\n",
       "      <td>3448</td>\n",
       "      <td></td>\n",
       "      <td>1</td>\n",
       "      <td>73W</td>\n",
       "    </tr>\n",
       "    <tr>\n",
       "      <th>64047</th>\n",
       "      <td>WN</td>\n",
       "      <td>4547</td>\n",
       "      <td>MCO</td>\n",
       "      <td>3878</td>\n",
       "      <td>CAK</td>\n",
       "      <td>4112</td>\n",
       "      <td></td>\n",
       "      <td>1</td>\n",
       "      <td>73C 73W</td>\n",
       "    </tr>\n",
       "  </tbody>\n",
       "</table>\n",
       "</div>"
      ],
      "text/plain": [
       "      airline  open_flights_airline_id source_airport  source_airport_id  \\\n",
       "2066      5T                      1623            YRT                132   \n",
       "7810      AC                       330            ABJ                253   \n",
       "8272      AC                       330            YVR                156   \n",
       "17767     CU                      1936            FCO               1555   \n",
       "25116     FL                      1316            HOU               3566   \n",
       "25220     FL                      1316            MCO               3878   \n",
       "25230     FL                      1316            MCO               3878   \n",
       "49746     SK                      4319            ARN                737   \n",
       "63567     WN                      4547            BOS               3448   \n",
       "64044     WN                      4547            MCO               3878   \n",
       "64047     WN                      4547            MCO               3878   \n",
       "\n",
       "      destination_airport  destination_airport_id codeshare  stops equipment  \n",
       "2066                  YEK                      50                1       ATR  \n",
       "7810                  BRU                     302                1       333  \n",
       "8272                  YBL                      30                1       BEH  \n",
       "17767                 HAV                    1909                1       767  \n",
       "25116                 SAT                    3621                1       735  \n",
       "25220                 HOU                    3566                1       73W  \n",
       "25230                 ORF                    3611                1       717  \n",
       "49746                 GEV                     715                1       ATP  \n",
       "63567                 MCO                    3878                1       73W  \n",
       "64044                 BOS                    3448                1       73W  \n",
       "64047                 CAK                    4112                1   73C 73W  "
      ]
     },
     "execution_count": 38,
     "metadata": {},
     "output_type": "execute_result"
    }
   ],
   "source": [
    "route_df[route_df['stops'] == 1]"
   ]
  },
  {
   "cell_type": "markdown",
   "metadata": {},
   "source": [
    "# Create a network graph"
   ]
  },
  {
   "cell_type": "code",
   "execution_count": 39,
   "metadata": {
    "collapsed": true
   },
   "outputs": [],
   "source": [
    "airport_basics_df = airport_df[['iata', 'city', 'country', 'latitude', 'longitude']]"
   ]
  },
  {
   "cell_type": "code",
   "execution_count": 40,
   "metadata": {
    "collapsed": true
   },
   "outputs": [],
   "source": [
    "us_airports_df = airport_basics_df[airport_basics_df['country'] == 'United States'].copy()"
   ]
  },
  {
   "cell_type": "code",
   "execution_count": 41,
   "metadata": {
    "collapsed": true
   },
   "outputs": [],
   "source": [
    "us_flights_df = route_df[['source_airport', 'destination_airport']].copy()"
   ]
  },
  {
   "cell_type": "code",
   "execution_count": 42,
   "metadata": {
    "collapsed": true
   },
   "outputs": [],
   "source": [
    "us_flights_df = (us_flights_df.merge(us_airports_df, how='inner'\n",
    "                                 , left_on='source_airport', right_on='iata')\n",
    "                 .rename(\n",
    "                    columns={'iata': 'orig_iata'\n",
    "                             , 'city': 'orig_city'\n",
    "                             , 'country': 'orig_country'\n",
    "                             , 'latitude': 'orig_lat'\n",
    "                             , 'longitude': 'orig_long'\n",
    "                            }\n",
    "                 )\n",
    "                 )"
   ]
  },
  {
   "cell_type": "code",
   "execution_count": 43,
   "metadata": {
    "collapsed": true
   },
   "outputs": [],
   "source": [
    "us_flights_df = (us_flights_df.merge(us_airports_df, how='inner'\n",
    "                                 , left_on='destination_airport', right_on='iata')\n",
    "                 .rename(\n",
    "                    columns={'iata': 'dest_iata'\n",
    "                             , 'city': 'dest_city'\n",
    "                             , 'country': 'dest_country'\n",
    "                             , 'latitude': 'dest_lat'\n",
    "                             , 'longitude': 'dest_long'\n",
    "                            }\n",
    "                 )\n",
    "                 )"
   ]
  },
  {
   "cell_type": "code",
   "execution_count": 44,
   "metadata": {},
   "outputs": [
    {
     "data": {
      "text/html": [
       "<div>\n",
       "<style>\n",
       "    .dataframe thead tr:only-child th {\n",
       "        text-align: right;\n",
       "    }\n",
       "\n",
       "    .dataframe thead th {\n",
       "        text-align: left;\n",
       "    }\n",
       "\n",
       "    .dataframe tbody tr th {\n",
       "        vertical-align: top;\n",
       "    }\n",
       "</style>\n",
       "<table border=\"1\" class=\"dataframe\">\n",
       "  <thead>\n",
       "    <tr style=\"text-align: right;\">\n",
       "      <th></th>\n",
       "      <th>source_airport</th>\n",
       "      <th>destination_airport</th>\n",
       "      <th>orig_iata</th>\n",
       "      <th>orig_city</th>\n",
       "      <th>orig_country</th>\n",
       "      <th>orig_lat</th>\n",
       "      <th>orig_long</th>\n",
       "      <th>dest_iata</th>\n",
       "      <th>dest_city</th>\n",
       "      <th>dest_country</th>\n",
       "      <th>dest_lat</th>\n",
       "      <th>dest_long</th>\n",
       "    </tr>\n",
       "  </thead>\n",
       "  <tbody>\n",
       "    <tr>\n",
       "      <th>0</th>\n",
       "      <td>ADQ</td>\n",
       "      <td>KLN</td>\n",
       "      <td>ADQ</td>\n",
       "      <td>Kodiak</td>\n",
       "      <td>United States</td>\n",
       "      <td>57.750000</td>\n",
       "      <td>-152.494003</td>\n",
       "      <td>KLN</td>\n",
       "      <td>Larsen Bay</td>\n",
       "      <td>United States</td>\n",
       "      <td>57.535099</td>\n",
       "      <td>-153.977997</td>\n",
       "    </tr>\n",
       "    <tr>\n",
       "      <th>1</th>\n",
       "      <td>ADQ</td>\n",
       "      <td>ANC</td>\n",
       "      <td>ADQ</td>\n",
       "      <td>Kodiak</td>\n",
       "      <td>United States</td>\n",
       "      <td>57.750000</td>\n",
       "      <td>-152.494003</td>\n",
       "      <td>ANC</td>\n",
       "      <td>Anchorage</td>\n",
       "      <td>United States</td>\n",
       "      <td>61.174400</td>\n",
       "      <td>-149.996002</td>\n",
       "    </tr>\n",
       "    <tr>\n",
       "      <th>2</th>\n",
       "      <td>ADQ</td>\n",
       "      <td>ANC</td>\n",
       "      <td>ADQ</td>\n",
       "      <td>Kodiak</td>\n",
       "      <td>United States</td>\n",
       "      <td>57.750000</td>\n",
       "      <td>-152.494003</td>\n",
       "      <td>ANC</td>\n",
       "      <td>Anchorage</td>\n",
       "      <td>United States</td>\n",
       "      <td>61.174400</td>\n",
       "      <td>-149.996002</td>\n",
       "    </tr>\n",
       "    <tr>\n",
       "      <th>3</th>\n",
       "      <td>ORD</td>\n",
       "      <td>ANC</td>\n",
       "      <td>ORD</td>\n",
       "      <td>Chicago</td>\n",
       "      <td>United States</td>\n",
       "      <td>41.978600</td>\n",
       "      <td>-87.904800</td>\n",
       "      <td>ANC</td>\n",
       "      <td>Anchorage</td>\n",
       "      <td>United States</td>\n",
       "      <td>61.174400</td>\n",
       "      <td>-149.996002</td>\n",
       "    </tr>\n",
       "    <tr>\n",
       "      <th>4</th>\n",
       "      <td>ORD</td>\n",
       "      <td>ANC</td>\n",
       "      <td>ORD</td>\n",
       "      <td>Chicago</td>\n",
       "      <td>United States</td>\n",
       "      <td>41.978600</td>\n",
       "      <td>-87.904800</td>\n",
       "      <td>ANC</td>\n",
       "      <td>Anchorage</td>\n",
       "      <td>United States</td>\n",
       "      <td>61.174400</td>\n",
       "      <td>-149.996002</td>\n",
       "    </tr>\n",
       "    <tr>\n",
       "      <th>5</th>\n",
       "      <td>LAS</td>\n",
       "      <td>ANC</td>\n",
       "      <td>LAS</td>\n",
       "      <td>Las Vegas</td>\n",
       "      <td>United States</td>\n",
       "      <td>36.080101</td>\n",
       "      <td>-115.152000</td>\n",
       "      <td>ANC</td>\n",
       "      <td>Anchorage</td>\n",
       "      <td>United States</td>\n",
       "      <td>61.174400</td>\n",
       "      <td>-149.996002</td>\n",
       "    </tr>\n",
       "    <tr>\n",
       "      <th>6</th>\n",
       "      <td>LAX</td>\n",
       "      <td>ANC</td>\n",
       "      <td>LAX</td>\n",
       "      <td>Los Angeles</td>\n",
       "      <td>United States</td>\n",
       "      <td>33.942501</td>\n",
       "      <td>-118.407997</td>\n",
       "      <td>ANC</td>\n",
       "      <td>Anchorage</td>\n",
       "      <td>United States</td>\n",
       "      <td>61.174400</td>\n",
       "      <td>-149.996002</td>\n",
       "    </tr>\n",
       "    <tr>\n",
       "      <th>7</th>\n",
       "      <td>LAX</td>\n",
       "      <td>ANC</td>\n",
       "      <td>LAX</td>\n",
       "      <td>Los Angeles</td>\n",
       "      <td>United States</td>\n",
       "      <td>33.942501</td>\n",
       "      <td>-118.407997</td>\n",
       "      <td>ANC</td>\n",
       "      <td>Anchorage</td>\n",
       "      <td>United States</td>\n",
       "      <td>61.174400</td>\n",
       "      <td>-149.996002</td>\n",
       "    </tr>\n",
       "    <tr>\n",
       "      <th>8</th>\n",
       "      <td>BET</td>\n",
       "      <td>ANC</td>\n",
       "      <td>BET</td>\n",
       "      <td>Bethel</td>\n",
       "      <td>United States</td>\n",
       "      <td>60.779800</td>\n",
       "      <td>-161.837997</td>\n",
       "      <td>ANC</td>\n",
       "      <td>Anchorage</td>\n",
       "      <td>United States</td>\n",
       "      <td>61.174400</td>\n",
       "      <td>-149.996002</td>\n",
       "    </tr>\n",
       "    <tr>\n",
       "      <th>9</th>\n",
       "      <td>BET</td>\n",
       "      <td>ANC</td>\n",
       "      <td>BET</td>\n",
       "      <td>Bethel</td>\n",
       "      <td>United States</td>\n",
       "      <td>60.779800</td>\n",
       "      <td>-161.837997</td>\n",
       "      <td>ANC</td>\n",
       "      <td>Anchorage</td>\n",
       "      <td>United States</td>\n",
       "      <td>61.174400</td>\n",
       "      <td>-149.996002</td>\n",
       "    </tr>\n",
       "    <tr>\n",
       "      <th>10</th>\n",
       "      <td>ANI</td>\n",
       "      <td>ANC</td>\n",
       "      <td>ANI</td>\n",
       "      <td>Aniak</td>\n",
       "      <td>United States</td>\n",
       "      <td>61.581600</td>\n",
       "      <td>-159.542999</td>\n",
       "      <td>ANC</td>\n",
       "      <td>Anchorage</td>\n",
       "      <td>United States</td>\n",
       "      <td>61.174400</td>\n",
       "      <td>-149.996002</td>\n",
       "    </tr>\n",
       "    <tr>\n",
       "      <th>11</th>\n",
       "      <td>ANI</td>\n",
       "      <td>ANC</td>\n",
       "      <td>ANI</td>\n",
       "      <td>Aniak</td>\n",
       "      <td>United States</td>\n",
       "      <td>61.581600</td>\n",
       "      <td>-159.542999</td>\n",
       "      <td>ANC</td>\n",
       "      <td>Anchorage</td>\n",
       "      <td>United States</td>\n",
       "      <td>61.174400</td>\n",
       "      <td>-149.996002</td>\n",
       "    </tr>\n",
       "    <tr>\n",
       "      <th>12</th>\n",
       "      <td>ANI</td>\n",
       "      <td>ANC</td>\n",
       "      <td>ANI</td>\n",
       "      <td>Aniak</td>\n",
       "      <td>United States</td>\n",
       "      <td>61.581600</td>\n",
       "      <td>-159.542999</td>\n",
       "      <td>ANC</td>\n",
       "      <td>Anchorage</td>\n",
       "      <td>United States</td>\n",
       "      <td>61.174400</td>\n",
       "      <td>-149.996002</td>\n",
       "    </tr>\n",
       "    <tr>\n",
       "      <th>13</th>\n",
       "      <td>BRW</td>\n",
       "      <td>ANC</td>\n",
       "      <td>BRW</td>\n",
       "      <td>Barrow</td>\n",
       "      <td>United States</td>\n",
       "      <td>71.285402</td>\n",
       "      <td>-156.766008</td>\n",
       "      <td>ANC</td>\n",
       "      <td>Anchorage</td>\n",
       "      <td>United States</td>\n",
       "      <td>61.174400</td>\n",
       "      <td>-149.996002</td>\n",
       "    </tr>\n",
       "    <tr>\n",
       "      <th>14</th>\n",
       "      <td>CDV</td>\n",
       "      <td>ANC</td>\n",
       "      <td>CDV</td>\n",
       "      <td>Cordova</td>\n",
       "      <td>United States</td>\n",
       "      <td>60.491798</td>\n",
       "      <td>-145.477997</td>\n",
       "      <td>ANC</td>\n",
       "      <td>Anchorage</td>\n",
       "      <td>United States</td>\n",
       "      <td>61.174400</td>\n",
       "      <td>-149.996002</td>\n",
       "    </tr>\n",
       "    <tr>\n",
       "      <th>15</th>\n",
       "      <td>CDV</td>\n",
       "      <td>ANC</td>\n",
       "      <td>CDV</td>\n",
       "      <td>Cordova</td>\n",
       "      <td>United States</td>\n",
       "      <td>60.491798</td>\n",
       "      <td>-145.477997</td>\n",
       "      <td>ANC</td>\n",
       "      <td>Anchorage</td>\n",
       "      <td>United States</td>\n",
       "      <td>61.174400</td>\n",
       "      <td>-149.996002</td>\n",
       "    </tr>\n",
       "    <tr>\n",
       "      <th>16</th>\n",
       "      <td>ENA</td>\n",
       "      <td>ANC</td>\n",
       "      <td>ENA</td>\n",
       "      <td>Kenai</td>\n",
       "      <td>United States</td>\n",
       "      <td>60.573101</td>\n",
       "      <td>-151.244995</td>\n",
       "      <td>ANC</td>\n",
       "      <td>Anchorage</td>\n",
       "      <td>United States</td>\n",
       "      <td>61.174400</td>\n",
       "      <td>-149.996002</td>\n",
       "    </tr>\n",
       "    <tr>\n",
       "      <th>17</th>\n",
       "      <td>ENA</td>\n",
       "      <td>ANC</td>\n",
       "      <td>ENA</td>\n",
       "      <td>Kenai</td>\n",
       "      <td>United States</td>\n",
       "      <td>60.573101</td>\n",
       "      <td>-151.244995</td>\n",
       "      <td>ANC</td>\n",
       "      <td>Anchorage</td>\n",
       "      <td>United States</td>\n",
       "      <td>61.174400</td>\n",
       "      <td>-149.996002</td>\n",
       "    </tr>\n",
       "    <tr>\n",
       "      <th>18</th>\n",
       "      <td>ENA</td>\n",
       "      <td>ANC</td>\n",
       "      <td>ENA</td>\n",
       "      <td>Kenai</td>\n",
       "      <td>United States</td>\n",
       "      <td>60.573101</td>\n",
       "      <td>-151.244995</td>\n",
       "      <td>ANC</td>\n",
       "      <td>Anchorage</td>\n",
       "      <td>United States</td>\n",
       "      <td>61.174400</td>\n",
       "      <td>-149.996002</td>\n",
       "    </tr>\n",
       "    <tr>\n",
       "      <th>19</th>\n",
       "      <td>FAI</td>\n",
       "      <td>ANC</td>\n",
       "      <td>FAI</td>\n",
       "      <td>Fairbanks</td>\n",
       "      <td>United States</td>\n",
       "      <td>64.815102</td>\n",
       "      <td>-147.856003</td>\n",
       "      <td>ANC</td>\n",
       "      <td>Anchorage</td>\n",
       "      <td>United States</td>\n",
       "      <td>61.174400</td>\n",
       "      <td>-149.996002</td>\n",
       "    </tr>\n",
       "    <tr>\n",
       "      <th>20</th>\n",
       "      <td>FAI</td>\n",
       "      <td>ANC</td>\n",
       "      <td>FAI</td>\n",
       "      <td>Fairbanks</td>\n",
       "      <td>United States</td>\n",
       "      <td>64.815102</td>\n",
       "      <td>-147.856003</td>\n",
       "      <td>ANC</td>\n",
       "      <td>Anchorage</td>\n",
       "      <td>United States</td>\n",
       "      <td>61.174400</td>\n",
       "      <td>-149.996002</td>\n",
       "    </tr>\n",
       "    <tr>\n",
       "      <th>21</th>\n",
       "      <td>HOM</td>\n",
       "      <td>ANC</td>\n",
       "      <td>HOM</td>\n",
       "      <td>Homer</td>\n",
       "      <td>United States</td>\n",
       "      <td>59.645599</td>\n",
       "      <td>-151.477005</td>\n",
       "      <td>ANC</td>\n",
       "      <td>Anchorage</td>\n",
       "      <td>United States</td>\n",
       "      <td>61.174400</td>\n",
       "      <td>-149.996002</td>\n",
       "    </tr>\n",
       "    <tr>\n",
       "      <th>22</th>\n",
       "      <td>HOM</td>\n",
       "      <td>ANC</td>\n",
       "      <td>HOM</td>\n",
       "      <td>Homer</td>\n",
       "      <td>United States</td>\n",
       "      <td>59.645599</td>\n",
       "      <td>-151.477005</td>\n",
       "      <td>ANC</td>\n",
       "      <td>Anchorage</td>\n",
       "      <td>United States</td>\n",
       "      <td>61.174400</td>\n",
       "      <td>-149.996002</td>\n",
       "    </tr>\n",
       "    <tr>\n",
       "      <th>23</th>\n",
       "      <td>KSM</td>\n",
       "      <td>ANC</td>\n",
       "      <td>KSM</td>\n",
       "      <td>St Mary's</td>\n",
       "      <td>United States</td>\n",
       "      <td>62.060501</td>\n",
       "      <td>-163.302002</td>\n",
       "      <td>ANC</td>\n",
       "      <td>Anchorage</td>\n",
       "      <td>United States</td>\n",
       "      <td>61.174400</td>\n",
       "      <td>-149.996002</td>\n",
       "    </tr>\n",
       "    <tr>\n",
       "      <th>24</th>\n",
       "      <td>KSM</td>\n",
       "      <td>ANC</td>\n",
       "      <td>KSM</td>\n",
       "      <td>St Mary's</td>\n",
       "      <td>United States</td>\n",
       "      <td>62.060501</td>\n",
       "      <td>-163.302002</td>\n",
       "      <td>ANC</td>\n",
       "      <td>Anchorage</td>\n",
       "      <td>United States</td>\n",
       "      <td>61.174400</td>\n",
       "      <td>-149.996002</td>\n",
       "    </tr>\n",
       "    <tr>\n",
       "      <th>25</th>\n",
       "      <td>OME</td>\n",
       "      <td>ANC</td>\n",
       "      <td>OME</td>\n",
       "      <td>Nome</td>\n",
       "      <td>United States</td>\n",
       "      <td>64.512199</td>\n",
       "      <td>-165.445007</td>\n",
       "      <td>ANC</td>\n",
       "      <td>Anchorage</td>\n",
       "      <td>United States</td>\n",
       "      <td>61.174400</td>\n",
       "      <td>-149.996002</td>\n",
       "    </tr>\n",
       "    <tr>\n",
       "      <th>26</th>\n",
       "      <td>OTZ</td>\n",
       "      <td>ANC</td>\n",
       "      <td>OTZ</td>\n",
       "      <td>Kotzebue</td>\n",
       "      <td>United States</td>\n",
       "      <td>66.884697</td>\n",
       "      <td>-162.598999</td>\n",
       "      <td>ANC</td>\n",
       "      <td>Anchorage</td>\n",
       "      <td>United States</td>\n",
       "      <td>61.174400</td>\n",
       "      <td>-149.996002</td>\n",
       "    </tr>\n",
       "    <tr>\n",
       "      <th>27</th>\n",
       "      <td>SCC</td>\n",
       "      <td>ANC</td>\n",
       "      <td>SCC</td>\n",
       "      <td>Deadhorse</td>\n",
       "      <td>United States</td>\n",
       "      <td>70.194702</td>\n",
       "      <td>-148.464996</td>\n",
       "      <td>ANC</td>\n",
       "      <td>Anchorage</td>\n",
       "      <td>United States</td>\n",
       "      <td>61.174400</td>\n",
       "      <td>-149.996002</td>\n",
       "    </tr>\n",
       "    <tr>\n",
       "      <th>28</th>\n",
       "      <td>UNK</td>\n",
       "      <td>ANC</td>\n",
       "      <td>UNK</td>\n",
       "      <td>Unalakleet</td>\n",
       "      <td>United States</td>\n",
       "      <td>63.888401</td>\n",
       "      <td>-160.798996</td>\n",
       "      <td>ANC</td>\n",
       "      <td>Anchorage</td>\n",
       "      <td>United States</td>\n",
       "      <td>61.174400</td>\n",
       "      <td>-149.996002</td>\n",
       "    </tr>\n",
       "    <tr>\n",
       "      <th>29</th>\n",
       "      <td>UNK</td>\n",
       "      <td>ANC</td>\n",
       "      <td>UNK</td>\n",
       "      <td>Unalakleet</td>\n",
       "      <td>United States</td>\n",
       "      <td>63.888401</td>\n",
       "      <td>-160.798996</td>\n",
       "      <td>ANC</td>\n",
       "      <td>Anchorage</td>\n",
       "      <td>United States</td>\n",
       "      <td>61.174400</td>\n",
       "      <td>-149.996002</td>\n",
       "    </tr>\n",
       "    <tr>\n",
       "      <th>...</th>\n",
       "      <td>...</td>\n",
       "      <td>...</td>\n",
       "      <td>...</td>\n",
       "      <td>...</td>\n",
       "      <td>...</td>\n",
       "      <td>...</td>\n",
       "      <td>...</td>\n",
       "      <td>...</td>\n",
       "      <td>...</td>\n",
       "      <td>...</td>\n",
       "      <td>...</td>\n",
       "      <td>...</td>\n",
       "    </tr>\n",
       "    <tr>\n",
       "      <th>10443</th>\n",
       "      <td>CDB</td>\n",
       "      <td>KVC</td>\n",
       "      <td>CDB</td>\n",
       "      <td>Cold Bay</td>\n",
       "      <td>United States</td>\n",
       "      <td>55.206100</td>\n",
       "      <td>-162.725006</td>\n",
       "      <td>KVC</td>\n",
       "      <td>King Cove</td>\n",
       "      <td>United States</td>\n",
       "      <td>55.116299</td>\n",
       "      <td>-162.266006</td>\n",
       "    </tr>\n",
       "    <tr>\n",
       "      <th>10444</th>\n",
       "      <td>CDB</td>\n",
       "      <td>NLG</td>\n",
       "      <td>CDB</td>\n",
       "      <td>Cold Bay</td>\n",
       "      <td>United States</td>\n",
       "      <td>55.206100</td>\n",
       "      <td>-162.725006</td>\n",
       "      <td>NLG</td>\n",
       "      <td>Nelson Lagoon</td>\n",
       "      <td>United States</td>\n",
       "      <td>56.007500</td>\n",
       "      <td>-161.160004</td>\n",
       "    </tr>\n",
       "    <tr>\n",
       "      <th>10445</th>\n",
       "      <td>AIA</td>\n",
       "      <td>CDR</td>\n",
       "      <td>AIA</td>\n",
       "      <td>Alliance</td>\n",
       "      <td>United States</td>\n",
       "      <td>42.053200</td>\n",
       "      <td>-102.804001</td>\n",
       "      <td>CDR</td>\n",
       "      <td>Chadron</td>\n",
       "      <td>United States</td>\n",
       "      <td>42.837601</td>\n",
       "      <td>-103.095001</td>\n",
       "    </tr>\n",
       "    <tr>\n",
       "      <th>10446</th>\n",
       "      <td>AIA</td>\n",
       "      <td>CDR</td>\n",
       "      <td>AIA</td>\n",
       "      <td>Alliance</td>\n",
       "      <td>United States</td>\n",
       "      <td>42.053200</td>\n",
       "      <td>-102.804001</td>\n",
       "      <td>CDR</td>\n",
       "      <td>Chadron</td>\n",
       "      <td>United States</td>\n",
       "      <td>42.837601</td>\n",
       "      <td>-103.095001</td>\n",
       "    </tr>\n",
       "    <tr>\n",
       "      <th>10447</th>\n",
       "      <td>AIA</td>\n",
       "      <td>CDR</td>\n",
       "      <td>AIA</td>\n",
       "      <td>Alliance</td>\n",
       "      <td>United States</td>\n",
       "      <td>42.053200</td>\n",
       "      <td>-102.804001</td>\n",
       "      <td>CDR</td>\n",
       "      <td>Chadron</td>\n",
       "      <td>United States</td>\n",
       "      <td>42.837601</td>\n",
       "      <td>-103.095001</td>\n",
       "    </tr>\n",
       "    <tr>\n",
       "      <th>10448</th>\n",
       "      <td>CYS</td>\n",
       "      <td>WRL</td>\n",
       "      <td>CYS</td>\n",
       "      <td>Cheyenne</td>\n",
       "      <td>United States</td>\n",
       "      <td>41.155701</td>\n",
       "      <td>-104.811997</td>\n",
       "      <td>WRL</td>\n",
       "      <td>Worland</td>\n",
       "      <td>United States</td>\n",
       "      <td>43.965698</td>\n",
       "      <td>-107.950996</td>\n",
       "    </tr>\n",
       "    <tr>\n",
       "      <th>10449</th>\n",
       "      <td>CYS</td>\n",
       "      <td>WRL</td>\n",
       "      <td>CYS</td>\n",
       "      <td>Cheyenne</td>\n",
       "      <td>United States</td>\n",
       "      <td>41.155701</td>\n",
       "      <td>-104.811997</td>\n",
       "      <td>WRL</td>\n",
       "      <td>Worland</td>\n",
       "      <td>United States</td>\n",
       "      <td>43.965698</td>\n",
       "      <td>-107.950996</td>\n",
       "    </tr>\n",
       "    <tr>\n",
       "      <th>10450</th>\n",
       "      <td>CYS</td>\n",
       "      <td>WRL</td>\n",
       "      <td>CYS</td>\n",
       "      <td>Cheyenne</td>\n",
       "      <td>United States</td>\n",
       "      <td>41.155701</td>\n",
       "      <td>-104.811997</td>\n",
       "      <td>WRL</td>\n",
       "      <td>Worland</td>\n",
       "      <td>United States</td>\n",
       "      <td>43.965698</td>\n",
       "      <td>-107.950996</td>\n",
       "    </tr>\n",
       "    <tr>\n",
       "      <th>10451</th>\n",
       "      <td>PGA</td>\n",
       "      <td>GCN</td>\n",
       "      <td>PGA</td>\n",
       "      <td>Page</td>\n",
       "      <td>United States</td>\n",
       "      <td>36.926102</td>\n",
       "      <td>-111.447998</td>\n",
       "      <td>GCN</td>\n",
       "      <td>Grand Canyon</td>\n",
       "      <td>United States</td>\n",
       "      <td>35.952400</td>\n",
       "      <td>-112.147003</td>\n",
       "    </tr>\n",
       "    <tr>\n",
       "      <th>10452</th>\n",
       "      <td>PIR</td>\n",
       "      <td>HON</td>\n",
       "      <td>PIR</td>\n",
       "      <td>Pierre</td>\n",
       "      <td>United States</td>\n",
       "      <td>44.382702</td>\n",
       "      <td>-100.286003</td>\n",
       "      <td>HON</td>\n",
       "      <td>Huron</td>\n",
       "      <td>United States</td>\n",
       "      <td>44.385201</td>\n",
       "      <td>-98.228500</td>\n",
       "    </tr>\n",
       "    <tr>\n",
       "      <th>10453</th>\n",
       "      <td>PIR</td>\n",
       "      <td>HON</td>\n",
       "      <td>PIR</td>\n",
       "      <td>Pierre</td>\n",
       "      <td>United States</td>\n",
       "      <td>44.382702</td>\n",
       "      <td>-100.286003</td>\n",
       "      <td>HON</td>\n",
       "      <td>Huron</td>\n",
       "      <td>United States</td>\n",
       "      <td>44.385201</td>\n",
       "      <td>-98.228500</td>\n",
       "    </tr>\n",
       "    <tr>\n",
       "      <th>10454</th>\n",
       "      <td>PIR</td>\n",
       "      <td>HON</td>\n",
       "      <td>PIR</td>\n",
       "      <td>Pierre</td>\n",
       "      <td>United States</td>\n",
       "      <td>44.382702</td>\n",
       "      <td>-100.286003</td>\n",
       "      <td>HON</td>\n",
       "      <td>Huron</td>\n",
       "      <td>United States</td>\n",
       "      <td>44.385201</td>\n",
       "      <td>-98.228500</td>\n",
       "    </tr>\n",
       "    <tr>\n",
       "      <th>10455</th>\n",
       "      <td>TTN</td>\n",
       "      <td>UST</td>\n",
       "      <td>TTN</td>\n",
       "      <td>Trenton</td>\n",
       "      <td>United States</td>\n",
       "      <td>40.276699</td>\n",
       "      <td>-74.813499</td>\n",
       "      <td>UST</td>\n",
       "      <td>St. Augustine Airport</td>\n",
       "      <td>United States</td>\n",
       "      <td>29.959200</td>\n",
       "      <td>-81.339798</td>\n",
       "    </tr>\n",
       "    <tr>\n",
       "      <th>10456</th>\n",
       "      <td>SFB</td>\n",
       "      <td>BLV</td>\n",
       "      <td>SFB</td>\n",
       "      <td>Sanford</td>\n",
       "      <td>United States</td>\n",
       "      <td>28.777599</td>\n",
       "      <td>-81.237503</td>\n",
       "      <td>BLV</td>\n",
       "      <td>Belleville</td>\n",
       "      <td>United States</td>\n",
       "      <td>38.545200</td>\n",
       "      <td>-89.835197</td>\n",
       "    </tr>\n",
       "    <tr>\n",
       "      <th>10457</th>\n",
       "      <td>SFB</td>\n",
       "      <td>CKB</td>\n",
       "      <td>SFB</td>\n",
       "      <td>Sanford</td>\n",
       "      <td>United States</td>\n",
       "      <td>28.777599</td>\n",
       "      <td>-81.237503</td>\n",
       "      <td>CKB</td>\n",
       "      <td>Clarksburg</td>\n",
       "      <td>United States</td>\n",
       "      <td>39.296600</td>\n",
       "      <td>-80.228104</td>\n",
       "    </tr>\n",
       "    <tr>\n",
       "      <th>10458</th>\n",
       "      <td>MGW</td>\n",
       "      <td>CKB</td>\n",
       "      <td>MGW</td>\n",
       "      <td>Morgantown</td>\n",
       "      <td>United States</td>\n",
       "      <td>39.642899</td>\n",
       "      <td>-79.916298</td>\n",
       "      <td>CKB</td>\n",
       "      <td>Clarksburg</td>\n",
       "      <td>United States</td>\n",
       "      <td>39.296600</td>\n",
       "      <td>-80.228104</td>\n",
       "    </tr>\n",
       "    <tr>\n",
       "      <th>10459</th>\n",
       "      <td>SFB</td>\n",
       "      <td>LCK</td>\n",
       "      <td>SFB</td>\n",
       "      <td>Sanford</td>\n",
       "      <td>United States</td>\n",
       "      <td>28.777599</td>\n",
       "      <td>-81.237503</td>\n",
       "      <td>LCK</td>\n",
       "      <td>Columbus</td>\n",
       "      <td>United States</td>\n",
       "      <td>39.813801</td>\n",
       "      <td>-82.927803</td>\n",
       "    </tr>\n",
       "    <tr>\n",
       "      <th>10460</th>\n",
       "      <td>PIE</td>\n",
       "      <td>LCK</td>\n",
       "      <td>PIE</td>\n",
       "      <td>St. Petersburg</td>\n",
       "      <td>United States</td>\n",
       "      <td>27.910200</td>\n",
       "      <td>-82.687401</td>\n",
       "      <td>LCK</td>\n",
       "      <td>Columbus</td>\n",
       "      <td>United States</td>\n",
       "      <td>39.813801</td>\n",
       "      <td>-82.927803</td>\n",
       "    </tr>\n",
       "    <tr>\n",
       "      <th>10461</th>\n",
       "      <td>SFB</td>\n",
       "      <td>PSM</td>\n",
       "      <td>SFB</td>\n",
       "      <td>Sanford</td>\n",
       "      <td>United States</td>\n",
       "      <td>28.777599</td>\n",
       "      <td>-81.237503</td>\n",
       "      <td>PSM</td>\n",
       "      <td>Portsmouth</td>\n",
       "      <td>United States</td>\n",
       "      <td>43.077900</td>\n",
       "      <td>-70.823303</td>\n",
       "    </tr>\n",
       "    <tr>\n",
       "      <th>10462</th>\n",
       "      <td>AZA</td>\n",
       "      <td>OGD</td>\n",
       "      <td>AZA</td>\n",
       "      <td>Mesa</td>\n",
       "      <td>United States</td>\n",
       "      <td>33.307800</td>\n",
       "      <td>-111.654999</td>\n",
       "      <td>OGD</td>\n",
       "      <td>Ogden</td>\n",
       "      <td>United States</td>\n",
       "      <td>41.195900</td>\n",
       "      <td>-112.012001</td>\n",
       "    </tr>\n",
       "    <tr>\n",
       "      <th>10463</th>\n",
       "      <td>AKB</td>\n",
       "      <td>DUT</td>\n",
       "      <td>AKB</td>\n",
       "      <td>Atka</td>\n",
       "      <td>United States</td>\n",
       "      <td>52.220299</td>\n",
       "      <td>-174.205994</td>\n",
       "      <td>DUT</td>\n",
       "      <td>Unalaska</td>\n",
       "      <td>United States</td>\n",
       "      <td>53.900101</td>\n",
       "      <td>-166.544006</td>\n",
       "    </tr>\n",
       "    <tr>\n",
       "      <th>10464</th>\n",
       "      <td>KQA</td>\n",
       "      <td>DUT</td>\n",
       "      <td>KQA</td>\n",
       "      <td>Akutan</td>\n",
       "      <td>United States</td>\n",
       "      <td>54.133770</td>\n",
       "      <td>-165.778896</td>\n",
       "      <td>DUT</td>\n",
       "      <td>Unalaska</td>\n",
       "      <td>United States</td>\n",
       "      <td>53.900101</td>\n",
       "      <td>-166.544006</td>\n",
       "    </tr>\n",
       "    <tr>\n",
       "      <th>10465</th>\n",
       "      <td>DUT</td>\n",
       "      <td>AKB</td>\n",
       "      <td>DUT</td>\n",
       "      <td>Unalaska</td>\n",
       "      <td>United States</td>\n",
       "      <td>53.900101</td>\n",
       "      <td>-166.544006</td>\n",
       "      <td>AKB</td>\n",
       "      <td>Atka</td>\n",
       "      <td>United States</td>\n",
       "      <td>52.220299</td>\n",
       "      <td>-174.205994</td>\n",
       "    </tr>\n",
       "    <tr>\n",
       "      <th>10466</th>\n",
       "      <td>DUT</td>\n",
       "      <td>KQA</td>\n",
       "      <td>DUT</td>\n",
       "      <td>Unalaska</td>\n",
       "      <td>United States</td>\n",
       "      <td>53.900101</td>\n",
       "      <td>-166.544006</td>\n",
       "      <td>KQA</td>\n",
       "      <td>Akutan</td>\n",
       "      <td>United States</td>\n",
       "      <td>54.133770</td>\n",
       "      <td>-165.778896</td>\n",
       "    </tr>\n",
       "    <tr>\n",
       "      <th>10467</th>\n",
       "      <td>WSN</td>\n",
       "      <td>EGX</td>\n",
       "      <td>WSN</td>\n",
       "      <td>South Naknek</td>\n",
       "      <td>United States</td>\n",
       "      <td>58.703400</td>\n",
       "      <td>-157.007996</td>\n",
       "      <td>EGX</td>\n",
       "      <td>Egegik</td>\n",
       "      <td>United States</td>\n",
       "      <td>58.185501</td>\n",
       "      <td>-157.375000</td>\n",
       "    </tr>\n",
       "    <tr>\n",
       "      <th>10468</th>\n",
       "      <td>BFI</td>\n",
       "      <td>CLM</td>\n",
       "      <td>BFI</td>\n",
       "      <td>Seattle</td>\n",
       "      <td>United States</td>\n",
       "      <td>47.529999</td>\n",
       "      <td>-122.302002</td>\n",
       "      <td>CLM</td>\n",
       "      <td>Port Angeles</td>\n",
       "      <td>United States</td>\n",
       "      <td>48.120201</td>\n",
       "      <td>-123.500000</td>\n",
       "    </tr>\n",
       "    <tr>\n",
       "      <th>10469</th>\n",
       "      <td>BFI</td>\n",
       "      <td>ESD</td>\n",
       "      <td>BFI</td>\n",
       "      <td>Seattle</td>\n",
       "      <td>United States</td>\n",
       "      <td>47.529999</td>\n",
       "      <td>-122.302002</td>\n",
       "      <td>ESD</td>\n",
       "      <td>Eastsound</td>\n",
       "      <td>United States</td>\n",
       "      <td>48.708199</td>\n",
       "      <td>-122.910004</td>\n",
       "    </tr>\n",
       "    <tr>\n",
       "      <th>10470</th>\n",
       "      <td>CLM</td>\n",
       "      <td>BFI</td>\n",
       "      <td>CLM</td>\n",
       "      <td>Port Angeles</td>\n",
       "      <td>United States</td>\n",
       "      <td>48.120201</td>\n",
       "      <td>-123.500000</td>\n",
       "      <td>BFI</td>\n",
       "      <td>Seattle</td>\n",
       "      <td>United States</td>\n",
       "      <td>47.529999</td>\n",
       "      <td>-122.302002</td>\n",
       "    </tr>\n",
       "    <tr>\n",
       "      <th>10471</th>\n",
       "      <td>FRD</td>\n",
       "      <td>BFI</td>\n",
       "      <td>FRD</td>\n",
       "      <td>Friday Harbor</td>\n",
       "      <td>United States</td>\n",
       "      <td>48.521999</td>\n",
       "      <td>-123.024002</td>\n",
       "      <td>BFI</td>\n",
       "      <td>Seattle</td>\n",
       "      <td>United States</td>\n",
       "      <td>47.529999</td>\n",
       "      <td>-122.302002</td>\n",
       "    </tr>\n",
       "    <tr>\n",
       "      <th>10472</th>\n",
       "      <td>ESD</td>\n",
       "      <td>FRD</td>\n",
       "      <td>ESD</td>\n",
       "      <td>Eastsound</td>\n",
       "      <td>United States</td>\n",
       "      <td>48.708199</td>\n",
       "      <td>-122.910004</td>\n",
       "      <td>FRD</td>\n",
       "      <td>Friday Harbor</td>\n",
       "      <td>United States</td>\n",
       "      <td>48.521999</td>\n",
       "      <td>-123.024002</td>\n",
       "    </tr>\n",
       "  </tbody>\n",
       "</table>\n",
       "<p>10473 rows × 12 columns</p>\n",
       "</div>"
      ],
      "text/plain": [
       "      source_airport destination_airport orig_iata       orig_city  \\\n",
       "0                ADQ                 KLN       ADQ          Kodiak   \n",
       "1                ADQ                 ANC       ADQ          Kodiak   \n",
       "2                ADQ                 ANC       ADQ          Kodiak   \n",
       "3                ORD                 ANC       ORD         Chicago   \n",
       "4                ORD                 ANC       ORD         Chicago   \n",
       "5                LAS                 ANC       LAS       Las Vegas   \n",
       "6                LAX                 ANC       LAX     Los Angeles   \n",
       "7                LAX                 ANC       LAX     Los Angeles   \n",
       "8                BET                 ANC       BET          Bethel   \n",
       "9                BET                 ANC       BET          Bethel   \n",
       "10               ANI                 ANC       ANI           Aniak   \n",
       "11               ANI                 ANC       ANI           Aniak   \n",
       "12               ANI                 ANC       ANI           Aniak   \n",
       "13               BRW                 ANC       BRW          Barrow   \n",
       "14               CDV                 ANC       CDV         Cordova   \n",
       "15               CDV                 ANC       CDV         Cordova   \n",
       "16               ENA                 ANC       ENA           Kenai   \n",
       "17               ENA                 ANC       ENA           Kenai   \n",
       "18               ENA                 ANC       ENA           Kenai   \n",
       "19               FAI                 ANC       FAI       Fairbanks   \n",
       "20               FAI                 ANC       FAI       Fairbanks   \n",
       "21               HOM                 ANC       HOM           Homer   \n",
       "22               HOM                 ANC       HOM           Homer   \n",
       "23               KSM                 ANC       KSM       St Mary's   \n",
       "24               KSM                 ANC       KSM       St Mary's   \n",
       "25               OME                 ANC       OME            Nome   \n",
       "26               OTZ                 ANC       OTZ        Kotzebue   \n",
       "27               SCC                 ANC       SCC       Deadhorse   \n",
       "28               UNK                 ANC       UNK      Unalakleet   \n",
       "29               UNK                 ANC       UNK      Unalakleet   \n",
       "...              ...                 ...       ...             ...   \n",
       "10443            CDB                 KVC       CDB        Cold Bay   \n",
       "10444            CDB                 NLG       CDB        Cold Bay   \n",
       "10445            AIA                 CDR       AIA        Alliance   \n",
       "10446            AIA                 CDR       AIA        Alliance   \n",
       "10447            AIA                 CDR       AIA        Alliance   \n",
       "10448            CYS                 WRL       CYS        Cheyenne   \n",
       "10449            CYS                 WRL       CYS        Cheyenne   \n",
       "10450            CYS                 WRL       CYS        Cheyenne   \n",
       "10451            PGA                 GCN       PGA            Page   \n",
       "10452            PIR                 HON       PIR          Pierre   \n",
       "10453            PIR                 HON       PIR          Pierre   \n",
       "10454            PIR                 HON       PIR          Pierre   \n",
       "10455            TTN                 UST       TTN         Trenton   \n",
       "10456            SFB                 BLV       SFB         Sanford   \n",
       "10457            SFB                 CKB       SFB         Sanford   \n",
       "10458            MGW                 CKB       MGW      Morgantown   \n",
       "10459            SFB                 LCK       SFB         Sanford   \n",
       "10460            PIE                 LCK       PIE  St. Petersburg   \n",
       "10461            SFB                 PSM       SFB         Sanford   \n",
       "10462            AZA                 OGD       AZA            Mesa   \n",
       "10463            AKB                 DUT       AKB            Atka   \n",
       "10464            KQA                 DUT       KQA          Akutan   \n",
       "10465            DUT                 AKB       DUT        Unalaska   \n",
       "10466            DUT                 KQA       DUT        Unalaska   \n",
       "10467            WSN                 EGX       WSN    South Naknek   \n",
       "10468            BFI                 CLM       BFI         Seattle   \n",
       "10469            BFI                 ESD       BFI         Seattle   \n",
       "10470            CLM                 BFI       CLM    Port Angeles   \n",
       "10471            FRD                 BFI       FRD   Friday Harbor   \n",
       "10472            ESD                 FRD       ESD       Eastsound   \n",
       "\n",
       "        orig_country   orig_lat   orig_long dest_iata              dest_city  \\\n",
       "0      United States  57.750000 -152.494003       KLN             Larsen Bay   \n",
       "1      United States  57.750000 -152.494003       ANC              Anchorage   \n",
       "2      United States  57.750000 -152.494003       ANC              Anchorage   \n",
       "3      United States  41.978600  -87.904800       ANC              Anchorage   \n",
       "4      United States  41.978600  -87.904800       ANC              Anchorage   \n",
       "5      United States  36.080101 -115.152000       ANC              Anchorage   \n",
       "6      United States  33.942501 -118.407997       ANC              Anchorage   \n",
       "7      United States  33.942501 -118.407997       ANC              Anchorage   \n",
       "8      United States  60.779800 -161.837997       ANC              Anchorage   \n",
       "9      United States  60.779800 -161.837997       ANC              Anchorage   \n",
       "10     United States  61.581600 -159.542999       ANC              Anchorage   \n",
       "11     United States  61.581600 -159.542999       ANC              Anchorage   \n",
       "12     United States  61.581600 -159.542999       ANC              Anchorage   \n",
       "13     United States  71.285402 -156.766008       ANC              Anchorage   \n",
       "14     United States  60.491798 -145.477997       ANC              Anchorage   \n",
       "15     United States  60.491798 -145.477997       ANC              Anchorage   \n",
       "16     United States  60.573101 -151.244995       ANC              Anchorage   \n",
       "17     United States  60.573101 -151.244995       ANC              Anchorage   \n",
       "18     United States  60.573101 -151.244995       ANC              Anchorage   \n",
       "19     United States  64.815102 -147.856003       ANC              Anchorage   \n",
       "20     United States  64.815102 -147.856003       ANC              Anchorage   \n",
       "21     United States  59.645599 -151.477005       ANC              Anchorage   \n",
       "22     United States  59.645599 -151.477005       ANC              Anchorage   \n",
       "23     United States  62.060501 -163.302002       ANC              Anchorage   \n",
       "24     United States  62.060501 -163.302002       ANC              Anchorage   \n",
       "25     United States  64.512199 -165.445007       ANC              Anchorage   \n",
       "26     United States  66.884697 -162.598999       ANC              Anchorage   \n",
       "27     United States  70.194702 -148.464996       ANC              Anchorage   \n",
       "28     United States  63.888401 -160.798996       ANC              Anchorage   \n",
       "29     United States  63.888401 -160.798996       ANC              Anchorage   \n",
       "...              ...        ...         ...       ...                    ...   \n",
       "10443  United States  55.206100 -162.725006       KVC              King Cove   \n",
       "10444  United States  55.206100 -162.725006       NLG          Nelson Lagoon   \n",
       "10445  United States  42.053200 -102.804001       CDR                Chadron   \n",
       "10446  United States  42.053200 -102.804001       CDR                Chadron   \n",
       "10447  United States  42.053200 -102.804001       CDR                Chadron   \n",
       "10448  United States  41.155701 -104.811997       WRL                Worland   \n",
       "10449  United States  41.155701 -104.811997       WRL                Worland   \n",
       "10450  United States  41.155701 -104.811997       WRL                Worland   \n",
       "10451  United States  36.926102 -111.447998       GCN           Grand Canyon   \n",
       "10452  United States  44.382702 -100.286003       HON                  Huron   \n",
       "10453  United States  44.382702 -100.286003       HON                  Huron   \n",
       "10454  United States  44.382702 -100.286003       HON                  Huron   \n",
       "10455  United States  40.276699  -74.813499       UST  St. Augustine Airport   \n",
       "10456  United States  28.777599  -81.237503       BLV             Belleville   \n",
       "10457  United States  28.777599  -81.237503       CKB             Clarksburg   \n",
       "10458  United States  39.642899  -79.916298       CKB             Clarksburg   \n",
       "10459  United States  28.777599  -81.237503       LCK               Columbus   \n",
       "10460  United States  27.910200  -82.687401       LCK               Columbus   \n",
       "10461  United States  28.777599  -81.237503       PSM             Portsmouth   \n",
       "10462  United States  33.307800 -111.654999       OGD                  Ogden   \n",
       "10463  United States  52.220299 -174.205994       DUT               Unalaska   \n",
       "10464  United States  54.133770 -165.778896       DUT               Unalaska   \n",
       "10465  United States  53.900101 -166.544006       AKB                   Atka   \n",
       "10466  United States  53.900101 -166.544006       KQA                 Akutan   \n",
       "10467  United States  58.703400 -157.007996       EGX                 Egegik   \n",
       "10468  United States  47.529999 -122.302002       CLM           Port Angeles   \n",
       "10469  United States  47.529999 -122.302002       ESD              Eastsound   \n",
       "10470  United States  48.120201 -123.500000       BFI                Seattle   \n",
       "10471  United States  48.521999 -123.024002       BFI                Seattle   \n",
       "10472  United States  48.708199 -122.910004       FRD          Friday Harbor   \n",
       "\n",
       "        dest_country   dest_lat   dest_long  \n",
       "0      United States  57.535099 -153.977997  \n",
       "1      United States  61.174400 -149.996002  \n",
       "2      United States  61.174400 -149.996002  \n",
       "3      United States  61.174400 -149.996002  \n",
       "4      United States  61.174400 -149.996002  \n",
       "5      United States  61.174400 -149.996002  \n",
       "6      United States  61.174400 -149.996002  \n",
       "7      United States  61.174400 -149.996002  \n",
       "8      United States  61.174400 -149.996002  \n",
       "9      United States  61.174400 -149.996002  \n",
       "10     United States  61.174400 -149.996002  \n",
       "11     United States  61.174400 -149.996002  \n",
       "12     United States  61.174400 -149.996002  \n",
       "13     United States  61.174400 -149.996002  \n",
       "14     United States  61.174400 -149.996002  \n",
       "15     United States  61.174400 -149.996002  \n",
       "16     United States  61.174400 -149.996002  \n",
       "17     United States  61.174400 -149.996002  \n",
       "18     United States  61.174400 -149.996002  \n",
       "19     United States  61.174400 -149.996002  \n",
       "20     United States  61.174400 -149.996002  \n",
       "21     United States  61.174400 -149.996002  \n",
       "22     United States  61.174400 -149.996002  \n",
       "23     United States  61.174400 -149.996002  \n",
       "24     United States  61.174400 -149.996002  \n",
       "25     United States  61.174400 -149.996002  \n",
       "26     United States  61.174400 -149.996002  \n",
       "27     United States  61.174400 -149.996002  \n",
       "28     United States  61.174400 -149.996002  \n",
       "29     United States  61.174400 -149.996002  \n",
       "...              ...        ...         ...  \n",
       "10443  United States  55.116299 -162.266006  \n",
       "10444  United States  56.007500 -161.160004  \n",
       "10445  United States  42.837601 -103.095001  \n",
       "10446  United States  42.837601 -103.095001  \n",
       "10447  United States  42.837601 -103.095001  \n",
       "10448  United States  43.965698 -107.950996  \n",
       "10449  United States  43.965698 -107.950996  \n",
       "10450  United States  43.965698 -107.950996  \n",
       "10451  United States  35.952400 -112.147003  \n",
       "10452  United States  44.385201  -98.228500  \n",
       "10453  United States  44.385201  -98.228500  \n",
       "10454  United States  44.385201  -98.228500  \n",
       "10455  United States  29.959200  -81.339798  \n",
       "10456  United States  38.545200  -89.835197  \n",
       "10457  United States  39.296600  -80.228104  \n",
       "10458  United States  39.296600  -80.228104  \n",
       "10459  United States  39.813801  -82.927803  \n",
       "10460  United States  39.813801  -82.927803  \n",
       "10461  United States  43.077900  -70.823303  \n",
       "10462  United States  41.195900 -112.012001  \n",
       "10463  United States  53.900101 -166.544006  \n",
       "10464  United States  53.900101 -166.544006  \n",
       "10465  United States  52.220299 -174.205994  \n",
       "10466  United States  54.133770 -165.778896  \n",
       "10467  United States  58.185501 -157.375000  \n",
       "10468  United States  48.120201 -123.500000  \n",
       "10469  United States  48.708199 -122.910004  \n",
       "10470  United States  47.529999 -122.302002  \n",
       "10471  United States  47.529999 -122.302002  \n",
       "10472  United States  48.521999 -123.024002  \n",
       "\n",
       "[10473 rows x 12 columns]"
      ]
     },
     "execution_count": 44,
     "metadata": {},
     "output_type": "execute_result"
    }
   ],
   "source": [
    "us_flights_df"
   ]
  },
  {
   "cell_type": "markdown",
   "metadata": {},
   "source": [
    "<hr style=\"height:5px;color:black\"/>"
   ]
  },
  {
   "cell_type": "markdown",
   "metadata": {},
   "source": [
    "# Require that each airport appears as both source and destination"
   ]
  },
  {
   "cell_type": "code",
   "execution_count": 48,
   "metadata": {
    "collapsed": true
   },
   "outputs": [],
   "source": [
    "orig_airports = us_flights_df['orig_iata'].unique()"
   ]
  },
  {
   "cell_type": "code",
   "execution_count": 49,
   "metadata": {
    "collapsed": true
   },
   "outputs": [],
   "source": [
    "dest_airports = us_flights_df['dest_iata'].unique()"
   ]
  },
  {
   "cell_type": "code",
   "execution_count": 50,
   "metadata": {
    "collapsed": true
   },
   "outputs": [],
   "source": [
    "us_flights_mask = ((us_flights_df['orig_iata'].isin(dest_airports))\n",
    "                   & (us_flights_df['dest_iata'].isin(orig_airports))\n",
    "                  )"
   ]
  },
  {
   "cell_type": "code",
   "execution_count": 51,
   "metadata": {
    "collapsed": true
   },
   "outputs": [],
   "source": [
    "us_flights2_df = us_flights_df[us_flights_mask].copy()"
   ]
  },
  {
   "cell_type": "code",
   "execution_count": 52,
   "metadata": {},
   "outputs": [
    {
     "data": {
      "text/plain": [
       "10457"
      ]
     },
     "execution_count": 52,
     "metadata": {},
     "output_type": "execute_result"
    }
   ],
   "source": [
    "us_flights2_df.shape[0]"
   ]
  },
  {
   "cell_type": "code",
   "execution_count": 53,
   "metadata": {},
   "outputs": [
    {
     "name": "stdout",
     "output_type": "stream",
     "text": [
      "The filtered US flights dataframe as 99.85% of the original\n"
     ]
    }
   ],
   "source": [
    "print(f'The filtered US flights dataframe as {100.0 * us_flights2_df.shape[0] / us_flights_df.shape[0]:.2f}% of the original')"
   ]
  },
  {
   "cell_type": "code",
   "execution_count": 54,
   "metadata": {
    "collapsed": true
   },
   "outputs": [],
   "source": [
    "us_flights2_df['dist'] = us_flights2_df.apply(\n",
    "    lambda row: geo_dist(row['orig_lat'], row['orig_long'], row['dest_lat'], row['dest_long'])\n",
    "    , axis=1)"
   ]
  },
  {
   "cell_type": "code",
   "execution_count": 55,
   "metadata": {
    "scrolled": true
   },
   "outputs": [
    {
     "data": {
      "text/html": [
       "<div>\n",
       "<style>\n",
       "    .dataframe thead tr:only-child th {\n",
       "        text-align: right;\n",
       "    }\n",
       "\n",
       "    .dataframe thead th {\n",
       "        text-align: left;\n",
       "    }\n",
       "\n",
       "    .dataframe tbody tr th {\n",
       "        vertical-align: top;\n",
       "    }\n",
       "</style>\n",
       "<table border=\"1\" class=\"dataframe\">\n",
       "  <thead>\n",
       "    <tr style=\"text-align: right;\">\n",
       "      <th></th>\n",
       "      <th>source_airport</th>\n",
       "      <th>destination_airport</th>\n",
       "      <th>orig_iata</th>\n",
       "      <th>orig_city</th>\n",
       "      <th>orig_country</th>\n",
       "      <th>orig_lat</th>\n",
       "      <th>orig_long</th>\n",
       "      <th>dest_iata</th>\n",
       "      <th>dest_city</th>\n",
       "      <th>dest_country</th>\n",
       "      <th>dest_lat</th>\n",
       "      <th>dest_long</th>\n",
       "      <th>dist</th>\n",
       "    </tr>\n",
       "  </thead>\n",
       "  <tbody>\n",
       "    <tr>\n",
       "      <th>4203</th>\n",
       "      <td>HNL</td>\n",
       "      <td>JFK</td>\n",
       "      <td>HNL</td>\n",
       "      <td>Honolulu</td>\n",
       "      <td>United States</td>\n",
       "      <td>21.318701</td>\n",
       "      <td>-157.921997</td>\n",
       "      <td>JFK</td>\n",
       "      <td>New York</td>\n",
       "      <td>United States</td>\n",
       "      <td>40.639801</td>\n",
       "      <td>-73.778900</td>\n",
       "      <td>8009.206436</td>\n",
       "    </tr>\n",
       "    <tr>\n",
       "      <th>8249</th>\n",
       "      <td>JFK</td>\n",
       "      <td>HNL</td>\n",
       "      <td>JFK</td>\n",
       "      <td>New York</td>\n",
       "      <td>United States</td>\n",
       "      <td>40.639801</td>\n",
       "      <td>-73.778900</td>\n",
       "      <td>HNL</td>\n",
       "      <td>Honolulu</td>\n",
       "      <td>United States</td>\n",
       "      <td>21.318701</td>\n",
       "      <td>-157.921997</td>\n",
       "      <td>8009.206436</td>\n",
       "    </tr>\n",
       "  </tbody>\n",
       "</table>\n",
       "</div>"
      ],
      "text/plain": [
       "     source_airport destination_airport orig_iata orig_city   orig_country  \\\n",
       "4203            HNL                 JFK       HNL  Honolulu  United States   \n",
       "8249            JFK                 HNL       JFK  New York  United States   \n",
       "\n",
       "       orig_lat   orig_long dest_iata dest_city   dest_country   dest_lat  \\\n",
       "4203  21.318701 -157.921997       JFK  New York  United States  40.639801   \n",
       "8249  40.639801  -73.778900       HNL  Honolulu  United States  21.318701   \n",
       "\n",
       "       dest_long         dist  \n",
       "4203  -73.778900  8009.206436  \n",
       "8249 -157.921997  8009.206436  "
      ]
     },
     "execution_count": 55,
     "metadata": {},
     "output_type": "execute_result"
    }
   ],
   "source": [
    "us_flights2_df[us_flights2_df['dist'] > 8000]"
   ]
  },
  {
   "cell_type": "code",
   "execution_count": 56,
   "metadata": {},
   "outputs": [
    {
     "name": "stdout",
     "output_type": "stream",
     "text": [
      "Routes longer than 0K km: 10457\n",
      "Routes longer than 1K km: 5259\n",
      "Routes longer than 2K km: 1821\n",
      "Routes longer than 3K km: 858\n",
      "Routes longer than 4K km: 244\n",
      "Routes longer than 5K km: 31\n",
      "Routes longer than 6K km: 19\n",
      "Routes longer than 7K km: 9\n",
      "Routes longer than 8K km: 2\n"
     ]
    }
   ],
   "source": [
    "for k in range(0, 9):\n",
    "    long_count = us_flights2_df[us_flights2_df['dist'] > k * 1000].shape[0]\n",
    "    print(f'Routes longer than {k}K km: {long_count}')"
   ]
  },
  {
   "cell_type": "markdown",
   "metadata": {},
   "source": [
    "# Create network graph from routes"
   ]
  },
  {
   "cell_type": "code",
   "execution_count": 57,
   "metadata": {
    "collapsed": true
   },
   "outputs": [],
   "source": [
    "G = nx.from_pandas_dataframe(us_flights2_df, 'orig_iata', 'dest_iata', edge_attr='dist'\n",
    "                            ,create_using=nx.DiGraph())"
   ]
  },
  {
   "cell_type": "code",
   "execution_count": 58,
   "metadata": {
    "collapsed": true
   },
   "outputs": [],
   "source": [
    "G.add_weighted_edges_from((row[1]['orig_iata'], row[1]['dest_iata'], row[1]['dist'])\n",
    "                          for row in us_flights2_df.iterrows())"
   ]
  },
  {
   "cell_type": "code",
   "execution_count": 59,
   "metadata": {},
   "outputs": [
    {
     "data": {
      "text/plain": [
       "10.307251908396946"
      ]
     },
     "execution_count": 59,
     "metadata": {},
     "output_type": "execute_result"
    }
   ],
   "source": [
    "us_out_degrees = [G.out_degree(node) for node in G.nodes()]\n",
    "np.mean(us_out_degrees)"
   ]
  },
  {
   "cell_type": "code",
   "execution_count": 60,
   "metadata": {},
   "outputs": [
    {
     "data": {
      "text/plain": [
       "10.307251908396946"
      ]
     },
     "execution_count": 60,
     "metadata": {},
     "output_type": "execute_result"
    }
   ],
   "source": [
    "us_in_degrees = [G.in_degree(node) for node in G.nodes()]\n",
    "np.mean(us_in_degrees)"
   ]
  },
  {
   "cell_type": "code",
   "execution_count": 61,
   "metadata": {
    "collapsed": true
   },
   "outputs": [],
   "source": [
    "pageranks = nx.pagerank(G)"
   ]
  },
  {
   "cell_type": "code",
   "execution_count": 63,
   "metadata": {},
   "outputs": [
    {
     "data": {
      "text/plain": [
       "524"
      ]
     },
     "execution_count": 63,
     "metadata": {},
     "output_type": "execute_result"
    }
   ],
   "source": [
    "len(G.nodes())"
   ]
  },
  {
   "cell_type": "code",
   "execution_count": 64,
   "metadata": {},
   "outputs": [
    {
     "data": {
      "text/plain": [
       "[('DEN', '0.0286'),\n",
       " ('LAS', '0.0244'),\n",
       " ('DFW', '0.0224'),\n",
       " ('ORD', '0.0223'),\n",
       " ('ATL', '0.0220'),\n",
       " ('SEA', '0.0208'),\n",
       " ('ANC', '0.0207'),\n",
       " ('LAX', '0.0200')]"
      ]
     },
     "execution_count": 64,
     "metadata": {},
     "output_type": "execute_result"
    }
   ],
   "source": [
    "top_pageranks = sorted([node for node in pageranks if pageranks[node] > 0.02], key=lambda node: -pageranks[node])\n",
    "[(node, f'{pageranks[node]:.4f}') for node in top_pageranks]"
   ]
  },
  {
   "cell_type": "code",
   "execution_count": 66,
   "metadata": {
    "collapsed": true
   },
   "outputs": [],
   "source": [
    "# DEN=Denver; LAS=Los Vegas; DFW=Dallas/Ft Wordth;\n",
    "# ORD=O'Hare; ATL=Atlanta; SEA=Seattle;\n",
    "# ANC=Anchorage; LAX=L.A."
   ]
  },
  {
   "cell_type": "markdown",
   "metadata": {},
   "source": [
    "<hr style=\"height:5px;color:black\"/>"
   ]
  },
  {
   "cell_type": "markdown",
   "metadata": {},
   "source": [
    "# Q: Is the Air Travel Network weakly connected?"
   ]
  },
  {
   "cell_type": "code",
   "execution_count": 67,
   "metadata": {},
   "outputs": [
    {
     "data": {
      "text/plain": [
       "False"
      ]
     },
     "execution_count": 67,
     "metadata": {},
     "output_type": "execute_result"
    }
   ],
   "source": [
    "nx.is_weakly_connected(G)"
   ]
  },
  {
   "cell_type": "code",
   "execution_count": 68,
   "metadata": {
    "scrolled": true
   },
   "outputs": [
    {
     "data": {
      "text/plain": [
       "3"
      ]
     },
     "execution_count": 68,
     "metadata": {},
     "output_type": "execute_result"
    }
   ],
   "source": [
    "nx.number_weakly_connected_components(G)"
   ]
  },
  {
   "cell_type": "markdown",
   "metadata": {},
   "source": [
    "* **Answer:** No, it's not weakly connected."
   ]
  },
  {
   "cell_type": "code",
   "execution_count": 69,
   "metadata": {
    "collapsed": true
   },
   "outputs": [],
   "source": [
    "wccs = [wcc for wcc in nx.weakly_connected_components(G)]"
   ]
  },
  {
   "cell_type": "code",
   "execution_count": 70,
   "metadata": {
    "scrolled": true
   },
   "outputs": [
    {
     "data": {
      "text/plain": [
       "[517, 3, 4]"
      ]
     },
     "execution_count": 70,
     "metadata": {},
     "output_type": "execute_result"
    }
   ],
   "source": [
    "wcc_sizes = [len(wcc) for wcc in wccs]\n",
    "wcc_sizes"
   ]
  },
  {
   "cell_type": "code",
   "execution_count": 71,
   "metadata": {
    "scrolled": true
   },
   "outputs": [
    {
     "data": {
      "text/plain": [
       "{'AKB', 'DUT', 'KQA'}"
      ]
     },
     "execution_count": 71,
     "metadata": {},
     "output_type": "execute_result"
    }
   ],
   "source": [
    "wccs[1]"
   ]
  },
  {
   "cell_type": "markdown",
   "metadata": {},
   "source": [
    "* AKB: Atka island, Alaska\n",
    "* DUT: Unalaska, Alaska\n",
    "* KQA: Akutan Island, in the Aleutian Islands, Alaska"
   ]
  },
  {
   "cell_type": "code",
   "execution_count": 72,
   "metadata": {},
   "outputs": [
    {
     "data": {
      "text/plain": [
       "{'BFI', 'CLM', 'ESD', 'FRD'}"
      ]
     },
     "execution_count": 72,
     "metadata": {},
     "output_type": "execute_result"
    }
   ],
   "source": [
    "wccs[2]"
   ]
  },
  {
   "cell_type": "markdown",
   "metadata": {},
   "source": [
    "* BFI: Boeing Field, WA\n",
    "* CLM: Port Angeles, WA\n",
    "* ESD: Orcas Island, WA\n",
    "* FRD: Friday Harbor, WA"
   ]
  },
  {
   "cell_type": "markdown",
   "metadata": {},
   "source": [
    "<hr style=\"height:5px;color:black\"/>"
   ]
  },
  {
   "cell_type": "markdown",
   "metadata": {},
   "source": [
    "# Shortest paths"
   ]
  },
  {
   "cell_type": "code",
   "execution_count": 73,
   "metadata": {
    "scrolled": false
   },
   "outputs": [
    {
     "data": {
      "text/plain": [
       "['BRW', 'ANC', 'ORD', 'MIA']"
      ]
     },
     "execution_count": 73,
     "metadata": {},
     "output_type": "execute_result"
    }
   ],
   "source": [
    "nx.shortest_path(G, 'BRW', 'MIA')"
   ]
  },
  {
   "cell_type": "markdown",
   "metadata": {},
   "source": [
    "* BRW = Point Barrow, Alaska\n",
    "* ANC = Anchorage\n",
    "* ORD = O'Hare airport, Chicago\n",
    "* MIA = Miami"
   ]
  },
  {
   "cell_type": "code",
   "execution_count": 98,
   "metadata": {},
   "outputs": [
    {
     "name": "stdout",
     "output_type": "stream",
     "text": [
      "['BRW', 'ANC', 'ORD', 'MIA']\n",
      "['BRW', 'ANC', 'DEN', 'MIA']\n",
      "['BRW', 'ANC', 'LAS', 'MIA']\n",
      "['BRW', 'ANC', 'LAX', 'MIA']\n",
      "['BRW', 'ANC', 'MSP', 'MIA']\n",
      "['BRW', 'ANC', 'PHX', 'MIA']\n",
      "['BRW', 'ANC', 'SEA', 'MIA']\n",
      "['BRW', 'FAI', 'SEA', 'MIA']\n"
     ]
    }
   ],
   "source": [
    "all_shortest_paths = nx.all_shortest_paths(G, 'BRW', 'MIA')\n",
    "for shortest_path in all_shortest_paths:\n",
    "    print(shortest_path)"
   ]
  },
  {
   "cell_type": "code",
   "execution_count": 100,
   "metadata": {},
   "outputs": [
    {
     "name": "stdout",
     "output_type": "stream",
     "text": [
      "['BRW', 'ANC', 'MSP', 'MIA']\n"
     ]
    }
   ],
   "source": [
    "all_shortest_paths = nx.all_shortest_paths(G, 'BRW', 'MIA', weight='weight')\n",
    "for shortest_path in all_shortest_paths:\n",
    "    print(shortest_path)"
   ]
  },
  {
   "cell_type": "code",
   "execution_count": 101,
   "metadata": {},
   "outputs": [
    {
     "name": "stdout",
     "output_type": "stream",
     "text": [
      "['BRW', 'ANC', 'MSP', 'MIA']\n"
     ]
    }
   ],
   "source": [
    "# from networkx.utils import all_pairs_dijkstra_path_length\n",
    "shortest_paths = nx.dijkstra_path(G, source='BRW', target='MIA', weight='weight')\n",
    "print(shortest_paths)"
   ]
  },
  {
   "cell_type": "code",
   "execution_count": 107,
   "metadata": {},
   "outputs": [
    {
     "name": "stdout",
     "output_type": "stream",
     "text": [
      "7625.25\n"
     ]
    }
   ],
   "source": [
    "print(f\"{nx.shortest_path_length(G, 'BRW', 'MIA', weight='weight'):.2f}\")"
   ]
  },
  {
   "cell_type": "markdown",
   "metadata": {},
   "source": [
    "<hr style=\"height:5px;color:black\"/>"
   ]
  },
  {
   "cell_type": "markdown",
   "metadata": {},
   "source": [
    "# Plot the US domestic routes"
   ]
  },
  {
   "cell_type": "code",
   "execution_count": 74,
   "metadata": {
    "collapsed": true
   },
   "outputs": [],
   "source": [
    "nodes_to_remove = ['AKB', 'DUT', 'KQA'\n",
    "                   , 'BFI', 'CLM', 'ESD', 'FRD'\n",
    "                   , 'KLN']\n",
    "for node in nodes_to_remove:\n",
    "    G.remove_node(node)"
   ]
  },
  {
   "cell_type": "code",
   "execution_count": 75,
   "metadata": {},
   "outputs": [
    {
     "data": {
      "image/png": "[encoded data removed]",
      "text/plain": [
       "<matplotlib.figure.Figure at 0x151cebccf8>"
      ]
     },
     "metadata": {},
     "output_type": "display_data"
    }
   ],
   "source": [
    "plt.figure(figsize=(14, 10))\n",
    "airport_to_pos = list(zip(us_flights2_df['orig_iata']\n",
    "                        , zip(us_flights2_df['orig_long'], us_flights2_df['orig_lat'])\n",
    "                           ))\n",
    "nx.draw(G, pos=dict(airport_to_pos), alpha=0.75, node_size=30, node_color='r'\n",
    "        , edge_color='wheat'\n",
    "        , labels={'SEA': 'SEA'}, font_color='w', font_size=18, with_labels=True)\n",
    "plt.show()\n",
    "# plt.axis('off')\n",
    "# plt.tight_layout();"
   ]
  },
  {
   "cell_type": "markdown",
   "metadata": {},
   "source": [
    "<hr style=\"height:5px;color:black\"/>"
   ]
  },
  {
   "cell_type": "markdown",
   "metadata": {},
   "source": [
    "### Data visualization: Domestic vs. international flights"
   ]
  },
  {
   "cell_type": "markdown",
   "metadata": {},
   "source": [
    "domestic_international_sql = \"\"\"\n",
    "    SELECT airline_ AS airline\n",
    "          , domestic_flights\n",
    "          , international_flights\n",
    "          , ROUND(100.0 * domestic_flights / (domestic_flights + international_flights), 2) AS domestic_percentage\n",
    "          , flights\n",
    "    FROM (\n",
    "        SELECT airline.name as airline_\n",
    "             , SUM(CASE WHEN src_airport.country = dst_airport.country THEN 1 ELSE 0 END) AS domestic_flights\n",
    "             , SUM(CASE WHEN src_airport.country <> dst_airport.country THEN 1 ELSE 0 END) AS international_flights\n",
    "             , COUNT(*) AS flights\n",
    "        FROM route\n",
    "            JOIN airline\n",
    "                ON airline.open_flights_airline_id = route.open_flights_airline_id\n",
    "            JOIN airport AS src_airport\n",
    "                ON src_airport.open_flights_airport_id = route.source_airport_id\n",
    "            JOIN airport AS dst_airport\n",
    "                ON dst_airport.open_flights_airport_id = route.destination_airport_id\n",
    "        GROUP BY airline_\n",
    "    ) AS tmp\n",
    "    ORDER BY flights DESC\n",
    "    \"\"\"\n",
    "domestic_international_df = pd.read_sql_query(domestic_international_sql, engine)\n",
    "domestic_international_df.describe()"
   ]
  },
  {
   "cell_type": "markdown",
   "metadata": {},
   "source": [
    "domestic_international_df.set_index(['airline'])\n",
    "domestic_international_df.head()"
   ]
  },
  {
   "cell_type": "markdown",
   "metadata": {},
   "source": [
    "%matplotlib inline\n",
    "\n",
    "ax = domestic_international_df[:10]['domestic_percentage'].plot(\n",
    "    kind='bar'\n",
    "    , title='Percentage of Domestic Flights by Airline')\n",
    "ax.set(xlabel='Airline', ylabel='Percentage of domestic flights')\n",
    "ax.set_xticklabels(domestic_international_df.airline)\n",
    "plt.tight_layout()"
   ]
  },
  {
   "cell_type": "markdown",
   "metadata": {},
   "source": [
    "### Data visualization: Flights between different countries"
   ]
  },
  {
   "cell_type": "markdown",
   "metadata": {},
   "source": [
    "international_traffic_sql = \"\"\"\n",
    "    WITH top20countries\n",
    "    AS (\n",
    "        SELECT country_ AS country\n",
    "              , SUM(flights) AS flights\n",
    "        FROM (\n",
    "            SELECT src_airport.country AS country_\n",
    "                  , COUNT(*) AS flights\n",
    "            FROM route\n",
    "            JOIN airport AS src_airport\n",
    "                ON src_airport.open_flights_airport_id = route.source_airport_id\n",
    "            GROUP BY src_airport.country\n",
    "          UNION\n",
    "            SELECT dst_airport.country AS country_\n",
    "                  , COUNT(*) AS flights\n",
    "            FROM route\n",
    "            JOIN airport AS dst_airport\n",
    "                ON dst_airport.open_flights_airport_id = route.source_airport_id\n",
    "            GROUP BY dst_airport.country\n",
    "        ) AS SrcDst\n",
    "        GROUP BY country_\n",
    "        ORDER BY flights DESC\n",
    "        LIMIT 20\n",
    "    )\n",
    "    SELECT src_airport.country AS src_country\n",
    "          , dst_airport.country AS dst_country\n",
    "          , COUNT(*) AS flights\n",
    "    FROM route\n",
    "        JOIN airline\n",
    "            ON airline.open_flights_airline_id = route.open_flights_airline_id\n",
    "        JOIN airport AS src_airport\n",
    "            ON src_airport.open_flights_airport_id = route.source_airport_id\n",
    "        JOIN airport AS dst_airport\n",
    "            ON dst_airport.open_flights_airport_id = route.destination_airport_id\n",
    "        JOIN top20countries AS src_country_filter\n",
    "            ON src_country_filter.country = src_airport.country\n",
    "        JOIN top20countries AS dst_country_filter\n",
    "            ON dst_country_filter.country = dst_airport.country\n",
    "    GROUP BY src_airport.country, dst_airport.country\n",
    "    ORDER BY flights DESC\n",
    "\"\"\"\n",
    "\n",
    "international_traffic_df = pd.read_sql_query(international_traffic_sql, engine)\n",
    "international_traffic_df.head()"
   ]
  },
  {
   "cell_type": "markdown",
   "metadata": {},
   "source": [
    "international_traffic_df.tail()"
   ]
  },
  {
   "cell_type": "markdown",
   "metadata": {},
   "source": [
    "international_traffic_df.shape[0]"
   ]
  },
  {
   "cell_type": "markdown",
   "metadata": {},
   "source": [
    " - The number of rows is less than 400, so there would be \"holes\" in a 20*20 array.\n",
    " - That's OK---we'll fill them with zeroes."
   ]
  },
  {
   "cell_type": "markdown",
   "metadata": {},
   "source": [
    "country_xchange = international_traffic_df.groupby(['src_country', 'dst_country']).sum().unstack('dst_country').fillna(0)\n",
    "country_xchange"
   ]
  },
  {
   "cell_type": "markdown",
   "metadata": {
    "collapsed": true
   },
   "source": [
    "import seaborn as sns"
   ]
  },
  {
   "cell_type": "markdown",
   "metadata": {},
   "source": [
    "sns.heatmap(country_xchange);"
   ]
  },
  {
   "cell_type": "markdown",
   "metadata": {},
   "source": [
    " - It's hard to see any detail because the larger values along the diagonal (representing domestic flights, especially for China and the United States) wash out the rest of the heatmap.  Let's try setting the diagonal entries to zero."
   ]
  },
  {
   "cell_type": "markdown",
   "metadata": {},
   "source": [
    "import numpy as np\n",
    "np.fill_diagonal(country_xchange.values, 0)\n",
    "sns.heatmap(country_xchange);"
   ]
  },
  {
   "cell_type": "markdown",
   "metadata": {},
   "source": [
    "We can see that there are lots of flights:\n",
    " - between the UK and Spain\n",
    " - between the US and Mexico\n",
    " - between the US and Canada\n",
    " - between Germany and Spain"
   ]
  },
  {
   "cell_type": "markdown",
   "metadata": {
    "collapsed": true
   },
   "source": [
    "engine.dispose()"
   ]
  },
  {
   "cell_type": "code",
   "execution_count": null,
   "metadata": {
    "collapsed": true
   },
   "outputs": [],
   "source": []
  },
  {
   "cell_type": "code",
   "execution_count": 108,
   "metadata": {
    "collapsed": true
   },
   "outputs": [],
   "source": [
    "import numpy as np\n",
    "import matplotlib.pyplot as plt\n",
    "from mpl_toolkits.basemap import Basemap as Basemap\n",
    "from matplotlib.colors import rgb2hex\n",
    "from matplotlib.patches import Polygon"
   ]
  },
  {
   "cell_type": "code",
   "execution_count": 131,
   "metadata": {},
   "outputs": [
    {
     "data": {
      "image/png": "[encoded data removed]",
      "text/plain": [
       "<matplotlib.figure.Figure at 0x151ce64d30>"
      ]
     },
     "metadata": {},
     "output_type": "display_data"
    }
   ],
   "source": [
    "import numpy as np\n",
    "import matplotlib.pyplot as plt\n",
    "from mpl_toolkits.basemap import Basemap as Basemap\n",
    "from matplotlib.colors import rgb2hex\n",
    "from matplotlib.patches import Polygon\n",
    "# Lambert Conformal map of lower 48 states.\n",
    "m = Basemap(llcrnrlon=-119,llcrnrlat=22,urcrnrlon=-64,urcrnrlat=49,\n",
    "        projection='lcc',lat_1=33,lat_2=45,lon_0=-95)\n",
    "# Draw state boundaries.\n",
    "# Data from U.S Census Bureau @ http://www.census.gov/geo/www/cob/st2000.html\n",
    "shp_info = m.readshapefile('../data/census.gov/cb_2016_us_state_20m','states',drawbounds=True)\n",
    "colors={}\n",
    "statenames=[]\n",
    "# cmap = plt.cm.hot # use 'hot' colormap\n",
    "vmin = 0; vmax = 450 # set range.\n",
    "for shapedict in m.states_info:\n",
    "    statename = shapedict['NAME']\n",
    "    statenames.append(statename)\n",
    "ax = plt.gca() # get current axes instance\n",
    "for nshape,seg in enumerate(m.states):\n",
    "    poly = Polygon(seg, facecolor='w', edgecolor='b')\n",
    "    ax.add_patch(poly)\n",
    "plt.title('Filling State Polygons by Population Density')\n",
    "plt.show()"
   ]
  },
  {
   "cell_type": "code",
   "execution_count": null,
   "metadata": {
    "collapsed": true
   },
   "outputs": [],
   "source": []
  },
  {
   "cell_type": "code",
   "execution_count": null,
   "metadata": {
    "collapsed": true
   },
   "outputs": [],
   "source": []
  },
  {
   "cell_type": "code",
   "execution_count": null,
   "metadata": {
    "collapsed": true
   },
   "outputs": [],
   "source": []
  }
 ],
 "metadata": {
  "kernelspec": {
   "display_name": "Python 3",
   "language": "python",
   "name": "python3"
  },
  "language_info": {
   "codemirror_mode": {
    "name": "ipython",
    "version": 3
   },
   "file_extension": ".py",
   "mimetype": "text/x-python",
   "name": "python",
   "nbconvert_exporter": "python",
   "pygments_lexer": "ipython3",
   "version": "3.6.3"
  },
  "toc": {
   "nav_menu": {},
   "number_sections": true,
   "sideBar": true,
   "skip_h1_title": false,
   "title_cell": "Table of Contents",
   "title_sidebar": "Contents",
   "toc_cell": false,
   "toc_position": {
    "height": "calc(100% - 180px)",
    "left": "10px",
    "top": "150px",
    "width": "165px"
   },
   "toc_section_display": true,
   "toc_window_display": true
  },
  "varInspector": {
   "cols": {
    "lenName": 16,
    "lenType": 16,
    "lenVar": 40
   },
   "kernels_config": {
    "python": {
     "delete_cmd_postfix": "",
     "delete_cmd_prefix": "del ",
     "library": "var_list.py",
     "varRefreshCmd": "print(var_dic_list())"
    },
    "r": {
     "delete_cmd_postfix": ") ",
     "delete_cmd_prefix": "rm(",
     "library": "var_list.r",
     "varRefreshCmd": "cat(var_dic_list()) "
    }
   },
   "types_to_exclude": [
    "module",
    "function",
    "builtin_function_or_method",
    "instance",
    "_Feature"
   ],
   "window_display": false
  }
 },
 "nbformat": 4,
 "nbformat_minor": 2
}
