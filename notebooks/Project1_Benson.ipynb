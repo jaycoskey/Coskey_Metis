{
 "cells": [
  {
   "cell_type": "markdown",
   "metadata": {},
   "source": [
    "# Project 1: Benson.  MTA Outreach Analysis for WTWY"
   ]
  },
  {
   "cell_type": "code",
   "execution_count": 1,
   "metadata": {
    "collapsed": true
   },
   "outputs": [],
   "source": [
    "import datetime as dt\n",
    "import matplotlib.pyplot as plt\n",
    "import numpy as np\n",
    "import pandas as pd\n",
    "\n",
    "from IPython.display import Image"
   ]
  },
  {
   "cell_type": "code",
   "execution_count": 2,
   "metadata": {
    "collapsed": true
   },
   "outputs": [],
   "source": [
    "%matplotlib inline"
   ]
  },
  {
   "cell_type": "code",
   "execution_count": 3,
   "metadata": {
    "collapsed": true
   },
   "outputs": [],
   "source": [
    "pd.set_option('display.max_columns', None)\n",
    "pd.set_option('display.max_rows', 25)\n",
    "pd.set_option('display.precision', 3)"
   ]
  },
  {
   "cell_type": "markdown",
   "metadata": {},
   "source": [
    "## Read in and explore raw data"
   ]
  },
  {
   "cell_type": "code",
   "execution_count": 4,
   "metadata": {
    "scrolled": true
   },
   "outputs": [],
   "source": [
    "TURNSTILE_DIR = '../data/mta.info/turnstile/'\n",
    "raw_df = pd.read_csv(TURNSTILE_DIR + 'turnstile_180113.txt',\n",
    "                     skiprows=1,\n",
    "                     names=['ControlArea', 'Unit', 'SCP', 'Station',\n",
    "                            'LineName', 'Division', 'Date', 'Time',\n",
    "                            'Description', 'Entries', 'Exits'],\n",
    "                     dtype={'Entries': np.int, 'Exits': np.int},\n",
    "                     parse_dates=[6],\n",
    "                     thousands=',')"
   ]
  },
  {
   "cell_type": "code",
   "execution_count": 5,
   "metadata": {},
   "outputs": [
    {
     "data": {
      "text/plain": [
       "(201118, 11)"
      ]
     },
     "execution_count": 5,
     "metadata": {},
     "output_type": "execute_result"
    }
   ],
   "source": [
    "raw_df.shape"
   ]
  },
  {
   "cell_type": "code",
   "execution_count": 6,
   "metadata": {},
   "outputs": [
    {
     "data": {
      "text/plain": [
       "ControlArea            object\n",
       "Unit                   object\n",
       "SCP                    object\n",
       "Station                object\n",
       "LineName               object\n",
       "Division               object\n",
       "Date           datetime64[ns]\n",
       "Time                   object\n",
       "Description            object\n",
       "Entries                 int64\n",
       "Exits                   int64\n",
       "dtype: object"
      ]
     },
     "execution_count": 6,
     "metadata": {},
     "output_type": "execute_result"
    }
   ],
   "source": [
    "raw_df.dtypes"
   ]
  },
  {
   "cell_type": "code",
   "execution_count": 7,
   "metadata": {
    "scrolled": false
   },
   "outputs": [
    {
     "data": {
      "text/html": [
       "<div>\n",
       "<style>\n",
       "    .dataframe thead tr:only-child th {\n",
       "        text-align: right;\n",
       "    }\n",
       "\n",
       "    .dataframe thead th {\n",
       "        text-align: left;\n",
       "    }\n",
       "\n",
       "    .dataframe tbody tr th {\n",
       "        vertical-align: top;\n",
       "    }\n",
       "</style>\n",
       "<table border=\"1\" class=\"dataframe\">\n",
       "  <thead>\n",
       "    <tr style=\"text-align: right;\">\n",
       "      <th></th>\n",
       "      <th>ControlArea</th>\n",
       "      <th>Unit</th>\n",
       "      <th>SCP</th>\n",
       "      <th>Station</th>\n",
       "      <th>LineName</th>\n",
       "      <th>Division</th>\n",
       "      <th>Date</th>\n",
       "      <th>Time</th>\n",
       "      <th>Description</th>\n",
       "      <th>Entries</th>\n",
       "      <th>Exits</th>\n",
       "    </tr>\n",
       "  </thead>\n",
       "  <tbody>\n",
       "    <tr>\n",
       "      <th>2101</th>\n",
       "      <td>A014</td>\n",
       "      <td>R081</td>\n",
       "      <td>02-06-00</td>\n",
       "      <td>49 ST</td>\n",
       "      <td>NQRW</td>\n",
       "      <td>BMT</td>\n",
       "      <td>2018-01-09</td>\n",
       "      <td>07:00:00</td>\n",
       "      <td>REGULAR</td>\n",
       "      <td>617256</td>\n",
       "      <td>2460168</td>\n",
       "    </tr>\n",
       "    <tr>\n",
       "      <th>125730</th>\n",
       "      <td>R101</td>\n",
       "      <td>R001</td>\n",
       "      <td>02-06-00</td>\n",
       "      <td>SOUTH FERRY</td>\n",
       "      <td>1RW</td>\n",
       "      <td>IRT</td>\n",
       "      <td>2018-01-10</td>\n",
       "      <td>08:40:32</td>\n",
       "      <td>REGULAR</td>\n",
       "      <td>929</td>\n",
       "      <td>0</td>\n",
       "    </tr>\n",
       "    <tr>\n",
       "      <th>119258</th>\n",
       "      <td>PTH16</td>\n",
       "      <td>R550</td>\n",
       "      <td>01-00-00</td>\n",
       "      <td>LACKAWANNA</td>\n",
       "      <td>1</td>\n",
       "      <td>PTH</td>\n",
       "      <td>2018-01-12</td>\n",
       "      <td>14:24:22</td>\n",
       "      <td>REGULAR</td>\n",
       "      <td>15973</td>\n",
       "      <td>59420</td>\n",
       "    </tr>\n",
       "    <tr>\n",
       "      <th>7033</th>\n",
       "      <td>A043</td>\n",
       "      <td>R462</td>\n",
       "      <td>00-03-03</td>\n",
       "      <td>CANAL ST</td>\n",
       "      <td>JNQRZ6W</td>\n",
       "      <td>BMT</td>\n",
       "      <td>2018-01-08</td>\n",
       "      <td>08:00:00</td>\n",
       "      <td>REGULAR</td>\n",
       "      <td>3136995</td>\n",
       "      <td>1521625</td>\n",
       "    </tr>\n",
       "    <tr>\n",
       "      <th>129556</th>\n",
       "      <td>R122</td>\n",
       "      <td>R290</td>\n",
       "      <td>02-05-01</td>\n",
       "      <td>HOUSTON ST</td>\n",
       "      <td>1</td>\n",
       "      <td>IRT</td>\n",
       "      <td>2018-01-09</td>\n",
       "      <td>00:00:00</td>\n",
       "      <td>REGULAR</td>\n",
       "      <td>50331648</td>\n",
       "      <td>33554542</td>\n",
       "    </tr>\n",
       "  </tbody>\n",
       "</table>\n",
       "</div>"
      ],
      "text/plain": [
       "       ControlArea  Unit       SCP      Station LineName Division       Date  \\\n",
       "2101          A014  R081  02-06-00        49 ST     NQRW      BMT 2018-01-09   \n",
       "125730        R101  R001  02-06-00  SOUTH FERRY      1RW      IRT 2018-01-10   \n",
       "119258       PTH16  R550  01-00-00   LACKAWANNA        1      PTH 2018-01-12   \n",
       "7033          A043  R462  00-03-03     CANAL ST  JNQRZ6W      BMT 2018-01-08   \n",
       "129556        R122  R290  02-05-01   HOUSTON ST        1      IRT 2018-01-09   \n",
       "\n",
       "            Time Description   Entries     Exits  \n",
       "2101    07:00:00     REGULAR    617256   2460168  \n",
       "125730  08:40:32     REGULAR       929         0  \n",
       "119258  14:24:22     REGULAR     15973     59420  \n",
       "7033    08:00:00     REGULAR   3136995   1521625  \n",
       "129556  00:00:00     REGULAR  50331648  33554542  "
      ]
     },
     "execution_count": 7,
     "metadata": {},
     "output_type": "execute_result"
    }
   ],
   "source": [
    "raw_df.sample(5)"
   ]
  },
  {
   "cell_type": "code",
   "execution_count": 8,
   "metadata": {
    "scrolled": false
   },
   "outputs": [
    {
     "data": {
      "text/plain": [
       "12161"
      ]
     },
     "execution_count": 8,
     "metadata": {},
     "output_type": "execute_result"
    }
   ],
   "source": [
    "len(raw_df['Time'].unique())"
   ]
  },
  {
   "cell_type": "markdown",
   "metadata": {},
   "source": [
    "* **Observation:** Some times are on hour-boundaries, but many are not."
   ]
  },
  {
   "cell_type": "code",
   "execution_count": 9,
   "metadata": {},
   "outputs": [],
   "source": [
    "raw_df['DateTime'] = [dt.datetime.strptime(d + ' ' + t, '%Y-%m-%d %H:%M:%S')\n",
    "                      for d,t in zip(raw_df['Date'].astype(str), raw_df['Time'])]"
   ]
  },
  {
   "cell_type": "code",
   "execution_count": 10,
   "metadata": {},
   "outputs": [],
   "source": [
    "hourly_mask = (raw_df['DateTime'].dt.minute == 0) & (raw_df['DateTime'].dt.second == 0)"
   ]
  },
  {
   "cell_type": "code",
   "execution_count": 11,
   "metadata": {
    "scrolled": true
   },
   "outputs": [
    {
     "data": {
      "text/plain": [
       "True     180780\n",
       "False     20338\n",
       "Name: DateTime, dtype: int64"
      ]
     },
     "execution_count": 11,
     "metadata": {},
     "output_type": "execute_result"
    }
   ],
   "source": [
    "hourly_mask.value_counts()"
   ]
  },
  {
   "cell_type": "markdown",
   "metadata": {},
   "source": [
    "* **Observation:** About 90% of the data is recorded on the hour."
   ]
  },
  {
   "cell_type": "code",
   "execution_count": 12,
   "metadata": {
    "scrolled": false
   },
   "outputs": [
    {
     "data": {
      "text/html": [
       "<div>\n",
       "<style>\n",
       "    .dataframe thead tr:only-child th {\n",
       "        text-align: right;\n",
       "    }\n",
       "\n",
       "    .dataframe thead th {\n",
       "        text-align: left;\n",
       "    }\n",
       "\n",
       "    .dataframe tbody tr th {\n",
       "        vertical-align: top;\n",
       "    }\n",
       "</style>\n",
       "<table border=\"1\" class=\"dataframe\">\n",
       "  <thead>\n",
       "    <tr style=\"text-align: right;\">\n",
       "      <th></th>\n",
       "      <th>ControlArea</th>\n",
       "      <th>Unit</th>\n",
       "      <th>SCP</th>\n",
       "      <th>Station</th>\n",
       "      <th>LineName</th>\n",
       "      <th>Division</th>\n",
       "      <th>Date</th>\n",
       "      <th>Time</th>\n",
       "      <th>Description</th>\n",
       "      <th>Entries</th>\n",
       "      <th>Exits</th>\n",
       "      <th>DateTime</th>\n",
       "    </tr>\n",
       "  </thead>\n",
       "  <tbody>\n",
       "    <tr>\n",
       "      <th>41494</th>\n",
       "      <td>N001</td>\n",
       "      <td>R173</td>\n",
       "      <td>01-05-00</td>\n",
       "      <td>INWOOD-207 ST</td>\n",
       "      <td>A</td>\n",
       "      <td>IND</td>\n",
       "      <td>2018-01-12</td>\n",
       "      <td>04:00:00</td>\n",
       "      <td>REGULAR</td>\n",
       "      <td>301</td>\n",
       "      <td>0</td>\n",
       "      <td>2018-01-12 04:00:00</td>\n",
       "    </tr>\n",
       "    <tr>\n",
       "      <th>41536</th>\n",
       "      <td>N001</td>\n",
       "      <td>R173</td>\n",
       "      <td>01-05-01</td>\n",
       "      <td>INWOOD-207 ST</td>\n",
       "      <td>A</td>\n",
       "      <td>IND</td>\n",
       "      <td>2018-01-12</td>\n",
       "      <td>04:00:00</td>\n",
       "      <td>REGULAR</td>\n",
       "      <td>67108872</td>\n",
       "      <td>16777412</td>\n",
       "      <td>2018-01-12 04:00:00</td>\n",
       "    </tr>\n",
       "    <tr>\n",
       "      <th>41578</th>\n",
       "      <td>N001</td>\n",
       "      <td>R173</td>\n",
       "      <td>01-06-00</td>\n",
       "      <td>INWOOD-207 ST</td>\n",
       "      <td>A</td>\n",
       "      <td>IND</td>\n",
       "      <td>2018-01-12</td>\n",
       "      <td>04:00:00</td>\n",
       "      <td>REGULAR</td>\n",
       "      <td>4143559</td>\n",
       "      <td>760241</td>\n",
       "      <td>2018-01-12 04:00:00</td>\n",
       "    </tr>\n",
       "    <tr>\n",
       "      <th>41620</th>\n",
       "      <td>N001</td>\n",
       "      <td>R173</td>\n",
       "      <td>01-06-01</td>\n",
       "      <td>INWOOD-207 ST</td>\n",
       "      <td>A</td>\n",
       "      <td>IND</td>\n",
       "      <td>2018-01-12</td>\n",
       "      <td>04:00:00</td>\n",
       "      <td>REGULAR</td>\n",
       "      <td>201806894</td>\n",
       "      <td>302650</td>\n",
       "      <td>2018-01-12 04:00:00</td>\n",
       "    </tr>\n",
       "    <tr>\n",
       "      <th>41662</th>\n",
       "      <td>N001</td>\n",
       "      <td>R173</td>\n",
       "      <td>01-06-02</td>\n",
       "      <td>INWOOD-207 ST</td>\n",
       "      <td>A</td>\n",
       "      <td>IND</td>\n",
       "      <td>2018-01-12</td>\n",
       "      <td>04:00:00</td>\n",
       "      <td>REGULAR</td>\n",
       "      <td>742566</td>\n",
       "      <td>553216</td>\n",
       "      <td>2018-01-12 04:00:00</td>\n",
       "    </tr>\n",
       "    <tr>\n",
       "      <th>41704</th>\n",
       "      <td>N001</td>\n",
       "      <td>R173</td>\n",
       "      <td>01-06-03</td>\n",
       "      <td>INWOOD-207 ST</td>\n",
       "      <td>A</td>\n",
       "      <td>IND</td>\n",
       "      <td>2018-01-12</td>\n",
       "      <td>04:00:00</td>\n",
       "      <td>REGULAR</td>\n",
       "      <td>332417</td>\n",
       "      <td>162116</td>\n",
       "      <td>2018-01-12 04:00:00</td>\n",
       "    </tr>\n",
       "    <tr>\n",
       "      <th>41746</th>\n",
       "      <td>N002A</td>\n",
       "      <td>R173</td>\n",
       "      <td>00-00-00</td>\n",
       "      <td>INWOOD-207 ST</td>\n",
       "      <td>A</td>\n",
       "      <td>IND</td>\n",
       "      <td>2018-01-12</td>\n",
       "      <td>04:00:00</td>\n",
       "      <td>REGULAR</td>\n",
       "      <td>5655675</td>\n",
       "      <td>3308405</td>\n",
       "      <td>2018-01-12 04:00:00</td>\n",
       "    </tr>\n",
       "    <tr>\n",
       "      <th>41788</th>\n",
       "      <td>N002A</td>\n",
       "      <td>R173</td>\n",
       "      <td>00-00-01</td>\n",
       "      <td>INWOOD-207 ST</td>\n",
       "      <td>A</td>\n",
       "      <td>IND</td>\n",
       "      <td>2018-01-12</td>\n",
       "      <td>04:00:00</td>\n",
       "      <td>REGULAR</td>\n",
       "      <td>9247893</td>\n",
       "      <td>5364605</td>\n",
       "      <td>2018-01-12 04:00:00</td>\n",
       "    </tr>\n",
       "    <tr>\n",
       "      <th>41830</th>\n",
       "      <td>N002A</td>\n",
       "      <td>R173</td>\n",
       "      <td>00-00-02</td>\n",
       "      <td>INWOOD-207 ST</td>\n",
       "      <td>A</td>\n",
       "      <td>IND</td>\n",
       "      <td>2018-01-12</td>\n",
       "      <td>04:00:00</td>\n",
       "      <td>REGULAR</td>\n",
       "      <td>6382433</td>\n",
       "      <td>3683969</td>\n",
       "      <td>2018-01-12 04:00:00</td>\n",
       "    </tr>\n",
       "    <tr>\n",
       "      <th>41872</th>\n",
       "      <td>N002A</td>\n",
       "      <td>R173</td>\n",
       "      <td>00-05-00</td>\n",
       "      <td>INWOOD-207 ST</td>\n",
       "      <td>A</td>\n",
       "      <td>IND</td>\n",
       "      <td>2018-01-12</td>\n",
       "      <td>04:00:00</td>\n",
       "      <td>REGULAR</td>\n",
       "      <td>3414</td>\n",
       "      <td>0</td>\n",
       "      <td>2018-01-12 04:00:00</td>\n",
       "    </tr>\n",
       "    <tr>\n",
       "      <th>41914</th>\n",
       "      <td>N002A</td>\n",
       "      <td>R173</td>\n",
       "      <td>00-05-01</td>\n",
       "      <td>INWOOD-207 ST</td>\n",
       "      <td>A</td>\n",
       "      <td>IND</td>\n",
       "      <td>2018-01-12</td>\n",
       "      <td>04:00:00</td>\n",
       "      <td>REGULAR</td>\n",
       "      <td>0</td>\n",
       "      <td>522</td>\n",
       "      <td>2018-01-12 04:00:00</td>\n",
       "    </tr>\n",
       "  </tbody>\n",
       "</table>\n",
       "</div>"
      ],
      "text/plain": [
       "      ControlArea  Unit       SCP        Station LineName Division       Date  \\\n",
       "41494        N001  R173  01-05-00  INWOOD-207 ST        A      IND 2018-01-12   \n",
       "41536        N001  R173  01-05-01  INWOOD-207 ST        A      IND 2018-01-12   \n",
       "41578        N001  R173  01-06-00  INWOOD-207 ST        A      IND 2018-01-12   \n",
       "41620        N001  R173  01-06-01  INWOOD-207 ST        A      IND 2018-01-12   \n",
       "41662        N001  R173  01-06-02  INWOOD-207 ST        A      IND 2018-01-12   \n",
       "41704        N001  R173  01-06-03  INWOOD-207 ST        A      IND 2018-01-12   \n",
       "41746       N002A  R173  00-00-00  INWOOD-207 ST        A      IND 2018-01-12   \n",
       "41788       N002A  R173  00-00-01  INWOOD-207 ST        A      IND 2018-01-12   \n",
       "41830       N002A  R173  00-00-02  INWOOD-207 ST        A      IND 2018-01-12   \n",
       "41872       N002A  R173  00-05-00  INWOOD-207 ST        A      IND 2018-01-12   \n",
       "41914       N002A  R173  00-05-01  INWOOD-207 ST        A      IND 2018-01-12   \n",
       "\n",
       "           Time Description    Entries     Exits            DateTime  \n",
       "41494  04:00:00     REGULAR        301         0 2018-01-12 04:00:00  \n",
       "41536  04:00:00     REGULAR   67108872  16777412 2018-01-12 04:00:00  \n",
       "41578  04:00:00     REGULAR    4143559    760241 2018-01-12 04:00:00  \n",
       "41620  04:00:00     REGULAR  201806894    302650 2018-01-12 04:00:00  \n",
       "41662  04:00:00     REGULAR     742566    553216 2018-01-12 04:00:00  \n",
       "41704  04:00:00     REGULAR     332417    162116 2018-01-12 04:00:00  \n",
       "41746  04:00:00     REGULAR    5655675   3308405 2018-01-12 04:00:00  \n",
       "41788  04:00:00     REGULAR    9247893   5364605 2018-01-12 04:00:00  \n",
       "41830  04:00:00     REGULAR    6382433   3683969 2018-01-12 04:00:00  \n",
       "41872  04:00:00     REGULAR       3414         0 2018-01-12 04:00:00  \n",
       "41914  04:00:00     REGULAR          0       522 2018-01-12 04:00:00  "
      ]
     },
     "execution_count": 12,
     "metadata": {},
     "output_type": "execute_result"
    }
   ],
   "source": [
    "sample1_mask = ((raw_df['Date'] == '2018-01-12')\n",
    "        & (raw_df['Time'] == '04:00:00')\n",
    "        & (raw_df['Unit'] == 'R173'))\n",
    "raw_df[sample1_mask]"
   ]
  },
  {
   "cell_type": "code",
   "execution_count": 13,
   "metadata": {
    "scrolled": true
   },
   "outputs": [
    {
     "data": {
      "text/html": [
       "<div>\n",
       "<style>\n",
       "    .dataframe thead tr:only-child th {\n",
       "        text-align: right;\n",
       "    }\n",
       "\n",
       "    .dataframe thead th {\n",
       "        text-align: left;\n",
       "    }\n",
       "\n",
       "    .dataframe tbody tr th {\n",
       "        vertical-align: top;\n",
       "    }\n",
       "</style>\n",
       "<table border=\"1\" class=\"dataframe\">\n",
       "  <thead>\n",
       "    <tr style=\"text-align: right;\">\n",
       "      <th></th>\n",
       "      <th>ControlArea</th>\n",
       "      <th>Unit</th>\n",
       "      <th>SCP</th>\n",
       "      <th>Station</th>\n",
       "      <th>LineName</th>\n",
       "      <th>Division</th>\n",
       "      <th>Date</th>\n",
       "      <th>Time</th>\n",
       "      <th>Description</th>\n",
       "      <th>Entries</th>\n",
       "      <th>Exits</th>\n",
       "      <th>DateTime</th>\n",
       "    </tr>\n",
       "  </thead>\n",
       "  <tbody>\n",
       "    <tr>\n",
       "      <th>41495</th>\n",
       "      <td>N001</td>\n",
       "      <td>R173</td>\n",
       "      <td>01-05-00</td>\n",
       "      <td>INWOOD-207 ST</td>\n",
       "      <td>A</td>\n",
       "      <td>IND</td>\n",
       "      <td>2018-01-12</td>\n",
       "      <td>08:00:00</td>\n",
       "      <td>REGULAR</td>\n",
       "      <td>301</td>\n",
       "      <td>0</td>\n",
       "      <td>2018-01-12 08:00:00</td>\n",
       "    </tr>\n",
       "    <tr>\n",
       "      <th>41537</th>\n",
       "      <td>N001</td>\n",
       "      <td>R173</td>\n",
       "      <td>01-05-01</td>\n",
       "      <td>INWOOD-207 ST</td>\n",
       "      <td>A</td>\n",
       "      <td>IND</td>\n",
       "      <td>2018-01-12</td>\n",
       "      <td>08:00:00</td>\n",
       "      <td>REGULAR</td>\n",
       "      <td>67108872</td>\n",
       "      <td>16777412</td>\n",
       "      <td>2018-01-12 08:00:00</td>\n",
       "    </tr>\n",
       "    <tr>\n",
       "      <th>41579</th>\n",
       "      <td>N001</td>\n",
       "      <td>R173</td>\n",
       "      <td>01-06-00</td>\n",
       "      <td>INWOOD-207 ST</td>\n",
       "      <td>A</td>\n",
       "      <td>IND</td>\n",
       "      <td>2018-01-12</td>\n",
       "      <td>08:00:00</td>\n",
       "      <td>REGULAR</td>\n",
       "      <td>4144041</td>\n",
       "      <td>760256</td>\n",
       "      <td>2018-01-12 08:00:00</td>\n",
       "    </tr>\n",
       "    <tr>\n",
       "      <th>41621</th>\n",
       "      <td>N001</td>\n",
       "      <td>R173</td>\n",
       "      <td>01-06-01</td>\n",
       "      <td>INWOOD-207 ST</td>\n",
       "      <td>A</td>\n",
       "      <td>IND</td>\n",
       "      <td>2018-01-12</td>\n",
       "      <td>08:00:00</td>\n",
       "      <td>REGULAR</td>\n",
       "      <td>201807042</td>\n",
       "      <td>302674</td>\n",
       "      <td>2018-01-12 08:00:00</td>\n",
       "    </tr>\n",
       "    <tr>\n",
       "      <th>41663</th>\n",
       "      <td>N001</td>\n",
       "      <td>R173</td>\n",
       "      <td>01-06-02</td>\n",
       "      <td>INWOOD-207 ST</td>\n",
       "      <td>A</td>\n",
       "      <td>IND</td>\n",
       "      <td>2018-01-12</td>\n",
       "      <td>08:00:00</td>\n",
       "      <td>REGULAR</td>\n",
       "      <td>742751</td>\n",
       "      <td>553278</td>\n",
       "      <td>2018-01-12 08:00:00</td>\n",
       "    </tr>\n",
       "    <tr>\n",
       "      <th>41705</th>\n",
       "      <td>N001</td>\n",
       "      <td>R173</td>\n",
       "      <td>01-06-03</td>\n",
       "      <td>INWOOD-207 ST</td>\n",
       "      <td>A</td>\n",
       "      <td>IND</td>\n",
       "      <td>2018-01-12</td>\n",
       "      <td>08:00:00</td>\n",
       "      <td>REGULAR</td>\n",
       "      <td>332668</td>\n",
       "      <td>162141</td>\n",
       "      <td>2018-01-12 08:00:00</td>\n",
       "    </tr>\n",
       "    <tr>\n",
       "      <th>41747</th>\n",
       "      <td>N002A</td>\n",
       "      <td>R173</td>\n",
       "      <td>00-00-00</td>\n",
       "      <td>INWOOD-207 ST</td>\n",
       "      <td>A</td>\n",
       "      <td>IND</td>\n",
       "      <td>2018-01-12</td>\n",
       "      <td>08:00:00</td>\n",
       "      <td>REGULAR</td>\n",
       "      <td>5656200</td>\n",
       "      <td>3308462</td>\n",
       "      <td>2018-01-12 08:00:00</td>\n",
       "    </tr>\n",
       "    <tr>\n",
       "      <th>41789</th>\n",
       "      <td>N002A</td>\n",
       "      <td>R173</td>\n",
       "      <td>00-00-01</td>\n",
       "      <td>INWOOD-207 ST</td>\n",
       "      <td>A</td>\n",
       "      <td>IND</td>\n",
       "      <td>2018-01-12</td>\n",
       "      <td>08:00:00</td>\n",
       "      <td>REGULAR</td>\n",
       "      <td>9248297</td>\n",
       "      <td>5364632</td>\n",
       "      <td>2018-01-12 08:00:00</td>\n",
       "    </tr>\n",
       "    <tr>\n",
       "      <th>41831</th>\n",
       "      <td>N002A</td>\n",
       "      <td>R173</td>\n",
       "      <td>00-00-02</td>\n",
       "      <td>INWOOD-207 ST</td>\n",
       "      <td>A</td>\n",
       "      <td>IND</td>\n",
       "      <td>2018-01-12</td>\n",
       "      <td>08:00:00</td>\n",
       "      <td>REGULAR</td>\n",
       "      <td>6382835</td>\n",
       "      <td>3684013</td>\n",
       "      <td>2018-01-12 08:00:00</td>\n",
       "    </tr>\n",
       "    <tr>\n",
       "      <th>41873</th>\n",
       "      <td>N002A</td>\n",
       "      <td>R173</td>\n",
       "      <td>00-05-00</td>\n",
       "      <td>INWOOD-207 ST</td>\n",
       "      <td>A</td>\n",
       "      <td>IND</td>\n",
       "      <td>2018-01-12</td>\n",
       "      <td>08:00:00</td>\n",
       "      <td>REGULAR</td>\n",
       "      <td>3414</td>\n",
       "      <td>0</td>\n",
       "      <td>2018-01-12 08:00:00</td>\n",
       "    </tr>\n",
       "    <tr>\n",
       "      <th>41915</th>\n",
       "      <td>N002A</td>\n",
       "      <td>R173</td>\n",
       "      <td>00-05-01</td>\n",
       "      <td>INWOOD-207 ST</td>\n",
       "      <td>A</td>\n",
       "      <td>IND</td>\n",
       "      <td>2018-01-12</td>\n",
       "      <td>08:00:00</td>\n",
       "      <td>REGULAR</td>\n",
       "      <td>0</td>\n",
       "      <td>522</td>\n",
       "      <td>2018-01-12 08:00:00</td>\n",
       "    </tr>\n",
       "  </tbody>\n",
       "</table>\n",
       "</div>"
      ],
      "text/plain": [
       "      ControlArea  Unit       SCP        Station LineName Division       Date  \\\n",
       "41495        N001  R173  01-05-00  INWOOD-207 ST        A      IND 2018-01-12   \n",
       "41537        N001  R173  01-05-01  INWOOD-207 ST        A      IND 2018-01-12   \n",
       "41579        N001  R173  01-06-00  INWOOD-207 ST        A      IND 2018-01-12   \n",
       "41621        N001  R173  01-06-01  INWOOD-207 ST        A      IND 2018-01-12   \n",
       "41663        N001  R173  01-06-02  INWOOD-207 ST        A      IND 2018-01-12   \n",
       "41705        N001  R173  01-06-03  INWOOD-207 ST        A      IND 2018-01-12   \n",
       "41747       N002A  R173  00-00-00  INWOOD-207 ST        A      IND 2018-01-12   \n",
       "41789       N002A  R173  00-00-01  INWOOD-207 ST        A      IND 2018-01-12   \n",
       "41831       N002A  R173  00-00-02  INWOOD-207 ST        A      IND 2018-01-12   \n",
       "41873       N002A  R173  00-05-00  INWOOD-207 ST        A      IND 2018-01-12   \n",
       "41915       N002A  R173  00-05-01  INWOOD-207 ST        A      IND 2018-01-12   \n",
       "\n",
       "           Time Description    Entries     Exits            DateTime  \n",
       "41495  08:00:00     REGULAR        301         0 2018-01-12 08:00:00  \n",
       "41537  08:00:00     REGULAR   67108872  16777412 2018-01-12 08:00:00  \n",
       "41579  08:00:00     REGULAR    4144041    760256 2018-01-12 08:00:00  \n",
       "41621  08:00:00     REGULAR  201807042    302674 2018-01-12 08:00:00  \n",
       "41663  08:00:00     REGULAR     742751    553278 2018-01-12 08:00:00  \n",
       "41705  08:00:00     REGULAR     332668    162141 2018-01-12 08:00:00  \n",
       "41747  08:00:00     REGULAR    5656200   3308462 2018-01-12 08:00:00  \n",
       "41789  08:00:00     REGULAR    9248297   5364632 2018-01-12 08:00:00  \n",
       "41831  08:00:00     REGULAR    6382835   3684013 2018-01-12 08:00:00  \n",
       "41873  08:00:00     REGULAR       3414         0 2018-01-12 08:00:00  \n",
       "41915  08:00:00     REGULAR          0       522 2018-01-12 08:00:00  "
      ]
     },
     "execution_count": 13,
     "metadata": {},
     "output_type": "execute_result"
    }
   ],
   "source": [
    "sample2_mask = ((raw_df['Date'] == '2018-01-12')\n",
    "        & (raw_df['Time'] == '08:00:00')\n",
    "        & (raw_df['Unit'] == 'R173'))\n",
    "raw_df[sample2_mask]"
   ]
  },
  {
   "cell_type": "markdown",
   "metadata": {},
   "source": [
    "* **Observation:** Some turnstiles don't have increasing Entries/Exists values, due to disuse or malfunction."
   ]
  },
  {
   "cell_type": "markdown",
   "metadata": {},
   "source": [
    "## Find traffic counts per time period"
   ]
  },
  {
   "cell_type": "code",
   "execution_count": 14,
   "metadata": {
    "scrolled": false
   },
   "outputs": [
    {
     "data": {
      "text/html": [
       "<div>\n",
       "<style>\n",
       "    .dataframe thead tr:only-child th {\n",
       "        text-align: right;\n",
       "    }\n",
       "\n",
       "    .dataframe thead th {\n",
       "        text-align: left;\n",
       "    }\n",
       "\n",
       "    .dataframe tbody tr th {\n",
       "        vertical-align: top;\n",
       "    }\n",
       "</style>\n",
       "<table border=\"1\" class=\"dataframe\">\n",
       "  <thead>\n",
       "    <tr style=\"text-align: right;\">\n",
       "      <th></th>\n",
       "      <th></th>\n",
       "      <th></th>\n",
       "      <th></th>\n",
       "      <th>Date</th>\n",
       "      <th>Entries</th>\n",
       "      <th>Exits</th>\n",
       "      <th>DateTime</th>\n",
       "      <th>dt_delta</th>\n",
       "      <th>entries_delta</th>\n",
       "      <th>exits_delta</th>\n",
       "    </tr>\n",
       "    <tr>\n",
       "      <th>ControlArea</th>\n",
       "      <th>Unit</th>\n",
       "      <th>SCP</th>\n",
       "      <th>Station</th>\n",
       "      <th></th>\n",
       "      <th></th>\n",
       "      <th></th>\n",
       "      <th></th>\n",
       "      <th></th>\n",
       "      <th></th>\n",
       "      <th></th>\n",
       "    </tr>\n",
       "  </thead>\n",
       "  <tbody>\n",
       "    <tr>\n",
       "      <th rowspan=\"5\" valign=\"top\">A002</th>\n",
       "      <th rowspan=\"5\" valign=\"top\">R051</th>\n",
       "      <th rowspan=\"5\" valign=\"top\">02-00-00</th>\n",
       "      <th>59 ST</th>\n",
       "      <td>2018-01-06</td>\n",
       "      <td>6470216</td>\n",
       "      <td>2190123</td>\n",
       "      <td>2018-01-06 03:00:00</td>\n",
       "      <td>NaT</td>\n",
       "      <td>NaN</td>\n",
       "      <td>NaN</td>\n",
       "    </tr>\n",
       "    <tr>\n",
       "      <th>59 ST</th>\n",
       "      <td>2018-01-06</td>\n",
       "      <td>6470223</td>\n",
       "      <td>2190140</td>\n",
       "      <td>2018-01-06 07:00:00</td>\n",
       "      <td>04:00:00</td>\n",
       "      <td>7.0</td>\n",
       "      <td>17.0</td>\n",
       "    </tr>\n",
       "    <tr>\n",
       "      <th>59 ST</th>\n",
       "      <td>2018-01-06</td>\n",
       "      <td>6470256</td>\n",
       "      <td>2190229</td>\n",
       "      <td>2018-01-06 11:00:00</td>\n",
       "      <td>04:00:00</td>\n",
       "      <td>33.0</td>\n",
       "      <td>89.0</td>\n",
       "    </tr>\n",
       "    <tr>\n",
       "      <th>59 ST</th>\n",
       "      <td>2018-01-06</td>\n",
       "      <td>6470379</td>\n",
       "      <td>2190299</td>\n",
       "      <td>2018-01-06 15:00:00</td>\n",
       "      <td>04:00:00</td>\n",
       "      <td>123.0</td>\n",
       "      <td>70.0</td>\n",
       "    </tr>\n",
       "    <tr>\n",
       "      <th>59 ST</th>\n",
       "      <td>2018-01-06</td>\n",
       "      <td>6470665</td>\n",
       "      <td>2190366</td>\n",
       "      <td>2018-01-06 19:00:00</td>\n",
       "      <td>04:00:00</td>\n",
       "      <td>286.0</td>\n",
       "      <td>67.0</td>\n",
       "    </tr>\n",
       "  </tbody>\n",
       "</table>\n",
       "</div>"
      ],
      "text/plain": [
       "                                        Date  Entries    Exits  \\\n",
       "ControlArea Unit SCP      Station                                \n",
       "A002        R051 02-00-00 59 ST   2018-01-06  6470216  2190123   \n",
       "                          59 ST   2018-01-06  6470223  2190140   \n",
       "                          59 ST   2018-01-06  6470256  2190229   \n",
       "                          59 ST   2018-01-06  6470379  2190299   \n",
       "                          59 ST   2018-01-06  6470665  2190366   \n",
       "\n",
       "                                             DateTime dt_delta  entries_delta  \\\n",
       "ControlArea Unit SCP      Station                                               \n",
       "A002        R051 02-00-00 59 ST   2018-01-06 03:00:00      NaT            NaN   \n",
       "                          59 ST   2018-01-06 07:00:00 04:00:00            7.0   \n",
       "                          59 ST   2018-01-06 11:00:00 04:00:00           33.0   \n",
       "                          59 ST   2018-01-06 15:00:00 04:00:00          123.0   \n",
       "                          59 ST   2018-01-06 19:00:00 04:00:00          286.0   \n",
       "\n",
       "                                   exits_delta  \n",
       "ControlArea Unit SCP      Station               \n",
       "A002        R051 02-00-00 59 ST            NaN  \n",
       "                          59 ST           17.0  \n",
       "                          59 ST           89.0  \n",
       "                          59 ST           70.0  \n",
       "                          59 ST           67.0  "
      ]
     },
     "execution_count": 14,
     "metadata": {},
     "output_type": "execute_result"
    }
   ],
   "source": [
    "# raw_df.groupby(['ControlArea', 'Unit', 'SCP', 'Station'])\n",
    "\n",
    "delta_df = raw_df.copy()\n",
    "delta_df = delta_df.drop(['LineName', 'Division', 'Description', 'Time'], axis=1)\n",
    "delta_df.set_index(['ControlArea', 'Unit', 'SCP', 'Station'], inplace=True)\n",
    "delta_df.sort_values(by=['DateTime'])\n",
    "\n",
    "delta_df['dt_delta'] = delta_df['DateTime'].diff()\n",
    "delta_df['entries_delta'] = delta_df['Entries'].diff()\n",
    "delta_df['exits_delta'] = delta_df['Exits'].diff()\n",
    "# delta_df = delta_df.drop(['Exits', 'Entries'], axis=1)  # Will use below\n",
    "\n",
    "delta_df.head()"
   ]
  },
  {
   "cell_type": "code",
   "execution_count": 15,
   "metadata": {
    "scrolled": true
   },
   "outputs": [
    {
     "data": {
      "text/plain": [
       "1328"
      ]
     },
     "execution_count": 15,
     "metadata": {},
     "output_type": "execute_result"
    }
   ],
   "source": [
    "len(delta_df['dt_delta'].unique())"
   ]
  },
  {
   "cell_type": "markdown",
   "metadata": {},
   "source": [
    "* **Observation:** Just as the times are irregular, so are the time intervals per turnstile."
   ]
  },
  {
   "cell_type": "code",
   "execution_count": 16,
   "metadata": {},
   "outputs": [
    {
     "name": "stdout",
     "output_type": "stream",
     "text": [
      "Rows: 201118\n",
      "Rows w/ entries_delta < 0: 3944\n",
      "Rows w/ exits_delta < 0: 3650\n"
     ]
    }
   ],
   "source": [
    "print('Rows: {}'.format(delta_df.shape[0]))\n",
    "print('Rows w/ entries_delta < 0: {}'.format(\n",
    "    len([True for delta in delta_df['entries_delta'] if delta < 0])))\n",
    "print('Rows w/ exits_delta < 0: {}'.format(\n",
    "    len([True for delta in delta_df['exits_delta'] if delta < 0])))"
   ]
  },
  {
   "cell_type": "code",
   "execution_count": 17,
   "metadata": {
    "scrolled": true
   },
   "outputs": [
    {
     "name": "stdout",
     "output_type": "stream",
     "text": [
      "Rows w/ entries_delta > 100,000,000: 217\n",
      "Rows w/ exits_delta > 100,000,000: 142\n"
     ]
    }
   ],
   "source": [
    "print('Rows w/ entries_delta > 100,000,000: {}'.format(\n",
    "    len([True for delta in delta_df['entries_delta'] if delta > 100_000_000])))\n",
    "print('Rows w/ exits_delta > 100,000,000: {}'.format(\n",
    "    len([True for delta in delta_df['exits_delta'] if delta > 100_000_000])))"
   ]
  },
  {
   "cell_type": "markdown",
   "metadata": {},
   "source": [
    "* **Observation:** There is definitely some bad data here.  (Probably the result of diff'ing between groups.)"
   ]
  },
  {
   "cell_type": "code",
   "execution_count": 18,
   "metadata": {},
   "outputs": [
    {
     "name": "stdout",
     "output_type": "stream",
     "text": [
      "entries_delta: 99th percentile: 208354.47999999704\n",
      "entries_delta: 98th percentile: 1259.0\n",
      "entries_delta: 97th percentile: 996.5199999999895\n",
      "entries_delta: 96th percentile: 838.359999999986\n",
      "entries_delta: 95th percentile: 738.0\n"
     ]
    }
   ],
   "source": [
    "print('entries_delta: 99th percentile: {}'.format(delta_df['entries_delta'].quantile(q=0.99)))\n",
    "print('entries_delta: 98th percentile: {}'.format(delta_df['entries_delta'].quantile(q=0.98)))\n",
    "print('entries_delta: 97th percentile: {}'.format(delta_df['entries_delta'].quantile(q=0.97)))\n",
    "print('entries_delta: 96th percentile: {}'.format(delta_df['entries_delta'].quantile(q=0.96)))\n",
    "print('entries_delta: 95th percentile: {}'.format(delta_df['entries_delta'].quantile(q=0.95)))"
   ]
  },
  {
   "cell_type": "code",
   "execution_count": 19,
   "metadata": {
    "scrolled": true
   },
   "outputs": [
    {
     "name": "stdout",
     "output_type": "stream",
     "text": [
      "exits_delta: 99th percentile: 78240.75999999986\n",
      "exits_delta: 98th percentile: 1138.679999999993\n",
      "exits_delta: 97th percentile: 844.0\n",
      "exits_delta: 96th percentile: 691.0\n",
      "exits_delta: 95th percentile: 593.0\n"
     ]
    }
   ],
   "source": [
    "print('exits_delta: 99th percentile: {}'.format(delta_df['exits_delta'].quantile(q=0.99)))\n",
    "print('exits_delta: 98th percentile: {}'.format(delta_df['exits_delta'].quantile(q=0.98)))\n",
    "print('exits_delta: 97th percentile: {}'.format(delta_df['exits_delta'].quantile(q=0.97)))\n",
    "print('exits_delta: 96th percentile: {}'.format(delta_df['exits_delta'].quantile(q=0.96)))\n",
    "print('exits_delta: 95th percentile: {}'.format(delta_df['exits_delta'].quantile(q=0.95)))"
   ]
  },
  {
   "cell_type": "markdown",
   "metadata": {},
   "source": [
    "## Remove rows with questionable traffic counts"
   ]
  },
  {
   "cell_type": "code",
   "execution_count": 20,
   "metadata": {},
   "outputs": [],
   "source": [
    "filter_mask = ((delta_df['entries_delta'] >= 0)\n",
    "               & (delta_df['exits_delta'] >= 0)\n",
    "               & (delta_df['entries_delta'] <= delta_df['entries_delta'].quantile(q=0.98))\n",
    "               & (delta_df['exits_delta'] <= delta_df['exits_delta'].quantile(q=0.98))\n",
    "              )"
   ]
  },
  {
   "cell_type": "code",
   "execution_count": 21,
   "metadata": {
    "scrolled": true
   },
   "outputs": [
    {
     "data": {
      "text/plain": [
       "True     190715\n",
       "False     10403\n",
       "dtype: int64"
      ]
     },
     "execution_count": 21,
     "metadata": {},
     "output_type": "execute_result"
    }
   ],
   "source": [
    "filter_mask.value_counts()"
   ]
  },
  {
   "cell_type": "code",
   "execution_count": 22,
   "metadata": {
    "scrolled": true
   },
   "outputs": [],
   "source": [
    "filtered_df = delta_df.copy()\n",
    "filtered_df = filtered_df[filter_mask]\n",
    "filtered_df.drop(['Entries', 'Exits'], axis=1, inplace=True)"
   ]
  },
  {
   "cell_type": "markdown",
   "metadata": {},
   "source": [
    "## Hourly chart"
   ]
  },
  {
   "cell_type": "code",
   "execution_count": 48,
   "metadata": {},
   "outputs": [],
   "source": [
    "hourly_filtered_mask = ((delta_df['DateTime'].dt.minute == 0)\n",
    "                     & (delta_df['DateTime'].dt.second == 0)\n",
    "                    )"
   ]
  },
  {
   "cell_type": "code",
   "execution_count": 49,
   "metadata": {},
   "outputs": [
    {
     "name": "stderr",
     "output_type": "stream",
     "text": [
      "/Applications/anaconda3/lib/python3.6/site-packages/ipykernel_launcher.py:1: UserWarning: Boolean Series key will be reindexed to match DataFrame index.\n",
      "  \"\"\"Entry point for launching an IPython kernel.\n"
     ]
    },
    {
     "ename": "Exception",
     "evalue": "cannot handle a non-unique multi-index!",
     "output_type": "error",
     "traceback": [
      "\u001b[0;31m---------------------------------------------------------------------------\u001b[0m",
      "\u001b[0;31mException\u001b[0m                                 Traceback (most recent call last)",
      "\u001b[0;32m<ipython-input-49-d455704838e8>\u001b[0m in \u001b[0;36m<module>\u001b[0;34m()\u001b[0m\n\u001b[0;32m----> 1\u001b[0;31m \u001b[0mhourly_filtered_grp\u001b[0m \u001b[0;34m=\u001b[0m \u001b[0mfiltered_df\u001b[0m\u001b[0;34m[\u001b[0m\u001b[0mhourly_filtered_mask\u001b[0m\u001b[0;34m]\u001b[0m\u001b[0;34m.\u001b[0m\u001b[0mgroupby\u001b[0m\u001b[0;34m(\u001b[0m\u001b[0;34m[\u001b[0m\u001b[0;34m'Station'\u001b[0m\u001b[0;34m,\u001b[0m \u001b[0;34m'DateTime'\u001b[0m\u001b[0;34m]\u001b[0m\u001b[0;34m)\u001b[0m\u001b[0;34m\u001b[0m\u001b[0m\n\u001b[0m\u001b[1;32m      2\u001b[0m \u001b[0mhourly_entries_df\u001b[0m \u001b[0;34m=\u001b[0m \u001b[0mpd\u001b[0m\u001b[0;34m.\u001b[0m\u001b[0mDataFrame\u001b[0m\u001b[0;34m(\u001b[0m\u001b[0mhourly_filtered_grp\u001b[0m\u001b[0;34m[\u001b[0m\u001b[0;34m'entries_delta'\u001b[0m\u001b[0;34m]\u001b[0m\u001b[0;34m.\u001b[0m\u001b[0maggregate\u001b[0m\u001b[0;34m(\u001b[0m\u001b[0;34m'sum'\u001b[0m\u001b[0;34m)\u001b[0m\u001b[0;34m.\u001b[0m\u001b[0mastype\u001b[0m\u001b[0;34m(\u001b[0m\u001b[0mint\u001b[0m\u001b[0;34m)\u001b[0m\u001b[0;34m)\u001b[0m\u001b[0;34m\u001b[0m\u001b[0m\n\u001b[1;32m      3\u001b[0m \u001b[0mhourly_exits_df\u001b[0m \u001b[0;34m=\u001b[0m \u001b[0mpd\u001b[0m\u001b[0;34m.\u001b[0m\u001b[0mDataFrame\u001b[0m\u001b[0;34m(\u001b[0m\u001b[0mhourly_filtered_grp\u001b[0m\u001b[0;34m[\u001b[0m\u001b[0;34m'exits_delta'\u001b[0m\u001b[0;34m]\u001b[0m\u001b[0;34m.\u001b[0m\u001b[0maggregate\u001b[0m\u001b[0;34m(\u001b[0m\u001b[0;34m'sum'\u001b[0m\u001b[0;34m)\u001b[0m\u001b[0;34m.\u001b[0m\u001b[0mastype\u001b[0m\u001b[0;34m(\u001b[0m\u001b[0mint\u001b[0m\u001b[0;34m)\u001b[0m\u001b[0;34m)\u001b[0m\u001b[0;34m\u001b[0m\u001b[0m\n",
      "\u001b[0;32m/Applications/anaconda3/lib/python3.6/site-packages/pandas/core/frame.py\u001b[0m in \u001b[0;36m__getitem__\u001b[0;34m(self, key)\u001b[0m\n\u001b[1;32m   1956\u001b[0m         \u001b[0;32mif\u001b[0m \u001b[0misinstance\u001b[0m\u001b[0;34m(\u001b[0m\u001b[0mkey\u001b[0m\u001b[0;34m,\u001b[0m \u001b[0;34m(\u001b[0m\u001b[0mSeries\u001b[0m\u001b[0;34m,\u001b[0m \u001b[0mnp\u001b[0m\u001b[0;34m.\u001b[0m\u001b[0mndarray\u001b[0m\u001b[0;34m,\u001b[0m \u001b[0mIndex\u001b[0m\u001b[0;34m,\u001b[0m \u001b[0mlist\u001b[0m\u001b[0;34m)\u001b[0m\u001b[0;34m)\u001b[0m\u001b[0;34m:\u001b[0m\u001b[0;34m\u001b[0m\u001b[0m\n\u001b[1;32m   1957\u001b[0m             \u001b[0;31m# either boolean or fancy integer index\u001b[0m\u001b[0;34m\u001b[0m\u001b[0;34m\u001b[0m\u001b[0m\n\u001b[0;32m-> 1958\u001b[0;31m             \u001b[0;32mreturn\u001b[0m \u001b[0mself\u001b[0m\u001b[0;34m.\u001b[0m\u001b[0m_getitem_array\u001b[0m\u001b[0;34m(\u001b[0m\u001b[0mkey\u001b[0m\u001b[0;34m)\u001b[0m\u001b[0;34m\u001b[0m\u001b[0m\n\u001b[0m\u001b[1;32m   1959\u001b[0m         \u001b[0;32melif\u001b[0m \u001b[0misinstance\u001b[0m\u001b[0;34m(\u001b[0m\u001b[0mkey\u001b[0m\u001b[0;34m,\u001b[0m \u001b[0mDataFrame\u001b[0m\u001b[0;34m)\u001b[0m\u001b[0;34m:\u001b[0m\u001b[0;34m\u001b[0m\u001b[0m\n\u001b[1;32m   1960\u001b[0m             \u001b[0;32mreturn\u001b[0m \u001b[0mself\u001b[0m\u001b[0;34m.\u001b[0m\u001b[0m_getitem_frame\u001b[0m\u001b[0;34m(\u001b[0m\u001b[0mkey\u001b[0m\u001b[0;34m)\u001b[0m\u001b[0;34m\u001b[0m\u001b[0m\n",
      "\u001b[0;32m/Applications/anaconda3/lib/python3.6/site-packages/pandas/core/frame.py\u001b[0m in \u001b[0;36m_getitem_array\u001b[0;34m(self, key)\u001b[0m\n\u001b[1;32m   1996\u001b[0m             \u001b[0;31m# check_bool_indexer will throw exception if Series key cannot\u001b[0m\u001b[0;34m\u001b[0m\u001b[0;34m\u001b[0m\u001b[0m\n\u001b[1;32m   1997\u001b[0m             \u001b[0;31m# be reindexed to match DataFrame rows\u001b[0m\u001b[0;34m\u001b[0m\u001b[0;34m\u001b[0m\u001b[0m\n\u001b[0;32m-> 1998\u001b[0;31m             \u001b[0mkey\u001b[0m \u001b[0;34m=\u001b[0m \u001b[0mcheck_bool_indexer\u001b[0m\u001b[0;34m(\u001b[0m\u001b[0mself\u001b[0m\u001b[0;34m.\u001b[0m\u001b[0mindex\u001b[0m\u001b[0;34m,\u001b[0m \u001b[0mkey\u001b[0m\u001b[0;34m)\u001b[0m\u001b[0;34m\u001b[0m\u001b[0m\n\u001b[0m\u001b[1;32m   1999\u001b[0m             \u001b[0mindexer\u001b[0m \u001b[0;34m=\u001b[0m \u001b[0mkey\u001b[0m\u001b[0;34m.\u001b[0m\u001b[0mnonzero\u001b[0m\u001b[0;34m(\u001b[0m\u001b[0;34m)\u001b[0m\u001b[0;34m[\u001b[0m\u001b[0;36m0\u001b[0m\u001b[0;34m]\u001b[0m\u001b[0;34m\u001b[0m\u001b[0m\n\u001b[1;32m   2000\u001b[0m             \u001b[0;32mreturn\u001b[0m \u001b[0mself\u001b[0m\u001b[0;34m.\u001b[0m\u001b[0mtake\u001b[0m\u001b[0;34m(\u001b[0m\u001b[0mindexer\u001b[0m\u001b[0;34m,\u001b[0m \u001b[0maxis\u001b[0m\u001b[0;34m=\u001b[0m\u001b[0;36m0\u001b[0m\u001b[0;34m,\u001b[0m \u001b[0mconvert\u001b[0m\u001b[0;34m=\u001b[0m\u001b[0;32mFalse\u001b[0m\u001b[0;34m)\u001b[0m\u001b[0;34m\u001b[0m\u001b[0m\n",
      "\u001b[0;32m/Applications/anaconda3/lib/python3.6/site-packages/pandas/core/indexing.py\u001b[0m in \u001b[0;36mcheck_bool_indexer\u001b[0;34m(ax, key)\u001b[0m\n\u001b[1;32m   1934\u001b[0m     \u001b[0mresult\u001b[0m \u001b[0;34m=\u001b[0m \u001b[0mkey\u001b[0m\u001b[0;34m\u001b[0m\u001b[0m\n\u001b[1;32m   1935\u001b[0m     \u001b[0;32mif\u001b[0m \u001b[0misinstance\u001b[0m\u001b[0;34m(\u001b[0m\u001b[0mkey\u001b[0m\u001b[0;34m,\u001b[0m \u001b[0mABCSeries\u001b[0m\u001b[0;34m)\u001b[0m \u001b[0;32mand\u001b[0m \u001b[0;32mnot\u001b[0m \u001b[0mkey\u001b[0m\u001b[0;34m.\u001b[0m\u001b[0mindex\u001b[0m\u001b[0;34m.\u001b[0m\u001b[0mequals\u001b[0m\u001b[0;34m(\u001b[0m\u001b[0max\u001b[0m\u001b[0;34m)\u001b[0m\u001b[0;34m:\u001b[0m\u001b[0;34m\u001b[0m\u001b[0m\n\u001b[0;32m-> 1936\u001b[0;31m         \u001b[0mresult\u001b[0m \u001b[0;34m=\u001b[0m \u001b[0mresult\u001b[0m\u001b[0;34m.\u001b[0m\u001b[0mreindex\u001b[0m\u001b[0;34m(\u001b[0m\u001b[0max\u001b[0m\u001b[0;34m)\u001b[0m\u001b[0;34m\u001b[0m\u001b[0m\n\u001b[0m\u001b[1;32m   1937\u001b[0m         \u001b[0mmask\u001b[0m \u001b[0;34m=\u001b[0m \u001b[0misnull\u001b[0m\u001b[0;34m(\u001b[0m\u001b[0mresult\u001b[0m\u001b[0;34m.\u001b[0m\u001b[0m_values\u001b[0m\u001b[0;34m)\u001b[0m\u001b[0;34m\u001b[0m\u001b[0m\n\u001b[1;32m   1938\u001b[0m         \u001b[0;32mif\u001b[0m \u001b[0mmask\u001b[0m\u001b[0;34m.\u001b[0m\u001b[0many\u001b[0m\u001b[0;34m(\u001b[0m\u001b[0;34m)\u001b[0m\u001b[0;34m:\u001b[0m\u001b[0;34m\u001b[0m\u001b[0m\n",
      "\u001b[0;32m/Applications/anaconda3/lib/python3.6/site-packages/pandas/core/series.py\u001b[0m in \u001b[0;36mreindex\u001b[0;34m(self, index, **kwargs)\u001b[0m\n\u001b[1;32m   2424\u001b[0m     \u001b[0;34m@\u001b[0m\u001b[0mAppender\u001b[0m\u001b[0;34m(\u001b[0m\u001b[0mgeneric\u001b[0m\u001b[0;34m.\u001b[0m\u001b[0m_shared_docs\u001b[0m\u001b[0;34m[\u001b[0m\u001b[0;34m'reindex'\u001b[0m\u001b[0;34m]\u001b[0m \u001b[0;34m%\u001b[0m \u001b[0m_shared_doc_kwargs\u001b[0m\u001b[0;34m)\u001b[0m\u001b[0;34m\u001b[0m\u001b[0m\n\u001b[1;32m   2425\u001b[0m     \u001b[0;32mdef\u001b[0m \u001b[0mreindex\u001b[0m\u001b[0;34m(\u001b[0m\u001b[0mself\u001b[0m\u001b[0;34m,\u001b[0m \u001b[0mindex\u001b[0m\u001b[0;34m=\u001b[0m\u001b[0;32mNone\u001b[0m\u001b[0;34m,\u001b[0m \u001b[0;34m**\u001b[0m\u001b[0mkwargs\u001b[0m\u001b[0;34m)\u001b[0m\u001b[0;34m:\u001b[0m\u001b[0;34m\u001b[0m\u001b[0m\n\u001b[0;32m-> 2426\u001b[0;31m         \u001b[0;32mreturn\u001b[0m \u001b[0msuper\u001b[0m\u001b[0;34m(\u001b[0m\u001b[0mSeries\u001b[0m\u001b[0;34m,\u001b[0m \u001b[0mself\u001b[0m\u001b[0;34m)\u001b[0m\u001b[0;34m.\u001b[0m\u001b[0mreindex\u001b[0m\u001b[0;34m(\u001b[0m\u001b[0mindex\u001b[0m\u001b[0;34m=\u001b[0m\u001b[0mindex\u001b[0m\u001b[0;34m,\u001b[0m \u001b[0;34m**\u001b[0m\u001b[0mkwargs\u001b[0m\u001b[0;34m)\u001b[0m\u001b[0;34m\u001b[0m\u001b[0m\n\u001b[0m\u001b[1;32m   2427\u001b[0m \u001b[0;34m\u001b[0m\u001b[0m\n\u001b[1;32m   2428\u001b[0m     \u001b[0;34m@\u001b[0m\u001b[0mAppender\u001b[0m\u001b[0;34m(\u001b[0m\u001b[0mgeneric\u001b[0m\u001b[0;34m.\u001b[0m\u001b[0m_shared_docs\u001b[0m\u001b[0;34m[\u001b[0m\u001b[0;34m'fillna'\u001b[0m\u001b[0;34m]\u001b[0m \u001b[0;34m%\u001b[0m \u001b[0m_shared_doc_kwargs\u001b[0m\u001b[0;34m)\u001b[0m\u001b[0;34m\u001b[0m\u001b[0m\n",
      "\u001b[0;32m/Applications/anaconda3/lib/python3.6/site-packages/pandas/core/generic.py\u001b[0m in \u001b[0;36mreindex\u001b[0;34m(self, *args, **kwargs)\u001b[0m\n\u001b[1;32m   2513\u001b[0m         \u001b[0;31m# perform the reindex on the axes\u001b[0m\u001b[0;34m\u001b[0m\u001b[0;34m\u001b[0m\u001b[0m\n\u001b[1;32m   2514\u001b[0m         return self._reindex_axes(axes, level, limit, tolerance, method,\n\u001b[0;32m-> 2515\u001b[0;31m                                   fill_value, copy).__finalize__(self)\n\u001b[0m\u001b[1;32m   2516\u001b[0m \u001b[0;34m\u001b[0m\u001b[0m\n\u001b[1;32m   2517\u001b[0m     def _reindex_axes(self, axes, level, limit, tolerance, method, fill_value,\n",
      "\u001b[0;32m/Applications/anaconda3/lib/python3.6/site-packages/pandas/core/generic.py\u001b[0m in \u001b[0;36m_reindex_axes\u001b[0;34m(self, axes, level, limit, tolerance, method, fill_value, copy)\u001b[0m\n\u001b[1;32m   2526\u001b[0m             \u001b[0max\u001b[0m \u001b[0;34m=\u001b[0m \u001b[0mself\u001b[0m\u001b[0;34m.\u001b[0m\u001b[0m_get_axis\u001b[0m\u001b[0;34m(\u001b[0m\u001b[0ma\u001b[0m\u001b[0;34m)\u001b[0m\u001b[0;34m\u001b[0m\u001b[0m\n\u001b[1;32m   2527\u001b[0m             new_index, indexer = ax.reindex(labels, level=level, limit=limit,\n\u001b[0;32m-> 2528\u001b[0;31m                                             tolerance=tolerance, method=method)\n\u001b[0m\u001b[1;32m   2529\u001b[0m \u001b[0;34m\u001b[0m\u001b[0m\n\u001b[1;32m   2530\u001b[0m             \u001b[0maxis\u001b[0m \u001b[0;34m=\u001b[0m \u001b[0mself\u001b[0m\u001b[0;34m.\u001b[0m\u001b[0m_get_axis_number\u001b[0m\u001b[0;34m(\u001b[0m\u001b[0ma\u001b[0m\u001b[0;34m)\u001b[0m\u001b[0;34m\u001b[0m\u001b[0m\n",
      "\u001b[0;32m/Applications/anaconda3/lib/python3.6/site-packages/pandas/core/indexes/multi.py\u001b[0m in \u001b[0;36mreindex\u001b[0;34m(self, target, method, level, limit, tolerance)\u001b[0m\n\u001b[1;32m   1861\u001b[0m                                                tolerance=tolerance)\n\u001b[1;32m   1862\u001b[0m                 \u001b[0;32melse\u001b[0m\u001b[0;34m:\u001b[0m\u001b[0;34m\u001b[0m\u001b[0m\n\u001b[0;32m-> 1863\u001b[0;31m                     \u001b[0;32mraise\u001b[0m \u001b[0mException\u001b[0m\u001b[0;34m(\u001b[0m\u001b[0;34m\"cannot handle a non-unique multi-index!\"\u001b[0m\u001b[0;34m)\u001b[0m\u001b[0;34m\u001b[0m\u001b[0m\n\u001b[0m\u001b[1;32m   1864\u001b[0m \u001b[0;34m\u001b[0m\u001b[0m\n\u001b[1;32m   1865\u001b[0m         \u001b[0;32mif\u001b[0m \u001b[0;32mnot\u001b[0m \u001b[0misinstance\u001b[0m\u001b[0;34m(\u001b[0m\u001b[0mtarget\u001b[0m\u001b[0;34m,\u001b[0m \u001b[0mMultiIndex\u001b[0m\u001b[0;34m)\u001b[0m\u001b[0;34m:\u001b[0m\u001b[0;34m\u001b[0m\u001b[0m\n",
      "\u001b[0;31mException\u001b[0m: cannot handle a non-unique multi-index!"
     ]
    }
   ],
   "source": [
    "hourly_filtered_grp = filtered_df[hourly_filtered_mask].groupby(['Station', 'DateTime'])\n",
    "hourly_entries_df = pd.DataFrame(hourly_filtered_grp['entries_delta'].aggregate('sum').astype(int))\n",
    "hourly_exits_df = pd.DataFrame(hourly_filtered_grp['exits_delta'].aggregate('sum').astype(int))"
   ]
  },
  {
   "cell_type": "code",
   "execution_count": 46,
   "metadata": {},
   "outputs": [
    {
     "ename": "NameError",
     "evalue": "name 'hourly_entries_df' is not defined",
     "output_type": "error",
     "traceback": [
      "\u001b[0;31m---------------------------------------------------------------------------\u001b[0m",
      "\u001b[0;31mNameError\u001b[0m                                 Traceback (most recent call last)",
      "\u001b[0;32m<ipython-input-46-9f2e9dc19061>\u001b[0m in \u001b[0;36m<module>\u001b[0;34m()\u001b[0m\n\u001b[0;32m----> 1\u001b[0;31m \u001b[0mhourly_entries_df\u001b[0m\u001b[0;34m.\u001b[0m\u001b[0mhist\u001b[0m\u001b[0;34m(\u001b[0m\u001b[0;34m)\u001b[0m\u001b[0;34m\u001b[0m\u001b[0m\n\u001b[0m",
      "\u001b[0;31mNameError\u001b[0m: name 'hourly_entries_df' is not defined"
     ]
    }
   ],
   "source": [
    "hourly_entries_df.hist()"
   ]
  },
  {
   "cell_type": "code",
   "execution_count": 47,
   "metadata": {},
   "outputs": [
    {
     "ename": "NameError",
     "evalue": "name 'hourly_exits_df' is not defined",
     "output_type": "error",
     "traceback": [
      "\u001b[0;31m---------------------------------------------------------------------------\u001b[0m",
      "\u001b[0;31mNameError\u001b[0m                                 Traceback (most recent call last)",
      "\u001b[0;32m<ipython-input-47-f23a4911479e>\u001b[0m in \u001b[0;36m<module>\u001b[0;34m()\u001b[0m\n\u001b[0;32m----> 1\u001b[0;31m \u001b[0mhourly_exits_df\u001b[0m\u001b[0;34m.\u001b[0m\u001b[0mhist\u001b[0m\u001b[0;34m(\u001b[0m\u001b[0;34m)\u001b[0m\u001b[0;34m\u001b[0m\u001b[0m\n\u001b[0m",
      "\u001b[0;31mNameError\u001b[0m: name 'hourly_exits_df' is not defined"
     ]
    }
   ],
   "source": [
    "hourly_exits_df.hist()"
   ]
  },
  {
   "cell_type": "markdown",
   "metadata": {},
   "source": [
    "## Q: Can we identify which stations are in a business district?\n",
    "## A: Not with certainty."
   ]
  },
  {
   "cell_type": "code",
   "execution_count": 23,
   "metadata": {
    "collapsed": true
   },
   "outputs": [],
   "source": [
    "morning_mask = (delta_df['DateTime'].dt.hour >= 8) & (delta_df['DateTime'].dt.hour <= 10)"
   ]
  },
  {
   "cell_type": "code",
   "execution_count": 24,
   "metadata": {},
   "outputs": [
    {
     "data": {
      "text/plain": [
       "False    183048\n",
       "True      18070\n",
       "Name: DateTime, dtype: int64"
      ]
     },
     "execution_count": 24,
     "metadata": {},
     "output_type": "execute_result"
    }
   ],
   "source": [
    "morning_mask.value_counts()"
   ]
  },
  {
   "cell_type": "code",
   "execution_count": 25,
   "metadata": {
    "collapsed": true
   },
   "outputs": [],
   "source": [
    "evening_mask = (delta_df['DateTime'].dt.hour >= 16) & (delta_df['DateTime'].dt.hour <= 18)"
   ]
  },
  {
   "cell_type": "code",
   "execution_count": 26,
   "metadata": {},
   "outputs": [
    {
     "data": {
      "text/plain": [
       "False    186237\n",
       "True      14881\n",
       "Name: DateTime, dtype: int64"
      ]
     },
     "execution_count": 26,
     "metadata": {},
     "output_type": "execute_result"
    }
   ],
   "source": [
    "evening_mask.value_counts()"
   ]
  },
  {
   "cell_type": "markdown",
   "metadata": {},
   "source": [
    "* **Note:** We're filtering out ~5% of the rows."
   ]
  },
  {
   "cell_type": "code",
   "execution_count": 27,
   "metadata": {
    "collapsed": true
   },
   "outputs": [],
   "source": [
    "morning_station_df = delta_df[morning_mask].groupby(['Station']).sum()"
   ]
  },
  {
   "cell_type": "code",
   "execution_count": 28,
   "metadata": {},
   "outputs": [],
   "source": [
    "evening_station_df = delta_df[evening_mask].groupby(['Station']).sum()"
   ]
  },
  {
   "cell_type": "code",
   "execution_count": 29,
   "metadata": {},
   "outputs": [],
   "source": [
    "morning_business_stations_mask = morning_station_df['entries_delta'] < morning_station_df['exits_delta']\n",
    "morning_business_stations = set(morning_station_df[morning_business_stations_mask].index)"
   ]
  },
  {
   "cell_type": "code",
   "execution_count": 30,
   "metadata": {},
   "outputs": [],
   "source": [
    "evening_business_stations_mask = evening_station_df['entries_delta'] > evening_station_df['exits_delta']\n",
    "evening_business_stations = set(evening_station_df[evening_business_stations_mask].index)"
   ]
  },
  {
   "cell_type": "code",
   "execution_count": 31,
   "metadata": {},
   "outputs": [
    {
     "data": {
      "text/plain": [
       "69"
      ]
     },
     "execution_count": 31,
     "metadata": {},
     "output_type": "execute_result"
    }
   ],
   "source": [
    "len(morning_business_stations)"
   ]
  },
  {
   "cell_type": "code",
   "execution_count": 32,
   "metadata": {},
   "outputs": [
    {
     "data": {
      "text/plain": [
       "165"
      ]
     },
     "execution_count": 32,
     "metadata": {},
     "output_type": "execute_result"
    }
   ],
   "source": [
    "len(evening_business_stations)"
   ]
  },
  {
   "cell_type": "code",
   "execution_count": 33,
   "metadata": {},
   "outputs": [
    {
     "data": {
      "text/plain": [
       "29"
      ]
     },
     "execution_count": 33,
     "metadata": {},
     "output_type": "execute_result"
    }
   ],
   "source": [
    "len(morning_business_stations - evening_business_stations)"
   ]
  },
  {
   "cell_type": "code",
   "execution_count": 34,
   "metadata": {},
   "outputs": [
    {
     "data": {
      "text/plain": [
       "125"
      ]
     },
     "execution_count": 34,
     "metadata": {},
     "output_type": "execute_result"
    }
   ],
   "source": [
    "len(evening_business_stations - morning_business_stations)"
   ]
  },
  {
   "cell_type": "markdown",
   "metadata": {},
   "source": [
    "## Traffic per station"
   ]
  },
  {
   "cell_type": "code",
   "execution_count": 35,
   "metadata": {
    "collapsed": true
   },
   "outputs": [],
   "source": [
    "station_df = filtered_df.copy()\n",
    "station_df['traffic'] = station_df['entries_delta'] + station_df['exits_delta']\n",
    "station_df.drop(['dt_delta', 'entries_delta', 'exits_delta'], axis=1, inplace=True)\n",
    "station_df.index.ControlArea = 'ControlArea'\n",
    "station_df.index.Unit = 'Unit'\n",
    "station_df.index.SCP = 'SCP'\n",
    "station_df.reset_index(inplace=True)\n",
    "station_df.drop(['ControlArea', 'Unit', 'SCP', 'Date', 'DateTime'], axis=1, inplace=True)"
   ]
  },
  {
   "cell_type": "code",
   "execution_count": 36,
   "metadata": {
    "scrolled": true
   },
   "outputs": [],
   "source": [
    "station_grouped = station_df.groupby('Station')"
   ]
  },
  {
   "cell_type": "code",
   "execution_count": 37,
   "metadata": {},
   "outputs": [],
   "source": [
    "station_df = pd.DataFrame(station_grouped['traffic'].aggregate('sum').astype(int))"
   ]
  },
  {
   "cell_type": "code",
   "execution_count": 40,
   "metadata": {},
   "outputs": [
    {
     "data": {
      "text/html": [
       "<div>\n",
       "<style>\n",
       "    .dataframe thead tr:only-child th {\n",
       "        text-align: right;\n",
       "    }\n",
       "\n",
       "    .dataframe thead th {\n",
       "        text-align: left;\n",
       "    }\n",
       "\n",
       "    .dataframe tbody tr th {\n",
       "        vertical-align: top;\n",
       "    }\n",
       "</style>\n",
       "<table border=\"1\" class=\"dataframe\">\n",
       "  <thead>\n",
       "    <tr style=\"text-align: right;\">\n",
       "      <th></th>\n",
       "      <th>traffic</th>\n",
       "    </tr>\n",
       "    <tr>\n",
       "      <th>Station</th>\n",
       "      <th></th>\n",
       "    </tr>\n",
       "  </thead>\n",
       "  <tbody>\n",
       "    <tr>\n",
       "      <th>BROAD CHANNEL</th>\n",
       "      <td>2153</td>\n",
       "    </tr>\n",
       "    <tr>\n",
       "      <th>BEACH 105 ST</th>\n",
       "      <td>3230</td>\n",
       "    </tr>\n",
       "    <tr>\n",
       "      <th>TOMPKINSVILLE</th>\n",
       "      <td>4423</td>\n",
       "    </tr>\n",
       "    <tr>\n",
       "      <th>BEACH 98 ST</th>\n",
       "      <td>5451</td>\n",
       "    </tr>\n",
       "    <tr>\n",
       "      <th>AVENUE I</th>\n",
       "      <td>5835</td>\n",
       "    </tr>\n",
       "    <tr>\n",
       "      <th>SENECA AVE</th>\n",
       "      <td>6427</td>\n",
       "    </tr>\n",
       "    <tr>\n",
       "      <th>ROCKAWAY PARK B</th>\n",
       "      <td>8187</td>\n",
       "    </tr>\n",
       "    <tr>\n",
       "      <th>BEACH 44 ST</th>\n",
       "      <td>8617</td>\n",
       "    </tr>\n",
       "    <tr>\n",
       "      <th>BEACH 90 ST</th>\n",
       "      <td>8783</td>\n",
       "    </tr>\n",
       "    <tr>\n",
       "      <th>AVENUE P</th>\n",
       "      <td>8837</td>\n",
       "    </tr>\n",
       "    <tr>\n",
       "      <th>AQUEDUCT N.COND</th>\n",
       "      <td>10329</td>\n",
       "    </tr>\n",
       "    <tr>\n",
       "      <th>AQUEDUCT RACETR</th>\n",
       "      <td>10738</td>\n",
       "    </tr>\n",
       "    <tr>\n",
       "      <th>...</th>\n",
       "      <td>...</td>\n",
       "    </tr>\n",
       "    <tr>\n",
       "      <th>59 ST</th>\n",
       "      <td>620058</td>\n",
       "    </tr>\n",
       "    <tr>\n",
       "      <th>CANAL ST</th>\n",
       "      <td>643046</td>\n",
       "    </tr>\n",
       "    <tr>\n",
       "      <th>42 ST-PORT AUTH</th>\n",
       "      <td>720097</td>\n",
       "    </tr>\n",
       "    <tr>\n",
       "      <th>125 ST</th>\n",
       "      <td>728604</td>\n",
       "    </tr>\n",
       "    <tr>\n",
       "      <th>14 ST-UNION SQ</th>\n",
       "      <td>765832</td>\n",
       "    </tr>\n",
       "    <tr>\n",
       "      <th>34 ST-HERALD SQ</th>\n",
       "      <td>787456</td>\n",
       "    </tr>\n",
       "    <tr>\n",
       "      <th>86 ST</th>\n",
       "      <td>792219</td>\n",
       "    </tr>\n",
       "    <tr>\n",
       "      <th>TIMES SQ-42 ST</th>\n",
       "      <td>885256</td>\n",
       "    </tr>\n",
       "    <tr>\n",
       "      <th>GRD CNTRL-42 ST</th>\n",
       "      <td>893159</td>\n",
       "    </tr>\n",
       "    <tr>\n",
       "      <th>FULTON ST</th>\n",
       "      <td>895150</td>\n",
       "    </tr>\n",
       "    <tr>\n",
       "      <th>23 ST</th>\n",
       "      <td>950232</td>\n",
       "    </tr>\n",
       "    <tr>\n",
       "      <th>34 ST-PENN STA</th>\n",
       "      <td>1335601</td>\n",
       "    </tr>\n",
       "  </tbody>\n",
       "</table>\n",
       "<p>373 rows × 1 columns</p>\n",
       "</div>"
      ],
      "text/plain": [
       "                 traffic\n",
       "Station                 \n",
       "BROAD CHANNEL       2153\n",
       "BEACH 105 ST        3230\n",
       "TOMPKINSVILLE       4423\n",
       "BEACH 98 ST         5451\n",
       "AVENUE I            5835\n",
       "SENECA AVE          6427\n",
       "ROCKAWAY PARK B     8187\n",
       "BEACH 44 ST         8617\n",
       "BEACH 90 ST         8783\n",
       "AVENUE P            8837\n",
       "AQUEDUCT N.COND    10329\n",
       "AQUEDUCT RACETR    10738\n",
       "...                  ...\n",
       "59 ST             620058\n",
       "CANAL ST          643046\n",
       "42 ST-PORT AUTH   720097\n",
       "125 ST            728604\n",
       "14 ST-UNION SQ    765832\n",
       "34 ST-HERALD SQ   787456\n",
       "86 ST             792219\n",
       "TIMES SQ-42 ST    885256\n",
       "GRD CNTRL-42 ST   893159\n",
       "FULTON ST         895150\n",
       "23 ST             950232\n",
       "34 ST-PENN STA   1335601\n",
       "\n",
       "[373 rows x 1 columns]"
      ]
     },
     "execution_count": 40,
     "metadata": {},
     "output_type": "execute_result"
    }
   ],
   "source": [
    "station_df.sort_values(by=['traffic'])"
   ]
  },
  {
   "cell_type": "code",
   "execution_count": null,
   "metadata": {
    "collapsed": true
   },
   "outputs": [],
   "source": []
  }
 ],
 "metadata": {
  "kernelspec": {
   "display_name": "Python 3",
   "language": "python",
   "name": "python3"
  },
  "language_info": {
   "codemirror_mode": {
    "name": "ipython",
    "version": 3
   },
   "file_extension": ".py",
   "mimetype": "text/x-python",
   "name": "python",
   "nbconvert_exporter": "python",
   "pygments_lexer": "ipython3",
   "version": "3.6.3"
  }
 },
 "nbformat": 4,
 "nbformat_minor": 2
}
