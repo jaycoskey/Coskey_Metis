{
 "cells": [
  {
   "cell_type": "markdown",
   "metadata": {},
   "source": [
    "# Predictability of IMDB Movie Ratings\n",
    "# from Attributes Available at Release-Time"
   ]
  },
  {
   "cell_type": "code",
   "execution_count": 216,
   "metadata": {},
   "outputs": [],
   "source": [
    "from collections import Counter, defaultdict\n",
    "import json\n",
    "import matplotlib.pyplot as plt\n",
    "from nltk.stem import PorterStemmer\n",
    "import numpy as np\n",
    "import pandas as pd\n",
    "from sklearn.cross_validation import cross_val_score\n",
    "from sklearn.linear_model import LinearRegression\n",
    "from sklearn.metrics import r2_score \n",
    "import statsmodels.api as sm\n",
    "import statsmodels.formula.api as smf"
   ]
  },
  {
   "cell_type": "code",
   "execution_count": 2,
   "metadata": {
    "collapsed": true
   },
   "outputs": [],
   "source": [
    "IMDB_DIR = '../data/imdb.com/'\n",
    "IMDB_DATE = '20180119'"
   ]
  },
  {
   "cell_type": "code",
   "execution_count": 3,
   "metadata": {
    "collapsed": true
   },
   "outputs": [],
   "source": [
    "TMDB_DIR = '../data/tmdb.org/'\n",
    "TMDB_DATE = '01_21_2018'"
   ]
  },
  {
   "cell_type": "code",
   "execution_count": 4,
   "metadata": {
    "collapsed": true
   },
   "outputs": [],
   "source": [
    "SRC_DIR = '../src/'"
   ]
  },
  {
   "cell_type": "code",
   "execution_count": 5,
   "metadata": {
    "collapsed": true
   },
   "outputs": [],
   "source": [
    "pd.set_option('display.max_columns', 1000)"
   ]
  },
  {
   "cell_type": "code",
   "execution_count": 6,
   "metadata": {
    "collapsed": true
   },
   "outputs": [],
   "source": [
    "%matplotlib inline"
   ]
  },
  {
   "cell_type": "markdown",
   "metadata": {},
   "source": [
    "## Utility functions"
   ]
  },
  {
   "cell_type": "code",
   "execution_count": 7,
   "metadata": {
    "collapsed": true
   },
   "outputs": [],
   "source": [
    "def rename_column(colname):\n",
    "    index = colname.find('TV')\n",
    "    cname = colname\n",
    "    if index >= 0:\n",
    "        cname = cname[0:index] + '_tv' + cname[index+2:]\n",
    "    new_chars = [('_' if c.isupper() else '') + c.lower() for c in cname if c != '-']\n",
    "    return ''.join(new_chars)"
   ]
  },
  {
   "cell_type": "code",
   "execution_count": 8,
   "metadata": {
    "collapsed": true
   },
   "outputs": [],
   "source": [
    "def str_clean(x: str):\n",
    "    return '' if x == r'\\N' else x"
   ]
  },
  {
   "cell_type": "code",
   "execution_count": 9,
   "metadata": {
    "collapsed": true
   },
   "outputs": [],
   "source": [
    "def str_to_bool(x):\n",
    "    return 0 if x == '0' else 1"
   ]
  },
  {
   "cell_type": "code",
   "execution_count": 10,
   "metadata": {
    "collapsed": true
   },
   "outputs": [],
   "source": [
    "def str_to_int(x):\n",
    "    try:\n",
    "        result = int(x)\n",
    "    except:\n",
    "        result = 0\n",
    "    return result"
   ]
  },
  {
   "cell_type": "markdown",
   "metadata": {},
   "source": [
    "<hr style=\"height:5px;margin:auto;width:100%\"/>\n",
    "<hr style=\"height:5px;margin:auto;width:100%\"/>\n",
    "<hr style=\"height:5px;margin:auto;width:100%\"/>"
   ]
  },
  {
   "cell_type": "markdown",
   "metadata": {},
   "source": [
    "# Data collection"
   ]
  },
  {
   "cell_type": "code",
   "execution_count": 11,
   "metadata": {
    "collapsed": true,
    "scrolled": true
   },
   "outputs": [],
   "source": [
    "# with open(TMDB_DETAIL_ERRORS_PATH, 'r') as f:\n",
    "#     tmdb_failed_detail_ids = [int(line.split()[1][:-1]) for line in f.readlines()]"
   ]
  },
  {
   "cell_type": "code",
   "execution_count": 12,
   "metadata": {
    "collapsed": true
   },
   "outputs": [],
   "source": [
    "# len(tmdb_failed_detail_ids)"
   ]
  },
  {
   "cell_type": "markdown",
   "metadata": {},
   "source": [
    "<hr style=\"height:3px;margin:auto;width:10%\"/>"
   ]
  },
  {
   "cell_type": "code",
   "execution_count": 13,
   "metadata": {
    "collapsed": true
   },
   "outputs": [],
   "source": [
    "# with open(TMDB_KEYWORD_ERRORS_PATH, 'r') as f:\n",
    "#    tmdb_failed_keyword_ids = [int(line.split()[1][:-1]) for line in f.readlines()]"
   ]
  },
  {
   "cell_type": "code",
   "execution_count": 14,
   "metadata": {
    "collapsed": true
   },
   "outputs": [],
   "source": [
    "# len(tmdb_failed_keyword_ids)"
   ]
  },
  {
   "cell_type": "markdown",
   "metadata": {},
   "source": [
    "<hr style=\"height:5px;margin:auto;width:100%\"/>\n",
    "<hr style=\"height:5px;margin:auto;width:100%\"/>\n",
    "<hr style=\"height:5px;margin:auto;width:100%\"/>"
   ]
  },
  {
   "cell_type": "markdown",
   "metadata": {},
   "source": [
    "# Read in IMDB data"
   ]
  },
  {
   "cell_type": "code",
   "execution_count": 15,
   "metadata": {
    "collapsed": true
   },
   "outputs": [],
   "source": [
    "IMDB_NAME_BASICS_PATH = IMDB_DIR + 'name_basics_' + IMDB_DATE + '.tsv'\n",
    "IMDB_TITLE_AKAS_PATH = IMDB_DIR + 'title_akas_' + IMDB_DATE + '.tsv'\n",
    "IMDB_TITLE_BASICS_PATH = IMDB_DIR + 'title_basics_' + IMDB_DATE + '.tsv'\n",
    "IMDB_TITLE_CREW_PATH = IMDB_DIR + 'title_crew_' + IMDB_DATE + '.tsv'\n",
    "# IMDB_TITLE_EPISODES_PATH = IMDB_DIR + 'title_episode_' + IMDB_DATE + '.tsv'\n",
    "IMDB_TITLE_PRINCIPALS_PATH = IMDB_DIR + 'title_principals_' + IMDB_DATE + '.tsv'\n",
    "IMDB_TITLE_RATINGS_PATH = IMDB_DIR + 'title_ratings_' + IMDB_DATE + '.tsv' "
   ]
  },
  {
   "cell_type": "code",
   "execution_count": 16,
   "metadata": {
    "collapsed": true
   },
   "outputs": [],
   "source": [
    "imdb_name_basics_raw_df = pd.read_csv(IMDB_NAME_BASICS_PATH, sep='\\t')"
   ]
  },
  {
   "cell_type": "code",
   "execution_count": 17,
   "metadata": {
    "scrolled": false
   },
   "outputs": [
    {
     "data": {
      "text/plain": [
       "(8373829, 6)"
      ]
     },
     "execution_count": 17,
     "metadata": {},
     "output_type": "execute_result"
    }
   ],
   "source": [
    "imdb_name_basics_raw_df.shape"
   ]
  },
  {
   "cell_type": "code",
   "execution_count": 18,
   "metadata": {
    "scrolled": true
   },
   "outputs": [
    {
     "data": {
      "text/plain": [
       "nconst               object\n",
       "primaryName          object\n",
       "birthYear            object\n",
       "deathYear            object\n",
       "primaryProfession    object\n",
       "knownForTitles       object\n",
       "dtype: object"
      ]
     },
     "execution_count": 18,
     "metadata": {},
     "output_type": "execute_result"
    }
   ],
   "source": [
    "imdb_name_basics_raw_df.dtypes"
   ]
  },
  {
   "cell_type": "code",
   "execution_count": 19,
   "metadata": {
    "scrolled": true
   },
   "outputs": [
    {
     "data": {
      "text/html": [
       "<div>\n",
       "<style>\n",
       "    .dataframe thead tr:only-child th {\n",
       "        text-align: right;\n",
       "    }\n",
       "\n",
       "    .dataframe thead th {\n",
       "        text-align: left;\n",
       "    }\n",
       "\n",
       "    .dataframe tbody tr th {\n",
       "        vertical-align: top;\n",
       "    }\n",
       "</style>\n",
       "<table border=\"1\" class=\"dataframe\">\n",
       "  <thead>\n",
       "    <tr style=\"text-align: right;\">\n",
       "      <th></th>\n",
       "      <th>nconst</th>\n",
       "      <th>primaryName</th>\n",
       "      <th>birthYear</th>\n",
       "      <th>deathYear</th>\n",
       "      <th>primaryProfession</th>\n",
       "      <th>knownForTitles</th>\n",
       "    </tr>\n",
       "  </thead>\n",
       "  <tbody>\n",
       "    <tr>\n",
       "      <th>4897048</th>\n",
       "      <td>nm5418590</td>\n",
       "      <td>Choco Rony</td>\n",
       "      <td>\\N</td>\n",
       "      <td>\\N</td>\n",
       "      <td>editor</td>\n",
       "      <td>tt2573824</td>\n",
       "    </tr>\n",
       "    <tr>\n",
       "      <th>2171874</th>\n",
       "      <td>nm2391925</td>\n",
       "      <td>Don Fraser</td>\n",
       "      <td>\\N</td>\n",
       "      <td>\\N</td>\n",
       "      <td>actor</td>\n",
       "      <td>tt0865325</td>\n",
       "    </tr>\n",
       "    <tr>\n",
       "      <th>5693490</th>\n",
       "      <td>nm6364688</td>\n",
       "      <td>Martijn Prins</td>\n",
       "      <td>\\N</td>\n",
       "      <td>\\N</td>\n",
       "      <td>cinematographer,sound_department</td>\n",
       "      <td>tt6139984,tt5628436,tt5813254,tt5628460</td>\n",
       "    </tr>\n",
       "    <tr>\n",
       "      <th>6702926</th>\n",
       "      <td>nm7610771</td>\n",
       "      <td>Lea Nassif</td>\n",
       "      <td>\\N</td>\n",
       "      <td>\\N</td>\n",
       "      <td>actress</td>\n",
       "      <td>tt5053480</td>\n",
       "    </tr>\n",
       "    <tr>\n",
       "      <th>666203</th>\n",
       "      <td>nm0703337</td>\n",
       "      <td>Dominique Quesnel</td>\n",
       "      <td>\\N</td>\n",
       "      <td>\\N</td>\n",
       "      <td>actress</td>\n",
       "      <td>tt0191636,tt2552026,tt2458606,tt0445054</td>\n",
       "    </tr>\n",
       "  </tbody>\n",
       "</table>\n",
       "</div>"
      ],
      "text/plain": [
       "            nconst        primaryName birthYear deathYear  \\\n",
       "4897048  nm5418590         Choco Rony        \\N        \\N   \n",
       "2171874  nm2391925         Don Fraser        \\N        \\N   \n",
       "5693490  nm6364688      Martijn Prins        \\N        \\N   \n",
       "6702926  nm7610771         Lea Nassif        \\N        \\N   \n",
       "666203   nm0703337  Dominique Quesnel        \\N        \\N   \n",
       "\n",
       "                        primaryProfession  \\\n",
       "4897048                            editor   \n",
       "2171874                             actor   \n",
       "5693490  cinematographer,sound_department   \n",
       "6702926                           actress   \n",
       "666203                            actress   \n",
       "\n",
       "                                  knownForTitles  \n",
       "4897048                                tt2573824  \n",
       "2171874                                tt0865325  \n",
       "5693490  tt6139984,tt5628436,tt5813254,tt5628460  \n",
       "6702926                                tt5053480  \n",
       "666203   tt0191636,tt2552026,tt2458606,tt0445054  "
      ]
     },
     "execution_count": 19,
     "metadata": {},
     "output_type": "execute_result"
    }
   ],
   "source": [
    "imdb_name_basics_raw_df.sample(5)"
   ]
  },
  {
   "cell_type": "markdown",
   "metadata": {},
   "source": [
    "<hr style=\"height:3px;margin:auto;width:10%\"/>\n",
    "<hr style=\"height:5px;margin:auto;width:25%\"/>\n",
    "<hr style=\"height:3px;margin:auto;width:10%\"/>"
   ]
  },
  {
   "cell_type": "code",
   "execution_count": 20,
   "metadata": {
    "collapsed": true
   },
   "outputs": [],
   "source": [
    "imdb_name_basics_cooked_df = imdb_name_basics_raw_df.copy()"
   ]
  },
  {
   "cell_type": "code",
   "execution_count": 21,
   "metadata": {
    "collapsed": true
   },
   "outputs": [],
   "source": [
    "imdb_name_basics_cooked_df = imdb_name_basics_cooked_df.applymap(str_clean)"
   ]
  },
  {
   "cell_type": "code",
   "execution_count": 22,
   "metadata": {
    "scrolled": true
   },
   "outputs": [
    {
     "data": {
      "text/html": [
       "<div>\n",
       "<style>\n",
       "    .dataframe thead tr:only-child th {\n",
       "        text-align: right;\n",
       "    }\n",
       "\n",
       "    .dataframe thead th {\n",
       "        text-align: left;\n",
       "    }\n",
       "\n",
       "    .dataframe tbody tr th {\n",
       "        vertical-align: top;\n",
       "    }\n",
       "</style>\n",
       "<table border=\"1\" class=\"dataframe\">\n",
       "  <thead>\n",
       "    <tr style=\"text-align: right;\">\n",
       "      <th></th>\n",
       "      <th>nconst</th>\n",
       "      <th>primaryName</th>\n",
       "      <th>birthYear</th>\n",
       "      <th>deathYear</th>\n",
       "      <th>primaryProfession</th>\n",
       "      <th>knownForTitles</th>\n",
       "    </tr>\n",
       "  </thead>\n",
       "  <tbody>\n",
       "    <tr>\n",
       "      <th>3822302</th>\n",
       "      <td>nm4231499</td>\n",
       "      <td>Evrard Niyomwungere</td>\n",
       "      <td></td>\n",
       "      <td></td>\n",
       "      <td>writer</td>\n",
       "      <td>tt1800398</td>\n",
       "    </tr>\n",
       "    <tr>\n",
       "      <th>4545374</th>\n",
       "      <td>nm5038259</td>\n",
       "      <td>Chris Hung</td>\n",
       "      <td></td>\n",
       "      <td></td>\n",
       "      <td>producer</td>\n",
       "      <td>tt2064905</td>\n",
       "    </tr>\n",
       "    <tr>\n",
       "      <th>3472838</th>\n",
       "      <td>nm3828841</td>\n",
       "      <td>Alessandro Tchê</td>\n",
       "      <td></td>\n",
       "      <td></td>\n",
       "      <td>actor</td>\n",
       "      <td>tt1556402</td>\n",
       "    </tr>\n",
       "    <tr>\n",
       "      <th>1795606</th>\n",
       "      <td>nm1966478</td>\n",
       "      <td>Mireia Cirera</td>\n",
       "      <td></td>\n",
       "      <td></td>\n",
       "      <td>actress</td>\n",
       "      <td>tt0468359</td>\n",
       "    </tr>\n",
       "    <tr>\n",
       "      <th>952463</th>\n",
       "      <td>nm1029978</td>\n",
       "      <td>Taylor Hauben</td>\n",
       "      <td></td>\n",
       "      <td></td>\n",
       "      <td>costume_designer</td>\n",
       "      <td>tt0292620</td>\n",
       "    </tr>\n",
       "  </tbody>\n",
       "</table>\n",
       "</div>"
      ],
      "text/plain": [
       "            nconst          primaryName birthYear deathYear primaryProfession  \\\n",
       "3822302  nm4231499  Evrard Niyomwungere                                writer   \n",
       "4545374  nm5038259           Chris Hung                              producer   \n",
       "3472838  nm3828841      Alessandro Tchê                                 actor   \n",
       "1795606  nm1966478        Mireia Cirera                               actress   \n",
       "952463   nm1029978        Taylor Hauben                      costume_designer   \n",
       "\n",
       "        knownForTitles  \n",
       "3822302      tt1800398  \n",
       "4545374      tt2064905  \n",
       "3472838      tt1556402  \n",
       "1795606      tt0468359  \n",
       "952463       tt0292620  "
      ]
     },
     "execution_count": 22,
     "metadata": {},
     "output_type": "execute_result"
    }
   ],
   "source": [
    "imdb_name_basics_cooked_df.sample(5)"
   ]
  },
  {
   "cell_type": "markdown",
   "metadata": {},
   "source": [
    "<hr style=\"height:3px;margin:auto;width:10%\"/>\n",
    "<hr style=\"height:5px;margin:auto;width:25%\"/>\n",
    "<hr style=\"height:3px;margin:auto;width:10%\"/>"
   ]
  },
  {
   "cell_type": "markdown",
   "metadata": {},
   "source": [
    "#### Note: long execution\n",
    "name2titleCount = {}\n",
    "for k, row in imdb_name_basics_cooked_df.iterrows():\n",
    "    titles = row['knownForTitles'].split(',')\n",
    "    name2titleCount[row['nconst']] = len(titles)\n",
    "\n",
    "len(name2titleCount)\n",
    "\n",
    "Counter(name2titleCount.values())"
   ]
  },
  {
   "cell_type": "code",
   "execution_count": 23,
   "metadata": {
    "collapsed": true
   },
   "outputs": [],
   "source": [
    "del imdb_name_basics_raw_df"
   ]
  },
  {
   "cell_type": "code",
   "execution_count": 24,
   "metadata": {
    "collapsed": true
   },
   "outputs": [],
   "source": [
    "del imdb_name_basics_cooked_df"
   ]
  },
  {
   "cell_type": "markdown",
   "metadata": {},
   "source": [
    "<hr style=\"height:3px;margin:auto;width:75%\"/>"
   ]
  },
  {
   "cell_type": "code",
   "execution_count": 25,
   "metadata": {
    "collapsed": true
   },
   "outputs": [],
   "source": [
    "imdb_title_akas_raw_df = pd.read_csv(IMDB_TITLE_AKAS_PATH, sep='\\t',\n",
    "                                dtype={'titleId': str,\n",
    "                                      'ordering': np.int64,\n",
    "                                      'title': str,\n",
    "                                      'region': str,\n",
    "                                      'language': str,\n",
    "                                      'types': str,\n",
    "                                      'attributes': str,\n",
    "                                      'isOriginalTitle': str})"
   ]
  },
  {
   "cell_type": "code",
   "execution_count": 26,
   "metadata": {},
   "outputs": [
    {
     "data": {
      "text/plain": [
       "(3202192, 8)"
      ]
     },
     "execution_count": 26,
     "metadata": {},
     "output_type": "execute_result"
    }
   ],
   "source": [
    "imdb_title_akas_raw_df.shape"
   ]
  },
  {
   "cell_type": "code",
   "execution_count": 27,
   "metadata": {},
   "outputs": [
    {
     "data": {
      "text/plain": [
       "titleId            object\n",
       "ordering            int64\n",
       "title              object\n",
       "region             object\n",
       "language           object\n",
       "types              object\n",
       "attributes         object\n",
       "isOriginalTitle    object\n",
       "dtype: object"
      ]
     },
     "execution_count": 27,
     "metadata": {},
     "output_type": "execute_result"
    }
   ],
   "source": [
    "imdb_title_akas_raw_df.dtypes"
   ]
  },
  {
   "cell_type": "code",
   "execution_count": 28,
   "metadata": {
    "scrolled": true
   },
   "outputs": [
    {
     "data": {
      "text/html": [
       "<div>\n",
       "<style>\n",
       "    .dataframe thead tr:only-child th {\n",
       "        text-align: right;\n",
       "    }\n",
       "\n",
       "    .dataframe thead th {\n",
       "        text-align: left;\n",
       "    }\n",
       "\n",
       "    .dataframe tbody tr th {\n",
       "        vertical-align: top;\n",
       "    }\n",
       "</style>\n",
       "<table border=\"1\" class=\"dataframe\">\n",
       "  <thead>\n",
       "    <tr style=\"text-align: right;\">\n",
       "      <th></th>\n",
       "      <th>titleId</th>\n",
       "      <th>ordering</th>\n",
       "      <th>title</th>\n",
       "      <th>region</th>\n",
       "      <th>language</th>\n",
       "      <th>types</th>\n",
       "      <th>attributes</th>\n",
       "      <th>isOriginalTitle</th>\n",
       "    </tr>\n",
       "  </thead>\n",
       "  <tbody>\n",
       "    <tr>\n",
       "      <th>111111</th>\n",
       "      <td>tt0029713</td>\n",
       "      <td>2</td>\n",
       "      <td>Gi' den Gas</td>\n",
       "      <td>DK</td>\n",
       "      <td>\\N</td>\n",
       "      <td>imdbDisplay</td>\n",
       "      <td>\\N</td>\n",
       "      <td>0</td>\n",
       "    </tr>\n",
       "    <tr>\n",
       "      <th>2553666</th>\n",
       "      <td>tt4157894</td>\n",
       "      <td>1</td>\n",
       "      <td>Concours de Circonstances</td>\n",
       "      <td>FR</td>\n",
       "      <td>\\N</td>\n",
       "      <td>\\N</td>\n",
       "      <td>\\N</td>\n",
       "      <td>0</td>\n",
       "    </tr>\n",
       "    <tr>\n",
       "      <th>2038310</th>\n",
       "      <td>tt2094992</td>\n",
       "      <td>1</td>\n",
       "      <td>Utah Wheelin' Jazz: Doin' Hard Work</td>\n",
       "      <td>US</td>\n",
       "      <td>\\N</td>\n",
       "      <td>\\N</td>\n",
       "      <td>\\N</td>\n",
       "      <td>0</td>\n",
       "    </tr>\n",
       "    <tr>\n",
       "      <th>2621171</th>\n",
       "      <td>tt4489386</td>\n",
       "      <td>1</td>\n",
       "      <td>The Dream Girl of 1967 (Show No. 47)</td>\n",
       "      <td>US</td>\n",
       "      <td>\\N</td>\n",
       "      <td>\\N</td>\n",
       "      <td>\\N</td>\n",
       "      <td>0</td>\n",
       "    </tr>\n",
       "    <tr>\n",
       "      <th>1721953</th>\n",
       "      <td>tt1547236</td>\n",
       "      <td>1</td>\n",
       "      <td>Reminisce</td>\n",
       "      <td>CA</td>\n",
       "      <td>\\N</td>\n",
       "      <td>\\N</td>\n",
       "      <td>\\N</td>\n",
       "      <td>0</td>\n",
       "    </tr>\n",
       "  </tbody>\n",
       "</table>\n",
       "</div>"
      ],
      "text/plain": [
       "           titleId  ordering                                 title region  \\\n",
       "111111   tt0029713         2                           Gi' den Gas     DK   \n",
       "2553666  tt4157894         1             Concours de Circonstances     FR   \n",
       "2038310  tt2094992         1   Utah Wheelin' Jazz: Doin' Hard Work     US   \n",
       "2621171  tt4489386         1  The Dream Girl of 1967 (Show No. 47)     US   \n",
       "1721953  tt1547236         1                             Reminisce     CA   \n",
       "\n",
       "        language        types attributes isOriginalTitle  \n",
       "111111        \\N  imdbDisplay         \\N               0  \n",
       "2553666       \\N           \\N         \\N               0  \n",
       "2038310       \\N           \\N         \\N               0  \n",
       "2621171       \\N           \\N         \\N               0  \n",
       "1721953       \\N           \\N         \\N               0  "
      ]
     },
     "execution_count": 28,
     "metadata": {},
     "output_type": "execute_result"
    }
   ],
   "source": [
    "imdb_title_akas_raw_df.sample(5)"
   ]
  },
  {
   "cell_type": "markdown",
   "metadata": {},
   "source": [
    "<hr style=\"height:3px;margin:auto;width:10%\"/>\n",
    "<hr style=\"height:5px;margin:auto;width:25%\"/>\n",
    "<hr style=\"height:3px;margin:auto;width:10%\"/>"
   ]
  },
  {
   "cell_type": "code",
   "execution_count": 29,
   "metadata": {
    "collapsed": true
   },
   "outputs": [],
   "source": [
    "imdb_title_akas_cooked_df = imdb_title_akas_raw_df.copy()"
   ]
  },
  {
   "cell_type": "code",
   "execution_count": 30,
   "metadata": {
    "collapsed": true
   },
   "outputs": [],
   "source": [
    "imdb_title_akas_cooked_df = imdb_title_akas_cooked_df.applymap(str_clean)"
   ]
  },
  {
   "cell_type": "code",
   "execution_count": 31,
   "metadata": {},
   "outputs": [
    {
     "data": {
      "text/html": [
       "<div>\n",
       "<style>\n",
       "    .dataframe thead tr:only-child th {\n",
       "        text-align: right;\n",
       "    }\n",
       "\n",
       "    .dataframe thead th {\n",
       "        text-align: left;\n",
       "    }\n",
       "\n",
       "    .dataframe tbody tr th {\n",
       "        vertical-align: top;\n",
       "    }\n",
       "</style>\n",
       "<table border=\"1\" class=\"dataframe\">\n",
       "  <thead>\n",
       "    <tr style=\"text-align: right;\">\n",
       "      <th></th>\n",
       "      <th>titleId</th>\n",
       "      <th>ordering</th>\n",
       "      <th>title</th>\n",
       "      <th>region</th>\n",
       "      <th>language</th>\n",
       "      <th>types</th>\n",
       "      <th>attributes</th>\n",
       "      <th>isOriginalTitle</th>\n",
       "    </tr>\n",
       "  </thead>\n",
       "  <tbody>\n",
       "    <tr>\n",
       "      <th>1050267</th>\n",
       "      <td>tt0451892</td>\n",
       "      <td>1</td>\n",
       "      <td>Rolls - 28</td>\n",
       "      <td>IN</td>\n",
       "      <td></td>\n",
       "      <td></td>\n",
       "      <td></td>\n",
       "      <td>0</td>\n",
       "    </tr>\n",
       "    <tr>\n",
       "      <th>1123783</th>\n",
       "      <td>tt0496158</td>\n",
       "      <td>3</td>\n",
       "      <td>Ruth Ridley's Return</td>\n",
       "      <td>US</td>\n",
       "      <td></td>\n",
       "      <td></td>\n",
       "      <td>review title</td>\n",
       "      <td>0</td>\n",
       "    </tr>\n",
       "    <tr>\n",
       "      <th>1699640</th>\n",
       "      <td>tt1515877</td>\n",
       "      <td>3</td>\n",
       "      <td>Naïade</td>\n",
       "      <td></td>\n",
       "      <td></td>\n",
       "      <td>original</td>\n",
       "      <td></td>\n",
       "      <td>1</td>\n",
       "    </tr>\n",
       "    <tr>\n",
       "      <th>1698259</th>\n",
       "      <td>tt1513720</td>\n",
       "      <td>1</td>\n",
       "      <td>Bloom</td>\n",
       "      <td>XWW</td>\n",
       "      <td>en</td>\n",
       "      <td></td>\n",
       "      <td></td>\n",
       "      <td>0</td>\n",
       "    </tr>\n",
       "    <tr>\n",
       "      <th>2403834</th>\n",
       "      <td>tt3517448</td>\n",
       "      <td>1</td>\n",
       "      <td>Summer School</td>\n",
       "      <td>GB</td>\n",
       "      <td></td>\n",
       "      <td></td>\n",
       "      <td></td>\n",
       "      <td>0</td>\n",
       "    </tr>\n",
       "  </tbody>\n",
       "</table>\n",
       "</div>"
      ],
      "text/plain": [
       "           titleId  ordering                 title region language     types  \\\n",
       "1050267  tt0451892         1            Rolls - 28     IN                      \n",
       "1123783  tt0496158         3  Ruth Ridley's Return     US                      \n",
       "1699640  tt1515877         3                Naïade                  original   \n",
       "1698259  tt1513720         1                 Bloom    XWW       en             \n",
       "2403834  tt3517448         1         Summer School     GB                      \n",
       "\n",
       "           attributes isOriginalTitle  \n",
       "1050267                             0  \n",
       "1123783  review title               0  \n",
       "1699640                             1  \n",
       "1698259                             0  \n",
       "2403834                             0  "
      ]
     },
     "execution_count": 31,
     "metadata": {},
     "output_type": "execute_result"
    }
   ],
   "source": [
    "imdb_title_akas_cooked_df.sample(5)"
   ]
  },
  {
   "cell_type": "code",
   "execution_count": 32,
   "metadata": {
    "collapsed": true
   },
   "outputs": [],
   "source": [
    "del imdb_title_akas_raw_df"
   ]
  },
  {
   "cell_type": "code",
   "execution_count": 33,
   "metadata": {
    "collapsed": true
   },
   "outputs": [],
   "source": [
    "del imdb_title_akas_cooked_df"
   ]
  },
  {
   "cell_type": "markdown",
   "metadata": {},
   "source": [
    "<hr style=\"height:3px;margin:auto;width:75%\"/>"
   ]
  },
  {
   "cell_type": "code",
   "execution_count": 34,
   "metadata": {
    "collapsed": true
   },
   "outputs": [],
   "source": [
    "imdb_title_basics_raw_df = pd.read_csv(IMDB_TITLE_BASICS_PATH, sep='\\t',\n",
    "                                  dtype={'tconst': str,\n",
    "                                        'titleType': str,\n",
    "                                        'primaryTitle': str,\n",
    "                                        'originalTitle': str,\n",
    "                                        'isAdult': str,\n",
    "                                        'startYear': str,\n",
    "                                        'endYear': str,\n",
    "                                        'runtimeMinutes': str,\n",
    "                                        'genres': str}\n",
    "                                  )"
   ]
  },
  {
   "cell_type": "code",
   "execution_count": 35,
   "metadata": {},
   "outputs": [
    {
     "data": {
      "text/plain": [
       "(4755440, 9)"
      ]
     },
     "execution_count": 35,
     "metadata": {},
     "output_type": "execute_result"
    }
   ],
   "source": [
    "imdb_title_basics_raw_df.shape"
   ]
  },
  {
   "cell_type": "code",
   "execution_count": 36,
   "metadata": {},
   "outputs": [
    {
     "data": {
      "text/plain": [
       "tconst            object\n",
       "titleType         object\n",
       "primaryTitle      object\n",
       "originalTitle     object\n",
       "isAdult           object\n",
       "startYear         object\n",
       "endYear           object\n",
       "runtimeMinutes    object\n",
       "genres            object\n",
       "dtype: object"
      ]
     },
     "execution_count": 36,
     "metadata": {},
     "output_type": "execute_result"
    }
   ],
   "source": [
    "imdb_title_basics_raw_df.dtypes"
   ]
  },
  {
   "cell_type": "code",
   "execution_count": 37,
   "metadata": {
    "scrolled": false
   },
   "outputs": [
    {
     "data": {
      "text/html": [
       "<div>\n",
       "<style>\n",
       "    .dataframe thead tr:only-child th {\n",
       "        text-align: right;\n",
       "    }\n",
       "\n",
       "    .dataframe thead th {\n",
       "        text-align: left;\n",
       "    }\n",
       "\n",
       "    .dataframe tbody tr th {\n",
       "        vertical-align: top;\n",
       "    }\n",
       "</style>\n",
       "<table border=\"1\" class=\"dataframe\">\n",
       "  <thead>\n",
       "    <tr style=\"text-align: right;\">\n",
       "      <th></th>\n",
       "      <th>tconst</th>\n",
       "      <th>titleType</th>\n",
       "      <th>primaryTitle</th>\n",
       "      <th>originalTitle</th>\n",
       "      <th>isAdult</th>\n",
       "      <th>startYear</th>\n",
       "      <th>endYear</th>\n",
       "      <th>runtimeMinutes</th>\n",
       "      <th>genres</th>\n",
       "    </tr>\n",
       "  </thead>\n",
       "  <tbody>\n",
       "    <tr>\n",
       "      <th>576503</th>\n",
       "      <td>tt0596834</td>\n",
       "      <td>tvEpisode</td>\n",
       "      <td>The Captain's Gun</td>\n",
       "      <td>The Captain's Gun</td>\n",
       "      <td>0</td>\n",
       "      <td>1958</td>\n",
       "      <td>\\N</td>\n",
       "      <td>30</td>\n",
       "      <td>Adventure</td>\n",
       "    </tr>\n",
       "    <tr>\n",
       "      <th>1507325</th>\n",
       "      <td>tt1559769</td>\n",
       "      <td>tvEpisode</td>\n",
       "      <td>Episode #1.14</td>\n",
       "      <td>Episode #1.14</td>\n",
       "      <td>0</td>\n",
       "      <td>2009</td>\n",
       "      <td>\\N</td>\n",
       "      <td>30</td>\n",
       "      <td>Comedy</td>\n",
       "    </tr>\n",
       "    <tr>\n",
       "      <th>4648853</th>\n",
       "      <td>tt7664452</td>\n",
       "      <td>tvEpisode</td>\n",
       "      <td>Young Royals</td>\n",
       "      <td>Young Royals</td>\n",
       "      <td>0</td>\n",
       "      <td>2017</td>\n",
       "      <td>\\N</td>\n",
       "      <td>44</td>\n",
       "      <td>Documentary</td>\n",
       "    </tr>\n",
       "    <tr>\n",
       "      <th>2171517</th>\n",
       "      <td>tt2259785</td>\n",
       "      <td>tvEpisode</td>\n",
       "      <td>The Seoul Food Chronicles</td>\n",
       "      <td>The Seoul Food Chronicles</td>\n",
       "      <td>0</td>\n",
       "      <td>2011</td>\n",
       "      <td>\\N</td>\n",
       "      <td>\\N</td>\n",
       "      <td>Documentary</td>\n",
       "    </tr>\n",
       "    <tr>\n",
       "      <th>1921956</th>\n",
       "      <td>tt1990527</td>\n",
       "      <td>tvEpisode</td>\n",
       "      <td>The Wild West</td>\n",
       "      <td>The Wild West</td>\n",
       "      <td>0</td>\n",
       "      <td>2010</td>\n",
       "      <td>\\N</td>\n",
       "      <td>46</td>\n",
       "      <td>Documentary</td>\n",
       "    </tr>\n",
       "  </tbody>\n",
       "</table>\n",
       "</div>"
      ],
      "text/plain": [
       "            tconst  titleType               primaryTitle  \\\n",
       "576503   tt0596834  tvEpisode          The Captain's Gun   \n",
       "1507325  tt1559769  tvEpisode              Episode #1.14   \n",
       "4648853  tt7664452  tvEpisode               Young Royals   \n",
       "2171517  tt2259785  tvEpisode  The Seoul Food Chronicles   \n",
       "1921956  tt1990527  tvEpisode              The Wild West   \n",
       "\n",
       "                     originalTitle isAdult startYear endYear runtimeMinutes  \\\n",
       "576503           The Captain's Gun       0      1958      \\N             30   \n",
       "1507325              Episode #1.14       0      2009      \\N             30   \n",
       "4648853               Young Royals       0      2017      \\N             44   \n",
       "2171517  The Seoul Food Chronicles       0      2011      \\N             \\N   \n",
       "1921956              The Wild West       0      2010      \\N             46   \n",
       "\n",
       "              genres  \n",
       "576503     Adventure  \n",
       "1507325       Comedy  \n",
       "4648853  Documentary  \n",
       "2171517  Documentary  \n",
       "1921956  Documentary  "
      ]
     },
     "execution_count": 37,
     "metadata": {},
     "output_type": "execute_result"
    }
   ],
   "source": [
    "imdb_title_basics_raw_df.sample(5)"
   ]
  },
  {
   "cell_type": "code",
   "execution_count": 38,
   "metadata": {
    "scrolled": true
   },
   "outputs": [
    {
     "data": {
      "text/plain": [
       "['movie',\n",
       " 'short',\n",
       " 'tvEpisode',\n",
       " 'tvMiniSeries',\n",
       " 'tvMovie',\n",
       " 'tvSeries',\n",
       " 'tvShort',\n",
       " 'tvSpecial',\n",
       " 'video',\n",
       " 'videoGame']"
      ]
     },
     "execution_count": 38,
     "metadata": {},
     "output_type": "execute_result"
    }
   ],
   "source": [
    "sorted(imdb_title_basics_raw_df['titleType'].unique())"
   ]
  },
  {
   "cell_type": "code",
   "execution_count": 39,
   "metadata": {},
   "outputs": [
    {
     "data": {
      "text/plain": [
       "['0', '1', '2004', '2011', '2016', '2017', '2018']"
      ]
     },
     "execution_count": 39,
     "metadata": {},
     "output_type": "execute_result"
    }
   ],
   "source": [
    "sorted(imdb_title_basics_raw_df['isAdult'].unique())"
   ]
  },
  {
   "cell_type": "markdown",
   "metadata": {},
   "source": [
    "<hr style=\"height:3px;margin:auto;width:10%\"/>\n",
    "<hr style=\"height:5px;margin:auto;width:25%\"/>\n",
    "<hr style=\"height:3px;margin:auto;width:10%\"/>"
   ]
  },
  {
   "cell_type": "code",
   "execution_count": 40,
   "metadata": {
    "collapsed": true
   },
   "outputs": [],
   "source": [
    "imdb_title_basics_cooked_df = imdb_title_basics_raw_df.copy()"
   ]
  },
  {
   "cell_type": "code",
   "execution_count": 41,
   "metadata": {
    "collapsed": true
   },
   "outputs": [],
   "source": [
    "imdb_title_basics_cooked_df.drop(['originalTitle', 'endYear'], axis=1, inplace=True)"
   ]
  },
  {
   "cell_type": "code",
   "execution_count": 42,
   "metadata": {
    "collapsed": true
   },
   "outputs": [],
   "source": [
    "imdb_title_basics_cooked_df = imdb_title_basics_cooked_df.applymap(str_clean)"
   ]
  },
  {
   "cell_type": "code",
   "execution_count": 43,
   "metadata": {
    "collapsed": true
   },
   "outputs": [],
   "source": [
    "imdb_title_basics_cooked_df['isAdult'] = imdb_title_basics_cooked_df['isAdult'].apply(str_to_bool)"
   ]
  },
  {
   "cell_type": "code",
   "execution_count": 44,
   "metadata": {
    "collapsed": true
   },
   "outputs": [],
   "source": [
    "imdb_title_basics_cooked_df['startYear'] = imdb_title_basics_cooked_df['startYear'].map(str_to_int).astype(int)"
   ]
  },
  {
   "cell_type": "code",
   "execution_count": 45,
   "metadata": {
    "collapsed": true
   },
   "outputs": [],
   "source": [
    "imdb_title_basics_cooked_df['runtimeMinutes'] = imdb_title_basics_cooked_df['runtimeMinutes'].map(str_to_int).astype(int)"
   ]
  },
  {
   "cell_type": "code",
   "execution_count": 46,
   "metadata": {
    "collapsed": true
   },
   "outputs": [],
   "source": [
    "def titleType_to_isForTv(s):\n",
    "    return 1 if s == 'tvMovie' else 0"
   ]
  },
  {
   "cell_type": "code",
   "execution_count": 47,
   "metadata": {
    "collapsed": true
   },
   "outputs": [],
   "source": [
    "imdb_title_basics_cooked_df['is_for_tv'] = imdb_title_basics_cooked_df['titleType'].map(titleType_to_isForTv).astype(int)"
   ]
  },
  {
   "cell_type": "code",
   "execution_count": 48,
   "metadata": {},
   "outputs": [
    {
     "data": {
      "text/plain": [
       "tconst            object\n",
       "titleType         object\n",
       "primaryTitle      object\n",
       "isAdult            int64\n",
       "startYear          int64\n",
       "runtimeMinutes     int64\n",
       "genres            object\n",
       "is_for_tv          int64\n",
       "dtype: object"
      ]
     },
     "execution_count": 48,
     "metadata": {},
     "output_type": "execute_result"
    }
   ],
   "source": [
    "imdb_title_basics_cooked_df.dtypes"
   ]
  },
  {
   "cell_type": "code",
   "execution_count": 49,
   "metadata": {
    "scrolled": true
   },
   "outputs": [
    {
     "data": {
      "text/plain": [
       "110"
      ]
     },
     "execution_count": 49,
     "metadata": {},
     "output_type": "execute_result"
    }
   ],
   "source": [
    "imdb_2020_mask = imdb_title_basics_cooked_df['startYear'] > 2020\n",
    "imdb_title_basics_cooked_df[imdb_2020_mask].shape[0]"
   ]
  },
  {
   "cell_type": "code",
   "execution_count": 50,
   "metadata": {
    "scrolled": true
   },
   "outputs": [
    {
     "data": {
      "text/html": [
       "<div>\n",
       "<style>\n",
       "    .dataframe thead tr:only-child th {\n",
       "        text-align: right;\n",
       "    }\n",
       "\n",
       "    .dataframe thead th {\n",
       "        text-align: left;\n",
       "    }\n",
       "\n",
       "    .dataframe tbody tr th {\n",
       "        vertical-align: top;\n",
       "    }\n",
       "</style>\n",
       "<table border=\"1\" class=\"dataframe\">\n",
       "  <thead>\n",
       "    <tr style=\"text-align: right;\">\n",
       "      <th></th>\n",
       "      <th>tconst</th>\n",
       "      <th>titleType</th>\n",
       "      <th>primaryTitle</th>\n",
       "      <th>isAdult</th>\n",
       "      <th>startYear</th>\n",
       "      <th>runtimeMinutes</th>\n",
       "      <th>genres</th>\n",
       "      <th>is_for_tv</th>\n",
       "    </tr>\n",
       "  </thead>\n",
       "  <tbody>\n",
       "    <tr>\n",
       "      <th>3508148</th>\n",
       "      <td>tt5174640</td>\n",
       "      <td>movie</td>\n",
       "      <td>100 Years</td>\n",
       "      <td>0</td>\n",
       "      <td>2115</td>\n",
       "      <td>0</td>\n",
       "      <td>Drama</td>\n",
       "      <td>0</td>\n",
       "    </tr>\n",
       "  </tbody>\n",
       "</table>\n",
       "</div>"
      ],
      "text/plain": [
       "            tconst titleType primaryTitle  isAdult  startYear  runtimeMinutes  \\\n",
       "3508148  tt5174640     movie    100 Years        0       2115               0   \n",
       "\n",
       "        genres  is_for_tv  \n",
       "3508148  Drama          0  "
      ]
     },
     "execution_count": 50,
     "metadata": {},
     "output_type": "execute_result"
    }
   ],
   "source": [
    "imdb_title_basics_cooked_df[imdb_title_basics_cooked_df['startYear'] == 2115]"
   ]
  },
  {
   "cell_type": "markdown",
   "metadata": {},
   "source": [
    "<hr style=\"height:3px;margin:auto;width:10%\"/>\n",
    "<hr style=\"height:5px;margin:auto;width:25%\"/>\n",
    "<hr style=\"height:3px;margin:auto;width:10%\"/>"
   ]
  },
  {
   "cell_type": "code",
   "execution_count": 51,
   "metadata": {
    "collapsed": true
   },
   "outputs": [],
   "source": [
    "imdb_title_basics_filtered_df = imdb_title_basics_cooked_df.copy()"
   ]
  },
  {
   "cell_type": "code",
   "execution_count": 52,
   "metadata": {},
   "outputs": [
    {
     "data": {
      "text/plain": [
       "361072"
      ]
     },
     "execution_count": 52,
     "metadata": {},
     "output_type": "execute_result"
    }
   ],
   "source": [
    "imdb_title_basics_mask = (\n",
    "    (\n",
    "        (imdb_title_basics_filtered_df['titleType'] == 'movie')\n",
    "        | (imdb_title_basics_filtered_df['titleType'] == 'tvMovie')\n",
    "    )\n",
    "    & (imdb_title_basics_filtered_df['isAdult'] == False)\n",
    "    & (imdb_title_basics_filtered_df['startYear'] > 0)\n",
    "    & (imdb_title_basics_filtered_df['runtimeMinutes'] > 0)\n",
    ")\n",
    "imdb_title_basics_filtered_df = imdb_title_basics_filtered_df[imdb_title_basics_mask]\n",
    "imdb_title_basics_filtered_df.shape[0]"
   ]
  },
  {
   "cell_type": "code",
   "execution_count": 53,
   "metadata": {
    "collapsed": true
   },
   "outputs": [],
   "source": [
    "del imdb_title_basics_raw_df"
   ]
  },
  {
   "cell_type": "code",
   "execution_count": 54,
   "metadata": {
    "collapsed": true
   },
   "outputs": [],
   "source": [
    "del imdb_title_basics_cooked_df"
   ]
  },
  {
   "cell_type": "markdown",
   "metadata": {},
   "source": [
    "<hr style=\"height:3px;margin:auto;width:75%\"/>"
   ]
  },
  {
   "cell_type": "code",
   "execution_count": 55,
   "metadata": {
    "collapsed": true
   },
   "outputs": [],
   "source": [
    "imdb_title_crew_raw_df = pd.read_csv(IMDB_TITLE_CREW_PATH, sep='\\t')"
   ]
  },
  {
   "cell_type": "code",
   "execution_count": 56,
   "metadata": {},
   "outputs": [
    {
     "data": {
      "text/plain": [
       "(4755440, 3)"
      ]
     },
     "execution_count": 56,
     "metadata": {},
     "output_type": "execute_result"
    }
   ],
   "source": [
    "imdb_title_crew_raw_df.shape"
   ]
  },
  {
   "cell_type": "code",
   "execution_count": 57,
   "metadata": {},
   "outputs": [
    {
     "data": {
      "text/plain": [
       "tconst       object\n",
       "directors    object\n",
       "writers      object\n",
       "dtype: object"
      ]
     },
     "execution_count": 57,
     "metadata": {},
     "output_type": "execute_result"
    }
   ],
   "source": [
    "imdb_title_crew_raw_df.dtypes"
   ]
  },
  {
   "cell_type": "code",
   "execution_count": 58,
   "metadata": {
    "scrolled": true
   },
   "outputs": [
    {
     "data": {
      "text/html": [
       "<div>\n",
       "<style>\n",
       "    .dataframe thead tr:only-child th {\n",
       "        text-align: right;\n",
       "    }\n",
       "\n",
       "    .dataframe thead th {\n",
       "        text-align: left;\n",
       "    }\n",
       "\n",
       "    .dataframe tbody tr th {\n",
       "        vertical-align: top;\n",
       "    }\n",
       "</style>\n",
       "<table border=\"1\" class=\"dataframe\">\n",
       "  <thead>\n",
       "    <tr style=\"text-align: right;\">\n",
       "      <th></th>\n",
       "      <th>tconst</th>\n",
       "      <th>directors</th>\n",
       "      <th>writers</th>\n",
       "    </tr>\n",
       "  </thead>\n",
       "  <tbody>\n",
       "    <tr>\n",
       "      <th>582057</th>\n",
       "      <td>tt0602458</td>\n",
       "      <td>nm0323795</td>\n",
       "      <td>nm0391381</td>\n",
       "    </tr>\n",
       "    <tr>\n",
       "      <th>2709736</th>\n",
       "      <td>tt3378346</td>\n",
       "      <td>\\N</td>\n",
       "      <td>\\N</td>\n",
       "    </tr>\n",
       "    <tr>\n",
       "      <th>1924667</th>\n",
       "      <td>tt1993309</td>\n",
       "      <td>\\N</td>\n",
       "      <td>\\N</td>\n",
       "    </tr>\n",
       "    <tr>\n",
       "      <th>3777864</th>\n",
       "      <td>tt5775962</td>\n",
       "      <td>nm8145614</td>\n",
       "      <td>nm8145614</td>\n",
       "    </tr>\n",
       "    <tr>\n",
       "      <th>3219155</th>\n",
       "      <td>tt4525598</td>\n",
       "      <td>\\N</td>\n",
       "      <td>\\N</td>\n",
       "    </tr>\n",
       "  </tbody>\n",
       "</table>\n",
       "</div>"
      ],
      "text/plain": [
       "            tconst  directors    writers\n",
       "582057   tt0602458  nm0323795  nm0391381\n",
       "2709736  tt3378346         \\N         \\N\n",
       "1924667  tt1993309         \\N         \\N\n",
       "3777864  tt5775962  nm8145614  nm8145614\n",
       "3219155  tt4525598         \\N         \\N"
      ]
     },
     "execution_count": 58,
     "metadata": {},
     "output_type": "execute_result"
    }
   ],
   "source": [
    "imdb_title_crew_raw_df.sample(5)"
   ]
  },
  {
   "cell_type": "markdown",
   "metadata": {},
   "source": [
    "<hr style=\"height:3px;margin:auto;width:10%\"/>\n",
    "<hr style=\"height:5px;margin:auto;width:25%\"/>\n",
    "<hr style=\"height:3px;margin:auto;width:10%\"/>"
   ]
  },
  {
   "cell_type": "code",
   "execution_count": 59,
   "metadata": {
    "collapsed": true
   },
   "outputs": [],
   "source": [
    "imdb_title_crew_cooked_df = imdb_title_crew_raw_df.copy()"
   ]
  },
  {
   "cell_type": "code",
   "execution_count": 60,
   "metadata": {
    "collapsed": true
   },
   "outputs": [],
   "source": [
    "imdb_title_crew_cooked_df = imdb_title_crew_cooked_df.applymap(str_clean)"
   ]
  },
  {
   "cell_type": "code",
   "execution_count": 61,
   "metadata": {
    "scrolled": true
   },
   "outputs": [
    {
     "data": {
      "text/html": [
       "<div>\n",
       "<style>\n",
       "    .dataframe thead tr:only-child th {\n",
       "        text-align: right;\n",
       "    }\n",
       "\n",
       "    .dataframe thead th {\n",
       "        text-align: left;\n",
       "    }\n",
       "\n",
       "    .dataframe tbody tr th {\n",
       "        vertical-align: top;\n",
       "    }\n",
       "</style>\n",
       "<table border=\"1\" class=\"dataframe\">\n",
       "  <thead>\n",
       "    <tr style=\"text-align: right;\">\n",
       "      <th></th>\n",
       "      <th>tconst</th>\n",
       "      <th>directors</th>\n",
       "      <th>writers</th>\n",
       "    </tr>\n",
       "  </thead>\n",
       "  <tbody>\n",
       "    <tr>\n",
       "      <th>644366</th>\n",
       "      <td>tt0665476</td>\n",
       "      <td>nm0021079</td>\n",
       "      <td>nm0938132,nm0156254</td>\n",
       "    </tr>\n",
       "    <tr>\n",
       "      <th>2314006</th>\n",
       "      <td>tt2438750</td>\n",
       "      <td>nm2148376,nm5071225,nm7646927,nm1386169,nm2039...</td>\n",
       "      <td>nm4124881,nm3581268,nm1386169,nm7823170</td>\n",
       "    </tr>\n",
       "    <tr>\n",
       "      <th>4749766</th>\n",
       "      <td>tt7877860</td>\n",
       "      <td>nm0056904,nm1858056,nm1277088</td>\n",
       "      <td>nm1858813</td>\n",
       "    </tr>\n",
       "    <tr>\n",
       "      <th>52709</th>\n",
       "      <td>tt0053688</td>\n",
       "      <td>nm0217107</td>\n",
       "      <td>nm0217107</td>\n",
       "    </tr>\n",
       "    <tr>\n",
       "      <th>2528303</th>\n",
       "      <td>tt2953234</td>\n",
       "      <td>nm4588610</td>\n",
       "      <td>nm4588610,nm5708753,nm4261803</td>\n",
       "    </tr>\n",
       "  </tbody>\n",
       "</table>\n",
       "</div>"
      ],
      "text/plain": [
       "            tconst                                          directors  \\\n",
       "644366   tt0665476                                          nm0021079   \n",
       "2314006  tt2438750  nm2148376,nm5071225,nm7646927,nm1386169,nm2039...   \n",
       "4749766  tt7877860                      nm0056904,nm1858056,nm1277088   \n",
       "52709    tt0053688                                          nm0217107   \n",
       "2528303  tt2953234                                          nm4588610   \n",
       "\n",
       "                                         writers  \n",
       "644366                       nm0938132,nm0156254  \n",
       "2314006  nm4124881,nm3581268,nm1386169,nm7823170  \n",
       "4749766                                nm1858813  \n",
       "52709                                  nm0217107  \n",
       "2528303            nm4588610,nm5708753,nm4261803  "
      ]
     },
     "execution_count": 61,
     "metadata": {},
     "output_type": "execute_result"
    }
   ],
   "source": [
    "imdb_title_crew_cooked_df.sample(5)"
   ]
  },
  {
   "cell_type": "markdown",
   "metadata": {},
   "source": [
    "<hr style=\"height:3px;margin:auto;width:10%\"/>\n",
    "<hr style=\"height:5px;margin:auto;width:25%\"/>\n",
    "<hr style=\"height:3px;margin:auto;width:10%\"/>"
   ]
  },
  {
   "cell_type": "markdown",
   "metadata": {},
   "source": [
    "<hr style=\"height:3px;margin:auto;width:75%\"/>"
   ]
  },
  {
   "cell_type": "code",
   "execution_count": 62,
   "metadata": {
    "collapsed": true
   },
   "outputs": [],
   "source": [
    "# imdb_title_episodes_df = pd.read_csv(IMDB_TITLE_EPISODES_PATH, sep='\\t',\n",
    "#                                      dtype={'tconst': str,\n",
    "#                                             'parentTconst': str,\n",
    "#                                             'seasonNumber': str,\n",
    "#                                             'episodeNumber': str}\n",
    "#                                     )"
   ]
  },
  {
   "cell_type": "markdown",
   "metadata": {},
   "source": [
    "<hr style=\"height:3px;margin:auto;width:75%\"/>"
   ]
  },
  {
   "cell_type": "code",
   "execution_count": 63,
   "metadata": {
    "collapsed": true
   },
   "outputs": [],
   "source": [
    "imdb_title_principles_raw_df = pd.read_csv(IMDB_TITLE_PRINCIPALS_PATH, sep='\\t')"
   ]
  },
  {
   "cell_type": "code",
   "execution_count": 64,
   "metadata": {},
   "outputs": [
    {
     "data": {
      "text/plain": [
       "(4229908, 2)"
      ]
     },
     "execution_count": 64,
     "metadata": {},
     "output_type": "execute_result"
    }
   ],
   "source": [
    "imdb_title_principles_raw_df.shape"
   ]
  },
  {
   "cell_type": "code",
   "execution_count": 65,
   "metadata": {},
   "outputs": [
    {
     "data": {
      "text/plain": [
       "tconst           object\n",
       "principalCast    object\n",
       "dtype: object"
      ]
     },
     "execution_count": 65,
     "metadata": {},
     "output_type": "execute_result"
    }
   ],
   "source": [
    "imdb_title_principles_raw_df.dtypes"
   ]
  },
  {
   "cell_type": "code",
   "execution_count": 66,
   "metadata": {
    "scrolled": true
   },
   "outputs": [
    {
     "data": {
      "text/html": [
       "<div>\n",
       "<style>\n",
       "    .dataframe thead tr:only-child th {\n",
       "        text-align: right;\n",
       "    }\n",
       "\n",
       "    .dataframe thead th {\n",
       "        text-align: left;\n",
       "    }\n",
       "\n",
       "    .dataframe tbody tr th {\n",
       "        vertical-align: top;\n",
       "    }\n",
       "</style>\n",
       "<table border=\"1\" class=\"dataframe\">\n",
       "  <thead>\n",
       "    <tr style=\"text-align: right;\">\n",
       "      <th></th>\n",
       "      <th>tconst</th>\n",
       "      <th>principalCast</th>\n",
       "    </tr>\n",
       "  </thead>\n",
       "  <tbody>\n",
       "    <tr>\n",
       "      <th>1762279</th>\n",
       "      <td>tt1905557</td>\n",
       "      <td>nm1715201,nm1475669</td>\n",
       "    </tr>\n",
       "    <tr>\n",
       "      <th>3027818</th>\n",
       "      <td>tt4703338</td>\n",
       "      <td>nm1696695,nm3578444,nm3083391,nm6878991,nm7188...</td>\n",
       "    </tr>\n",
       "    <tr>\n",
       "      <th>336164</th>\n",
       "      <td>tt0358672</td>\n",
       "      <td>nm0697944,nm0874364</td>\n",
       "    </tr>\n",
       "    <tr>\n",
       "      <th>2446301</th>\n",
       "      <td>tt3148756</td>\n",
       "      <td>nm1832175,nm1670172</td>\n",
       "    </tr>\n",
       "    <tr>\n",
       "      <th>1044775</th>\n",
       "      <td>tt1107750</td>\n",
       "      <td>nm0200104,nm0432793,nm0838393,nm0061270,nm0828...</td>\n",
       "    </tr>\n",
       "  </tbody>\n",
       "</table>\n",
       "</div>"
      ],
      "text/plain": [
       "            tconst                                      principalCast\n",
       "1762279  tt1905557                                nm1715201,nm1475669\n",
       "3027818  tt4703338  nm1696695,nm3578444,nm3083391,nm6878991,nm7188...\n",
       "336164   tt0358672                                nm0697944,nm0874364\n",
       "2446301  tt3148756                                nm1832175,nm1670172\n",
       "1044775  tt1107750  nm0200104,nm0432793,nm0838393,nm0061270,nm0828..."
      ]
     },
     "execution_count": 66,
     "metadata": {},
     "output_type": "execute_result"
    }
   ],
   "source": [
    "imdb_title_principles_raw_df.sample(5)"
   ]
  },
  {
   "cell_type": "markdown",
   "metadata": {},
   "source": [
    "<hr style=\"height:3px;margin:auto;width:75%\"/>"
   ]
  },
  {
   "cell_type": "code",
   "execution_count": 67,
   "metadata": {
    "collapsed": true
   },
   "outputs": [],
   "source": [
    "imdb_title_ratings_raw_df = pd.read_csv(IMDB_TITLE_RATINGS_PATH, sep='\\t')"
   ]
  },
  {
   "cell_type": "code",
   "execution_count": 68,
   "metadata": {},
   "outputs": [
    {
     "data": {
      "text/plain": [
       "(797950, 3)"
      ]
     },
     "execution_count": 68,
     "metadata": {},
     "output_type": "execute_result"
    }
   ],
   "source": [
    "imdb_title_ratings_raw_df.shape"
   ]
  },
  {
   "cell_type": "code",
   "execution_count": 69,
   "metadata": {},
   "outputs": [
    {
     "data": {
      "text/plain": [
       "tconst            object\n",
       "averageRating    float64\n",
       "numVotes           int64\n",
       "dtype: object"
      ]
     },
     "execution_count": 69,
     "metadata": {},
     "output_type": "execute_result"
    }
   ],
   "source": [
    "imdb_title_ratings_raw_df.dtypes"
   ]
  },
  {
   "cell_type": "code",
   "execution_count": 70,
   "metadata": {
    "scrolled": true
   },
   "outputs": [
    {
     "data": {
      "text/html": [
       "<div>\n",
       "<style>\n",
       "    .dataframe thead tr:only-child th {\n",
       "        text-align: right;\n",
       "    }\n",
       "\n",
       "    .dataframe thead th {\n",
       "        text-align: left;\n",
       "    }\n",
       "\n",
       "    .dataframe tbody tr th {\n",
       "        vertical-align: top;\n",
       "    }\n",
       "</style>\n",
       "<table border=\"1\" class=\"dataframe\">\n",
       "  <thead>\n",
       "    <tr style=\"text-align: right;\">\n",
       "      <th></th>\n",
       "      <th>tconst</th>\n",
       "      <th>averageRating</th>\n",
       "      <th>numVotes</th>\n",
       "    </tr>\n",
       "  </thead>\n",
       "  <tbody>\n",
       "    <tr>\n",
       "      <th>436573</th>\n",
       "      <td>tt1232857</td>\n",
       "      <td>6.2</td>\n",
       "      <td>5</td>\n",
       "    </tr>\n",
       "    <tr>\n",
       "      <th>258496</th>\n",
       "      <td>tt0539635</td>\n",
       "      <td>7.0</td>\n",
       "      <td>6</td>\n",
       "    </tr>\n",
       "    <tr>\n",
       "      <th>71088</th>\n",
       "      <td>tt0102371</td>\n",
       "      <td>6.2</td>\n",
       "      <td>188</td>\n",
       "    </tr>\n",
       "    <tr>\n",
       "      <th>173066</th>\n",
       "      <td>tt0317260</td>\n",
       "      <td>5.0</td>\n",
       "      <td>20</td>\n",
       "    </tr>\n",
       "    <tr>\n",
       "      <th>260197</th>\n",
       "      <td>tt0544069</td>\n",
       "      <td>8.4</td>\n",
       "      <td>7</td>\n",
       "    </tr>\n",
       "  </tbody>\n",
       "</table>\n",
       "</div>"
      ],
      "text/plain": [
       "           tconst  averageRating  numVotes\n",
       "436573  tt1232857            6.2         5\n",
       "258496  tt0539635            7.0         6\n",
       "71088   tt0102371            6.2       188\n",
       "173066  tt0317260            5.0        20\n",
       "260197  tt0544069            8.4         7"
      ]
     },
     "execution_count": 70,
     "metadata": {},
     "output_type": "execute_result"
    }
   ],
   "source": [
    "imdb_title_ratings_raw_df.sample(5)"
   ]
  },
  {
   "cell_type": "code",
   "execution_count": 71,
   "metadata": {},
   "outputs": [
    {
     "data": {
      "text/plain": [
       "10.0"
      ]
     },
     "execution_count": 71,
     "metadata": {},
     "output_type": "execute_result"
    }
   ],
   "source": [
    "imdb_title_ratings_raw_df['averageRating'].max()"
   ]
  },
  {
   "cell_type": "code",
   "execution_count": 72,
   "metadata": {
    "scrolled": true
   },
   "outputs": [
    {
     "data": {
      "text/plain": [
       "(2702, 3)"
      ]
     },
     "execution_count": 72,
     "metadata": {},
     "output_type": "execute_result"
    }
   ],
   "source": [
    "imdb_title_ratings_raw_df[imdb_title_ratings_raw_df['averageRating'] == 9.3].shape"
   ]
  },
  {
   "cell_type": "code",
   "execution_count": 73,
   "metadata": {
    "collapsed": true
   },
   "outputs": [],
   "source": [
    "imdb_title_ratings_mask = (\n",
    "    (imdb_title_ratings_raw_df['averageRating'] == 9.3)\n",
    "    & (imdb_title_ratings_raw_df['numVotes'] > 1000)\n",
    ")\n",
    "imdb_title_ratings_top_df = imdb_title_ratings_raw_df[imdb_title_ratings_mask].copy()"
   ]
  },
  {
   "cell_type": "code",
   "execution_count": 74,
   "metadata": {},
   "outputs": [
    {
     "data": {
      "text/plain": [
       "1901907"
      ]
     },
     "execution_count": 74,
     "metadata": {},
     "output_type": "execute_result"
    }
   ],
   "source": [
    "imdb_title_ratings_raw_df['numVotes'].max()"
   ]
  },
  {
   "cell_type": "code",
   "execution_count": 75,
   "metadata": {},
   "outputs": [
    {
     "data": {
      "text/html": [
       "<div>\n",
       "<style>\n",
       "    .dataframe thead tr:only-child th {\n",
       "        text-align: right;\n",
       "    }\n",
       "\n",
       "    .dataframe thead th {\n",
       "        text-align: left;\n",
       "    }\n",
       "\n",
       "    .dataframe tbody tr th {\n",
       "        vertical-align: top;\n",
       "    }\n",
       "</style>\n",
       "<table border=\"1\" class=\"dataframe\">\n",
       "  <thead>\n",
       "    <tr style=\"text-align: right;\">\n",
       "      <th></th>\n",
       "      <th>tconst</th>\n",
       "      <th>averageRating</th>\n",
       "      <th>numVotes</th>\n",
       "    </tr>\n",
       "  </thead>\n",
       "  <tbody>\n",
       "    <tr>\n",
       "      <th>78227</th>\n",
       "      <td>tt0111161</td>\n",
       "      <td>9.3</td>\n",
       "      <td>1901907</td>\n",
       "    </tr>\n",
       "  </tbody>\n",
       "</table>\n",
       "</div>"
      ],
      "text/plain": [
       "          tconst  averageRating  numVotes\n",
       "78227  tt0111161            9.3   1901907"
      ]
     },
     "execution_count": 75,
     "metadata": {},
     "output_type": "execute_result"
    }
   ],
   "source": [
    "imdb_title_ratings_raw_df[imdb_title_ratings_raw_df['numVotes'] == 1901907]"
   ]
  },
  {
   "cell_type": "markdown",
   "metadata": {},
   "source": [
    "<hr style=\"height:3px;margin:auto;width:75%\"/>\n",
    "<hr style=\"height:5px;margin:auto;width:90%\"/>\n",
    "<hr style=\"height:3px;margin:auto;width:75%\"/>"
   ]
  },
  {
   "cell_type": "markdown",
   "metadata": {},
   "source": [
    "# WIkipedia"
   ]
  },
  {
   "cell_type": "code",
   "execution_count": 76,
   "metadata": {
    "collapsed": true
   },
   "outputs": [],
   "source": [
    "with open('../data/self/stopwords.txt', 'r') as f:\n",
    "    stopwords = [word.lower() for line in f.readlines() for word in line.split()]"
   ]
  },
  {
   "cell_type": "code",
   "execution_count": 77,
   "metadata": {
    "collapsed": true
   },
   "outputs": [],
   "source": [
    "year2eventStems = {}\n",
    "for year in range(1885, 2018):\n",
    "    with open('../data/wikipedia.org/event_stems_' + str(year) + '.txt') as f:\n",
    "        year2eventStems[year] = set([word.lower()\n",
    "                                 for line in f.readlines()\n",
    "                                 for word in line.split()\n",
    "                                ])"
   ]
  },
  {
   "cell_type": "code",
   "execution_count": 79,
   "metadata": {},
   "outputs": [],
   "source": [
    "wiki_stem_cntr = Counter([stem for year in range(1885, 2018) for stem in year2eventStems[year]])"
   ]
  },
  {
   "cell_type": "code",
   "execution_count": 82,
   "metadata": {},
   "outputs": [
    {
     "data": {
      "text/plain": [
       "Counter({'with': 133,\n",
       "         'bop': 1,\n",
       "         'keys': 1,\n",
       "         'comic': 26,\n",
       "         'good': 18,\n",
       "         'sever': 85,\n",
       "         'fall': 63,\n",
       "         'miner': 38,\n",
       "         'arbroath': 2,\n",
       "         'méti': 1,\n",
       "         'atlanta': 20,\n",
       "         'bed': 4,\n",
       "         'appendectomi': 1,\n",
       "         'jenney': 1,\n",
       "         'confer': 88,\n",
       "         'repres': 47,\n",
       "         'von': 38,\n",
       "         'cut': 27,\n",
       "         'inflict': 5,\n",
       "         'wa': 89,\n",
       "         'centuri': 52,\n",
       "         'goe': 60,\n",
       "         'secretari': 60,\n",
       "         'ever': 79,\n",
       "         'high': 59,\n",
       "         'full': 45,\n",
       "         'war': 124,\n",
       "         'himself': 42,\n",
       "         'motorcycl': 8,\n",
       "         'gener': 113,\n",
       "         'superior': 5,\n",
       "         'execution': 2,\n",
       "         'that': 123,\n",
       "         'lee': 24,\n",
       "         'wander': 6,\n",
       "         'columbia': 37,\n",
       "         'need': 66,\n",
       "         'march': 133,\n",
       "         'japanes': 70,\n",
       "         'academ': 7,\n",
       "         'threemonth': 2,\n",
       "         'european': 73,\n",
       "         'irish': 60,\n",
       "         'safeti': 15,\n",
       "         'loui': 49,\n",
       "         'salisburi': 7,\n",
       "         'soldier': 66,\n",
       "         'free': 61,\n",
       "         'proclaim': 55,\n",
       "         'mr': 9,\n",
       "         'roman': 27,\n",
       "         'industri': 54,\n",
       "         'discov': 77,\n",
       "         'school': 70,\n",
       "         'boy': 43,\n",
       "         'worker': 71,\n",
       "         'first': 133,\n",
       "         'remain': 68,\n",
       "         'bitten': 1,\n",
       "         'william': 78,\n",
       "         'without': 51,\n",
       "         'marquess': 3,\n",
       "         'cowork': 3,\n",
       "         'pepper': 5,\n",
       "         'don': 13,\n",
       "         'from': 131,\n",
       "         'way': 46,\n",
       "         'warrior': 9,\n",
       "         'ha': 97,\n",
       "         'legislatur': 17,\n",
       "         'wound': 59,\n",
       "         'most': 88,\n",
       "         'pacif': 62,\n",
       "         'floor': 10,\n",
       "         'brahm': 3,\n",
       "         'dudley': 1,\n",
       "         'china': 109,\n",
       "         'possess': 15,\n",
       "         'monument': 13,\n",
       "         'saint': 38,\n",
       "         'spain': 60,\n",
       "         'michigan': 31,\n",
       "         'astronom': 12,\n",
       "         'northern': 79,\n",
       "         'galaxi': 9,\n",
       "         'print': 13,\n",
       "         'modern': 44,\n",
       "         'demonstr': 68,\n",
       "         'millwal': 1,\n",
       "         'card': 11,\n",
       "         'opera': 40,\n",
       "         'congo': 26,\n",
       "         'provid': 32,\n",
       "         'serbobulgarian': 2,\n",
       "         'empir': 43,\n",
       "         'onli': 78,\n",
       "         'excelsior': 1,\n",
       "         'republ': 109,\n",
       "         'design': 53,\n",
       "         'premier': 75,\n",
       "         'mikado': 1,\n",
       "         'run': 76,\n",
       "         'roller': 5,\n",
       "         'bombay': 14,\n",
       "         'govern': 124,\n",
       "         'gascoynececil': 1,\n",
       "         'origin': 52,\n",
       "         'person': 75,\n",
       "         'octob': 133,\n",
       "         'africanamerican': 26,\n",
       "         'bell': 24,\n",
       "         'deport': 17,\n",
       "         'duck': 8,\n",
       "         'germani': 112,\n",
       "         'canadian': 62,\n",
       "         'loon': 1,\n",
       "         'gather': 22,\n",
       "         'theatr': 41,\n",
       "         'dollar': 29,\n",
       "         'enabl': 7,\n",
       "         'pasteur': 4,\n",
       "         'presid': 126,\n",
       "         'att': 7,\n",
       "         'mount': 61,\n",
       "         'intern': 117,\n",
       "         'two': 111,\n",
       "         'sarah': 5,\n",
       "         'soil': 10,\n",
       "         'king': 92,\n",
       "         'négrier': 1,\n",
       "         'skirmish': 4,\n",
       "         'wyom': 10,\n",
       "         'rebel': 47,\n",
       "         'johann': 3,\n",
       "         'unif': 11,\n",
       "         'weightbear': 1,\n",
       "         'niagara': 5,\n",
       "         'combust': 2,\n",
       "         'jew': 25,\n",
       "         'meiningen': 1,\n",
       "         'california': 89,\n",
       "         'churchil': 18,\n",
       "         'literari': 3,\n",
       "         'ten': 39,\n",
       "         'russian': 67,\n",
       "         'hall': 51,\n",
       "         'swanag': 1,\n",
       "         'karl': 23,\n",
       "         'institut': 50,\n",
       "         'date': 117,\n",
       "         'station': 87,\n",
       "         'caus': 88,\n",
       "         'profession': 35,\n",
       "         'engin': 40,\n",
       "         'circl': 5,\n",
       "         'lead': 102,\n",
       "         'act': 99,\n",
       "         'benz': 6,\n",
       "         'conflict': 31,\n",
       "         'and': 133,\n",
       "         'ride': 13,\n",
       "         'echegaray': 1,\n",
       "         'declar': 106,\n",
       "         'gottlieb': 5,\n",
       "         'play': 70,\n",
       "         'newli': 19,\n",
       "         'arriv': 62,\n",
       "         'built': 32,\n",
       "         'houghton': 1,\n",
       "         'chines': 60,\n",
       "         'frog': 3,\n",
       "         'imprison': 38,\n",
       "         'harbor': 22,\n",
       "         'jeannett': 4,\n",
       "         'baron': 11,\n",
       "         'robert': 68,\n",
       "         'februari': 132,\n",
       "         'england': 102,\n",
       "         'edit': 132,\n",
       "         'stood': 4,\n",
       "         'gilbert': 7,\n",
       "         'bismarck': 7,\n",
       "         'spirit': 5,\n",
       "         'gain': 57,\n",
       "         'sign': 115,\n",
       "         'effect': 87,\n",
       "         'canada': 93,\n",
       "         'occur': 89,\n",
       "         'milki': 4,\n",
       "         'train': 80,\n",
       "         'averag': 28,\n",
       "         'engag': 18,\n",
       "         'dramatist': 2,\n",
       "         'societi': 35,\n",
       "         'citizenship': 15,\n",
       "         'bring': 51,\n",
       "         'januari': 133,\n",
       "         'more': 103,\n",
       "         'cathol': 40,\n",
       "         'unknown': 112,\n",
       "         'sworn': 57,\n",
       "         'sinofrench': 1,\n",
       "         'bill': 54,\n",
       "         'serbia': 20,\n",
       "         'outbreak': 22,\n",
       "         'railway': 61,\n",
       "         'indian': 65,\n",
       "         'far': 18,\n",
       "         'loyal': 5,\n",
       "         'door': 24,\n",
       "         'trigger': 35,\n",
       "         'expel': 24,\n",
       "         'sudan': 16,\n",
       "         'their': 110,\n",
       "         'damag': 72,\n",
       "         'skyscrap': 3,\n",
       "         'panjdeh': 1,\n",
       "         'adna': 1,\n",
       "         'rock': 45,\n",
       "         'rover': 9,\n",
       "         'found': 124,\n",
       "         'vital': 4,\n",
       "         'hi': 123,\n",
       "         'joseph': 48,\n",
       "         'success': 80,\n",
       "         'continu': 56,\n",
       "         'public': 92,\n",
       "         'journalist': 25,\n",
       "         'logan': 4,\n",
       "         'last': 108,\n",
       "         'withdraw': 68,\n",
       "         'bon': 2,\n",
       "         'india': 85,\n",
       "         'numer': 17,\n",
       "         'kép': 1,\n",
       "         'slivnitsa': 1,\n",
       "         'alegr': 3,\n",
       "         'time': 124,\n",
       "         'prussian': 7,\n",
       "         'mine': 65,\n",
       "         'employ': 13,\n",
       "         'juli': 133,\n",
       "         'after': 127,\n",
       "         'parti': 100,\n",
       "         'trist': 1,\n",
       "         'sale': 33,\n",
       "         'establish': 110,\n",
       "         'núi': 1,\n",
       "         'year': 123,\n",
       "         'academi': 58,\n",
       "         'attack': 97,\n",
       "         'have': 101,\n",
       "         'leader': 101,\n",
       "         'đồng': 3,\n",
       "         'superintend': 2,\n",
       "         'motiv': 6,\n",
       "         'largest': 83,\n",
       "         'kemp': 2,\n",
       "         'who': 84,\n",
       "         'apriljun': 15,\n",
       "         'acclaim': 12,\n",
       "         'park': 71,\n",
       "         'meister': 1,\n",
       "         'level': 28,\n",
       "         'rabi': 1,\n",
       "         'footbal': 86,\n",
       "         'chicago': 72,\n",
       "         'conduct': 47,\n",
       "         'new': 128,\n",
       "         'consid': 25,\n",
       "         'veri': 27,\n",
       "         'reserv': 32,\n",
       "         'grant': 54,\n",
       "         'chester': 8,\n",
       "         'qing': 8,\n",
       "         'territori': 69,\n",
       "         'famili': 45,\n",
       "         'may': 133,\n",
       "         'begin': 127,\n",
       "         'exponenti': 1,\n",
       "         'assiniboin': 1,\n",
       "         'georg': 86,\n",
       "         'led': 73,\n",
       "         'militari': 108,\n",
       "         'john': 98,\n",
       "         'legal': 44,\n",
       "         'publicli': 19,\n",
       "         'but': 99,\n",
       "         'coaster': 5,\n",
       "         'access': 15,\n",
       "         'perform': 66,\n",
       "         'through': 60,\n",
       "         'inventor': 10,\n",
       "         'reitwagen': 1,\n",
       "         'fresno': 3,\n",
       "         'forc': 122,\n",
       "         'automobil': 40,\n",
       "         'trade': 59,\n",
       "         'made': 60,\n",
       "         'white': 77,\n",
       "         'over': 129,\n",
       "         'car': 68,\n",
       "         'novemb': 133,\n",
       "         'supernova': 3,\n",
       "         'welch': 4,\n",
       "         'colon': 4,\n",
       "         'fought': 11,\n",
       "         'woke': 1,\n",
       "         'legisl': 34,\n",
       "         'minist': 118,\n",
       "         'august': 133,\n",
       "         'matrimoni': 1,\n",
       "         'registri': 2,\n",
       "         'sailor': 16,\n",
       "         'charit': 2,\n",
       "         'exact': 7,\n",
       "         'sullivan': 15,\n",
       "         'day': 116,\n",
       "         'boer': 8,\n",
       "         'which': 119,\n",
       "         'klea': 1,\n",
       "         'highest': 30,\n",
       "         'battl': 76,\n",
       "         'launch': 96,\n",
       "         'knife': 4,\n",
       "         'januarymarch': 15,\n",
       "         'british': 115,\n",
       "         'come': 66,\n",
       "         'technolog': 20,\n",
       "         'massacr': 81,\n",
       "         'singlecylind': 1,\n",
       "         'becom': 131,\n",
       "         'decis': 25,\n",
       "         'french': 102,\n",
       "         'andromeda': 2,\n",
       "         'arthur': 35,\n",
       "         'rebellion': 33,\n",
       "         'tonkin': 8,\n",
       "         'incid': 53,\n",
       "         'command': 51,\n",
       "         'patent': 38,\n",
       "         'polic': 87,\n",
       "         'railroad': 31,\n",
       "         'against': 116,\n",
       "         'win': 102,\n",
       "         'jumbo': 2,\n",
       "         'for': 133,\n",
       "         'commut': 13,\n",
       "         'telephon': 23,\n",
       "         'stock': 36,\n",
       "         'berlin': 54,\n",
       "         'regul': 10,\n",
       "         'magazin': 44,\n",
       "         'decemb': 133,\n",
       "         'end': 119,\n",
       "         'prussia': 12,\n",
       "         'madrid': 27,\n",
       "         'gartsid': 1,\n",
       "         'scientif': 24,\n",
       "         'accord': 40,\n",
       "         'town': 74,\n",
       "         'law': 90,\n",
       "         'well': 61,\n",
       "         'savoy': 2,\n",
       "         'prime': 112,\n",
       "         'plain': 10,\n",
       "         'region': 49,\n",
       "         'abu': 6,\n",
       "         'macdonald': 8,\n",
       "         'thompson': 9,\n",
       "         'practic': 19,\n",
       "         'oscar': 23,\n",
       "         'minnesota': 21,\n",
       "         'westminst': 21,\n",
       "         'club': 77,\n",
       "         'serv': 34,\n",
       "         'eastern': 58,\n",
       "         'surrey': 6,\n",
       "         'state': 133,\n",
       "         'alli': 41,\n",
       "         'american': 119,\n",
       "         'scrambl': 1,\n",
       "         'kill': 133,\n",
       "         'surrend': 44,\n",
       "         'ahmad': 13,\n",
       "         'africa': 95,\n",
       "         'julyseptemb': 15,\n",
       "         'hawaii': 32,\n",
       "         'mari': 39,\n",
       "         'otto': 16,\n",
       "         'muhammad': 27,\n",
       "         'bicycl': 8,\n",
       "         'patentmotorwagen': 2,\n",
       "         'april': 133,\n",
       "         'mobil': 19,\n",
       "         'extend': 18,\n",
       "         'batoch': 1,\n",
       "         'daimler': 6,\n",
       "         'illinoi': 34,\n",
       "         'translat': 12,\n",
       "         'home': 73,\n",
       "         'statu': 43,\n",
       "         'associ': 82,\n",
       "         'tower': 40,\n",
       "         'oldest': 24,\n",
       "         'rumelia': 1,\n",
       "         'riel': 1,\n",
       "         'symphoni': 17,\n",
       "         'english': 64,\n",
       "         'maybach': 1,\n",
       "         'publish': 101,\n",
       "         'depart': 62,\n",
       "         'telegraph': 11,\n",
       "         'thi': 106,\n",
       "         'are': 132,\n",
       "         'test': 68,\n",
       "         'outsid': 51,\n",
       "         'chile': 28,\n",
       "         'receiv': 61,\n",
       "         'wreck': 19,\n",
       "         'nearli': 46,\n",
       "         'dynamit': 7,\n",
       "         'incorpor': 33,\n",
       "         'camp': 38,\n",
       "         'washington': 92,\n",
       "         'hundr': 48,\n",
       "         'roux': 1,\n",
       "         'produc': 46,\n",
       "         'bechuanaland': 3,\n",
       "         'mahdi': 4,\n",
       "         'all': 110,\n",
       "         'attempt': 84,\n",
       "         'insur': 4,\n",
       "         'futur': 32,\n",
       "         'muert': 2,\n",
       "         'it': 128,\n",
       "         'terrorist': 34,\n",
       "         'dog': 16,\n",
       "         'defeat': 92,\n",
       "         'jone': 22,\n",
       "         'form': 108,\n",
       "         'follow': 98,\n",
       "         'out': 97,\n",
       "         'the': 133,\n",
       "         'quixot': 2,\n",
       "         'kingdom': 113,\n",
       "         'protectoratecit': 1,\n",
       "         'ethnic': 18,\n",
       "         'cremat': 2,\n",
       "         'trial': 56,\n",
       "         'unit': 133,\n",
       "         'giant': 16,\n",
       "         'note': 17,\n",
       "         'invent': 43,\n",
       "         'mahdist': 5,\n",
       "         'fail': 67,\n",
       "         'pole': 26,\n",
       "         'frame': 3,\n",
       "         'cleveland': 30,\n",
       "         'feb': 2,\n",
       "         'sentenc': 69,\n",
       "         'lake': 50,\n",
       "         'cree': 1,\n",
       "         'bulgaria': 32,\n",
       "         'project': 41,\n",
       "         'congress': 83,\n",
       "         'lawyer': 5,\n",
       "         'citi': 126,\n",
       "         'northwest': 28,\n",
       "         'compani': 89,\n",
       "         'georgia': 39,\n",
       "         'add': 6,\n",
       "         'khartoum': 5,\n",
       "         'kushka': 1,\n",
       "         'britain': 74,\n",
       "         'index': 12,\n",
       "         'between': 122,\n",
       "         'luton': 2,\n",
       "         'moon': 41,\n",
       "         'peopl': 124,\n",
       "         'randolph': 2,\n",
       "         'settler': 3,\n",
       "         'complet': 87,\n",
       "         'acknowledg': 8,\n",
       "         'gordon': 19,\n",
       "         'ormsbi': 1,\n",
       "         'angloburmes': 2,\n",
       "         'fire': 114,\n",
       "         'ontario': 25,\n",
       "         'hideaway': 1,\n",
       "         'hang': 33,\n",
       "         'known': 93,\n",
       "         'treason': 14,\n",
       "         'vaccin': 8,\n",
       "         'liberti': 18,\n",
       "         'creat': 91,\n",
       "         'will': 97,\n",
       "         'thoma': 44,\n",
       "         'assist': 25,\n",
       "         'cholera': 4,\n",
       "         'emma': 5,\n",
       "         'york': 118,\n",
       "         'troop': 103,\n",
       "         'univers': 97,\n",
       "         'fireproof': 1,\n",
       "         'craigellachi': 1,\n",
       "         'grover': 9,\n",
       "         'score': 32,\n",
       "         'léopold': 3,\n",
       "         'pickersgil': 1,\n",
       "         'regard': 22,\n",
       "         'đăng': 2,\n",
       "         'open': 127,\n",
       "         'victori': 55,\n",
       "         'housekeep': 1,\n",
       "         'june': 133,\n",
       "         'septemb': 133,\n",
       "         'third': 79,\n",
       "         'union': 125,\n",
       "         'sir': 44,\n",
       "         'rise': 26,\n",
       "         'stellaland': 1,\n",
       "         'seen': 28,\n",
       "         'vietnam': 41,\n",
       "         'watercool': 1,\n",
       "         'reelect': 33,\n",
       "         'scholarli': 1,\n",
       "         'murder': 90,\n",
       "         'spring': 26,\n",
       "         'greater': 26,\n",
       "         'modernday': 26,\n",
       "         'isl': 18,\n",
       "         'construct': 58,\n",
       "         'metal': 8,\n",
       "         'life': 63,\n",
       "         'final': 74,\n",
       "         'under': 97,\n",
       "         'abolish': 47,\n",
       "         'eleph': 4,\n",
       "         'regina': 2,\n",
       "         'rabid': 1,\n",
       "         'civil': 88,\n",
       "         'charl': 74,\n",
       "         'appli': 9,\n",
       "         'german': 85,\n",
       "         'senat': 64,\n",
       "         'josé': 27,\n",
       "         'execut': 83,\n",
       "         'import': 22,\n",
       "         'part': 81,\n",
       "         'conquer': 4,\n",
       "         'archdioces': 2,\n",
       "         'octoberdecemb': 15,\n",
       "         'patient': 15,\n",
       "         'give': 69,\n",
       "         'dow': 20,\n",
       "         'woman': 64,\n",
       "         'lamarcu': 1,\n",
       "         'vida': 2,\n",
       "         'potenti': 9,\n",
       "         'subsidiari': 4,\n",
       "         'wilhelm': 21,\n",
       "         'barnum': 2,\n",
       "         'build': 80,\n",
       "         'belgium': 52,\n",
       "         'offic': 98,\n",
       "         'merger': 27,\n",
       "         'émile': 9,\n",
       "         'plovdiv': 3,\n",
       "         'into': 120,\n",
       "         'starley': 1,\n",
       "         'counti': 43,\n",
       "         'dedic': 41,\n",
       "         'due': 67,\n",
       "         'across': 64,\n",
       "         'london': 121,\n",
       "         'franc': 115,\n",
       "         'circu': 8,\n",
       "         'assembl': 64,\n",
       "         'babbacomb': 1,\n",
       "         'conclud': 35,\n",
       "         'afterward': 11,\n",
       "         'right': 81,\n",
       "         'chess': 12,\n",
       "         'maximum': 58,\n",
       "         'coil': 2,\n",
       "         'punch': 4,\n",
       "         'hous': 88,\n",
       "         'devast': 26,\n",
       "         'leav': 96,\n",
       "         'agre': 66,\n",
       "         'beverag': 2,\n",
       "         'adventur': 11,\n",
       "         'aluminium': 1,\n",
       "         'rule': 78,\n",
       "         'via': 27,\n",
       "         'formal': 59,\n",
       "         'buddhist': 7,\n",
       "         'north': 110,\n",
       "         'whiski': 2,\n",
       "         'burn': 44,\n",
       "         'steinitz': 1,\n",
       "         'autobiographi': 3,\n",
       "         'umpherston': 1,\n",
       "         'tea': 3,\n",
       "         'condemn': 25,\n",
       "         'stanley': 33,\n",
       "         'devic': 18,\n",
       "         'kabaka': 2,\n",
       "         'ethiopian': 17,\n",
       "         'horsedrawn': 1,\n",
       "         'skorenovac': 1,\n",
       "         'san': 74,\n",
       "         'woolwich': 3,\n",
       "         'extrem': 27,\n",
       "         'border': 56,\n",
       "         'supposedli': 9,\n",
       "         'texa': 55,\n",
       "         'foli': 2,\n",
       "         'electromagnet': 3,\n",
       "         'affect': 33,\n",
       "         'cuba': 51,\n",
       "         'gramophon': 3,\n",
       "         'pakistan': 48,\n",
       "         'nelson': 24,\n",
       "         'carbon': 14,\n",
       "         'queen': 69,\n",
       "         'same': 43,\n",
       "         'uganda': 17,\n",
       "         'demolish': 18,\n",
       "         'steven': 8,\n",
       "         'steve': 11,\n",
       "         'dial': 4,\n",
       "         'antichines': 1,\n",
       "         'lahor': 7,\n",
       "         'escal': 15,\n",
       "         'transform': 6,\n",
       "         'load': 7,\n",
       "         'stevenson': 6,\n",
       "         'carrollton': 2,\n",
       "         'estim': 48,\n",
       "         'death': 101,\n",
       "         'molten': 2,\n",
       "         'son': 44,\n",
       "         'austriahungari': 7,\n",
       "         'church': 65,\n",
       "         'neuschwanstein': 1,\n",
       "         'hallhéroult': 1,\n",
       "         'lwanga': 1,\n",
       "         'exist': 33,\n",
       "         'orang': 18,\n",
       "         'artist': 20,\n",
       "         'székeli': 1,\n",
       "         'christian': 31,\n",
       "         'castl': 23,\n",
       "         'streetcar': 5,\n",
       "         'yorkshir': 12,\n",
       "         'renam': 34,\n",
       "         'upper': 20,\n",
       "         'raj': 8,\n",
       "         'harrog': 2,\n",
       "         'famou': 41,\n",
       "         'grasshopp': 1,\n",
       "         'live': 78,\n",
       "         'rome': 35,\n",
       "         'bucharest': 12,\n",
       "         'develop': 65,\n",
       "         'introduc': 78,\n",
       "         'file': 18,\n",
       "         'latest': 8,\n",
       "         'motherwel': 1,\n",
       "         'southeastern': 11,\n",
       "         'hertz': 2,\n",
       "         'mysteri': 14,\n",
       "         'terrac': 4,\n",
       "         'start': 93,\n",
       "         'cocacola': 7,\n",
       "         'scotland': 42,\n",
       "         'pemberton': 2,\n",
       "         'zürich': 6,\n",
       "         'biggest': 19,\n",
       "         'emil': 4,\n",
       "         'pari': 91,\n",
       "         'tape': 9,\n",
       "         'colleg': 53,\n",
       "         'possibl': 35,\n",
       "         'name': 86,\n",
       "         'villag': 39,\n",
       "         'south': 120,\n",
       "         'resolut': 34,\n",
       "         'pharmacist': 3,\n",
       "         'her': 96,\n",
       "         'marri': 40,\n",
       "         'work': 72,\n",
       "         'volcano': 22,\n",
       "         'canal': 27,\n",
       "         'geronimo': 2,\n",
       "         'polit': 68,\n",
       "         'arabian': 6,\n",
       "         'match': 41,\n",
       "         'pink': 8,\n",
       "         'great': 77,\n",
       "         'circumst': 10,\n",
       "         'wed': 11,\n",
       "         'ticker': 2,\n",
       "         'jump': 17,\n",
       "         'mwanga': 1,\n",
       "         'mile': 59,\n",
       "         'shore': 12,\n",
       "         'order': 89,\n",
       "         'haymarket': 2,\n",
       "         'six': 57,\n",
       "         'angel': 67,\n",
       "         'ananda': 3,\n",
       "         'erupt': 60,\n",
       "         'father': 32,\n",
       "         'landmark': 19,\n",
       "         'one': 100,\n",
       "         'novella': 6,\n",
       "         'thousand': 58,\n",
       "         'vancouv': 17,\n",
       "         'namugongo': 1,\n",
       "         'harsh': 4,\n",
       "         'case': 54,\n",
       "         'slaveri': 10,\n",
       "         'convent': 62,\n",
       "         'altern': 7,\n",
       "         'advertis': 12,\n",
       "         'tarawera': 1,\n",
       "         'sri': 26,\n",
       "         'wave': 32,\n",
       "         'scotch': 3,\n",
       "         'hockey': 26,\n",
       "         'santa': 20,\n",
       "         'stage': 48,\n",
       "         'jekyl': 1,\n",
       "         'recogn': 45,\n",
       "         'hungarian': 14,\n",
       "         'seattl': 25,\n",
       "         'next': 55,\n",
       "         'arizona': 25,\n",
       "         'lanka': 19,\n",
       "         'small': 31,\n",
       "         'cecil': 6,\n",
       "         'arsen': 10,\n",
       "         'eventu': 48,\n",
       "         'mansion': 8,\n",
       "         'brooklyn': 22,\n",
       "         'drown': 15,\n",
       "         'women': 77,\n",
       "         'motorwagen': 1,\n",
       "         'aluminum': 1,\n",
       "         'much': 22,\n",
       "         'adopt': 67,\n",
       "         'buganda': 3,\n",
       "         'hyde': 10,\n",
       "         'junior': 5,\n",
       "         'ordain': 6,\n",
       "         'million': 84,\n",
       "         'gift': 4,\n",
       "         'expuls': 4,\n",
       "         'brodi': 1,\n",
       "         'physicist': 7,\n",
       "         'soennecken': 1,\n",
       "         'pennyfarth': 1,\n",
       "         'anoth': 38,\n",
       "         'spear': 1,\n",
       "         'puncher': 1,\n",
       "         'god': 16,\n",
       "         'oxid': 1,\n",
       "         'set': 89,\n",
       "         'pass': 74,\n",
       "         'strike': 101,\n",
       "         'anglican': 11,\n",
       "         'francisco': 54,\n",
       "         'deposit': 6,\n",
       "         'carri': 77,\n",
       "         'mass': 44,\n",
       "         'canyon': 9,\n",
       "         'tolton': 1,\n",
       "         'carolina': 31,\n",
       "         'yokohama': 8,\n",
       "         'martyr': 7,\n",
       "         'nagasaki': 5,\n",
       "         'suprem': 59,\n",
       "         'winter': 44,\n",
       "         'destruct': 30,\n",
       "         'karlsruh': 3,\n",
       "         'method': 6,\n",
       "         'apach': 3,\n",
       "         'journal': 15,\n",
       "         'bedford': 3,\n",
       "         'almost': 40,\n",
       "         'born': 28,\n",
       "         'african': 76,\n",
       "         'fake': 5,\n",
       "         'conserv': 39,\n",
       "         'ensu': 10,\n",
       "         'aitchison': 1,\n",
       "         'process': 16,\n",
       "         'victoria': 34,\n",
       "         'type': 15,\n",
       "         'rugbi': 16,\n",
       "         'other': 90,\n",
       "         'hole': 5,\n",
       "         'capabl': 5,\n",
       "         'sentiment': 2,\n",
       "         'verifi': 1,\n",
       "         'hurrican': 49,\n",
       "         'parliament': 74,\n",
       "         'kiel': 4,\n",
       "         'clara': 6,\n",
       "         'world': 130,\n",
       "         'mississippi': 24,\n",
       "         'auspic': 1,\n",
       "         'burma': 16,\n",
       "         'rider': 8,\n",
       "         'celebr': 60,\n",
       "         'ababa': 6,\n",
       "         'initi': 46,\n",
       "         'guinea': 25,\n",
       "         'bridg': 57,\n",
       "         'america': 73,\n",
       "         'unveil': 19,\n",
       "         'charleston': 5,\n",
       "         'eighthour': 4,\n",
       "         'mercal': 54,\n",
       "         'revu': 3,\n",
       "         'ewart': 3,\n",
       "         'conquest': 3,\n",
       "         'current': 19,\n",
       "         'intens': 61,\n",
       "         'royal': 77,\n",
       "         'court': 77,\n",
       "         'gasolinedriven': 1,\n",
       "         'men': 74,\n",
       "         'detain': 12,\n",
       "         'fight': 57,\n",
       "         'inexpens': 1,\n",
       "         'ruet': 1,\n",
       "         'establishedwher': 1,\n",
       "         'emili': 6,\n",
       "         'she': 50,\n",
       "         'dure': 114,\n",
       "         'priest': 15,\n",
       "         'what': 40,\n",
       "         'addi': 6,\n",
       "         'circumnavig': 14,\n",
       "         'refin': 1,\n",
       "         'later': 118,\n",
       "         'easter': 11,\n",
       "         'folsom': 1,\n",
       "         'bavaria': 4,\n",
       "         'format': 23,\n",
       "         'bergèr': 2,\n",
       "         'band': 35,\n",
       "         'heinrich': 12,\n",
       "         'cattl': 5,\n",
       "         'squar': 42,\n",
       "         'treati': 98,\n",
       "         'field': 45,\n",
       "         'southern': 72,\n",
       "         'corpor': 56,\n",
       "         'massiv': 43,\n",
       "         'coloni': 50,\n",
       "         'friedrich': 13,\n",
       "         'balkan': 8,\n",
       "         'tool': 4,\n",
       "         'memoir': 1,\n",
       "         'spontan': 5,\n",
       "         'indianola': 1,\n",
       "         'per': 22,\n",
       "         'princess': 34,\n",
       "         'holloway': 2,\n",
       "         'offici': 113,\n",
       "         'japan': 105,\n",
       "         'transcontinent': 4,\n",
       "         'zealand': 57,\n",
       "         'induct': 7,\n",
       "         'lo': 67,\n",
       "         'near': 107,\n",
       "         'result': 98,\n",
       "         'distil': 2,\n",
       "         'annex': 37,\n",
       "         'ludwig': 9,\n",
       "         'riot': 68,\n",
       "         'gladston': 3,\n",
       "         'soon': 24,\n",
       "         'colombo': 10,\n",
       "         'champion': 33,\n",
       "         'mostli': 33,\n",
       "         'week': 61,\n",
       "         'augustin': 4,\n",
       "         'strang': 7,\n",
       "         'unfinish': 1,\n",
       "         'portug': 42,\n",
       "         'bern': 8,\n",
       "         'turn': 34,\n",
       "         'skeleton': 8,\n",
       "         'parad': 20,\n",
       "         'paper': 22,\n",
       "         'protect': 40,\n",
       "         'earthquak': 92,\n",
       "         'show': 60,\n",
       "         'turbin': 1,\n",
       "         'ad': 9,\n",
       "         'odens': 1,\n",
       "         'allevi': 1,\n",
       "         'deutschtown': 1,\n",
       "         'stanford': 7,\n",
       "         'step': 18,\n",
       "         'millimetr': 3,\n",
       "         'intellectu': 8,\n",
       "         'jubile': 9,\n",
       "         'golden': 18,\n",
       "         'aau': 1,\n",
       "         'inc': 15,\n",
       "         'helen': 11,\n",
       "         'lohmann': 2,\n",
       "         'sherlock': 4,\n",
       "         'australian': 67,\n",
       "         'susanna': 1,\n",
       "         'featur': 38,\n",
       "         'children': 62,\n",
       "         'frenchgerman': 1,\n",
       "         'glasgow': 14,\n",
       "         'describ': 18,\n",
       "         'health': 27,\n",
       "         'beeton': 1,\n",
       "         'along': 44,\n",
       "         'glenfiddich': 1,\n",
       "         'island': 102,\n",
       "         'futabatei': 1,\n",
       "         'studi': 29,\n",
       "         'gelenken': 1,\n",
       "         'pittsburgh': 22,\n",
       "         'chariti': 7,\n",
       "         'englishlanguag': 4,\n",
       "         'osteochondr': 1,\n",
       "         'diseas': 15,\n",
       "         'greenwood': 2,\n",
       "         'danish': 14,\n",
       "         'bomb': 96,\n",
       "         'neighborhood': 9,\n",
       "         'feder': 90,\n",
       "         'mexico': 69,\n",
       "         'reign': 19,\n",
       "         'novel': 33,\n",
       "         'sunday': 26,\n",
       "         'enact': 34,\n",
       "         'teacher': 22,\n",
       "         'anacronópet': 1,\n",
       "         'alleg': 38,\n",
       "         'protest': 77,\n",
       "         'hibernian': 1,\n",
       "         'comptomet': 1,\n",
       "         'rais': 34,\n",
       "         'incit': 8,\n",
       "         'author': 65,\n",
       "         'brisban': 8,\n",
       "         'bowler': 6,\n",
       "         'freie': 2,\n",
       "         'charter': 31,\n",
       "         'walfrid': 1,\n",
       "         'natur': 27,\n",
       "         'respect': 19,\n",
       "         'held': 111,\n",
       "         'franz': 21,\n",
       "         'naval': 45,\n",
       "         'national': 3,\n",
       "         'base': 59,\n",
       "         'ground': 45,\n",
       "         'quantum': 3,\n",
       "         'hawaiian': 6,\n",
       "         'michelsonmorley': 1,\n",
       "         'cornerston': 7,\n",
       "         'mark': 75,\n",
       "         'schnaebel': 1,\n",
       "         'properti': 24,\n",
       "         'light': 34,\n",
       "         'mechan': 19,\n",
       "         'buffalo': 15,\n",
       "         'gallatin': 1,\n",
       "         'iron': 17,\n",
       "         'retail': 4,\n",
       "         'zululand': 3,\n",
       "         'record': 100,\n",
       "         'marin': 42,\n",
       "         'coimbra': 1,\n",
       "         'italian': 75,\n",
       "         'athlet': 28,\n",
       "         'nativ': 20,\n",
       "         'affair': 37,\n",
       "         'edward': 61,\n",
       "         'river': 75,\n",
       "         'den': 8,\n",
       "         'brother': 39,\n",
       "         'amateur': 5,\n",
       "         'coal': 38,\n",
       "         'académi': 2,\n",
       "         ...})"
      ]
     },
     "execution_count": 82,
     "metadata": {},
     "output_type": "execute_result"
    }
   ],
   "source": [
    "wiki_stem_cntr"
   ]
  },
  {
   "cell_type": "code",
   "execution_count": 83,
   "metadata": {},
   "outputs": [
    {
     "data": {
      "text/plain": [
       "Counter({1: 13512,\n",
       "         2: 3301,\n",
       "         3: 1503,\n",
       "         4: 900,\n",
       "         5: 630,\n",
       "         6: 421,\n",
       "         7: 378,\n",
       "         8: 354,\n",
       "         9: 238,\n",
       "         10: 197,\n",
       "         11: 175,\n",
       "         12: 169,\n",
       "         13: 132,\n",
       "         14: 123,\n",
       "         15: 128,\n",
       "         16: 94,\n",
       "         17: 87,\n",
       "         18: 71,\n",
       "         19: 75,\n",
       "         20: 67,\n",
       "         21: 57,\n",
       "         22: 65,\n",
       "         23: 48,\n",
       "         24: 53,\n",
       "         25: 51,\n",
       "         26: 50,\n",
       "         27: 60,\n",
       "         28: 43,\n",
       "         29: 31,\n",
       "         30: 34,\n",
       "         31: 38,\n",
       "         32: 40,\n",
       "         33: 41,\n",
       "         34: 34,\n",
       "         35: 26,\n",
       "         36: 19,\n",
       "         37: 17,\n",
       "         38: 28,\n",
       "         39: 23,\n",
       "         40: 27,\n",
       "         41: 19,\n",
       "         42: 18,\n",
       "         43: 22,\n",
       "         44: 21,\n",
       "         45: 18,\n",
       "         46: 17,\n",
       "         47: 20,\n",
       "         48: 12,\n",
       "         49: 14,\n",
       "         50: 11,\n",
       "         51: 16,\n",
       "         52: 11,\n",
       "         53: 9,\n",
       "         54: 16,\n",
       "         55: 11,\n",
       "         56: 9,\n",
       "         57: 13,\n",
       "         58: 12,\n",
       "         59: 13,\n",
       "         60: 19,\n",
       "         61: 15,\n",
       "         62: 10,\n",
       "         63: 5,\n",
       "         64: 12,\n",
       "         65: 9,\n",
       "         66: 9,\n",
       "         67: 14,\n",
       "         68: 12,\n",
       "         69: 10,\n",
       "         70: 5,\n",
       "         71: 6,\n",
       "         72: 9,\n",
       "         73: 12,\n",
       "         74: 11,\n",
       "         75: 10,\n",
       "         76: 10,\n",
       "         77: 14,\n",
       "         78: 9,\n",
       "         79: 6,\n",
       "         80: 7,\n",
       "         81: 5,\n",
       "         82: 2,\n",
       "         83: 9,\n",
       "         84: 7,\n",
       "         85: 6,\n",
       "         86: 3,\n",
       "         87: 8,\n",
       "         88: 8,\n",
       "         89: 8,\n",
       "         90: 5,\n",
       "         91: 2,\n",
       "         92: 7,\n",
       "         93: 4,\n",
       "         94: 2,\n",
       "         95: 3,\n",
       "         96: 5,\n",
       "         97: 7,\n",
       "         98: 7,\n",
       "         99: 2,\n",
       "         100: 6,\n",
       "         101: 6,\n",
       "         102: 8,\n",
       "         103: 2,\n",
       "         104: 1,\n",
       "         105: 1,\n",
       "         106: 2,\n",
       "         107: 2,\n",
       "         108: 3,\n",
       "         109: 2,\n",
       "         110: 4,\n",
       "         111: 5,\n",
       "         112: 3,\n",
       "         113: 3,\n",
       "         114: 2,\n",
       "         115: 3,\n",
       "         116: 2,\n",
       "         117: 2,\n",
       "         118: 3,\n",
       "         119: 4,\n",
       "         120: 2,\n",
       "         121: 1,\n",
       "         122: 2,\n",
       "         123: 3,\n",
       "         124: 6,\n",
       "         125: 1,\n",
       "         126: 2,\n",
       "         127: 3,\n",
       "         128: 2,\n",
       "         129: 1,\n",
       "         130: 1,\n",
       "         131: 2,\n",
       "         132: 3,\n",
       "         133: 19})"
      ]
     },
     "execution_count": 83,
     "metadata": {},
     "output_type": "execute_result"
    }
   ],
   "source": [
    "Counter([v for _, v in wiki_stem_cntr.items()])"
   ]
  },
  {
   "cell_type": "code",
   "execution_count": 85,
   "metadata": {},
   "outputs": [
    {
     "data": {
      "text/plain": [
       "['dalger',\n",
       " 'hadi',\n",
       " 'jafar',\n",
       " 'mansur',\n",
       " 'elbarajneh',\n",
       " 'kobanî',\n",
       " 'eurasian',\n",
       " 'newlyelect',\n",
       " 'rabbuh',\n",
       " 'mbar',\n",
       " 'baga',\n",
       " 'souss',\n",
       " 'nimrud',\n",
       " 'dursharrukin',\n",
       " 'ramadan',\n",
       " 'rubella',\n",
       " 'arabi',\n",
       " 'doigt',\n",
       " 'hebdo',\n",
       " 'pkk',\n",
       " 'erawan',\n",
       " 'harsher',\n",
       " 'ligo',\n",
       " 'hatra',\n",
       " 'rezgui',\n",
       " 'alhasana',\n",
       " 'jihadist',\n",
       " 'kolofata',\n",
       " 'syriain',\n",
       " 'suruç',\n",
       " 'sepp',\n",
       " 'blatter',\n",
       " 'pathum',\n",
       " 'kantaoui',\n",
       " 'wan',\n",
       " 'kogalymavia',\n",
       " 'germanw',\n",
       " 'seifeddin',\n",
       " 'bourj',\n",
       " 'statescit',\n",
       " 'naledi',\n",
       " 'ratchaprasong',\n",
       " 'garissa',\n",
       " 'assadiq',\n",
       " 'yingjeou',\n",
       " 'kyrgyzstancit',\n",
       " 'concur',\n",
       " 'fbile',\n",
       " 'mothertochild',\n",
       " 'houthi']"
      ]
     },
     "execution_count": 85,
     "metadata": {},
     "output_type": "execute_result"
    }
   ],
   "source": [
    "[stem for stem in year2eventStems[2015] if wiki_stem_cntr[stem] == 1]"
   ]
  },
  {
   "cell_type": "markdown",
   "metadata": {},
   "source": [
    "<hr style=\"height:5px;margin:auto;width:100%\"/>\n",
    "<hr style=\"height:5px;margin:auto;width:100%\"/>\n",
    "<hr style=\"height:5px;margin:auto;width:100%\"/>"
   ]
  },
  {
   "cell_type": "markdown",
   "metadata": {},
   "source": [
    "# Merge of IMDB data sources"
   ]
  },
  {
   "cell_type": "code",
   "execution_count": 86,
   "metadata": {
    "collapsed": true
   },
   "outputs": [],
   "source": [
    "movie_stats_df = imdb_title_basics_filtered_df.copy()"
   ]
  },
  {
   "cell_type": "code",
   "execution_count": 87,
   "metadata": {},
   "outputs": [
    {
     "data": {
      "text/plain": [
       "Index(['tconst', 'titleType', 'primaryTitle', 'isAdult', 'startYear',\n",
       "       'runtimeMinutes', 'genres', 'is_for_tv'],\n",
       "      dtype='object')"
      ]
     },
     "execution_count": 87,
     "metadata": {},
     "output_type": "execute_result"
    }
   ],
   "source": [
    "movie_stats_df.columns"
   ]
  },
  {
   "cell_type": "code",
   "execution_count": 88,
   "metadata": {
    "collapsed": true
   },
   "outputs": [],
   "source": [
    "movie_stats_df = movie_stats_df.merge(imdb_title_crew_cooked_df, how='inner', on='tconst')"
   ]
  },
  {
   "cell_type": "code",
   "execution_count": 89,
   "metadata": {},
   "outputs": [
    {
     "data": {
      "text/plain": [
       "Index(['tconst', 'titleType', 'primaryTitle', 'isAdult', 'startYear',\n",
       "       'runtimeMinutes', 'genres', 'is_for_tv', 'directors', 'writers'],\n",
       "      dtype='object')"
      ]
     },
     "execution_count": 89,
     "metadata": {},
     "output_type": "execute_result"
    }
   ],
   "source": [
    "movie_stats_df.columns"
   ]
  },
  {
   "cell_type": "code",
   "execution_count": 90,
   "metadata": {
    "collapsed": true
   },
   "outputs": [],
   "source": [
    "movie_stats_df = movie_stats_df.merge(imdb_title_principles_raw_df, how='inner', on='tconst')"
   ]
  },
  {
   "cell_type": "code",
   "execution_count": 91,
   "metadata": {},
   "outputs": [
    {
     "data": {
      "text/plain": [
       "Index(['tconst', 'titleType', 'primaryTitle', 'isAdult', 'startYear',\n",
       "       'runtimeMinutes', 'genres', 'is_for_tv', 'directors', 'writers',\n",
       "       'principalCast'],\n",
       "      dtype='object')"
      ]
     },
     "execution_count": 91,
     "metadata": {},
     "output_type": "execute_result"
    }
   ],
   "source": [
    "movie_stats_df.columns"
   ]
  },
  {
   "cell_type": "code",
   "execution_count": 92,
   "metadata": {
    "collapsed": true
   },
   "outputs": [],
   "source": [
    "movie_stats_df = movie_stats_df.merge(imdb_title_ratings_raw_df, how='inner', on='tconst')"
   ]
  },
  {
   "cell_type": "code",
   "execution_count": 93,
   "metadata": {
    "scrolled": true
   },
   "outputs": [
    {
     "data": {
      "text/plain": [
       "Index(['tconst', 'titleType', 'primaryTitle', 'isAdult', 'startYear',\n",
       "       'runtimeMinutes', 'genres', 'is_for_tv', 'directors', 'writers',\n",
       "       'principalCast', 'averageRating', 'numVotes'],\n",
       "      dtype='object')"
      ]
     },
     "execution_count": 93,
     "metadata": {},
     "output_type": "execute_result"
    }
   ],
   "source": [
    "movie_stats_df.columns"
   ]
  },
  {
   "cell_type": "markdown",
   "metadata": {},
   "source": [
    "<hr style=\"height:5px;margin:auto;width:100%\"/>\n",
    "<hr style=\"height:5px;margin:auto;width:100%\"/>\n",
    "<hr style=\"height:5px;margin:auto;width:100%\"/>"
   ]
  },
  {
   "cell_type": "markdown",
   "metadata": {},
   "source": [
    "# Part I: Create a simple linear model with a few numerical & categorical variables\n",
    "* Duration\n",
    "* Is for TV (already added, above)\n",
    "* Genre match"
   ]
  },
  {
   "cell_type": "code",
   "execution_count": 94,
   "metadata": {
    "collapsed": true
   },
   "outputs": [],
   "source": [
    "movie_model_1985_df = movie_stats_df.copy()"
   ]
  },
  {
   "cell_type": "code",
   "execution_count": 95,
   "metadata": {
    "collapsed": true
   },
   "outputs": [],
   "source": [
    "movie_model_1985_df.rename(columns=rename_column, inplace=True)"
   ]
  },
  {
   "cell_type": "code",
   "execution_count": 96,
   "metadata": {},
   "outputs": [
    {
     "data": {
      "text/plain": [
       "Index(['tconst', 'title_type', 'primary_title', 'is_adult', 'start_year',\n",
       "       'runtime_minutes', 'genres', 'is_for_tv', 'directors', 'writers',\n",
       "       'principal_cast', 'average_rating', 'num_votes'],\n",
       "      dtype='object')"
      ]
     },
     "execution_count": 96,
     "metadata": {},
     "output_type": "execute_result"
    }
   ],
   "source": [
    "movie_model_1985_df.columns"
   ]
  },
  {
   "cell_type": "code",
   "execution_count": 97,
   "metadata": {
    "collapsed": true
   },
   "outputs": [],
   "source": [
    "movie_model_1985_mask = (movie_model_1985_df['start_year'] == 1985)\n",
    "# & (movie_model_1985_df['original_language'] == 'en')"
   ]
  },
  {
   "cell_type": "code",
   "execution_count": 98,
   "metadata": {
    "collapsed": true
   },
   "outputs": [],
   "source": [
    "movie_model_1985_df = movie_model_1985_df[movie_model_1985_mask]"
   ]
  },
  {
   "cell_type": "markdown",
   "metadata": {},
   "source": [
    "<hr style=\"height:3px;margin:auto;width:10%\"/>\n",
    "<hr style=\"height:5px;margin:auto;width:25%\"/>\n",
    "<hr style=\"height:3px;margin:auto;width:10%\"/>"
   ]
  },
  {
   "cell_type": "code",
   "execution_count": 99,
   "metadata": {
    "collapsed": true
   },
   "outputs": [],
   "source": [
    "movie_model_80s_df = movie_stats_df.copy()"
   ]
  },
  {
   "cell_type": "code",
   "execution_count": 100,
   "metadata": {
    "collapsed": true
   },
   "outputs": [],
   "source": [
    "movie_model_80s_df.rename(columns=rename_column, inplace=True)"
   ]
  },
  {
   "cell_type": "code",
   "execution_count": 101,
   "metadata": {
    "collapsed": true
   },
   "outputs": [],
   "source": [
    "movie_model_80s_mask = ((movie_model_80s_df['start_year'] >= 1980)\n",
    "                       & (movie_model_80s_df['start_year'] <= 1990))\n",
    "# & (movie_model_80s_df['original_language'] == 'en')"
   ]
  },
  {
   "cell_type": "code",
   "execution_count": 102,
   "metadata": {
    "collapsed": true
   },
   "outputs": [],
   "source": [
    "movie_model_80s_df = movie_model_80s_df[movie_model_80s_mask]"
   ]
  },
  {
   "cell_type": "markdown",
   "metadata": {},
   "source": [
    "## Genre match"
   ]
  },
  {
   "cell_type": "code",
   "execution_count": 103,
   "metadata": {
    "collapsed": true
   },
   "outputs": [],
   "source": [
    "genres_1985 = set()\n",
    "for genres_csv in movie_model_1985_df['genres']:\n",
    "    genres_new = set(genres_csv.split(','))\n",
    "    genres_1985 = genres_1985.union(genres_new)\n",
    "genres_1985 = sorted(filter(lambda g: len(g) > 0, genres_1985))"
   ]
  },
  {
   "cell_type": "code",
   "execution_count": 108,
   "metadata": {},
   "outputs": [],
   "source": [
    "for genre in genres_1985:\n",
    "    key = 'is_genre_' + rename_column(genre)\n",
    "    if not key in movie_model_1985_df.columns:\n",
    "        movie_model_1985_df[key] = movie_model_1985_df['genres'].str.contains(genre)\n",
    "        movie_model_1985_df[key] = movie_model_1985_df[key].map(lambda x: 1 if x else 0).astype(int)"
   ]
  },
  {
   "cell_type": "code",
   "execution_count": 109,
   "metadata": {
    "scrolled": false
   },
   "outputs": [
    {
     "data": {
      "text/plain": [
       "Index(['tconst', 'title_type', 'primary_title', 'is_adult', 'start_year',\n",
       "       'runtime_minutes', 'genres', 'is_for_tv', 'directors', 'writers',\n",
       "       'principal_cast', 'average_rating', 'num_votes', 'is_genre__action',\n",
       "       'is_genre__adventure', 'is_genre__animation', 'is_genre__biography',\n",
       "       'is_genre__comedy', 'is_genre__crime', 'is_genre__documentary',\n",
       "       'is_genre__drama', 'is_genre__family', 'is_genre__fantasy',\n",
       "       'is_genre__history', 'is_genre__horror', 'is_genre__music',\n",
       "       'is_genre__musical', 'is_genre__mystery', 'is_genre__reality_tv',\n",
       "       'is_genre__romance', 'is_genre__sci_fi', 'is_genre__sport',\n",
       "       'is_genre__talk_show', 'is_genre__thriller', 'is_genre__war',\n",
       "       'is_genre__western'],\n",
       "      dtype='object')"
      ]
     },
     "execution_count": 109,
     "metadata": {},
     "output_type": "execute_result"
    }
   ],
   "source": [
    "movie_model_1985_df.columns"
   ]
  },
  {
   "cell_type": "code",
   "execution_count": 110,
   "metadata": {},
   "outputs": [
    {
     "data": {
      "text/plain": [
       "tconst                    object\n",
       "title_type                object\n",
       "primary_title             object\n",
       "is_adult                   int64\n",
       "start_year                 int64\n",
       "runtime_minutes            int64\n",
       "genres                    object\n",
       "is_for_tv                  int64\n",
       "directors                 object\n",
       "writers                   object\n",
       "principal_cast            object\n",
       "average_rating           float64\n",
       "num_votes                  int64\n",
       "is_genre__action           int64\n",
       "is_genre__adventure        int64\n",
       "is_genre__animation        int64\n",
       "is_genre__biography        int64\n",
       "is_genre__comedy           int64\n",
       "is_genre__crime            int64\n",
       "is_genre__documentary      int64\n",
       "is_genre__drama            int64\n",
       "is_genre__family           int64\n",
       "is_genre__fantasy          int64\n",
       "is_genre__history          int64\n",
       "is_genre__horror           int64\n",
       "is_genre__music            int64\n",
       "is_genre__musical          int64\n",
       "is_genre__mystery          int64\n",
       "is_genre__reality_tv       int64\n",
       "is_genre__romance          int64\n",
       "is_genre__sci_fi           int64\n",
       "is_genre__sport            int64\n",
       "is_genre__talk_show        int64\n",
       "is_genre__thriller         int64\n",
       "is_genre__war              int64\n",
       "is_genre__western          int64\n",
       "dtype: object"
      ]
     },
     "execution_count": 110,
     "metadata": {},
     "output_type": "execute_result"
    }
   ],
   "source": [
    "movie_model_1985_df.dtypes"
   ]
  },
  {
   "cell_type": "markdown",
   "metadata": {},
   "source": [
    "<hr style=\"height:3px;margin:auto;width:10%\"/>\n",
    "<hr style=\"height:5px;margin:auto;width:25%\"/>\n",
    "<hr style=\"height:3px;margin:auto;width:10%\"/>"
   ]
  },
  {
   "cell_type": "code",
   "execution_count": 111,
   "metadata": {
    "collapsed": true
   },
   "outputs": [],
   "source": [
    "genres_80s = set()\n",
    "for genres_csv in movie_model_80s_df['genres']:\n",
    "    genres_new = set(genres_csv.split(','))\n",
    "    genres_80s = genres_80s.union(genres_new)\n",
    "genres_80s = sorted(filter(lambda g: len(g) > 0, genres_80s))"
   ]
  },
  {
   "cell_type": "code",
   "execution_count": 117,
   "metadata": {},
   "outputs": [],
   "source": [
    "for genre in genres_80s:\n",
    "    key = 'is_genre_' + rename_column(genre)\n",
    "    if not key in movie_model_80s_df.columns:\n",
    "        movie_model_80s_df[key] = movie_model_80s_df['genres'].str.contains(genre)\n",
    "        movie_model_80s_df[key] = movie_model_80s_df[key].map(lambda x: 1 if x else 0).astype(int)"
   ]
  },
  {
   "cell_type": "code",
   "execution_count": 118,
   "metadata": {
    "scrolled": false
   },
   "outputs": [
    {
     "data": {
      "text/plain": [
       "Index(['tconst', 'title_type', 'primary_title', 'is_adult', 'start_year',\n",
       "       'runtime_minutes', 'genres', 'is_for_tv', 'directors', 'writers',\n",
       "       'principal_cast', 'average_rating', 'num_votes', 'is_genre__action',\n",
       "       'is_genre__adventure', 'is_genre__animation', 'is_genre__biography',\n",
       "       'is_genre__comedy', 'is_genre__crime', 'is_genre__documentary',\n",
       "       'is_genre__drama', 'is_genre__family', 'is_genre__fantasy',\n",
       "       'is_genre__history', 'is_genre__horror', 'is_genre__music',\n",
       "       'is_genre__musical', 'is_genre__mystery', 'is_genre__news',\n",
       "       'is_genre__reality_tv', 'is_genre__romance', 'is_genre__sci_fi',\n",
       "       'is_genre__sport', 'is_genre__talk_show', 'is_genre__thriller',\n",
       "       'is_genre__war', 'is_genre__western'],\n",
       "      dtype='object')"
      ]
     },
     "execution_count": 118,
     "metadata": {},
     "output_type": "execute_result"
    }
   ],
   "source": [
    "movie_model_80s_df.columns"
   ]
  },
  {
   "cell_type": "code",
   "execution_count": 119,
   "metadata": {},
   "outputs": [
    {
     "data": {
      "text/plain": [
       "tconst                    object\n",
       "title_type                object\n",
       "primary_title             object\n",
       "is_adult                   int64\n",
       "start_year                 int64\n",
       "runtime_minutes            int64\n",
       "genres                    object\n",
       "is_for_tv                  int64\n",
       "directors                 object\n",
       "writers                   object\n",
       "principal_cast            object\n",
       "average_rating           float64\n",
       "num_votes                  int64\n",
       "is_genre__action           int64\n",
       "is_genre__adventure        int64\n",
       "is_genre__animation        int64\n",
       "is_genre__biography        int64\n",
       "is_genre__comedy           int64\n",
       "is_genre__crime            int64\n",
       "is_genre__documentary      int64\n",
       "is_genre__drama            int64\n",
       "is_genre__family           int64\n",
       "is_genre__fantasy          int64\n",
       "is_genre__history          int64\n",
       "is_genre__horror           int64\n",
       "is_genre__music            int64\n",
       "is_genre__musical          int64\n",
       "is_genre__mystery          int64\n",
       "is_genre__news             int64\n",
       "is_genre__reality_tv       int64\n",
       "is_genre__romance          int64\n",
       "is_genre__sci_fi           int64\n",
       "is_genre__sport            int64\n",
       "is_genre__talk_show        int64\n",
       "is_genre__thriller         int64\n",
       "is_genre__war              int64\n",
       "is_genre__western          int64\n",
       "dtype: object"
      ]
     },
     "execution_count": 119,
     "metadata": {},
     "output_type": "execute_result"
    }
   ],
   "source": [
    "movie_model_80s_df.dtypes"
   ]
  },
  {
   "cell_type": "markdown",
   "metadata": {},
   "source": [
    "<hr style=\"height:3px;margin:auto;width:10%\"/>\n",
    "<hr style=\"height:5px;margin:auto;width:25%\"/>\n",
    "<hr style=\"height:3px;margin:auto;width:10%\"/>"
   ]
  },
  {
   "cell_type": "markdown",
   "metadata": {},
   "source": [
    "# Part I: Regression"
   ]
  },
  {
   "cell_type": "code",
   "execution_count": 203,
   "metadata": {},
   "outputs": [],
   "source": [
    "Xy_80s = movie_model_80s_df[['tconst',\n",
    "    'is_for_tv', 'start_year', 'runtime_minutes',\n",
    "    'is_genre__action', 'is_genre__adventure', 'is_genre__animation',\n",
    "    'is_genre__biography', 'is_genre__comedy', 'is_genre__crime',\n",
    "    'is_genre__documentary', 'is_genre__drama', 'is_genre__family',\n",
    "    'is_genre__fantasy', 'is_genre__history', 'is_genre__horror',\n",
    "    'is_genre__music', 'is_genre__musical', 'is_genre__mystery',\n",
    "    'is_genre__news', 'is_genre__reality_tv', 'is_genre__romance',\n",
    "    'is_genre__sci_fi', 'is_genre__sport', 'is_genre__talk_show',\n",
    "    'is_genre__thriller', 'is_genre__war', 'is_genre__western',\n",
    "    'average_rating']]\n",
    "# Xy_80s.set_index('tconst')"
   ]
  },
  {
   "cell_type": "code",
   "execution_count": 204,
   "metadata": {},
   "outputs": [
    {
     "data": {
      "text/plain": [
       "6.2183461504464015"
      ]
     },
     "execution_count": 204,
     "metadata": {},
     "output_type": "execute_result"
    }
   ],
   "source": [
    "Xy_80s['average_rating'].mean()"
   ]
  },
  {
   "cell_type": "code",
   "execution_count": 205,
   "metadata": {
    "scrolled": true
   },
   "outputs": [
    {
     "data": {
      "text/plain": [
       "5.987717785061234"
      ]
     },
     "execution_count": 205,
     "metadata": {},
     "output_type": "execute_result"
    }
   ],
   "source": [
    "Xy_80s[Xy_80s['is_genre__comedy'] == 1]['average_rating'].mean()"
   ]
  },
  {
   "cell_type": "code",
   "execution_count": 206,
   "metadata": {
    "scrolled": true
   },
   "outputs": [
    {
     "data": {
      "text/plain": [
       "7.28814123917389"
      ]
     },
     "execution_count": 206,
     "metadata": {},
     "output_type": "execute_result"
    }
   ],
   "source": [
    "Xy_80s[Xy_80s['is_genre__documentary'] == 1]['average_rating'].mean()"
   ]
  },
  {
   "cell_type": "code",
   "execution_count": 207,
   "metadata": {},
   "outputs": [
    {
     "data": {
      "text/plain": [
       "6.0"
      ]
     },
     "execution_count": 207,
     "metadata": {},
     "output_type": "execute_result"
    }
   ],
   "source": [
    "Xy_80s[Xy_80s['is_genre__reality_tv'] == 1]['average_rating'].mean()"
   ]
  },
  {
   "cell_type": "code",
   "execution_count": 208,
   "metadata": {},
   "outputs": [
    {
     "data": {
      "text/plain": [
       "5.400258397932816"
      ]
     },
     "execution_count": 208,
     "metadata": {},
     "output_type": "execute_result"
    }
   ],
   "source": [
    "Xy_80s[Xy_80s['is_genre__sci_fi'] == 1]['average_rating'].mean()"
   ]
  },
  {
   "cell_type": "code",
   "execution_count": 212,
   "metadata": {},
   "outputs": [
    {
     "data": {
      "text/html": [
       "<table class=\"simpletable\">\n",
       "<caption>OLS Regression Results</caption>\n",
       "<tr>\n",
       "  <th>Dep. Variable:</th>     <td>average_rating</td>  <th>  R-squared:         </th> <td>   0.966</td> \n",
       "</tr>\n",
       "<tr>\n",
       "  <th>Model:</th>                   <td>OLS</td>       <th>  Adj. R-squared:    </th> <td>   0.966</td> \n",
       "</tr>\n",
       "<tr>\n",
       "  <th>Method:</th>             <td>Least Squares</td>  <th>  F-statistic:       </th> <td>2.409e+04</td>\n",
       "</tr>\n",
       "<tr>\n",
       "  <th>Date:</th>             <td>Wed, 31 Jan 2018</td> <th>  Prob (F-statistic):</th>  <td>  0.00</td>  \n",
       "</tr>\n",
       "<tr>\n",
       "  <th>Time:</th>                 <td>13:45:56</td>     <th>  Log-Likelihood:    </th> <td> -35542.</td> \n",
       "</tr>\n",
       "<tr>\n",
       "  <th>No. Observations:</th>      <td> 22626</td>      <th>  AIC:               </th> <td>7.114e+04</td>\n",
       "</tr>\n",
       "<tr>\n",
       "  <th>Df Residuals:</th>          <td> 22599</td>      <th>  BIC:               </th> <td>7.135e+04</td>\n",
       "</tr>\n",
       "<tr>\n",
       "  <th>Df Model:</th>              <td>    27</td>      <th>                     </th>     <td> </td>    \n",
       "</tr>\n",
       "<tr>\n",
       "  <th>Covariance Type:</th>      <td>nonrobust</td>    <th>                     </th>     <td> </td>    \n",
       "</tr>\n",
       "</table>\n",
       "<table class=\"simpletable\">\n",
       "<tr>\n",
       "            <td></td>               <th>coef</th>     <th>std err</th>      <th>t</th>      <th>P>|t|</th>  <th>[0.025</th>    <th>0.975]</th>  \n",
       "</tr>\n",
       "<tr>\n",
       "  <th>is_for_tv</th>             <td>    0.5125</td> <td>    0.020</td> <td>   25.111</td> <td> 0.000</td> <td>    0.473</td> <td>    0.553</td>\n",
       "</tr>\n",
       "<tr>\n",
       "  <th>start_year</th>            <td>    0.0029</td> <td> 1.25e-05</td> <td>  231.232</td> <td> 0.000</td> <td>    0.003</td> <td>    0.003</td>\n",
       "</tr>\n",
       "<tr>\n",
       "  <th>runtime_minutes</th>       <td>    0.0025</td> <td>    0.000</td> <td>   14.195</td> <td> 0.000</td> <td>    0.002</td> <td>    0.003</td>\n",
       "</tr>\n",
       "<tr>\n",
       "  <th>is_genre__action</th>      <td>   -0.3647</td> <td>    0.025</td> <td>  -14.611</td> <td> 0.000</td> <td>   -0.414</td> <td>   -0.316</td>\n",
       "</tr>\n",
       "<tr>\n",
       "  <th>is_genre__adventure</th>   <td>   -0.1411</td> <td>    0.034</td> <td>   -4.172</td> <td> 0.000</td> <td>   -0.207</td> <td>   -0.075</td>\n",
       "</tr>\n",
       "<tr>\n",
       "  <th>is_genre__animation</th>   <td>    0.9121</td> <td>    0.052</td> <td>   17.391</td> <td> 0.000</td> <td>    0.809</td> <td>    1.015</td>\n",
       "</tr>\n",
       "<tr>\n",
       "  <th>is_genre__biography</th>   <td>    0.2241</td> <td>    0.050</td> <td>    4.503</td> <td> 0.000</td> <td>    0.127</td> <td>    0.322</td>\n",
       "</tr>\n",
       "<tr>\n",
       "  <th>is_genre__comedy</th>      <td>   -0.1138</td> <td>    0.020</td> <td>   -5.720</td> <td> 0.000</td> <td>   -0.153</td> <td>   -0.075</td>\n",
       "</tr>\n",
       "<tr>\n",
       "  <th>is_genre__crime</th>       <td>   -0.0587</td> <td>    0.028</td> <td>   -2.105</td> <td> 0.035</td> <td>   -0.113</td> <td>   -0.004</td>\n",
       "</tr>\n",
       "<tr>\n",
       "  <th>is_genre__documentary</th> <td>    1.0707</td> <td>    0.035</td> <td>   30.635</td> <td> 0.000</td> <td>    1.002</td> <td>    1.139</td>\n",
       "</tr>\n",
       "<tr>\n",
       "  <th>is_genre__drama</th>       <td>    0.3430</td> <td>    0.018</td> <td>   18.664</td> <td> 0.000</td> <td>    0.307</td> <td>    0.379</td>\n",
       "</tr>\n",
       "<tr>\n",
       "  <th>is_genre__family</th>      <td>    0.2389</td> <td>    0.038</td> <td>    6.345</td> <td> 0.000</td> <td>    0.165</td> <td>    0.313</td>\n",
       "</tr>\n",
       "<tr>\n",
       "  <th>is_genre__fantasy</th>     <td>    0.0582</td> <td>    0.041</td> <td>    1.412</td> <td> 0.158</td> <td>   -0.023</td> <td>    0.139</td>\n",
       "</tr>\n",
       "<tr>\n",
       "  <th>is_genre__history</th>     <td>    0.3914</td> <td>    0.053</td> <td>    7.318</td> <td> 0.000</td> <td>    0.287</td> <td>    0.496</td>\n",
       "</tr>\n",
       "<tr>\n",
       "  <th>is_genre__horror</th>      <td>   -0.7267</td> <td>    0.033</td> <td>  -22.109</td> <td> 0.000</td> <td>   -0.791</td> <td>   -0.662</td>\n",
       "</tr>\n",
       "<tr>\n",
       "  <th>is_genre__music</th>       <td>    0.5554</td> <td>    0.046</td> <td>   12.183</td> <td> 0.000</td> <td>    0.466</td> <td>    0.645</td>\n",
       "</tr>\n",
       "<tr>\n",
       "  <th>is_genre__musical</th>     <td>   -0.3897</td> <td>    0.069</td> <td>   -5.610</td> <td> 0.000</td> <td>   -0.526</td> <td>   -0.254</td>\n",
       "</tr>\n",
       "<tr>\n",
       "  <th>is_genre__mystery</th>     <td>    0.1279</td> <td>    0.047</td> <td>    2.729</td> <td> 0.006</td> <td>    0.036</td> <td>    0.220</td>\n",
       "</tr>\n",
       "<tr>\n",
       "  <th>is_genre__news</th>        <td>    0.2438</td> <td>    1.165</td> <td>    0.209</td> <td> 0.834</td> <td>   -2.040</td> <td>    2.528</td>\n",
       "</tr>\n",
       "<tr>\n",
       "  <th>is_genre__reality_tv</th>  <td>   -1.1150</td> <td>    1.166</td> <td>   -0.956</td> <td> 0.339</td> <td>   -3.400</td> <td>    1.170</td>\n",
       "</tr>\n",
       "<tr>\n",
       "  <th>is_genre__romance</th>     <td>   -0.0037</td> <td>    0.029</td> <td>   -0.129</td> <td> 0.898</td> <td>   -0.060</td> <td>    0.052</td>\n",
       "</tr>\n",
       "<tr>\n",
       "  <th>is_genre__sci_fi</th>      <td>   -0.4427</td> <td>    0.044</td> <td>  -10.173</td> <td> 0.000</td> <td>   -0.528</td> <td>   -0.357</td>\n",
       "</tr>\n",
       "<tr>\n",
       "  <th>is_genre__sport</th>       <td>   -0.2002</td> <td>    0.082</td> <td>   -2.432</td> <td> 0.015</td> <td>   -0.362</td> <td>   -0.039</td>\n",
       "</tr>\n",
       "<tr>\n",
       "  <th>is_genre__talk_show</th>   <td>    1.0229</td> <td>    0.441</td> <td>    2.321</td> <td> 0.020</td> <td>    0.159</td> <td>    1.887</td>\n",
       "</tr>\n",
       "<tr>\n",
       "  <th>is_genre__thriller</th>    <td>   -0.2372</td> <td>    0.031</td> <td>   -7.566</td> <td> 0.000</td> <td>   -0.299</td> <td>   -0.176</td>\n",
       "</tr>\n",
       "<tr>\n",
       "  <th>is_genre__war</th>         <td>    0.0759</td> <td>    0.049</td> <td>    1.537</td> <td> 0.124</td> <td>   -0.021</td> <td>    0.173</td>\n",
       "</tr>\n",
       "<tr>\n",
       "  <th>is_genre__western</th>     <td>   -0.1672</td> <td>    0.106</td> <td>   -1.581</td> <td> 0.114</td> <td>   -0.374</td> <td>    0.040</td>\n",
       "</tr>\n",
       "</table>\n",
       "<table class=\"simpletable\">\n",
       "<tr>\n",
       "  <th>Omnibus:</th>       <td>1679.758</td> <th>  Durbin-Watson:     </th> <td>   1.915</td>\n",
       "</tr>\n",
       "<tr>\n",
       "  <th>Prob(Omnibus):</th>  <td> 0.000</td>  <th>  Jarque-Bera (JB):  </th> <td>2690.774</td>\n",
       "</tr>\n",
       "<tr>\n",
       "  <th>Skew:</th>           <td>-0.580</td>  <th>  Prob(JB):          </th> <td>    0.00</td>\n",
       "</tr>\n",
       "<tr>\n",
       "  <th>Kurtosis:</th>       <td> 4.227</td>  <th>  Cond. No.          </th> <td>2.99e+05</td>\n",
       "</tr>\n",
       "</table>"
      ],
      "text/plain": [
       "<class 'statsmodels.iolib.summary.Summary'>\n",
       "\"\"\"\n",
       "                            OLS Regression Results                            \n",
       "==============================================================================\n",
       "Dep. Variable:         average_rating   R-squared:                       0.966\n",
       "Model:                            OLS   Adj. R-squared:                  0.966\n",
       "Method:                 Least Squares   F-statistic:                 2.409e+04\n",
       "Date:                Wed, 31 Jan 2018   Prob (F-statistic):               0.00\n",
       "Time:                        13:45:56   Log-Likelihood:                -35542.\n",
       "No. Observations:               22626   AIC:                         7.114e+04\n",
       "Df Residuals:                   22599   BIC:                         7.135e+04\n",
       "Df Model:                          27                                         \n",
       "Covariance Type:            nonrobust                                         \n",
       "=========================================================================================\n",
       "                            coef    std err          t      P>|t|      [0.025      0.975]\n",
       "-----------------------------------------------------------------------------------------\n",
       "is_for_tv                 0.5125      0.020     25.111      0.000       0.473       0.553\n",
       "start_year                0.0029   1.25e-05    231.232      0.000       0.003       0.003\n",
       "runtime_minutes           0.0025      0.000     14.195      0.000       0.002       0.003\n",
       "is_genre__action         -0.3647      0.025    -14.611      0.000      -0.414      -0.316\n",
       "is_genre__adventure      -0.1411      0.034     -4.172      0.000      -0.207      -0.075\n",
       "is_genre__animation       0.9121      0.052     17.391      0.000       0.809       1.015\n",
       "is_genre__biography       0.2241      0.050      4.503      0.000       0.127       0.322\n",
       "is_genre__comedy         -0.1138      0.020     -5.720      0.000      -0.153      -0.075\n",
       "is_genre__crime          -0.0587      0.028     -2.105      0.035      -0.113      -0.004\n",
       "is_genre__documentary     1.0707      0.035     30.635      0.000       1.002       1.139\n",
       "is_genre__drama           0.3430      0.018     18.664      0.000       0.307       0.379\n",
       "is_genre__family          0.2389      0.038      6.345      0.000       0.165       0.313\n",
       "is_genre__fantasy         0.0582      0.041      1.412      0.158      -0.023       0.139\n",
       "is_genre__history         0.3914      0.053      7.318      0.000       0.287       0.496\n",
       "is_genre__horror         -0.7267      0.033    -22.109      0.000      -0.791      -0.662\n",
       "is_genre__music           0.5554      0.046     12.183      0.000       0.466       0.645\n",
       "is_genre__musical        -0.3897      0.069     -5.610      0.000      -0.526      -0.254\n",
       "is_genre__mystery         0.1279      0.047      2.729      0.006       0.036       0.220\n",
       "is_genre__news            0.2438      1.165      0.209      0.834      -2.040       2.528\n",
       "is_genre__reality_tv     -1.1150      1.166     -0.956      0.339      -3.400       1.170\n",
       "is_genre__romance        -0.0037      0.029     -0.129      0.898      -0.060       0.052\n",
       "is_genre__sci_fi         -0.4427      0.044    -10.173      0.000      -0.528      -0.357\n",
       "is_genre__sport          -0.2002      0.082     -2.432      0.015      -0.362      -0.039\n",
       "is_genre__talk_show       1.0229      0.441      2.321      0.020       0.159       1.887\n",
       "is_genre__thriller       -0.2372      0.031     -7.566      0.000      -0.299      -0.176\n",
       "is_genre__war             0.0759      0.049      1.537      0.124      -0.021       0.173\n",
       "is_genre__western        -0.1672      0.106     -1.581      0.114      -0.374       0.040\n",
       "==============================================================================\n",
       "Omnibus:                     1679.758   Durbin-Watson:                   1.915\n",
       "Prob(Omnibus):                  0.000   Jarque-Bera (JB):             2690.774\n",
       "Skew:                          -0.580   Prob(JB):                         0.00\n",
       "Kurtosis:                       4.227   Cond. No.                     2.99e+05\n",
       "==============================================================================\n",
       "\n",
       "Warnings:\n",
       "[1] Standard Errors assume that the covariance matrix of the errors is correctly specified.\n",
       "[2] The condition number is large, 2.99e+05. This might indicate that there are\n",
       "strong multicollinearity or other numerical problems.\n",
       "\"\"\""
      ]
     },
     "execution_count": 212,
     "metadata": {},
     "output_type": "execute_result"
    }
   ],
   "source": [
    "X_80s = Xy_80s.iloc[:,1:-1]\n",
    "y_80s = Xy_80s.iloc[:,-1:]\n",
    "movie_model_80s_model = sm.OLS(y_80s, X_80s)\n",
    "movie_model_80s_fit = model.fit()\n",
    "movie_model_80s_fit.summary()"
   ]
  },
  {
   "cell_type": "code",
   "execution_count": 213,
   "metadata": {
    "scrolled": true
   },
   "outputs": [
    {
     "name": "stderr",
     "output_type": "stream",
     "text": [
      "/Applications/anaconda3/lib/python3.6/site-packages/sklearn/metrics/scorer.py:100: DeprecationWarning: Scoring method mean_squared_error was renamed to neg_mean_squared_error in version 0.18 and will be removed in 0.20.\n",
      "  sample_weight=sample_weight)\n",
      "/Applications/anaconda3/lib/python3.6/site-packages/sklearn/metrics/scorer.py:100: DeprecationWarning: Scoring method mean_squared_error was renamed to neg_mean_squared_error in version 0.18 and will be removed in 0.20.\n",
      "  sample_weight=sample_weight)\n",
      "/Applications/anaconda3/lib/python3.6/site-packages/sklearn/metrics/scorer.py:100: DeprecationWarning: Scoring method mean_squared_error was renamed to neg_mean_squared_error in version 0.18 and will be removed in 0.20.\n",
      "  sample_weight=sample_weight)\n",
      "/Applications/anaconda3/lib/python3.6/site-packages/sklearn/metrics/scorer.py:100: DeprecationWarning: Scoring method mean_squared_error was renamed to neg_mean_squared_error in version 0.18 and will be removed in 0.20.\n",
      "  sample_weight=sample_weight)\n",
      "/Applications/anaconda3/lib/python3.6/site-packages/sklearn/metrics/scorer.py:100: DeprecationWarning: Scoring method mean_squared_error was renamed to neg_mean_squared_error in version 0.18 and will be removed in 0.20.\n",
      "  sample_weight=sample_weight)\n",
      "/Applications/anaconda3/lib/python3.6/site-packages/sklearn/metrics/scorer.py:100: DeprecationWarning: Scoring method mean_squared_error was renamed to neg_mean_squared_error in version 0.18 and will be removed in 0.20.\n",
      "  sample_weight=sample_weight)\n",
      "/Applications/anaconda3/lib/python3.6/site-packages/sklearn/metrics/scorer.py:100: DeprecationWarning: Scoring method mean_squared_error was renamed to neg_mean_squared_error in version 0.18 and will be removed in 0.20.\n",
      "  sample_weight=sample_weight)\n",
      "/Applications/anaconda3/lib/python3.6/site-packages/sklearn/metrics/scorer.py:100: DeprecationWarning: Scoring method mean_squared_error was renamed to neg_mean_squared_error in version 0.18 and will be removed in 0.20.\n",
      "  sample_weight=sample_weight)\n",
      "/Applications/anaconda3/lib/python3.6/site-packages/sklearn/metrics/scorer.py:100: DeprecationWarning: Scoring method mean_squared_error was renamed to neg_mean_squared_error in version 0.18 and will be removed in 0.20.\n",
      "  sample_weight=sample_weight)\n",
      "/Applications/anaconda3/lib/python3.6/site-packages/sklearn/metrics/scorer.py:100: DeprecationWarning: Scoring method mean_squared_error was renamed to neg_mean_squared_error in version 0.18 and will be removed in 0.20.\n",
      "  sample_weight=sample_weight)\n"
     ]
    }
   ],
   "source": [
    "linreg_80s = LinearRegression()\n",
    "scores_80s = cross_val_score(linreg_80s, X_80s, y_80s, cv=10, scoring='mean_squared_error')"
   ]
  },
  {
   "cell_type": "code",
   "execution_count": 214,
   "metadata": {
    "scrolled": true
   },
   "outputs": [
    {
     "data": {
      "text/plain": [
       "array([1.1645877 , 1.17299747, 1.18051708, 1.17950953, 1.14861711,\n",
       "       1.19835234, 1.3963794 , 1.50152538, 2.26354004, 1.82836656])"
      ]
     },
     "execution_count": 214,
     "metadata": {},
     "output_type": "execute_result"
    }
   ],
   "source": [
    "-scores_80s"
   ]
  },
  {
   "cell_type": "markdown",
   "metadata": {},
   "source": [
    "<hr style=\"height:3px;margin:auto;width:10%\"/>\n",
    "<hr style=\"height:5px;margin:auto;width:25%\"/>\n",
    "<hr style=\"height:3px;margin:auto;width:10%\"/>"
   ]
  },
  {
   "cell_type": "code",
   "execution_count": 228,
   "metadata": {},
   "outputs": [],
   "source": [
    "r2_by_year = {}\n",
    "for year in range(1980, 1991):\n",
    "    Xy_rows_this_year = Xy_80s[Xy_80s['start_year'] == year]\n",
    "    X_this_year = Xy_rows_this_year.iloc[:,1:-1]  # Remove col0 (movie ID) & last col (y)\n",
    "    y_this_year = Xy_rows_this_year.iloc[:,-1:]  # Last col\n",
    "    y_hat = movie_model_80s_fit.predict(X_this_year)\n",
    "    r2 = r2_score(y_this_year, y_hat)\n",
    "    r2_by_year[year] = r2"
   ]
  },
  {
   "cell_type": "code",
   "execution_count": 229,
   "metadata": {
    "scrolled": true
   },
   "outputs": [
    {
     "data": {
      "text/plain": [
       "{1980: 0.18583193560069355,\n",
       " 1981: 0.15023520419274805,\n",
       " 1982: 0.19942976138834578,\n",
       " 1983: 0.18629606987591996,\n",
       " 1984: 0.17261807677803864,\n",
       " 1985: 0.189948102092105,\n",
       " 1986: 0.19826007186947148,\n",
       " 1987: 0.17071899255418077,\n",
       " 1988: 0.21817717930268166,\n",
       " 1989: 0.23265410960625965,\n",
       " 1990: 0.22230304919549715}"
      ]
     },
     "execution_count": 229,
     "metadata": {},
     "output_type": "execute_result"
    }
   ],
   "source": [
    "r2_by_year"
   ]
  },
  {
   "cell_type": "code",
   "execution_count": 230,
   "metadata": {
    "scrolled": true
   },
   "outputs": [
    {
     "data": {
      "text/plain": [
       "dict_keys([1980, 1981, 1982, 1983, 1984, 1985, 1986, 1987, 1988, 1989, 1990])"
      ]
     },
     "execution_count": 230,
     "metadata": {},
     "output_type": "execute_result"
    }
   ],
   "source": [
    "r2_by_year.keys()"
   ]
  },
  {
   "cell_type": "code",
   "execution_count": 240,
   "metadata": {
    "scrolled": true
   },
   "outputs": [
    {
     "data": {
      "text/plain": [
       "{1980: 0.18583193560069355,\n",
       " 1981: 0.15023520419274805,\n",
       " 1982: 0.19942976138834578,\n",
       " 1983: 0.18629606987591996,\n",
       " 1984: 0.17261807677803864,\n",
       " 1985: 0.189948102092105,\n",
       " 1986: 0.19826007186947148,\n",
       " 1987: 0.17071899255418077,\n",
       " 1988: 0.21817717930268166,\n",
       " 1989: 0.23265410960625965,\n",
       " 1990: 0.22230304919549715}"
      ]
     },
     "execution_count": 240,
     "metadata": {},
     "output_type": "execute_result"
    }
   ],
   "source": [
    "r2_by_year"
   ]
  },
  {
   "cell_type": "code",
   "execution_count": 258,
   "metadata": {},
   "outputs": [
    {
     "data": {
      "image/png": "[encoded data removed]",
      "text/plain": [
       "<matplotlib.figure.Figure at 0x1c2d124d68>"
      ]
     },
     "metadata": {},
     "output_type": "display_data"
    }
   ],
   "source": [
    "import matplotlib.ticker as mticker\n",
    "\n",
    "fig, ax = plt.subplots()\n",
    "ax.bar(r2_by_year.keys(), r2_by_year.values(), color='b')  # xticks=r2_by_year.keys()\n",
    "myLocator = mticker.MultipleLocator(1)\n",
    "ax.xaxis.set_major_locator(myLocator)\n",
    "\n",
    "plt.title('$R^2$ by year of sample data')\n",
    "plt.ylabel('$R^2$');"
   ]
  },
  {
   "cell_type": "markdown",
   "metadata": {},
   "source": [
    "<hr style=\"height:5px;margin:auto;width:100%\"/>\n",
    "<hr style=\"height:5px;margin:auto;width:100%\"/>\n",
    "<hr style=\"height:5px;margin:auto;width:100%\"/>"
   ]
  },
  {
   "cell_type": "markdown",
   "metadata": {},
   "source": [
    "# Part II: Add categorical features for which people are involved\n",
    "* Principals match\n",
    "* Directors match\n",
    "* Writers match"
   ]
  },
  {
   "cell_type": "markdown",
   "metadata": {},
   "source": [
    "## Principals match"
   ]
  },
  {
   "cell_type": "code",
   "execution_count": null,
   "metadata": {
    "collapsed": true
   },
   "outputs": [],
   "source": [
    "principals_80s = set()\n",
    "for principals_csv in movie_model_80s_df['principalCast']:\n",
    "    principals_new = set(principals_csv.split(','))\n",
    "    principals_80s = principals_80s.union(principals_new)\n",
    "principals = sorted(filter(lambda p: len(p) > 0, principals_80s))"
   ]
  },
  {
   "cell_type": "code",
   "execution_count": null,
   "metadata": {
    "collapsed": true
   },
   "outputs": [],
   "source": [
    "for principal in principals_80s:\n",
    "    key = 'is_principal__' + principal\n",
    "    if not key in movie_model_80s_df.columns:\n",
    "        movie_model_80s_df[key] = movie_model_80s_df['principal_cast'].str.contains(principal)"
   ]
  },
  {
   "cell_type": "markdown",
   "metadata": {},
   "source": [
    "## Directors match"
   ]
  },
  {
   "cell_type": "code",
   "execution_count": null,
   "metadata": {
    "collapsed": true
   },
   "outputs": [],
   "source": [
    "directors_80s = set()\n",
    "for directors_csv in movie_model_80s_df['directors']:\n",
    "    directors_new = set(directors_csv.split(','))\n",
    "    directors_80s = directors_80s.union(directors_new)\n",
    "directors_80s = sorted(filter(lambda d: len(d) > 0, directors_80s))"
   ]
  },
  {
   "cell_type": "code",
   "execution_count": null,
   "metadata": {
    "collapsed": true
   },
   "outputs": [],
   "source": [
    "len(directors_80s)"
   ]
  },
  {
   "cell_type": "code",
   "execution_count": null,
   "metadata": {
    "collapsed": true
   },
   "outputs": [],
   "source": [
    "director2titleCount = defaultdict(int)\n",
    "for k, row in movie_model_80s_df.iterrows():\n",
    "    directors = row['directors'].split(',')\n",
    "    for director in directors:\n",
    "        director2titleCount[director] += 1"
   ]
  },
  {
   "cell_type": "code",
   "execution_count": null,
   "metadata": {
    "collapsed": true
   },
   "outputs": [],
   "source": [
    "director2titleCount"
   ]
  },
  {
   "cell_type": "code",
   "execution_count": null,
   "metadata": {
    "collapsed": true
   },
   "outputs": [],
   "source": [
    "for director in directors_80s:\n",
    "    key = 'has_director__' + director\n",
    "    if not key in movie_model_df.columns:\n",
    "        def contains_director(ds):\n",
    "            return director in ds\n",
    "        movie_model_80s_df[key] = movie_model_80s_df['directors'].apply(contains_director)"
   ]
  },
  {
   "cell_type": "markdown",
   "metadata": {},
   "source": [
    "## Writers match"
   ]
  },
  {
   "cell_type": "code",
   "execution_count": null,
   "metadata": {
    "collapsed": true
   },
   "outputs": [],
   "source": [
    "writers_80s = set()\n",
    "for writers_csv in movie_model_80s_df['writers']:\n",
    "    writers_new = set(writers_csv.split(','))\n",
    "    writers_80s = writers_80s.union(writers_new)\n",
    "writers_80s = sorted(filter(lambda w: len(w) > 0, writers_80s))"
   ]
  },
  {
   "cell_type": "code",
   "execution_count": null,
   "metadata": {
    "collapsed": true
   },
   "outputs": [],
   "source": [
    "len(writers_80s)"
   ]
  },
  {
   "cell_type": "code",
   "execution_count": null,
   "metadata": {
    "collapsed": true
   },
   "outputs": [],
   "source": [
    "writer2titleCount = defaultdict(int)\n",
    "for k, row in movie_model_80s_df.iterrows():\n",
    "    writers = row['writers'].split(',')\n",
    "    for writer in writers:\n",
    "        writer2titleCount[writer] += 1"
   ]
  },
  {
   "cell_type": "code",
   "execution_count": null,
   "metadata": {
    "collapsed": true
   },
   "outputs": [],
   "source": [
    "writer2titleCount"
   ]
  },
  {
   "cell_type": "code",
   "execution_count": null,
   "metadata": {
    "collapsed": true
   },
   "outputs": [],
   "source": [
    "for writer in writers_80s:\n",
    "    key = 'has_writer__' + writer\n",
    "    if not key in movie_model_df.columns:\n",
    "        def contains_writer(ws):\n",
    "            return writer in ws\n",
    "        movie_model_80s_df[key] = movie_model_80s_df['writers'].apply(contains_writer)"
   ]
  },
  {
   "cell_type": "markdown",
   "metadata": {},
   "source": [
    "<hr style=\"height:5px;margin:auto;width:100%\"/>\n",
    "<hr style=\"height:5px;margin:auto;width:100%\"/>\n",
    "<hr style=\"height:5px;margin:auto;width:100%\"/>"
   ]
  },
  {
   "cell_type": "markdown",
   "metadata": {},
   "source": [
    "# Part III: Merge in text stems from TMDB and Wikipedia"
   ]
  },
  {
   "cell_type": "markdown",
   "metadata": {},
   "source": [
    "# Part III: Merge in TMDB data sources"
   ]
  },
  {
   "cell_type": "code",
   "execution_count": null,
   "metadata": {
    "collapsed": true
   },
   "outputs": [],
   "source": [
    "TMDB_MOVIE_IDS_PATH = TMDB_DIR + 'movie_ids_' + TMDB_DATE + '.json'\n",
    "\n",
    "TMDB_DETAILS_PATH = SRC_DIR + 'details.json'\n",
    "TMDB_DETAIL_ERRORS_PATH = SRC_DIR + 'detail_errors.log'\n",
    "TMDB_KEYWORDS_PATH = SRC_DIR + 'keywords.json'\n",
    "TMDB_KEYWORD_ERRORS_PATH = SRC_DIR + 'keyword_errors.log'"
   ]
  },
  {
   "cell_type": "markdown",
   "metadata": {},
   "source": [
    "<hr style=\"height:3px;margin:auto;width:75%\"/>"
   ]
  },
  {
   "cell_type": "code",
   "execution_count": null,
   "metadata": {
    "collapsed": true
   },
   "outputs": [],
   "source": [
    "tmdb_movies_raw_df = pd.read_json(TMDB_MOVIE_IDS_PATH, lines=True)"
   ]
  },
  {
   "cell_type": "code",
   "execution_count": null,
   "metadata": {
    "collapsed": true
   },
   "outputs": [],
   "source": [
    "tmdb_movies_raw_df.shape"
   ]
  },
  {
   "cell_type": "code",
   "execution_count": null,
   "metadata": {
    "collapsed": true
   },
   "outputs": [],
   "source": [
    "tmdb_movies_raw_df.dtypes"
   ]
  },
  {
   "cell_type": "code",
   "execution_count": null,
   "metadata": {
    "collapsed": true
   },
   "outputs": [],
   "source": [
    "tmdb_movies_raw_df.sample(5)"
   ]
  },
  {
   "cell_type": "markdown",
   "metadata": {},
   "source": [
    "<hr style=\"height:3px;margin:auto;width:75%\"/>"
   ]
  },
  {
   "cell_type": "code",
   "execution_count": null,
   "metadata": {
    "collapsed": true
   },
   "outputs": [],
   "source": [
    "tmdb_details_raw_df = pd.read_json(TMDB_DETAILS_PATH, lines=True)"
   ]
  },
  {
   "cell_type": "code",
   "execution_count": null,
   "metadata": {
    "collapsed": true,
    "scrolled": true
   },
   "outputs": [],
   "source": [
    "tmdb_details_raw_df.shape"
   ]
  },
  {
   "cell_type": "code",
   "execution_count": null,
   "metadata": {
    "collapsed": true
   },
   "outputs": [],
   "source": [
    "tmdb_details_raw_df[tmdb_details_raw_df['original_language'] == 'en'].shape[0]"
   ]
  },
  {
   "cell_type": "code",
   "execution_count": null,
   "metadata": {
    "collapsed": true,
    "scrolled": true
   },
   "outputs": [],
   "source": [
    "tmdb_details_raw_df.dtypes"
   ]
  },
  {
   "cell_type": "code",
   "execution_count": null,
   "metadata": {
    "collapsed": true
   },
   "outputs": [],
   "source": [
    "# This movie does not have a value for the imdb_id FK.\n",
    "tmdb_details_raw_df[tmdb_details_raw_df['id'] == 252672]"
   ]
  },
  {
   "cell_type": "code",
   "execution_count": null,
   "metadata": {
    "collapsed": true
   },
   "outputs": [],
   "source": [
    "tmdb_details_raw_df.sample(5)"
   ]
  },
  {
   "cell_type": "code",
   "execution_count": null,
   "metadata": {
    "collapsed": true,
    "scrolled": false
   },
   "outputs": [],
   "source": [
    "tmdb_details_raw_df['overview'].sample(5)"
   ]
  },
  {
   "cell_type": "markdown",
   "metadata": {},
   "source": [
    "<hr style=\"height:3px;margin:auto;width:10%\"/>\n",
    "<hr style=\"height:5px;margin:auto;width:25%\"/>\n",
    "<hr style=\"height:3px;margin:auto;width:10%\"/>"
   ]
  },
  {
   "cell_type": "code",
   "execution_count": null,
   "metadata": {
    "collapsed": true
   },
   "outputs": [],
   "source": [
    "# tmdb_details_filtered_df = tmdb_details_raw_df[31091:31092].copy()\n",
    "tmdb_details_filtered_df = tmdb_details_raw_df[['id', 'imdb_id', 'original_language', 'overview']].copy()"
   ]
  },
  {
   "cell_type": "code",
   "execution_count": null,
   "metadata": {
    "collapsed": true
   },
   "outputs": [],
   "source": [
    "tmdb_details_filtered_df['imdb_id'] = tmdb_details_filtered_df['imdb_id'].fillna('None')\n",
    "tmdb_details_mask = (\n",
    "    (~ (tmdb_details_filtered_df['imdb_id'] == ''))\n",
    "    & (~ (tmdb_details_filtered_df['imdb_id'].str.contains('None')))\n",
    ")\n",
    "tmdb_details_filtered_df = tmdb_details_filtered_df[tmdb_details_mask]"
   ]
  },
  {
   "cell_type": "code",
   "execution_count": null,
   "metadata": {
    "collapsed": true,
    "scrolled": true
   },
   "outputs": [],
   "source": [
    "tmdb_details_filtered_df.shape[0]"
   ]
  },
  {
   "cell_type": "code",
   "execution_count": null,
   "metadata": {
    "collapsed": true
   },
   "outputs": [],
   "source": [
    "tmdb_details_filtered_df.dtypes"
   ]
  },
  {
   "cell_type": "code",
   "execution_count": null,
   "metadata": {
    "collapsed": true,
    "scrolled": true
   },
   "outputs": [],
   "source": [
    "tmdb_details_filtered_df.sample(5)"
   ]
  },
  {
   "cell_type": "markdown",
   "metadata": {},
   "source": [
    "<hr style=\"height:3px;margin:auto;width:75%\"/>"
   ]
  },
  {
   "cell_type": "code",
   "execution_count": null,
   "metadata": {
    "collapsed": true
   },
   "outputs": [],
   "source": [
    "tmdb_keywords_raw_df = pd.read_json(TMDB_KEYWORDS_PATH, lines=True)"
   ]
  },
  {
   "cell_type": "code",
   "execution_count": null,
   "metadata": {
    "collapsed": true
   },
   "outputs": [],
   "source": [
    "tmdb_keywords_raw_df.shape"
   ]
  },
  {
   "cell_type": "code",
   "execution_count": null,
   "metadata": {
    "collapsed": true
   },
   "outputs": [],
   "source": [
    "tmdb_keywords_raw_df.dtypes"
   ]
  },
  {
   "cell_type": "code",
   "execution_count": null,
   "metadata": {
    "collapsed": true
   },
   "outputs": [],
   "source": [
    "tmdb_keywords_raw_df.sample(5)"
   ]
  },
  {
   "cell_type": "markdown",
   "metadata": {},
   "source": [
    "<hr style=\"height:3px;margin:auto;width:10%\"/>\n",
    "<hr style=\"height:5px;margin:auto;width:25%\"/>\n",
    "<hr style=\"height:3px;margin:auto;width:10%\"/>"
   ]
  },
  {
   "cell_type": "code",
   "execution_count": null,
   "metadata": {
    "collapsed": true
   },
   "outputs": [],
   "source": [
    "tmdb_keywords_cooked_df = tmdb_keywords_raw_df.copy()"
   ]
  },
  {
   "cell_type": "code",
   "execution_count": null,
   "metadata": {
    "collapsed": true
   },
   "outputs": [],
   "source": [
    "def json_to_keywords(jsn):\n",
    "    keywords = ' '.join([d['name'] for d in jsn])\n",
    "    return keywords"
   ]
  },
  {
   "cell_type": "markdown",
   "metadata": {},
   "source": [
    "<hr style=\"height:3px;margin:auto;width:10%\"/>\n",
    "<hr style=\"height:5px;margin:auto;width:25%\"/>\n",
    "<hr style=\"height:3px;margin:auto;width:10%\"/>"
   ]
  },
  {
   "cell_type": "code",
   "execution_count": null,
   "metadata": {},
   "outputs": [],
   "source": [
    "movie_stats_df = movie_stats_df.merge(tmdb_details_filtered_df, how='inner', left_on='tconst', right_on='imdb_id')"
   ]
  },
  {
   "cell_type": "code",
   "execution_count": null,
   "metadata": {
    "collapsed": true
   },
   "outputs": [],
   "source": [
    "movie_stats_df.columns"
   ]
  },
  {
   "cell_type": "code",
   "execution_count": null,
   "metadata": {
    "collapsed": true
   },
   "outputs": [],
   "source": [
    "movie_stats_df = movie_stats_df.merge(tmdb_keywords_cooked_df, how='inner', on='id')"
   ]
  },
  {
   "cell_type": "code",
   "execution_count": null,
   "metadata": {
    "collapsed": true
   },
   "outputs": [],
   "source": [
    "movie_stats_df.columns"
   ]
  },
  {
   "cell_type": "code",
   "execution_count": null,
   "metadata": {
    "collapsed": true,
    "scrolled": false
   },
   "outputs": [],
   "source": [
    "movie_stats_df[:5]['keywords']"
   ]
  },
  {
   "cell_type": "markdown",
   "metadata": {},
   "source": [
    "<hr style=\"height:3px;margin:auto;width:10%\"/>\n",
    "<hr style=\"height:5px;margin:auto;width:25%\"/>\n",
    "<hr style=\"height:3px;margin:auto;width:10%\"/>"
   ]
  },
  {
   "cell_type": "markdown",
   "metadata": {},
   "source": [
    "## Event stems match"
   ]
  },
  {
   "cell_type": "markdown",
   "metadata": {},
   "source": [
    "* Topicality (event stem match)"
   ]
  },
  {
   "cell_type": "code",
   "execution_count": null,
   "metadata": {
    "collapsed": true
   },
   "outputs": [],
   "source": [
    "movie_model_80s_df['movie_words'] = (movie_model_80s_df['overview'] \n",
    "                                     + ' ' \n",
    "                                     + movie_model_80s_df['keywords'])\n",
    "\n",
    "stemmer = PorterStemmer()\n",
    "def get_stems(s):\n",
    "    return ' '.join(map(stemmer.stem, s.split()))\n",
    "\n",
    "movie_model_80s_df['movie_stems'] = movie_model_80s_df['movie_words'].map(get_stem)\n",
    "\n",
    "for year in range(1950, 2018):  \n",
    "    key = 'year_' + str(year) + '_is_topical'\n",
    "    if not key in movie_model_80s_df.columns:\n",
    "        def is_topical(movie_stems):\n",
    "            result = set(movie_stems.split()).intersection(year2eventStems[year])\n",
    "            return 1 if result else 0\n",
    "        movie_model_80s_df[key] = movie_model_80s_df['movie_stems'].map(is_topical)"
   ]
  },
  {
   "cell_type": "code",
   "execution_count": null,
   "metadata": {
    "collapsed": true
   },
   "outputs": [],
   "source": [
    "def yearRelTerm2stemColName(s):\n",
    "    return 'year_' + s + '_is_topical'\n",
    "\n",
    "delta_year_terms = 'neg5 neg4 neg3 neg2 neg1 zero pos1 pos2 pos3 pos4 pos5'.split()\n",
    "delta_year_stem_colnames = list(map(yearRelTerm2stemColName, year_rel_terms))"
   ]
  },
  {
   "cell_type": "code",
   "execution_count": null,
   "metadata": {
    "collapsed": true
   },
   "outputs": [],
   "source": [
    "for delta_year in range(-5, 6):\n",
    "    new_key = delta_year_stem_colnames[delta_year + 5]\n",
    "    if not new_key in movie_model_80s_df.columns:\n",
    "        delta_year_stems = []\n",
    "        for row_num in range(len(movie_model_80s_df['start_year'])):\n",
    "            start_year = movie_model_80s_df['start_year'][row_num]\n",
    "            new_year = start_year + delta_year\n",
    "            if 1875 <= new_year <= 2017:\n",
    "                old_key = 'year_' + str(new_year) + '_is_topical'\n",
    "                is_topical = movie_model_80s_df[old_key][row_num]\n",
    "                delta_year_stems.append(is_topical)\n",
    "            else:\n",
    "                delta_year_stems.append(0)\n",
    "        movie_model_80s_df[new_key] = pd.Series(delta_year_stems)"
   ]
  },
  {
   "cell_type": "code",
   "execution_count": null,
   "metadata": {
    "collapsed": true
   },
   "outputs": [],
   "source": [
    "cntr_year_zero_is_topical = Counter(movie_model_df['year_zero_is_topical'])"
   ]
  },
  {
   "cell_type": "code",
   "execution_count": null,
   "metadata": {
    "collapsed": true
   },
   "outputs": [],
   "source": [
    "is_topical_fraction = cntr_year_zero_is_topical[1] / sum(cntr_year_zero_is_topical.values())\n",
    "is_topical_fraction"
   ]
  },
  {
   "cell_type": "markdown",
   "metadata": {},
   "source": [
    "<hr style=\"height:3px;margin:auto;width:10%\"/>\n",
    "<hr style=\"height:5px;margin:auto;width:25%\"/>\n",
    "<hr style=\"height:3px;margin:auto;width:10%\"/>"
   ]
  },
  {
   "cell_type": "markdown",
   "metadata": {},
   "source": [
    "# Part III: Regression"
   ]
  },
  {
   "cell_type": "markdown",
   "metadata": {},
   "source": [
    "# TODO"
   ]
  },
  {
   "cell_type": "code",
   "execution_count": null,
   "metadata": {
    "collapsed": true
   },
   "outputs": [],
   "source": []
  }
 ],
 "metadata": {
  "kernelspec": {
   "display_name": "Python 3",
   "language": "python",
   "name": "python3"
  },
  "language_info": {
   "codemirror_mode": {
    "name": "ipython",
    "version": 3
   },
   "file_extension": ".py",
   "mimetype": "text/x-python",
   "name": "python",
   "nbconvert_exporter": "python",
   "pygments_lexer": "ipython3",
   "version": "3.6.3"
  }
 },
 "nbformat": 4,
 "nbformat_minor": 2
}
