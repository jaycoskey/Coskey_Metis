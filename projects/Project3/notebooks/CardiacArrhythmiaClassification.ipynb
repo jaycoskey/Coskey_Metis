{
 "cells": [
  {
   "cell_type": "markdown",
   "metadata": {},
   "source": [
    "# Arrhythmia Classification"
   ]
  },
  {
   "cell_type": "code",
   "execution_count": 1,
   "metadata": {},
   "outputs": [
    {
     "name": "stderr",
     "output_type": "stream",
     "text": [
      "/Applications/anaconda3/lib/python3.6/site-packages/statsmodels/compat/pandas.py:56: FutureWarning: The pandas.core.datetools module is deprecated and will be removed in a future version. Please use the pandas.tseries module instead.\n",
      "  from pandas.core import datetools\n"
     ]
    }
   ],
   "source": [
    "from collections import Counter\n",
    "from imblearn.over_sampling import RandomOverSampler\n",
    "from itertools import cycle\n",
    "from math import sqrt\n",
    "import matplotlib.pyplot as plt\n",
    "import numpy as np\n",
    "import pandas as pd\n",
    "from scipy import interp\n",
    "from scipy.stats.mstats import gmean\n",
    "from sklearn import svm, datasets\n",
    "from sklearn.linear_model import LogisticRegression, LogisticRegressionCV\n",
    "from sklearn.metrics import roc_curve, auc\n",
    "from sklearn.model_selection import train_test_split\n",
    "from sklearn.multiclass import OneVsRestClassifier\n",
    "from sklearn.preprocessing import label_binarize\n",
    "from sklearn.utils import resample\n",
    "import seaborn as sns\n",
    "import statsmodels.api as sm"
   ]
  },
  {
   "cell_type": "code",
   "execution_count": 2,
   "metadata": {
    "collapsed": true
   },
   "outputs": [],
   "source": [
    "pd.set_option(\"display.max_columns\",500)\n",
    "pd.set_option(\"display.max_rows\",500)"
   ]
  },
  {
   "cell_type": "markdown",
   "metadata": {},
   "source": [
    "<hr style=\"height:5px;margin:auto;width:100%\"/>"
   ]
  },
  {
   "cell_type": "markdown",
   "metadata": {},
   "source": [
    "# Arrhythmia codes\n",
    "* From http://www.cs.bilkent.edu.tr/tech-reports/1998/BU-CEIS-9802.pdf"
   ]
  },
  {
   "cell_type": "code",
   "execution_count": 3,
   "metadata": {
    "collapsed": true
   },
   "outputs": [],
   "source": [
    "ARRHYTHMIA_TO_NAME = {1: 'Normal_EKG'\n",
    "                      , 2: 'Ischemic_changes'\n",
    "                      , 3: 'Old_Anterior_Myocardial_Infarction'\n",
    "                      , 4: 'Old_Inferior_Myocardial_Infarction'\n",
    "                      , 5: 'Sinus_tachycardia'\n",
    "                      , 6: 'Sinus_bradycardia'\n",
    "                      , 7: 'Ventricular_Premature_Contraction_(VPC)'\n",
    "                      , 8: 'Supraventricular_Premature_Contraction'\n",
    "                      , 9: 'L._bundle_branch_block'\n",
    "                      , 10: 'R._bundle_branch_block'\n",
    "                      , 11: 'First_degree_AtrioVentricular_block'\n",
    "                      , 12: 'Second_degree_AtrioVentricular_block'\n",
    "                      , 13: 'Third_degree_AtrioVentricular_block'\n",
    "                      , 14: 'Left_ventricule_hypertrophy'\n",
    "                      , 15: 'Atrial_Fibrilation_or_Flutter'\n",
    "                      , 16: 'Other'\n",
    "                     }"
   ]
  },
  {
   "cell_type": "markdown",
   "metadata": {
    "collapsed": true
   },
   "source": [
    "<hr style=\"height:5px;margin:auto;width:100%\"/>"
   ]
  },
  {
   "cell_type": "code",
   "execution_count": 4,
   "metadata": {
    "collapsed": true
   },
   "outputs": [],
   "source": [
    "RANDOM_SEED = 47\n",
    "TARGET_COL = 'arrhythmia_code'"
   ]
  },
  {
   "cell_type": "markdown",
   "metadata": {},
   "source": [
    "# Python classes"
   ]
  },
  {
   "cell_type": "code",
   "execution_count": 5,
   "metadata": {
    "collapsed": true
   },
   "outputs": [],
   "source": [
    "class ColNames:\n",
    "    base_col_names = '''age sex height weight\n",
    "        qrs_duration_msec p_onset_to_q_onset_msec\n",
    "        q_onset_to_t_offset_msec\n",
    "        duration_between_t_waves_msec\n",
    "        duration_between_p_waves_msec\n",
    "        qrs_front_plane_deg t_front_plane_deg p_front_plane_deg qrst_front_plane_deg\n",
    "        j_front_plane_deg\n",
    "        heart_rate_bpm\n",
    "        '''.split()\n",
    "\n",
    "    sensors = '''d1 d2 d3 avr avl avf v1 v2 v3 v4 v5 v6'''.split()\n",
    "    \n",
    "    t_attrs = '''q_width_msec\n",
    "        r_width_msec s_width_msec\n",
    "        r2_width_msec s2_width_msec\n",
    "        intrinsic_deflections\n",
    "        is_present_diphasic_r is_present_notched_r\n",
    "        is_present_notched_p is_present_diphasic_p\n",
    "        is_present_notched_t is_present_diphasic_t\n",
    "        '''.split()\n",
    "\n",
    "    # t_attrs: d1, d2, d3 ==> 16-27, 28-39, 40-51\n",
    "    # t_attrs: avr: avl: avf ==> 52-63, 64-75, 76-87\n",
    "    # t_attrs: v1: v2: v3: v4: v5: v6 ==> 88-99, 100-111, 112-123, 124-135, 136-147, 148-159\n",
    "\n",
    "    v_attrs = '''j_point_depression_mvolt q_amplitude_mvolt r_amplitude_mvolt\n",
    "        s_amplitude_mvolt r2_amplitude_mvolt s2_amplitude_mvolt\n",
    "        p_amplitude_mvolt t_amplitude_mvolt\n",
    "        qrsa qrsta\n",
    "        '''.split()\n",
    "\n",
    "    # t_attrs: d1, d2, d3 ==> 160-169, 170-179, 180-189\n",
    "    # t_attrs: avr: avl: avf ==> 190-199, 200-209, 210-219\n",
    "    # t_attrs: v1: v2: v3: v4: v5: v6 ==> 220-229, 230-239, 240-249, 250-259, 260-269, 270-279\n",
    "    \n",
    "    def get_col_names(which='all', droplist=None):\n",
    "        if which == 'all':\n",
    "            col_names = (ColNames.base_col_names\n",
    "                + [sensor + '_' + t_attr\n",
    "                   for sensor in ColNames.sensors for t_attr in ColNames.t_attrs]\n",
    "                + [sensor + '_' + v_attr\n",
    "                   for sensor in ColNames.sensors for v_attr in ColNames.v_attrs]\n",
    "                + ['arrhythmia_code']\n",
    "            )\n",
    "        else:  # which is a metric name.  We'll return all matching column names.\n",
    "            col_names = [sensor + '_' + which for sensor in ColNames.sensors]\n",
    "\n",
    "        if droplist:\n",
    "            return [col_name for col_name in col_names if col_name not in droplist]\n",
    "        else:\n",
    "            return col_names"
   ]
  },
  {
   "cell_type": "markdown",
   "metadata": {},
   "source": [
    "<hr style=\"height:5px;margin:auto;width:100%\"/>"
   ]
  },
  {
   "cell_type": "markdown",
   "metadata": {},
   "source": [
    "# Function definitions"
   ]
  },
  {
   "cell_type": "code",
   "execution_count": 6,
   "metadata": {
    "collapsed": true
   },
   "outputs": [],
   "source": [
    "def arrhythmia_code_to_name(code):\n",
    "    assert(code in ARRHYTHMIA_TO_NAME.keys())\n",
    "    return ARRHYTHMIA_TO_NAME[code]"
   ]
  },
  {
   "cell_type": "code",
   "execution_count": 7,
   "metadata": {
    "collapsed": true
   },
   "outputs": [],
   "source": [
    "def nan_percentage(ser):\n",
    "    return 100.0 * (len(ser) - ser.count()) / len(ser)"
   ]
  },
  {
   "cell_type": "markdown",
   "metadata": {},
   "source": [
    "<hr style=\"height:5px;margin:auto;width:100%\"/>"
   ]
  },
  {
   "cell_type": "markdown",
   "metadata": {},
   "source": [
    "# Load & inspect UCI dataset (uci_df)"
   ]
  },
  {
   "cell_type": "code",
   "execution_count": 8,
   "metadata": {
    "collapsed": true
   },
   "outputs": [],
   "source": [
    "cols_with_unknowns = '''t_front_plane_deg p_front_plane_deg qrst_front_plane_deg\n",
    "                        j_front_plane_deg heart_rate_bpm'''.split()\n",
    "cols_dtypes = {col: np.float64 for col in cols_with_unknowns}\n",
    "uci_df = pd.read_csv('../data/uci.edu/arrhythmia.data.txt', header=None\n",
    "                     , names=ColNames.get_col_names(), dtype=cols_dtypes, na_values='?')"
   ]
  },
  {
   "cell_type": "code",
   "execution_count": 9,
   "metadata": {},
   "outputs": [
    {
     "data": {
      "text/plain": [
       "(452, 280)"
      ]
     },
     "execution_count": 9,
     "metadata": {},
     "output_type": "execute_result"
    }
   ],
   "source": [
    "uci_df.shape"
   ]
  },
  {
   "cell_type": "code",
   "execution_count": 10,
   "metadata": {},
   "outputs": [
    {
     "data": {
      "text/plain": [
       "['d1_qrsa',\n",
       " 'd2_qrsa',\n",
       " 'd3_qrsa',\n",
       " 'avr_qrsa',\n",
       " 'avl_qrsa',\n",
       " 'avf_qrsa',\n",
       " 'v1_qrsa',\n",
       " 'v2_qrsa',\n",
       " 'v3_qrsa',\n",
       " 'v4_qrsa',\n",
       " 'v5_qrsa',\n",
       " 'v6_qrsa']"
      ]
     },
     "execution_count": 10,
     "metadata": {},
     "output_type": "execute_result"
    }
   ],
   "source": [
    "ColNames.get_col_names(which='qrsa', droplist=['arrhythmia_code'])"
   ]
  },
  {
   "cell_type": "code",
   "execution_count": 11,
   "metadata": {},
   "outputs": [
    {
     "data": {
      "text/plain": [
       "Index(['age', 'sex', 'height', 'weight', 'qrs_duration_msec',\n",
       "       'p_onset_to_q_onset_msec', 'q_onset_to_t_offset_msec',\n",
       "       'duration_between_t_waves_msec', 'duration_between_p_waves_msec',\n",
       "       'qrs_front_plane_deg',\n",
       "       ...\n",
       "       'v6_q_amplitude_mvolt', 'v6_r_amplitude_mvolt', 'v6_s_amplitude_mvolt',\n",
       "       'v6_r2_amplitude_mvolt', 'v6_s2_amplitude_mvolt',\n",
       "       'v6_p_amplitude_mvolt', 'v6_t_amplitude_mvolt', 'v6_qrsa', 'v6_qrsta',\n",
       "       'arrhythmia_code'],\n",
       "      dtype='object', length=280)"
      ]
     },
     "execution_count": 11,
     "metadata": {},
     "output_type": "execute_result"
    }
   ],
   "source": [
    "uci_df.columns"
   ]
  },
  {
   "cell_type": "code",
   "execution_count": 12,
   "metadata": {},
   "outputs": [
    {
     "data": {
      "text/plain": [
       "Counter({1: 245,\n",
       "         2: 44,\n",
       "         3: 15,\n",
       "         4: 15,\n",
       "         5: 13,\n",
       "         6: 25,\n",
       "         7: 3,\n",
       "         8: 2,\n",
       "         9: 9,\n",
       "         10: 50,\n",
       "         14: 4,\n",
       "         15: 5,\n",
       "         16: 22})"
      ]
     },
     "execution_count": 12,
     "metadata": {},
     "output_type": "execute_result"
    }
   ],
   "source": [
    "cntr = Counter(uci_df['arrhythmia_code'])\n",
    "cntr"
   ]
  },
  {
   "cell_type": "code",
   "execution_count": 13,
   "metadata": {},
   "outputs": [
    {
     "name": "stdout",
     "output_type": "stream",
     "text": [
      "Nan percentage in t_front_plane_deg: 1.77%\n",
      "Nan percentage in p_front_plane_deg: 4.87%\n",
      "Nan percentage in qrst_front_plane_deg: 0.22%\n",
      "Nan percentage in j_front_plane_deg: 83.19%\n",
      "Nan percentage in heart_rate_bpm: 0.22%\n"
     ]
    }
   ],
   "source": [
    "for col in cols_with_unknowns:\n",
    "    print(f'Nan percentage in {col}: {nan_percentage(uci_df[col]):.2f}%')"
   ]
  },
  {
   "cell_type": "code",
   "execution_count": 14,
   "metadata": {},
   "outputs": [
    {
     "data": {
      "text/plain": [
       "dtype('float64')"
      ]
     },
     "execution_count": 14,
     "metadata": {},
     "output_type": "execute_result"
    }
   ],
   "source": [
    "uci_df['d1_qrsa'].dtype"
   ]
  },
  {
   "cell_type": "code",
   "execution_count": 15,
   "metadata": {},
   "outputs": [
    {
     "data": {
      "text/plain": [
       "[(1, 245),\n",
       " (10, 50),\n",
       " (2, 44),\n",
       " (6, 25),\n",
       " (16, 22),\n",
       " (3, 15),\n",
       " (4, 15),\n",
       " (5, 13),\n",
       " (9, 9),\n",
       " (15, 5),\n",
       " (14, 4),\n",
       " (7, 3),\n",
       " (8, 2)]"
      ]
     },
     "execution_count": 15,
     "metadata": {},
     "output_type": "execute_result"
    }
   ],
   "source": [
    "sorted(cntr.items(), key=lambda pair: pair[1], reverse=True)"
   ]
  },
  {
   "cell_type": "code",
   "execution_count": 16,
   "metadata": {},
   "outputs": [
    {
     "data": {
      "text/plain": [
       "[('Normal_EKG', 245),\n",
       " ('R._bundle_branch_block', 50),\n",
       " ('Ischemic_changes', 44),\n",
       " ('Sinus_bradycardia', 25),\n",
       " ('Other', 22),\n",
       " ('Old_Anterior_Myocardial_Infarction', 15),\n",
       " ('Old_Inferior_Myocardial_Infarction', 15),\n",
       " ('Sinus_tachycardia', 13),\n",
       " ('L._bundle_branch_block', 9),\n",
       " ('Atrial_Fibrilation_or_Flutter', 5),\n",
       " ('Left_ventricule_hypertrophy', 4),\n",
       " ('Ventricular_Premature_Contraction_(VPC)', 3),\n",
       " ('Supraventricular_Premature_Contraction', 2)]"
      ]
     },
     "execution_count": 16,
     "metadata": {},
     "output_type": "execute_result"
    }
   ],
   "source": [
    "[(arrhythmia_code_to_name(k), v)\n",
    " for k, v in sorted(cntr.items(), key=lambda pair: pair[1], reverse=True)]"
   ]
  },
  {
   "cell_type": "code",
   "execution_count": 17,
   "metadata": {},
   "outputs": [
    {
     "data": {
      "text/plain": [
       "'arrhythmia_code'"
      ]
     },
     "execution_count": 17,
     "metadata": {},
     "output_type": "execute_result"
    }
   ],
   "source": [
    "uci_df.columns[-1]"
   ]
  },
  {
   "cell_type": "code",
   "execution_count": 18,
   "metadata": {
    "scrolled": false
   },
   "outputs": [
    {
     "data": {
      "text/plain": [
       "['First_degree_AtrioVentricular_block',\n",
       " 'Second_degree_AtrioVentricular_block',\n",
       " 'Third_degree_AtrioVentricular_block']"
      ]
     },
     "execution_count": 18,
     "metadata": {},
     "output_type": "execute_result"
    }
   ],
   "source": [
    "missing_arrhythmias = [arrhythmia_code_to_name(code)\n",
    "                       for code in range(1, 17)\n",
    "                       if code not in cntr.keys()]\n",
    "missing_arrhythmias"
   ]
  },
  {
   "cell_type": "markdown",
   "metadata": {},
   "source": [
    "<hr style=\"height:5px;margin:auto;width:50%\"/>"
   ]
  },
  {
   "cell_type": "markdown",
   "metadata": {},
   "source": [
    "### Look into bradycardia classification\n",
    "* 20 subjects with heart rate < 60 bpm **NOT** classified as having bradycardia\n",
    "* 1 subject with heart rate > 60 bpm classified as having bradycardia"
   ]
  },
  {
   "cell_type": "code",
   "execution_count": 19,
   "metadata": {
    "collapsed": true
   },
   "outputs": [],
   "source": [
    "slow_non_bradycardia_mask = (uci_df['heart_rate_bpm'] < 60) & (uci_df['arrhythmia_code'] != 6)\n",
    "fast_bradycardia_mask = (uci_df['heart_rate_bpm'] > 60) & (uci_df['arrhythmia_code'] == 6)"
   ]
  },
  {
   "cell_type": "code",
   "execution_count": 20,
   "metadata": {
    "scrolled": false
   },
   "outputs": [
    {
     "data": {
      "text/html": [
       "<div>\n",
       "<style>\n",
       "    .dataframe thead tr:only-child th {\n",
       "        text-align: right;\n",
       "    }\n",
       "\n",
       "    .dataframe thead th {\n",
       "        text-align: left;\n",
       "    }\n",
       "\n",
       "    .dataframe tbody tr th {\n",
       "        vertical-align: top;\n",
       "    }\n",
       "</style>\n",
       "<table border=\"1\" class=\"dataframe\">\n",
       "  <thead>\n",
       "    <tr style=\"text-align: right;\">\n",
       "      <th></th>\n",
       "      <th>age</th>\n",
       "      <th>sex</th>\n",
       "      <th>height</th>\n",
       "      <th>weight</th>\n",
       "      <th>heart_rate_bpm</th>\n",
       "      <th>arrhythmia_code</th>\n",
       "    </tr>\n",
       "  </thead>\n",
       "  <tbody>\n",
       "    <tr>\n",
       "      <th>54</th>\n",
       "      <td>52</td>\n",
       "      <td>0</td>\n",
       "      <td>165</td>\n",
       "      <td>80</td>\n",
       "      <td>59.0</td>\n",
       "      <td>16</td>\n",
       "    </tr>\n",
       "    <tr>\n",
       "      <th>66</th>\n",
       "      <td>54</td>\n",
       "      <td>1</td>\n",
       "      <td>160</td>\n",
       "      <td>63</td>\n",
       "      <td>54.0</td>\n",
       "      <td>2</td>\n",
       "    </tr>\n",
       "    <tr>\n",
       "      <th>135</th>\n",
       "      <td>40</td>\n",
       "      <td>0</td>\n",
       "      <td>172</td>\n",
       "      <td>60</td>\n",
       "      <td>58.0</td>\n",
       "      <td>1</td>\n",
       "    </tr>\n",
       "    <tr>\n",
       "      <th>154</th>\n",
       "      <td>27</td>\n",
       "      <td>1</td>\n",
       "      <td>161</td>\n",
       "      <td>51</td>\n",
       "      <td>58.0</td>\n",
       "      <td>16</td>\n",
       "    </tr>\n",
       "    <tr>\n",
       "      <th>178</th>\n",
       "      <td>66</td>\n",
       "      <td>0</td>\n",
       "      <td>167</td>\n",
       "      <td>70</td>\n",
       "      <td>57.0</td>\n",
       "      <td>1</td>\n",
       "    </tr>\n",
       "    <tr>\n",
       "      <th>197</th>\n",
       "      <td>46</td>\n",
       "      <td>0</td>\n",
       "      <td>168</td>\n",
       "      <td>60</td>\n",
       "      <td>53.0</td>\n",
       "      <td>16</td>\n",
       "    </tr>\n",
       "    <tr>\n",
       "      <th>209</th>\n",
       "      <td>47</td>\n",
       "      <td>0</td>\n",
       "      <td>176</td>\n",
       "      <td>95</td>\n",
       "      <td>58.0</td>\n",
       "      <td>10</td>\n",
       "    </tr>\n",
       "    <tr>\n",
       "      <th>212</th>\n",
       "      <td>63</td>\n",
       "      <td>0</td>\n",
       "      <td>174</td>\n",
       "      <td>79</td>\n",
       "      <td>59.0</td>\n",
       "      <td>2</td>\n",
       "    </tr>\n",
       "    <tr>\n",
       "      <th>219</th>\n",
       "      <td>77</td>\n",
       "      <td>0</td>\n",
       "      <td>165</td>\n",
       "      <td>77</td>\n",
       "      <td>59.0</td>\n",
       "      <td>16</td>\n",
       "    </tr>\n",
       "    <tr>\n",
       "      <th>226</th>\n",
       "      <td>37</td>\n",
       "      <td>0</td>\n",
       "      <td>168</td>\n",
       "      <td>82</td>\n",
       "      <td>56.0</td>\n",
       "      <td>1</td>\n",
       "    </tr>\n",
       "    <tr>\n",
       "      <th>293</th>\n",
       "      <td>55</td>\n",
       "      <td>0</td>\n",
       "      <td>173</td>\n",
       "      <td>75</td>\n",
       "      <td>53.0</td>\n",
       "      <td>10</td>\n",
       "    </tr>\n",
       "    <tr>\n",
       "      <th>312</th>\n",
       "      <td>69</td>\n",
       "      <td>0</td>\n",
       "      <td>160</td>\n",
       "      <td>60</td>\n",
       "      <td>50.0</td>\n",
       "      <td>10</td>\n",
       "    </tr>\n",
       "    <tr>\n",
       "      <th>321</th>\n",
       "      <td>26</td>\n",
       "      <td>0</td>\n",
       "      <td>180</td>\n",
       "      <td>97</td>\n",
       "      <td>59.0</td>\n",
       "      <td>1</td>\n",
       "    </tr>\n",
       "    <tr>\n",
       "      <th>346</th>\n",
       "      <td>20</td>\n",
       "      <td>0</td>\n",
       "      <td>186</td>\n",
       "      <td>66</td>\n",
       "      <td>57.0</td>\n",
       "      <td>10</td>\n",
       "    </tr>\n",
       "    <tr>\n",
       "      <th>352</th>\n",
       "      <td>48</td>\n",
       "      <td>1</td>\n",
       "      <td>160</td>\n",
       "      <td>48</td>\n",
       "      <td>58.0</td>\n",
       "      <td>1</td>\n",
       "    </tr>\n",
       "    <tr>\n",
       "      <th>363</th>\n",
       "      <td>57</td>\n",
       "      <td>0</td>\n",
       "      <td>170</td>\n",
       "      <td>66</td>\n",
       "      <td>50.0</td>\n",
       "      <td>10</td>\n",
       "    </tr>\n",
       "    <tr>\n",
       "      <th>395</th>\n",
       "      <td>61</td>\n",
       "      <td>1</td>\n",
       "      <td>156</td>\n",
       "      <td>77</td>\n",
       "      <td>56.0</td>\n",
       "      <td>9</td>\n",
       "    </tr>\n",
       "    <tr>\n",
       "      <th>402</th>\n",
       "      <td>66</td>\n",
       "      <td>1</td>\n",
       "      <td>155</td>\n",
       "      <td>62</td>\n",
       "      <td>59.0</td>\n",
       "      <td>1</td>\n",
       "    </tr>\n",
       "    <tr>\n",
       "      <th>421</th>\n",
       "      <td>63</td>\n",
       "      <td>1</td>\n",
       "      <td>167</td>\n",
       "      <td>68</td>\n",
       "      <td>59.0</td>\n",
       "      <td>1</td>\n",
       "    </tr>\n",
       "    <tr>\n",
       "      <th>440</th>\n",
       "      <td>37</td>\n",
       "      <td>0</td>\n",
       "      <td>176</td>\n",
       "      <td>72</td>\n",
       "      <td>55.0</td>\n",
       "      <td>1</td>\n",
       "    </tr>\n",
       "  </tbody>\n",
       "</table>\n",
       "</div>"
      ],
      "text/plain": [
       "     age  sex  height  weight  heart_rate_bpm  arrhythmia_code\n",
       "54    52    0     165      80            59.0               16\n",
       "66    54    1     160      63            54.0                2\n",
       "135   40    0     172      60            58.0                1\n",
       "154   27    1     161      51            58.0               16\n",
       "178   66    0     167      70            57.0                1\n",
       "197   46    0     168      60            53.0               16\n",
       "209   47    0     176      95            58.0               10\n",
       "212   63    0     174      79            59.0                2\n",
       "219   77    0     165      77            59.0               16\n",
       "226   37    0     168      82            56.0                1\n",
       "293   55    0     173      75            53.0               10\n",
       "312   69    0     160      60            50.0               10\n",
       "321   26    0     180      97            59.0                1\n",
       "346   20    0     186      66            57.0               10\n",
       "352   48    1     160      48            58.0                1\n",
       "363   57    0     170      66            50.0               10\n",
       "395   61    1     156      77            56.0                9\n",
       "402   66    1     155      62            59.0                1\n",
       "421   63    1     167      68            59.0                1\n",
       "440   37    0     176      72            55.0                1"
      ]
     },
     "execution_count": 20,
     "metadata": {},
     "output_type": "execute_result"
    }
   ],
   "source": [
    "uci_df[slow_non_bradycardia_mask][['age', 'sex', 'height', 'weight', 'heart_rate_bpm', 'arrhythmia_code']]"
   ]
  },
  {
   "cell_type": "code",
   "execution_count": 21,
   "metadata": {},
   "outputs": [
    {
     "data": {
      "text/html": [
       "<div>\n",
       "<style>\n",
       "    .dataframe thead tr:only-child th {\n",
       "        text-align: right;\n",
       "    }\n",
       "\n",
       "    .dataframe thead th {\n",
       "        text-align: left;\n",
       "    }\n",
       "\n",
       "    .dataframe tbody tr th {\n",
       "        vertical-align: top;\n",
       "    }\n",
       "</style>\n",
       "<table border=\"1\" class=\"dataframe\">\n",
       "  <thead>\n",
       "    <tr style=\"text-align: right;\">\n",
       "      <th></th>\n",
       "      <th>age</th>\n",
       "      <th>sex</th>\n",
       "      <th>height</th>\n",
       "      <th>weight</th>\n",
       "      <th>heart_rate_bpm</th>\n",
       "      <th>arrhythmia_code</th>\n",
       "    </tr>\n",
       "  </thead>\n",
       "  <tbody>\n",
       "    <tr>\n",
       "      <th>106</th>\n",
       "      <td>46</td>\n",
       "      <td>0</td>\n",
       "      <td>165</td>\n",
       "      <td>55</td>\n",
       "      <td>63.0</td>\n",
       "      <td>6</td>\n",
       "    </tr>\n",
       "  </tbody>\n",
       "</table>\n",
       "</div>"
      ],
      "text/plain": [
       "     age  sex  height  weight  heart_rate_bpm  arrhythmia_code\n",
       "106   46    0     165      55            63.0                6"
      ]
     },
     "execution_count": 21,
     "metadata": {},
     "output_type": "execute_result"
    }
   ],
   "source": [
    "uci_df[fast_bradycardia_mask][['age', 'sex', 'height', 'weight', 'heart_rate_bpm', 'arrhythmia_code']]"
   ]
  },
  {
   "cell_type": "markdown",
   "metadata": {},
   "source": [
    "<hr style=\"height:5px;margin:auto;width:100%\"/>"
   ]
  },
  {
   "cell_type": "markdown",
   "metadata": {},
   "source": [
    "# Create cleaned dataset (uci2_df)"
   ]
  },
  {
   "cell_type": "code",
   "execution_count": 22,
   "metadata": {},
   "outputs": [
    {
     "data": {
      "text/plain": [
       "[1, 2, 6, 10, 16]"
      ]
     },
     "execution_count": 22,
     "metadata": {},
     "output_type": "execute_result"
    }
   ],
   "source": [
    "filtered_class_ids = sorted([k for k in cntr.keys() if cntr[k] >= 20])  # 1, 2, 6, 10, 16\n",
    "num_classes = len(filtered_class_ids)\n",
    "filtered_class_ids"
   ]
  },
  {
   "cell_type": "code",
   "execution_count": 23,
   "metadata": {},
   "outputs": [
    {
     "data": {
      "text/plain": [
       "['Normal_EKG',\n",
       " 'Ischemic_changes',\n",
       " 'Sinus_bradycardia',\n",
       " 'R._bundle_branch_block',\n",
       " 'Other']"
      ]
     },
     "execution_count": 23,
     "metadata": {},
     "output_type": "execute_result"
    }
   ],
   "source": [
    "filtered_class_names = list(map(arrhythmia_code_to_name, filtered_class_ids))\n",
    "filtered_class_names"
   ]
  },
  {
   "cell_type": "code",
   "execution_count": 24,
   "metadata": {
    "collapsed": true
   },
   "outputs": [],
   "source": [
    "uci2_mask = uci_df['arrhythmia_code'].isin(filtered_class_ids)\n",
    "uci2_df = uci_df[uci2_mask].copy()"
   ]
  },
  {
   "cell_type": "markdown",
   "metadata": {},
   "source": [
    "### Look at NaNs...."
   ]
  },
  {
   "cell_type": "code",
   "execution_count": 25,
   "metadata": {},
   "outputs": [
    {
     "name": "stdout",
     "output_type": "stream",
     "text": [
      "Nan percentage in t_front_plane_deg: 1.81%\n",
      "Nan percentage in p_front_plane_deg: 3.89%\n",
      "Nan percentage in qrst_front_plane_deg: 0.26%\n",
      "Nan percentage in j_front_plane_deg: 86.01%\n",
      "Nan percentage in heart_rate_bpm: 0.00%\n"
     ]
    }
   ],
   "source": [
    "for col in cols_with_unknowns:\n",
    "    print(f'Nan percentage in {col}: {nan_percentage(uci2_df[col]):.2f}%')"
   ]
  },
  {
   "cell_type": "code",
   "execution_count": 26,
   "metadata": {
    "scrolled": false
   },
   "outputs": [
    {
     "name": "stdout",
     "output_type": "stream",
     "text": [
      "Columns to drop: ['t_front_plane_deg', 'p_front_plane_deg', 'qrst_front_plane_deg', 'j_front_plane_deg']\n"
     ]
    }
   ],
   "source": [
    "cols_to_drop = [col for col in cols_with_unknowns if col != 'heart_rate_bpm']\n",
    "print(f'Columns to drop: {cols_to_drop}')"
   ]
  },
  {
   "cell_type": "code",
   "execution_count": 27,
   "metadata": {
    "collapsed": true
   },
   "outputs": [],
   "source": [
    "uci2_df = uci2_df.drop(cols_to_drop, axis=1, errors='ignore')"
   ]
  },
  {
   "cell_type": "markdown",
   "metadata": {},
   "source": [
    "### Look at zeros...."
   ]
  },
  {
   "cell_type": "code",
   "execution_count": 28,
   "metadata": {
    "scrolled": false
   },
   "outputs": [
    {
     "name": "stdout",
     "output_type": "stream",
     "text": [
      "Zeros in column #  5 (p_onset_to_q_onset_msec)          :   3.37%\n",
      "Zeros in column #  8 (duration_between_p_waves_msec)    :   1.81%\n",
      "Zeros in column #  9 (qrs_front_plane_deg)              :   0.78%\n",
      "Zeros in column # 11 (d1_q_width_msec)                  :  74.09%\n",
      "Zeros in column # 12 (d1_r_width_msec)                  :   0.52%\n",
      "Zeros in column # 13 (d1_s_width_msec)                  :  43.01%\n",
      "Zeros in column # 14 (d1_r2_width_msec)                 :  98.96%\n",
      "Zeros in column # 15 (d1_s2_width_msec)                 : 100.00%  # ALL ZEROS!!\n",
      "Zeros in column # 16 (d1_intrinsic_deflections)         :   0.52%\n",
      "Zeros in column # 23 (d2_q_width_msec)                  :  78.50%\n",
      "Zeros in column # 24 (d2_r_width_msec)                  :   0.52%\n",
      "Zeros in column # 25 (d2_s_width_msec)                  :  44.04%\n",
      "Zeros in column # 26 (d2_r2_width_msec)                 :  98.19%\n",
      "Zeros in column # 27 (d2_s2_width_msec)                 :  99.74%\n",
      "Zeros in column # 28 (d2_intrinsic_deflections)         :   0.52%\n",
      "Zeros in column # 35 (d3_q_width_msec)                  :  56.48%\n",
      "Zeros in column # 36 (d3_r_width_msec)                  :  10.36%\n",
      "Zeros in column # 37 (d3_s_width_msec)                  :  52.59%\n",
      "Zeros in column # 38 (d3_r2_width_msec)                 :  92.49%\n",
      "Zeros in column # 39 (d3_s2_width_msec)                 :  98.70%\n",
      "Zeros in column # 40 (d3_intrinsic_deflections)         :  10.36%\n",
      "Zeros in column # 47 (avr_q_width_msec)                 :  14.25%\n",
      "Zeros in column # 48 (avr_r_width_msec)                 :  37.56%\n",
      "Zeros in column # 49 (avr_s_width_msec)                 :  85.49%\n",
      "Zeros in column # 50 (avr_r2_width_msec)                :  92.49%\n",
      "Zeros in column # 51 (avr_s2_width_msec)                :  99.74%\n",
      "Zeros in column # 52 (avr_intrinsic_deflections)        :  37.56%\n",
      "Zeros in column # 59 (avl_q_width_msec)                 :  66.58%\n",
      "Zeros in column # 60 (avl_r_width_msec)                 :   7.25%\n",
      "Zeros in column # 61 (avl_s_width_msec)                 :  52.59%\n",
      "Zeros in column # 62 (avl_r2_width_msec)                :  97.41%\n",
      "Zeros in column # 63 (avl_s2_width_msec)                : 100.00%  # ALL ZEROS!!\n",
      "Zeros in column # 64 (avl_intrinsic_deflections)        :   7.25%\n",
      "Zeros in column # 71 (avf_q_width_msec)                 :  77.98%\n",
      "Zeros in column # 72 (avf_r_width_msec)                 :   2.85%\n",
      "Zeros in column # 73 (avf_s_width_msec)                 :  48.96%\n",
      "Zeros in column # 74 (avf_r2_width_msec)                :  96.89%\n",
      "Zeros in column # 75 (avf_s2_width_msec)                :  99.48%\n",
      "Zeros in column # 76 (avf_intrinsic_deflections)        :   2.85%\n",
      "Zeros in column # 83 (v1_q_width_msec)                  :  84.46%\n",
      "Zeros in column # 84 (v1_r_width_msec)                  :  13.73%\n",
      "Zeros in column # 85 (v1_s_width_msec)                  :  16.06%\n",
      "Zeros in column # 86 (v1_r2_width_msec)                 :  88.34%\n",
      "Zeros in column # 87 (v1_s2_width_msec)                 :  99.48%\n",
      "Zeros in column # 88 (v1_intrinsic_deflections)         :  13.73%\n",
      "Zeros in column # 95 (v2_q_width_msec)                  :  95.34%\n",
      "Zeros in column # 96 (v2_r_width_msec)                  :   3.89%\n",
      "Zeros in column # 97 (v2_s_width_msec)                  :   4.40%\n",
      "Zeros in column # 98 (v2_r2_width_msec)                 :  92.23%\n",
      "Zeros in column # 99 (v2_s2_width_msec)                 :  99.48%\n",
      "Zeros in column #100 (v2_intrinsic_deflections)         :   3.89%\n",
      "Zeros in column #107 (v3_q_width_msec)                  :  97.41%\n",
      "Zeros in column #108 (v3_r_width_msec)                  :   0.78%\n",
      "Zeros in column #109 (v3_s_width_msec)                  :   1.30%\n",
      "Zeros in column #110 (v3_r2_width_msec)                 :  98.45%\n",
      "Zeros in column #111 (v3_s2_width_msec)                 :  99.48%\n",
      "Zeros in column #112 (v3_intrinsic_deflections)         :   0.78%\n",
      "Zeros in column #119 (v4_q_width_msec)                  :  90.93%\n",
      "Zeros in column #121 (v4_s_width_msec)                  :   1.81%\n",
      "Zeros in column #122 (v4_r2_width_msec)                 :  96.63%\n",
      "Zeros in column #123 (v4_s2_width_msec)                 :  99.48%\n",
      "Zeros in column #131 (v5_q_width_msec)                  :  79.53%\n",
      "Zeros in column #132 (v5_r_width_msec)                  :   0.26%\n",
      "Zeros in column #133 (v5_s_width_msec)                  :   6.48%\n",
      "Zeros in column #134 (v5_r2_width_msec)                 :  98.96%\n",
      "Zeros in column #135 (v5_s2_width_msec)                 : 100.00%  # ALL ZEROS!!\n",
      "Zeros in column #136 (v5_intrinsic_deflections)         :   0.26%\n",
      "Zeros in column #143 (v6_q_width_msec)                  :  70.73%\n",
      "Zeros in column #145 (v6_s_width_msec)                  :  31.35%\n",
      "Zeros in column #146 (v6_r2_width_msec)                 :  99.48%\n",
      "Zeros in column #147 (v6_s2_width_msec)                 : 100.00%  # ALL ZEROS!!\n",
      "Zeros in column #155 (d1_j_point_depression_mvolt)      :  15.80%\n",
      "Zeros in column #156 (d1_q_amplitude_mvolt)             :  74.09%\n",
      "Zeros in column #157 (d1_r_amplitude_mvolt)             :   0.52%\n",
      "Zeros in column #158 (d1_s_amplitude_mvolt)             :  43.01%\n",
      "Zeros in column #159 (d1_r2_amplitude_mvolt)            :  98.96%\n",
      "Zeros in column #160 (d1_s2_amplitude_mvolt)            : 100.00%  # ALL ZEROS!!\n",
      "Zeros in column #161 (d1_p_amplitude_mvolt)             :   0.78%\n",
      "Zeros in column #165 (d2_j_point_depression_mvolt)      :  15.28%\n",
      "Zeros in column #166 (d2_q_amplitude_mvolt)             :  78.50%\n",
      "Zeros in column #167 (d2_r_amplitude_mvolt)             :   0.52%\n",
      "Zeros in column #168 (d2_s_amplitude_mvolt)             :  44.04%\n",
      "Zeros in column #169 (d2_r2_amplitude_mvolt)            :  98.19%\n",
      "Zeros in column #170 (d2_s2_amplitude_mvolt)            :  99.74%\n",
      "Zeros in column #171 (d2_p_amplitude_mvolt)             :   0.78%\n",
      "Zeros in column #172 (d2_t_amplitude_mvolt)             :   0.26%\n",
      "Zeros in column #175 (d3_j_point_depression_mvolt)      :  16.84%\n",
      "Zeros in column #176 (d3_q_amplitude_mvolt)             :  56.48%\n",
      "Zeros in column #177 (d3_r_amplitude_mvolt)             :  10.36%\n",
      "Zeros in column #178 (d3_s_amplitude_mvolt)             :  52.59%\n",
      "Zeros in column #179 (d3_r2_amplitude_mvolt)            :  92.49%\n",
      "Zeros in column #180 (d3_s2_amplitude_mvolt)            :  98.70%\n",
      "Zeros in column #181 (d3_p_amplitude_mvolt)             :   0.78%\n",
      "Zeros in column #182 (d3_t_amplitude_mvolt)             :   0.52%\n",
      "Zeros in column #183 (d3_qrsa)                          :   0.26%\n",
      "Zeros in column #185 (avr_j_point_depression_mvolt)     :  14.77%\n",
      "Zeros in column #186 (avr_q_amplitude_mvolt)            :  14.25%\n",
      "Zeros in column #187 (avr_r_amplitude_mvolt)            :  37.56%\n",
      "Zeros in column #188 (avr_s_amplitude_mvolt)            :  85.49%\n",
      "Zeros in column #189 (avr_r2_amplitude_mvolt)           :  92.49%\n",
      "Zeros in column #190 (avr_s2_amplitude_mvolt)           :  99.74%\n",
      "Zeros in column #191 (avr_p_amplitude_mvolt)            :   1.81%\n",
      "Zeros in column #192 (avr_t_amplitude_mvolt)            :   0.26%\n",
      "Zeros in column #195 (avl_j_point_depression_mvolt)     :  19.17%\n",
      "Zeros in column #196 (avl_q_amplitude_mvolt)            :  66.58%\n",
      "Zeros in column #197 (avl_r_amplitude_mvolt)            :   7.25%\n",
      "Zeros in column #198 (avl_s_amplitude_mvolt)            :  52.59%\n",
      "Zeros in column #199 (avl_r2_amplitude_mvolt)           :  97.41%\n",
      "Zeros in column #200 (avl_s2_amplitude_mvolt)           : 100.00%  # ALL ZEROS!!\n",
      "Zeros in column #201 (avl_p_amplitude_mvolt)            :   2.59%\n",
      "Zeros in column #202 (avl_t_amplitude_mvolt)            :   0.78%\n",
      "Zeros in column #203 (avl_qrsa)                         :   1.04%\n",
      "Zeros in column #204 (avl_qrsta)                        :   0.78%\n",
      "Zeros in column #205 (avf_j_point_depression_mvolt)     :  15.03%\n",
      "Zeros in column #206 (avf_q_amplitude_mvolt)            :  77.98%\n",
      "Zeros in column #207 (avf_r_amplitude_mvolt)            :   2.85%\n",
      "Zeros in column #208 (avf_s_amplitude_mvolt)            :  48.96%\n",
      "Zeros in column #209 (avf_r2_amplitude_mvolt)           :  96.89%\n",
      "Zeros in column #210 (avf_s2_amplitude_mvolt)           :  99.48%\n",
      "Zeros in column #211 (avf_p_amplitude_mvolt)            :   1.81%\n",
      "Zeros in column #212 (avf_t_amplitude_mvolt)            :   0.26%\n",
      "Zeros in column #213 (avf_qrsa)                         :   0.78%\n",
      "Zeros in column #215 (v1_j_point_depression_mvolt)      :   4.15%\n",
      "Zeros in column #216 (v1_q_amplitude_mvolt)             :  84.46%\n",
      "Zeros in column #217 (v1_r_amplitude_mvolt)             :  13.73%\n",
      "Zeros in column #218 (v1_s_amplitude_mvolt)             :  16.06%\n",
      "Zeros in column #219 (v1_r2_amplitude_mvolt)            :  88.34%\n",
      "Zeros in column #220 (v1_s2_amplitude_mvolt)            :  99.48%\n",
      "Zeros in column #221 (v1_p_amplitude_mvolt)             :  10.36%\n",
      "Zeros in column #225 (v2_j_point_depression_mvolt)      :   3.89%\n",
      "Zeros in column #226 (v2_q_amplitude_mvolt)             :  95.34%\n",
      "Zeros in column #227 (v2_r_amplitude_mvolt)             :   3.89%\n",
      "Zeros in column #228 (v2_s_amplitude_mvolt)             :   4.40%\n",
      "Zeros in column #229 (v2_r2_amplitude_mvolt)            :  92.23%\n",
      "Zeros in column #230 (v2_s2_amplitude_mvolt)            :  99.48%\n",
      "Zeros in column #231 (v2_p_amplitude_mvolt)             :  10.88%\n",
      "Zeros in column #233 (v2_qrsa)                          :   0.26%\n",
      "Zeros in column #235 (v3_j_point_depression_mvolt)      :   7.77%\n",
      "Zeros in column #236 (v3_q_amplitude_mvolt)             :  97.41%\n",
      "Zeros in column #237 (v3_r_amplitude_mvolt)             :   0.78%\n",
      "Zeros in column #238 (v3_s_amplitude_mvolt)             :   1.30%\n",
      "Zeros in column #239 (v3_r2_amplitude_mvolt)            :  98.45%\n",
      "Zeros in column #240 (v3_s2_amplitude_mvolt)            :  99.48%\n",
      "Zeros in column #241 (v3_p_amplitude_mvolt)             :  11.14%\n",
      "Zeros in column #245 (v4_j_point_depression_mvolt)      :  10.88%\n",
      "Zeros in column #246 (v4_q_amplitude_mvolt)             :  90.93%\n",
      "Zeros in column #248 (v4_s_amplitude_mvolt)             :   1.81%\n",
      "Zeros in column #249 (v4_r2_amplitude_mvolt)            :  96.63%\n",
      "Zeros in column #250 (v4_s2_amplitude_mvolt)            :  99.48%\n",
      "Zeros in column #251 (v4_p_amplitude_mvolt)             :   0.78%\n",
      "Zeros in column #253 (v4_qrsa)                          :   1.30%\n",
      "Zeros in column #255 (v5_j_point_depression_mvolt)      :  12.44%\n",
      "Zeros in column #256 (v5_q_amplitude_mvolt)             :  79.53%\n",
      "Zeros in column #257 (v5_r_amplitude_mvolt)             :   0.26%\n",
      "Zeros in column #258 (v5_s_amplitude_mvolt)             :   6.48%\n",
      "Zeros in column #259 (v5_r2_amplitude_mvolt)            :  98.96%\n",
      "Zeros in column #260 (v5_s2_amplitude_mvolt)            : 100.00%  # ALL ZEROS!!\n",
      "Zeros in column #261 (v5_p_amplitude_mvolt)             :   1.04%\n",
      "Zeros in column #264 (v5_qrsta)                         :   0.26%\n",
      "Zeros in column #265 (v6_j_point_depression_mvolt)      :  12.18%\n",
      "Zeros in column #266 (v6_q_amplitude_mvolt)             :  70.73%\n",
      "Zeros in column #268 (v6_s_amplitude_mvolt)             :  31.35%\n",
      "Zeros in column #269 (v6_r2_amplitude_mvolt)            :  99.48%\n",
      "Zeros in column #270 (v6_s2_amplitude_mvolt)            : 100.00%  # ALL ZEROS!!\n",
      "Zeros in column #271 (v6_p_amplitude_mvolt)             :   1.04%\n",
      "\n",
      "Count of rows                          : 386\n",
      "Count of numeric columns               : 203\n",
      "Count of numeric columns with zeros    : 165\n",
      "Count of numeric columns with all zeros:   8\n",
      "Count of zero values                   :   8\n"
     ]
    }
   ],
   "source": [
    "num_cols = 0\n",
    "num_cols_with_zeros = 0\n",
    "num_cols_with_all_zeros = 0\n",
    "num_zero_values = 0\n",
    "\n",
    "for k, col_name in enumerate(uci2_df.columns):\n",
    "    if col_name == 'sex' or col_name.find('_is_') > -1:\n",
    "        continue\n",
    "    num_cols += 1\n",
    "    zero_count = uci2_df[uci2_df[col_name] == 0].shape[0]\n",
    "    if zero_count == 0:\n",
    "        continue\n",
    "    num_cols_with_zeros += 1\n",
    "    num_zero_values += zero_count\n",
    "    \n",
    "    is_all_zeros = zero_count == uci2_df.shape[0]\n",
    "    if is_all_zeros:\n",
    "        num_cols_with_all_zeros += 1\n",
    "        all_zero_alert = '  # ALL ZEROS!!'\n",
    "    else:\n",
    "        all_zero_alert = ''\n",
    "\n",
    "    zero_pct = 100.0 * zero_count / uci2_df.shape[0]\n",
    "    print(f'Zeros in column #{k:3d} {\"(\" + col_name + \")\":35s}: {zero_pct:>6.2f}%{all_zero_alert}')\n",
    "\n",
    "print()\n",
    "print(f'Count of rows                          : {uci2_df.shape[0]:3d}')\n",
    "print(f'Count of numeric columns               : {num_cols:3d}')\n",
    "print(f'Count of numeric columns with zeros    : {num_cols_with_zeros:3d}')\n",
    "print(f'Count of numeric columns with all zeros: {num_cols_with_all_zeros:3d}')\n",
    "print(f'Count of zero values                   : {num_cols_with_all_zeros:3d}')"
   ]
  },
  {
   "cell_type": "code",
   "execution_count": 29,
   "metadata": {},
   "outputs": [
    {
     "data": {
      "text/plain": [
       "(386, 276)"
      ]
     },
     "execution_count": 29,
     "metadata": {},
     "output_type": "execute_result"
    }
   ],
   "source": [
    "uci2_df.shape"
   ]
  },
  {
   "cell_type": "markdown",
   "metadata": {},
   "source": [
    "<hr style=\"height:5px;margin:auto;width:100%\"/>"
   ]
  },
  {
   "cell_type": "markdown",
   "metadata": {},
   "source": [
    "# Create balanced dataset (uci_bal_df)"
   ]
  },
  {
   "cell_type": "code",
   "execution_count": 30,
   "metadata": {
    "collapsed": true
   },
   "outputs": [],
   "source": [
    "def oversampled(X, y, max_per_class_multiple=10):\n",
    "    Xy = pd.concat([X, y], axis=1)\n",
    "    cntr = Counter(y)\n",
    "    assert(len(cntr) == num_classes)\n",
    "    max_per_class = max(cntr.values())\n",
    "    goal_class_size = max_per_class * max_per_class_multiple\n",
    "    oversample_dfs = {}\n",
    "    for k in range(num_classes):\n",
    "        target_val = filtered_class_ids[k]\n",
    "        mask = Xy[TARGET_COL] == target_val\n",
    "        oversample_count = goal_class_size - cntr[target_val]\n",
    "        oversample_dfs[filtered_class_ids[k]] = resample(\n",
    "            Xy[mask], replace=True, n_samples=oversample_count, random_state=RANDOM_SEED)\n",
    "    Xy_oversampled = pd.concat([Xy] + list(oversample_dfs.values()), axis=0).copy()\n",
    "    return Xy_oversampled.iloc[:, :-1], Xy_oversampled.iloc[:,-1]"
   ]
  },
  {
   "cell_type": "markdown",
   "metadata": {},
   "source": [
    "<hr style=\"height:5px;margin:auto;width:100%\"/>"
   ]
  },
  {
   "cell_type": "markdown",
   "metadata": {},
   "source": [
    "# Define X & y"
   ]
  },
  {
   "cell_type": "code",
   "execution_count": 31,
   "metadata": {
    "collapsed": true
   },
   "outputs": [],
   "source": [
    "X = uci2_df.iloc[:,:-1].copy().drop(cols_to_drop, axis=1, errors='ignore')\n",
    "X = sm.add_constant(X)\n",
    "y = uci2_df[TARGET_COL]\n",
    "def get_y_multi(y):\n",
    "    y_dict = {k: (y[:] == filtered_class_ids[k]).astype(int)\n",
    "                for k in range(num_classes)}\n",
    "    y_multi = pd.concat([y_dict[k] for k in range(num_classes)], axis=1)\n",
    "    y_multi.columns = list(map(lambda x: TARGET_COL + '_' + x, filtered_class_names))\n",
    "    return y_multi"
   ]
  },
  {
   "cell_type": "code",
   "execution_count": 32,
   "metadata": {},
   "outputs": [
    {
     "data": {
      "text/plain": [
       "(386,)"
      ]
     },
     "execution_count": 32,
     "metadata": {},
     "output_type": "execute_result"
    }
   ],
   "source": [
    "y.shape"
   ]
  },
  {
   "cell_type": "code",
   "execution_count": 33,
   "metadata": {},
   "outputs": [
    {
     "data": {
      "text/html": [
       "<div>\n",
       "<style>\n",
       "    .dataframe thead tr:only-child th {\n",
       "        text-align: right;\n",
       "    }\n",
       "\n",
       "    .dataframe thead th {\n",
       "        text-align: left;\n",
       "    }\n",
       "\n",
       "    .dataframe tbody tr th {\n",
       "        vertical-align: top;\n",
       "    }\n",
       "</style>\n",
       "<table border=\"1\" class=\"dataframe\">\n",
       "  <thead>\n",
       "    <tr style=\"text-align: right;\">\n",
       "      <th></th>\n",
       "      <th>arrhythmia_code_Normal_EKG</th>\n",
       "      <th>arrhythmia_code_Ischemic_changes</th>\n",
       "      <th>arrhythmia_code_Sinus_bradycardia</th>\n",
       "      <th>arrhythmia_code_R._bundle_branch_block</th>\n",
       "      <th>arrhythmia_code_Other</th>\n",
       "    </tr>\n",
       "  </thead>\n",
       "  <tbody>\n",
       "    <tr>\n",
       "      <th>1</th>\n",
       "      <td>0</td>\n",
       "      <td>0</td>\n",
       "      <td>1</td>\n",
       "      <td>0</td>\n",
       "      <td>0</td>\n",
       "    </tr>\n",
       "    <tr>\n",
       "      <th>2</th>\n",
       "      <td>0</td>\n",
       "      <td>0</td>\n",
       "      <td>0</td>\n",
       "      <td>1</td>\n",
       "      <td>0</td>\n",
       "    </tr>\n",
       "    <tr>\n",
       "      <th>3</th>\n",
       "      <td>1</td>\n",
       "      <td>0</td>\n",
       "      <td>0</td>\n",
       "      <td>0</td>\n",
       "      <td>0</td>\n",
       "    </tr>\n",
       "    <tr>\n",
       "      <th>6</th>\n",
       "      <td>1</td>\n",
       "      <td>0</td>\n",
       "      <td>0</td>\n",
       "      <td>0</td>\n",
       "      <td>0</td>\n",
       "    </tr>\n",
       "    <tr>\n",
       "      <th>7</th>\n",
       "      <td>1</td>\n",
       "      <td>0</td>\n",
       "      <td>0</td>\n",
       "      <td>0</td>\n",
       "      <td>0</td>\n",
       "    </tr>\n",
       "  </tbody>\n",
       "</table>\n",
       "</div>"
      ],
      "text/plain": [
       "   arrhythmia_code_Normal_EKG  arrhythmia_code_Ischemic_changes  \\\n",
       "1                           0                                 0   \n",
       "2                           0                                 0   \n",
       "3                           1                                 0   \n",
       "6                           1                                 0   \n",
       "7                           1                                 0   \n",
       "\n",
       "   arrhythmia_code_Sinus_bradycardia  arrhythmia_code_R._bundle_branch_block  \\\n",
       "1                                  1                                       0   \n",
       "2                                  0                                       1   \n",
       "3                                  0                                       0   \n",
       "6                                  0                                       0   \n",
       "7                                  0                                       0   \n",
       "\n",
       "   arrhythmia_code_Other  \n",
       "1                      0  \n",
       "2                      0  \n",
       "3                      0  \n",
       "6                      0  \n",
       "7                      0  "
      ]
     },
     "execution_count": 33,
     "metadata": {},
     "output_type": "execute_result"
    }
   ],
   "source": [
    "y_multi = get_y_multi(y)\n",
    "y_multi.head()"
   ]
  },
  {
   "cell_type": "code",
   "execution_count": 34,
   "metadata": {},
   "outputs": [
    {
     "data": {
      "text/plain": [
       "((386, 276), (386,), (386, 5))"
      ]
     },
     "execution_count": 34,
     "metadata": {},
     "output_type": "execute_result"
    }
   ],
   "source": [
    "X.shape, y.shape, y_multi.shape"
   ]
  },
  {
   "cell_type": "markdown",
   "metadata": {},
   "source": [
    "<hr style=\"height:5px;margin:auto;width:100%\"/>"
   ]
  },
  {
   "cell_type": "markdown",
   "metadata": {},
   "source": [
    "# Logistic regression"
   ]
  },
  {
   "cell_type": "code",
   "execution_count": 35,
   "metadata": {},
   "outputs": [
    {
     "data": {
      "text/plain": [
       "((386, 276), (386,))"
      ]
     },
     "execution_count": 35,
     "metadata": {},
     "output_type": "execute_result"
    }
   ],
   "source": [
    "X.shape, y.shape"
   ]
  },
  {
   "cell_type": "code",
   "execution_count": 36,
   "metadata": {
    "collapsed": true
   },
   "outputs": [],
   "source": [
    "X_train, X_test, y_train, y_test = train_test_split(X, y, test_size=0.5, random_state=RANDOM_SEED\n",
    "                                                   , stratify=y)"
   ]
  },
  {
   "cell_type": "code",
   "execution_count": 37,
   "metadata": {},
   "outputs": [
    {
     "data": {
      "text/plain": [
       "((193, 276), (193, 276), (193,), (193,))"
      ]
     },
     "execution_count": 37,
     "metadata": {},
     "output_type": "execute_result"
    }
   ],
   "source": [
    "X_train.shape, X_test.shape, y_train.shape, y_test.shape"
   ]
  },
  {
   "cell_type": "code",
   "execution_count": 38,
   "metadata": {
    "collapsed": true
   },
   "outputs": [],
   "source": [
    "logreg_cs = [10**k for k in range(-9, 10)]"
   ]
  },
  {
   "cell_type": "code",
   "execution_count": 39,
   "metadata": {
    "collapsed": true
   },
   "outputs": [],
   "source": [
    "def one_vs_rest_logistic_regression_classifier(X_train, y_train, X_test, y_test, *_, seed, over):\n",
    "    X_train_over, y_train_over = oversampled(X_train, y_train, over)\n",
    "    X_test_over, y_test_over = oversampled(X_test, y_test, over)\n",
    "    print('Shapes of X_train     , y_train     , X_test     , y_test      = {}, {}, {}, {}'\n",
    "          .format(X_train.shape, y_train.shape, X_test.shape, y_test.shape)\n",
    "          )\n",
    "    print('Shapes of X_train_over, y_train_over, X_test_over, y_test_over = {}, {}, {}, {}'\n",
    "          .format(X_train_over.shape, y_train_over.shape, X_test_over.shape, y_test_over.shape)\n",
    "          )\n",
    "    classifier_cv = OneVsRestClassifier(LogisticRegressionCV(\n",
    "        Cs=tuple(logreg_cs), cv=2,fit_intercept=True, refit=False))\n",
    "    classifier_cv.fit(X_train_over, y_train_over).predict_proba(X_test_over)\n",
    "    logreg_reg_param = gmean([est.C_ for est in classifier_cv.estimators_])[0]\n",
    "    classifier = OneVsRestClassifier(LogisticRegression(\n",
    "        C=logreg_reg_param, fit_intercept=True))\n",
    "    classifier.fit(X_train_over, y_train_over).predict_proba(X_test_over)\n",
    "\n",
    "    fprs = {}\n",
    "    tprs = {}\n",
    "    roc_aucs = {}\n",
    "    y_test_multi = get_y_multi(y_test_over)\n",
    "\n",
    "    for k in range(num_classes):\n",
    "        # cid = filtered_class_ids[k]\n",
    "        est = classifier.estimators_[k]\n",
    "        logreg_proba = est.predict_proba(X_test_over)[:,1]\n",
    "        fprs[k], tprs[k], _ = roc_curve(y_test_multi.iloc[:,k], logreg_proba)\n",
    "        roc_aucs[k] = auc(fprs[k], tprs[k])\n",
    "    \n",
    "    lw = 2\n",
    "    all_fpr = np.unique(np.concatenate([fprs[k] for k in range(num_classes)]))\n",
    "    mean_tpr = np.zeros_like(all_fpr)\n",
    "    for k in range(num_classes):\n",
    "        mean_tpr += interp(all_fpr, fprs[k], tprs[k])\n",
    "    mean_tpr /= num_classes\n",
    "\n",
    "    fpr_macro = all_fpr\n",
    "    tpr_macro = mean_tpr\n",
    "    roc_auc_macro = auc(fpr_macro, tpr_macro)\n",
    "\n",
    "    # Plot all ROC curves\n",
    "    plt.figure()\n",
    "    plt.plot(fpr_macro, tpr_macro\n",
    "             , label='Macro-avg ROC curve'.format(roc_auc_macro)\n",
    "             , color='navy', linestyle=':', linewidth=lw)\n",
    "    colors = cycle(['maroon', 'darkorange', 'forestgreen', 'blue', 'red', 'darkviolet'])\n",
    "    for k, color in zip(range(num_classes), colors):\n",
    "        lbl = 'ROC curve of class {0} ({1})'.format(\n",
    "                filtered_class_ids[k]\n",
    "                , arrhythmia_code_to_name(filtered_class_ids[k]).replace('_', ' ')\n",
    "                )\n",
    "        # padding = ' ' * min(0, (50 - len(lbl)))  # Does pyplot eat extra white space?\n",
    "        plt.plot(fprs[k], tprs[k], color=color, lw=lw, label=lbl) # (area=roc_aucs[k])\n",
    "\n",
    "    plt.plot([0, 1], [0, 1], 'k--', lw=lw)\n",
    "    plt.xlim([0.0, 1.0])\n",
    "    plt.ylim([0.0, 1.05])\n",
    "    plt.xlabel('False Positive Rate')\n",
    "    plt.ylabel('True Positive Rate')\n",
    "    plt.title('ROC for multi-class LogisticRegression')\n",
    "    plt.legend(bbox_to_anchor=(0.6, 0.05), loc=3, borderaxespad=0.\n",
    "               , frameon=True, facecolor='w', framealpha=1.0)\n",
    "    plt.show()\n",
    "    return classifier"
   ]
  },
  {
   "cell_type": "code",
   "execution_count": 40,
   "metadata": {},
   "outputs": [
    {
     "name": "stdout",
     "output_type": "stream",
     "text": [
      "Shapes of X_train     , y_train     , X_test     , y_test      = (193, 276), (193,), (193, 276), (193,)\n",
      "Shapes of X_train_over, y_train_over, X_test_over, y_test_over = (6150, 276), (6150,), (6100, 276), (6100,)\n"
     ]
    },
    {
     "data": {
      "image/png": "[encoded data removed]",
      "text/plain": [
       "<matplotlib.figure.Figure at 0x105f43d30>"
      ]
     },
     "metadata": {},
     "output_type": "display_data"
    }
   ],
   "source": [
    "log_reg_classifier = one_vs_rest_logistic_regression_classifier(\n",
    "    X_train, y_train, X_test, y_test, seed=RANDOM_SEED, over=10)"
   ]
  },
  {
   "cell_type": "markdown",
   "metadata": {},
   "source": [
    "## Logistic regression: Averaging across sensors"
   ]
  },
  {
   "cell_type": "code",
   "execution_count": 41,
   "metadata": {
    "collapsed": true
   },
   "outputs": [],
   "source": [
    "def prefixes_item(prefixes, item):\n",
    "    return [prefix + '_' + item for prefix in prefixes]\n",
    "\n",
    "base_col_names = [col for col in ColNames.base_col_names if col in X.columns]\n",
    "Xavg = X[base_col_names].copy()\n",
    "for t_attr in ColNames.t_attrs:\n",
    "    t_cols = [col for col in prefixes_item(ColNames.sensors, t_attr) if col in X.columns]\n",
    "    def avg_cols(row):\n",
    "        return sum([row[col] for col in t_cols]) / len(t_cols)\n",
    "\n",
    "    Xavg[t_attr] = X[t_cols].apply(avg_cols, axis=1)\n",
    "\n",
    "for v_attr in ColNames.v_attrs:\n",
    "    v_cols = [col for col in prefixes_item(ColNames.sensors, v_attr) if col in X.columns]\n",
    "    def avg_cols(row):\n",
    "        return sum([row[col] for col in v_cols]) / len(v_cols)\n",
    "    \n",
    "    Xavg[v_attr] = X[v_cols].apply(avg_cols, axis=1)"
   ]
  },
  {
   "cell_type": "code",
   "execution_count": 42,
   "metadata": {},
   "outputs": [
    {
     "data": {
      "text/html": [
       "<div>\n",
       "<style>\n",
       "    .dataframe thead tr:only-child th {\n",
       "        text-align: right;\n",
       "    }\n",
       "\n",
       "    .dataframe thead th {\n",
       "        text-align: left;\n",
       "    }\n",
       "\n",
       "    .dataframe tbody tr th {\n",
       "        vertical-align: top;\n",
       "    }\n",
       "</style>\n",
       "<table border=\"1\" class=\"dataframe\">\n",
       "  <thead>\n",
       "    <tr style=\"text-align: right;\">\n",
       "      <th></th>\n",
       "      <th>age</th>\n",
       "      <th>sex</th>\n",
       "      <th>height</th>\n",
       "      <th>weight</th>\n",
       "      <th>qrs_duration_msec</th>\n",
       "      <th>p_onset_to_q_onset_msec</th>\n",
       "      <th>q_onset_to_t_offset_msec</th>\n",
       "      <th>duration_between_t_waves_msec</th>\n",
       "      <th>duration_between_p_waves_msec</th>\n",
       "      <th>qrs_front_plane_deg</th>\n",
       "      <th>heart_rate_bpm</th>\n",
       "      <th>q_width_msec</th>\n",
       "      <th>r_width_msec</th>\n",
       "      <th>s_width_msec</th>\n",
       "      <th>r2_width_msec</th>\n",
       "      <th>s2_width_msec</th>\n",
       "      <th>intrinsic_deflections</th>\n",
       "      <th>is_present_diphasic_r</th>\n",
       "      <th>is_present_notched_r</th>\n",
       "      <th>is_present_notched_p</th>\n",
       "      <th>is_present_diphasic_p</th>\n",
       "      <th>is_present_notched_t</th>\n",
       "      <th>is_present_diphasic_t</th>\n",
       "      <th>j_point_depression_mvolt</th>\n",
       "      <th>q_amplitude_mvolt</th>\n",
       "      <th>r_amplitude_mvolt</th>\n",
       "      <th>s_amplitude_mvolt</th>\n",
       "      <th>r2_amplitude_mvolt</th>\n",
       "      <th>s2_amplitude_mvolt</th>\n",
       "      <th>p_amplitude_mvolt</th>\n",
       "      <th>t_amplitude_mvolt</th>\n",
       "      <th>qrsa</th>\n",
       "      <th>qrsta</th>\n",
       "    </tr>\n",
       "  </thead>\n",
       "  <tbody>\n",
       "    <tr>\n",
       "      <th>314</th>\n",
       "      <td>64</td>\n",
       "      <td>0</td>\n",
       "      <td>167</td>\n",
       "      <td>72</td>\n",
       "      <td>85</td>\n",
       "      <td>154</td>\n",
       "      <td>352</td>\n",
       "      <td>152</td>\n",
       "      <td>69</td>\n",
       "      <td>13</td>\n",
       "      <td>70.0</td>\n",
       "      <td>7.666667</td>\n",
       "      <td>36.666667</td>\n",
       "      <td>31.0</td>\n",
       "      <td>0.0</td>\n",
       "      <td>0.0</td>\n",
       "      <td>24.0</td>\n",
       "      <td>0.0</td>\n",
       "      <td>0.0</td>\n",
       "      <td>0.0</td>\n",
       "      <td>0.0</td>\n",
       "      <td>0.0</td>\n",
       "      <td>0.0</td>\n",
       "      <td>0.05</td>\n",
       "      <td>-0.75</td>\n",
       "      <td>4.941667</td>\n",
       "      <td>-3.125</td>\n",
       "      <td>0.0</td>\n",
       "      <td>0.0</td>\n",
       "      <td>0.225</td>\n",
       "      <td>1.608333</td>\n",
       "      <td>2.133333</td>\n",
       "      <td>16.15</td>\n",
       "    </tr>\n",
       "  </tbody>\n",
       "</table>\n",
       "</div>"
      ],
      "text/plain": [
       "     age  sex  height  weight  qrs_duration_msec  p_onset_to_q_onset_msec  \\\n",
       "314   64    0     167      72                 85                      154   \n",
       "\n",
       "     q_onset_to_t_offset_msec  duration_between_t_waves_msec  \\\n",
       "314                       352                            152   \n",
       "\n",
       "     duration_between_p_waves_msec  qrs_front_plane_deg  heart_rate_bpm  \\\n",
       "314                             69                   13            70.0   \n",
       "\n",
       "     q_width_msec  r_width_msec  s_width_msec  r2_width_msec  s2_width_msec  \\\n",
       "314      7.666667     36.666667          31.0            0.0            0.0   \n",
       "\n",
       "     intrinsic_deflections  is_present_diphasic_r  is_present_notched_r  \\\n",
       "314                   24.0                    0.0                   0.0   \n",
       "\n",
       "     is_present_notched_p  is_present_diphasic_p  is_present_notched_t  \\\n",
       "314                   0.0                    0.0                   0.0   \n",
       "\n",
       "     is_present_diphasic_t  j_point_depression_mvolt  q_amplitude_mvolt  \\\n",
       "314                    0.0                      0.05              -0.75   \n",
       "\n",
       "     r_amplitude_mvolt  s_amplitude_mvolt  r2_amplitude_mvolt  \\\n",
       "314           4.941667             -3.125                 0.0   \n",
       "\n",
       "     s2_amplitude_mvolt  p_amplitude_mvolt  t_amplitude_mvolt      qrsa  qrsta  \n",
       "314                 0.0              0.225           1.608333  2.133333  16.15  "
      ]
     },
     "execution_count": 42,
     "metadata": {},
     "output_type": "execute_result"
    }
   ],
   "source": [
    "Xavg.sample()"
   ]
  },
  {
   "cell_type": "code",
   "execution_count": 43,
   "metadata": {
    "collapsed": true
   },
   "outputs": [],
   "source": [
    "Xavg_train, Xavg_test, yavg_train, yavg_test = train_test_split(\n",
    "    Xavg, y, test_size=0.5, random_state=RANDOM_SEED, stratify=y)"
   ]
  },
  {
   "cell_type": "code",
   "execution_count": 44,
   "metadata": {},
   "outputs": [
    {
     "data": {
      "text/plain": [
       "((193, 33), (193,), (193, 33), (193,))"
      ]
     },
     "execution_count": 44,
     "metadata": {},
     "output_type": "execute_result"
    }
   ],
   "source": [
    "Xavg_train.shape, yavg_train.shape, Xavg_test.shape, yavg_test.shape"
   ]
  },
  {
   "cell_type": "code",
   "execution_count": 45,
   "metadata": {
    "scrolled": false
   },
   "outputs": [
    {
     "name": "stdout",
     "output_type": "stream",
     "text": [
      "Shapes of X_train     , y_train     , X_test     , y_test      = (193, 33), (193,), (193, 33), (193,)\n",
      "Shapes of X_train_over, y_train_over, X_test_over, y_test_over = (6150, 33), (6150,), (6100, 33), (6100,)\n"
     ]
    },
    {
     "data": {
      "image/png": "[encoded data removed]",
      "text/plain": [
       "<matplotlib.figure.Figure at 0x107cd7c50>"
      ]
     },
     "metadata": {},
     "output_type": "display_data"
    },
    {
     "data": {
      "text/plain": [
       "OneVsRestClassifier(estimator=LogisticRegression(C=5.7664087182586385, class_weight=None, dual=False,\n",
       "          fit_intercept=True, intercept_scaling=1, max_iter=100,\n",
       "          multi_class='ovr', n_jobs=1, penalty='l2', random_state=None,\n",
       "          solver='liblinear', tol=0.0001, verbose=0, warm_start=False),\n",
       "          n_jobs=1)"
      ]
     },
     "execution_count": 45,
     "metadata": {},
     "output_type": "execute_result"
    }
   ],
   "source": [
    "one_vs_rest_logistic_regression_classifier(Xavg_train, yavg_train, Xavg_test, yavg_test\n",
    "                                           , seed=RANDOM_SEED, over=10)"
   ]
  },
  {
   "cell_type": "markdown",
   "metadata": {},
   "source": [
    "<hr style=\"height:5px;margin:auto;width:100%\"/>"
   ]
  },
  {
   "cell_type": "markdown",
   "metadata": {},
   "source": [
    "# Distribution of Logistic Regression ROC AUC values"
   ]
  },
  {
   "cell_type": "code",
   "execution_count": 46,
   "metadata": {
    "collapsed": true
   },
   "outputs": [],
   "source": [
    "runs_columns = '''full_macro\n",
    "                full_1 full_2 full_6 full_10 full_16\n",
    "                avg_macro\n",
    "                avg_1 avg_2 avg_6 avg_10 avg_16'''.split()\n",
    "\n",
    "runs = {}\n",
    "runs[40] = [0.7061, 0.6942, 0.8541, 0.8049, 0.9012, 0.2727\n",
    "            , 0.7457, 0.7286, 0.8901, 0.9285, 0.8216, 0.3568]\n",
    "runs[41] = [0.7515, 0.7143, 0.8357, 0.8885, 0.8938, 0.4226\n",
    "            , 0.7748, 0.7399, 0.9053, 0.8588, 0.8103, 0.5547]\n",
    "runs[42] = [0.7336, 0.6413, 0.8434, 0.8298, 0.9111, 0.4395\n",
    "            , 0.7542, 0.7238, 0.9035, 0.9214, 0.8270, 0.3892]\n",
    "runs[43] = [0.7834, 0.6727, 0.9121, 0.8331, 0.8444, 0.6514\n",
    "            , 0.7452, 0.6471, 0.8568, 0.9236, 0.6640, 0.6309]\n",
    "runs[44] = [0.7382, 0.7205, 0.8616, 0.6976, 0.8928, 0.5142\n",
    "            , 0.8195, 0.7721, 0.8716, 0.9186, 0.8955, 0.6368]\n",
    "runs[45] = [0.7502, 0.6644, 0.7804, 0.8805, 0.9358, 0.4855\n",
    "            , 0.7788, 0.6765, 0.9104, 0.9617, 0.7558, 0.5863]\n",
    "runs[46] = [0.7576, 0.7022, 0.8578, 0.8415, 0.8858, 0.4963\n",
    "            , 0.7676, 0.7519, 0.8961, 0.9141, 0.8152, 0.4573]\n",
    "runs[47] = [0.7279, 0.6292, 0.8376, 0.7747, 0.8931, 0.5015\n",
    "            , 0.7883, 0.7985, 0.8826, 0.8997, 0.8320, 0.5257]\n",
    "runs[48] = [0.7928, 0.7004, 0.8722, 0.9233, 0.9578, 0.5061\n",
    "            , 0.8030, 0.7669, 0.8924, 0.9417, 0.8617, 0.5489]\n",
    "runs[49] = [0.7296, 0.5994, 0.8407, 0.8198, 0.9165, 0.4675\n",
    "            , 0.7712, 0.7425, 0.8903, 0.9238, 0.8249, 0.4713]\n",
    "runs[50] = [0.7469, 0.5645, 0.8406, 0.8677, 0.9408, 0.5172\n",
    "            , 0.7874, 0.7115, 0.8480, 0.9160, 0.8422, 0.6161]\n",
    "runs[51] = [0.6996, 0.6415, 0.8434, 0.8246, 0.8565, 0.3285\n",
    "            , 0.7823, 0.7326, 0.9398, 0.9526, 0.7512, 0.5323]\n",
    "runs[52] = [0.7508, 0.7099, 0.8545, 0.8219, 0.9185, 0.4455\n",
    "            , 0.7266, 0.7567, 0.8773, 0.8701, 0.7817, 0.3429]\n",
    "runs[53] = [0.7367, 0.6333, 0.8858, 0.8447, 0.8930, 0.4232\n",
    "            , 0.7070, 0.6980, 0.8649, 0.9079, 0.6310, 0.4298]\n",
    "runs[54] = [0.7107, 0.6490, 0.8006, 0.8999, 0.9037, 0.2958\n",
    "            , 0.7400, 0.6700, 0.7927, 0.9391, 0.7751, 0.5202]\n",
    "runs[55] = [0.7405, 0.6774, 0.8825, 0.8046, 0.9391, 0.3964\n",
    "            , 0.7806, 0.7476, 0.8946, 0.8896, 0.8411, 0.5274]\n",
    "runs[56] = [0.7532, 0.6763, 0.8265, 0.8934, 0.9161, 0.4507\n",
    "            , 0.7553, 0.7390, 0.9058, 0.9492, 0.7999, 0.3796]\n",
    "runs[57] = [0.7275, 0.6833, 0.7752, 0.8357, 0.9073, 0.4325\n",
    "            , 0.7723, 0.7114, 0.8856, 0.9380, 0.7498, 0.5726]\n",
    "runs[58] = [0.7378, 0.6461, 0.8453, 0.9032, 0.9117, 0.3794\n",
    "            , 0.7443, 0.7016, 0.8781, 0.9504, 0.7556, 0.4327]\n",
    "runs[59] = [0.7295, 0.6148, 0.8178, 0.8655, 0.9293, 0.4174\n",
    "            , 0.7680, 0.7176, 0.8431, 0.9307, 0.8361, 0.5090]\n",
    "runs[60] = [0.7104, 0.6793, 0.8798, 0.6139, 0.9331, 0.4426\n",
    "            , 0.7682, 0.7143, 0.8890, 0.8483, 0.7949, 0.5910]\n",
    "runs[61] = [0.7554, 0.5891, 0.8027, 0.9204, 0.9258, 0.5356\n",
    "            , 0.7750, 0.7906, 0.8840, 0.9263, 0.8665, 0.4442]\n",
    "runs[62] = [0.7442, 0.7098, 0.8538, 0.8561, 0.8500, 0.4475\n",
    "            , 0.7582, 0.7314, 0.8600, 0.9107, 0.8100, 0.4752]\n",
    "runs[63] = [0.7024, 0.6409, 0.8642, 0.7816, 0.8375, 0.3845\n",
    "            , 0.6990, 0.6471, 0.8640, 0.9429, 0.6615, 0.3747]\n",
    "runs[64] = [0.7406, 0.6180, 0.8721, 0.8480, 0.8885, 0.4726\n",
    "            , 0.7814, 0.7107, 0.8950, 0.9476, 0.8476, 0.5030]"
   ]
  },
  {
   "cell_type": "code",
   "execution_count": 47,
   "metadata": {
    "collapsed": true
   },
   "outputs": [],
   "source": [
    "runs_array = np.array(list(runs.values()))\n",
    "runs_df = pd.DataFrame(runs_array, columns=runs_columns)"
   ]
  },
  {
   "cell_type": "code",
   "execution_count": 48,
   "metadata": {},
   "outputs": [
    {
     "data": {
      "text/plain": [
       "full_macro    0.738284\n",
       "full_1        0.658872\n",
       "full_2        0.845616\n",
       "full_6        0.834996\n",
       "full_10       0.903328\n",
       "full_16       0.445068\n",
       "avg_macro     0.763756\n",
       "avg_1         0.725116\n",
       "avg_2         0.880840\n",
       "avg_6         0.920452\n",
       "avg_10        0.794088\n",
       "avg_16        0.496344\n",
       "dtype: float64"
      ]
     },
     "execution_count": 48,
     "metadata": {},
     "output_type": "execute_result"
    }
   ],
   "source": [
    "runs_df.mean()"
   ]
  },
  {
   "cell_type": "code",
   "execution_count": 49,
   "metadata": {},
   "outputs": [
    {
     "data": {
      "text/plain": [
       "full_macro    0.004518\n",
       "full_1        0.008412\n",
       "full_2        0.006504\n",
       "full_6        0.013642\n",
       "full_10       0.006228\n",
       "full_16       0.015869\n",
       "avg_macro     0.005478\n",
       "avg_1         0.007777\n",
       "avg_2         0.005634\n",
       "avg_6         0.005813\n",
       "avg_10        0.013092\n",
       "avg_16        0.017408\n",
       "dtype: float64"
      ]
     },
     "execution_count": 49,
     "metadata": {},
     "output_type": "execute_result"
    }
   ],
   "source": [
    "runs_df.std() / sqrt(runs_df.shape[0])"
   ]
  }
 ],
 "metadata": {
  "kernelspec": {
   "display_name": "Python 3",
   "language": "python",
   "name": "python3"
  },
  "language_info": {
   "codemirror_mode": {
    "name": "ipython",
    "version": 3
   },
   "file_extension": ".py",
   "mimetype": "text/x-python",
   "name": "python",
   "nbconvert_exporter": "python",
   "pygments_lexer": "ipython3",
   "version": "3.6.3"
  },
  "varInspector": {
   "cols": {
    "lenName": 16,
    "lenType": 16,
    "lenVar": 40
   },
   "kernels_config": {
    "python": {
     "delete_cmd_postfix": "",
     "delete_cmd_prefix": "del ",
     "library": "var_list.py",
     "varRefreshCmd": "print(var_dic_list())"
    },
    "r": {
     "delete_cmd_postfix": ") ",
     "delete_cmd_prefix": "rm(",
     "library": "var_list.r",
     "varRefreshCmd": "cat(var_dic_list()) "
    }
   },
   "types_to_exclude": [
    "module",
    "function",
    "builtin_function_or_method",
    "instance",
    "_Feature"
   ],
   "window_display": false
  }
 },
 "nbformat": 4,
 "nbformat_minor": 2
}
