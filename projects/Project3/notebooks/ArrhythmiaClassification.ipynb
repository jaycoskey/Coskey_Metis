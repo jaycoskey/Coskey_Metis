{
 "cells": [
  {
   "cell_type": "code",
   "execution_count": 136,
   "metadata": {},
   "outputs": [],
   "source": [
    "from collections import Counter\n",
    "import numpy as np\n",
    "import pandas as pd\n",
    "from scipy.stats.mstats import gmean\n",
    "from sklearn.linear_model import LogisticRegression, LogisticRegressionCV\n",
    "from sklearn.metrics import classification_report, confusion_matrix\n",
    "from sklearn.model_selection import train_test_split\n",
    "import statsmodels.api as sm\n",
    "import statsmodels.formula.api as smf"
   ]
  },
  {
   "cell_type": "code",
   "execution_count": 4,
   "metadata": {
    "collapsed": true
   },
   "outputs": [],
   "source": [
    "pd.set_option(\"display.max_columns\",500)\n",
    "pd.set_option(\"display.max_rows\",50)"
   ]
  },
  {
   "cell_type": "code",
   "execution_count": 134,
   "metadata": {
    "collapsed": true
   },
   "outputs": [],
   "source": [
    "# From https://gist.github.com/rspeare/77061e6e317896be29c6de9a85db301d\n",
    "class LogisticReg:\n",
    "    \"\"\"\n",
    "    Wrapper Class for Logistic Regression which has the usual sklearn instance \n",
    "    in an attribute self.model, and pvalues, z scores and estimated \n",
    "    errors for each coefficient in \n",
    "    \n",
    "    self.z_scores\n",
    "    self.p_values\n",
    "    self.sigma_estimates\n",
    "    \n",
    "    as well as the negative hessian of the log Likelihood (Fisher information)\n",
    "    \n",
    "    self.F_ij\n",
    "    \"\"\"\n",
    "    \n",
    "    def __init__(self,*args,**kwargs):#,**kwargs):\n",
    "        self.model = LogisticRegression(*args,**kwargs)#,**args)\n",
    "\n",
    "    def fit(self,X,y):\n",
    "        self.model.fit(X,y)\n",
    "        #### Get p-values for the fitted model ####\n",
    "        denom = (2.0*(1.0+np.cosh(self.model.decision_function(X))))\n",
    "        denom = np.tile(denom,(X.shape[1],1)).T  # From rizzomichaelg\n",
    "        # F_ij = np.dot((X/denom[:,None]).T,X) ## Fisher Information Matrix\n",
    "        F_ij = np.dot((X/denom).T,X) ## Fisher Information Matrix  # From rizzomichaelg\n",
    "        Cramer_Rao = np.linalg.inv(F_ij) ## Inverse Information Matrix\n",
    "        sigma_estimates = np.array([np.sqrt(Cramer_Rao[i,i]) for i in range(Cramer_Rao.shape[0])]) # sigma for each coefficient\n",
    "        z_scores = self.model.coef_[0]/sigma_estimates # z-score for eaach model coefficient\n",
    "        p_values = [stat.norm.sf(abs(x))*2 for x in z_scores] ### two tailed test for p-values\n",
    "        \n",
    "        self.z_scores = z_scores\n",
    "        print('INFO: Assigning p_values to LogisticReg object')\n",
    "        self.p_values = p_values\n",
    "        self.sigma_estimates = sigma_estimates\n",
    "        self.F_ij = F_ij\n",
    "        \n",
    "        alpha = 0.05\n",
    "        q = stats.norm.ppf(1 - alpha / 2)\n",
    "        lower = self.model.coef_[0] - q * sigma_estimates\n",
    "        upper = self.model.coef_[0] + q * sigma_estimates\n",
    "        self.conf_int = np.dstack((lower, upper))[0]\n"
   ]
  },
  {
   "cell_type": "code",
   "execution_count": 5,
   "metadata": {
    "collapsed": true
   },
   "outputs": [],
   "source": [
    "ARRHYTHMIA_TO_NAME = {1: 'normal'\n",
    "                      , 2: 'ischemic_changes'\n",
    "                      , 3: 'old_anterior_myocardial_infarction'\n",
    "                      , 4: 'old_inferior_myocardial_infarction'\n",
    "                      , 5: 'sinus_tachycardia'\n",
    "                      , 6: 'sinus_bradycardia'\n",
    "                      , 7: 'ventricular_premature_contraction'\n",
    "                      , 8: 'supraventricular_premature_contraction'\n",
    "                      , 9: 'left_bundle_branch_block'\n",
    "                      , 10: 'right_bundle_branch_block'\n",
    "                      , 11: 'first_degree_atrioventricular_block'\n",
    "                      , 12: 'second_degree_atrioventricular_block'\n",
    "                      , 13: 'third_degree_atrioventricular_block'\n",
    "                      , 14: 'left_ventricule_hypertrophy'\n",
    "                      , 15: 'atrial_fibrilation_or_flutter'\n",
    "                      , 16: 'other'\n",
    "                     }"
   ]
  },
  {
   "cell_type": "markdown",
   "metadata": {},
   "source": [
    "<hr style=\"height:5px;margin:auto;width:100%\"/>"
   ]
  },
  {
   "cell_type": "code",
   "execution_count": 6,
   "metadata": {
    "collapsed": true
   },
   "outputs": [],
   "source": [
    "def arrhythmia_code_to_name(code):\n",
    "    assert(code in ARRHYTHMIA_TO_NAME.keys())\n",
    "    return ARRHYTHMIA_TO_NAME[code]"
   ]
  },
  {
   "cell_type": "code",
   "execution_count": 7,
   "metadata": {
    "collapsed": true
   },
   "outputs": [],
   "source": [
    "def get_col_names():\n",
    "    col_names = \"\"\"\n",
    "        age sex height weight\n",
    "        qrs_duration_msec p_onset_to_q_onset_msec\n",
    "        q_onset_to_t_offset_msec duration_between_t_waves_msec\n",
    "        duration_between_p_waves_msec\n",
    "        qrs_front_plane_deg t_front_plane_deg p_front_plane_deg qrst_front_plane_deg\n",
    "        j_front_plane_deg\n",
    "        heart_rate_bpm\n",
    "        \"\"\".split()\n",
    "\n",
    "    t_attrs = \"\"\"\n",
    "        q_width_msec\n",
    "        r_width_msec s_width_msec\n",
    "        r2_width_msec s2_width_msec\n",
    "        intrinsic_deflections\n",
    "        is_present_diphasic_r is_present_notched_r\n",
    "        is_present_notched_p is_present_diphasic_p\n",
    "        is_present_notched_t is_present_diphasic_t\n",
    "        \"\"\".split()\n",
    "\n",
    "    col_names.extend(prefix_list('d1', t_attrs))  # 16-27\n",
    "    col_names.extend(prefix_list('d2', t_attrs))  # 28-39\n",
    "    col_names.extend(prefix_list('d3', t_attrs))  # 40-51\n",
    "    col_names.extend(prefix_list('avr', t_attrs))  # 52-63\n",
    "    col_names.extend(prefix_list('avl', t_attrs))  # 64-75\n",
    "    col_names.extend(prefix_list('avf', t_attrs))  # 76-87\n",
    "    col_names.extend(prefix_list('v1', t_attrs))  # 88-99\n",
    "    col_names.extend(prefix_list('v2', t_attrs))  # 100-111\n",
    "    col_names.extend(prefix_list('v3', t_attrs))  # 112-123\n",
    "    col_names.extend(prefix_list('v4', t_attrs))  # 124-135\n",
    "    col_names.extend(prefix_list('v5', t_attrs))  # 136-147\n",
    "    col_names.extend(prefix_list('v6', t_attrs))  # 148-159\n",
    "\n",
    "    v_attrs = \"\"\"\n",
    "        j_point_depression_mvolt q_amplitude_mvolt r_amplitude_mvolt s_amplitude_mvolt\n",
    "        r2_amplitude_mvolt s2_amplitude_mvolt p_amplitude_mvolt t_amplitude_mvolt\n",
    "        qrsa, qrsta\n",
    "        \"\"\".split()\n",
    "\n",
    "    col_names.extend(prefix_list('d1', v_attrs))  # 160-169\n",
    "    col_names.extend(prefix_list('d2', v_attrs))  # 170-179\n",
    "    col_names.extend(prefix_list('d3', v_attrs))  # 180-189\n",
    "    col_names.extend(prefix_list('avr', v_attrs))  # 190-199\n",
    "    col_names.extend(prefix_list('avl', v_attrs))  # 200-209\n",
    "    col_names.extend(prefix_list('avf', v_attrs))  # 210-219\n",
    "    col_names.extend(prefix_list('v1', v_attrs))  # 220-229\n",
    "    col_names.extend(prefix_list('v2', v_attrs))  # 230-239\n",
    "    col_names.extend(prefix_list('v3', v_attrs))  # 240-249\n",
    "    col_names.extend(prefix_list('v4', v_attrs))  # 250-259\n",
    "    col_names.extend(prefix_list('v5', v_attrs))  # 260-269\n",
    "    col_names.extend(prefix_list('v6', v_attrs))  # 270-279\n",
    "    col_names.append('arrhythmia_code')\n",
    "    return col_names"
   ]
  },
  {
   "cell_type": "code",
   "execution_count": 8,
   "metadata": {
    "collapsed": true
   },
   "outputs": [],
   "source": [
    "def prefix_list(pre, items):\n",
    "    return list(map(lambda x: pre + '_' + x, items))"
   ]
  },
  {
   "cell_type": "code",
   "execution_count": 9,
   "metadata": {
    "collapsed": true
   },
   "outputs": [],
   "source": [
    "def nan_percentage(ser):\n",
    "    return 100.0 * (len(ser) - ser.count()) / len(ser)"
   ]
  },
  {
   "cell_type": "markdown",
   "metadata": {},
   "source": [
    "<hr style=\"height:5px;margin:auto;width:100%\"/>"
   ]
  },
  {
   "cell_type": "code",
   "execution_count": 10,
   "metadata": {
    "collapsed": true
   },
   "outputs": [],
   "source": [
    "cols_with_unknowns = \"\"\"t_front_plane_deg p_front_plane_deg qrst_front_plane_deg\n",
    "                        j_front_plane_deg heart_rate_bpm\"\"\".split()\n",
    "cols_dtypes = {col: np.float64 for col in cols_with_unknowns}\n",
    "uci_df = pd.read_csv('../data/uci.edu/arrhythmia.data.txt', header=None, names=get_col_names()\n",
    "                      , dtype=cols_dtypes, na_values='?')"
   ]
  },
  {
   "cell_type": "code",
   "execution_count": 11,
   "metadata": {},
   "outputs": [
    {
     "data": {
      "text/plain": [
       "(452, 280)"
      ]
     },
     "execution_count": 11,
     "metadata": {},
     "output_type": "execute_result"
    }
   ],
   "source": [
    "uci_df.shape"
   ]
  },
  {
   "cell_type": "code",
   "execution_count": 12,
   "metadata": {},
   "outputs": [
    {
     "name": "stdout",
     "output_type": "stream",
     "text": [
      "Nan percentage in t_front_plane_deg: 1.77%\n",
      "Nan percentage in p_front_plane_deg: 4.87%\n",
      "Nan percentage in qrst_front_plane_deg: 0.22%\n",
      "Nan percentage in j_front_plane_deg: 83.19%\n",
      "Nan percentage in heart_rate_bpm: 0.22%\n"
     ]
    }
   ],
   "source": [
    "for col in cols_with_unknowns:\n",
    "    print(f'Nan percentage in {col}: {nan_percentage(uci_df[col]):.2f}%')"
   ]
  },
  {
   "cell_type": "code",
   "execution_count": 13,
   "metadata": {},
   "outputs": [
    {
     "data": {
      "text/plain": [
       "'arrhythmia_code'"
      ]
     },
     "execution_count": 13,
     "metadata": {},
     "output_type": "execute_result"
    }
   ],
   "source": [
    "uci_df.columns[-1]"
   ]
  },
  {
   "cell_type": "code",
   "execution_count": 14,
   "metadata": {
    "collapsed": true
   },
   "outputs": [],
   "source": [
    "cntr = Counter(uci_df['arrhythmia_code'])"
   ]
  },
  {
   "cell_type": "code",
   "execution_count": 15,
   "metadata": {},
   "outputs": [
    {
     "data": {
      "text/plain": [
       "[(1, 245),\n",
       " (10, 50),\n",
       " (2, 44),\n",
       " (6, 25),\n",
       " (16, 22),\n",
       " (3, 15),\n",
       " (4, 15),\n",
       " (5, 13),\n",
       " (9, 9),\n",
       " (15, 5),\n",
       " (14, 4),\n",
       " (7, 3),\n",
       " (8, 2)]"
      ]
     },
     "execution_count": 15,
     "metadata": {},
     "output_type": "execute_result"
    }
   ],
   "source": [
    "sorted(cntr.items(), key=lambda pair: pair[1], reverse=True)"
   ]
  },
  {
   "cell_type": "code",
   "execution_count": 16,
   "metadata": {},
   "outputs": [
    {
     "data": {
      "text/plain": [
       "[('normal', 245),\n",
       " ('right_bundle_branch_block', 50),\n",
       " ('ischemic_changes', 44),\n",
       " ('sinus_bradycardia', 25),\n",
       " ('other', 22),\n",
       " ('old_anterior_myocardial_infarction', 15),\n",
       " ('old_inferior_myocardial_infarction', 15),\n",
       " ('sinus_tachycardia', 13),\n",
       " ('left_bundle_branch_block', 9),\n",
       " ('atrial_fibrilation_or_flutter', 5),\n",
       " ('left_ventricule_hypertrophy', 4),\n",
       " ('ventricular_premature_contraction', 3),\n",
       " ('supraventricular_premature_contraction', 2)]"
      ]
     },
     "execution_count": 16,
     "metadata": {},
     "output_type": "execute_result"
    }
   ],
   "source": [
    "[(arrhythmia_code_to_name(k), v)\n",
    " for k, v in sorted(cntr.items(), key=lambda pair: pair[1], reverse=True)]"
   ]
  },
  {
   "cell_type": "code",
   "execution_count": 17,
   "metadata": {
    "scrolled": true
   },
   "outputs": [
    {
     "data": {
      "text/plain": [
       "['first_degree_atrioventricular_block',\n",
       " 'second_degree_atrioventricular_block',\n",
       " 'third_degree_atrioventricular_block']"
      ]
     },
     "execution_count": 17,
     "metadata": {},
     "output_type": "execute_result"
    }
   ],
   "source": [
    "missing_arrhythmias = [arrhythmia_code_to_name(code)\n",
    "                       for code in range(1, 17)\n",
    "                       if code not in cntr.keys()]\n",
    "missing_arrhythmias"
   ]
  },
  {
   "cell_type": "markdown",
   "metadata": {},
   "source": [
    "<hr style=\"height:5px;margin:auto;width:100%\"/>"
   ]
  },
  {
   "cell_type": "code",
   "execution_count": 18,
   "metadata": {
    "collapsed": true
   },
   "outputs": [],
   "source": [
    "good_codes = [1,10,2,6,16]"
   ]
  },
  {
   "cell_type": "code",
   "execution_count": 19,
   "metadata": {
    "collapsed": true
   },
   "outputs": [],
   "source": [
    "uci2_mask = uci_df['arrhythmia_code'].isin(good_codes)\n",
    "uci2_df = uci_df[uci2_mask].copy()"
   ]
  },
  {
   "cell_type": "code",
   "execution_count": 20,
   "metadata": {},
   "outputs": [
    {
     "name": "stdout",
     "output_type": "stream",
     "text": [
      "Nan percentage in t_front_plane_deg: 1.81%\n",
      "Nan percentage in p_front_plane_deg: 3.89%\n",
      "Nan percentage in qrst_front_plane_deg: 0.26%\n",
      "Nan percentage in j_front_plane_deg: 86.01%\n",
      "Nan percentage in heart_rate_bpm: 0.00%\n"
     ]
    }
   ],
   "source": [
    "for col in cols_with_unknowns:\n",
    "    print(f'Nan percentage in {col}: {nan_percentage(uci2_df[col]):.2f}%')"
   ]
  },
  {
   "cell_type": "code",
   "execution_count": 21,
   "metadata": {},
   "outputs": [
    {
     "data": {
      "text/plain": [
       "['t_front_plane_deg',\n",
       " 'p_front_plane_deg',\n",
       " 'qrst_front_plane_deg',\n",
       " 'j_front_plane_deg']"
      ]
     },
     "execution_count": 21,
     "metadata": {},
     "output_type": "execute_result"
    }
   ],
   "source": [
    "cols_to_drop = [col for col in cols_with_unknowns if col != 'heart_rate_bpm']\n",
    "cols_to_drop"
   ]
  },
  {
   "cell_type": "code",
   "execution_count": 22,
   "metadata": {},
   "outputs": [
    {
     "data": {
      "text/plain": [
       "(386, 280)"
      ]
     },
     "execution_count": 22,
     "metadata": {},
     "output_type": "execute_result"
    }
   ],
   "source": [
    "uci2_df.shape"
   ]
  },
  {
   "cell_type": "code",
   "execution_count": 23,
   "metadata": {
    "collapsed": true
   },
   "outputs": [],
   "source": [
    "X = uci2_df.iloc[:,:-1].copy().drop(cols_to_drop, axis=1)\n",
    "X = sm.add_constant(X)\n",
    "y = uci2_df['arrhythmia_code']"
   ]
  },
  {
   "cell_type": "code",
   "execution_count": 24,
   "metadata": {},
   "outputs": [
    {
     "data": {
      "text/plain": [
       "(386, 276)"
      ]
     },
     "execution_count": 24,
     "metadata": {},
     "output_type": "execute_result"
    }
   ],
   "source": [
    "X.shape"
   ]
  },
  {
   "cell_type": "code",
   "execution_count": 79,
   "metadata": {},
   "outputs": [],
   "source": [
    "X_train, X_test, y_train, y_test = train_test_split(X, y, test_size=0.25, random_state=12345\n",
    "                                                   , stratify=y)"
   ]
  },
  {
   "cell_type": "code",
   "execution_count": 80,
   "metadata": {
    "collapsed": true
   },
   "outputs": [],
   "source": [
    "logreg_cs = [10**k for k in range(-9, 10)]"
   ]
  },
  {
   "cell_type": "code",
   "execution_count": 81,
   "metadata": {},
   "outputs": [
    {
     "data": {
      "text/plain": [
       "LogisticRegressionCV(Cs=(1e-09, 1e-08, 1e-07, 1e-06, 1e-05, 0.0001, 0.001, 0.01, 0.1, 1, 10, 100, 1000, 10000, 100000, 1000000, 10000000, 100000000, 1000000000),\n",
       "           class_weight=None, cv=10, dual=False, fit_intercept=True,\n",
       "           intercept_scaling=1.0, max_iter=100, multi_class='ovr',\n",
       "           n_jobs=1, penalty='l1', random_state=None, refit=False,\n",
       "           scoring=None, solver='liblinear', tol=0.0001, verbose=0)"
      ]
     },
     "execution_count": 81,
     "metadata": {},
     "output_type": "execute_result"
    }
   ],
   "source": [
    "logreg_cv = LogisticRegressionCV(Cs=tuple(logreg_cs), cv=10, fit_intercept=True, refit=False)\n",
    "                                 # solver='liblinear', penalty='l1')\n",
    "logreg_cv.fit(X_train, y_train)"
   ]
  },
  {
   "cell_type": "code",
   "execution_count": 83,
   "metadata": {},
   "outputs": [
    {
     "data": {
      "text/plain": [
       "array([[ 0.7165245 ,  0.01551978, -0.4612756 , ..., -0.06384901,\n",
       "        -0.00620649, -0.01302908],\n",
       "       [-0.0497906 ,  0.00734883,  0.06961171, ..., -0.31030918,\n",
       "         0.04009288,  0.01054023],\n",
       "       [ 0.        , -0.02344039,  0.        , ...,  0.05900708,\n",
       "        -0.04137017,  0.00132867],\n",
       "       [-0.21434399, -0.00803146, -0.28165811, ..., -0.04832687,\n",
       "         0.02229918,  0.01310413],\n",
       "       [ 0.        ,  0.00384435,  0.        , ...,  0.        ,\n",
       "        -0.02564413,  0.0205607 ]])"
      ]
     },
     "execution_count": 83,
     "metadata": {},
     "output_type": "execute_result"
    }
   ],
   "source": [
    "logreg_cv.coef_"
   ]
  },
  {
   "cell_type": "code",
   "execution_count": 113,
   "metadata": {},
   "outputs": [
    {
     "data": {
      "text/plain": [
       "array([1.00020001e+07, 1.11110001e+06, 1.02400000e+01, 2.10016000e+02,\n",
       "       1.02000000e+01])"
      ]
     },
     "execution_count": 113,
     "metadata": {},
     "output_type": "execute_result"
    }
   ],
   "source": [
    "logreg_cv.C_"
   ]
  },
  {
   "cell_type": "code",
   "execution_count": 86,
   "metadata": {},
   "outputs": [
    {
     "data": {
      "text/plain": [
       "array([ 1,  2,  6, 10, 16])"
      ]
     },
     "execution_count": 86,
     "metadata": {},
     "output_type": "execute_result"
    }
   ],
   "source": [
    "logreg_cv.classes_"
   ]
  },
  {
   "cell_type": "code",
   "execution_count": 103,
   "metadata": {},
   "outputs": [
    {
     "data": {
      "text/plain": [
       "3001.915780104124"
      ]
     },
     "execution_count": 103,
     "metadata": {},
     "output_type": "execute_result"
    }
   ],
   "source": [
    "gmean(logreg_cv.C_)"
   ]
  },
  {
   "cell_type": "markdown",
   "metadata": {},
   "source": [
    "<hr style=\"height:5px;margin:auto;width:50%\"/>"
   ]
  },
  {
   "cell_type": "code",
   "execution_count": 137,
   "metadata": {
    "scrolled": true
   },
   "outputs": [
    {
     "name": "stdout",
     "output_type": "stream",
     "text": [
      "[LibLinear]"
     ]
    },
    {
     "data": {
      "text/plain": [
       "array([ 1, 10,  1,  1,  2,  1,  1,  1,  1,  1,  1,  1,  1,  6, 10,  1,  1,\n",
       "        2,  2,  6,  1,  1,  1, 16,  1,  1,  1,  6,  2, 10,  1,  1,  1,  2,\n",
       "        1, 10,  1,  1, 10, 10,  1,  2,  2,  2, 10, 10,  1,  1,  1, 10,  1,\n",
       "        1,  1, 10,  1, 16,  2,  1, 16,  1,  1,  6,  1, 10,  1,  1,  1,  1,\n",
       "        1,  2,  1,  1,  1,  6,  1, 10,  1, 10,  6,  1,  1, 16,  1, 16,  1,\n",
       "        1,  1,  1,  1,  1,  1,  1,  1,  1,  1,  1,  2])"
      ]
     },
     "execution_count": 137,
     "metadata": {},
     "output_type": "execute_result"
    }
   ],
   "source": [
    "y_normal = y.map(lambda x: x if x == 1 else 0)\n",
    "logreg = LogisticRegression(C=gmean(logreg_cv.C_)\n",
    "                            , fit_intercept=True, verbose=1)\n",
    "                            # solver='liblinear', penalty='l1'\n",
    "logreg.fit(X_test, y_test)\n",
    "# logreg.predict_proba(X)\n",
    "y_pred = logreg.predict(X_test)\n",
    "y_pred"
   ]
  },
  {
   "cell_type": "code",
   "execution_count": 138,
   "metadata": {},
   "outputs": [],
   "source": [
    "report = classification_report(y_test, y_pred\n",
    "                               , target_names=list(map(arrhythmia_code_to_name, good_codes)))"
   ]
  },
  {
   "cell_type": "code",
   "execution_count": 141,
   "metadata": {},
   "outputs": [
    {
     "name": "stdout",
     "output_type": "stream",
     "text": [
      "                           precision    recall  f1-score   support\n",
      "\n",
      "                   normal       1.00      1.00      1.00        62\n",
      "right_bundle_branch_block       1.00      1.00      1.00        11\n",
      "         ischemic_changes       1.00      1.00      1.00         6\n",
      "        sinus_bradycardia       1.00      1.00      1.00        13\n",
      "                    other       1.00      1.00      1.00         5\n",
      "\n",
      "              avg / total       1.00      1.00      1.00        97\n",
      "\n"
     ]
    }
   ],
   "source": [
    "print(report)"
   ]
  },
  {
   "cell_type": "markdown",
   "metadata": {},
   "source": [
    "<hr style=\"height:5px;margin:auto;width:50%\"/>"
   ]
  },
  {
   "cell_type": "code",
   "execution_count": null,
   "metadata": {
    "collapsed": true
   },
   "outputs": [],
   "source": []
  },
  {
   "cell_type": "code",
   "execution_count": null,
   "metadata": {
    "collapsed": true
   },
   "outputs": [],
   "source": []
  },
  {
   "cell_type": "markdown",
   "metadata": {},
   "source": [
    "<hr style=\"height:5px;margin:auto;width:100%\"/>"
   ]
  },
  {
   "cell_type": "code",
   "execution_count": null,
   "metadata": {
    "collapsed": true
   },
   "outputs": [],
   "source": []
  }
 ],
 "metadata": {
  "kernelspec": {
   "display_name": "Python 3",
   "language": "python",
   "name": "python3"
  },
  "language_info": {
   "codemirror_mode": {
    "name": "ipython",
    "version": 3
   },
   "file_extension": ".py",
   "mimetype": "text/x-python",
   "name": "python",
   "nbconvert_exporter": "python",
   "pygments_lexer": "ipython3",
   "version": "3.6.3"
  },
  "varInspector": {
   "cols": {
    "lenName": 16,
    "lenType": 16,
    "lenVar": 40
   },
   "kernels_config": {
    "python": {
     "delete_cmd_postfix": "",
     "delete_cmd_prefix": "del ",
     "library": "var_list.py",
     "varRefreshCmd": "print(var_dic_list())"
    },
    "r": {
     "delete_cmd_postfix": ") ",
     "delete_cmd_prefix": "rm(",
     "library": "var_list.r",
     "varRefreshCmd": "cat(var_dic_list()) "
    }
   },
   "types_to_exclude": [
    "module",
    "function",
    "builtin_function_or_method",
    "instance",
    "_Feature"
   ],
   "window_display": false
  }
 },
 "nbformat": 4,
 "nbformat_minor": 2
}
