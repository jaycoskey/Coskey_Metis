{
 "cells": [
  {
   "cell_type": "markdown",
   "metadata": {},
   "source": [
    "## TimeShelf: Book Recommendations Across Time"
   ]
  },
  {
   "cell_type": "code",
   "execution_count": 1,
   "metadata": {
    "collapsed": true
   },
   "outputs": [],
   "source": [
    "from collections import Counter, defaultdict\n",
    "import gensim\n",
    "from gensim.corpora.dictionary import Dictionary\n",
    "from gensim.corpora.textcorpus import lower_to_unicode, strip_multiple_whitespaces\n",
    "from gensim.corpora.textcorpus import remove_short, remove_stopwords\n",
    "from gensim import corpora, models, utils\n",
    "from gensim.models.wrappers.dtmmodel import DtmModel\n",
    "from gensim.utils import deaccent, simple_tokenize\n",
    "# from gensim.utils import lemmatize  # Use nltk.stem.WordNetLemmatizer instead\n",
    "# import gutenberg.acquire as gacquire\n",
    "# import gutenberg.query as gquery  # print(gquery.list_supported_metadatas())\n",
    "from hashlib import md5\n",
    "import imp\n",
    "import logging\n",
    "from math import log10\n",
    "import matplotlib\n",
    "import matplotlib.pyplot as plt\n",
    "import nltk\n",
    "from nltk.corpus import stopwords\n",
    "from nltk.stem import WordNetLemmatizer\n",
    "from nltk.stem.porter import PorterStemmer\n",
    "from nltk.tokenize import RegexpTokenizer\n",
    "import numpy as np\n",
    "import os\n",
    "from os import listdir\n",
    "from os.path import isdir, isfile\n",
    "from pymongo import MongoClient, InsertOne, DeleteOne, ReplaceOne\n",
    "from random import shuffle\n",
    "import re\n",
    "from sklearn.utils import resample\n",
    "import sys\n",
    "import zipfile"
   ]
  },
  {
   "cell_type": "markdown",
   "metadata": {},
   "source": [
    "# Config (MongoDB)"
   ]
  },
  {
   "cell_type": "code",
   "execution_count": 2,
   "metadata": {
    "collapsed": true
   },
   "outputs": [],
   "source": [
    "mongo_client = MongoClient()\n",
    "assert('local' in mongo_client.database_names())\n",
    "mongo_local_db = mongo_client.local\n",
    "# mongo_local_db.create_collection('timeshelf_config')\n",
    "timeshelf_config = mongo_local_db.get_collection('timeshelf_config')\n",
    "mongo_requests = [InsertOne({'config': 'books_per_decade', 'GUTENBERG_BOOKS_PER_DECADE': 2})\n",
    "                  , InsertOne({'config': 'max_header_lines', 'GUTENBERG_MAX_HEADER_LINES': 300})]\n",
    "mongo_result = mongo_local_db.timeshelf_config.bulk_write(mongo_requests)"
   ]
  },
  {
   "cell_type": "code",
   "execution_count": 3,
   "metadata": {},
   "outputs": [
    {
     "data": {
      "text/plain": [
       "[InsertOne({'config': 'books_per_decade', 'GUTENBERG_BOOKS_PER_DECADE': 2, '_id': ObjectId('5ab34dce7aec09aedb59a601')}),\n",
       " InsertOne({'config': 'max_header_lines', 'GUTENBERG_MAX_HEADER_LINES': 300, '_id': ObjectId('5ab34dce7aec09aedb59a602')})]"
      ]
     },
     "execution_count": 3,
     "metadata": {},
     "output_type": "execute_result"
    }
   ],
   "source": [
    "mongo_requests"
   ]
  },
  {
   "cell_type": "code",
   "execution_count": 4,
   "metadata": {},
   "outputs": [
    {
     "data": {
      "text/plain": [
       "{'nInserted': 2,\n",
       " 'nMatched': 0,\n",
       " 'nModified': 0,\n",
       " 'nRemoved': 0,\n",
       " 'nUpserted': 0,\n",
       " 'upserted': [],\n",
       " 'writeConcernErrors': [],\n",
       " 'writeErrors': []}"
      ]
     },
     "execution_count": 4,
     "metadata": {},
     "output_type": "execute_result"
    }
   ],
   "source": [
    "mongo_result.bulk_api_result"
   ]
  },
  {
   "cell_type": "code",
   "execution_count": 5,
   "metadata": {},
   "outputs": [
    {
     "name": "stdout",
     "output_type": "stream",
     "text": [
      "{'_id': ObjectId('5aa6790b7aec09f27c0484be'), 'GUTENBERG_BOOKS_PER_DECADE': 2}\n",
      "{'_id': ObjectId('5aa6790b7aec09f27c0484bf'), 'GUTENBERG_MAX_HEADER_LINES': 300}\n",
      "{'_id': ObjectId('5aa67cf27aec09f27c0484c1'), 'config': 'books_per_decade', 'GUTENBERG_BOOKS_PER_DECADE': 2}\n",
      "{'_id': ObjectId('5aa67cf27aec09f27c0484c2'), 'config': 'max_header_lines', 'GUTENBERG_MAX_HEADER_LINES': 300}\n",
      "{'_id': ObjectId('5aa83cf17aec096e7a6af7eb'), 'config': 'books_per_decade', 'GUTENBERG_BOOKS_PER_DECADE': 2}\n",
      "{'_id': ObjectId('5aa83cf17aec096e7a6af7ec'), 'config': 'max_header_lines', 'GUTENBERG_MAX_HEADER_LINES': 300}\n",
      "{'_id': ObjectId('5aa842597aec096f6e49c60a'), 'config': 'books_per_decade', 'GUTENBERG_BOOKS_PER_DECADE': 2}\n",
      "{'_id': ObjectId('5aa842597aec096f6e49c60b'), 'config': 'max_header_lines', 'GUTENBERG_MAX_HEADER_LINES': 300}\n",
      "{'_id': ObjectId('5aa84a587aec097102f09273'), 'config': 'books_per_decade', 'GUTENBERG_BOOKS_PER_DECADE': 2}\n",
      "{'_id': ObjectId('5aa84a587aec097102f09274'), 'config': 'max_header_lines', 'GUTENBERG_MAX_HEADER_LINES': 300}\n",
      "{'_id': ObjectId('5aa855bb7aec09727f3b82ac'), 'config': 'books_per_decade', 'GUTENBERG_BOOKS_PER_DECADE': 2}\n",
      "{'_id': ObjectId('5aa855bb7aec09727f3b82ad'), 'config': 'max_header_lines', 'GUTENBERG_MAX_HEADER_LINES': 300}\n",
      "{'_id': ObjectId('5aa8569b7aec0972aec1ca92'), 'config': 'books_per_decade', 'GUTENBERG_BOOKS_PER_DECADE': 2}\n",
      "{'_id': ObjectId('5aa8569b7aec0972aec1ca93'), 'config': 'max_header_lines', 'GUTENBERG_MAX_HEADER_LINES': 300}\n",
      "{'_id': ObjectId('5aa87cc27aec0975e82b5f7e'), 'config': 'books_per_decade', 'GUTENBERG_BOOKS_PER_DECADE': 2}\n",
      "{'_id': ObjectId('5aa87cc27aec0975e82b5f7f'), 'config': 'max_header_lines', 'GUTENBERG_MAX_HEADER_LINES': 300}\n",
      "{'_id': ObjectId('5aa888457aec09775e43ddda'), 'config': 'books_per_decade', 'GUTENBERG_BOOKS_PER_DECADE': 2}\n",
      "{'_id': ObjectId('5aa888457aec09775e43dddb'), 'config': 'max_header_lines', 'GUTENBERG_MAX_HEADER_LINES': 300}\n",
      "{'_id': ObjectId('5aa8b3ff7aec097cca09eb47'), 'config': 'books_per_decade', 'GUTENBERG_BOOKS_PER_DECADE': 2}\n",
      "{'_id': ObjectId('5aa8b3ff7aec097cca09eb48'), 'config': 'max_header_lines', 'GUTENBERG_MAX_HEADER_LINES': 300}\n",
      "{'_id': ObjectId('5aaba1077aec0970078d1eb2'), 'config': 'books_per_decade', 'GUTENBERG_BOOKS_PER_DECADE': 2}\n",
      "{'_id': ObjectId('5aaba1077aec0970078d1eb3'), 'config': 'max_header_lines', 'GUTENBERG_MAX_HEADER_LINES': 300}\n",
      "{'_id': ObjectId('5ab34dce7aec09aedb59a601'), 'config': 'books_per_decade', 'GUTENBERG_BOOKS_PER_DECADE': 2}\n",
      "{'_id': ObjectId('5ab34dce7aec09aedb59a602'), 'config': 'max_header_lines', 'GUTENBERG_MAX_HEADER_LINES': 300}\n"
     ]
    }
   ],
   "source": [
    "for timeshelf_config_doc in timeshelf_config.find():\n",
    "    print(timeshelf_config_doc)"
   ]
  },
  {
   "cell_type": "code",
   "execution_count": 6,
   "metadata": {
    "collapsed": true
   },
   "outputs": [],
   "source": [
    "books_per_decade = timeshelf_config.find_one({'config': 'books_per_decade'})['GUTENBERG_BOOKS_PER_DECADE']"
   ]
  },
  {
   "cell_type": "code",
   "execution_count": 7,
   "metadata": {},
   "outputs": [
    {
     "data": {
      "text/plain": [
       "2"
      ]
     },
     "execution_count": 7,
     "metadata": {},
     "output_type": "execute_result"
    }
   ],
   "source": [
    "books_per_decade"
   ]
  },
  {
   "cell_type": "code",
   "execution_count": 8,
   "metadata": {
    "collapsed": true
   },
   "outputs": [],
   "source": [
    "max_header_lines = timeshelf_config.find_one({'config': 'max_header_lines'})['GUTENBERG_MAX_HEADER_LINES']"
   ]
  },
  {
   "cell_type": "code",
   "execution_count": 9,
   "metadata": {},
   "outputs": [
    {
     "data": {
      "text/plain": [
       "300"
      ]
     },
     "execution_count": 9,
     "metadata": {},
     "output_type": "execute_result"
    }
   ],
   "source": [
    "max_header_lines"
   ]
  },
  {
   "cell_type": "markdown",
   "metadata": {},
   "source": [
    "# Config (Other)"
   ]
  },
  {
   "cell_type": "code",
   "execution_count": 10,
   "metadata": {
    "collapsed": true
   },
   "outputs": [],
   "source": [
    "DTM_PATH = os.environ.get('DTM_PATH', None)\n",
    "DTM_PATH = '/Users/jmc/src/dtm/dtm_release/dtm/main'\n",
    "if not DTM_PATH:\n",
    "    raise ValueError(\"Error: DTM_PATH must be set\")"
   ]
  },
  {
   "cell_type": "code",
   "execution_count": 11,
   "metadata": {
    "collapsed": true
   },
   "outputs": [],
   "source": [
    "MODULE_EXTENSIONS = ('.py', '.pyc', '.pyo')"
   ]
  },
  {
   "cell_type": "code",
   "execution_count": 12,
   "metadata": {
    "collapsed": true
   },
   "outputs": [],
   "source": [
    "ZHOME = '../data/gutenberg_books_en/aleph.gutenberg.org/'"
   ]
  },
  {
   "cell_type": "code",
   "execution_count": 13,
   "metadata": {
    "collapsed": true
   },
   "outputs": [],
   "source": [
    "GUTENBERG_BOOKS_PER_DECADE = 10\n",
    "GUTENBERG_MAX_HEADER_LINES = 300\n",
    "GUTENBERG_NUM_TOPICS = 10\n",
    "\n",
    "GUTENBERG_DOWNLOAD_DIR = os.environ['GUTENBERG_DOWNLOAD_DIR']\n",
    "GUTENBERG_MIN_DECADE = 1500\n",
    "GUTENBERG_MAX_DECADE = 2010\n",
    "\n",
    "GUTENBERG_STOPWORDS = stopwords.words('english')\n",
    "GUTENBERG_STOPWORDS.extend(gensim.parsing.preprocessing.STOPWORDS)\n",
    "GUTENBERG_STOPWORDS.extend(\"\"\"January February March April May June\n",
    "    July August September October November December\n",
    "    time year\n",
    "    one two three four five six seven eight nine ten\n",
    "    eleven twelve thirteen fourteen fifteen sixteen seventeen eighteen nineteen twenty\n",
    "    thee thine thou thy\n",
    "    \"\"\".lower().split())  "
   ]
  },
  {
   "cell_type": "markdown",
   "metadata": {},
   "source": [
    "<hr style=\"height: 5px\"/>"
   ]
  },
  {
   "cell_type": "markdown",
   "metadata": {},
   "source": [
    "<hr style=\"height: 5px\"/>"
   ]
  },
  {
   "cell_type": "markdown",
   "metadata": {},
   "source": [
    "<hr style=\"height: 5px\"/>"
   ]
  },
  {
   "cell_type": "markdown",
   "metadata": {},
   "source": [
    "# Sample Data"
   ]
  },
  {
   "cell_type": "code",
   "execution_count": 14,
   "metadata": {
    "collapsed": true
   },
   "outputs": [],
   "source": [
    "test_book_data = [ [1, 'Lolita',                             'Vladimir Nabokov',    1955 ]\n",
    "                 , [2, 'The Great Gatsby',                   'F. Scott Fitzgerald', 1925 ]\n",
    "                 , [3, 'In Search of Lost Time',             'Marcel Proust',       1922 ]\n",
    "                 , [4, 'Ulysses',                            'James Joyce',         1922 ]\n",
    "                 , [5, 'Dubliners',                          'James Joyce',         1914 ]\n",
    "                 , [6, 'Anna Karenina',                      'Leo Tolstoy',         1877 ]\n",
    "                 , [7, 'Madame Bovary',                      'Gustave Flaubert',    1857 ]\n",
    "                 , [8, 'War and Peace',                      'Leo Tolstoy',         1869 ]\n",
    "                 , [9, 'The Adventures of Huckleberry Finn', 'Mark Twain',          1884 ]\n",
    "                 , [10, 'Middlemarch',                       'George Eliot',        1871 ]\n",
    "                 ]"
   ]
  },
  {
   "cell_type": "markdown",
   "metadata": {},
   "source": [
    "# Data Location Info"
   ]
  },
  {
   "cell_type": "code",
   "execution_count": 15,
   "metadata": {
    "collapsed": true
   },
   "outputs": [],
   "source": [
    "sample_book_ids = [6001, 7001, 8000, 9043, 10000, 20001, 30000, 40000, 50000]\n",
    "excluded_book_ids = [89, 3290, 5192, 10681, 13526, 15824, 18251]  # Extra download files\n",
    "excluded_book_ids.extend([2609, 16762, 11813, 14021, 29274, 35724, 35335])  # Files out of place\n",
    "excluded_book_ids.extend([1])  # Different format"
   ]
  },
  {
   "cell_type": "markdown",
   "metadata": {},
   "source": [
    "<hr style=\"height: 5px\"/>"
   ]
  },
  {
   "cell_type": "markdown",
   "metadata": {},
   "source": [
    "<hr style=\"height: 5px\"/>"
   ]
  },
  {
   "cell_type": "markdown",
   "metadata": {},
   "source": [
    "<hr style=\"height: 5px\"/>"
   ]
  },
  {
   "cell_type": "markdown",
   "metadata": {},
   "source": [
    "# Classes"
   ]
  },
  {
   "cell_type": "code",
   "execution_count": 16,
   "metadata": {
    "collapsed": true
   },
   "outputs": [],
   "source": [
    "# From https://markroxor.github.io/gensim/static/notebooks/dtm_example.html\n",
    "class DTMcorpus(corpora.textcorpus.TextCorpus):\n",
    "    def get_texts(self):\n",
    "        return self.input\n",
    "\n",
    "    def __len__(self):\n",
    "        return len(self.input)"
   ]
  },
  {
   "cell_type": "code",
   "execution_count": 17,
   "metadata": {
    "collapsed": true
   },
   "outputs": [],
   "source": [
    "# TODO: Upsampling & downsampling to reach GUTENBERG_BOOKS_PER_DECADE\n",
    "class GutenbergCorpus(corpora.textcorpus.TextCorpus):\n",
    "    def __init__(self, books, num_books_per_decade=GUTENBERG_BOOKS_PER_DECADE, seed=0):\n",
    "        self.books = books\n",
    "        self.seed = seed\n",
    "        self.num_books_per_decade = num_books_per_decade\n",
    "        self.set_books_by_decade() # dict: K=int; V=book\n",
    "        self.decades = sorted(self.books_by_decade.keys())\n",
    "        self.set_selected_book_ids_by_decade()\n",
    "\n",
    "        # Creation of the Dictionary uses:\n",
    "        #   0+ character filters\n",
    "        #   a tokenizer\n",
    "        #   0+ token filters\n",
    "        self.character_filters = [lower_to_unicode, deaccent, strip_multiple_whitespaces]\n",
    "        self.tokenizer = simple_tokenize\n",
    "        self.token_filters = [remove_short, remove_stopwords]\n",
    "\n",
    "        self.dictionary = Dictionary(self.get_texts())\n",
    "        self.dictionary.filter_extremes(no_below=3, no_above=0.5, keep_n=100000)\n",
    "        \n",
    "        self.metadata=None\n",
    "\n",
    "    def __len__(self):\n",
    "        # return sum( [len(self.books_by_decade[decade])\n",
    "        #             for decade in self.books_by_decade]\n",
    "        #           )\n",
    "        return self.num_books_per_decade * len(self.decades)\n",
    "    \n",
    "    # Ensure that the texts returned are ordered by decade (i.e., time slice)\n",
    "    # Returned tokens are inserted the instance's dictionary property.\n",
    "    # Note: gensim/corpora/textcorpus.py recommends overriding both get_texts()\n",
    "    #       and getstream(), which is called by get_texts().  Instead of overriding\n",
    "    #       getstream(), we call get_book_content_from_id, which takes care of I/O.\n",
    "    # References: Look at gensim.corpura.wikicorpus for an example of a non-fs-based corpus.\n",
    "    def get_texts(self):\n",
    "        # print(f'Type of items in self.decades: {type(self.decades[0])}')\n",
    "        # print(f'Type of items in self.decades: {type(self.decades[0])}')\n",
    "        for decade in self.decades:\n",
    "            for id in self.selected_book_ids_by_decade[decade]:\n",
    "                content = self.preprocess_text(\n",
    "                    get_book_content_from_id(id, GUTENBERG_STOPWORDS)\n",
    "                )\n",
    "                yield content\n",
    "\n",
    "    def get_time_seq(self):\n",
    "        # Without up- & down-sampling\n",
    "        # return [len(self.decades[decade]) for decade in self.decades]\n",
    "        return [self.num_books_per_decade for decade in self.decades]\n",
    "\n",
    "    def pprint(self):\n",
    "        for decade in self.decades:\n",
    "            print(decade)\n",
    "            for book in self.decades[decade]:\n",
    "                print(f'\\t{book.year}: {book.title}, by {book.author}')\n",
    "\n",
    "    def print_summary(self):\n",
    "        time_seq = self.get_time_seq()\n",
    "        for line in [f'{ts} from the {dec}s' for dec,ts in zip(self.decades, time_seq)]:\n",
    "            print(f'\\t{line}')\n",
    "\n",
    "    def set_books_by_decade(self):\n",
    "        self.books_by_decade = defaultdict(list)\n",
    "        for book in self.books:\n",
    "            dec = get_decade(int(book['year']))\n",
    "            self.books_by_decade[dec].append(book)\n",
    "\n",
    "    def set_selected_book_ids_by_decade(self):\n",
    "        def books2ids(bs):\n",
    "            return list(map(lambda b: int(b['id']), bs))\n",
    "            \n",
    "        self.selected_book_ids_by_decade = defaultdict(list)\n",
    "        for decade in self.decades:\n",
    "            num_books_in_this_decade = len(self.books_by_decade[decade])\n",
    "            if num_books_in_this_decade == self.num_books_per_decade:\n",
    "                # YIELD EACH BOOK IN DECADE\n",
    "                ids = books2ids(self.books_by_decade[decade])\n",
    "                self.selected_book_ids_by_decade[decade] = ids.copy()\n",
    "            elif num_books_in_this_decade > self.num_books_per_decade:\n",
    "                # YIELD SUBSET OF BOOKS IN THIS DECADE\n",
    "                ids = books2ids(np.random.choice(self.books_by_decade[decade]\n",
    "                                             , size=self.num_books_per_decade\n",
    "                                             , replace=False))\n",
    "                self.selected_book_ids_by_decade[decade] = ids.copy()\n",
    "            else:\n",
    "                ids = books2ids(self.books_by_decade[decade])\n",
    "                # NOT ENOUGH BOOKS: UPSAMPLE WITH REPLACEMENT\n",
    "                upsampled_ids = books2ids(\n",
    "                    resample(self.books_by_decade[decade]\n",
    "                             , replace=True\n",
    "                             , n_samples=self.num_books_per_decade - num_books_in_this_decade\n",
    "                             , random_state=self.seed\n",
    "                            ))\n",
    "                self.selected_book_ids_by_decade[decade] = ids.copy() + upsampled_ids.copy()\n",
    "\n",
    "        # Shuffle.  Necessary?\n",
    "        for decade in self.decades:\n",
    "            shuffle(self.selected_book_ids_by_decade[decade])"
   ]
  },
  {
   "cell_type": "markdown",
   "metadata": {},
   "source": [
    "# Functions"
   ]
  },
  {
   "cell_type": "code",
   "execution_count": 18,
   "metadata": {
    "collapsed": true
   },
   "outputs": [],
   "source": [
    "def get_book_content(book_id):\n",
    "    book_path_info = get_book_path_info(book_id, base_dir=GUTENBERG_DOWNLOAD_DIR)\n",
    "    book_path = book_path_info[0]\n",
    "    book = get_book_from_path(book_id, book_path)\n",
    "    return book['content_lines']"
   ]
  },
  {
   "cell_type": "code",
   "execution_count": 91,
   "metadata": {
    "collapsed": true
   },
   "outputs": [],
   "source": [
    "def get_book_content_from_id(id, stopwords=GUTENBERG_STOPWORDS, do_include_content=True):\n",
    "    book = get_book_from_id(id, do_include_content)\n",
    "    lemmatizer = WordNetLemmatizer()\n",
    "    \n",
    "    # Remove proper nouns and other stopwords\n",
    "    # Overlaps with GUTENBERG_STOPWORDS and gensim.corpora.textcorpus.remove_stopwords\n",
    "    excluded_pos = ['CC', 'CD', 'DT', 'EX', 'IN', 'MD'\n",
    "                    , 'NNP', 'PDT', 'POS', 'PRP', 'PRP$', 'RP', 'TO', 'UH', 'WDT', 'WP', 'WRB']\n",
    "    content_raw = ' '.join(book['content_lines'])\n",
    "    content_blob = TextBlob(content_raw, pos_tagger=NLTKTagger())\n",
    "    content_pos_dict = {k: v for k, v in content_blob.pos_tags}\n",
    "    content_prefiltered = [word for word in content_raw.split()\n",
    "                         if word in pos_dict and pos_dict[word] not in excluded_pos]\n",
    "    content_lemmatized = lemmatizer.lemmatize(' '.join(content_prefiltered))\n",
    "    content_filtered = ' '.join([word for word in content_lemmatized.split()\n",
    "                                 if word not in GUTENBERG_STOPWORDS])\n",
    "    return content_filtered"
   ]
  },
  {
   "cell_type": "code",
   "execution_count": 20,
   "metadata": {
    "collapsed": true
   },
   "outputs": [],
   "source": [
    "def get_book_errors():\n",
    "    valid_book_ids = []\n",
    "    book_errors = {}\n",
    "    for book_id_num, book_id in enumerate(get_book_ids(base_dir=GUTENBERG_DOWNLOAD_DIR)):\n",
    "        book_path_info = get_book_path_info(book_id, base_dir=GUTENBERG_DOWNLOAD_DIR)\n",
    "        if not book_path_info[0]:\n",
    "            print(f'Error with book #{book_id}: {book_path_info[1]}')\n",
    "            continue\n",
    "        book_path = book_path_info[0]\n",
    "        book = get_book_from_path(book_id, book_path)\n",
    "        if len(book['error']) == 0:\n",
    "            valid_book_ids.append(book_id)\n",
    "        else:\n",
    "            book_errors[book_id] = book['error']\n",
    "    return book_errors"
   ]
  },
  {
   "cell_type": "code",
   "execution_count": 21,
   "metadata": {
    "collapsed": true
   },
   "outputs": [],
   "source": [
    "def get_book_from_id(id, do_include_content=True):\n",
    "    book_id_path_info = get_book_id_path_info(id)\n",
    "    book_path = book_id_path_info[1]\n",
    "    book = get_book_from_path(id, book_path, do_include_content)\n",
    "    return book"
   ]
  },
  {
   "cell_type": "code",
   "execution_count": 23,
   "metadata": {
    "collapsed": true
   },
   "outputs": [],
   "source": [
    "# TODO: Refactor, refactor, refactor\n",
    "# TODO: Refactor special cases into modular components\n",
    "def get_book_from_path(id, zpath, do_include_content=True):\n",
    "    assert(zipfile.is_zipfile(zpath))\n",
    "    if zpath.endswith('-0.zip'):\n",
    "        encoding = 'utf-8'\n",
    "    elif zpath.endswith('-8.zip'):\n",
    "        encoding = 'latin-1'  # 'iso-8559-1', 'iso8559-1', '8559'\n",
    "    else:\n",
    "        encoding = 'ascii'\n",
    "\n",
    "    line_number = None\n",
    "    with zipfile.ZipFile(zpath, 'r') as zfile:\n",
    "        # print('Opened zip file')\n",
    "        txtfiles = [fname for fname in zfile.namelist() if fname.lower().endswith('.txt')]\n",
    "        # print(f'txtfiles={txtfiles}')\n",
    "        if len(txtfiles) != 1:\n",
    "            # print(f'Non-unique file for zpath={zpath}')\n",
    "            return { 'id': id\n",
    "                    , 'path': zpath\n",
    "                    , 'author': None\n",
    "                    , 'title': None\n",
    "                    , 'year': None\n",
    "                    , 'content_lines': None\n",
    "                    , 'error': 'Non-unique text file'\n",
    "                   }\n",
    "        with zfile.open(txtfiles[0], 'r') as tfile:\n",
    "            # print('Opened book contents within zip file')\n",
    "            lemmatizer = WordNetLemmatizer()\n",
    "            have_seen_start_content_line = False\n",
    "            have_seen_end_content_line = False\n",
    "            is_in_header_paragraph = False\n",
    "            content_start_line_num = 0\n",
    "            content_end_line_num = sys.maxsize\n",
    "            author = None\n",
    "            title = None\n",
    "            year = 0\n",
    "            error = ''\n",
    "            # print(f'type(tfile)={type(tfile)}')\n",
    "            try:\n",
    "                lines = [line.decode('utf-8').strip() for line in tfile.readlines()]\n",
    "            except Exception as ex:\n",
    "                return { 'id': id\n",
    "                        , 'path': zpath\n",
    "                        , 'author': author\n",
    "                        , 'title': title\n",
    "                        , 'year': year\n",
    "                        , 'content_lines': None\n",
    "                        , 'error': 'Could not decode file'\n",
    "                       }\n",
    "            title_excluded_re = re.compile('(census|dictionary|encyclo|fable|gutenberg|senate)')\n",
    "            title_digits_re = re.compile('(\\d{4})')\n",
    "            gutenberg_re = re.compile('utenberg')\n",
    "            blank_re = re.compile('^\\s*$')\n",
    "            author_re = re.compile('^Author: (.*)$')\n",
    "            release_year_re = re.compile('^Release Date: [^,]+, (\\d{4})')\n",
    "            title_re = re.compile('^Title: (.*)$')\n",
    "            start_content_re = re.compile('^\\*\\*\\*\\s*START')\n",
    "            end_small_print_re = re.compile('^\\*END\\*THE SMALL PRINT')\n",
    "            end_content1_re = re.compile('^\\*\\*\\*\\s*END')\n",
    "            end_content2_re = re.compile('^End of the Project')\n",
    "            \n",
    "            # Case 0: Year on first row\n",
    "            year_anywhere_re = re.compile('[^\\d](\\d{4})[^\\d]')\n",
    "            # Case 1: Year alone on a line with white space (and perhaps a period)\n",
    "            year_own_line_re = re.compile('^\\s*(\\d{4})\\.?\\s*$')\n",
    "            # Case 2: Year taggled with string: edition, copyright, (c), year, published,\n",
    "            #                           transcribed, or full month name\n",
    "            year_tagged_re = re.compile('(copyright|\\(c\\)|edition|published|transcribed|year|january|february|march|april|may|june|july|august|september|october|november|december)')\n",
    "            # Case 3: Year within parentheses\n",
    "            year_parens_re = re.compile('\\((\\d{4})\\)')\n",
    "            \n",
    "            # print('About to iterate through book content lines')\n",
    "            for line_num, line in enumerate(lines):\n",
    "                line_number = line_num\n",
    "\n",
    "                if line_num == 0:\n",
    "                    # Case 0: Year on first row\n",
    "                    year_anywhere_m = year_anywhere_re.search(line)\n",
    "                    if year_anywhere_m:\n",
    "                        year = year_anywhere_m.group(1)\n",
    "\n",
    "                if line_num < GUTENBERG_MAX_HEADER_LINES:\n",
    "                    if not have_seen_end_content_line:\n",
    "                        start_content_m = start_content_re.match(line)\n",
    "                        if start_content_m:\n",
    "                            have_seen_start_content_line = True\n",
    "                            # Start content after START marker\n",
    "                            content_start_line_num = line_num + 1\n",
    "                        end_small_print_m = end_small_print_re.match(line)\n",
    "                        if end_small_print_m:\n",
    "                            # Start content after end of small print\n",
    "                            content_start_line_num = line_num + 1\n",
    "                    if have_seen_start_content_line and gutenberg_re.search(line):\n",
    "                        is_in_header_paragraph = True\n",
    "                    if is_in_header_paragraph and blank_re.match(line):\n",
    "                        is_in_header_paragraph = False\n",
    "                        # Start content at next non-Gutenberg line\n",
    "                        content_start_line_num = line_num + 1\n",
    "\n",
    "                    author_m = author_re.match(line)\n",
    "                    if author_m:\n",
    "                        author = author_m.group(1)\n",
    "\n",
    "                    # release_year_m = release_year_re.match(line)\n",
    "                    # if release_year_m:\n",
    "                    #     year = release_year_m.group(1)\n",
    "\n",
    "                    title_m = title_re.match(line)         \n",
    "                    if title_m:\n",
    "                        title = title_m.group(1)\n",
    "                        title_excluded_m = title_excluded_re.search(line.lower())\n",
    "                        title_digits_m = year_anywhere_re.search(line)\n",
    "                        if title_excluded_m or title_digits_m:\n",
    "                            return { 'id': id\n",
    "                                    , 'path': zpath\n",
    "                                    , 'author': author\n",
    "                                    , 'title': title\n",
    "                                    , 'year': year\n",
    "                                    , 'content_lines':\n",
    "                                        (lines[content_start_line_num:content_end_line_num]\n",
    "                                         if do_include_content else None\n",
    "                                        )\n",
    "                                    , 'error': f'Excluded due to title'\n",
    "                                }\n",
    "\n",
    "                    if year == 0:\n",
    "                        # Case 1: Year alone on a line with white space (and perhaps a period)\n",
    "                        year_own_line_m = year_own_line_re.match(line)\n",
    "                        if year_own_line_m:\n",
    "                            year = year_own_line_m.group(1)\n",
    "                        else:\n",
    "                            # Case 2: Year tagged with string\n",
    "                            year_tagged_m = year_tagged_re.search(line.lower())\n",
    "                            release_year_m = release_year_re.match(line)\n",
    "                            if year_tagged_m and not release_year_m:\n",
    "                                # Find the year itself\n",
    "                                year_anywhere_m = year_anywhere_re.search(line)\n",
    "                                if year_anywhere_m:\n",
    "                                    year = year_anywhere_m.group(1)\n",
    "                            else:\n",
    "                                # Case 3: Year within parentheses\n",
    "                                year_parens_m = year_parens_re.search(line)\n",
    "                                if year_parens_m:\n",
    "                                    year = year_parens_m.group(1)\n",
    "\n",
    "                end_content1_m = end_content1_re.match(line)\n",
    "                end_content2_m = end_content2_re.match(line)\n",
    "                if end_content1_m or end_content2_m:\n",
    "                    content_end_line_num = line_num\n",
    "                    have_seen_end_content_line = True\n",
    "                    # print(f'Found end content tag at line {line_num}; content_end_line_num={content_end_line_num}')\n",
    "                    break\n",
    "\n",
    "            # print(f'seen_start={have_seen_start_content_line}; author={author}; title={title}; year={year}')\n",
    "            if is_in_header_paragraph:\n",
    "                error += f'{line_number}: Still in header paragraph. '\n",
    "            if not have_seen_start_content_line:\n",
    "                error += f'{line_number}: Start content line not found. '\n",
    "            if not author:\n",
    "                error += f'{line_number}: Author not found. '\n",
    "            if not title:\n",
    "                error += f'{line_number}: Title not found. '\n",
    "            if year == 0:\n",
    "                error += f'{line_number}: Year not found. '\n",
    "            if not have_seen_end_content_line:\n",
    "                error += f'{line_number}: End content line not found. '\n",
    "\n",
    "            return { 'id': id\n",
    "                    , 'path': zpath\n",
    "                    , 'author': author\n",
    "                    , 'title': title\n",
    "                    , 'year': year\n",
    "                    , 'content_lines': lines[content_start_line_num:content_end_line_num]\n",
    "                        if do_include_content else None           \n",
    "                    , 'error': error\n",
    "                    }\n",
    "            # End of zfile context manager block"
   ]
  },
  {
   "cell_type": "code",
   "execution_count": 25,
   "metadata": {
    "collapsed": true
   },
   "outputs": [],
   "source": [
    "def get_book_id_path_info(id, base_dir=None):\n",
    "    if not base_dir:\n",
    "        base_dir = GUTENBERG_DOWNLOAD_DIR\n",
    "    \"\"\"Returns (path, error_string)\"\"\"\n",
    "    if id in excluded_book_ids:\n",
    "        return (id, None, 'Excluded book id')\n",
    "    id_str = str(id)\n",
    "    segments = list(id_str)[:-1]\n",
    "    if len(segments) == 0:\n",
    "        segments.insert(0, '0')\n",
    "    if not base_dir.endswith('/'):\n",
    "        base_dir = base_dir + '/'\n",
    "    dir_path = base_dir + '/'.join(segments) + '/' + id_str + '/'\n",
    " \n",
    "    try:\n",
    "        assert(isdir(dir_path))\n",
    "    except Exception as ex:\n",
    "        return (id, None, 'A=' + str(ex))   \n",
    "    \n",
    "    files = listdir(dir_path)\n",
    "\n",
    "    try: \n",
    "        assert(len(files) > 0)\n",
    "    except Exception as ex:\n",
    "        return (id, None, 'B=' + str(ex))\n",
    "\n",
    "    if len(files) == 1:\n",
    "        return (id, dir_path + files[0], '')\n",
    "\n",
    "    no_hyphens = list(filter(lambda s: not '-' in s, files))\n",
    "    if len(no_hyphens) > 0:\n",
    "        return (id, dir_path + no_hyphens[0], '')\n",
    "\n",
    "    dash_zeros = list(filter(lambda s: '-0' in s, files))\n",
    "    if len(dash_zeros) > 0:\n",
    "        return (id, dir_path + dash_zeros[0], '')\n",
    "\n",
    "    dash_eights = list(filter(lambda s: '-8' in s, files))\n",
    "    if len(dash_eights) > 0:\n",
    "        return (id, dir_path + dash_eights[0], '')\n",
    "\n",
    "    return (id, None, 'No file with expected filename')"
   ]
  },
  {
   "cell_type": "code",
   "execution_count": 24,
   "metadata": {
    "collapsed": true
   },
   "outputs": [],
   "source": [
    "def get_book_ids(base_dir=None, excluded_book_ids=[]):\n",
    "    if not base_dir:\n",
    "        base_dir = GUTENBERG_DOWNLOAD_DIR\n",
    "    book_id_strs = []\n",
    "    for root, dirs, files in os.walk(base_dir):\n",
    "        if len(files) > 0:\n",
    "            zip_files = list(filter(lambda fname: fname.endswith('.zip'), files))\n",
    "            if len(zip_files) > 0:\n",
    "                book_id_str = zip_files[0]\n",
    "                hyphen_ind = book_id_str.find('-')\n",
    "                if hyphen_ind > -1:\n",
    "                    book_id_str = book_id_str[:hyphen_ind]\n",
    "                else:\n",
    "                    zip_ind = book_id_str.find('.zip')\n",
    "                    book_id_str = book_id_str[:zip_ind]\n",
    "                if int(book_id_str) in excluded_book_ids:\n",
    "                    continue\n",
    "                book_id_strs.append(book_id_str)\n",
    "    book_ids = [int(id_str) for id_str in book_id_strs]\n",
    "    return [book_id for book_id in book_ids if book_id not in excluded_book_ids]"
   ]
  },
  {
   "cell_type": "code",
   "execution_count": 22,
   "metadata": {
    "collapsed": true
   },
   "outputs": [],
   "source": [
    "def get_decade(y):\n",
    "    return 10 * (y // 10)"
   ]
  },
  {
   "cell_type": "code",
   "execution_count": 87,
   "metadata": {},
   "outputs": [],
   "source": [
    "def get_topic_words(model):\n",
    "    word_set = { word for topic_id in range(gmodel.num_topics)\n",
    "                for timeslice_num in range(len(gmodel.time_slices))\n",
    "                for (weight, word) in gmodel.show_topic(topic_id, timeslice_num, topn=50)\n",
    "               }\n",
    "    return sorted(word_set)"
   ]
  },
  {
   "cell_type": "code",
   "execution_count": 26,
   "metadata": {
    "collapsed": true
   },
   "outputs": [],
   "source": [
    "def test_get_book(book_id):\n",
    "    book_path_info = get_book_path_info(book_id, base_dir=GUTENBERG_DOWNLOAD_DIR)\n",
    "    if not book_path_info[0]:\n",
    "        print(f'Book #{book_id}: {book_path_info[1]}')\n",
    "        return None\n",
    "    book_path = book_path_info[0]\n",
    "    book = get_book_from_path(book_id, book_path)\n",
    "    return book  # print(f\"book_id={book_id} has {len(book['content_lines'])} lines\")"
   ]
  },
  {
   "cell_type": "code",
   "execution_count": 27,
   "metadata": {
    "collapsed": true
   },
   "outputs": [],
   "source": [
    "def test_lda(stop_words=GUTENBERG_STOPWORDS):\n",
    "    p_stemmer = PorterStemmer()\n",
    "    tokenizer = RegexpTokenizer(r'\\w+')\n",
    "    test_books = [get_book_from_id(id) for id in [101,300,400,500,600,700,804,902]]\n",
    "    test_docs = [' '.join(b['content_lines']) for b in test_books]\n",
    "    # print(f\"Titles: {[b['title'] for b in test_books]}\")\n",
    "    # print(f\"Years: {[b['year'] for b in test_books]}\")\n",
    "\n",
    "    test_texts = []\n",
    "    for doc in test_docs:\n",
    "        # clean and tokenize document string\n",
    "        raw = doc.lower()\n",
    "        tokens = tokenizer.tokenize(raw)\n",
    "        valid_tokens = [t for t in tokens if not t in stop_words]\n",
    "        stemmed_tokens = [p_stemmer.stem(st) for st in valid_tokens]\n",
    "        test_texts.append(stemmed_tokens)\n",
    "\n",
    "    test_dictionary = corpora.Dictionary(test_texts)\n",
    "    test_dictionary.filter_extremes(no_below=2, no_above=0.5, keep_n=100000)\n",
    "    test_bow = [test_dictionary.doc2bow(text) for text in test_texts]\n",
    "    ldamodel = gensim.models.ldamodel.LdaModel(test_bow\n",
    "                                               , alpha='auto'\n",
    "                                               , id2word=test_dictionary\n",
    "                                               , num_topics=20\n",
    "                                               , passes=20)\n",
    "\n",
    "    return ldamodel\n",
    "    "
   ]
  },
  {
   "cell_type": "code",
   "execution_count": 28,
   "metadata": {
    "collapsed": true
   },
   "outputs": [],
   "source": [
    "# test_ldamodel = test_lda()\n",
    "# test_ldamodel.show_topics()"
   ]
  },
  {
   "cell_type": "code",
   "execution_count": 29,
   "metadata": {
    "collapsed": true
   },
   "outputs": [],
   "source": [
    "# Sample use: util_package_contents('nltk')\n",
    "def util_package_contents(package_name):\n",
    "    file, pathname, description = imp.find_module(package_name)\n",
    "    if file:\n",
    "        raise ImportError('Not a package: %r', package_name)\n",
    "    # Use a set because some may be both source and compiled.\n",
    "    return set([os.path.splitext(module)[0]\n",
    "                for module in os.listdir(pathname)\n",
    "                if module.endswith(MODULE_EXTENSIONS)\n",
    "               ])"
   ]
  },
  {
   "cell_type": "markdown",
   "metadata": {},
   "source": [
    "<hr style=\"height: 5px\"/>"
   ]
  },
  {
   "cell_type": "markdown",
   "metadata": {},
   "source": [
    "<hr style=\"height: 5px\"/>"
   ]
  },
  {
   "cell_type": "markdown",
   "metadata": {},
   "source": [
    "<hr style=\"height: 5px\"/>"
   ]
  },
  {
   "cell_type": "markdown",
   "metadata": {},
   "source": [
    "# Examples"
   ]
  },
  {
   "cell_type": "markdown",
   "metadata": {},
   "source": [
    "# Latent Dirichlet Allocation (LDA) Example"
   ]
  },
  {
   "cell_type": "code",
   "execution_count": 30,
   "metadata": {
    "collapsed": true
   },
   "outputs": [],
   "source": [
    "test_ldamodel = test_lda()"
   ]
  },
  {
   "cell_type": "code",
   "execution_count": 31,
   "metadata": {},
   "outputs": [
    {
     "data": {
      "text/plain": [
       "[(3,\n",
       "  '0.000*\"board\" + 0.000*\"kit\" + 0.000*\"brass\" + 0.000*\"polic\" + 0.000*\"simpli\" + 0.000*\"secur\" + 0.000*\"g\" + 0.000*\"crime\" + 0.000*\"law\" + 0.000*\"commun\"'),\n",
       " (13,\n",
       "  '0.000*\"kit\" + 0.000*\"board\" + 0.000*\"brass\" + 0.000*\"g\" + 0.000*\"underground\" + 0.000*\"document\" + 0.000*\"commun\" + 0.000*\"simpli\" + 0.000*\"secur\" + 0.000*\"dwarf\"'),\n",
       " (19,\n",
       "  '0.000*\"kit\" + 0.000*\"brass\" + 0.000*\"board\" + 0.000*\"dwarf\" + 0.000*\"polic\" + 0.000*\"secur\" + 0.000*\"underground\" + 0.000*\"document\" + 0.000*\"richard\" + 0.000*\"salli\"'),\n",
       " (8,\n",
       "  '0.000*\"kit\" + 0.000*\"brass\" + 0.000*\"dwarf\" + 0.000*\"salli\" + 0.000*\"ha\" + 0.000*\"richard\" + 0.000*\"la\" + 0.000*\"barbara\" + 0.000*\"board\" + 0.000*\"honour\"'),\n",
       " (18,\n",
       "  '0.000*\"kit\" + 0.000*\"board\" + 0.000*\"brass\" + 0.000*\"g\" + 0.000*\"polic\" + 0.000*\"commun\" + 0.000*\"secur\" + 0.000*\"underground\" + 0.000*\"crime\" + 0.000*\"dwarf\"'),\n",
       " (1,\n",
       "  '0.032*\"rocket\" + 0.024*\"giant\" + 0.011*\"rat\" + 0.011*\"student\" + 0.010*\"duck\" + 0.010*\"selfish\" + 0.010*\"thorn\" + 0.010*\"linnet\" + 0.009*\"statu\" + 0.008*\"river\"'),\n",
       " (4,\n",
       "  '0.019*\"simpli\" + 0.010*\"law\" + 0.010*\"conscious\" + 0.008*\"insult\" + 0.007*\"underground\" + 0.005*\"forgiv\" + 0.005*\"nasti\" + 0.005*\"reveng\" + 0.005*\"normal\" + 0.005*\"particularli\"'),\n",
       " (10,\n",
       "  '0.017*\"board\" + 0.010*\"g\" + 0.009*\"secur\" + 0.009*\"polic\" + 0.008*\"crime\" + 0.008*\"document\" + 0.008*\"underground\" + 0.007*\"commun\" + 0.007*\"inform\" + 0.007*\"group\"'),\n",
       " (7,\n",
       "  '0.029*\"kit\" + 0.021*\"brass\" + 0.010*\"dwarf\" + 0.008*\"richard\" + 0.007*\"salli\" + 0.007*\"barbara\" + 0.007*\"ha\" + 0.006*\"grandfath\" + 0.004*\"garland\" + 0.004*\"rejoin\"'),\n",
       " (11,\n",
       "  '0.020*\"la\" + 0.013*\"monsieur\" + 0.011*\"ti\" + 0.010*\"madam\" + 0.009*\"honour\" + 0.008*\"le\" + 0.008*\"thi\" + 0.008*\"french\" + 0.007*\"hotel\" + 0.006*\"franc\"')]"
      ]
     },
     "execution_count": 31,
     "metadata": {},
     "output_type": "execute_result"
    }
   ],
   "source": [
    "test_ldamodel.show_topics()"
   ]
  },
  {
   "cell_type": "markdown",
   "metadata": {},
   "source": [
    "# Dynamic Topic Modeling (DTM) Example"
   ]
  },
  {
   "cell_type": "code",
   "execution_count": 32,
   "metadata": {},
   "outputs": [
    {
     "name": "stderr",
     "output_type": "stream",
     "text": [
      "DEBUG:root:test\n"
     ]
    }
   ],
   "source": [
    "logger = logging.getLogger()\n",
    "logger.setLevel(logging.DEBUG)\n",
    "logging.debug(\"test\")"
   ]
  },
  {
   "cell_type": "code",
   "execution_count": 33,
   "metadata": {
    "collapsed": true
   },
   "outputs": [],
   "source": [
    "# Sample data from the dtmmodel documentation\n",
    "test_documents = [[u'senior', u'studios', u'studios', u'studios', u'creators', u'award'\n",
    "              , u'mobile', u'currently', u'challenges', u'senior', u'summary'\n",
    "              , u'senior', u'motivated', u'creative', u'senior', u'performs'\n",
    "              , u'engineering', u'tasks', u'infrastructure', u'focusing', u'primarily'\n",
    "              , u'programming', u'interaction', u'designers', u'engineers'\n",
    "              , u'leadership', u'teams', u'teams', u'crews', u'responsibilities'\n",
    "              , u'engineering', u'quality', u'functional', u'functional', u'teams'\n",
    "              , u'organizing', u'prioritizing', u'technical', u'decisions'\n",
    "              , u'engineering', u'participates', u'participates', u'reviews'\n",
    "              , u'participates', u'hiring', u'conducting', u'interviews'\n",
    "              , u'feedback', u'departments', u'define', u'focusing', u'engineering'\n",
    "              , u'teams', u'crews', u'facilitate', u'engineering', u'departments'\n",
    "              , u'deadlines', u'milestones', u'typically', u'spends', u'designing'\n",
    "              , u'developing', u'updating', u'bugs', u'mentoring', u'engineers'\n",
    "              , u'define', u'schedules', u'milestones', u'participating', u'reviews'\n",
    "              , u'interviews', u'sized', u'teams', u'interacts', u'disciplines'\n",
    "              , u'knowledge', u'skills', u'knowledge', u'knowledge', u'xcode'\n",
    "              , u'scripting', u'debugging', u'skills', u'skills', u'knowledge'\n",
    "              , u'disciplines', u'animation', u'networking', u'expertise', u'competencies'\n",
    "              , u'oral', u'skills', u'management', u'skills', u'proven', u'effectively'\n",
    "              , u'teams', u'deadline', u'environment', u'bachelor', u'minimum', u'shipped'\n",
    "              , u'leadership', u'teams', u'location', u'resumes', u'jobs', u'candidates'\n",
    "              , u'openings', u'jobs'],\n",
    "             \n",
    "             [u'maryland', u'client', u'producers', u'electricity'\n",
    "              , u'operates', u'storage', u'utility', u'retail', u'customers', u'engineering'\n",
    "              , u'consultant', u'maryland', u'summary', u'technical', u'technology'\n",
    "              , u'departments', u'expertise', u'maximizing', u'output', u'reduces'\n",
    "              , u'operating', u'participates', u'areas', u'engineering', u'conducts'\n",
    "              , u'testing', u'solve', u'supports', u'environmental', u'understands'\n",
    "              , u'objectives', u'operates', u'responsibilities', u'handles', u'complex'\n",
    "              , u'engineering', u'aspects', u'monitors', u'quality', u'proficiency'\n",
    "              , u'optimization', u'recommendations', u'supports', u'personnel'\n",
    "              , u'troubleshooting', u'commissioning', u'startup', u'shutdown', u'supports'\n",
    "              , u'procedure', u'operating', u'units', u'develops', u'simulations'\n",
    "              , u'troubleshooting', u'tests', u'enhancing', u'solving', u'develops'\n",
    "              , u'estimates', u'schedules', u'scopes', u'understands', u'technical'\n",
    "              , u'management', u'utilize', u'routine', u'conducts', u'hazards', u'utilizing'\n",
    "              , u'hazard', u'operability', u'methodologies', u'participates', u'startup'\n",
    "              , u'reviews', u'pssr', u'participate', u'teams', u'participate', u'regulatory'\n",
    "              , u'audits', u'define', u'scopes', u'budgets', u'schedules', u'technical'\n",
    "              , u'management', u'environmental', u'awareness', u'interfacing', u'personnel'\n",
    "              , u'interacts', u'regulatory', u'departments', u'input', u'objectives'\n",
    "              , u'identifying', u'introducing', u'concepts', u'solutions', u'peers'\n",
    "              , u'customers', u'coworkers', u'knowledge', u'skills', u'engineering'\n",
    "              , u'quality', u'engineering', u'commissioning', u'startup', u'knowledge'\n",
    "              , u'simulators', u'technologies', u'knowledge', u'engineering', u'techniques'\n",
    "              , u'disciplines', u'leadership', u'skills', u'proven', u'engineers', u'oral'\n",
    "              , u'skills', u'technical', u'skills', u'analytically', u'solve', u'complex'\n",
    "              , u'interpret', u'proficiency', u'simulation', u'knowledge', u'applications'\n",
    "              , u'manipulate', u'applications', u'engineering', u'calculations', u'programs'\n",
    "              , u'matlab', u'excel', u'independently', u'environment', u'proven', u'skills'\n",
    "              , u'effectively', u'multiple', u'tasks', u'planning', u'organizational'\n",
    "              , u'management', u'skills', u'rigzone', u'jobs', u'developer', u'exceptional'\n",
    "              , u'strategies', u'junction', u'exceptional', u'strategies', u'solutions'\n",
    "              , u'solutions', u'biggest', u'insurers', u'operates', u'investment']\n",
    "             \n",
    "             , [u'vegas', u'tasks', u'electrical', u'contracting', u'expertise', u'virtually'\n",
    "                , u'electrical', u'developments', u'institutional', u'utilities', u'technical'\n",
    "                , u'experts', u'relationships', u'credibility', u'contractors', u'utility'\n",
    "                , u'customers', u'customer', u'relationships', u'consistently', u'innovations'\n",
    "                , u'profile', u'construct', u'envision', u'dynamic', u'complex', u'electrical'\n",
    "                , u'management', u'grad', u'internship', u'electrical', u'engineering'\n",
    "                , u'infrastructures', u'engineers', u'documented', u'management', u'engineering'\n",
    "                , u'quality', u'engineering', u'electrical', u'engineers', u'complex', u'distribution'\n",
    "                , u'grounding', u'estimation', u'testing', u'procedures', u'voltage', u'engineering'\n",
    "                , u'troubleshooting', u'installation', u'documentation', u'bsee', u'certification'\n",
    "                , u'electrical', u'voltage', u'cabling', u'electrical', u'engineering', u'candidates'\n",
    "                , u'electrical', u'internships', u'oral', u'skills', u'organizational'\n",
    "                , u'prioritization', u'skills', u'skills', u'excel', u'cadd', u'calculation'\n",
    "                , u'autocad', u'mathcad', u'skills', u'skills', u'customer', u'relationships'\n",
    "                , u'solving', u'ethic', u'motivation', u'tasks', u'budget', u'affirmative'\n",
    "                , u'diversity', u'workforce', u'gender', u'orientation', u'disability', u'disabled'\n",
    "                , u'veteran', u'vietnam', u'veteran', u'qualifying', u'veteran', u'diverse'\n",
    "                , u'candidates', u'respond', u'developing', u'workplace', u'reflects'\n",
    "                , u'diversity', u'communities', u'reviews', u'electrical', u'contracting'\n",
    "                , u'southwest', u'electrical', u'contractors']\n",
    "             \n",
    "             , [u'intern', u'electrical', u'engineering', u'idexx', u'laboratories', u'validating'\n",
    "                , u'idexx', u'integrated', u'hardware', u'entails', u'planning', u'debug'\n",
    "                , u'validation', u'engineers', u'validation', u'methodologies', u'healthcare'\n",
    "                , u'platforms', u'brightest', u'solve', u'challenges', u'innovation'\n",
    "                , u'technology', u'idexx', u'intern', u'idexx', u'interns', u'supplement'\n",
    "                , u'interns', u'teams', u'roles', u'competitive', u'interns', u'idexx'\n",
    "                , u'interns', u'participate', u'internships', u'mentors', u'seminars'\n",
    "                , u'topics', u'leadership', u'workshops', u'relevant', u'planning', u'topics'\n",
    "                , u'intern', u'presentations', u'mixers', u'applicants', u'ineligible'\n",
    "                , u'laboratory', u'compliant', u'idexx', u'laboratories', u'healthcare'\n",
    "                , u'innovation', u'practicing', u'veterinarians', u'diagnostic', u'technology'\n",
    "                , u'idexx', u'enhance', u'veterinarians', u'efficiency', u'economically'\n",
    "                , u'idexx', u'worldwide', u'diagnostic', u'tests', u'tests', u'quality'\n",
    "                , u'headquartered', u'idexx', u'laboratories', u'employs', u'customers'\n",
    "                , u'qualifications', u'applicants', u'idexx', u'interns', u'potential'\n",
    "                , u'demonstrated', u'portfolio', u'recommendation', u'resumes', u'marketing'\n",
    "                , u'location', u'americas', u'verification', u'validation', u'schedule'\n",
    "                , u'overtime', u'idexx', u'laboratories', u'reviews', u'idexx', u'laboratories'\n",
    "                , u'nasdaq', u'healthcare', u'innovation', u'practicing', u'veterinarians']\n",
    "             \n",
    "             , [u'location', u'duration', u'temp', u'verification', u'validation', u'tester'\n",
    "                , u'verification', u'validation', u'middleware', u'specifically', u'testing'\n",
    "                , u'applications', u'clinical', u'laboratory', u'regulated', u'environment'\n",
    "                , u'responsibilities', u'complex', u'hardware', u'testing', u'clinical'\n",
    "                , u'analyzers', u'laboratory', u'graphical', u'interfaces', u'complex'\n",
    "                , u'sample', u'sequencing', u'protocols', u'developers', u'correction'\n",
    "                , u'tracking', u'tool', u'timely', u'troubleshoot', u'testing', u'functional'\n",
    "                , u'manual', u'automated', u'participate', u'ongoing', u'testing', u'coverage'\n",
    "                , u'planning', u'documentation', u'testing', u'validation', u'corrections'\n",
    "                , u'monitor', u'implementation', u'recurrence', u'operating', u'statistical'\n",
    "                , u'quality', u'testing', u'global', u'multi', u'teams', u'travel', u'skills'\n",
    "                , u'concepts', u'waterfall', u'agile', u'methodologies', u'debugging'\n",
    "                , u'skills', u'complex', u'automated', u'instrumentation', u'environment'\n",
    "                , u'hardware', u'mechanical', u'components', u'tracking', u'lifecycle'\n",
    "                , u'management', u'quality', u'organize', u'define', u'priorities'\n",
    "                , u'organize', u'supervision', u'aggressive', u'deadlines', u'ambiguity'\n",
    "                , u'analyze', u'complex', u'situations', u'concepts', u'technologies'\n",
    "                , u'verbal', u'skills', u'effectively', u'technical', u'clinical'\n",
    "                , u'diverse', u'strategy', u'clinical', u'chemistry', u'analyzer'\n",
    "                , u'laboratory', u'middleware', u'basic', u'automated', u'testing'\n",
    "                , u'biomedical', u'engineering', u'technologists', u'laboratory'\n",
    "                , u'technology', u'availability', u'click', u'attach']\n",
    "             \n",
    "             ,[u'scientist', u'linux', u'asrc', u'scientist', u'linux', u'asrc'\n",
    "               , u'technology', u'solutions', u'subsidiary', u'asrc', u'engineering'\n",
    "               , u'technology', u'contracts', u'multiple', u'agencies', u'scientists'\n",
    "               , u'engineers', u'management', u'personnel', u'allows', u'solutions'\n",
    "               , u'complex', u'aeronautics', u'aviation', u'management', u'aviation'\n",
    "               , u'engineering', u'hughes', u'technical', u'technical', u'aviation'\n",
    "               , u'evaluation', u'engineering', u'management', u'technical', u'terminal'\n",
    "               , u'surveillance', u'programs', u'currently', u'scientist', u'travel'\n",
    "               , u'responsibilities', u'develops', u'technology', u'modifies'\n",
    "               , u'technical', u'complex', u'reviews', u'draft', u'conformity'\n",
    "               , u'completeness', u'testing', u'interface', u'hardware', u'regression'\n",
    "               , u'impact', u'reliability', u'maintainability', u'factors'\n",
    "               , u'standardization', u'skills', u'travel', u'programming'\n",
    "               , u'linux', u'environment', u'cisco', u'knowledge', u'terminal'\n",
    "               , u'environment', u'clearance', u'clearance', u'input', u'output'\n",
    "               , u'digital', u'automatic', u'terminal', u'management', u'controller'\n",
    "               , u'termination', u'testing', u'evaluating', u'policies', u'procedure'\n",
    "               , u'interface', u'installation', u'verification', u'certification'\n",
    "               , u'core', u'avionic', u'programs', u'knowledge', u'procedural'\n",
    "               , u'testing', u'interfacing', u'hardware', u'regression', u'impact'\n",
    "               , u'reliability', u'maintainability', u'factors', u'standardization'\n",
    "               , u'missions', u'asrc', u'subsidiaries', u'affirmative', u'employers'\n",
    "               , u'applicants', u'disability', u'veteran', u'technology', u'location'\n",
    "               , u'airport', u'bachelor', u'schedule', u'travel', u'contributor'\n",
    "               , u'management', u'asrc', u'reviews']\n",
    "             \n",
    "             , [u'technical', u'solarcity', u'niche', u'vegas', u'overview'\n",
    "                , u'resolving', u'customer', u'clients', u'expanding', u'engineers'\n",
    "                , u'developers', u'responsibilities', u'knowledge', u'planning'\n",
    "                , u'adapt', u'dynamic', u'environment', u'inventive', u'creative'\n",
    "                , u'solarcity', u'lifecycle', u'responsibilities', u'technical'\n",
    "                , u'analyzing', u'diagnosing', u'troubleshooting', u'customers'\n",
    "                , u'ticketing', u'console', u'escalate', u'knowledge', u'engineering'\n",
    "                , u'timely', u'basic', u'phone', u'functionality', u'customer'\n",
    "                , u'tracking', u'knowledgebase', u'rotation', u'configure'\n",
    "                , u'deployment', u'sccm', u'technical', u'deployment', u'deploy'\n",
    "                , u'hardware', u'solarcity', u'bachelor', u'knowledge', u'dell'\n",
    "                , u'laptops', u'analytical', u'troubleshooting', u'solving'\n",
    "                , u'skills', u'knowledge', u'databases', u'preferably', u'server'\n",
    "                , u'preferably', u'monitoring', u'suites', u'documentation'\n",
    "                , u'procedures', u'knowledge', u'entries', u'verbal', u'skills'\n",
    "                , u'customer', u'skills', u'competitive', u'solar', u'package'\n",
    "                , u'insurance', u'vacation', u'savings', u'referral', u'eligibility'\n",
    "                , u'equity', u'performers', u'solarcity', u'affirmative'\n",
    "                , u'diversity', u'workplace', u'applicants', u'orientation'\n",
    "                , u'disability', u'veteran', u'careerrookie']\n",
    "             \n",
    "             , [u'embedded', u'exelis', u'junction', u'exelis', u'embedded'\n",
    "                , u'acquisition', u'networking', u'capabilities', u'classified'\n",
    "                , u'customer', u'motivated', u'develops', u'tests', u'innovative'\n",
    "                , u'solutions', u'minimal', u'supervision', u'paced', u'environment'\n",
    "                , u'enjoys', u'assignments', u'interact', u'multi', u'disciplined'\n",
    "                , u'challenging', u'focused', u'embedded', u'developments'\n",
    "                , u'spanning', u'engineering', u'lifecycle', u'specification'\n",
    "                , u'enhancement', u'applications', u'embedded', u'freescale'\n",
    "                , u'applications', u'android', u'platforms', u'interface'\n",
    "                , u'customers', u'developers', u'refine', u'specifications'\n",
    "                , u'architectures', u'java', u'programming', u'scripts'\n",
    "                , u'python', u'debug', u'debugging', u'emulators', u'regression'\n",
    "                , u'revisions', u'specialized', u'setups', u'capabilities'\n",
    "                , u'subversion', u'technical', u'documentation', u'multiple'\n",
    "                , u'engineering', u'techexpousa', u'reviews']\n",
    "             \n",
    "             , [u'modeler', u'semantic', u'modeling', u'models', u'skills', u'ontology'\n",
    "                , u'resource', u'framework', u'schema', u'technologies', u'hadoop'\n",
    "                , u'warehouse', u'oracle', u'relational', u'artifacts', u'models'\n",
    "                , u'dictionaries', u'models', u'interface', u'specifications'\n",
    "                , u'documentation', u'harmonization', u'mappings', u'aligned'\n",
    "                , u'coordinate', u'technical', u'peer', u'reviews', u'stakeholder'\n",
    "                , u'communities', u'impact', u'domains', u'relationships'\n",
    "                , u'interdependencies', u'models', u'define', u'analyze', u'legacy'\n",
    "                , u'models', u'corporate', u'databases', u'architectural', u'alignment'\n",
    "                , u'customer', u'expertise', u'harmonization', u'modeling', u'modeling'\n",
    "                , u'consulting', u'stakeholders', u'quality', u'models', u'storage'\n",
    "                , u'agile', u'specifically', u'focus', u'modeling', u'qualifications'\n",
    "                , u'bachelors', u'accredited', u'modeler', u'encompass', u'evaluation'\n",
    "                , u'skills', u'knowledge', u'modeling', u'techniques', u'resource'\n",
    "                , u'framework', u'schema', u'technologies', u'unified', u'modeling'\n",
    "                , u'technologies', u'schemas', u'ontologies', u'sybase', u'knowledge'\n",
    "                , u'skills', u'interpersonal', u'skills', u'customers', u'clearance'\n",
    "                , u'applicants', u'eligibility', u'classified', u'clearance', u'polygraph'\n",
    "                , u'techexpousa', u'solutions', u'partnership', u'solutions', u'integration']\n",
    "             \n",
    "             , [u'technologies', u'junction', u'develops', u'maintains', u'enhances'\n",
    "                , u'complex', u'diverse', u'intensive', u'analytics', u'algorithm'\n",
    "                , u'manipulation', u'management', u'documented', u'individually'\n",
    "                , u'reviews', u'tests', u'components', u'adherence', u'resolves'\n",
    "                , u'utilizes', u'methodologies', u'environment', u'input', u'components'\n",
    "                , u'hardware', u'offs', u'reuse', u'cots', u'gots', u'synthesis'\n",
    "                , u'components', u'tasks', u'individually', u'analyzes', u'modifies'\n",
    "                , u'debugs', u'corrects', u'integrates', u'operating', u'environments'\n",
    "                , u'develops', u'queries', u'databases', u'repositories', u'recommendations'\n",
    "                , u'improving', u'documentation', u'develops', u'implements', u'algorithms'\n",
    "                , u'functional', u'assists', u'developing', u'executing', u'procedures'\n",
    "                , u'components', u'reviews', u'documentation', u'solutions', u'analyzing'\n",
    "                , u'conferring', u'users', u'engineers', u'analyzing', u'investigating'\n",
    "                , u'areas', u'adapt', u'hardware', u'mathematical', u'models', u'predict'\n",
    "                , u'outcome', u'implement', u'complex', u'database', u'repository'\n",
    "                , u'interfaces', u'queries', u'bachelors', u'accredited', u'substituted'\n",
    "                , u'bachelors', u'firewalls', u'ipsec', u'vpns', u'technology'\n",
    "                , u'administering', u'servers', u'apache', u'jboss', u'tomcat'\n",
    "                , u'developing', u'interfaces', u'firefox', u'internet', u'explorer'\n",
    "                , u'operating', u'mainframe', u'linux', u'solaris', u'virtual'\n",
    "                , u'scripting', u'programming', u'oriented', u'programming', u'ajax'\n",
    "                , u'script', u'procedures', u'cobol', u'cognos', u'fusion', u'focus'\n",
    "                , u'html', u'java', u'java', u'script', u'jquery', u'perl', u'visual'\n",
    "                , u'basic', u'powershell', u'cots', u'cots', u'oracle', u'apex'\n",
    "                , u'integration', u'competitive', u'package', u'bonus', u'corporate'\n",
    "                , u'equity', u'tuition', u'reimbursement', u'referral', u'bonus'\n",
    "                , u'holidays', u'insurance', u'flexible', u'disability', u'insurance'\n",
    "                , u'technologies', u'disability', u'accommodation', u'recruiter', u'techexpousa']\n",
    "            ]"
   ]
  },
  {
   "cell_type": "code",
   "execution_count": 34,
   "metadata": {},
   "outputs": [
    {
     "name": "stderr",
     "output_type": "stream",
     "text": [
      "INFO:gensim.corpora.textcorpus:Initializing dictionary\n",
      "INFO:gensim.corpora.dictionary:adding document #0 to Dictionary(0 unique tokens: [])\n",
      "INFO:gensim.corpora.dictionary:built Dictionary(546 unique tokens: ['animation', 'award', 'bachelor', 'bugs', 'candidates']...) from 10 documents (total 1112 corpus positions)\n"
     ]
    }
   ],
   "source": [
    "dtm_corpus = DTMcorpus(test_documents)"
   ]
  },
  {
   "cell_type": "code",
   "execution_count": 35,
   "metadata": {
    "collapsed": true
   },
   "outputs": [],
   "source": [
    "time_seq = [3, 7]  # first 3 documents are from time slice one \n",
    "#  and the other 7 are from the second time slice."
   ]
  },
  {
   "cell_type": "code",
   "execution_count": 36,
   "metadata": {},
   "outputs": [
    {
     "data": {
      "text/plain": [
       "__main__.DTMcorpus"
      ]
     },
     "execution_count": 36,
     "metadata": {},
     "output_type": "execute_result"
    }
   ],
   "source": [
    "type(dtm_corpus)"
   ]
  },
  {
   "cell_type": "code",
   "execution_count": 37,
   "metadata": {},
   "outputs": [
    {
     "name": "stderr",
     "output_type": "stream",
     "text": [
      "INFO:gensim.models.wrappers.dtmmodel:serializing temporary corpus to /var/folders/s2/y23_8q5n12d343lf0z44j9mm0000gn/T/f87d52_train-mult.dat\n",
      "INFO:gensim.corpora.bleicorpus:no word id mapping provided; initializing from corpus\n",
      "INFO:gensim.corpora.bleicorpus:storing corpus in Blei's LDA-C format into /var/folders/s2/y23_8q5n12d343lf0z44j9mm0000gn/T/f87d52_train-mult.dat\n",
      "DEBUG:smart_open.smart_open_lib:{'kw': {}, 'mode': 'wb', 'uri': '/var/folders/s2/y23_8q5n12d343lf0z44j9mm0000gn/T/f87d52_train-mult.dat'}\n",
      "DEBUG:smart_open.smart_open_lib:encoding_wrapper: {'errors': 'strict', 'encoding': None, 'mode': 'wb', 'fileobj': <_io.BufferedWriter name='/var/folders/s2/y23_8q5n12d343lf0z44j9mm0000gn/T/f87d52_train-mult.dat'>}\n",
      "INFO:gensim.corpora.bleicorpus:saving vocabulary of 546 words to /var/folders/s2/y23_8q5n12d343lf0z44j9mm0000gn/T/f87d52_train-mult.dat.vocab\n",
      "DEBUG:smart_open.smart_open_lib:{'kw': {}, 'mode': 'wb', 'uri': '/var/folders/s2/y23_8q5n12d343lf0z44j9mm0000gn/T/f87d52_train-mult.dat.vocab'}\n",
      "DEBUG:smart_open.smart_open_lib:encoding_wrapper: {'errors': 'strict', 'encoding': None, 'mode': 'wb', 'fileobj': <_io.BufferedWriter name='/var/folders/s2/y23_8q5n12d343lf0z44j9mm0000gn/T/f87d52_train-mult.dat.vocab'>}\n",
      "DEBUG:smart_open.smart_open_lib:{'kw': {}, 'mode': 'wb', 'uri': '/var/folders/s2/y23_8q5n12d343lf0z44j9mm0000gn/T/f87d52_train-seq.dat'}\n",
      "DEBUG:smart_open.smart_open_lib:encoding_wrapper: {'errors': 'strict', 'encoding': None, 'mode': 'wb', 'fileobj': <_io.BufferedWriter name='/var/folders/s2/y23_8q5n12d343lf0z44j9mm0000gn/T/f87d52_train-seq.dat'>}\n",
      "INFO:gensim.models.wrappers.dtmmodel:training DTM with args --ntopics=20 --model=dtm  --mode=fit --initialize_lda=true --corpus_prefix=/var/folders/s2/y23_8q5n12d343lf0z44j9mm0000gn/T/f87d52_train --outname=/var/folders/s2/y23_8q5n12d343lf0z44j9mm0000gn/T/f87d52_train_out --alpha=0.01 --lda_max_em_iter=10 --lda_sequence_min_iter=6  --lda_sequence_max_iter=20 --top_chain_var=0.005 --rng_seed=0 \n",
      "INFO:gensim.models.wrappers.dtmmodel:Running command ['/Users/jmc/src/dtm/dtm_release/dtm/main', '--ntopics=20', '--model=dtm', '--mode=fit', '--initialize_lda=true', '--corpus_prefix=/var/folders/s2/y23_8q5n12d343lf0z44j9mm0000gn/T/f87d52_train', '--outname=/var/folders/s2/y23_8q5n12d343lf0z44j9mm0000gn/T/f87d52_train_out', '--alpha=0.01', '--lda_max_em_iter=10', '--lda_sequence_min_iter=6', '--lda_sequence_max_iter=20', '--top_chain_var=0.005', '--rng_seed=0']\n",
      "DEBUG:gensim.utils:COMMAND: () {'args': ['/Users/jmc/src/dtm/dtm_release/dtm/main', '--ntopics=20', '--model=dtm', '--mode=fit', '--initialize_lda=true', '--corpus_prefix=/var/folders/s2/y23_8q5n12d343lf0z44j9mm0000gn/T/f87d52_train', '--outname=/var/folders/s2/y23_8q5n12d343lf0z44j9mm0000gn/T/f87d52_train_out', '--alpha=0.01', '--lda_max_em_iter=10', '--lda_sequence_min_iter=6', '--lda_sequence_max_iter=20', '--top_chain_var=0.005', '--rng_seed=0'], 'stderr': -1}\n"
     ]
    }
   ],
   "source": [
    "dtm_model = DtmModel(DTM_PATH\n",
    "                  , dtm_corpus\n",
    "                  , time_seq\n",
    "                  , num_topics=20\n",
    "                  , id2word=dtm_corpus.dictionary\n",
    "                  , initialize_lda=True)"
   ]
  },
  {
   "cell_type": "code",
   "execution_count": 38,
   "metadata": {},
   "outputs": [
    {
     "name": "stdout",
     "output_type": "stream",
     "text": [
      "Distribution of Topic 0 0.000060\n",
      "Distribution of Topic 1 0.000060\n"
     ]
    }
   ],
   "source": [
    "doc_number = 1\n",
    "num_topics = 2\n",
    "\n",
    "for i in range(0, num_topics):\n",
    "    print (\"Distribution of Topic %d %f\" % (i, dtm_model.gamma_[doc_number, i]))"
   ]
  },
  {
   "cell_type": "markdown",
   "metadata": {},
   "source": [
    "# Dynamic Influence Models (DIM) Example"
   ]
  },
  {
   "cell_type": "code",
   "execution_count": 39,
   "metadata": {},
   "outputs": [
    {
     "name": "stderr",
     "output_type": "stream",
     "text": [
      "INFO:gensim.models.wrappers.dtmmodel:serializing temporary corpus to /var/folders/s2/y23_8q5n12d343lf0z44j9mm0000gn/T/1c2614_train-mult.dat\n",
      "INFO:gensim.corpora.bleicorpus:no word id mapping provided; initializing from corpus\n",
      "INFO:gensim.corpora.bleicorpus:storing corpus in Blei's LDA-C format into /var/folders/s2/y23_8q5n12d343lf0z44j9mm0000gn/T/1c2614_train-mult.dat\n",
      "DEBUG:smart_open.smart_open_lib:{'kw': {}, 'mode': 'wb', 'uri': '/var/folders/s2/y23_8q5n12d343lf0z44j9mm0000gn/T/1c2614_train-mult.dat'}\n",
      "DEBUG:smart_open.smart_open_lib:encoding_wrapper: {'errors': 'strict', 'encoding': None, 'mode': 'wb', 'fileobj': <_io.BufferedWriter name='/var/folders/s2/y23_8q5n12d343lf0z44j9mm0000gn/T/1c2614_train-mult.dat'>}\n",
      "INFO:gensim.corpora.bleicorpus:saving vocabulary of 546 words to /var/folders/s2/y23_8q5n12d343lf0z44j9mm0000gn/T/1c2614_train-mult.dat.vocab\n",
      "DEBUG:smart_open.smart_open_lib:{'kw': {}, 'mode': 'wb', 'uri': '/var/folders/s2/y23_8q5n12d343lf0z44j9mm0000gn/T/1c2614_train-mult.dat.vocab'}\n",
      "DEBUG:smart_open.smart_open_lib:encoding_wrapper: {'errors': 'strict', 'encoding': None, 'mode': 'wb', 'fileobj': <_io.BufferedWriter name='/var/folders/s2/y23_8q5n12d343lf0z44j9mm0000gn/T/1c2614_train-mult.dat.vocab'>}\n",
      "DEBUG:smart_open.smart_open_lib:{'kw': {}, 'mode': 'wb', 'uri': '/var/folders/s2/y23_8q5n12d343lf0z44j9mm0000gn/T/1c2614_train-seq.dat'}\n",
      "DEBUG:smart_open.smart_open_lib:encoding_wrapper: {'errors': 'strict', 'encoding': None, 'mode': 'wb', 'fileobj': <_io.BufferedWriter name='/var/folders/s2/y23_8q5n12d343lf0z44j9mm0000gn/T/1c2614_train-seq.dat'>}\n",
      "INFO:gensim.models.wrappers.dtmmodel:training DTM with args --ntopics=2 --model=fixed  --mode=fit --initialize_lda=true --corpus_prefix=/var/folders/s2/y23_8q5n12d343lf0z44j9mm0000gn/T/1c2614_train --outname=/var/folders/s2/y23_8q5n12d343lf0z44j9mm0000gn/T/1c2614_train_out --alpha=0.01 --lda_max_em_iter=10 --lda_sequence_min_iter=6  --lda_sequence_max_iter=20 --top_chain_var=0.005 --rng_seed=0 \n",
      "INFO:gensim.models.wrappers.dtmmodel:Running command ['/Users/jmc/src/dtm/dtm_release/dtm/main', '--ntopics=2', '--model=fixed', '--mode=fit', '--initialize_lda=true', '--corpus_prefix=/var/folders/s2/y23_8q5n12d343lf0z44j9mm0000gn/T/1c2614_train', '--outname=/var/folders/s2/y23_8q5n12d343lf0z44j9mm0000gn/T/1c2614_train_out', '--alpha=0.01', '--lda_max_em_iter=10', '--lda_sequence_min_iter=6', '--lda_sequence_max_iter=20', '--top_chain_var=0.005', '--rng_seed=0']\n",
      "DEBUG:gensim.utils:COMMAND: () {'args': ['/Users/jmc/src/dtm/dtm_release/dtm/main', '--ntopics=2', '--model=fixed', '--mode=fit', '--initialize_lda=true', '--corpus_prefix=/var/folders/s2/y23_8q5n12d343lf0z44j9mm0000gn/T/1c2614_train', '--outname=/var/folders/s2/y23_8q5n12d343lf0z44j9mm0000gn/T/1c2614_train_out', '--alpha=0.01', '--lda_max_em_iter=10', '--lda_sequence_min_iter=6', '--lda_sequence_max_iter=20', '--top_chain_var=0.005', '--rng_seed=0'], 'stderr': -1}\n"
     ]
    }
   ],
   "source": [
    "dim_model = DtmModel(DTM_PATH, dtm_corpus, time_seq, num_topics=2,\n",
    "                 id2word=dtm_corpus.dictionary, initialize_lda=True, model='fixed')"
   ]
  },
  {
   "cell_type": "code",
   "execution_count": 40,
   "metadata": {},
   "outputs": [
    {
     "data": {
      "text/plain": [
       "0.005386304195301252"
      ]
     },
     "execution_count": 40,
     "metadata": {},
     "output_type": "execute_result"
    }
   ],
   "source": [
    "document_no = 1 #document 2\n",
    "topic_no = 1 #topic number 2\n",
    "time_slice = 0 #time slice 1\n",
    "\n",
    "dim_model.influences_time[time_slice][document_no][topic_no]"
   ]
  },
  {
   "cell_type": "markdown",
   "metadata": {},
   "source": [
    "<hr style=\"height: 5px\"/>"
   ]
  },
  {
   "cell_type": "markdown",
   "metadata": {},
   "source": [
    "<hr style=\"height: 5px\"/>"
   ]
  },
  {
   "cell_type": "markdown",
   "metadata": {},
   "source": [
    "<hr style=\"height: 5px\"/>"
   ]
  },
  {
   "cell_type": "markdown",
   "metadata": {},
   "source": [
    "# Find Books Available for Corpus Membership"
   ]
  },
  {
   "cell_type": "code",
   "execution_count": 41,
   "metadata": {
    "collapsed": true
   },
   "outputs": [],
   "source": [
    "gbook_ids = get_book_ids()"
   ]
  },
  {
   "cell_type": "code",
   "execution_count": 42,
   "metadata": {},
   "outputs": [
    {
     "data": {
      "text/plain": [
       "39684"
      ]
     },
     "execution_count": 42,
     "metadata": {},
     "output_type": "execute_result"
    }
   ],
   "source": [
    "len(gbook_ids)"
   ]
  },
  {
   "cell_type": "code",
   "execution_count": 43,
   "metadata": {
    "collapsed": true
   },
   "outputs": [],
   "source": [
    "gbook_id_path_infos = [get_book_id_path_info(id) for id in gbook_ids]"
   ]
  },
  {
   "cell_type": "code",
   "execution_count": 44,
   "metadata": {},
   "outputs": [
    {
     "data": {
      "text/plain": [
       "39684"
      ]
     },
     "execution_count": 44,
     "metadata": {},
     "output_type": "execute_result"
    }
   ],
   "source": [
    "len(gbook_id_path_infos)"
   ]
  },
  {
   "cell_type": "code",
   "execution_count": 45,
   "metadata": {
    "collapsed": true
   },
   "outputs": [],
   "source": [
    "gbook_id_paths = [(id, path) for id, path, error in gbook_id_path_infos\n",
    "                  if error == '']"
   ]
  },
  {
   "cell_type": "code",
   "execution_count": 46,
   "metadata": {},
   "outputs": [
    {
     "data": {
      "text/plain": [
       "39663"
      ]
     },
     "execution_count": 46,
     "metadata": {},
     "output_type": "execute_result"
    }
   ],
   "source": [
    "len(gbook_id_paths)"
   ]
  },
  {
   "cell_type": "code",
   "execution_count": 47,
   "metadata": {
    "collapsed": true
   },
   "outputs": [],
   "source": [
    "gbooks = [get_book_from_path(id, path, do_include_content=False)\n",
    "          for (id, path) in gbook_id_paths]"
   ]
  },
  {
   "cell_type": "code",
   "execution_count": 48,
   "metadata": {
    "collapsed": true
   },
   "outputs": [],
   "source": [
    "gbooks_valid = [book for book in gbooks\n",
    "                if book['error'] == ''\n",
    "                    and (book['year'] is not None)\n",
    "                    and int(book['year']) >= GUTENBERG_MIN_DECADE\n",
    "                    and int(book['year']) <= GUTENBERG_MAX_DECADE\n",
    "               ]"
   ]
  },
  {
   "cell_type": "code",
   "execution_count": 49,
   "metadata": {},
   "outputs": [
    {
     "data": {
      "text/plain": [
       "27001"
      ]
     },
     "execution_count": 49,
     "metadata": {},
     "output_type": "execute_result"
    }
   ],
   "source": [
    "len(gbooks_valid)"
   ]
  },
  {
   "cell_type": "code",
   "execution_count": 50,
   "metadata": {
    "collapsed": true
   },
   "outputs": [],
   "source": [
    "decade_cntr = Counter([get_decade(int(book['year']))\n",
    "                                        for book in gbooks_valid\n",
    "                                        if int(book['year']) <= 2018])"
   ]
  },
  {
   "cell_type": "code",
   "execution_count": 51,
   "metadata": {},
   "outputs": [
    {
     "data": {
      "text/plain": [
       "52"
      ]
     },
     "execution_count": 51,
     "metadata": {},
     "output_type": "execute_result"
    }
   ],
   "source": [
    "len(decade_cntr)"
   ]
  },
  {
   "cell_type": "code",
   "execution_count": 52,
   "metadata": {},
   "outputs": [
    {
     "name": "stdout",
     "output_type": "stream",
     "text": [
      "1500s: 15\n",
      "1510s: 10\n",
      "1520s: 9\n",
      "1530s: 13\n",
      "1540s: 4\n",
      "1550s: 22\n",
      "1560s: 22\n",
      "1570s: 23\n",
      "1580s: 18\n",
      "1590s: 32\n",
      "1600s: 29\n",
      "1610s: 23\n",
      "1620s: 17\n",
      "1630s: 17\n",
      "1640s: 22\n",
      "1650s: 22\n",
      "1660s: 95\n",
      "1670s: 20\n",
      "1680s: 38\n",
      "1690s: 14\n",
      "1700s: 32\n",
      "1710s: 37\n",
      "1720s: 26\n",
      "1730s: 27\n",
      "1740s: 56\n",
      "1750s: 49\n",
      "1760s: 65\n",
      "1770s: 84\n",
      "1780s: 82\n",
      "1790s: 128\n",
      "1800s: 185\n",
      "1810s: 237\n",
      "1820s: 360\n",
      "1830s: 456\n",
      "1840s: 574\n",
      "1850s: 1040\n",
      "1860s: 1030\n",
      "1870s: 1216\n",
      "1880s: 1929\n",
      "1890s: 3197\n",
      "1900s: 4103\n",
      "1910s: 5356\n",
      "1920s: 1868\n",
      "1930s: 217\n",
      "1940s: 149\n",
      "1950s: 439\n",
      "1960s: 274\n",
      "1970s: 43\n",
      "1980s: 28\n",
      "1990s: 192\n",
      "2000s: 2919\n",
      "2010s: 138\n"
     ]
    }
   ],
   "source": [
    "for decade in sorted(decade_cntr.keys()):\n",
    "    print(f'{decade}s: {decade_cntr[decade]}')"
   ]
  },
  {
   "cell_type": "code",
   "execution_count": 53,
   "metadata": {},
   "outputs": [
    {
     "data": {
      "text/plain": [
       "['A Collection of Scotch Proverbs',\n",
       " 'Two Years in the French West Indies',\n",
       " 'Jerome Cardan',\n",
       " 'Stolen Treasure',\n",
       " 'History of the Wars, Books I and II (of 8)',\n",
       " 'The Wit and Humor of America, Volume IV. (of X.)',\n",
       " 'The Golden Calf, Which the World Adores, and Desires',\n",
       " 'A Short View of the Frauds and Abuses Committed by Apothecaries',\n",
       " \"A Plain and Easie Method For Preserving (By God's Blessing)\",\n",
       " 'Loimologia: Or, an Historical Account of the Plague in London in 1665',\n",
       " 'A Day with John Milton',\n",
       " 'Bride of Lammermoor',\n",
       " 'Meteorology',\n",
       " 'Brief Lives (Vol. 2 of 2)',\n",
       " 'Brief Lives (Vol. 1 of 2)',\n",
       " 'Lives of the Poets: Gay, Thomson, Young, and Others',\n",
       " 'Tea Drinking in 18th-Century America: Its Etiquette and Equipage',\n",
       " 'Diary of Samuel Pepys, June/July 1668',\n",
       " 'Diary of Samuel Pepys, 1669',\n",
       " 'Diary of Samuel Pepys, Apr/May 1669',\n",
       " 'Diary of Samuel Pepys, August 1668',\n",
       " 'Diary of Samuel Pepys, November 1668',\n",
       " 'Diary of Samuel Pepys, December 1668',\n",
       " 'Diary of Samuel Pepys, 1668',\n",
       " 'Diary of Samuel Pepys, September/October 1668',\n",
       " 'Diary of Samuel Pepys, July 1667',\n",
       " 'Diary of Samuel Pepys, 1666',\n",
       " 'Diary of Samuel Pepys, May 1667',\n",
       " 'Diary of Samuel Pepys, June 1667',\n",
       " 'Diary of Samuel Pepys, December 1666',\n",
       " 'Diary of Samuel Pepys, August 1667',\n",
       " 'Diary of Samuel Pepys, May/June 1666',\n",
       " 'Diary of Samuel Pepys, 1665',\n",
       " 'Diary of Samuel Pepys, August/September 1666',\n",
       " 'Diary of Samuel Pepys, October 1665',\n",
       " 'Diary of Samuel Pepys, November 1666',\n",
       " 'Diary of Samuel Pepys, October 1666',\n",
       " 'Diary of Samuel Pepys, November/December 1665',\n",
       " 'Diary of Samuel Pepys, July 1666',\n",
       " 'Diary of Samuel Pepys, November 1667',\n",
       " 'Diary of Samuel Pepys, December 1667',\n",
       " 'Diary of Samuel Pepys, 1667',\n",
       " 'Diary of Samuel Pepys, April 1668',\n",
       " 'Diary of Samuel Pepys, October 1667',\n",
       " 'Diary of Samuel Pepys, September 1667',\n",
       " 'Diary of Samuel Pepys, May 1668',\n",
       " 'Diary of Samuel Pepys, June/July 1664',\n",
       " 'Diary of Samuel Pepys, April/May 1664',\n",
       " 'Diary of Samuel Pepys, May/June 1663',\n",
       " 'Diary of Samuel Pepys, November/December 1663',\n",
       " 'Diary of Samuel Pepys, September/October 1663',\n",
       " 'Diary of Samuel Pepys, July/August 1663',\n",
       " 'Diary of Samuel Pepys, 1663',\n",
       " 'Diary of Samuel Pepys, November/December 1661',\n",
       " 'Diary of Samuel Pepys, November/December 1662',\n",
       " 'Diary of Samuel Pepys, September/October 1662',\n",
       " 'Diary of Samuel Pepys, 1661',\n",
       " 'Diary of Samuel Pepys, 1662',\n",
       " 'Diary of Samuel Pepys, May/June 1662',\n",
       " 'Diary of Samuel Pepys, July/August 1662',\n",
       " 'Diary of Samuel Pepys, June/July 1660',\n",
       " 'Diary of Samuel Pepys, 1660',\n",
       " 'Diary of Samuel Pepys, October/November/December 1660',\n",
       " 'Diary of Samuel Pepys, August/September 1660',\n",
       " 'Diary of Samuel Pepys, May 1660',\n",
       " 'Diary of Samuel Pepys, June/July/August 1661',\n",
       " 'Diary of Samuel Pepys, September/October 1661',\n",
       " 'Diary of Samuel Pepys, April/May 1661',\n",
       " 'Diary of Samuel Pepys, December 1664',\n",
       " 'Diary of Samuel Pepys, 1664',\n",
       " 'Diary of Samuel Pepys, August 1665',\n",
       " 'Diary of Samuel Pepys, May/June 1665',\n",
       " 'Diary of Samuel Pepys, October/November 1664',\n",
       " 'Diary of Samuel Pepys, August/September 1664',\n",
       " 'Diary of Samuel Pepys, July 1665',\n",
       " 'Diary of Samuel Pepys, September 1665',\n",
       " 'The Town',\n",
       " 'Notes and Queries, Number 166, January 1, 1853',\n",
       " 'Notes and Queries, Number 169, January 22, 1853',\n",
       " 'In the Hands of the Malays, and Other Stories',\n",
       " 'The Age of Pope',\n",
       " 'The Age of Tennyson',\n",
       " 'A Brief History of Element Discovery, Synthesis, and Analysis',\n",
       " 'The Works of Robert Louis Stevenson - Swanston Edition Vol. XXII (of 25)',\n",
       " 'The Black Moth',\n",
       " 'The Memoirs of Madame de Montespan, Volume I.',\n",
       " 'The History of Sabatai Sevi',\n",
       " 'The Memoirs of Madame de Montespan, Complete',\n",
       " 'History of Phosphorus',\n",
       " 'The Introduction of Self-Registering Meteorological Instruments',\n",
       " \"The Valet's Tragedy and Other Stories\",\n",
       " 'Philosophical Transactions of the Royal Society - Vol 1 - 1666',\n",
       " 'The Tree That Saved Connecticut',\n",
       " 'The Works of Samuel Johnson, LL.D. in Nine Volumes',\n",
       " 'The Memoirs of Count Grammont, Volume 4']"
      ]
     },
     "execution_count": 53,
     "metadata": {},
     "output_type": "execute_result"
    }
   ],
   "source": [
    "[book['title'] for book in gbooks_valid if get_decade(int(book['year'])) == 1660]"
   ]
  },
  {
   "cell_type": "code",
   "execution_count": 54,
   "metadata": {},
   "outputs": [
    {
     "data": {
      "text/plain": [
       "27001"
      ]
     },
     "execution_count": 54,
     "metadata": {},
     "output_type": "execute_result"
    }
   ],
   "source": [
    "sum([v for k, v in decade_cntr.items() if k >= GUTENBERG_MIN_DECADE and k <= GUTENBERG_MAX_DECADE])"
   ]
  },
  {
   "cell_type": "code",
   "execution_count": 55,
   "metadata": {
    "collapsed": true
   },
   "outputs": [],
   "source": [
    "decade_log = [(k, log10(decade_cntr[k]))\n",
    "              for k in sorted(decade_cntr.keys())\n",
    "              if k >= GUTENBERG_MIN_DECADE and k <= GUTENBERG_MAX_DECADE]"
   ]
  },
  {
   "cell_type": "code",
   "execution_count": 56,
   "metadata": {
    "collapsed": true
   },
   "outputs": [],
   "source": [
    "decade_logp1 = [(k, 1 + log10(decade_cntr[k]))\n",
    "                for k in sorted(decade_cntr.keys())\n",
    "                if k >= GUTENBERG_MIN_DECADE and k <= GUTENBERG_MAX_DECADE]"
   ]
  },
  {
   "cell_type": "code",
   "execution_count": 57,
   "metadata": {
    "scrolled": true
   },
   "outputs": [
    {
     "data": {
      "image/png": "[encoded data removed]",
      "text/plain": [
       "<matplotlib.figure.Figure at 0x1a135650f0>"
      ]
     },
     "metadata": {},
     "output_type": "display_data"
    }
   ],
   "source": [
    "gxlabels = [p[0] for p in decade_log]\n",
    "gyvalues = [p[1] for p in decade_log]\n",
    "gwidth = 6\n",
    "fig, ax = plt.subplots(figsize=(50, 10))\n",
    "\n",
    "plt.bar(gxlabels, gyvalues, gwidth)\n",
    "\n",
    "ax.set_title('Gutenberg Book Count ($log_{10}$) by Decade')\n",
    "ax.set_xlabel('Year of publication')\n",
    "ax.set_ylabel('Gutenberg book count ($log_{10}$)')\n",
    "plt.xlim(xmin=1490, xmax=2020)\n",
    "ax.xaxis.set_ticks(np.arange(1500, 2011, 50))\n",
    "\n",
    "ax.title.set_fontsize(56)\n",
    "ax.xaxis.label.set_fontsize(40)\n",
    "ax.yaxis.label.set_fontsize(40)\n",
    "\n",
    "plt.rc('axes', labelsize=72)\n",
    "\n",
    "plt.show()"
   ]
  },
  {
   "cell_type": "markdown",
   "metadata": {},
   "source": [
    "# Define Corpus"
   ]
  },
  {
   "cell_type": "code",
   "execution_count": 58,
   "metadata": {},
   "outputs": [
    {
     "name": "stderr",
     "output_type": "stream",
     "text": [
      "INFO:gensim.corpora.dictionary:adding document #0 to Dictionary(0 unique tokens: [])\n",
      "INFO:gensim.corpora.dictionary:built Dictionary(347982 unique tokens: ['abandoned', 'abated', 'abbot', 'abides', 'ability']...) from 520 documents (total 14493970 corpus positions)\n",
      "INFO:gensim.corpora.dictionary:discarding 263714 tokens: [('abandoned', 270), ('able', 467), ('absence', 349), ('absent', 282), ('accepted', 330), ('accompanied', 328), ('accomplished', 301), ('according', 431), ('account', 462), ('accounts', 284)]...\n",
      "INFO:gensim.corpora.dictionary:keeping 84268 tokens which were in no less than 3 and no more than 260 (=50.0%) documents\n",
      "DEBUG:gensim.corpora.dictionary:rebuilding dictionary, shrinking gaps\n",
      "INFO:gensim.corpora.dictionary:resulting dictionary: Dictionary(84268 unique tokens: ['abated', 'abbot', 'abides', 'ability', 'ablaze']...)\n"
     ]
    }
   ],
   "source": [
    "gcorpus = GutenbergCorpus(gbooks_valid\n",
    "                          , num_books_per_decade=GUTENBERG_BOOKS_PER_DECADE\n",
    "                         )"
   ]
  },
  {
   "cell_type": "code",
   "execution_count": 59,
   "metadata": {
    "scrolled": true
   },
   "outputs": [
    {
     "name": "stdout",
     "output_type": "stream",
     "text": [
      "1500: [4114, 4115, 20958, 41195, 2074, 7658, 18571, 43518, 6386, 6400]\n",
      "1510: [45614, 47878, 17703, 27202, 19398, 32474, 13381, 13225, 18740, 21934]\n",
      "1520: [38942, 46287, 11363, 46695, 46009, 49811, 43383, 46695, 14031, 19018]\n",
      "1530: [43988, 36266, 43089, 32445, 1549, 24909, 25773, 13890, 43016, 3813]\n",
      "1540: [41346, 16246, 6783, 41346, 41346, 41346, 6783, 14291, 16246, 6783]\n",
      "1550: [11954, 20321, 17701, 25326, 40383, 28338, 21212, 36338, 13287, 33225]\n",
      "1560: [24551, 29821, 39038, 4810, 27264, 21338, 22271, 1666, 20092, 22942]\n",
      "1570: [34053, 45893, 3695, 36201, 33133, 24565, 17894, 4011, 42788, 4081]\n",
      "1580: [10108, 34840, 20993, 16420, 19961, 28796, 2763, 24454, 11955, 11948]\n",
      "1590: [48701, 13130, 5333, 4039, 22485, 4213, 17074, 27112, 16169, 17779]\n",
      "1600: [39124, 3124, 13316, 13366, 11200, 31999, 20607, 2587, 27117, 28334]\n",
      "1610: [46803, 40082, 3846, 5933, 1553, 3842, 3794, 29058, 18253, 22973]\n",
      "1620: [3841, 34974, 2232, 10222, 16277, 42216, 16417, 13888, 3838, 16759]\n",
      "1630: [42621, 17091, 45050, 4931, 12259, 16644, 40532, 5411, 46130, 10800]\n",
      "1640: [19136, 5415, 42179, 10421, 30327, 11367, 26496, 28375, 47462, 21487]\n",
      "1650: [21271, 8170, 5312, 49323, 40192, 8167, 27072, 36183, 42620, 3845]\n",
      "1660: [39616, 4182, 4156, 4199, 28511, 4170, 4158, 18776, 40106, 4151]\n",
      "1670: [8776, 25556, 12850, 10274, 40656, 14825, 13166, 9105, 19123, 10039]\n",
      "1680: [26601, 10804, 14346, 19211, 19212, 30745, 19216, 37905, 21843, 45777]\n",
      "1690: [49791, 37422, 15685, 21334, 37517, 13014, 23273, 15675, 36841, 40579]\n",
      "1700: [3864, 40384, 29547, 23272, 3866, 11254, 21346, 32721, 26334, 3856]\n",
      "1710: [29188, 38519, 36769, 25472, 3867, 26940, 3858, 15870, 10574, 36120]\n",
      "1720: [29189, 31673, 19564, 49564, 3873, 10044, 16299, 10075, 45673, 35719]\n",
      "1730: [29634, 38501, 39270, 33441, 13097, 24755, 27273, 2822, 26173, 29237]\n",
      "1740: [49422, 15455, 47838, 2114, 2113, 47170, 1147, 23446, 19777, 10352]\n",
      "1750: [41760, 3356, 33154, 11397, 2117, 46407, 6960, 48227, 32290, 3910]\n",
      "1760: [36092, 29223, 11729, 27130, 15522, 33661, 47759, 31338, 22198, 16896]\n",
      "1770: [49742, 26243, 33344, 12054, 39803, 28051, 13037, 36740, 13879, 21391]\n",
      "1780: [20337, 5249, 24886, 30872, 7135, 6608, 29231, 10129, 14892, 31910]\n",
      "1790: [9622, 13148, 13941, 3693, 25598, 4344, 1426, 44416, 21555, 42658]\n",
      "1800: [45820, 34629, 42782, 10643, 36238, 16738, 6236, 36339, 33533, 10367]\n",
      "1810: [17754, 11203, 42353, 40662, 23847, 37116, 27372, 49843, 8937, 11772]\n",
      "1820: [11401, 11331, 39590, 44159, 36691, 11516, 48414, 23729, 44056, 11445]\n",
      "1830: [43540, 11273, 37570, 43262, 18049, 36483, 45138, 23648, 45143, 12552]\n",
      "1840: [46685, 26849, 22089, 32083, 29239, 36108, 44533, 18184, 13159, 33647]\n",
      "1850: [39374, 24753, 14776, 25464, 38147, 20156, 37705, 49588, 33177, 36843]\n",
      "1860: [30611, 26668, 39258, 22663, 13163, 28513, 43562, 28034, 18646, 35664]\n",
      "1870: [48150, 11403, 47960, 11610, 48266, 3589, 29172, 43190, 17183, 46281]\n",
      "1880: [36775, 45266, 7076, 37016, 43142, 39015, 32064, 39315, 46523, 34144]\n",
      "1890: [41223, 38828, 40321, 33070, 32588, 38346, 12329, 14405, 17886, 15454]\n",
      "1900: [33844, 25057, 38214, 11860, 45131, 10842, 45234, 38013, 38164, 21759]\n",
      "1910: [11491, 14353, 28308, 28655, 17418, 48996, 32417, 22821, 19521, 12542]\n",
      "1920: [11161, 40375, 26033, 14971, 20107, 14338, 44508, 16578, 20044, 27569]\n",
      "1930: [46534, 29882, 29384, 18484, 26160, 29198, 29310, 30378, 42259, 47576]\n",
      "1940: [48977, 42375, 34449, 34975, 47403, 17306, 22226, 21670, 49127, 49174]\n",
      "1950: [32067, 28894, 31325, 32055, 32619, 28499, 23636, 41327, 37350, 32833]\n",
      "1960: [32124, 41723, 23845, 24119, 20649, 34607, 33272, 48038, 20728, 32112]\n",
      "1970: [33931, 49335, 22675, 29244, 63, 37871, 27327, 49257, 35006, 19174]\n",
      "1980: [29761, 34973, 14224, 16130, 28516, 44926, 37097, 30054, 34317, 28515]\n",
      "1990: [1055, 1053, 351, 2080, 1381, 911, 2018, 696, 898, 652]\n",
      "2000: [6224, 5101, 562, 4762, 3329, 1388, 2197, 6101, 257, 7036]\n",
      "2010: [9248, 9791, 5676, 9235, 14126, 11398, 9218, 9256, 9247, 7471]\n"
     ]
    }
   ],
   "source": [
    "for decade in gcorpus.decades:\n",
    "    print(f'{decade}: {gcorpus.selected_book_ids_by_decade[decade]}')"
   ]
  },
  {
   "cell_type": "code",
   "execution_count": 60,
   "metadata": {
    "scrolled": true
   },
   "outputs": [
    {
     "name": "stderr",
     "output_type": "stream",
     "text": [
      "INFO:gensim.models.wrappers.dtmmodel:serializing temporary corpus to /var/folders/s2/y23_8q5n12d343lf0z44j9mm0000gn/T/3d3968_train-mult.dat\n",
      "INFO:gensim.corpora.bleicorpus:no word id mapping provided; initializing from corpus\n",
      "INFO:gensim.corpora.bleicorpus:storing corpus in Blei's LDA-C format into /var/folders/s2/y23_8q5n12d343lf0z44j9mm0000gn/T/3d3968_train-mult.dat\n",
      "DEBUG:smart_open.smart_open_lib:{'kw': {}, 'mode': 'wb', 'uri': '/var/folders/s2/y23_8q5n12d343lf0z44j9mm0000gn/T/3d3968_train-mult.dat'}\n",
      "DEBUG:smart_open.smart_open_lib:encoding_wrapper: {'errors': 'strict', 'encoding': None, 'mode': 'wb', 'fileobj': <_io.BufferedWriter name='/var/folders/s2/y23_8q5n12d343lf0z44j9mm0000gn/T/3d3968_train-mult.dat'>}\n",
      "INFO:gensim.corpora.bleicorpus:saving vocabulary of 84268 words to /var/folders/s2/y23_8q5n12d343lf0z44j9mm0000gn/T/3d3968_train-mult.dat.vocab\n",
      "DEBUG:smart_open.smart_open_lib:{'kw': {}, 'mode': 'wb', 'uri': '/var/folders/s2/y23_8q5n12d343lf0z44j9mm0000gn/T/3d3968_train-mult.dat.vocab'}\n",
      "DEBUG:smart_open.smart_open_lib:encoding_wrapper: {'errors': 'strict', 'encoding': None, 'mode': 'wb', 'fileobj': <_io.BufferedWriter name='/var/folders/s2/y23_8q5n12d343lf0z44j9mm0000gn/T/3d3968_train-mult.dat.vocab'>}\n",
      "DEBUG:smart_open.smart_open_lib:{'kw': {}, 'mode': 'wb', 'uri': '/var/folders/s2/y23_8q5n12d343lf0z44j9mm0000gn/T/3d3968_train-seq.dat'}\n",
      "DEBUG:smart_open.smart_open_lib:encoding_wrapper: {'errors': 'strict', 'encoding': None, 'mode': 'wb', 'fileobj': <_io.BufferedWriter name='/var/folders/s2/y23_8q5n12d343lf0z44j9mm0000gn/T/3d3968_train-seq.dat'>}\n",
      "INFO:gensim.models.wrappers.dtmmodel:training DTM with args --ntopics=10 --model=dtm  --mode=fit --initialize_lda=true --corpus_prefix=/var/folders/s2/y23_8q5n12d343lf0z44j9mm0000gn/T/3d3968_train --outname=/var/folders/s2/y23_8q5n12d343lf0z44j9mm0000gn/T/3d3968_train_out --alpha=0.01 --lda_max_em_iter=10 --lda_sequence_min_iter=6  --lda_sequence_max_iter=20 --top_chain_var=0.005 --rng_seed=0 \n",
      "INFO:gensim.models.wrappers.dtmmodel:Running command ['/Users/jmc/src/dtm/dtm_release/dtm/main', '--ntopics=10', '--model=dtm', '--mode=fit', '--initialize_lda=true', '--corpus_prefix=/var/folders/s2/y23_8q5n12d343lf0z44j9mm0000gn/T/3d3968_train', '--outname=/var/folders/s2/y23_8q5n12d343lf0z44j9mm0000gn/T/3d3968_train_out', '--alpha=0.01', '--lda_max_em_iter=10', '--lda_sequence_min_iter=6', '--lda_sequence_max_iter=20', '--top_chain_var=0.005', '--rng_seed=0']\n",
      "DEBUG:gensim.utils:COMMAND: () {'args': ['/Users/jmc/src/dtm/dtm_release/dtm/main', '--ntopics=10', '--model=dtm', '--mode=fit', '--initialize_lda=true', '--corpus_prefix=/var/folders/s2/y23_8q5n12d343lf0z44j9mm0000gn/T/3d3968_train', '--outname=/var/folders/s2/y23_8q5n12d343lf0z44j9mm0000gn/T/3d3968_train_out', '--alpha=0.01', '--lda_max_em_iter=10', '--lda_sequence_min_iter=6', '--lda_sequence_max_iter=20', '--top_chain_var=0.005', '--rng_seed=0'], 'stderr': -1}\n"
     ]
    }
   ],
   "source": [
    "# Unused DTM params: alpha, lda_{min,max}_em_iter, lda_sequence_max_iter, top_chain_var\n",
    "logging.basicConfig(level=logging.DEBUG)\n",
    "gmodel = DtmModel(DTM_PATH\n",
    "                  , gcorpus\n",
    "                  , gcorpus.get_time_seq()\n",
    "                  , num_topics=GUTENBERG_NUM_TOPICS\n",
    "                  , id2word=gcorpus.dictionary\n",
    "                  , initialize_lda=True)"
   ]
  },
  {
   "cell_type": "code",
   "execution_count": 61,
   "metadata": {},
   "outputs": [
    {
     "name": "stdout",
     "output_type": "stream",
     "text": [
      "Doc #0=Book ID #4114\n",
      "\t{'id': 4114, 'path': '/Users/jmc/git/jaycoskey/Coskey_Metis/projects/Project4/data/gutenberg_books_en/aleph.gutenberg.org/4/1/1/4114/4114.zip', 'author': 'Filson Young', 'title': 'Christopher Columbus, Volume 7', 'year': '1500', 'content_lines': None, 'error': ''}\n",
      "Doc #1=Book ID #4115\n",
      "\t{'id': 4115, 'path': '/Users/jmc/git/jaycoskey/Coskey_Metis/projects/Project4/data/gutenberg_books_en/aleph.gutenberg.org/4/1/1/4115/4115.zip', 'author': 'Filson Young', 'title': 'Christopher Columbus, Volume 8', 'year': '1504', 'content_lines': None, 'error': ''}\n",
      "Doc #2=Book ID #20958\n",
      "\t{'id': 20958, 'path': '/Users/jmc/git/jaycoskey/Coskey_Metis/projects/Project4/data/gutenberg_books_en/aleph.gutenberg.org/2/0/9/5/20958/20958.zip', 'author': 'Robert S. Rait', 'title': 'Life in the Medieval University', 'year': '1504', 'content_lines': None, 'error': ''}\n",
      "Doc #3=Book ID #41195\n",
      "\t{'id': 41195, 'path': '/Users/jmc/git/jaycoskey/Coskey_Metis/projects/Project4/data/gutenberg_books_en/aleph.gutenberg.org/4/1/1/9/41195/41195.zip', 'author': 'Anonymous', 'title': 'Historical Description of Westminster Abbey', 'year': '1502', 'content_lines': None, 'error': ''}\n",
      "Doc #4=Book ID #2074\n",
      "\t{'id': 2074, 'path': '/Users/jmc/git/jaycoskey/Coskey_Metis/projects/Project4/data/gutenberg_books_en/aleph.gutenberg.org/2/0/7/2074/2074-0.zip', 'author': 'Jacob Burckhardt', 'title': 'The Civilisation of the Renaissance in Italy', 'year': '1500', 'content_lines': None, 'error': ''}\n",
      "Doc #5=Book ID #7658\n",
      "\t{'id': 7658, 'path': '/Users/jmc/git/jaycoskey/Coskey_Metis/projects/Project4/data/gutenberg_books_en/aleph.gutenberg.org/7/6/5/7658/7658.zip', 'author': 'Edward Bulwer-Lytton', 'title': 'Kenelm Chillingly, Complete', 'year': '1500', 'content_lines': None, 'error': ''}\n",
      "Doc #6=Book ID #18571\n",
      "\t{'id': 18571, 'path': '/Users/jmc/git/jaycoskey/Coskey_Metis/projects/Project4/data/gutenberg_books_en/aleph.gutenberg.org/1/8/5/7/18571/18571.zip', 'author': 'Various', 'title': 'The Northmen, Columbus and Cabot, 985-1503', 'year': '1503', 'content_lines': None, 'error': ''}\n",
      "Doc #7=Book ID #43518\n",
      "\t{'id': 43518, 'path': '/Users/jmc/git/jaycoskey/Coskey_Metis/projects/Project4/data/gutenberg_books_en/aleph.gutenberg.org/4/3/5/1/43518/43518.zip', 'author': 'Alfred W. Pollard', 'title': 'Old Picture Books', 'year': '1502', 'content_lines': None, 'error': ''}\n",
      "Doc #8=Book ID #6386\n",
      "\t{'id': 6386, 'path': '/Users/jmc/git/jaycoskey/Coskey_Metis/projects/Project4/data/gutenberg_books_en/aleph.gutenberg.org/6/3/8/6386/6386.zip', 'author': 'C. Suetonius Tranquillus', 'title': 'Caius Julius Caesar', 'year': '1500', 'content_lines': None, 'error': ''}\n",
      "Doc #9=Book ID #6400\n",
      "\t{'id': 6400, 'path': '/Users/jmc/git/jaycoskey/Coskey_Metis/projects/Project4/data/gutenberg_books_en/aleph.gutenberg.org/6/4/0/6400/6400.zip', 'author': 'C. Suetonius Tranquillus', 'title': 'The Lives Of The Twelve Caesars, Complete', 'year': '1500', 'content_lines': None, 'error': ''}\n",
      "Doc #10=Book ID #45614\n",
      "\t{'id': 45614, 'path': '/Users/jmc/git/jaycoskey/Coskey_Metis/projects/Project4/data/gutenberg_books_en/aleph.gutenberg.org/4/5/6/1/45614/45614.zip', 'author': 'Raphael Holinshed', 'title': 'Chronicles of England, Scotland and Ireland (3 of 6): England (5 of 9)', 'year': '1513', 'content_lines': None, 'error': ''}\n",
      "Doc #11=Book ID #47878\n",
      "\t{'id': 47878, 'path': '/Users/jmc/git/jaycoskey/Coskey_Metis/projects/Project4/data/gutenberg_books_en/aleph.gutenberg.org/4/7/8/7/47878/47878-0.zip', 'author': 'Albert F. Calvert', 'title': 'Spanish Arms and Armour', 'year': '1517', 'content_lines': None, 'error': ''}\n",
      "Doc #12=Book ID #17703\n",
      "\t{'id': 17703, 'path': '/Users/jmc/git/jaycoskey/Coskey_Metis/projects/Project4/data/gutenberg_books_en/aleph.gutenberg.org/1/7/7/0/17703/17703.zip', 'author': 'Margaret, Queen Of Navarre', 'title': 'The Tales Of The Heptameron, Vol. III. (of V.)', 'year': '1519', 'content_lines': None, 'error': ''}\n",
      "Doc #13=Book ID #27202\n",
      "\t{'id': 27202, 'path': '/Users/jmc/git/jaycoskey/Coskey_Metis/projects/Project4/data/gutenberg_books_en/aleph.gutenberg.org/2/7/2/0/27202/27202.zip', 'author': 'George W. M. Reynolds', 'title': 'Wagner, the Wehr-Wolf', 'year': '1516', 'content_lines': None, 'error': ''}\n",
      "Doc #14=Book ID #19398\n",
      "\t{'id': 19398, 'path': '/Users/jmc/git/jaycoskey/Coskey_Metis/projects/Project4/data/gutenberg_books_en/aleph.gutenberg.org/1/9/3/9/19398/19398.zip', 'author': 'G. A. Henty', 'title': 'By Right of Conquest', 'year': '1516', 'content_lines': None, 'error': ''}\n",
      "Doc #15=Book ID #32474\n",
      "\t{'id': 32474, 'path': '/Users/jmc/git/jaycoskey/Coskey_Metis/projects/Project4/data/gutenberg_books_en/aleph.gutenberg.org/3/2/4/7/32474/32474.zip', 'author': 'Bernal Diaz del Castillo', 'title': 'The Memoirs of the Conquistador Bernal Diaz del Castillo, Vol 1 (of 2)', 'year': '1514', 'content_lines': None, 'error': ''}\n",
      "Doc #16=Book ID #13381\n",
      "\t{'id': 13381, 'path': '/Users/jmc/git/jaycoskey/Coskey_Metis/projects/Project4/data/gutenberg_books_en/aleph.gutenberg.org/1/3/3/8/13381/13381.zip', 'author': 'Robert Kerr', 'title': 'A General History and Collection of Voyages and Travels, Volume 14', 'year': '1519', 'content_lines': None, 'error': ''}\n",
      "Doc #17=Book ID #13225\n",
      "\t{'id': 13225, 'path': '/Users/jmc/git/jaycoskey/Coskey_Metis/projects/Project4/data/gutenberg_books_en/aleph.gutenberg.org/1/3/2/2/13225/13225.zip', 'author': 'Robert Kerr', 'title': 'A General History and Collection of Voyages and Travels, Volume VI', 'year': '1516', 'content_lines': None, 'error': ''}\n",
      "Doc #18=Book ID #18740\n",
      "\t{'id': 18740, 'path': '/Users/jmc/git/jaycoskey/Coskey_Metis/projects/Project4/data/gutenberg_books_en/aleph.gutenberg.org/1/8/7/4/18740/18740.zip', 'author': 'Theodore Licquet', 'title': \"Rouen, It's History and Monuments\", 'year': '1515', 'content_lines': None, 'error': ''}\n",
      "Doc #19=Book ID #21934\n",
      "\t{'id': 21934, 'path': '/Users/jmc/git/jaycoskey/Coskey_Metis/projects/Project4/data/gutenberg_books_en/aleph.gutenberg.org/2/1/9/3/21934/21934.zip', 'author': 'Andrew Lang', 'title': 'The Gold Of Fairnilee', 'year': '1513', 'content_lines': None, 'error': ''}\n",
      "Doc #20=Book ID #38942\n",
      "\t{'id': 38942, 'path': '/Users/jmc/git/jaycoskey/Coskey_Metis/projects/Project4/data/gutenberg_books_en/aleph.gutenberg.org/3/8/9/4/38942/38942.zip', 'author': 'Travers Twiss', 'title': 'The Oregon Territory', 'year': '1528', 'content_lines': None, 'error': ''}\n",
      "Doc #21=Book ID #46287\n",
      "\t{'id': 46287, 'path': '/Users/jmc/git/jaycoskey/Coskey_Metis/projects/Project4/data/gutenberg_books_en/aleph.gutenberg.org/4/6/2/8/46287/46287.zip', 'author': 'Anonymous', 'title': 'The Book of Vagabonds and Beggars', 'year': '1528', 'content_lines': None, 'error': ''}\n",
      "Doc #22=Book ID #11363\n",
      "\t{'id': 11363, 'path': '/Users/jmc/git/jaycoskey/Coskey_Metis/projects/Project4/data/gutenberg_books_en/aleph.gutenberg.org/1/1/3/6/11363/11363.zip', 'author': 'Christopher Hare', 'title': 'Bayard: The Good Knight Without Fear And Without Reproach', 'year': '1527', 'content_lines': None, 'error': ''}\n",
      "Doc #23=Book ID #46695\n",
      "\t{'id': 46695, 'path': '/Users/jmc/git/jaycoskey/Coskey_Metis/projects/Project4/data/gutenberg_books_en/aleph.gutenberg.org/4/6/6/9/46695/46695.zip', 'author': 'John Bowring', 'title': 'A Visit to the Philippine Islands', 'year': '1521', 'content_lines': None, 'error': ''}\n",
      "Doc #24=Book ID #46009\n",
      "\t{'id': 46009, 'path': '/Users/jmc/git/jaycoskey/Coskey_Metis/projects/Project4/data/gutenberg_books_en/aleph.gutenberg.org/4/6/0/0/46009/46009.zip', 'author': 'Nicholas Harris Nicolas', 'title': 'The Privy Purse Expenses of King Henry VIII from November MDXXIX, to December MDXXXII', 'year': '1529', 'content_lines': None, 'error': ''}\n",
      "Doc #25=Book ID #49811\n",
      "\t{'id': 49811, 'path': '/Users/jmc/git/jaycoskey/Coskey_Metis/projects/Project4/data/gutenberg_books_en/aleph.gutenberg.org/4/9/8/1/49811/49811-0.zip', 'author': 'Robert E. Peary', 'title': 'The Mentor: The Conquest of the Poles, Serial No. 37', 'year': '1526', 'content_lines': None, 'error': ''}\n",
      "Doc #26=Book ID #43383\n",
      "\t{'id': 43383, 'path': '/Users/jmc/git/jaycoskey/Coskey_Metis/projects/Project4/data/gutenberg_books_en/aleph.gutenberg.org/4/3/3/8/43383/43383-0.zip', 'author': 'Galen', 'title': 'On the Natural Faculties', 'year': '1523', 'content_lines': None, 'error': ''}\n",
      "Doc #27=Book ID #46695\n",
      "\t{'id': 46695, 'path': '/Users/jmc/git/jaycoskey/Coskey_Metis/projects/Project4/data/gutenberg_books_en/aleph.gutenberg.org/4/6/6/9/46695/46695.zip', 'author': 'John Bowring', 'title': 'A Visit to the Philippine Islands', 'year': '1521', 'content_lines': None, 'error': ''}\n",
      "Doc #28=Book ID #14031\n",
      "\t{'id': 14031, 'path': '/Users/jmc/git/jaycoskey/Coskey_Metis/projects/Project4/data/gutenberg_books_en/aleph.gutenberg.org/1/4/0/3/14031/14031.zip', 'author': 'Erasmus', 'title': 'Colloquies of Erasmus, Volume I.', 'year': '1524', 'content_lines': None, 'error': ''}\n",
      "Doc #29=Book ID #19018\n",
      "\t{'id': 19018, 'path': '/Users/jmc/git/jaycoskey/Coskey_Metis/projects/Project4/data/gutenberg_books_en/aleph.gutenberg.org/1/9/0/1/19018/19018.zip', 'author': 'Henrik Ibsen', 'title': \"Henrik Ibsen's Prose Dramas Vol III.\", 'year': '1528', 'content_lines': None, 'error': ''}\n",
      "Doc #30=Book ID #43988\n",
      "\t{'id': 43988, 'path': '/Users/jmc/git/jaycoskey/Coskey_Metis/projects/Project4/data/gutenberg_books_en/aleph.gutenberg.org/4/3/9/8/43988/43988.zip', 'author': 'Samuel Levy Bensusan', 'title': 'Titian', 'year': '1536', 'content_lines': None, 'error': ''}\n",
      "Doc #31=Book ID #36266\n",
      "\t{'id': 36266, 'path': '/Users/jmc/git/jaycoskey/Coskey_Metis/projects/Project4/data/gutenberg_books_en/aleph.gutenberg.org/3/6/2/6/36266/36266.zip', 'author': 'Charles Bradlaugh', 'title': 'The Bible: what it is', 'year': '1536', 'content_lines': None, 'error': ''}\n",
      "Doc #32=Book ID #43089\n",
      "\t{'id': 43089, 'path': '/Users/jmc/git/jaycoskey/Coskey_Metis/projects/Project4/data/gutenberg_books_en/aleph.gutenberg.org/4/3/0/8/43089/43089.zip', 'author': 'Geoffrey Chaucer', 'title': \"Chaucer's Works, Volume 1 (of 7) -- Romaunt of the Rose; Minor Poems\", 'year': '1532', 'content_lines': None, 'error': ''}\n",
      "Doc #33=Book ID #32445\n",
      "\t{'id': 32445, 'path': '/Users/jmc/git/jaycoskey/Coskey_Metis/projects/Project4/data/gutenberg_books_en/aleph.gutenberg.org/3/2/4/4/32445/32445.zip', 'author': 'Wynkyn de Worde', 'title': 'The Pain and Sorrow of Evil Marriage', 'year': '1534', 'content_lines': None, 'error': ''}\n",
      "Doc #34=Book ID #1549\n",
      "\t{'id': 1549, 'path': '/Users/jmc/git/jaycoskey/Coskey_Metis/projects/Project4/data/gutenberg_books_en/aleph.gutenberg.org/1/5/4/1549/1549.zip', 'author': 'Martin Luther', 'title': 'Commentary on the Epistle to the Galatians', 'year': '1535', 'content_lines': None, 'error': ''}\n",
      "Doc #35=Book ID #24909\n",
      "\t{'id': 24909, 'path': '/Users/jmc/git/jaycoskey/Coskey_Metis/projects/Project4/data/gutenberg_books_en/aleph.gutenberg.org/2/4/9/0/24909/24909.zip', 'author': 'George Manville Fenn', 'title': 'The Golden Magnet', 'year': '1533', 'content_lines': None, 'error': ''}\n",
      "Doc #36=Book ID #25773\n",
      "\t{'id': 25773, 'path': '/Users/jmc/git/jaycoskey/Coskey_Metis/projects/Project4/data/gutenberg_books_en/aleph.gutenberg.org/2/5/7/7/25773/25773.zip', 'author': 'Samuel Felton', 'title': 'On the Portraits of English Authors on Gardening,', 'year': '1533', 'content_lines': None, 'error': ''}\n",
      "Doc #37=Book ID #13890\n",
      "\t{'id': 13890, 'path': '/Users/jmc/git/jaycoskey/Coskey_Metis/projects/Project4/data/gutenberg_books_en/aleph.gutenberg.org/1/3/8/9/13890/13890.zip', 'author': 'Gordon Home', 'title': 'Beautiful Britain', 'year': '1538', 'content_lines': None, 'error': ''}\n",
      "Doc #38=Book ID #43016\n",
      "\t{'id': 43016, 'path': '/Users/jmc/git/jaycoskey/Coskey_Metis/projects/Project4/data/gutenberg_books_en/aleph.gutenberg.org/4/3/0/1/43016/43016.zip', 'author': 'Geoffrey Chaucer', 'title': \"Chaucer's Works, Volume 5 (of 7) -- Notes to the Canterbury Tales\", 'year': '1532', 'content_lines': None, 'error': ''}\n",
      "Doc #39=Book ID #3813\n",
      "\t{'id': 3813, 'path': '/Users/jmc/git/jaycoskey/Coskey_Metis/projects/Project4/data/gutenberg_books_en/aleph.gutenberg.org/3/8/1/3813/3813.zip', 'author': 'H. Rider Haggard', 'title': 'The Lady Of Blossholme', 'year': '1535', 'content_lines': None, 'error': ''}\n",
      "Doc #40=Book ID #41346\n",
      "\t{'id': 41346, 'path': '/Users/jmc/git/jaycoskey/Coskey_Metis/projects/Project4/data/gutenberg_books_en/aleph.gutenberg.org/4/1/3/4/41346/41346.zip', 'author': 'George Hay', 'title': 'Bellini', 'year': '1547', 'content_lines': None, 'error': ''}\n",
      "Doc #41=Book ID #16246\n",
      "\t{'id': 16246, 'path': '/Users/jmc/git/jaycoskey/Coskey_Metis/projects/Project4/data/gutenberg_books_en/aleph.gutenberg.org/1/6/2/4/16246/16246.zip', 'author': 'Desiderius Erasmus', 'title': 'A Very Pleasaunt & Fruitful Diologe Called the Epicure', 'year': '1545', 'content_lines': None, 'error': ''}\n",
      "Doc #42=Book ID #6783\n",
      "\t{'id': 6783, 'path': '/Users/jmc/git/jaycoskey/Coskey_Metis/projects/Project4/data/gutenberg_books_en/aleph.gutenberg.org/6/7/8/6783/6783.zip', 'author': 'Frederich Schiller', 'title': 'Fiesco or, The Genoese Conspiracy', 'year': '1547', 'content_lines': None, 'error': ''}\n",
      "Doc #43=Book ID #41346\n",
      "\t{'id': 41346, 'path': '/Users/jmc/git/jaycoskey/Coskey_Metis/projects/Project4/data/gutenberg_books_en/aleph.gutenberg.org/4/1/3/4/41346/41346.zip', 'author': 'George Hay', 'title': 'Bellini', 'year': '1547', 'content_lines': None, 'error': ''}\n",
      "Doc #44=Book ID #41346\n",
      "\t{'id': 41346, 'path': '/Users/jmc/git/jaycoskey/Coskey_Metis/projects/Project4/data/gutenberg_books_en/aleph.gutenberg.org/4/1/3/4/41346/41346.zip', 'author': 'George Hay', 'title': 'Bellini', 'year': '1547', 'content_lines': None, 'error': ''}\n",
      "Doc #45=Book ID #41346\n",
      "\t{'id': 41346, 'path': '/Users/jmc/git/jaycoskey/Coskey_Metis/projects/Project4/data/gutenberg_books_en/aleph.gutenberg.org/4/1/3/4/41346/41346.zip', 'author': 'George Hay', 'title': 'Bellini', 'year': '1547', 'content_lines': None, 'error': ''}\n",
      "Doc #46=Book ID #6783\n",
      "\t{'id': 6783, 'path': '/Users/jmc/git/jaycoskey/Coskey_Metis/projects/Project4/data/gutenberg_books_en/aleph.gutenberg.org/6/7/8/6783/6783.zip', 'author': 'Frederich Schiller', 'title': 'Fiesco or, The Genoese Conspiracy', 'year': '1547', 'content_lines': None, 'error': ''}\n",
      "Doc #47=Book ID #14291\n",
      "\t{'id': 14291, 'path': '/Users/jmc/git/jaycoskey/Coskey_Metis/projects/Project4/data/gutenberg_books_en/aleph.gutenberg.org/1/4/2/9/14291/14291.zip', 'author': 'Joseph Jacobs', 'title': 'The Story of Geographical Discovery', 'year': '1548', 'content_lines': None, 'error': ''}\n",
      "Doc #48=Book ID #16246\n",
      "\t{'id': 16246, 'path': '/Users/jmc/git/jaycoskey/Coskey_Metis/projects/Project4/data/gutenberg_books_en/aleph.gutenberg.org/1/6/2/4/16246/16246.zip', 'author': 'Desiderius Erasmus', 'title': 'A Very Pleasaunt & Fruitful Diologe Called the Epicure', 'year': '1545', 'content_lines': None, 'error': ''}\n",
      "Doc #49=Book ID #6783\n",
      "\t{'id': 6783, 'path': '/Users/jmc/git/jaycoskey/Coskey_Metis/projects/Project4/data/gutenberg_books_en/aleph.gutenberg.org/6/7/8/6783/6783.zip', 'author': 'Frederich Schiller', 'title': 'Fiesco or, The Genoese Conspiracy', 'year': '1547', 'content_lines': None, 'error': ''}\n",
      "Doc #50=Book ID #11954\n",
      "\t{'id': 11954, 'path': '/Users/jmc/git/jaycoskey/Coskey_Metis/projects/Project4/data/gutenberg_books_en/aleph.gutenberg.org/1/1/9/5/11954/11954.zip', 'author': 'Francois Pierre Guillaume Guizot', 'title': 'A Popular History of France From The Earliest Times', 'year': '1559', 'content_lines': None, 'error': ''}\n",
      "Doc #51=Book ID #20321\n",
      "\t{'id': 20321, 'path': '/Users/jmc/git/jaycoskey/Coskey_Metis/projects/Project4/data/gutenberg_books_en/aleph.gutenberg.org/2/0/3/2/20321/20321.zip', 'author': 'Bartolome de las Casas', 'title': 'A Brief Account of the Destruction of the Indies', 'year': '1552', 'content_lines': None, 'error': ''}\n",
      "Doc #52=Book ID #17701\n",
      "\t{'id': 17701, 'path': '/Users/jmc/git/jaycoskey/Coskey_Metis/projects/Project4/data/gutenberg_books_en/aleph.gutenberg.org/1/7/7/0/17701/17701.zip', 'author': 'Margaret, Queen Of Navarre', 'title': 'The Tales Of The Heptameron, Vol. I. (of V.)', 'year': '1558', 'content_lines': None, 'error': ''}\n",
      "Doc #53=Book ID #25326\n",
      "\t{'id': 25326, 'path': '/Users/jmc/git/jaycoskey/Coskey_Metis/projects/Project4/data/gutenberg_books_en/aleph.gutenberg.org/2/5/3/2/25326/25326.zip', 'author': 'Giorgio Vasari', 'title': 'Lives of the Most Eminent Painters Sculptors and Architects', 'year': '1550', 'content_lines': None, 'error': ''}\n",
      "Doc #54=Book ID #40383\n",
      "\t{'id': 40383, 'path': '/Users/jmc/git/jaycoskey/Coskey_Metis/projects/Project4/data/gutenberg_books_en/aleph.gutenberg.org/4/0/3/8/40383/40383.zip', 'author': 'Carl Engel', 'title': 'Musical Myths and Facts, Volume I (of 2)', 'year': '1556', 'content_lines': None, 'error': ''}\n",
      "Doc #55=Book ID #28338\n",
      "\t{'id': 28338, 'path': '/Users/jmc/git/jaycoskey/Coskey_Metis/projects/Project4/data/gutenberg_books_en/aleph.gutenberg.org/2/8/3/3/28338/28338-0.zip', 'author': 'Desiderius Erasmus', 'title': 'The Education of Children', 'year': '1550', 'content_lines': None, 'error': ''}\n",
      "Doc #56=Book ID #21212\n",
      "\t{'id': 21212, 'path': '/Users/jmc/git/jaycoskey/Coskey_Metis/projects/Project4/data/gutenberg_books_en/aleph.gutenberg.org/2/1/2/1/21212/21212.zip', 'author': 'Giorgio Vasari', 'title': 'The Lives of the Painters, Sculptors & Architects, Volume 1 (of 8)', 'year': '1554', 'content_lines': None, 'error': ''}\n",
      "Doc #57=Book ID #36338\n",
      "\t{'id': 36338, 'path': '/Users/jmc/git/jaycoskey/Coskey_Metis/projects/Project4/data/gutenberg_books_en/aleph.gutenberg.org/3/6/3/3/36338/36338.zip', 'author': 'Benjamin  Franklin', 'title': 'Memoirs of Benjamin Franklin; Written by Himself. [Vol. 1 of 2]', 'year': '1555', 'content_lines': None, 'error': ''}\n",
      "Doc #58=Book ID #13287\n",
      "\t{'id': 13287, 'path': '/Users/jmc/git/jaycoskey/Coskey_Metis/projects/Project4/data/gutenberg_books_en/aleph.gutenberg.org/1/3/2/8/13287/13287.zip', 'author': 'Robert Kerr', 'title': 'A General History and Collection of Voyages and Travels, Volume VII', 'year': '1552', 'content_lines': None, 'error': ''}\n",
      "Doc #59=Book ID #33225\n",
      "\t{'id': 33225, 'path': '/Users/jmc/git/jaycoskey/Coskey_Metis/projects/Project4/data/gutenberg_books_en/aleph.gutenberg.org/3/3/2/2/33225/33225.zip', 'author': 'Count Carlo Gozzi', 'title': 'The Memoirs of Count Carlo Gozzi', 'year': '1550', 'content_lines': None, 'error': ''}\n",
      "Doc #60=Book ID #24551\n",
      "\t{'id': 24551, 'path': '/Users/jmc/git/jaycoskey/Coskey_Metis/projects/Project4/data/gutenberg_books_en/aleph.gutenberg.org/2/4/5/5/24551/24551.zip', 'author': 'Frederick Douglas How', 'title': 'Oxford', 'year': '1560', 'content_lines': None, 'error': ''}\n",
      "Doc #61=Book ID #29821\n",
      "\t{'id': 29821, 'path': '/Users/jmc/git/jaycoskey/Coskey_Metis/projects/Project4/data/gutenberg_books_en/aleph.gutenberg.org/2/9/8/2/29821/29821.zip', 'author': 'Unknown', 'title': 'Shakespeare Jest-Books;', 'year': '1567', 'content_lines': None, 'error': ''}\n",
      "Doc #62=Book ID #39038\n",
      "\t{'id': 39038, 'path': '/Users/jmc/git/jaycoskey/Coskey_Metis/projects/Project4/data/gutenberg_books_en/aleph.gutenberg.org/3/9/0/3/39038/39038.zip', 'author': 'Desiderius Erasmus', 'title': 'One dialogue, or Colloquye of Erasmus (entituled Diuersoria)', 'year': '1566', 'content_lines': None, 'error': ''}\n",
      "Doc #63=Book ID #4810\n",
      "\t{'id': 4810, 'path': '/Users/jmc/git/jaycoskey/Coskey_Metis/projects/Project4/data/gutenberg_books_en/aleph.gutenberg.org/4/8/1/4810/4810.zip', 'author': 'John Lothrop Motley', 'title': 'The Rise of the Dutch Republic, 1566', 'year': '1566', 'content_lines': None, 'error': ''}\n",
      "Doc #64=Book ID #27264\n"
     ]
    },
    {
     "name": "stdout",
     "output_type": "stream",
     "text": [
      "\t{'id': 27264, 'path': '/Users/jmc/git/jaycoskey/Coskey_Metis/projects/Project4/data/gutenberg_books_en/aleph.gutenberg.org/2/7/2/6/27264/27264.zip', 'author': 'John Masefield', 'title': 'William Shakespeare', 'year': '1564', 'content_lines': None, 'error': ''}\n",
      "Doc #65=Book ID #21338\n",
      "\t{'id': 21338, 'path': '/Users/jmc/git/jaycoskey/Coskey_Metis/projects/Project4/data/gutenberg_books_en/aleph.gutenberg.org/2/1/3/3/21338/21338.zip', 'author': 'Thomas Nash', 'title': 'The Vnfortunate Traveller, or The Life Of Jack Wilton', 'year': '1567', 'content_lines': None, 'error': ''}\n",
      "Doc #66=Book ID #22271\n",
      "\t{'id': 22271, 'path': '/Users/jmc/git/jaycoskey/Coskey_Metis/projects/Project4/data/gutenberg_books_en/aleph.gutenberg.org/2/2/2/7/22271/22271.zip', 'author': 'David Christie Murray', 'title': 'Schwartz: A History', 'year': '1560', 'content_lines': None, 'error': ''}\n",
      "Doc #67=Book ID #1666\n",
      "\t{'id': 1666, 'path': '/Users/jmc/git/jaycoskey/Coskey_Metis/projects/Project4/data/gutenberg_books_en/aleph.gutenberg.org/1/6/6/1666/1666.zip', 'author': 'Lucius Apuleius', 'title': 'The Golden Asse', 'year': '1566', 'content_lines': None, 'error': ''}\n",
      "Doc #68=Book ID #20092\n",
      "\t{'id': 20092, 'path': '/Users/jmc/git/jaycoskey/Coskey_Metis/projects/Project4/data/gutenberg_books_en/aleph.gutenberg.org/2/0/0/9/20092/20092.zip', 'author': 'G. A. Henty', 'title': \"Saint Bartholomew's Eve\", 'year': '1567', 'content_lines': None, 'error': ''}\n",
      "Doc #69=Book ID #22942\n",
      "\t{'id': 22942, 'path': '/Users/jmc/git/jaycoskey/Coskey_Metis/projects/Project4/data/gutenberg_books_en/aleph.gutenberg.org/2/2/9/4/22942/22942.zip', 'author': 'Emily Sarah Holt', 'title': 'Clare Avery', 'year': '1569', 'content_lines': None, 'error': ''}\n",
      "Doc #70=Book ID #34053\n",
      "\t{'id': 34053, 'path': '/Users/jmc/git/jaycoskey/Coskey_Metis/projects/Project4/data/gutenberg_books_en/aleph.gutenberg.org/3/4/0/5/34053/34053.zip', 'author': 'William Painter', 'title': 'The Palace of Pleasure', 'year': '1575', 'content_lines': None, 'error': ''}\n",
      "Doc #71=Book ID #45893\n",
      "\t{'id': 45893, 'path': '/Users/jmc/git/jaycoskey/Coskey_Metis/projects/Project4/data/gutenberg_books_en/aleph.gutenberg.org/4/5/8/9/45893/45893.zip', 'author': 'Silvanus P. Thompson', 'title': 'William Gilbert, and Terrestial Magnetism in the Time of Queen Elizabeth', 'year': '1573', 'content_lines': None, 'error': ''}\n",
      "Doc #72=Book ID #3695\n",
      "\t{'id': 3695, 'path': '/Users/jmc/git/jaycoskey/Coskey_Metis/projects/Project4/data/gutenberg_books_en/aleph.gutenberg.org/3/6/9/3695/3695.zip', 'author': 'Ben Jonson', 'title': 'Every Man Out Of His Humour', 'year': '1573', 'content_lines': None, 'error': ''}\n",
      "Doc #73=Book ID #36201\n",
      "\t{'id': 36201, 'path': '/Users/jmc/git/jaycoskey/Coskey_Metis/projects/Project4/data/gutenberg_books_en/aleph.gutenberg.org/3/6/2/0/36201/36201.zip', 'author': 'Robert F. Heizer', 'title': 'Francis Drake and the California Indians, 1579', 'year': '1579', 'content_lines': None, 'error': ''}\n",
      "Doc #74=Book ID #33133\n",
      "\t{'id': 33133, 'path': '/Users/jmc/git/jaycoskey/Coskey_Metis/projects/Project4/data/gutenberg_books_en/aleph.gutenberg.org/3/3/1/3/33133/33133.zip', 'author': 'George Taylor', 'title': 'Klytia', 'year': '1570', 'content_lines': None, 'error': ''}\n",
      "Doc #75=Book ID #24565\n",
      "\t{'id': 24565, 'path': '/Users/jmc/git/jaycoskey/Coskey_Metis/projects/Project4/data/gutenberg_books_en/aleph.gutenberg.org/2/4/5/6/24565/24565.zip', 'author': 'Harry Collingwood', 'title': 'Two Gallant Sons of Devon', 'year': '1577', 'content_lines': None, 'error': ''}\n",
      "Doc #76=Book ID #17894\n",
      "\t{'id': 17894, 'path': '/Users/jmc/git/jaycoskey/Coskey_Metis/projects/Project4/data/gutenberg_books_en/aleph.gutenberg.org/1/7/8/9/17894/17894.zip', 'author': 'Francis Hotoman', 'title': 'Franco-Gallia', 'year': '1574', 'content_lines': None, 'error': ''}\n",
      "Doc #77=Book ID #4011\n",
      "\t{'id': 4011, 'path': '/Users/jmc/git/jaycoskey/Coskey_Metis/projects/Project4/data/gutenberg_books_en/aleph.gutenberg.org/4/0/1/4011/4011.zip', 'author': 'Ben Jonson', 'title': 'Epicoene', 'year': '1573', 'content_lines': None, 'error': ''}\n",
      "Doc #78=Book ID #42788\n",
      "\t{'id': 42788, 'path': '/Users/jmc/git/jaycoskey/Coskey_Metis/projects/Project4/data/gutenberg_books_en/aleph.gutenberg.org/4/2/7/8/42788/42788.zip', 'author': 'Various', 'title': 'Notes and Queries, Number 173, February 19, 1853', 'year': '1577', 'content_lines': None, 'error': ''}\n",
      "Doc #79=Book ID #4081\n",
      "\t{'id': 4081, 'path': '/Users/jmc/git/jaycoskey/Coskey_Metis/projects/Project4/data/gutenberg_books_en/aleph.gutenberg.org/4/0/8/4081/4081.zip', 'author': 'Ben Jonson', 'title': 'The Alchemist', 'year': '1573', 'content_lines': None, 'error': ''}\n",
      "Doc #80=Book ID #10108\n",
      "\t{'id': 10108, 'path': '/Users/jmc/git/jaycoskey/Coskey_Metis/projects/Project4/data/gutenberg_books_en/aleph.gutenberg.org/1/0/1/0/10108/10108.zip', 'author': 'Anonymous', 'title': 'A Treatise Of Daunses', 'year': '1581', 'content_lines': None, 'error': ''}\n",
      "Doc #81=Book ID #34840\n",
      "\t{'id': 34840, 'path': '/Users/jmc/git/jaycoskey/Coskey_Metis/projects/Project4/data/gutenberg_books_en/aleph.gutenberg.org/3/4/8/4/34840/34840.zip', 'author': 'William Painter', 'title': 'The Palace of Pleasure', 'year': '1580', 'content_lines': None, 'error': ''}\n",
      "Doc #82=Book ID #20993\n",
      "\t{'id': 20993, 'path': '/Users/jmc/git/jaycoskey/Coskey_Metis/projects/Project4/data/gutenberg_books_en/aleph.gutenberg.org/2/0/9/9/20993/20993.zip', 'author': 'Talbot Baines Reed', 'title': 'Sir Ludar', 'year': '1585', 'content_lines': None, 'error': ''}\n",
      "Doc #83=Book ID #16420\n",
      "\t{'id': 16420, 'path': '/Users/jmc/git/jaycoskey/Coskey_Metis/projects/Project4/data/gutenberg_books_en/aleph.gutenberg.org/1/6/4/2/16420/16420.zip', 'author': 'George Puttenham', 'title': 'The Arte of English Poesie', 'year': '1589', 'content_lines': None, 'error': ''}\n",
      "Doc #84=Book ID #19961\n",
      "\t{'id': 19961, 'path': '/Users/jmc/git/jaycoskey/Coskey_Metis/projects/Project4/data/gutenberg_books_en/aleph.gutenberg.org/1/9/9/6/19961/19961-0.zip', 'author': 'Cosmos Mindeleff', 'title': 'Aboriginal Remains in Verde Valley, Arizona', 'year': '1583', 'content_lines': None, 'error': ''}\n",
      "Doc #85=Book ID #28796\n",
      "\t{'id': 28796, 'path': '/Users/jmc/git/jaycoskey/Coskey_Metis/projects/Project4/data/gutenberg_books_en/aleph.gutenberg.org/2/8/7/9/28796/28796.zip', 'author': 'Sallie Southall Cotten', 'title': 'The White Doe', 'year': '1585', 'content_lines': None, 'error': ''}\n",
      "Doc #86=Book ID #2763\n",
      "\t{'id': 2763, 'path': '/Users/jmc/git/jaycoskey/Coskey_Metis/projects/Project4/data/gutenberg_books_en/aleph.gutenberg.org/2/7/6/2763/2763.zip', 'author': 'H. Rider Haggard and Andrew Lang', 'title': \"The World's Desire\", 'year': '1584', 'content_lines': None, 'error': ''}\n",
      "Doc #87=Book ID #24454\n",
      "\t{'id': 24454, 'path': '/Users/jmc/git/jaycoskey/Coskey_Metis/projects/Project4/data/gutenberg_books_en/aleph.gutenberg.org/2/4/4/5/24454/24454.zip', 'author': 'Harry Collingwood', 'title': 'Across the Spanish Main', 'year': '1586', 'content_lines': None, 'error': ''}\n",
      "Doc #88=Book ID #11955\n",
      "\t{'id': 11955, 'path': '/Users/jmc/git/jaycoskey/Coskey_Metis/projects/Project4/data/gutenberg_books_en/aleph.gutenberg.org/1/1/9/5/11955/11955.zip', 'author': 'Francois Pierre Guillaume Guizot', 'title': 'A Popular History of France From The Earliest Times', 'year': '1589', 'content_lines': None, 'error': ''}\n",
      "Doc #89=Book ID #11948\n",
      "\t{'id': 11948, 'path': '/Users/jmc/git/jaycoskey/Coskey_Metis/projects/Project4/data/gutenberg_books_en/aleph.gutenberg.org/1/1/9/4/11948/11948.zip', 'author': 'Richard Hakluyt', 'title': 'The Principal Navigations, Voyages, Traffiques,', 'year': '1583', 'content_lines': None, 'error': ''}\n",
      "Doc #90=Book ID #48701\n",
      "\t{'id': 48701, 'path': '/Users/jmc/git/jaycoskey/Coskey_Metis/projects/Project4/data/gutenberg_books_en/aleph.gutenberg.org/4/8/7/0/48701/48701.zip', 'author': 'Wilhelm Raabe', 'title': 'The Black Galley', 'year': '1599', 'content_lines': None, 'error': ''}\n",
      "Doc #91=Book ID #13130\n",
      "\t{'id': 13130, 'path': '/Users/jmc/git/jaycoskey/Coskey_Metis/projects/Project4/data/gutenberg_books_en/aleph.gutenberg.org/1/3/1/3/13130/13130.zip', 'author': 'Robert Kerr', 'title': 'A General History and Collection of Voyages and Travels, Volume X', 'year': '1591', 'content_lines': None, 'error': ''}\n",
      "Doc #92=Book ID #5333\n",
      "\t{'id': 5333, 'path': '/Users/jmc/git/jaycoskey/Coskey_Metis/projects/Project4/data/gutenberg_books_en/aleph.gutenberg.org/5/3/3/5333/5333.zip', 'author': 'Ben Jonson', 'title': 'Every Man In His Humor', 'year': '1597', 'content_lines': None, 'error': ''}\n",
      "Doc #93=Book ID #4039\n",
      "\t{'id': 4039, 'path': '/Users/jmc/git/jaycoskey/Coskey_Metis/projects/Project4/data/gutenberg_books_en/aleph.gutenberg.org/4/0/3/4039/4039.zip', 'author': 'Ben Jonson', 'title': 'Volpone; Or, The Fox', 'year': '1597', 'content_lines': None, 'error': ''}\n",
      "Doc #94=Book ID #22485\n",
      "\t{'id': 22485, 'path': '/Users/jmc/git/jaycoskey/Coskey_Metis/projects/Project4/data/gutenberg_books_en/aleph.gutenberg.org/2/2/4/8/22485/22485.zip', 'author': 'Rosalind Northcote', 'title': 'Devon, Its Moorlands, Streams and Coasts', 'year': '1590', 'content_lines': None, 'error': ''}\n",
      "Doc #95=Book ID #4213\n",
      "\t{'id': 4213, 'path': '/Users/jmc/git/jaycoskey/Coskey_Metis/projects/Project4/data/gutenberg_books_en/aleph.gutenberg.org/4/2/1/4213/4213.zip', 'author': 'Charles W. Colby', 'title': 'The Founder of New France: A Chronicle of Champlain', 'year': '1598', 'content_lines': None, 'error': ''}\n",
      "Doc #96=Book ID #17074\n",
      "\t{'id': 17074, 'path': '/Users/jmc/git/jaycoskey/Coskey_Metis/projects/Project4/data/gutenberg_books_en/aleph.gutenberg.org/1/7/0/7/17074/17074.zip', 'author': 'J.S. Shedlock', 'title': 'The Pianoforte Sonata', 'year': '1598', 'content_lines': None, 'error': ''}\n",
      "Doc #97=Book ID #27112\n",
      "\t{'id': 27112, 'path': '/Users/jmc/git/jaycoskey/Coskey_Metis/projects/Project4/data/gutenberg_books_en/aleph.gutenberg.org/2/7/1/1/27112/27112.zip', 'author': 'Gleeson White', 'title': \"Children's Books and Their Illustrators\", 'year': '1591', 'content_lines': None, 'error': ''}\n",
      "Doc #98=Book ID #16169\n",
      "\t{'id': 16169, 'path': '/Users/jmc/git/jaycoskey/Coskey_Metis/projects/Project4/data/gutenberg_books_en/aleph.gutenberg.org/1/6/1/6/16169/16169.zip', 'author': 'Christopher Marlowe', 'title': 'The Tragedy of Dido Queene of Carthage', 'year': '1594', 'content_lines': None, 'error': ''}\n",
      "Doc #99=Book ID #17779\n",
      "\t{'id': 17779, 'path': '/Users/jmc/git/jaycoskey/Coskey_Metis/projects/Project4/data/gutenberg_books_en/aleph.gutenberg.org/1/7/7/7/17779/17779.zip', 'author': 'Thomas Nash', 'title': 'The Choise of Valentines', 'year': '1593', 'content_lines': None, 'error': ''}\n",
      "Doc #100=Book ID #39124\n",
      "\t{'id': 39124, 'path': '/Users/jmc/git/jaycoskey/Coskey_Metis/projects/Project4/data/gutenberg_books_en/aleph.gutenberg.org/3/9/1/2/39124/39124.zip', 'author': 'J. M. Wheeler and G. W. Foote', 'title': 'Voltaire: A Sketch of his Life and Works', 'year': '1604', 'content_lines': None, 'error': ''}\n",
      "Doc #101=Book ID #3124\n",
      "\t{'id': 3124, 'path': '/Users/jmc/git/jaycoskey/Coskey_Metis/projects/Project4/data/gutenberg_books_en/aleph.gutenberg.org/3/1/2/3124/3124.zip', 'author': 'Charles Dudley Warner', 'title': 'The People For Whom Shakespeare Wrote', 'year': '1602', 'content_lines': None, 'error': ''}\n",
      "Doc #102=Book ID #13316\n",
      "\t{'id': 13316, 'path': '/Users/jmc/git/jaycoskey/Coskey_Metis/projects/Project4/data/gutenberg_books_en/aleph.gutenberg.org/1/3/3/1/13316/13316.zip', 'author': 'Anicius Manlius Severinus Boethius', 'title': 'The Theological Tractates and The Consolation of Philosophy', 'year': '1609', 'content_lines': None, 'error': ''}\n",
      "Doc #103=Book ID #13366\n",
      "\t{'id': 13366, 'path': '/Users/jmc/git/jaycoskey/Coskey_Metis/projects/Project4/data/gutenberg_books_en/aleph.gutenberg.org/1/3/3/6/13366/13366.zip', 'author': 'Robert Kerr', 'title': 'A General History and Collection of Voyages and Travels, Vol. VIII.', 'year': '1603', 'content_lines': None, 'error': ''}\n",
      "Doc #104=Book ID #11200\n",
      "\t{'id': 11200, 'path': '/Users/jmc/git/jaycoskey/Coskey_Metis/projects/Project4/data/gutenberg_books_en/aleph.gutenberg.org/1/1/2/0/11200/11200.zip', 'author': 'Louis P. Benezet', 'title': 'The World War and What was Behind It', 'year': '1600', 'content_lines': None, 'error': ''}\n",
      "Doc #105=Book ID #31999\n",
      "\t{'id': 31999, 'path': '/Users/jmc/git/jaycoskey/Coskey_Metis/projects/Project4/data/gutenberg_books_en/aleph.gutenberg.org/3/1/9/9/31999/31999.zip', 'author': 'W. James King', 'title': 'The Natural Philosophy of William Gilbert and His Predecessors', 'year': '1600', 'content_lines': None, 'error': ''}\n",
      "Doc #106=Book ID #20607\n",
      "\t{'id': 20607, 'path': '/Users/jmc/git/jaycoskey/Coskey_Metis/projects/Project4/data/gutenberg_books_en/aleph.gutenberg.org/2/0/6/0/20607/20607.zip', 'author': 'Josef Israels', 'title': 'Rembrandt', 'year': '1604', 'content_lines': None, 'error': ''}\n",
      "Doc #107=Book ID #2587\n",
      "\t{'id': 2587, 'path': '/Users/jmc/git/jaycoskey/Coskey_Metis/projects/Project4/data/gutenberg_books_en/aleph.gutenberg.org/2/5/8/2587/2587.zip', 'author': 'Pedro Calderon de la Barca', 'title': 'Life Is A Dream', 'year': '1600', 'content_lines': None, 'error': ''}\n",
      "Doc #108=Book ID #27117\n",
      "\t{'id': 27117, 'path': '/Users/jmc/git/jaycoskey/Coskey_Metis/projects/Project4/data/gutenberg_books_en/aleph.gutenberg.org/2/7/1/1/27117/27117.zip', 'author': 'Melvin Herndon', 'title': 'Tobacco in Colonial Virginia', 'year': '1607', 'content_lines': None, 'error': ''}\n",
      "Doc #109=Book ID #28334\n",
      "\t{'id': 28334, 'path': '/Users/jmc/git/jaycoskey/Coskey_Metis/projects/Project4/data/gutenberg_books_en/aleph.gutenberg.org/2/8/3/3/28334/28334.zip', 'author': 'William Shakespeare', 'title': 'The New Hudson Shakespeare: Julius Caesar', 'year': '1603', 'content_lines': None, 'error': ''}\n",
      "Doc #110=Book ID #46803\n",
      "\t{'id': 46803, 'path': '/Users/jmc/git/jaycoskey/Coskey_Metis/projects/Project4/data/gutenberg_books_en/aleph.gutenberg.org/4/6/8/0/46803/46803-0.zip', 'author': 'Richard Cocks', 'title': 'Diary of Richard Cocks Vol. I', 'year': '1615', 'content_lines': None, 'error': ''}\n",
      "Doc #111=Book ID #40082\n",
      "\t{'id': 40082, 'path': '/Users/jmc/git/jaycoskey/Coskey_Metis/projects/Project4/data/gutenberg_books_en/aleph.gutenberg.org/4/0/0/8/40082/40082.zip', 'author': 'Samuel Rawson Gardiner', 'title': \"The Thirty Years' War\", 'year': '1618', 'content_lines': None, 'error': ''}\n",
      "Doc #112=Book ID #3846\n",
      "\t{'id': 3846, 'path': '/Users/jmc/git/jaycoskey/Coskey_Metis/projects/Project4/data/gutenberg_books_en/aleph.gutenberg.org/3/8/4/3846/3846.zip', 'author': 'Jean Francois Paul de Gondi, Cardinal de Retz', 'title': 'The Memoirs of Cardinal de Retz, Complete', 'year': '1614', 'content_lines': None, 'error': ''}\n",
      "Doc #113=Book ID #5933\n",
      "\t{'id': 5933, 'path': '/Users/jmc/git/jaycoskey/Coskey_Metis/projects/Project4/data/gutenberg_books_en/aleph.gutenberg.org/5/9/3/5933/5933.zip', 'author': 'Miguel de Cervantes Saavedra', 'title': 'The History of Don Quixote, Vol. II., Part 30', 'year': '1614', 'content_lines': None, 'error': ''}\n",
      "Doc #114=Book ID #1553\n",
      "\t{'id': 1553, 'path': '/Users/jmc/git/jaycoskey/Coskey_Metis/projects/Project4/data/gutenberg_books_en/aleph.gutenberg.org/1/5/5/1553/1553.zip', 'author': 'Honore de Balzac', 'title': 'The Hidden Masterpiece', 'year': '1612', 'content_lines': None, 'error': ''}\n",
      "Doc #115=Book ID #3842\n",
      "\t{'id': 3842, 'path': '/Users/jmc/git/jaycoskey/Coskey_Metis/projects/Project4/data/gutenberg_books_en/aleph.gutenberg.org/3/8/4/3842/3842.zip', 'author': 'Jean Francois Paul de Gondi, Cardinal de Retz', 'title': 'Memoirs Of Jean Francois Paul De Gondi, Cardinal De Retz, Volume I.', 'year': '1614', 'content_lines': None, 'error': ''}\n",
      "Doc #116=Book ID #3794\n",
      "\t{'id': 3794, 'path': '/Users/jmc/git/jaycoskey/Coskey_Metis/projects/Project4/data/gutenberg_books_en/aleph.gutenberg.org/3/7/9/3794/3794.zip', 'author': 'Seneca', 'title': 'L. Annaeus Seneca On Benefits', 'year': '1614', 'content_lines': None, 'error': ''}\n",
      "Doc #117=Book ID #29058\n",
      "\t{'id': 29058, 'path': '/Users/jmc/git/jaycoskey/Coskey_Metis/projects/Project4/data/gutenberg_books_en/aleph.gutenberg.org/2/9/0/5/29058/29058.zip', 'author': 'William Lawson', 'title': 'A New Orchard And Garden', 'year': '1618', 'content_lines': None, 'error': ''}\n",
      "Doc #118=Book ID #18253\n",
      "\t{'id': 18253, 'path': '/Users/jmc/git/jaycoskey/Coskey_Metis/projects/Project4/data/gutenberg_books_en/aleph.gutenberg.org/1/8/2/5/18253/18253.zip', 'author': 'Thomas Potts', 'title': 'Discovery of Witches', 'year': '1613', 'content_lines': None, 'error': ''}\n",
      "Doc #119=Book ID #22973\n",
      "\t{'id': 22973, 'path': '/Users/jmc/git/jaycoskey/Coskey_Metis/projects/Project4/data/gutenberg_books_en/aleph.gutenberg.org/2/2/9/7/22973/22973.zip', 'author': 'Gervase Markham', 'title': 'The English Husbandman', 'year': '1613', 'content_lines': None, 'error': ''}\n",
      "Doc #120=Book ID #3841\n",
      "\t{'id': 3841, 'path': '/Users/jmc/git/jaycoskey/Coskey_Metis/projects/Project4/data/gutenberg_books_en/aleph.gutenberg.org/3/8/4/3841/3841.zip', 'author': 'Marguerite de Valois, Queen of Navarre', 'title': 'Memoirs of Marguerite de Valois, Complete', 'year': '1628', 'content_lines': None, 'error': ''}\n",
      "Doc #121=Book ID #34974\n",
      "\t{'id': 34974, 'path': '/Users/jmc/git/jaycoskey/Coskey_Metis/projects/Project4/data/gutenberg_books_en/aleph.gutenberg.org/3/4/9/7/34974/34974.zip', 'author': 'Theodore de la Guard', 'title': 'The Simple Cobler of Aggawam in America', 'year': '1629', 'content_lines': None, 'error': ''}\n",
      "Doc #122=Book ID #2232\n",
      "\t{'id': 2232, 'path': '/Users/jmc/git/jaycoskey/Coskey_Metis/projects/Project4/data/gutenberg_books_en/aleph.gutenberg.org/2/2/3/2232/2232.zip', 'author': 'John Webster', 'title': 'The Duchess of Malfi', 'year': '1623', 'content_lines': None, 'error': ''}\n",
      "Doc #123=Book ID #10222\n",
      "\t{'id': 10222, 'path': '/Users/jmc/git/jaycoskey/Coskey_Metis/projects/Project4/data/gutenberg_books_en/aleph.gutenberg.org/1/0/2/2/10222/10222.zip', 'author': 'Mrs. J. B. Webb', 'title': 'The Pilgrims of New England', 'year': '1620', 'content_lines': None, 'error': ''}\n",
      "Doc #124=Book ID #16277\n",
      "\t{'id': 16277, 'path': '/Users/jmc/git/jaycoskey/Coskey_Metis/projects/Project4/data/gutenberg_books_en/aleph.gutenberg.org/1/6/2/7/16277/16277.zip', 'author': 'John L. Cotter', 'title': 'New Discoveries at Jamestown', 'year': '1620', 'content_lines': None, 'error': ''}\n",
      "Doc #125=Book ID #42216\n",
      "\t{'id': 42216, 'path': '/Users/jmc/git/jaycoskey/Coskey_Metis/projects/Project4/data/gutenberg_books_en/aleph.gutenberg.org/4/2/2/1/42216/42216.zip', 'author': 'Florian Cajori', 'title': \"On the History of Gunter's Scale and the Slide Rule during the Seventeenth Century\", 'year': '1624', 'content_lines': None, 'error': ''}\n",
      "Doc #126=Book ID #16417\n",
      "\t{'id': 16417, 'path': '/Users/jmc/git/jaycoskey/Coskey_Metis/projects/Project4/data/gutenberg_books_en/aleph.gutenberg.org/1/6/4/1/16417/16417.zip', 'author': 'Edmund Deane', 'title': 'Spadacrene Anglica', 'year': '1626', 'content_lines': None, 'error': ''}\n",
      "Doc #127=Book ID #13888\n",
      "\t{'id': 13888, 'path': '/Users/jmc/git/jaycoskey/Coskey_Metis/projects/Project4/data/gutenberg_books_en/aleph.gutenberg.org/1/3/8/8/13888/13888.zip', 'author': 'Richard William Church', 'title': 'Bacon', 'year': '1621', 'content_lines': None, 'error': ''}\n",
      "Doc #128=Book ID #3838\n",
      "\t{'id': 3838, 'path': '/Users/jmc/git/jaycoskey/Coskey_Metis/projects/Project4/data/gutenberg_books_en/aleph.gutenberg.org/3/8/3/3838/3838.zip', 'author': 'Marguerite de Valois, Queen of Navarre', 'title': 'The Memoirs of Marguerite de Valois, Volume I.', 'year': '1628', 'content_lines': None, 'error': ''}\n",
      "Doc #129=Book ID #16759\n",
      "\t{'id': 16759, 'path': '/Users/jmc/git/jaycoskey/Coskey_Metis/projects/Project4/data/gutenberg_books_en/aleph.gutenberg.org/1/6/7/5/16759/16759.zip', 'author': 'Thomas a Kempis', 'title': 'The Chronicle of the Canons Regular of Mount St. Agnes', 'year': '1621', 'content_lines': None, 'error': ''}\n",
      "Doc #130=Book ID #42621\n",
      "\t{'id': 42621, 'path': '/Users/jmc/git/jaycoskey/Coskey_Metis/projects/Project4/data/gutenberg_books_en/aleph.gutenberg.org/4/2/6/2/42621/42621.zip', 'author': 'Robert Lovell', 'title': 'Poems', 'year': '1633', 'content_lines': None, 'error': ''}\n",
      "Doc #131=Book ID #17091\n",
      "\t{'id': 17091, 'path': '/Users/jmc/git/jaycoskey/Coskey_Metis/projects/Project4/data/gutenberg_books_en/aleph.gutenberg.org/1/7/0/9/17091/17091.zip', 'author': 'John Drinkwater', 'title': 'Oliver Cromwell', 'year': '1639', 'content_lines': None, 'error': ''}\n",
      "Doc #132=Book ID #45050\n",
      "\t{'id': 45050, 'path': '/Users/jmc/git/jaycoskey/Coskey_Metis/projects/Project4/data/gutenberg_books_en/aleph.gutenberg.org/4/5/0/5/45050/45050.zip', 'author': 'James Shirley', 'title': 'The Lady of Pleasure', 'year': '1637', 'content_lines': None, 'error': ''}\n",
      "Doc #133=Book ID #4931\n",
      "\t{'id': 4931, 'path': '/Users/jmc/git/jaycoskey/Coskey_Metis/projects/Project4/data/gutenberg_books_en/aleph.gutenberg.org/4/9/3/4931/4931.zip', 'author': 'G.A. Henty', 'title': 'Won by the Sword', 'year': '1639', 'content_lines': None, 'error': ''}\n",
      "Doc #134=Book ID #12259\n",
      "\t{'id': 12259, 'path': '/Users/jmc/git/jaycoskey/Coskey_Metis/projects/Project4/data/gutenberg_books_en/aleph.gutenberg.org/1/2/2/5/12259/12259.zip', 'author': 'Daniel Defoe', 'title': 'Memoirs of a Cavalier', 'year': '1632', 'content_lines': None, 'error': ''}\n",
      "Doc #135=Book ID #16644\n",
      "\t{'id': 16644, 'path': '/Users/jmc/git/jaycoskey/Coskey_Metis/projects/Project4/data/gutenberg_books_en/aleph.gutenberg.org/1/6/6/4/16644/16644.zip', 'author': 'Lucy Fitch Perkins', 'title': 'The Puritan Twins', 'year': '1638', 'content_lines': None, 'error': ''}\n",
      "Doc #136=Book ID #40532\n",
      "\t{'id': 40532, 'path': '/Users/jmc/git/jaycoskey/Coskey_Metis/projects/Project4/data/gutenberg_books_en/aleph.gutenberg.org/4/0/5/3/40532/40532.zip', 'author': 'George C. Williamson', 'title': 'Portrait Miniatures', 'year': '1632', 'content_lines': None, 'error': ''}\n",
      "Doc #137=Book ID #5411\n",
      "\t{'id': 5411, 'path': '/Users/jmc/git/jaycoskey/Coskey_Metis/projects/Project4/data/gutenberg_books_en/aleph.gutenberg.org/5/4/1/5411/5411.zip', 'author': 'Anthony Hamilton', 'title': 'The Memoirs of Count Grammont, Volume 3', 'year': '1631', 'content_lines': None, 'error': ''}\n",
      "Doc #138=Book ID #46130\n",
      "\t{'id': 46130, 'path': '/Users/jmc/git/jaycoskey/Coskey_Metis/projects/Project4/data/gutenberg_books_en/aleph.gutenberg.org/4/6/1/3/46130/46130.zip', 'author': 'Thomas Fowler', 'title': 'Locke', 'year': '1632', 'content_lines': None, 'error': ''}\n",
      "Doc #139=Book ID #10800\n",
      "\t{'id': 10800, 'path': '/Users/jmc/git/jaycoskey/Coskey_Metis/projects/Project4/data/gutenberg_books_en/aleph.gutenberg.org/1/0/8/0/10800/10800.zip', 'author': 'Democritus Junior', 'title': 'The Anatomy of Melancholy', 'year': '1638', 'content_lines': None, 'error': ''}\n",
      "Doc #140=Book ID #19136\n",
      "\t{'id': 19136, 'path': '/Users/jmc/git/jaycoskey/Coskey_Metis/projects/Project4/data/gutenberg_books_en/aleph.gutenberg.org/1/9/1/3/19136/19136.zip', 'author': 'Emma Leslie', 'title': 'Hayslope Grange', 'year': '1644', 'content_lines': None, 'error': ''}\n",
      "Doc #141=Book ID #5415\n",
      "\t{'id': 5415, 'path': '/Users/jmc/git/jaycoskey/Coskey_Metis/projects/Project4/data/gutenberg_books_en/aleph.gutenberg.org/5/4/1/5415/5415.zip', 'author': 'Anthony Hamilton', 'title': 'The Memoirs of Count Grammont, Volume 7', 'year': '1644', 'content_lines': None, 'error': ''}\n",
      "Doc #142=Book ID #42179\n",
      "\t{'id': 42179, 'path': '/Users/jmc/git/jaycoskey/Coskey_Metis/projects/Project4/data/gutenberg_books_en/aleph.gutenberg.org/4/2/1/7/42179/42179.zip', 'author': 'Henry Hallam', 'title': 'Constitutional History of England, Henry VII to George II, Volume II', 'year': '1640', 'content_lines': None, 'error': ''}\n",
      "Doc #143=Book ID #10421\n",
      "\t{'id': 10421, 'path': '/Users/jmc/git/jaycoskey/Coskey_Metis/projects/Project4/data/gutenberg_books_en/aleph.gutenberg.org/1/0/4/2/10421/10421.zip', 'author': 'John Galt', 'title': 'The Life of Lord Byron', 'year': '1643', 'content_lines': None, 'error': ''}\n",
      "Doc #144=Book ID #30327\n",
      "\t{'id': 30327, 'path': '/Users/jmc/git/jaycoskey/Coskey_Metis/projects/Project4/data/gutenberg_books_en/aleph.gutenberg.org/3/0/3/2/30327/30327.zip', 'author': 'Henry More', 'title': 'Democritus Platonissans', 'year': '1646', 'content_lines': None, 'error': ''}\n",
      "Doc #145=Book ID #11367\n",
      "\t{'id': 11367, 'path': '/Users/jmc/git/jaycoskey/Coskey_Metis/projects/Project4/data/gutenberg_books_en/aleph.gutenberg.org/1/1/3/6/11367/11367.zip', 'author': 'Wolfram Eberhard', 'title': 'A History of China', 'year': '1644', 'content_lines': None, 'error': ''}\n",
      "Doc #146=Book ID #26496\n",
      "\t{'id': 26496, 'path': '/Users/jmc/git/jaycoskey/Coskey_Metis/projects/Project4/data/gutenberg_books_en/aleph.gutenberg.org/2/6/4/9/26496/26496.zip', 'author': 'Peter Morse', 'title': \"Rembrandt's Etching Technique: An Example\", 'year': '1648', 'content_lines': None, 'error': ''}\n",
      "Doc #147=Book ID #28375\n",
      "\t{'id': 28375, 'path': '/Users/jmc/git/jaycoskey/Coskey_Metis/projects/Project4/data/gutenberg_books_en/aleph.gutenberg.org/2/8/3/7/28375/28375.zip', 'author': 'Henry Vaughan', 'title': 'Poems of Henry Vaughan, Silurist, Volume II', 'year': '1645', 'content_lines': None, 'error': ''}\n",
      "Doc #148=Book ID #47462\n",
      "\t{'id': 47462, 'path': '/Users/jmc/git/jaycoskey/Coskey_Metis/projects/Project4/data/gutenberg_books_en/aleph.gutenberg.org/4/7/4/6/47462/47462-0.zip', 'author': 'William Habington', 'title': 'Castara', 'year': '1640', 'content_lines': None, 'error': ''}\n",
      "Doc #149=Book ID #21487\n",
      "\t{'id': 21487, 'path': '/Users/jmc/git/jaycoskey/Coskey_Metis/projects/Project4/data/gutenberg_books_en/aleph.gutenberg.org/2/1/4/8/21487/21487.zip', 'author': 'W.H.G. Kingston', 'title': 'The Boy who sailed with Blake', 'year': '1643', 'content_lines': None, 'error': ''}\n",
      "Doc #150=Book ID #21271\n",
      "\t{'id': 21271, 'path': '/Users/jmc/git/jaycoskey/Coskey_Metis/projects/Project4/data/gutenberg_books_en/aleph.gutenberg.org/2/1/2/7/21271/21271.zip', 'author': 'Antonio Colmenero de Ledesma', 'title': 'Chocolate: or, An Indian Drinke', 'year': '1651', 'content_lines': None, 'error': ''}\n",
      "Doc #151=Book ID #8170\n",
      "\t{'id': 8170, 'path': '/Users/jmc/git/jaycoskey/Coskey_Metis/projects/Project4/data/gutenberg_books_en/aleph.gutenberg.org/8/1/7/8170/8170.zip', 'author': 'Francois Rabelais', 'title': 'Gargantua and Pantagruel, Book V.', 'year': '1653', 'content_lines': None, 'error': ''}\n",
      "Doc #152=Book ID #5312\n",
      "\t{'id': 5312, 'path': '/Users/jmc/git/jaycoskey/Coskey_Metis/projects/Project4/data/gutenberg_books_en/aleph.gutenberg.org/5/3/1/5312/5312.zip', 'author': 'L. Frank Baum', 'title': 'Mother Goose in Prose', 'year': '1650', 'content_lines': None, 'error': ''}\n",
      "Doc #153=Book ID #49323\n",
      "\t{'id': 49323, 'path': '/Users/jmc/git/jaycoskey/Coskey_Metis/projects/Project4/data/gutenberg_books_en/aleph.gutenberg.org/4/9/3/2/49323/49323-0.zip', 'author': 'John Phillips', 'title': 'A Satyr Against Hypocrites', 'year': '1655', 'content_lines': None, 'error': ''}\n",
      "Doc #154=Book ID #40192\n",
      "\t{'id': 40192, 'path': '/Users/jmc/git/jaycoskey/Coskey_Metis/projects/Project4/data/gutenberg_books_en/aleph.gutenberg.org/4/0/1/9/40192/40192.zip', 'author': 'Samuel Rawson Gardiner', 'title': \"A Student's History of England, v. 2 (of 3)\", 'year': '1656', 'content_lines': None, 'error': ''}\n",
      "Doc #155=Book ID #8167\n",
      "\t{'id': 8167, 'path': '/Users/jmc/git/jaycoskey/Coskey_Metis/projects/Project4/data/gutenberg_books_en/aleph.gutenberg.org/8/1/6/8167/8167.zip', 'author': 'Francois Rabelais', 'title': 'Gargantua and Pantagruel, Book II.', 'year': '1653', 'content_lines': None, 'error': ''}\n",
      "Doc #156=Book ID #27072\n",
      "\t{'id': 27072, 'path': '/Users/jmc/git/jaycoskey/Coskey_Metis/projects/Project4/data/gutenberg_books_en/aleph.gutenberg.org/2/7/0/7/27072/27072.zip', 'author': 'Jean Baptiste Poquelin de Moliere', 'title': 'The Flying Doctor', 'year': '1659', 'content_lines': None, 'error': ''}\n",
      "Doc #157=Book ID #36183\n",
      "\t{'id': 36183, 'path': '/Users/jmc/git/jaycoskey/Coskey_Metis/projects/Project4/data/gutenberg_books_en/aleph.gutenberg.org/3/6/1/8/36183/36183.zip', 'author': 'Josephine Pollard', 'title': 'The Life of George Washington', 'year': '1657', 'content_lines': None, 'error': ''}\n",
      "Doc #158=Book ID #42620\n",
      "\t{'id': 42620, 'path': '/Users/jmc/git/jaycoskey/Coskey_Metis/projects/Project4/data/gutenberg_books_en/aleph.gutenberg.org/4/2/6/2/42620/42620.zip', 'author': 'Roger Boyle', 'title': 'Prefaces to Four Seventeenth-Century Romances', 'year': '1655', 'content_lines': None, 'error': ''}\n",
      "Doc #159=Book ID #3845\n",
      "\t{'id': 3845, 'path': '/Users/jmc/git/jaycoskey/Coskey_Metis/projects/Project4/data/gutenberg_books_en/aleph.gutenberg.org/3/8/4/3845/3845.zip', 'author': 'Jean Francois Paul de Gondi, Cardinal de Retz', 'title': 'Memoirs Of Jean Francois Paul De Gondi, Cardinal De Retz, Volume IV.', 'year': '1651', 'content_lines': None, 'error': ''}\n",
      "Doc #160=Book ID #39616\n",
      "\t{'id': 39616, 'path': '/Users/jmc/git/jaycoskey/Coskey_Metis/projects/Project4/data/gutenberg_books_en/aleph.gutenberg.org/3/9/6/1/39616/39616.zip', 'author': 'George Alfred Henty', 'title': 'In the Hands of the Malays, and Other Stories', 'year': '1669', 'content_lines': None, 'error': ''}\n",
      "Doc #161=Book ID #4182\n",
      "\t{'id': 4182, 'path': '/Users/jmc/git/jaycoskey/Coskey_Metis/projects/Project4/data/gutenberg_books_en/aleph.gutenberg.org/4/1/8/4182/4182.zip', 'author': 'Samuel Pepys', 'title': 'Diary of Samuel Pepys, November 1667', 'year': '1667', 'content_lines': None, 'error': ''}\n",
      "Doc #162=Book ID #4156\n",
      "\t{'id': 4156, 'path': '/Users/jmc/git/jaycoskey/Coskey_Metis/projects/Project4/data/gutenberg_books_en/aleph.gutenberg.org/4/1/5/4156/4156.zip', 'author': 'Samuel Pepys', 'title': 'Diary of Samuel Pepys, May/June 1665', 'year': '1665', 'content_lines': None, 'error': ''}\n",
      "Doc #163=Book ID #4199\n",
      "\t{'id': 4199, 'path': '/Users/jmc/git/jaycoskey/Coskey_Metis/projects/Project4/data/gutenberg_books_en/aleph.gutenberg.org/4/1/9/4199/4199.zip', 'author': 'Samuel Pepys', 'title': 'Diary of Samuel Pepys, 1669', 'year': '1669', 'content_lines': None, 'error': ''}\n",
      "Doc #164=Book ID #28511\n",
      "\t{'id': 28511, 'path': '/Users/jmc/git/jaycoskey/Coskey_Metis/projects/Project4/data/gutenberg_books_en/aleph.gutenberg.org/2/8/5/1/28511/28511.zip', 'author': 'Henry Fisk Carlton', 'title': 'The Tree That Saved Connecticut', 'year': '1661', 'content_lines': None, 'error': ''}\n",
      "Doc #165=Book ID #4170\n",
      "\t{'id': 4170, 'path': '/Users/jmc/git/jaycoskey/Coskey_Metis/projects/Project4/data/gutenberg_books_en/aleph.gutenberg.org/4/1/7/4170/4170.zip', 'author': 'Samuel Pepys', 'title': 'Diary of Samuel Pepys, December 1666', 'year': '1666', 'content_lines': None, 'error': ''}\n",
      "Doc #166=Book ID #4158\n",
      "\t{'id': 4158, 'path': '/Users/jmc/git/jaycoskey/Coskey_Metis/projects/Project4/data/gutenberg_books_en/aleph.gutenberg.org/4/1/5/4158/4158.zip', 'author': 'Samuel Pepys', 'title': 'Diary of Samuel Pepys, August 1665', 'year': '1665', 'content_lines': None, 'error': ''}\n",
      "Doc #167=Book ID #18776\n",
      "\t{'id': 18776, 'path': '/Users/jmc/git/jaycoskey/Coskey_Metis/projects/Project4/data/gutenberg_books_en/aleph.gutenberg.org/1/8/7/7/18776/18776.zip', 'author': 'Various', 'title': 'The Wit and Humor of America, Volume IV. (of X.)', 'year': '1662', 'content_lines': None, 'error': ''}\n",
      "Doc #168=Book ID #40106\n",
      "\t{'id': 40106, 'path': '/Users/jmc/git/jaycoskey/Coskey_Metis/projects/Project4/data/gutenberg_books_en/aleph.gutenberg.org/4/0/1/0/40106/40106.zip', 'author': 'Nathaniel Hodges', 'title': 'Loimologia: Or, an Historical Account of the Plague in London in 1665', 'year': '1665', 'content_lines': None, 'error': ''}\n",
      "Doc #169=Book ID #4151\n",
      "\t{'id': 4151, 'path': '/Users/jmc/git/jaycoskey/Coskey_Metis/projects/Project4/data/gutenberg_books_en/aleph.gutenberg.org/4/1/5/4151/4151.zip', 'author': 'Samuel Pepys', 'title': 'Diary of Samuel Pepys, October/November 1664', 'year': '1664', 'content_lines': None, 'error': ''}\n",
      "Doc #170=Book ID #8776\n",
      "\t{'id': 8776, 'path': '/Users/jmc/git/jaycoskey/Coskey_Metis/projects/Project4/data/gutenberg_books_en/aleph.gutenberg.org/8/7/7/8776/8776.zip', 'author': '(Poquelin) Moliere', 'title': 'The Impostures of Scapin', 'year': '1671', 'content_lines': None, 'error': ''}\n",
      "Doc #171=Book ID #25556\n",
      "\t{'id': 25556, 'path': '/Users/jmc/git/jaycoskey/Coskey_Metis/projects/Project4/data/gutenberg_books_en/aleph.gutenberg.org/2/5/5/5/25556/25556.zip', 'author': 'Mary Hartwell Catherwood', 'title': 'Heroes of the Middle West', 'year': '1673', 'content_lines': None, 'error': ''}\n",
      "Doc #172=Book ID #12850\n",
      "\t{'id': 12850, 'path': '/Users/jmc/git/jaycoskey/Coskey_Metis/projects/Project4/data/gutenberg_books_en/aleph.gutenberg.org/1/2/8/5/12850/12850.zip', 'author': 'Edward Tyson', 'title': 'A Philological Essay Concerning the Pygmies of the Ancients', 'year': '1670', 'content_lines': None, 'error': ''}\n",
      "Doc #173=Book ID #10274\n",
      "\t{'id': 10274, 'path': '/Users/jmc/git/jaycoskey/Coskey_Metis/projects/Project4/data/gutenberg_books_en/aleph.gutenberg.org/1/0/2/7/10274/10274.zip', 'author': 'Isaac Barrow', 'title': 'Sermons on Evil-Speaking', 'year': '1678', 'content_lines': None, 'error': ''}\n",
      "Doc #174=Book ID #40656\n",
      "\t{'id': 40656, 'path': '/Users/jmc/git/jaycoskey/Coskey_Metis/projects/Project4/data/gutenberg_books_en/aleph.gutenberg.org/4/0/6/5/40656/40656.zip', 'author': 'Frederik van Eeden', 'title': 'Little Johannes', 'year': '1676', 'content_lines': None, 'error': ''}\n",
      "Doc #175=Book ID #14825\n",
      "\t{'id': 14825, 'path': '/Users/jmc/git/jaycoskey/Coskey_Metis/projects/Project4/data/gutenberg_books_en/aleph.gutenberg.org/1/4/8/2/14825/14825.zip', 'author': 'Samuel P. Orth', 'title': 'Our Foreigners', 'year': '1670', 'content_lines': None, 'error': ''}\n",
      "Doc #176=Book ID #13166\n",
      "\t{'id': 13166, 'path': '/Users/jmc/git/jaycoskey/Coskey_Metis/projects/Project4/data/gutenberg_books_en/aleph.gutenberg.org/1/3/1/6/13166/13166.zip', 'author': 'Isaac Watts', 'title': 'The Psalms of David', 'year': '1674', 'content_lines': None, 'error': ''}\n",
      "Doc #177=Book ID #9105\n",
      "\t{'id': 9105, 'path': '/Users/jmc/git/jaycoskey/Coskey_Metis/projects/Project4/data/gutenberg_books_en/aleph.gutenberg.org/9/1/0/9105/9105.zip', 'author': 'Francois Duc De La Rochefoucauld', 'title': 'Reflections', 'year': '1678', 'content_lines': None, 'error': ''}\n",
      "Doc #178=Book ID #19123\n",
      "\t{'id': 19123, 'path': '/Users/jmc/git/jaycoskey/Coskey_Metis/projects/Project4/data/gutenberg_books_en/aleph.gutenberg.org/1/9/1/2/19123/19123.zip', 'author': 'William Curtis', 'title': 'The Botanical Magazine, Vol. V', 'year': '1676', 'content_lines': None, 'error': ''}\n",
      "Doc #179=Book ID #10039\n",
      "\t{'id': 10039, 'path': '/Users/jmc/git/jaycoskey/Coskey_Metis/projects/Project4/data/gutenberg_books_en/aleph.gutenberg.org/1/0/0/3/10039/10039.zip', 'author': 'Aphra Behn', 'title': 'The Works of Aphra Behn, Vol. III', 'year': '1676', 'content_lines': None, 'error': ''}\n",
      "Doc #180=Book ID #26601\n",
      "\t{'id': 26601, 'path': '/Users/jmc/git/jaycoskey/Coskey_Metis/projects/Project4/data/gutenberg_books_en/aleph.gutenberg.org/2/6/6/0/26601/26601.zip', 'author': 'Frederick John Melville', 'title': 'Gambia', 'year': '1686', 'content_lines': None, 'error': ''}\n",
      "Doc #181=Book ID #10804\n",
      "\t{'id': 10804, 'path': '/Users/jmc/git/jaycoskey/Coskey_Metis/projects/Project4/data/gutenberg_books_en/aleph.gutenberg.org/1/0/8/0/10804/10804.zip', 'author': 'Eliza Fowler Haywood', 'title': 'The Fortunate Foundlings', 'year': '1688', 'content_lines': None, 'error': ''}\n",
      "Doc #182=Book ID #14346\n",
      "\t{'id': 14346, 'path': '/Users/jmc/git/jaycoskey/Coskey_Metis/projects/Project4/data/gutenberg_books_en/aleph.gutenberg.org/1/4/3/4/14346/14346.zip', 'author': 'Robert Knox', 'title': 'An Historical Relation Of The Island Ceylon In The East Indies', 'year': '1681', 'content_lines': None, 'error': ''}\n",
      "Doc #183=Book ID #19211\n",
      "\t{'id': 19211, 'path': '/Users/jmc/git/jaycoskey/Coskey_Metis/projects/Project4/data/gutenberg_books_en/aleph.gutenberg.org/1/9/2/1/19211/19211.zip', 'author': 'David Hume', 'title': 'The History of England in Three Volumes, Vol.I., Part A.', 'year': '1688', 'content_lines': None, 'error': ''}\n",
      "Doc #184=Book ID #19212\n",
      "\t{'id': 19212, 'path': '/Users/jmc/git/jaycoskey/Coskey_Metis/projects/Project4/data/gutenberg_books_en/aleph.gutenberg.org/1/9/2/1/19212/19212.zip', 'author': 'David Hume', 'title': 'The History of England in Three Volumes, Vol.I., Part B.', 'year': '1688', 'content_lines': None, 'error': ''}\n",
      "Doc #185=Book ID #30745\n",
      "\t{'id': 30745, 'path': '/Users/jmc/git/jaycoskey/Coskey_Metis/projects/Project4/data/gutenberg_books_en/aleph.gutenberg.org/3/0/7/4/30745/30745.zip', 'author': 'Isaac Disraeli', 'title': 'Calamities and Quarrels of Authors', 'year': '1680', 'content_lines': None, 'error': ''}\n",
      "Doc #186=Book ID #19216\n",
      "\t{'id': 19216, 'path': '/Users/jmc/git/jaycoskey/Coskey_Metis/projects/Project4/data/gutenberg_books_en/aleph.gutenberg.org/1/9/2/1/19216/19216.zip', 'author': 'David Hume', 'title': 'The History of England in Three Volumes, Vol.I., Part F.', 'year': '1688', 'content_lines': None, 'error': ''}\n",
      "Doc #187=Book ID #37905\n",
      "\t{'id': 37905, 'path': '/Users/jmc/git/jaycoskey/Coskey_Metis/projects/Project4/data/gutenberg_books_en/aleph.gutenberg.org/3/7/9/0/37905/37905.zip', 'author': 'Charles Bastide', 'title': 'The Anglo-French Entente in the Seventeenth Century', 'year': '1682', 'content_lines': None, 'error': ''}\n",
      "Doc #188=Book ID #21843\n",
      "\t{'id': 21843, 'path': '/Users/jmc/git/jaycoskey/Coskey_Metis/projects/Project4/data/gutenberg_books_en/aleph.gutenberg.org/2/1/8/4/21843/21843.zip', 'author': 'William Curtis', 'title': 'The Botanical Magazine, Vol. 6', 'year': '1683', 'content_lines': None, 'error': ''}\n",
      "Doc #189=Book ID #45777\n",
      "\t{'id': 45777, 'path': '/Users/jmc/git/jaycoskey/Coskey_Metis/projects/Project4/data/gutenberg_books_en/aleph.gutenberg.org/4/5/7/7/45777/45777.zip', 'author': 'Aphra Behn', 'title': 'The Works of Aphra Behn, Volume VI', 'year': '1684', 'content_lines': None, 'error': ''}\n",
      "Doc #190=Book ID #49791\n",
      "\t{'id': 49791, 'path': '/Users/jmc/git/jaycoskey/Coskey_Metis/projects/Project4/data/gutenberg_books_en/aleph.gutenberg.org/4/9/7/9/49791/49791-0.zip', 'author': 'Edmond Halley', 'title': 'Miscellanea Curiosa, Vol 1', 'year': '1699', 'content_lines': None, 'error': ''}\n",
      "Doc #191=Book ID #37422\n",
      "\t{'id': 37422, 'path': '/Users/jmc/git/jaycoskey/Coskey_Metis/projects/Project4/data/gutenberg_books_en/aleph.gutenberg.org/3/7/4/2/37422/37422.zip', 'author': 'William  Mountfort', 'title': 'The Life and Death of Doctor Faustus Made into a Farce', 'year': '1697', 'content_lines': None, 'error': ''}\n",
      "Doc #192=Book ID #15685\n",
      "\t{'id': 15685, 'path': '/Users/jmc/git/jaycoskey/Coskey_Metis/projects/Project4/data/gutenberg_books_en/aleph.gutenberg.org/1/5/6/8/15685/15685.zip', 'author': 'William Dampier', 'title': 'A Continuation of a Voyage to New Holland', 'year': '1699', 'content_lines': None, 'error': ''}\n",
      "Doc #193=Book ID #21334\n",
      "\t{'id': 21334, 'path': '/Users/jmc/git/jaycoskey/Coskey_Metis/projects/Project4/data/gutenberg_books_en/aleph.gutenberg.org/2/1/3/3/21334/21334.zip', 'author': 'George Farquhar', 'title': 'The Beaux-Stratagem', 'year': '1698', 'content_lines': None, 'error': ''}\n",
      "Doc #194=Book ID #37517\n",
      "\t{'id': 37517, 'path': '/Users/jmc/git/jaycoskey/Coskey_Metis/projects/Project4/data/gutenberg_books_en/aleph.gutenberg.org/3/7/5/1/37517/37517.zip', 'author': 'Elkanah Settle', 'title': 'The Notorious Impostor and Diego Redivivus', 'year': '1692', 'content_lines': None, 'error': ''}\n",
      "Doc #195=Book ID #13014\n",
      "\t{'id': 13014, 'path': '/Users/jmc/git/jaycoskey/Coskey_Metis/projects/Project4/data/gutenberg_books_en/aleph.gutenberg.org/1/3/0/1/13014/13014.zip', 'author': 'John Conrade Amman', 'title': 'The Talking Deaf Man', 'year': '1694', 'content_lines': None, 'error': ''}\n",
      "Doc #196=Book ID #23273\n",
      "\t{'id': 23273, 'path': '/Users/jmc/git/jaycoskey/Coskey_Metis/projects/Project4/data/gutenberg_books_en/aleph.gutenberg.org/2/3/2/7/23273/23273.zip', 'author': 'W.H.G. Kingston', 'title': 'John Deane of Nottingham', 'year': '1696', 'content_lines': None, 'error': ''}\n",
      "Doc #197=Book ID #15675\n",
      "\t{'id': 15675, 'path': '/Users/jmc/git/jaycoskey/Coskey_Metis/projects/Project4/data/gutenberg_books_en/aleph.gutenberg.org/1/5/6/7/15675/15675.zip', 'author': 'William Dampier', 'title': 'A Voyage to New Holland', 'year': '1699', 'content_lines': None, 'error': ''}\n",
      "Doc #198=Book ID #36841\n",
      "\t{'id': 36841, 'path': '/Users/jmc/git/jaycoskey/Coskey_Metis/projects/Project4/data/gutenberg_books_en/aleph.gutenberg.org/3/6/8/4/36841/36841.zip', 'author': 'John Evelyn', 'title': 'Mundus Foppensis', 'year': '1690', 'content_lines': None, 'error': ''}\n",
      "Doc #199=Book ID #40579\n",
      "\t{'id': 40579, 'path': '/Users/jmc/git/jaycoskey/Coskey_Metis/projects/Project4/data/gutenberg_books_en/aleph.gutenberg.org/4/0/5/7/40579/40579.zip', 'author': 'Hendrick Zwaardecroon', 'title': 'Memoir of Hendrick Zwaardecroon, commandeur of Jaffnapatam', 'year': '1697', 'content_lines': None, 'error': ''}\n",
      "Doc #200=Book ID #3864\n",
      "\t{'id': 3864, 'path': '/Users/jmc/git/jaycoskey/Coskey_Metis/projects/Project4/data/gutenberg_books_en/aleph.gutenberg.org/3/8/6/3864/3864.zip', 'author': 'Duc de Saint-Simon', 'title': 'The Memoirs of Louis XIV., Volume 5', 'year': '1706', 'content_lines': None, 'error': ''}\n",
      "Doc #201=Book ID #40384\n",
      "\t{'id': 40384, 'path': '/Users/jmc/git/jaycoskey/Coskey_Metis/projects/Project4/data/gutenberg_books_en/aleph.gutenberg.org/4/0/3/8/40384/40384.zip', 'author': 'Carl Engel', 'title': 'Musical Myths and Facts, Volume II (of 2)', 'year': '1703', 'content_lines': None, 'error': ''}\n",
      "Doc #202=Book ID #29547\n",
      "\t{'id': 29547, 'path': '/Users/jmc/git/jaycoskey/Coskey_Metis/projects/Project4/data/gutenberg_books_en/aleph.gutenberg.org/2/9/5/4/29547/29547.zip', 'author': 'Andre Dacier', 'title': \"The Preface to Aristotle's Art of Poetry\", 'year': '1705', 'content_lines': None, 'error': ''}\n",
      "Doc #203=Book ID #23272\n",
      "\t{'id': 23272, 'path': '/Users/jmc/git/jaycoskey/Coskey_Metis/projects/Project4/data/gutenberg_books_en/aleph.gutenberg.org/2/3/2/7/23272/23272.zip', 'author': 'R.M. Ballantyne', 'title': 'The Story of the Rock', 'year': '1703', 'content_lines': None, 'error': ''}\n",
      "Doc #204=Book ID #3866\n",
      "\t{'id': 3866, 'path': '/Users/jmc/git/jaycoskey/Coskey_Metis/projects/Project4/data/gutenberg_books_en/aleph.gutenberg.org/3/8/6/3866/3866.zip', 'author': 'Duc de Saint-Simon', 'title': 'The Memoirs of Louis XIV., Volume 7', 'year': '1709', 'content_lines': None, 'error': ''}\n",
      "Doc #205=Book ID #11254\n",
      "\t{'id': 11254, 'path': '/Users/jmc/git/jaycoskey/Coskey_Metis/projects/Project4/data/gutenberg_books_en/aleph.gutenberg.org/1/1/2/5/11254/11254.zip', 'author': 'Samuel Johnson, Thomas Parnell, Thomas Gray, and Tobias Smollett', 'title': 'Poetical Works of Johnson, Parnell, Gray, and Smollett', 'year': '1709', 'content_lines': None, 'error': ''}\n",
      "Doc #206=Book ID #21346\n",
      "\t{'id': 21346, 'path': '/Users/jmc/git/jaycoskey/Coskey_Metis/projects/Project4/data/gutenberg_books_en/aleph.gutenberg.org/2/1/3/4/21346/21346.zip', 'author': 'Ebenezer Cook', 'title': 'The Sot-weed Factor: or, A Voyage to Maryland', 'year': '1708', 'content_lines': None, 'error': ''}\n",
      "Doc #207=Book ID #32721\n",
      "\t{'id': 32721, 'path': '/Users/jmc/git/jaycoskey/Coskey_Metis/projects/Project4/data/gutenberg_books_en/aleph.gutenberg.org/3/2/7/2/32721/32721.zip', 'author': 'Robert Beverley', 'title': 'The History of Virginia, in Four Parts', 'year': '1706', 'content_lines': None, 'error': ''}\n",
      "Doc #208=Book ID #26334\n",
      "\t{'id': 26334, 'path': '/Users/jmc/git/jaycoskey/Coskey_Metis/projects/Project4/data/gutenberg_books_en/aleph.gutenberg.org/2/6/3/3/26334/26334.zip', 'author': 'William Edward Hartpole Lecky', 'title': 'The Map of Life', 'year': '1700', 'content_lines': None, 'error': ''}\n",
      "Doc #209=Book ID #3856\n",
      "\t{'id': 3856, 'path': '/Users/jmc/git/jaycoskey/Coskey_Metis/projects/Project4/data/gutenberg_books_en/aleph.gutenberg.org/3/8/5/3856/3856.zip', 'author': \"Elizabeth-Charlotte, Duchesse d'Orleans\", 'title': 'The Memoirs of Louis XIV. and the Regency, Book II.', 'year': '1701', 'content_lines': None, 'error': ''}\n",
      "Doc #210=Book ID #29188\n",
      "\t{'id': 29188, 'path': '/Users/jmc/git/jaycoskey/Coskey_Metis/projects/Project4/data/gutenberg_books_en/aleph.gutenberg.org/2/9/1/8/29188/29188.zip', 'author': 'Boniface Oinophilus', 'title': 'Ebrietatis Encomium', 'year': '1714', 'content_lines': None, 'error': ''}\n",
      "Doc #211=Book ID #38519\n",
      "\t{'id': 38519, 'path': '/Users/jmc/git/jaycoskey/Coskey_Metis/projects/Project4/data/gutenberg_books_en/aleph.gutenberg.org/3/8/5/1/38519/38519.zip', 'author': 'Karl Ludwig von Poellnitz', 'title': 'The Memoirs of Charles-Lewis, Baron de Pollnitz, Volume IV', 'year': '1718', 'content_lines': None, 'error': ''}\n",
      "Doc #212=Book ID #36769\n",
      "\t{'id': 36769, 'path': '/Users/jmc/git/jaycoskey/Coskey_Metis/projects/Project4/data/gutenberg_books_en/aleph.gutenberg.org/3/6/7/6/36769/36769.zip', 'author': 'Daniel Defoe', 'title': 'And What if the Pretender should Come?', 'year': '1713', 'content_lines': None, 'error': ''}\n",
      "Doc #213=Book ID #25472\n",
      "\t{'id': 25472, 'path': '/Users/jmc/git/jaycoskey/Coskey_Metis/projects/Project4/data/gutenberg_books_en/aleph.gutenberg.org/2/5/4/7/25472/25472.zip', 'author': 'Ralph D. Paine', 'title': 'Blackbeard: Buccaneer', 'year': '1718', 'content_lines': None, 'error': ''}\n",
      "Doc #214=Book ID #3867\n",
      "\t{'id': 3867, 'path': '/Users/jmc/git/jaycoskey/Coskey_Metis/projects/Project4/data/gutenberg_books_en/aleph.gutenberg.org/3/8/6/3867/3867.zip', 'author': 'Duc de Saint-Simon', 'title': 'The Memoirs of Louis XIV., Volume 8', 'year': '1711', 'content_lines': None, 'error': ''}\n",
      "Doc #215=Book ID #26940\n",
      "\t{'id': 26940, 'path': '/Users/jmc/git/jaycoskey/Coskey_Metis/projects/Project4/data/gutenberg_books_en/aleph.gutenberg.org/2/6/9/4/26940/26940.zip', 'author': 'Daniel Defoe', 'title': 'Atalantis Major', 'year': '1711', 'content_lines': None, 'error': ''}\n",
      "Doc #216=Book ID #3858\n",
      "\t{'id': 3858, 'path': '/Users/jmc/git/jaycoskey/Coskey_Metis/projects/Project4/data/gutenberg_books_en/aleph.gutenberg.org/3/8/5/3858/3858.zip', 'author': \"Elizabeth-Charlotte, Duchesse d'Orleans\", 'title': 'The Memoirs of Louis XIV. and the Regency, Book IV.', 'year': '1718', 'content_lines': None, 'error': ''}\n",
      "Doc #217=Book ID #15870\n",
      "\t{'id': 15870, 'path': '/Users/jmc/git/jaycoskey/Coskey_Metis/projects/Project4/data/gutenberg_books_en/aleph.gutenberg.org/1/5/8/7/15870/15870.zip', 'author': 'Aaron Hill', 'title': \"'Of Genius', in The Occasional Paper, and Preface to The Creation\", 'year': '1719', 'content_lines': None, 'error': ''}\n",
      "Doc #218=Book ID #10574\n",
      "\t{'id': 10574, 'path': '/Users/jmc/git/jaycoskey/Coskey_Metis/projects/Project4/data/gutenberg_books_en/aleph.gutenberg.org/1/0/5/7/10574/10574.zip', 'author': 'David Hume', 'title': 'The History of England, Volume I', 'year': '1711', 'content_lines': None, 'error': ''}\n",
      "Doc #219=Book ID #36120\n",
      "\t{'id': 36120, 'path': '/Users/jmc/git/jaycoskey/Coskey_Metis/projects/Project4/data/gutenberg_books_en/aleph.gutenberg.org/3/6/1/2/36120/36120.zip', 'author': 'David Hume', 'title': 'Essays', 'year': '1711', 'content_lines': None, 'error': ''}\n",
      "Doc #220=Book ID #29189\n",
      "\t{'id': 29189, 'path': '/Users/jmc/git/jaycoskey/Coskey_Metis/projects/Project4/data/gutenberg_books_en/aleph.gutenberg.org/2/9/1/8/29189/29189.zip', 'author': 'Anonymous', 'title': 'A Letter From a Clergyman to his Friend,', 'year': '1726', 'content_lines': None, 'error': ''}\n",
      "Doc #221=Book ID #31673\n",
      "\t{'id': 31673, 'path': '/Users/jmc/git/jaycoskey/Coskey_Metis/projects/Project4/data/gutenberg_books_en/aleph.gutenberg.org/3/1/6/7/31673/31673.zip', 'author': 'Howard Pyle', 'title': 'The Rose of Paradise', 'year': '1720', 'content_lines': None, 'error': ''}\n",
      "Doc #222=Book ID #19564\n",
      "\t{'id': 19564, 'path': '/Users/jmc/git/jaycoskey/Coskey_Metis/projects/Project4/data/gutenberg_books_en/aleph.gutenberg.org/1/9/5/6/19564/19564.zip', 'author': 'Philip Gosse', 'title': \"The Pirates' Who's Who\", 'year': '1720', 'content_lines': None, 'error': ''}\n",
      "Doc #223=Book ID #49564\n",
      "\t{'id': 49564, 'path': '/Users/jmc/git/jaycoskey/Coskey_Metis/projects/Project4/data/gutenberg_books_en/aleph.gutenberg.org/4/9/5/6/49564/49564-0.zip', 'author': 'John Southall', 'title': 'A Treatise of Buggs', 'year': '1726', 'content_lines': None, 'error': ''}\n",
      "Doc #224=Book ID #3873\n",
      "\t{'id': 3873, 'path': '/Users/jmc/git/jaycoskey/Coskey_Metis/projects/Project4/data/gutenberg_books_en/aleph.gutenberg.org/3/8/7/3873/3873.zip', 'author': 'Duc de Saint-Simon', 'title': 'The Memoirs of Louis XIV., Volume 14', 'year': '1720', 'content_lines': None, 'error': ''}\n",
      "Doc #225=Book ID #10044\n",
      "\t{'id': 10044, 'path': '/Users/jmc/git/jaycoskey/Coskey_Metis/projects/Project4/data/gutenberg_books_en/aleph.gutenberg.org/1/0/0/4/10044/10044.zip', 'author': 'William Wood', 'title': 'The Father of British Canada: A Chronicle of Carleton', 'year': '1724', 'content_lines': None, 'error': ''}\n",
      "Doc #226=Book ID #16299\n",
      "\t{'id': 16299, 'path': '/Users/jmc/git/jaycoskey/Coskey_Metis/projects/Project4/data/gutenberg_books_en/aleph.gutenberg.org/1/6/2/9/16299/16299.zip', 'author': 'Henry Gally', 'title': 'A Critical Essay on Characteristic-Writings', 'year': '1725', 'content_lines': None, 'error': ''}\n",
      "Doc #227=Book ID #10075\n",
      "\t{'id': 10075, 'path': '/Users/jmc/git/jaycoskey/Coskey_Metis/projects/Project4/data/gutenberg_books_en/aleph.gutenberg.org/1/0/0/7/10075/10075.zip', 'author': 'Venture Smith', 'title': 'A Narrative of the Life and Adventures of Venture, a Native of', 'year': '1729', 'content_lines': None, 'error': ''}\n",
      "Doc #228=Book ID #45673\n",
      "\t{'id': 45673, 'path': '/Users/jmc/git/jaycoskey/Coskey_Metis/projects/Project4/data/gutenberg_books_en/aleph.gutenberg.org/4/5/6/7/45673/45673.zip', 'author': 'Pichatty de Croissainte', 'title': 'A brief Journal of what passed in the City of Marseilles, while it was afflicted with the Plague, in the Year 1720', 'year': '1720', 'content_lines': None, 'error': ''}\n",
      "Doc #229=Book ID #35719\n",
      "\t{'id': 35719, 'path': '/Users/jmc/git/jaycoskey/Coskey_Metis/projects/Project4/data/gutenberg_books_en/aleph.gutenberg.org/3/5/7/1/35719/35719.zip', 'author': 'Cadwallader Colden', 'title': 'The History of the Five Indian Nations of Canada', 'year': '1723', 'content_lines': None, 'error': ''}\n",
      "Doc #230=Book ID #29634\n",
      "\t{'id': 29634, 'path': '/Users/jmc/git/jaycoskey/Coskey_Metis/projects/Project4/data/gutenberg_books_en/aleph.gutenberg.org/2/9/6/3/29634/29634.zip', 'author': 'Henry Charles Lahee', 'title': 'Annals of Music in America', 'year': '1735', 'content_lines': None, 'error': ''}\n",
      "Doc #231=Book ID #38501\n",
      "\t{'id': 38501, 'path': '/Users/jmc/git/jaycoskey/Coskey_Metis/projects/Project4/data/gutenberg_books_en/aleph.gutenberg.org/3/8/5/0/38501/38501.zip', 'author': 'Karl Ludwig von Poellnitz', 'title': 'The Memoirs of Charles-Lewis, Baron de Pollnitz, Volume II', 'year': '1730', 'content_lines': None, 'error': ''}\n",
      "Doc #232=Book ID #39270\n",
      "\t{'id': 39270, 'path': '/Users/jmc/git/jaycoskey/Coskey_Metis/projects/Project4/data/gutenberg_books_en/aleph.gutenberg.org/3/9/2/7/39270/39270-0.zip', 'author': 'Laurence Sterne', 'title': 'The Life and Opinions of Tristram Shandy, Gentleman', 'year': '1731', 'content_lines': None, 'error': ''}\n",
      "Doc #233=Book ID #33441\n",
      "\t{'id': 33441, 'path': '/Users/jmc/git/jaycoskey/Coskey_Metis/projects/Project4/data/gutenberg_books_en/aleph.gutenberg.org/3/3/4/4/33441/33441.zip', 'author': 'James Bramston', 'title': 'The Man of Taste', 'year': '1733', 'content_lines': None, 'error': ''}\n",
      "Doc #234=Book ID #13097\n",
      "\t{'id': 13097, 'path': '/Users/jmc/git/jaycoskey/Coskey_Metis/projects/Project4/data/gutenberg_books_en/aleph.gutenberg.org/1/3/0/9/13097/13097.zip', 'author': 'Arthur L. Hayward', 'title': 'Lives Of The Most Remarkable Criminals Who have been Condemned and Executed for Murder, the Highway, Housebreaking, Street Robberies, Coining or other offences', 'year': '1735', 'content_lines': None, 'error': ''}\n",
      "Doc #235=Book ID #24755\n",
      "\t{'id': 24755, 'path': '/Users/jmc/git/jaycoskey/Coskey_Metis/projects/Project4/data/gutenberg_books_en/aleph.gutenberg.org/2/4/7/5/24755/24755.zip', 'author': 'W.H.G. Kingston', 'title': 'Captain Cook', 'year': '1730', 'content_lines': None, 'error': ''}\n",
      "Doc #236=Book ID #27273\n",
      "\t{'id': 27273, 'path': '/Users/jmc/git/jaycoskey/Coskey_Metis/projects/Project4/data/gutenberg_books_en/aleph.gutenberg.org/2/7/2/7/27273/27273.zip', 'author': 'Aphra Behn', 'title': 'The Works of Aphra Behn', 'year': '1734', 'content_lines': None, 'error': ''}\n",
      "Doc #237=Book ID #2822\n",
      "\t{'id': 2822, 'path': '/Users/jmc/git/jaycoskey/Coskey_Metis/projects/Project4/data/gutenberg_books_en/aleph.gutenberg.org/2/8/2/2822/2822-0.zip', 'author': 'Don Manoel Gonzales', 'title': 'London in 1731', 'year': '1731', 'content_lines': None, 'error': ''}\n",
      "Doc #238=Book ID #26173\n",
      "\t{'id': 26173, 'path': '/Users/jmc/git/jaycoskey/Coskey_Metis/projects/Project4/data/gutenberg_books_en/aleph.gutenberg.org/2/6/1/7/26173/26173.zip', 'author': 'Bascom Asbury Cecil Stephens', 'title': 'The Stephens Family', 'year': '1733', 'content_lines': None, 'error': ''}\n",
      "Doc #239=Book ID #29237\n",
      "\t{'id': 29237, 'path': '/Users/jmc/git/jaycoskey/Coskey_Metis/projects/Project4/data/gutenberg_books_en/aleph.gutenberg.org/2/9/2/3/29237/29237.zip', 'author': 'Walter Harte', 'title': 'An Essay on Satire, Particularly on the Dunciad', 'year': '1730', 'content_lines': None, 'error': ''}\n",
      "Doc #240=Book ID #49422\n",
      "\t{'id': 49422, 'path': '/Users/jmc/git/jaycoskey/Coskey_Metis/projects/Project4/data/gutenberg_books_en/aleph.gutenberg.org/4/9/4/2/49422/49422-0.zip', 'author': 'Robert Dodsley', 'title': 'A Select Collection of Old English Plays (Vol. 13 of 15)', 'year': '1744', 'content_lines': None, 'error': ''}\n",
      "Doc #241=Book ID #15455\n",
      "\t{'id': 15455, 'path': '/Users/jmc/git/jaycoskey/Coskey_Metis/projects/Project4/data/gutenberg_books_en/aleph.gutenberg.org/1/5/4/5/15455/15455.zip', 'author': 'Eliza Fowler Haywood', 'title': \"Life's Progress Through The Passions\", 'year': '1748', 'content_lines': None, 'error': ''}\n",
      "Doc #242=Book ID #47838\n",
      "\t{'id': 47838, 'path': '/Users/jmc/git/jaycoskey/Coskey_Metis/projects/Project4/data/gutenberg_books_en/aleph.gutenberg.org/4/7/8/3/47838/47838-0.zip', 'author': 'C. W. Whittemore', 'title': 'Notes on the History of Argentine Independence', 'year': '1748', 'content_lines': None, 'error': ''}\n",
      "Doc #243=Book ID #2114\n",
      "\t{'id': 2114, 'path': '/Users/jmc/git/jaycoskey/Coskey_Metis/projects/Project4/data/gutenberg_books_en/aleph.gutenberg.org/2/1/1/2114/2114.zip', 'author': 'Thomas Carlyle', 'title': 'History of Friedrich II. of Prussia, Vol. XIV. (of XXI.)', 'year': '1742', 'content_lines': None, 'error': ''}\n",
      "Doc #244=Book ID #2113\n",
      "\t{'id': 2113, 'path': '/Users/jmc/git/jaycoskey/Coskey_Metis/projects/Project4/data/gutenberg_books_en/aleph.gutenberg.org/2/1/1/2113/2113.zip', 'author': 'Thomas Carlyle', 'title': 'History of Friedrich II. of Prussia, Vol. XIII. (of XXI.)', 'year': '1741', 'content_lines': None, 'error': ''}\n",
      "Doc #245=Book ID #47170\n",
      "\t{'id': 47170, 'path': '/Users/jmc/git/jaycoskey/Coskey_Metis/projects/Project4/data/gutenberg_books_en/aleph.gutenberg.org/4/7/1/7/47170/47170-0.zip', 'author': 'Various', 'title': 'A Select Collection of Old English Plays, Volume 3', 'year': '1744', 'content_lines': None, 'error': ''}\n",
      "Doc #246=Book ID #1147\n",
      "\t{'id': 1147, 'path': '/Users/jmc/git/jaycoskey/Coskey_Metis/projects/Project4/data/gutenberg_books_en/aleph.gutenberg.org/1/1/4/1147/1147.zip', 'author': 'Henry Fielding', 'title': 'From This World to the Next', 'year': '1741', 'content_lines': None, 'error': ''}\n",
      "Doc #247=Book ID #23446\n",
      "\t{'id': 23446, 'path': '/Users/jmc/git/jaycoskey/Coskey_Metis/projects/Project4/data/gutenberg_books_en/aleph.gutenberg.org/2/3/4/4/23446/23446.zip', 'author': 'Anonymous', 'title': 'Picturesque Germany', 'year': '1749', 'content_lines': None, 'error': ''}\n",
      "Doc #248=Book ID #19777\n",
      "\t{'id': 19777, 'path': '/Users/jmc/git/jaycoskey/Coskey_Metis/projects/Project4/data/gutenberg_books_en/aleph.gutenberg.org/1/9/7/7/19777/19777.zip', 'author': 'Cyrus Thomas', 'title': 'Aids to the Study of the Maya Codices', 'year': '1749', 'content_lines': None, 'error': ''}\n",
      "Doc #249=Book ID #10352\n",
      "\t{'id': 10352, 'path': '/Users/jmc/git/jaycoskey/Coskey_Metis/projects/Project4/data/gutenberg_books_en/aleph.gutenberg.org/1/0/3/5/10352/10352.zip', 'author': 'Samuel Johnson', 'title': 'The Works of Samuel Johnson, Vol. 11.', 'year': '1741', 'content_lines': None, 'error': ''}\n",
      "Doc #250=Book ID #41760\n",
      "\t{'id': 41760, 'path': '/Users/jmc/git/jaycoskey/Coskey_Metis/projects/Project4/data/gutenberg_books_en/aleph.gutenberg.org/4/1/7/6/41760/41760.zip', 'author': 'James Beattie', 'title': 'The Poetical Works of James Beattie', 'year': '1758', 'content_lines': None, 'error': ''}\n",
      "Doc #251=Book ID #3356\n",
      "\t{'id': 3356, 'path': '/Users/jmc/git/jaycoskey/Coskey_Metis/projects/Project4/data/gutenberg_books_en/aleph.gutenberg.org/3/3/5/3356/3356.zip', 'author': 'The Earl of Chesterfield', 'title': 'Letters to His Son, 1752', 'year': '1752', 'content_lines': None, 'error': ''}\n",
      "Doc #252=Book ID #33154\n",
      "\t{'id': 33154, 'path': '/Users/jmc/git/jaycoskey/Coskey_Metis/projects/Project4/data/gutenberg_books_en/aleph.gutenberg.org/3/3/1/5/33154/33154.zip', 'author': 'A. E. Dolbear', 'title': 'The Telephone', 'year': '1752', 'content_lines': None, 'error': ''}\n",
      "Doc #253=Book ID #11397\n",
      "\t{'id': 11397, 'path': '/Users/jmc/git/jaycoskey/Coskey_Metis/projects/Project4/data/gutenberg_books_en/aleph.gutenberg.org/1/1/3/9/11397/11397.zip', 'author': 'Samuel Johnson', 'title': 'The Works of Samuel Johnson, LL.D, In Nine Volumes', 'year': '1751', 'content_lines': None, 'error': ''}\n",
      "Doc #254=Book ID #2117\n",
      "\t{'id': 2117, 'path': '/Users/jmc/git/jaycoskey/Coskey_Metis/projects/Project4/data/gutenberg_books_en/aleph.gutenberg.org/2/1/1/2117/2117.zip', 'author': 'Thomas Carlyle', 'title': 'History of Friedrich II. of Prussia, Vol. XVII. (of XXI.)', 'year': '1756', 'content_lines': None, 'error': ''}\n",
      "Doc #255=Book ID #46407\n",
      "\t{'id': 46407, 'path': '/Users/jmc/git/jaycoskey/Coskey_Metis/projects/Project4/data/gutenberg_books_en/aleph.gutenberg.org/4/6/4/0/46407/46407.zip', 'author': 'Catherine II, Empress of Russia', 'title': 'Memoirs of the Empress Catherine II.', 'year': '1759', 'content_lines': None, 'error': ''}\n",
      "Doc #256=Book ID #6960\n",
      "\t{'id': 6960, 'path': '/Users/jmc/git/jaycoskey/Coskey_Metis/projects/Project4/data/gutenberg_books_en/aleph.gutenberg.org/6/9/6/6960/6960.zip', 'author': 'James E. Seaver', 'title': 'A Narrative of the Life of Mrs. Mary Jemison', 'year': '1755', 'content_lines': None, 'error': ''}\n",
      "Doc #257=Book ID #48227\n",
      "\t{'id': 48227, 'path': '/Users/jmc/git/jaycoskey/Coskey_Metis/projects/Project4/data/gutenberg_books_en/aleph.gutenberg.org/4/8/2/2/48227/48227-0.zip', 'author': 'John Frederic Herbin', 'title': 'The Land of Evangeline', 'year': '1750', 'content_lines': None, 'error': ''}\n",
      "Doc #258=Book ID #32290\n",
      "\t{'id': 32290, 'path': '/Users/jmc/git/jaycoskey/Coskey_Metis/projects/Project4/data/gutenberg_books_en/aleph.gutenberg.org/3/2/2/9/32290/32290.zip', 'author': 'Anonymous', 'title': 'A Letter to a Gentleman in the Country, from His Friend in London', 'year': '1757', 'content_lines': None, 'error': ''}\n",
      "Doc #259=Book ID #3910\n",
      "\t{'id': 3910, 'path': '/Users/jmc/git/jaycoskey/Coskey_Metis/projects/Project4/data/gutenberg_books_en/aleph.gutenberg.org/3/9/1/3910/3910.zip', 'author': 'Jean Jacques Rousseau', 'title': 'The Confessions of J. J. Rousseau, Book X.', 'year': '1758', 'content_lines': None, 'error': ''}\n",
      "Doc #260=Book ID #36092\n",
      "\t{'id': 36092, 'path': '/Users/jmc/git/jaycoskey/Coskey_Metis/projects/Project4/data/gutenberg_books_en/aleph.gutenberg.org/3/6/0/9/36092/36092.zip', 'author': 'C. Malcolm Watkins', 'title': 'North Devon Pottery and Its Export to America in the 17th Century', 'year': '1760', 'content_lines': None, 'error': ''}\n",
      "Doc #261=Book ID #29223\n",
      "\t{'id': 29223, 'path': '/Users/jmc/git/jaycoskey/Coskey_Metis/projects/Project4/data/gutenberg_books_en/aleph.gutenberg.org/2/9/2/2/29223/29223.zip', 'author': 'Robert Rogers', 'title': 'Ponteach', 'year': '1766', 'content_lines': None, 'error': ''}\n",
      "Doc #262=Book ID #11729\n",
      "\t{'id': 11729, 'path': '/Users/jmc/git/jaycoskey/Coskey_Metis/projects/Project4/data/gutenberg_books_en/aleph.gutenberg.org/1/1/7/2/11729/11729.zip', 'author': 'James Boswell', 'title': 'Life of Johnson, Volume 6 (of 6)', 'year': '1761', 'content_lines': None, 'error': ''}\n",
      "Doc #263=Book ID #27130\n",
      "\t{'id': 27130, 'path': '/Users/jmc/git/jaycoskey/Coskey_Metis/projects/Project4/data/gutenberg_books_en/aleph.gutenberg.org/2/7/1/3/27130/27130.zip', 'author': 'Thomas Morrison', 'title': 'A Pindarick Ode on Painting', 'year': '1769', 'content_lines': None, 'error': ''}\n",
      "Doc #264=Book ID #15522\n",
      "\t{'id': 15522, 'path': '/Users/jmc/git/jaycoskey/Coskey_Metis/projects/Project4/data/gutenberg_books_en/aleph.gutenberg.org/1/5/5/2/15522/15522.zip', 'author': 'Thomas Guthrie Marquis', 'title': 'The War Chief of the Ottawas', 'year': '1760', 'content_lines': None, 'error': ''}\n",
      "Doc #265=Book ID #33661\n",
      "\t{'id': 33661, 'path': '/Users/jmc/git/jaycoskey/Coskey_Metis/projects/Project4/data/gutenberg_books_en/aleph.gutenberg.org/3/3/6/6/33661/33661.zip', 'author': 'Thomas Daniels', 'title': 'The Affecting Case of the Unfortunate Thomas Daniels', 'year': '1761', 'content_lines': None, 'error': ''}\n",
      "Doc #266=Book ID #47759\n",
      "\t{'id': 47759, 'path': '/Users/jmc/git/jaycoskey/Coskey_Metis/projects/Project4/data/gutenberg_books_en/aleph.gutenberg.org/4/7/7/5/47759/47759-0.zip', 'author': 'Rev. J. Franck Bright', 'title': 'A History of England, Period III.', 'year': '1760', 'content_lines': None, 'error': ''}\n",
      "Doc #267=Book ID #31338\n",
      "\t{'id': 31338, 'path': '/Users/jmc/git/jaycoskey/Coskey_Metis/projects/Project4/data/gutenberg_books_en/aleph.gutenberg.org/3/1/3/3/31338/31338.zip', 'author': 'Donald Monro', 'title': 'An Account of the Diseases which were most frequent in the British military hospitals in Germany', 'year': '1761', 'content_lines': None, 'error': ''}\n",
      "Doc #268=Book ID #22198\n",
      "\t{'id': 22198, 'path': '/Users/jmc/git/jaycoskey/Coskey_Metis/projects/Project4/data/gutenberg_books_en/aleph.gutenberg.org/2/2/1/9/22198/22198.zip', 'author': 'Arthur Thomas Quiller-Couch', 'title': 'Two Sides of the Face', 'year': '1768', 'content_lines': None, 'error': ''}\n",
      "Doc #269=Book ID #16896\n",
      "\t{'id': 16896, 'path': '/Users/jmc/git/jaycoskey/Coskey_Metis/projects/Project4/data/gutenberg_books_en/aleph.gutenberg.org/1/6/8/9/16896/16896.zip', 'author': 'Mme de Stael', 'title': 'Corinne, Volume 1 (of 2)', 'year': '1766', 'content_lines': None, 'error': ''}\n",
      "Doc #270=Book ID #49742\n",
      "\t{'id': 49742, 'path': '/Users/jmc/git/jaycoskey/Coskey_Metis/projects/Project4/data/gutenberg_books_en/aleph.gutenberg.org/4/9/7/4/49742/49742-0.zip', 'author': 'Frank Warren Coburn', 'title': 'The Battle of April 19, 1775', 'year': '1775', 'content_lines': None, 'error': ''}\n",
      "Doc #271=Book ID #26243\n",
      "\t{'id': 26243, 'path': '/Users/jmc/git/jaycoskey/Coskey_Metis/projects/Project4/data/gutenberg_books_en/aleph.gutenberg.org/2/6/2/4/26243/26243.zip', 'author': 'Carl Wilhelm Scheele', 'title': 'Discovery of Oxygen, Part 2', 'year': '1777', 'content_lines': None, 'error': ''}\n",
      "Doc #272=Book ID #33344\n",
      "\t{'id': 33344, 'path': '/Users/jmc/git/jaycoskey/Coskey_Metis/projects/Project4/data/gutenberg_books_en/aleph.gutenberg.org/3/3/3/4/33344/33344.zip', 'author': 'John Dodge', 'title': 'Narrative of Mr. John Dodge during his Captivity at Detroit', 'year': '1779', 'content_lines': None, 'error': ''}\n",
      "Doc #273=Book ID #12054\n",
      "\t{'id': 12054, 'path': '/Users/jmc/git/jaycoskey/Coskey_Metis/projects/Project4/data/gutenberg_books_en/aleph.gutenberg.org/1/2/0/5/12054/12054.zip', 'author': 'Various', 'title': 'The Mirror of Literature, Amusement, and Instruction, No. 571', 'year': '1771', 'content_lines': None, 'error': ''}\n",
      "Doc #274=Book ID #39803\n",
      "\t{'id': 39803, 'path': '/Users/jmc/git/jaycoskey/Coskey_Metis/projects/Project4/data/gutenberg_books_en/aleph.gutenberg.org/3/9/8/0/39803/39803.zip', 'author': 'Sir William Chambers', 'title': 'An Explanatory Discourse by Tan Chet-qua of Quang-chew-fu, Gent.', 'year': '1773', 'content_lines': None, 'error': ''}\n",
      "Doc #275=Book ID #28051\n",
      "\t{'id': 28051, 'path': '/Users/jmc/git/jaycoskey/Coskey_Metis/projects/Project4/data/gutenberg_books_en/aleph.gutenberg.org/2/8/0/5/28051/28051.zip', 'author': 'Henry Fisk Carlton', 'title': \"Caesar Rodney's Ride\", 'year': '1776', 'content_lines': None, 'error': ''}\n",
      "Doc #276=Book ID #13037\n",
      "\t{'id': 13037, 'path': '/Users/jmc/git/jaycoskey/Coskey_Metis/projects/Project4/data/gutenberg_books_en/aleph.gutenberg.org/1/3/0/3/13037/13037.zip', 'author': 'Thomas Chatterton', 'title': 'The Rowley Poems', 'year': '1778', 'content_lines': None, 'error': ''}\n",
      "Doc #277=Book ID #36740\n",
      "\t{'id': 36740, 'path': '/Users/jmc/git/jaycoskey/Coskey_Metis/projects/Project4/data/gutenberg_books_en/aleph.gutenberg.org/3/6/7/4/36740/36740.zip', 'author': 'Lucy Foster Madison', 'title': 'Peggy Owen Patriot', 'year': '1778', 'content_lines': None, 'error': ''}\n",
      "Doc #278=Book ID #13879\n",
      "\t{'id': 13879, 'path': '/Users/jmc/git/jaycoskey/Coskey_Metis/projects/Project4/data/gutenberg_books_en/aleph.gutenberg.org/1/3/8/7/13879/13879.zip', 'author': 'Johannes Ewald', 'title': 'The Death of Balder', 'year': '1773', 'content_lines': None, 'error': ''}\n",
      "Doc #279=Book ID #21391\n",
      "\t{'id': 21391, 'path': '/Users/jmc/git/jaycoskey/Coskey_Metis/projects/Project4/data/gutenberg_books_en/aleph.gutenberg.org/2/1/3/9/21391/21391.zip', 'author': 'W.H.G. Kingston', 'title': 'Great African Travellers', 'year': '1771', 'content_lines': None, 'error': ''}\n",
      "Doc #280=Book ID #20337\n",
      "\t{'id': 20337, 'path': '/Users/jmc/git/jaycoskey/Coskey_Metis/projects/Project4/data/gutenberg_books_en/aleph.gutenberg.org/2/0/3/3/20337/20337.zip', 'author': 'William Bligh', 'title': \"A Narrative Of The Mutiny, On Board His Majesty's Ship Bounty; And The Subsequent Voyage Of Part Of The Crew, In The Ship's Boat\", 'year': '1787', 'content_lines': None, 'error': ''}\n",
      "Doc #281=Book ID #5249\n",
      "\t{'id': 5249, 'path': '/Users/jmc/git/jaycoskey/Coskey_Metis/projects/Project4/data/gutenberg_books_en/aleph.gutenberg.org/5/2/4/5249/5249-0.zip', 'author': 'Charles P. Moritz', 'title': 'Travels in England in 1782', 'year': '1782', 'content_lines': None, 'error': ''}\n",
      "Doc #282=Book ID #24886\n",
      "\t{'id': 24886, 'path': '/Users/jmc/git/jaycoskey/Coskey_Metis/projects/Project4/data/gutenberg_books_en/aleph.gutenberg.org/2/4/8/8/24886/24886.zip', 'author': 'William Withering', 'title': 'An Account of the Foxglove and some of its Medical Uses', 'year': '1785', 'content_lines': None, 'error': ''}\n",
      "Doc #283=Book ID #30872\n",
      "\t{'id': 30872, 'path': '/Users/jmc/git/jaycoskey/Coskey_Metis/projects/Project4/data/gutenberg_books_en/aleph.gutenberg.org/3/0/8/7/30872/30872.zip', 'author': 'John Adams', 'title': 'A Collection of State-Papers, Relative to the First Acknowledgment of the Sovereignty of the United States of America', 'year': '1781', 'content_lines': None, 'error': ''}\n",
      "Doc #284=Book ID #7135\n",
      "\t{'id': 7135, 'path': '/Users/jmc/git/jaycoskey/Coskey_Metis/projects/Project4/data/gutenberg_books_en/aleph.gutenberg.org/7/1/3/7135/7135.zip', 'author': 'John Alexander Logan', 'title': 'The Great Conspiracy, Part 3.', 'year': '1789', 'content_lines': None, 'error': ''}\n",
      "Doc #285=Book ID #6608\n",
      "\t{'id': 6608, 'path': '/Users/jmc/git/jaycoskey/Coskey_Metis/projects/Project4/data/gutenberg_books_en/aleph.gutenberg.org/6/6/0/6608/6608.zip', 'author': 'Charles M. Skinner', 'title': 'On And Near The Delaware', 'year': '1780', 'content_lines': None, 'error': ''}\n",
      "Doc #286=Book ID #29231\n",
      "\t{'id': 29231, 'path': '/Users/jmc/git/jaycoskey/Coskey_Metis/projects/Project4/data/gutenberg_books_en/aleph.gutenberg.org/2/9/2/3/29231/29231.zip', 'author': 'Mordecai Manuel Noah', 'title': 'She Would Be a Soldier', 'year': '1785', 'content_lines': None, 'error': ''}\n",
      "Doc #287=Book ID #10129\n",
      "\t{'id': 10129, 'path': '/Users/jmc/git/jaycoskey/Coskey_Metis/projects/Project4/data/gutenberg_books_en/aleph.gutenberg.org/1/0/1/2/10129/10129.zip', 'author': 'Various', 'title': 'Excellent Women', 'year': '1780', 'content_lines': None, 'error': ''}\n",
      "Doc #288=Book ID #14892\n",
      "\t{'id': 14892, 'path': '/Users/jmc/git/jaycoskey/Coskey_Metis/projects/Project4/data/gutenberg_books_en/aleph.gutenberg.org/1/4/8/9/14892/14892.zip', 'author': 'William Minto', 'title': 'Daniel Defoe', 'year': '1786', 'content_lines': None, 'error': ''}\n",
      "Doc #289=Book ID #31910\n",
      "\t{'id': 31910, 'path': '/Users/jmc/git/jaycoskey/Coskey_Metis/projects/Project4/data/gutenberg_books_en/aleph.gutenberg.org/3/1/9/1/31910/31910.zip', 'author': 'John Shipp', 'title': 'Memoirs of the Extraordinary Military Career of John Shipp', 'year': '1785', 'content_lines': None, 'error': ''}\n",
      "Doc #290=Book ID #9622\n",
      "\t{'id': 9622, 'path': '/Users/jmc/git/jaycoskey/Coskey_Metis/projects/Project4/data/gutenberg_books_en/aleph.gutenberg.org/9/6/2/9622/9622.zip', 'author': 'William Wordsworth', 'title': 'Lyrical Ballads 1798', 'year': '1798', 'content_lines': None, 'error': ''}\n",
      "Doc #291=Book ID #13148\n",
      "\t{'id': 13148, 'path': '/Users/jmc/git/jaycoskey/Coskey_Metis/projects/Project4/data/gutenberg_books_en/aleph.gutenberg.org/1/3/1/4/13148/13148.zip', 'author': 'Frederick Marryat', 'title': 'Peter Simple and The Three Cutters, Vol. 1-2', 'year': '1792', 'content_lines': None, 'error': ''}\n",
      "Doc #292=Book ID #13941\n",
      "\t{'id': 13941, 'path': '/Users/jmc/git/jaycoskey/Coskey_Metis/projects/Project4/data/gutenberg_books_en/aleph.gutenberg.org/1/3/9/4/13941/13941.zip', 'author': 'Sundry Ministers Of Christ Within The City Of London', 'title': 'The Divine Right of Church Government', 'year': '1799', 'content_lines': None, 'error': ''}\n",
      "Doc #293=Book ID #3693\n",
      "\t{'id': 3693, 'path': '/Users/jmc/git/jaycoskey/Coskey_Metis/projects/Project4/data/gutenberg_books_en/aleph.gutenberg.org/3/6/9/3693/3693.zip', 'author': 'Louise Muhlbach', 'title': 'Louisa Of Prussia and Her Times', 'year': '1796', 'content_lines': None, 'error': ''}\n",
      "Doc #294=Book ID #25598\n",
      "\t{'id': 25598, 'path': '/Users/jmc/git/jaycoskey/Coskey_Metis/projects/Project4/data/gutenberg_books_en/aleph.gutenberg.org/2/5/5/9/25598/25598.zip', 'author': 'Emma Guy Cromwell', 'title': 'Citizenship', 'year': '1792', 'content_lines': None, 'error': ''}\n",
      "Doc #295=Book ID #4344\n",
      "\t{'id': 4344, 'path': '/Users/jmc/git/jaycoskey/Coskey_Metis/projects/Project4/data/gutenberg_books_en/aleph.gutenberg.org/4/3/4/4344/4344.zip', 'author': 'Alexander Pushkin', 'title': 'Marie', 'year': '1799', 'content_lines': None, 'error': ''}\n",
      "Doc #296=Book ID #1426\n",
      "\t{'id': 1426, 'path': '/Users/jmc/git/jaycoskey/Coskey_Metis/projects/Project4/data/gutenberg_books_en/aleph.gutenberg.org/1/4/2/1426/1426.zip', 'author': 'Honore de Balzac', 'title': 'The Recruit', 'year': '1793', 'content_lines': None, 'error': ''}\n",
      "Doc #297=Book ID #44416\n",
      "\t{'id': 44416, 'path': '/Users/jmc/git/jaycoskey/Coskey_Metis/projects/Project4/data/gutenberg_books_en/aleph.gutenberg.org/4/4/4/1/44416/44416.zip', 'author': 'Noah Webster', 'title': 'A Collection of Essays and Fugitiv Writings', 'year': '1790', 'content_lines': None, 'error': ''}\n",
      "Doc #298=Book ID #21555\n",
      "\t{'id': 21555, 'path': '/Users/jmc/git/jaycoskey/Coskey_Metis/projects/Project4/data/gutenberg_books_en/aleph.gutenberg.org/2/1/5/5/21555/21555.zip', 'author': 'Captain Frederick Marryat', 'title': 'The Mission; or Scenes in Africa', 'year': '1792', 'content_lines': None, 'error': ''}\n",
      "Doc #299=Book ID #42658\n",
      "\t{'id': 42658, 'path': '/Users/jmc/git/jaycoskey/Coskey_Metis/projects/Project4/data/gutenberg_books_en/aleph.gutenberg.org/4/2/6/5/42658/42658.zip', 'author': 'G. W. T. Omond', 'title': 'Fletcher of Saltoun', 'year': '1792', 'content_lines': None, 'error': ''}\n",
      "Doc #300=Book ID #45820\n",
      "\t{'id': 45820, 'path': '/Users/jmc/git/jaycoskey/Coskey_Metis/projects/Project4/data/gutenberg_books_en/aleph.gutenberg.org/4/5/8/2/45820/45820.zip', 'author': 'Georges Louis Leclerc de Buffon', 'title': \"Buffon's Natural History. Volume VII (of 10)\", 'year': '1807', 'content_lines': None, 'error': ''}\n",
      "Doc #301=Book ID #34629\n",
      "\t{'id': 34629, 'path': '/Users/jmc/git/jaycoskey/Coskey_Metis/projects/Project4/data/gutenberg_books_en/aleph.gutenberg.org/3/4/6/2/34629/34629.zip', 'author': 'Sophia Reeve', 'title': 'The Mysterious Wanderer; Vol. II', 'year': '1807', 'content_lines': None, 'error': ''}\n",
      "Doc #302=Book ID #42782\n",
      "\t{'id': 42782, 'path': '/Users/jmc/git/jaycoskey/Coskey_Metis/projects/Project4/data/gutenberg_books_en/aleph.gutenberg.org/4/2/7/8/42782/42782.zip', 'author': 'Various', 'title': 'Notes and Queries, Number 167, January 8, 1853', 'year': '1808', 'content_lines': None, 'error': ''}\n",
      "Doc #303=Book ID #10643\n",
      "\t{'id': 10643, 'path': '/Users/jmc/git/jaycoskey/Coskey_Metis/projects/Project4/data/gutenberg_books_en/aleph.gutenberg.org/1/0/6/4/10643/10643.zip', 'author': 'Arthur Mee, J. A. Hammerton, Eds.', 'title': 'The Worlds Greatest Books', 'year': '1803', 'content_lines': None, 'error': ''}\n",
      "Doc #304=Book ID #36238\n",
      "\t{'id': 36238, 'path': '/Users/jmc/git/jaycoskey/Coskey_Metis/projects/Project4/data/gutenberg_books_en/aleph.gutenberg.org/3/6/2/3/36238/36238.zip', 'author': 'Nicholas Gogol', 'title': 'The Mantle and Other Stories', 'year': '1809', 'content_lines': None, 'error': ''}\n",
      "Doc #305=Book ID #16738\n",
      "\t{'id': 16738, 'path': '/Users/jmc/git/jaycoskey/Coskey_Metis/projects/Project4/data/gutenberg_books_en/aleph.gutenberg.org/1/6/7/3/16738/16738-0.zip', 'author': 'Raphael Holinshed', 'title': 'Chronicles of England, Scotland and Ireland (2 of 6): England (1 of 12)', 'year': '1807', 'content_lines': None, 'error': ''}\n",
      "Doc #306=Book ID #6236\n",
      "\t{'id': 6236, 'path': '/Users/jmc/git/jaycoskey/Coskey_Metis/projects/Project4/data/gutenberg_books_en/aleph.gutenberg.org/6/2/3/6236/6236.zip', 'author': 'Gilbert Parker', 'title': 'The Battle Of The Strong, Complete', 'year': '1800', 'content_lines': None, 'error': ''}\n",
      "Doc #307=Book ID #36339\n",
      "\t{'id': 36339, 'path': '/Users/jmc/git/jaycoskey/Coskey_Metis/projects/Project4/data/gutenberg_books_en/aleph.gutenberg.org/3/6/3/3/36339/36339.zip', 'author': 'Thomas Blount', 'title': 'Boscobel', 'year': '1809', 'content_lines': None, 'error': ''}\n",
      "Doc #308=Book ID #33533\n",
      "\t{'id': 33533, 'path': '/Users/jmc/git/jaycoskey/Coskey_Metis/projects/Project4/data/gutenberg_books_en/aleph.gutenberg.org/3/3/5/3/33533/33533.zip', 'author': 'James Parkerson', 'title': \"The Convict's Farewell\", 'year': '1800', 'content_lines': None, 'error': ''}\n",
      "Doc #309=Book ID #10367\n",
      "\t{'id': 10367, 'path': '/Users/jmc/git/jaycoskey/Coskey_Metis/projects/Project4/data/gutenberg_books_en/aleph.gutenberg.org/1/0/3/6/10367/10367.zip', 'author': 'Sir John Carr', 'title': 'Poems', 'year': '1809', 'content_lines': None, 'error': ''}\n",
      "Doc #310=Book ID #17754\n",
      "\t{'id': 17754, 'path': '/Users/jmc/git/jaycoskey/Coskey_Metis/projects/Project4/data/gutenberg_books_en/aleph.gutenberg.org/1/7/7/5/17754/17754.zip', 'author': 'W. S. Walker', 'title': 'Gustavus Vasa', 'year': '1813', 'content_lines': None, 'error': ''}\n",
      "Doc #311=Book ID #11203\n",
      "\t{'id': 11203, 'path': '/Users/jmc/git/jaycoskey/Coskey_Metis/projects/Project4/data/gutenberg_books_en/aleph.gutenberg.org/1/1/2/0/11203/11203.zip', 'author': 'Phillip Parker King', 'title': 'Narrative of a Survey of the Intertropical and Western Coasts of Australia', 'year': '1818', 'content_lines': None, 'error': ''}\n",
      "Doc #312=Book ID #42353\n",
      "\t{'id': 42353, 'path': '/Users/jmc/git/jaycoskey/Coskey_Metis/projects/Project4/data/gutenberg_books_en/aleph.gutenberg.org/4/2/3/5/42353/42353.zip', 'author': 'Elizabeth Sandham', 'title': 'Deaf and Dumb!', 'year': '1818', 'content_lines': None, 'error': ''}\n",
      "Doc #313=Book ID #40662\n",
      "\t{'id': 40662, 'path': '/Users/jmc/git/jaycoskey/Coskey_Metis/projects/Project4/data/gutenberg_books_en/aleph.gutenberg.org/4/0/6/6/40662/40662.zip', 'author': 'Ellen Anderson', 'title': 'Salona, Fairfax County, Virginia', 'year': '1812', 'content_lines': None, 'error': ''}\n",
      "Doc #314=Book ID #23847\n",
      "\t{'id': 23847, 'path': '/Users/jmc/git/jaycoskey/Coskey_Metis/projects/Project4/data/gutenberg_books_en/aleph.gutenberg.org/2/3/8/4/23847/23847.zip', 'author': 'Unknown', 'title': 'The Peacock and Parrot, on their Tour to Discover the Author of \"The Peacock At Home\"', 'year': '1816', 'content_lines': None, 'error': ''}\n",
      "Doc #315=Book ID #37116\n",
      "\t{'id': 37116, 'path': '/Users/jmc/git/jaycoskey/Coskey_Metis/projects/Project4/data/gutenberg_books_en/aleph.gutenberg.org/3/7/1/1/37116/37116.zip', 'author': 'James Burney', 'title': 'History of the Buccaneers of America', 'year': '1816', 'content_lines': None, 'error': ''}\n",
      "Doc #316=Book ID #27372\n",
      "\t{'id': 27372, 'path': '/Users/jmc/git/jaycoskey/Coskey_Metis/projects/Project4/data/gutenberg_books_en/aleph.gutenberg.org/2/7/3/7/27372/27372.zip', 'author': 'Various', 'title': 'The Diplomatic Correspondence of the American Revolution, Vol. VIII', 'year': '1818', 'content_lines': None, 'error': ''}\n",
      "Doc #317=Book ID #49843\n",
      "\t{'id': 49843, 'path': '/Users/jmc/git/jaycoskey/Coskey_Metis/projects/Project4/data/gutenberg_books_en/aleph.gutenberg.org/4/9/8/4/49843/49843-0.zip', 'author': 'Thomas Stamford Raffles', 'title': 'The History of Java, v. 1-2', 'year': '1817', 'content_lines': None, 'error': ''}\n",
      "Doc #318=Book ID #8937\n",
      "\t{'id': 8937, 'path': '/Users/jmc/git/jaycoskey/Coskey_Metis/projects/Project4/data/gutenberg_books_en/aleph.gutenberg.org/8/9/3/8937/8937.zip', 'author': 'Maria Edgeworth', 'title': 'Tales And Novels, Volume 7 (of 10)', 'year': '1815', 'content_lines': None, 'error': ''}\n",
      "Doc #319=Book ID #11772\n",
      "\t{'id': 11772, 'path': '/Users/jmc/git/jaycoskey/Coskey_Metis/projects/Project4/data/gutenberg_books_en/aleph.gutenberg.org/1/1/7/7/11772/11772.zip', 'author': 'J. B. Henry Savigny and Alexander Correard', 'title': 'Narrative of a Voyage to Senegal in 1816', 'year': '1818', 'content_lines': None, 'error': ''}\n",
      "Doc #320=Book ID #11401\n",
      "\t{'id': 11401, 'path': '/Users/jmc/git/jaycoskey/Coskey_Metis/projects/Project4/data/gutenberg_books_en/aleph.gutenberg.org/1/1/4/0/11401/11401.zip', 'author': 'Various', 'title': 'The Mirror of Literature, Amusement, and Instruction.', 'year': '1827', 'content_lines': None, 'error': ''}\n",
      "Doc #321=Book ID #11331\n",
      "\t{'id': 11331, 'path': '/Users/jmc/git/jaycoskey/Coskey_Metis/projects/Project4/data/gutenberg_books_en/aleph.gutenberg.org/1/1/3/3/11331/11331.zip', 'author': 'Various', 'title': 'The Mirror of Literature, Amusement, and Instruction', 'year': '1829', 'content_lines': None, 'error': ''}\n",
      "Doc #322=Book ID #39590\n",
      "\t{'id': 39590, 'path': '/Users/jmc/git/jaycoskey/Coskey_Metis/projects/Project4/data/gutenberg_books_en/aleph.gutenberg.org/3/9/5/9/39590/39590-0.zip', 'author': 'W. T. Simpson', 'title': 'Some Account of Llangollen and its Vicinity', 'year': '1827', 'content_lines': None, 'error': ''}\n",
      "Doc #323=Book ID #44159\n",
      "\t{'id': 44159, 'path': '/Users/jmc/git/jaycoskey/Coskey_Metis/projects/Project4/data/gutenberg_books_en/aleph.gutenberg.org/4/4/1/5/44159/44159.zip', 'author': 'William Pitt Scargill', 'title': \"Penelope: or, Love's Labour Lost,  Vol. 2 (of 3)\", 'year': '1828', 'content_lines': None, 'error': ''}\n",
      "Doc #324=Book ID #36691\n",
      "\t{'id': 36691, 'path': '/Users/jmc/git/jaycoskey/Coskey_Metis/projects/Project4/data/gutenberg_books_en/aleph.gutenberg.org/3/6/6/9/36691/36691.zip', 'author': 'Jane Haldimand Marcet and Thomas P. Jones', 'title': 'Conversations on Natural Philosophy, in which the Elements of that Science are Familiarly Explained', 'year': '1826', 'content_lines': None, 'error': ''}\n",
      "Doc #325=Book ID #11516\n",
      "\t{'id': 11516, 'path': '/Users/jmc/git/jaycoskey/Coskey_Metis/projects/Project4/data/gutenberg_books_en/aleph.gutenberg.org/1/1/5/1/11516/11516.zip', 'author': 'Various', 'title': 'The Mirror of Literature, Amusement, and Instruction', 'year': '1829', 'content_lines': None, 'error': ''}\n",
      "Doc #326=Book ID #48414\n",
      "\t{'id': 48414, 'path': '/Users/jmc/git/jaycoskey/Coskey_Metis/projects/Project4/data/gutenberg_books_en/aleph.gutenberg.org/4/8/4/1/48414/48414-0.zip', 'author': 'Robert Stevenson', 'title': 'An Account of the Bell Rock Light-House', 'year': '1824', 'content_lines': None, 'error': ''}\n",
      "Doc #327=Book ID #23729\n",
      "\t{'id': 23729, 'path': '/Users/jmc/git/jaycoskey/Coskey_Metis/projects/Project4/data/gutenberg_books_en/aleph.gutenberg.org/2/3/7/2/23729/23729.zip', 'author': 'John  Higginbottom', 'title': 'An Essay on the Application of the Lunar Caustic in the Cure of Certain Wounds and Ulcers', 'year': '1826', 'content_lines': None, 'error': ''}\n",
      "Doc #328=Book ID #44056\n",
      "\t{'id': 44056, 'path': '/Users/jmc/git/jaycoskey/Coskey_Metis/projects/Project4/data/gutenberg_books_en/aleph.gutenberg.org/4/4/0/5/44056/44056.zip', 'author': 'William Swainson', 'title': 'Zoological Illustrations, or Original Figures and Descriptions.  Volume I, Second Series', 'year': '1829', 'content_lines': None, 'error': ''}\n",
      "Doc #329=Book ID #11445\n",
      "\t{'id': 11445, 'path': '/Users/jmc/git/jaycoskey/Coskey_Metis/projects/Project4/data/gutenberg_books_en/aleph.gutenberg.org/1/1/4/4/11445/11445.zip', 'author': 'Various', 'title': 'The Mirror of Literature, Amusement, and Instruction, Vol. 12,', 'year': '1828', 'content_lines': None, 'error': ''}\n",
      "Doc #330=Book ID #43540\n",
      "\t{'id': 43540, 'path': '/Users/jmc/git/jaycoskey/Coskey_Metis/projects/Project4/data/gutenberg_books_en/aleph.gutenberg.org/4/3/5/4/43540/43540.zip', 'author': 'J. D. Paxton', 'title': 'Letters from Palestine', 'year': '1836', 'content_lines': None, 'error': ''}\n",
      "Doc #331=Book ID #11273\n",
      "\t{'id': 11273, 'path': '/Users/jmc/git/jaycoskey/Coskey_Metis/projects/Project4/data/gutenberg_books_en/aleph.gutenberg.org/1/1/2/7/11273/11273.zip', 'author': 'American Anti-Slavery Society', 'title': 'The Anti-Slavery Examiner, Part 3 of 4', 'year': '1839', 'content_lines': None, 'error': ''}\n",
      "Doc #332=Book ID #37570\n",
      "\t{'id': 37570, 'path': '/Users/jmc/git/jaycoskey/Coskey_Metis/projects/Project4/data/gutenberg_books_en/aleph.gutenberg.org/3/7/5/7/37570/37570.zip', 'author': 'Lady Anne Hamilton', 'title': 'Secret History of the Court of England, from the Accession of George the Third to the Death of George the Fourth, Volume I (of 2)', 'year': '1832', 'content_lines': None, 'error': ''}\n",
      "Doc #333=Book ID #43262\n",
      "\t{'id': 43262, 'path': '/Users/jmc/git/jaycoskey/Coskey_Metis/projects/Project4/data/gutenberg_books_en/aleph.gutenberg.org/4/3/2/6/43262/43262.zip', 'author': 'Moyle Sherer', 'title': 'The Broken Font, Vol. 2 (of 2)', 'year': '1836', 'content_lines': None, 'error': ''}\n",
      "Doc #334=Book ID #18049\n",
      "\t{'id': 18049, 'path': '/Users/jmc/git/jaycoskey/Coskey_Metis/projects/Project4/data/gutenberg_books_en/aleph.gutenberg.org/1/8/0/4/18049/18049.zip', 'author': 'Anna Brownell Jameson', 'title': 'The Diary of an Ennuyee', 'year': '1836', 'content_lines': None, 'error': ''}\n",
      "Doc #335=Book ID #36483\n",
      "\t{'id': 36483, 'path': '/Users/jmc/git/jaycoskey/Coskey_Metis/projects/Project4/data/gutenberg_books_en/aleph.gutenberg.org/3/6/4/8/36483/36483.zip', 'author': 'Johann Wolfgang von Goethe', 'title': \"Wilhelm Meister's Apprenticeship and Travels, Vol. I (of 2)\", 'year': '1839', 'content_lines': None, 'error': ''}\n",
      "Doc #336=Book ID #45138\n",
      "\t{'id': 45138, 'path': '/Users/jmc/git/jaycoskey/Coskey_Metis/projects/Project4/data/gutenberg_books_en/aleph.gutenberg.org/4/5/1/3/45138/45138.zip', 'author': 'Francis Bond Head', 'title': 'Bubbles from the Brunnens of Nassau', 'year': '1834', 'content_lines': None, 'error': ''}\n",
      "Doc #337=Book ID #23648\n",
      "\t{'id': 23648, 'path': '/Users/jmc/git/jaycoskey/Coskey_Metis/projects/Project4/data/gutenberg_books_en/aleph.gutenberg.org/2/3/6/4/23648/23648.zip', 'author': 'Mayne Reid', 'title': 'Gaspar the Gaucho', 'year': '1836', 'content_lines': None, 'error': ''}\n",
      "Doc #338=Book ID #45143\n",
      "\t{'id': 45143, 'path': '/Users/jmc/git/jaycoskey/Coskey_Metis/projects/Project4/data/gutenberg_books_en/aleph.gutenberg.org/4/5/1/4/45143/45143.zip', 'author': 'Emerson Hough', 'title': 'The Way to the West', 'year': '1834', 'content_lines': None, 'error': ''}\n",
      "Doc #339=Book ID #12552\n",
      "\t{'id': 12552, 'path': '/Users/jmc/git/jaycoskey/Coskey_Metis/projects/Project4/data/gutenberg_books_en/aleph.gutenberg.org/1/2/5/5/12552/12552.zip', 'author': 'Various', 'title': 'The Mirror of Literature, Amusement, and Instruction', 'year': '1832', 'content_lines': None, 'error': ''}\n",
      "Doc #340=Book ID #46685\n",
      "\t{'id': 46685, 'path': '/Users/jmc/git/jaycoskey/Coskey_Metis/projects/Project4/data/gutenberg_books_en/aleph.gutenberg.org/4/6/6/8/46685/46685.zip', 'author': 'Augusta Macgregor Holmes', 'title': 'A Ride on Horseback to Florence Through France and Switzerland. Vol. 1 of 2', 'year': '1842', 'content_lines': None, 'error': ''}\n",
      "Doc #341=Book ID #26849\n",
      "\t{'id': 26849, 'path': '/Users/jmc/git/jaycoskey/Coskey_Metis/projects/Project4/data/gutenberg_books_en/aleph.gutenberg.org/2/6/8/4/26849/26849.zip', 'author': 'George Gillespie', 'title': 'The Works of Mr. George Gillespie (Vol. 1 of 2)', 'year': '1846', 'content_lines': None, 'error': ''}\n",
      "Doc #342=Book ID #22089\n",
      "\t{'id': 22089, 'path': '/Users/jmc/git/jaycoskey/Coskey_Metis/projects/Project4/data/gutenberg_books_en/aleph.gutenberg.org/2/2/0/8/22089/22089.zip', 'author': 'George W. Clark', 'title': 'The Liberty Minstrel', 'year': '1844', 'content_lines': None, 'error': ''}\n",
      "Doc #343=Book ID #32083\n",
      "\t{'id': 32083, 'path': '/Users/jmc/git/jaycoskey/Coskey_Metis/projects/Project4/data/gutenberg_books_en/aleph.gutenberg.org/3/2/0/8/32083/32083.zip', 'author': 'Charles James Lever', 'title': \"St. Patrick's Eve\", 'year': '1845', 'content_lines': None, 'error': ''}\n",
      "Doc #344=Book ID #29239\n",
      "\t{'id': 29239, 'path': '/Users/jmc/git/jaycoskey/Coskey_Metis/projects/Project4/data/gutenberg_books_en/aleph.gutenberg.org/2/9/2/3/29239/29239.zip', 'author': 'Various', 'title': \"Graham's Magazine, Vol. XXXII No. 4, April 1848\", 'year': '1848', 'content_lines': None, 'error': ''}\n",
      "Doc #345=Book ID #36108\n",
      "\t{'id': 36108, 'path': '/Users/jmc/git/jaycoskey/Coskey_Metis/projects/Project4/data/gutenberg_books_en/aleph.gutenberg.org/3/6/1/0/36108/36108.zip', 'author': 'William Davy Watson', 'title': 'Trevethlan (Vol 3 of 3)', 'year': '1848', 'content_lines': None, 'error': ''}\n",
      "Doc #346=Book ID #44533\n",
      "\t{'id': 44533, 'path': '/Users/jmc/git/jaycoskey/Coskey_Metis/projects/Project4/data/gutenberg_books_en/aleph.gutenberg.org/4/4/5/3/44533/44533.zip', 'author': 'Various', 'title': \"Blackwood's Edinburgh Magazine, Volume 64, No. 393, July 1848\", 'year': '1848', 'content_lines': None, 'error': ''}\n",
      "Doc #347=Book ID #18184\n",
      "\t{'id': 18184, 'path': '/Users/jmc/git/jaycoskey/Coskey_Metis/projects/Project4/data/gutenberg_books_en/aleph.gutenberg.org/1/8/1/8/18184/18184.zip', 'author': 'Henry W. Henshaw', 'title': 'Animal Carvings from Mounds of the Mississippi Valley', 'year': '1848', 'content_lines': None, 'error': ''}\n",
      "Doc #348=Book ID #13159\n",
      "\t{'id': 13159, 'path': '/Users/jmc/git/jaycoskey/Coskey_Metis/projects/Project4/data/gutenberg_books_en/aleph.gutenberg.org/1/3/1/5/13159/13159.zip', 'author': 'Honore De Balzac', 'title': 'Lost Illusions', 'year': '1843', 'content_lines': None, 'error': ''}\n",
      "Doc #349=Book ID #33647\n",
      "\t{'id': 33647, 'path': '/Users/jmc/git/jaycoskey/Coskey_Metis/projects/Project4/data/gutenberg_books_en/aleph.gutenberg.org/3/3/6/4/33647/33647.zip', 'author': 'Amelia Stratton Comfield', 'title': 'Alida', 'year': '1840', 'content_lines': None, 'error': ''}\n",
      "Doc #350=Book ID #39374\n",
      "\t{'id': 39374, 'path': '/Users/jmc/git/jaycoskey/Coskey_Metis/projects/Project4/data/gutenberg_books_en/aleph.gutenberg.org/3/9/3/7/39374/39374.zip', 'author': 'G. A. Henty', 'title': \"The Curse of Carne's Hold\", 'year': '1850', 'content_lines': None, 'error': ''}\n",
      "Doc #351=Book ID #24753\n",
      "\t{'id': 24753, 'path': '/Users/jmc/git/jaycoskey/Coskey_Metis/projects/Project4/data/gutenberg_books_en/aleph.gutenberg.org/2/4/7/5/24753/24753.zip', 'author': 'T. S. Arthur', 'title': 'Who Are Happiest? and Other Stories', 'year': '1852', 'content_lines': None, 'error': ''}\n",
      "Doc #352=Book ID #14776\n",
      "\t{'id': 14776, 'path': '/Users/jmc/git/jaycoskey/Coskey_Metis/projects/Project4/data/gutenberg_books_en/aleph.gutenberg.org/1/4/7/7/14776/14776.zip', 'author': 'P. R. Kincaid', 'title': 'The Arabian Art of Taming and Training Wild and Vicious Horses', 'year': '1856', 'content_lines': None, 'error': ''}\n",
      "Doc #353=Book ID #25464\n",
      "\t{'id': 25464, 'path': '/Users/jmc/git/jaycoskey/Coskey_Metis/projects/Project4/data/gutenberg_books_en/aleph.gutenberg.org/2/5/4/6/25464/25464.zip', 'author': 'R. Reinick', 'title': 'The King of Root Valley', 'year': '1856', 'content_lines': None, 'error': ''}\n",
      "Doc #354=Book ID #38147\n",
      "\t{'id': 38147, 'path': '/Users/jmc/git/jaycoskey/Coskey_Metis/projects/Project4/data/gutenberg_books_en/aleph.gutenberg.org/3/8/1/4/38147/38147.zip', 'author': 'Thomas W. Allies', 'title': 'St. Peter, His Name and His Office', 'year': '1850', 'content_lines': None, 'error': ''}\n",
      "Doc #355=Book ID #20156\n",
      "\t{'id': 20156, 'path': '/Users/jmc/git/jaycoskey/Coskey_Metis/projects/Project4/data/gutenberg_books_en/aleph.gutenberg.org/2/0/1/5/20156/20156.zip', 'author': 'Fredrika Bremer', 'title': 'Strife and Peace', 'year': '1853', 'content_lines': None, 'error': ''}\n",
      "Doc #356=Book ID #37705\n",
      "\t{'id': 37705, 'path': '/Users/jmc/git/jaycoskey/Coskey_Metis/projects/Project4/data/gutenberg_books_en/aleph.gutenberg.org/3/7/7/0/37705/37705.zip', 'author': 'William Hogan', 'title': 'Popery! As it Was and as it Is', 'year': '1854', 'content_lines': None, 'error': ''}\n",
      "Doc #357=Book ID #49588\n",
      "\t{'id': 49588, 'path': '/Users/jmc/git/jaycoskey/Coskey_Metis/projects/Project4/data/gutenberg_books_en/aleph.gutenberg.org/4/9/5/8/49588/49588.zip', 'author': 'Erastus Snow', 'title': 'One Year in Scandinavia', 'year': '1851', 'content_lines': None, 'error': ''}\n",
      "Doc #358=Book ID #33177\n",
      "\t{'id': 33177, 'path': '/Users/jmc/git/jaycoskey/Coskey_Metis/projects/Project4/data/gutenberg_books_en/aleph.gutenberg.org/3/3/1/7/33177/33177.zip', 'author': 'William P. Seville', 'title': 'Narrative of the March of Co. A, Engineers from Fort Leavenworth, Kansas, to Fort Bridger, Utah, and Return', 'year': '1858', 'content_lines': None, 'error': ''}\n",
      "Doc #359=Book ID #36843\n",
      "\t{'id': 36843, 'path': '/Users/jmc/git/jaycoskey/Coskey_Metis/projects/Project4/data/gutenberg_books_en/aleph.gutenberg.org/3/6/8/4/36843/36843.zip', 'author': 'Daniel Webster', 'title': 'The Works of Daniel Webster, Volume 1', 'year': '1854', 'content_lines': None, 'error': ''}\n",
      "Doc #360=Book ID #30611\n",
      "\t{'id': 30611, 'path': '/Users/jmc/git/jaycoskey/Coskey_Metis/projects/Project4/data/gutenberg_books_en/aleph.gutenberg.org/3/0/6/1/30611/30611.zip', 'author': 'Various', 'title': 'The Atlantic Monthly, Volume 15, No. 90, April, 1865', 'year': '1865', 'content_lines': None, 'error': ''}\n",
      "Doc #361=Book ID #26668\n",
      "\t{'id': 26668, 'path': '/Users/jmc/git/jaycoskey/Coskey_Metis/projects/Project4/data/gutenberg_books_en/aleph.gutenberg.org/2/6/6/6/26668/26668.zip', 'author': 'George Augustus Sala', 'title': 'The Strange Adventures of Captain Dangerous, Vol. 2 of 3', 'year': '1863', 'content_lines': None, 'error': ''}\n",
      "Doc #362=Book ID #39258\n",
      "\t{'id': 39258, 'path': '/Users/jmc/git/jaycoskey/Coskey_Metis/projects/Project4/data/gutenberg_books_en/aleph.gutenberg.org/3/9/2/5/39258/39258.zip', 'author': 'R. A. Kishpaugh', 'title': 'Fredericksburg and Its Many Points of Interest', 'year': '1862', 'content_lines': None, 'error': ''}\n",
      "Doc #363=Book ID #22663\n",
      "\t{'id': 22663, 'path': '/Users/jmc/git/jaycoskey/Coskey_Metis/projects/Project4/data/gutenberg_books_en/aleph.gutenberg.org/2/2/6/6/22663/22663.zip', 'author': 'Leopold Kompert', 'title': 'A Ghetto Violet', 'year': '1869', 'content_lines': None, 'error': ''}\n",
      "Doc #364=Book ID #13163\n",
      "\t{'id': 13163, 'path': '/Users/jmc/git/jaycoskey/Coskey_Metis/projects/Project4/data/gutenberg_books_en/aleph.gutenberg.org/1/3/1/6/13163/13163.zip', 'author': 'Raphael Semmes', 'title': 'The Cruise of the Alabama and the Sumter', 'year': '1864', 'content_lines': None, 'error': ''}\n",
      "Doc #365=Book ID #28513\n",
      "\t{'id': 28513, 'path': '/Users/jmc/git/jaycoskey/Coskey_Metis/projects/Project4/data/gutenberg_books_en/aleph.gutenberg.org/2/8/5/1/28513/28513.zip', 'author': 'Cotton Mather', 'title': 'The Wonders of the Invisible World', 'year': '1862', 'content_lines': None, 'error': ''}\n",
      "Doc #366=Book ID #43562\n",
      "\t{'id': 43562, 'path': '/Users/jmc/git/jaycoskey/Coskey_Metis/projects/Project4/data/gutenberg_books_en/aleph.gutenberg.org/4/3/5/6/43562/43562.zip', 'author': 'A. R. (Albert Rowe) Barlow', 'title': 'Company G', 'year': '1862', 'content_lines': None, 'error': ''}\n",
      "Doc #367=Book ID #28034\n",
      "\t{'id': 28034, 'path': '/Users/jmc/git/jaycoskey/Coskey_Metis/projects/Project4/data/gutenberg_books_en/aleph.gutenberg.org/2/8/0/3/28034/28034.zip', 'author': 'Mary Evarts Anderson', 'title': 'Scenes in the Hawaiian Islands and California', 'year': '1865', 'content_lines': None, 'error': ''}\n",
      "Doc #368=Book ID #18646\n",
      "\t{'id': 18646, 'path': '/Users/jmc/git/jaycoskey/Coskey_Metis/projects/Project4/data/gutenberg_books_en/aleph.gutenberg.org/1/8/6/4/18646/18646.zip', 'author': 'Elizabeth Stuart Phelps', 'title': \"Gypsy's Cousin Joy\", 'year': '1866', 'content_lines': None, 'error': ''}\n",
      "Doc #369=Book ID #35664\n",
      "\t{'id': 35664, 'path': '/Users/jmc/git/jaycoskey/Coskey_Metis/projects/Project4/data/gutenberg_books_en/aleph.gutenberg.org/3/5/6/6/35664/35664.zip', 'author': 'Jean Paul Friedrich Richter', 'title': 'Titan: A Romance v. 1 (of 2)', 'year': '1864', 'content_lines': None, 'error': ''}\n",
      "Doc #370=Book ID #48150\n",
      "\t{'id': 48150, 'path': '/Users/jmc/git/jaycoskey/Coskey_Metis/projects/Project4/data/gutenberg_books_en/aleph.gutenberg.org/4/8/1/5/48150/48150-0.zip', 'author': 'Various', 'title': \"Chambers's Journal of Popular Literature, Science, and Art, No. 702\", 'year': '1877', 'content_lines': None, 'error': ''}\n",
      "Doc #371=Book ID #11403\n",
      "\t{'id': 11403, 'path': '/Users/jmc/git/jaycoskey/Coskey_Metis/projects/Project4/data/gutenberg_books_en/aleph.gutenberg.org/1/1/4/0/11403/11403.zip', 'author': 'Frederic W.  Woodhouse', 'title': \"Bell's Cathedrals: The Churches of Coventry\", 'year': '1871', 'content_lines': None, 'error': ''}\n",
      "Doc #372=Book ID #47960\n",
      "\t{'id': 47960, 'path': '/Users/jmc/git/jaycoskey/Coskey_Metis/projects/Project4/data/gutenberg_books_en/aleph.gutenberg.org/4/7/9/6/47960/47960-0.zip', 'author': 'William Shakespeare', 'title': \"Shakespeare's Tragedy of Romeo and Juliet\", 'year': '1879', 'content_lines': None, 'error': ''}\n",
      "Doc #373=Book ID #11610\n",
      "\t{'id': 11610, 'path': '/Users/jmc/git/jaycoskey/Coskey_Metis/projects/Project4/data/gutenberg_books_en/aleph.gutenberg.org/1/1/6/1/11610/11610.zip', 'author': 'Joseph Sheridan LeFanu', 'title': \"Madam Crowl's Ghost and The Dead Sexton\", 'year': '1871', 'content_lines': None, 'error': ''}\n",
      "Doc #374=Book ID #48266\n",
      "\t{'id': 48266, 'path': '/Users/jmc/git/jaycoskey/Coskey_Metis/projects/Project4/data/gutenberg_books_en/aleph.gutenberg.org/4/8/2/6/48266/48266-0.zip', 'author': 'Charles Sumner', 'title': 'Charles Sumner; his complete works, volume 9 (of 20)', 'year': '1872', 'content_lines': None, 'error': ''}\n",
      "Doc #375=Book ID #3589\n",
      "\t{'id': 3589, 'path': '/Users/jmc/git/jaycoskey/Coskey_Metis/projects/Project4/data/gutenberg_books_en/aleph.gutenberg.org/3/5/8/3589/3589.zip', 'author': 'Michel de Montaigne', 'title': 'The Essays of Montaigne, Volume 9', 'year': '1877', 'content_lines': None, 'error': ''}\n",
      "Doc #376=Book ID #29172\n",
      "\t{'id': 29172, 'path': '/Users/jmc/git/jaycoskey/Coskey_Metis/projects/Project4/data/gutenberg_books_en/aleph.gutenberg.org/2/9/1/7/29172/29172.zip', 'author': 'John S. C. Abbott', 'title': 'Ferdinand De Soto, The Discoverer of the Mississippi', 'year': '1873', 'content_lines': None, 'error': ''}\n",
      "Doc #377=Book ID #43190\n",
      "\t{'id': 43190, 'path': '/Users/jmc/git/jaycoskey/Coskey_Metis/projects/Project4/data/gutenberg_books_en/aleph.gutenberg.org/4/3/1/9/43190/43190.zip', 'author': 'B. L. (Benjamin Leopold) Farjeon', 'title': \"Blade-O'-Grass. Golden Grain. and Bread and Cheese and Kisses.\", 'year': '1874', 'content_lines': None, 'error': ''}\n",
      "Doc #378=Book ID #17183\n",
      "\t{'id': 17183, 'path': '/Users/jmc/git/jaycoskey/Coskey_Metis/projects/Project4/data/gutenberg_books_en/aleph.gutenberg.org/1/7/1/8/17183/17183.zip', 'author': 'Caroline Augusta Frazer', 'title': 'Atma', 'year': '1879', 'content_lines': None, 'error': ''}\n",
      "Doc #379=Book ID #46281\n",
      "\t{'id': 46281, 'path': '/Users/jmc/git/jaycoskey/Coskey_Metis/projects/Project4/data/gutenberg_books_en/aleph.gutenberg.org/4/6/2/8/46281/46281.zip', 'author': 'James Bateman', 'title': 'A Monograph of Odontoglossum', 'year': '1874', 'content_lines': None, 'error': ''}\n",
      "Doc #380=Book ID #36775\n",
      "\t{'id': 36775, 'path': '/Users/jmc/git/jaycoskey/Coskey_Metis/projects/Project4/data/gutenberg_books_en/aleph.gutenberg.org/3/6/7/7/36775/36775.zip', 'author': 'Various', 'title': 'Humorous Readings and Recitations', 'year': '1889', 'content_lines': None, 'error': ''}\n",
      "Doc #381=Book ID #45266\n",
      "\t{'id': 45266, 'path': '/Users/jmc/git/jaycoskey/Coskey_Metis/projects/Project4/data/gutenberg_books_en/aleph.gutenberg.org/4/5/2/6/45266/45266.zip', 'author': 'Various', 'title': 'The Pansy Magazine, January 1886', 'year': '1886', 'content_lines': None, 'error': ''}\n",
      "Doc #382=Book ID #7076\n",
      "\t{'id': 7076, 'path': '/Users/jmc/git/jaycoskey/Coskey_Metis/projects/Project4/data/gutenberg_books_en/aleph.gutenberg.org/7/0/7/7076/7076.zip', 'author': 'G. W. [George William] Foote', 'title': 'Prisoner for Blasphemy', 'year': '1886', 'content_lines': None, 'error': ''}\n",
      "Doc #383=Book ID #37016\n",
      "\t{'id': 37016, 'path': '/Users/jmc/git/jaycoskey/Coskey_Metis/projects/Project4/data/gutenberg_books_en/aleph.gutenberg.org/3/7/0/1/37016/37016.zip', 'author': 'Paul Janet', 'title': 'Elements of Morals', 'year': '1884', 'content_lines': None, 'error': ''}\n",
      "Doc #384=Book ID #43142\n",
      "\t{'id': 43142, 'path': '/Users/jmc/git/jaycoskey/Coskey_Metis/projects/Project4/data/gutenberg_books_en/aleph.gutenberg.org/4/3/1/4/43142/43142.zip', 'author': 'L.T. Meade', 'title': 'A London Baby', 'year': '1882', 'content_lines': None, 'error': ''}\n",
      "Doc #385=Book ID #39015\n",
      "\t{'id': 39015, 'path': '/Users/jmc/git/jaycoskey/Coskey_Metis/projects/Project4/data/gutenberg_books_en/aleph.gutenberg.org/3/9/0/1/39015/39015.zip', 'author': 'Anonymous', 'title': 'Ophiolatreia', 'year': '1889', 'content_lines': None, 'error': ''}\n",
      "Doc #386=Book ID #32064\n",
      "\t{'id': 32064, 'path': '/Users/jmc/git/jaycoskey/Coskey_Metis/projects/Project4/data/gutenberg_books_en/aleph.gutenberg.org/3/2/0/6/32064/32064.zip', 'author': 'Wilhelm Hauff', 'title': 'The Wine-ghosts of Bremen', 'year': '1889', 'content_lines': None, 'error': ''}\n",
      "Doc #387=Book ID #39315\n",
      "\t{'id': 39315, 'path': '/Users/jmc/git/jaycoskey/Coskey_Metis/projects/Project4/data/gutenberg_books_en/aleph.gutenberg.org/3/9/3/1/39315/39315.zip', 'author': 'Various', 'title': 'Punch, or the London Charivari, Vol. 93, Nov. 11, 1887', 'year': '1887', 'content_lines': None, 'error': ''}\n",
      "Doc #388=Book ID #46523\n",
      "\t{'id': 46523, 'path': '/Users/jmc/git/jaycoskey/Coskey_Metis/projects/Project4/data/gutenberg_books_en/aleph.gutenberg.org/4/6/5/2/46523/46523.zip', 'author': 'Irvin S. Cobb', 'title': 'The Spruce Street Tragedy', 'year': '1887', 'content_lines': None, 'error': ''}\n",
      "Doc #389=Book ID #34144\n",
      "\t{'id': 34144, 'path': '/Users/jmc/git/jaycoskey/Coskey_Metis/projects/Project4/data/gutenberg_books_en/aleph.gutenberg.org/3/4/1/4/34144/34144.zip', 'author': 'Various', 'title': \"Wilson's Tales of the Borders and of Scotland\", 'year': '1885', 'content_lines': None, 'error': ''}\n",
      "Doc #390=Book ID #41223\n",
      "\t{'id': 41223, 'path': '/Users/jmc/git/jaycoskey/Coskey_Metis/projects/Project4/data/gutenberg_books_en/aleph.gutenberg.org/4/1/2/2/41223/41223.zip', 'author': 'Various', 'title': 'Punch, or the London Charivari', 'year': '1894', 'content_lines': None, 'error': ''}\n",
      "Doc #391=Book ID #38828\n",
      "\t{'id': 38828, 'path': '/Users/jmc/git/jaycoskey/Coskey_Metis/projects/Project4/data/gutenberg_books_en/aleph.gutenberg.org/3/8/8/2/38828/38828.zip', 'author': 'Isabella L. Bird', 'title': 'Journeys in Persia and Kurdistan, Volume II (of 2)', 'year': '1891', 'content_lines': None, 'error': ''}\n",
      "Doc #392=Book ID #40321\n",
      "\t{'id': 40321, 'path': '/Users/jmc/git/jaycoskey/Coskey_Metis/projects/Project4/data/gutenberg_books_en/aleph.gutenberg.org/4/0/3/2/40321/40321.zip', 'author': 'Edith Nesbit', 'title': 'Grim Tales', 'year': '1893', 'content_lines': None, 'error': ''}\n",
      "Doc #393=Book ID #33070\n",
      "\t{'id': 33070, 'path': '/Users/jmc/git/jaycoskey/Coskey_Metis/projects/Project4/data/gutenberg_books_en/aleph.gutenberg.org/3/3/0/7/33070/33070.zip', 'author': 'Various', 'title': \"Harper's Round Table, July 16, 1895\", 'year': '1895', 'content_lines': None, 'error': ''}\n",
      "Doc #394=Book ID #32588\n",
      "\t{'id': 32588, 'path': '/Users/jmc/git/jaycoskey/Coskey_Metis/projects/Project4/data/gutenberg_books_en/aleph.gutenberg.org/3/2/5/8/32588/32588.zip', 'author': 'John Addington Symonds', 'title': 'A Problem in Modern Ethics', 'year': '1896', 'content_lines': None, 'error': ''}\n",
      "Doc #395=Book ID #38346\n",
      "\t{'id': 38346, 'path': '/Users/jmc/git/jaycoskey/Coskey_Metis/projects/Project4/data/gutenberg_books_en/aleph.gutenberg.org/3/8/3/4/38346/38346.zip', 'author': 'Amos R. Wells', 'title': 'Sunday-School Success', 'year': '1897', 'content_lines': None, 'error': ''}\n",
      "Doc #396=Book ID #12329\n",
      "\t{'id': 12329, 'path': '/Users/jmc/git/jaycoskey/Coskey_Metis/projects/Project4/data/gutenberg_books_en/aleph.gutenberg.org/1/2/3/2/12329/12329.zip', 'author': 'George Edward Woodberry', 'title': 'Heart of Man', 'year': '1899', 'content_lines': None, 'error': ''}\n",
      "Doc #397=Book ID #14405\n",
      "\t{'id': 14405, 'path': '/Users/jmc/git/jaycoskey/Coskey_Metis/projects/Project4/data/gutenberg_books_en/aleph.gutenberg.org/1/4/4/0/14405/14405.zip', 'author': 'Archibald Henry Sayce', 'title': 'Patriarchal Palestine', 'year': '1895', 'content_lines': None, 'error': ''}\n",
      "Doc #398=Book ID #17886\n",
      "\t{'id': 17886, 'path': '/Users/jmc/git/jaycoskey/Coskey_Metis/projects/Project4/data/gutenberg_books_en/aleph.gutenberg.org/1/7/8/8/17886/17886.zip', 'author': 'Mary E. Wilkins Freeman', 'title': 'Jerome, A Poor Man', 'year': '1897', 'content_lines': None, 'error': ''}\n",
      "Doc #399=Book ID #15454\n",
      "\t{'id': 15454, 'path': '/Users/jmc/git/jaycoskey/Coskey_Metis/projects/Project4/data/gutenberg_books_en/aleph.gutenberg.org/1/5/4/5/15454/15454.zip', 'author': 'Sutton E. Griggs', 'title': 'Imperium in Imperio: A Study Of The Negro Race Problem', 'year': '1899', 'content_lines': None, 'error': ''}\n",
      "Doc #400=Book ID #33844\n",
      "\t{'id': 33844, 'path': '/Users/jmc/git/jaycoskey/Coskey_Metis/projects/Project4/data/gutenberg_books_en/aleph.gutenberg.org/3/3/8/4/33844/33844.zip', 'author': 'William S. Lyon', 'title': 'The Cocoanut', 'year': '1903', 'content_lines': None, 'error': ''}\n",
      "Doc #401=Book ID #25057\n",
      "\t{'id': 25057, 'path': '/Users/jmc/git/jaycoskey/Coskey_Metis/projects/Project4/data/gutenberg_books_en/aleph.gutenberg.org/2/5/0/5/25057/25057.zip', 'author': 'Louis Becke', 'title': 'The Adventure Of Elizabeth Morey, of New York', 'year': '1901', 'content_lines': None, 'error': ''}\n",
      "Doc #402=Book ID #38214\n",
      "\t{'id': 38214, 'path': '/Users/jmc/git/jaycoskey/Coskey_Metis/projects/Project4/data/gutenberg_books_en/aleph.gutenberg.org/3/8/2/1/38214/38214.zip', 'author': 'Lord Acton', 'title': 'Letters of Lord Acton', 'year': '1904', 'content_lines': None, 'error': ''}\n",
      "Doc #403=Book ID #11860\n",
      "\t{'id': 11860, 'path': '/Users/jmc/git/jaycoskey/Coskey_Metis/projects/Project4/data/gutenberg_books_en/aleph.gutenberg.org/1/1/8/6/11860/11860.zip', 'author': 'Anna Sewell', 'title': \"Black Beauty, Young Folks' Edition\", 'year': '1902', 'content_lines': None, 'error': ''}\n",
      "Doc #404=Book ID #45131\n",
      "\t{'id': 45131, 'path': '/Users/jmc/git/jaycoskey/Coskey_Metis/projects/Project4/data/gutenberg_books_en/aleph.gutenberg.org/4/5/1/3/45131/45131.zip', 'author': 'Hypatia Bradlaugh Bonner and J. M. (John Mackinnon) Robertson', 'title': 'Charles Bradlaugh: a Record of His Life and Work, Volume II (of 2)', 'year': '1908', 'content_lines': None, 'error': ''}\n",
      "Doc #405=Book ID #10842\n",
      "\t{'id': 10842, 'path': '/Users/jmc/git/jaycoskey/Coskey_Metis/projects/Project4/data/gutenberg_books_en/aleph.gutenberg.org/1/0/8/4/10842/10842.zip', 'author': 'Arthur Kitson', 'title': 'The Life of Captain James Cook', 'year': '1907', 'content_lines': None, 'error': ''}\n",
      "Doc #406=Book ID #45234\n",
      "\t{'id': 45234, 'path': '/Users/jmc/git/jaycoskey/Coskey_Metis/projects/Project4/data/gutenberg_books_en/aleph.gutenberg.org/4/5/2/3/45234/45234.zip', 'author': 'Maud Ballington Booth', 'title': 'After Prison - What?', 'year': '1903', 'content_lines': None, 'error': ''}\n",
      "Doc #407=Book ID #38013\n",
      "\t{'id': 38013, 'path': '/Users/jmc/git/jaycoskey/Coskey_Metis/projects/Project4/data/gutenberg_books_en/aleph.gutenberg.org/3/8/0/1/38013/38013.zip', 'author': 'Frederic A. Lucas', 'title': 'Animals of the Past', 'year': '1901', 'content_lines': None, 'error': ''}\n",
      "Doc #408=Book ID #38164\n",
      "\t{'id': 38164, 'path': '/Users/jmc/git/jaycoskey/Coskey_Metis/projects/Project4/data/gutenberg_books_en/aleph.gutenberg.org/3/8/1/6/38164/38164.zip', 'author': 'Rose Esther Dorothea Sketchley', 'title': 'English Book-Illustration of To-day', 'year': '1903', 'content_lines': None, 'error': ''}\n",
      "Doc #409=Book ID #21759\n",
      "\t{'id': 21759, 'path': '/Users/jmc/git/jaycoskey/Coskey_Metis/projects/Project4/data/gutenberg_books_en/aleph.gutenberg.org/2/1/7/5/21759/21759.zip', 'author': 'G. J. Whyte-Melville', 'title': 'Kate Coventry', 'year': '1909', 'content_lines': None, 'error': ''}\n",
      "Doc #410=Book ID #11491\n",
      "\t{'id': 11491, 'path': '/Users/jmc/git/jaycoskey/Coskey_Metis/projects/Project4/data/gutenberg_books_en/aleph.gutenberg.org/1/1/4/9/11491/11491.zip', 'author': 'Various', 'title': 'Punch, or the London Charivari, Vol. 153, October 31, 1917', 'year': '1917', 'content_lines': None, 'error': ''}\n",
      "Doc #411=Book ID #14353\n",
      "\t{'id': 14353, 'path': '/Users/jmc/git/jaycoskey/Coskey_Metis/projects/Project4/data/gutenberg_books_en/aleph.gutenberg.org/1/4/3/5/14353/14353.zip', 'author': 'Jonathan Swift', 'title': 'The Poems of Jonathan Swift, D.D., Volume I (of 2)', 'year': '1910', 'content_lines': None, 'error': ''}\n",
      "Doc #412=Book ID #28308\n",
      "\t{'id': 28308, 'path': '/Users/jmc/git/jaycoskey/Coskey_Metis/projects/Project4/data/gutenberg_books_en/aleph.gutenberg.org/2/8/3/0/28308/28308.zip', 'author': 'Various', 'title': \"The Children's Book of Christmas Stories\", 'year': '1913', 'content_lines': None, 'error': ''}\n",
      "Doc #413=Book ID #28655\n",
      "\t{'id': 28655, 'path': '/Users/jmc/git/jaycoskey/Coskey_Metis/projects/Project4/data/gutenberg_books_en/aleph.gutenberg.org/2/8/6/5/28655/28655.zip', 'author': 'Allen Chapman', 'title': 'Ralph on the Overland Express', 'year': '1910', 'content_lines': None, 'error': ''}\n",
      "Doc #414=Book ID #17418\n",
      "\t{'id': 17418, 'path': '/Users/jmc/git/jaycoskey/Coskey_Metis/projects/Project4/data/gutenberg_books_en/aleph.gutenberg.org/1/7/4/1/17418/17418.zip', 'author': 'Mrs. Wilson Woodrow', 'title': 'The Black Pearl', 'year': '1912', 'content_lines': None, 'error': ''}\n",
      "Doc #415=Book ID #48996\n",
      "\t{'id': 48996, 'path': '/Users/jmc/git/jaycoskey/Coskey_Metis/projects/Project4/data/gutenberg_books_en/aleph.gutenberg.org/4/8/9/9/48996/48996-0.zip', 'author': 'Francis Younghusband', 'title': 'India and Tibet', 'year': '1910', 'content_lines': None, 'error': ''}\n",
      "Doc #416=Book ID #32417\n",
      "\t{'id': 32417, 'path': '/Users/jmc/git/jaycoskey/Coskey_Metis/projects/Project4/data/gutenberg_books_en/aleph.gutenberg.org/3/2/4/1/32417/32417.zip', 'author': 'Nina Rhoades', 'title': 'The Girl from Arizona', 'year': '1913', 'content_lines': None, 'error': ''}\n",
      "Doc #417=Book ID #22821\n",
      "\t{'id': 22821, 'path': '/Users/jmc/git/jaycoskey/Coskey_Metis/projects/Project4/data/gutenberg_books_en/aleph.gutenberg.org/2/2/8/2/22821/22821.zip', 'author': 'Newell Dwight Hillis', 'title': \"The Blot on the Kaiser's 'Scutcheon\", 'year': '1918', 'content_lines': None, 'error': ''}\n",
      "Doc #418=Book ID #19521\n",
      "\t{'id': 19521, 'path': '/Users/jmc/git/jaycoskey/Coskey_Metis/projects/Project4/data/gutenberg_books_en/aleph.gutenberg.org/1/9/5/2/19521/19521.zip', 'author': 'Isaac Alexander Mack', 'title': 'Letters from France', 'year': '1916', 'content_lines': None, 'error': ''}\n",
      "Doc #419=Book ID #12542\n",
      "\t{'id': 12542, 'path': '/Users/jmc/git/jaycoskey/Coskey_Metis/projects/Project4/data/gutenberg_books_en/aleph.gutenberg.org/1/2/5/4/12542/12542.zip', 'author': 'Edward Hutton', 'title': 'Ravenna, A Study', 'year': '1913', 'content_lines': None, 'error': ''}\n",
      "Doc #420=Book ID #11161\n",
      "\t{'id': 11161, 'path': '/Users/jmc/git/jaycoskey/Coskey_Metis/projects/Project4/data/gutenberg_books_en/aleph.gutenberg.org/1/1/1/6/11161/11161.zip', 'author': 'Henry Kitchell Webster', 'title': 'Mary Wollaston', 'year': '1920', 'content_lines': None, 'error': ''}\n",
      "Doc #421=Book ID #40375\n",
      "\t{'id': 40375, 'path': '/Users/jmc/git/jaycoskey/Coskey_Metis/projects/Project4/data/gutenberg_books_en/aleph.gutenberg.org/4/0/3/7/40375/40375.zip', 'author': 'Michael Arlen', 'title': 'The London Venture', 'year': '1920', 'content_lines': None, 'error': ''}\n",
      "Doc #422=Book ID #26033\n",
      "\t{'id': 26033, 'path': '/Users/jmc/git/jaycoskey/Coskey_Metis/projects/Project4/data/gutenberg_books_en/aleph.gutenberg.org/2/6/0/3/26033/26033.zip', 'author': 'Rosalind Goforth', 'title': 'How I Know God Answers Prayer', 'year': '1921', 'content_lines': None, 'error': ''}\n",
      "Doc #423=Book ID #14971\n",
      "\t{'id': 14971, 'path': '/Users/jmc/git/jaycoskey/Coskey_Metis/projects/Project4/data/gutenberg_books_en/aleph.gutenberg.org/1/4/9/7/14971/14971.zip', 'author': 'George Edmundson', 'title': 'History of Holland', 'year': '1922', 'content_lines': None, 'error': ''}\n",
      "Doc #424=Book ID #20107\n",
      "\t{'id': 20107, 'path': '/Users/jmc/git/jaycoskey/Coskey_Metis/projects/Project4/data/gutenberg_books_en/aleph.gutenberg.org/2/0/1/0/20107/20107.zip', 'author': 'M. Pearson Thomson', 'title': 'Denmark', 'year': '1921', 'content_lines': None, 'error': ''}\n",
      "Doc #425=Book ID #14338\n",
      "\t{'id': 14338, 'path': '/Users/jmc/git/jaycoskey/Coskey_Metis/projects/Project4/data/gutenberg_books_en/aleph.gutenberg.org/1/4/3/3/14338/14338.zip', 'author': 'Lafcadio Hearn', 'title': 'Books and Habits from the Lectures of Lafcadio Hearn', 'year': '1922', 'content_lines': None, 'error': ''}\n",
      "Doc #426=Book ID #44508\n",
      "\t{'id': 44508, 'path': '/Users/jmc/git/jaycoskey/Coskey_Metis/projects/Project4/data/gutenberg_books_en/aleph.gutenberg.org/4/4/5/0/44508/44508.zip', 'author': 'Albert Jay Nock', 'title': 'The Myth of a Guilty Nation', 'year': '1922', 'content_lines': None, 'error': ''}\n",
      "Doc #427=Book ID #16578\n",
      "\t{'id': 16578, 'path': '/Users/jmc/git/jaycoskey/Coskey_Metis/projects/Project4/data/gutenberg_books_en/aleph.gutenberg.org/1/6/5/7/16578/16578.zip', 'author': 'Rudyard Kipling', 'title': 'The Kipling Reader', 'year': '1923', 'content_lines': None, 'error': ''}\n",
      "Doc #428=Book ID #20044\n",
      "\t{'id': 20044, 'path': '/Users/jmc/git/jaycoskey/Coskey_Metis/projects/Project4/data/gutenberg_books_en/aleph.gutenberg.org/2/0/0/4/20044/20044.zip', 'author': 'John Frederick', 'title': 'Riders of the Silences', 'year': '1920', 'content_lines': None, 'error': ''}\n",
      "Doc #429=Book ID #27569\n",
      "\t{'id': 27569, 'path': '/Users/jmc/git/jaycoskey/Coskey_Metis/projects/Project4/data/gutenberg_books_en/aleph.gutenberg.org/2/7/5/6/27569/27569.zip', 'author': 'Patrick Braybrooke', 'title': 'Gilbert Keith Chesterton', 'year': '1922', 'content_lines': None, 'error': ''}\n",
      "Doc #430=Book ID #46534\n",
      "\t{'id': 46534, 'path': '/Users/jmc/git/jaycoskey/Coskey_Metis/projects/Project4/data/gutenberg_books_en/aleph.gutenberg.org/4/6/5/3/46534/46534.zip', 'author': 'Charles D. Hornig', 'title': 'The Fantasy Fan November 1933', 'year': '1933', 'content_lines': None, 'error': ''}\n",
      "Doc #431=Book ID #29882\n",
      "\t{'id': 29882, 'path': '/Users/jmc/git/jaycoskey/Coskey_Metis/projects/Project4/data/gutenberg_books_en/aleph.gutenberg.org/2/9/8/8/29882/29882.zip', 'author': 'Various', 'title': 'Astounding Stories of Super-Science, October, 1930', 'year': '1930', 'content_lines': None, 'error': ''}\n",
      "Doc #432=Book ID #29384\n",
      "\t{'id': 29384, 'path': '/Users/jmc/git/jaycoskey/Coskey_Metis/projects/Project4/data/gutenberg_books_en/aleph.gutenberg.org/2/9/3/8/29384/29384.zip', 'author': 'Victor Endersby', 'title': 'Disowned', 'year': '1932', 'content_lines': None, 'error': ''}\n",
      "Doc #433=Book ID #18484\n",
      "\t{'id': 18484, 'path': '/Users/jmc/git/jaycoskey/Coskey_Metis/projects/Project4/data/gutenberg_books_en/aleph.gutenberg.org/1/8/4/8/18484/18484.zip', 'author': 'Work Projects Administration', 'title': 'Slave Narratives: A Folk History of Slavery in the United States From Interviews with Former Slaves', 'year': '1937', 'content_lines': None, 'error': ''}\n",
      "Doc #434=Book ID #26160\n",
      "\t{'id': 26160, 'path': '/Users/jmc/git/jaycoskey/Coskey_Metis/projects/Project4/data/gutenberg_books_en/aleph.gutenberg.org/2/6/1/6/26160/26160.zip', 'author': 'Edward Stratemeyer', 'title': 'Dave Porter and His Rivals', 'year': '1930', 'content_lines': None, 'error': ''}\n",
      "Doc #435=Book ID #29198\n",
      "\t{'id': 29198, 'path': '/Users/jmc/git/jaycoskey/Coskey_Metis/projects/Project4/data/gutenberg_books_en/aleph.gutenberg.org/2/9/1/9/29198/29198.zip', 'author': 'Various', 'title': 'Astounding Stories of Super-Science July 1930', 'year': '1930', 'content_lines': None, 'error': ''}\n",
      "Doc #436=Book ID #29310\n",
      "\t{'id': 29310, 'path': '/Users/jmc/git/jaycoskey/Coskey_Metis/projects/Project4/data/gutenberg_books_en/aleph.gutenberg.org/2/9/3/1/29310/29310.zip', 'author': 'Anthony Gilmore', 'title': 'The Affair of the Brains', 'year': '1932', 'content_lines': None, 'error': ''}\n",
      "Doc #437=Book ID #30378\n",
      "\t{'id': 30378, 'path': '/Users/jmc/git/jaycoskey/Coskey_Metis/projects/Project4/data/gutenberg_books_en/aleph.gutenberg.org/3/0/3/7/30378/30378.zip', 'author': 'Lizette M. Edholm', 'title': \"The Merriweather Girls and the Mystery of the Queen's Fan\", 'year': '1932', 'content_lines': None, 'error': ''}\n",
      "Doc #438=Book ID #42259\n",
      "\t{'id': 42259, 'path': '/Users/jmc/git/jaycoskey/Coskey_Metis/projects/Project4/data/gutenberg_books_en/aleph.gutenberg.org/4/2/2/5/42259/42259.zip', 'author': 'Robert E. Howard', 'title': 'The People of the Black Circle', 'year': '1934', 'content_lines': None, 'error': ''}\n",
      "Doc #439=Book ID #47576\n",
      "\t{'id': 47576, 'path': '/Users/jmc/git/jaycoskey/Coskey_Metis/projects/Project4/data/gutenberg_books_en/aleph.gutenberg.org/4/7/5/7/47576/47576-0.zip', 'author': 'William Dixon Bell', 'title': 'The Moon Colony', 'year': '1937', 'content_lines': None, 'error': ''}\n",
      "Doc #440=Book ID #48977\n",
      "\t{'id': 48977, 'path': '/Users/jmc/git/jaycoskey/Coskey_Metis/projects/Project4/data/gutenberg_books_en/aleph.gutenberg.org/4/8/9/7/48977/48977-0.zip', 'author': 'Herbert Francis Peyser', 'title': 'Johann Sebastian Bach', 'year': '1945', 'content_lines': None, 'error': ''}\n",
      "Doc #441=Book ID #42375\n",
      "\t{'id': 42375, 'path': '/Users/jmc/git/jaycoskey/Coskey_Metis/projects/Project4/data/gutenberg_books_en/aleph.gutenberg.org/4/2/3/7/42375/42375.zip', 'author': \"Lila M. O'Neale\", 'title': 'Chincha Plain-weave cloths', 'year': '1948', 'content_lines': None, 'error': ''}\n",
      "Doc #442=Book ID #34449\n",
      "\t{'id': 34449, 'path': '/Users/jmc/git/jaycoskey/Coskey_Metis/projects/Project4/data/gutenberg_books_en/aleph.gutenberg.org/3/4/4/4/34449/34449.zip', 'author': 'Edwin C. Galbreath', 'title': 'A New Extinct Emydid Turtle from the Lower Pliocene of Oklahoma', 'year': '1948', 'content_lines': None, 'error': ''}\n",
      "Doc #443=Book ID #34975\n",
      "\t{'id': 34975, 'path': '/Users/jmc/git/jaycoskey/Coskey_Metis/projects/Project4/data/gutenberg_books_en/aleph.gutenberg.org/3/4/9/7/34975/34975.zip', 'author': 'Mildred A. Wirt', 'title': 'Whispering Walls', 'year': '1946', 'content_lines': None, 'error': ''}\n",
      "Doc #444=Book ID #47403\n",
      "\t{'id': 47403, 'path': '/Users/jmc/git/jaycoskey/Coskey_Metis/projects/Project4/data/gutenberg_books_en/aleph.gutenberg.org/4/7/4/0/47403/47403-0.zip', 'author': 'Leta S. Hollingworth', 'title': 'Children Above 180 IQ Stanford-Binet: Origin and Development', 'year': '1942', 'content_lines': None, 'error': ''}\n",
      "Doc #445=Book ID #17306\n",
      "\t{'id': 17306, 'path': '/Users/jmc/git/jaycoskey/Coskey_Metis/projects/Project4/data/gutenberg_books_en/aleph.gutenberg.org/1/7/3/0/17306/17306.zip', 'author': 'Frederick Engels', 'title': 'The Condition of the Working-Class in England in 1844', 'year': '1943', 'content_lines': None, 'error': ''}\n",
      "Doc #446=Book ID #22226\n",
      "\t{'id': 22226, 'path': '/Users/jmc/git/jaycoskey/Coskey_Metis/projects/Project4/data/gutenberg_books_en/aleph.gutenberg.org/2/2/2/2/22226/22226.zip', 'author': 'Russell Robert  Winterbotham', 'title': 'The Whispering Spheres', 'year': '1941', 'content_lines': None, 'error': ''}\n",
      "Doc #447=Book ID #21670\n",
      "\t{'id': 21670, 'path': '/Users/jmc/git/jaycoskey/Coskey_Metis/projects/Project4/data/gutenberg_books_en/aleph.gutenberg.org/2/1/6/7/21670/21670.zip', 'author': 'Garrett Putnam Serviss', 'title': \"Edison's Conquest of Mars\", 'year': '1947', 'content_lines': None, 'error': ''}\n",
      "Doc #448=Book ID #49127\n",
      "\t{'id': 49127, 'path': '/Users/jmc/git/jaycoskey/Coskey_Metis/projects/Project4/data/gutenberg_books_en/aleph.gutenberg.org/4/9/1/2/49127/49127-0.zip', 'author': 'Pitts Sanborn', 'title': 'Brahms and some of his works', 'year': '1940', 'content_lines': None, 'error': ''}\n",
      "Doc #449=Book ID #49174\n",
      "\t{'id': 49174, 'path': '/Users/jmc/git/jaycoskey/Coskey_Metis/projects/Project4/data/gutenberg_books_en/aleph.gutenberg.org/4/9/1/7/49174/49174-0.zip', 'author': 'Robert Bagar', 'title': 'Wagner and His Music Dramas', 'year': '1943', 'content_lines': None, 'error': ''}\n",
      "Doc #450=Book ID #32067\n",
      "\t{'id': 32067, 'path': '/Users/jmc/git/jaycoskey/Coskey_Metis/projects/Project4/data/gutenberg_books_en/aleph.gutenberg.org/3/2/0/6/32067/32067.zip', 'author': 'Charles Louis Fontenay', 'title': 'Atom Drive', 'year': '1956', 'content_lines': None, 'error': ''}\n",
      "Doc #451=Book ID #28894\n",
      "\t{'id': 28894, 'path': '/Users/jmc/git/jaycoskey/Coskey_Metis/projects/Project4/data/gutenberg_books_en/aleph.gutenberg.org/2/8/8/9/28894/28894.zip', 'author': 'Walt Sheldon', 'title': 'Two Plus Two Makes Crazy', 'year': '1954', 'content_lines': None, 'error': ''}\n",
      "Doc #452=Book ID #31325\n",
      "\t{'id': 31325, 'path': '/Users/jmc/git/jaycoskey/Coskey_Metis/projects/Project4/data/gutenberg_books_en/aleph.gutenberg.org/3/1/3/2/31325/31325.zip', 'author': 'Olin L. Webb', 'title': 'An Annotated Checklist of Nebraskan Bats', 'year': '1952', 'content_lines': None, 'error': ''}\n",
      "Doc #453=Book ID #32055\n",
      "\t{'id': 32055, 'path': '/Users/jmc/git/jaycoskey/Coskey_Metis/projects/Project4/data/gutenberg_books_en/aleph.gutenberg.org/3/2/0/5/32055/32055.zip', 'author': 'Gerald Allan Sohl', 'title': 'The Hand', 'year': '1955', 'content_lines': None, 'error': ''}\n",
      "Doc #454=Book ID #32619\n",
      "\t{'id': 32619, 'path': '/Users/jmc/git/jaycoskey/Coskey_Metis/projects/Project4/data/gutenberg_books_en/aleph.gutenberg.org/3/2/6/1/32619/32619.zip', 'author': 'Richard Wilson', 'title': 'Back to Julie', 'year': '1954', 'content_lines': None, 'error': ''}\n",
      "Doc #455=Book ID #28499\n",
      "\t{'id': 28499, 'path': '/Users/jmc/git/jaycoskey/Coskey_Metis/projects/Project4/data/gutenberg_books_en/aleph.gutenberg.org/2/8/4/9/28499/28499.zip', 'author': 'W. Stitt Robinson, Jr.', 'title': 'Mother Earth', 'year': '1957', 'content_lines': None, 'error': ''}\n",
      "Doc #456=Book ID #23636\n",
      "\t{'id': 23636, 'path': '/Users/jmc/git/jaycoskey/Coskey_Metis/projects/Project4/data/gutenberg_books_en/aleph.gutenberg.org/2/3/6/3/23636/23636.zip', 'author': 'William Fitzgerald Jenkins', 'title': 'A Matter of Importance', 'year': '1959', 'content_lines': None, 'error': ''}\n",
      "Doc #457=Book ID #41327\n",
      "\t{'id': 41327, 'path': '/Users/jmc/git/jaycoskey/Coskey_Metis/projects/Project4/data/gutenberg_books_en/aleph.gutenberg.org/4/1/3/2/41327/41327.zip', 'author': 'Robert L. Packard', 'title': 'New Subspecies of the Rodent Baiomys From Central America', 'year': '1958', 'content_lines': None, 'error': ''}\n",
      "Doc #458=Book ID #37350\n",
      "\t{'id': 37350, 'path': '/Users/jmc/git/jaycoskey/Coskey_Metis/projects/Project4/data/gutenberg_books_en/aleph.gutenberg.org/3/7/3/5/37350/37350.zip', 'author': 'Theodore H. Eaton', 'title': 'The Ancestry of Modern Amphibia: A Review of the Evidence', 'year': '1959', 'content_lines': None, 'error': ''}\n",
      "Doc #459=Book ID #32833\n",
      "\t{'id': 32833, 'path': '/Users/jmc/git/jaycoskey/Coskey_Metis/projects/Project4/data/gutenberg_books_en/aleph.gutenberg.org/3/2/8/3/32833/32833.zip', 'author': 'Mark Irvin Clifton', 'title': \"A Woman's Place\", 'year': '1955', 'content_lines': None, 'error': ''}\n",
      "Doc #460=Book ID #32124\n",
      "\t{'id': 32124, 'path': '/Users/jmc/git/jaycoskey/Coskey_Metis/projects/Project4/data/gutenberg_books_en/aleph.gutenberg.org/3/2/1/2/32124/32124.zip', 'author': 'Jesse F. (Jesse Franklin) Bone', 'title': 'To Choke an Ocean', 'year': '1960', 'content_lines': None, 'error': ''}\n",
      "Doc #461=Book ID #41723\n",
      "\t{'id': 41723, 'path': '/Users/jmc/git/jaycoskey/Coskey_Metis/projects/Project4/data/gutenberg_books_en/aleph.gutenberg.org/4/1/7/2/41723/41723.zip', 'author': 'James Arthur Kjelgaard', 'title': 'The Duck-footed Hound', 'year': '1960', 'content_lines': None, 'error': ''}\n",
      "Doc #462=Book ID #23845\n",
      "\t{'id': 23845, 'path': '/Users/jmc/git/jaycoskey/Coskey_Metis/projects/Project4/data/gutenberg_books_en/aleph.gutenberg.org/2/3/8/4/23845/23845.zip', 'author': 'William Fitzgerald Jenkins', 'title': 'Talents, Incorporated', 'year': '1962', 'content_lines': None, 'error': ''}\n",
      "Doc #463=Book ID #24119\n",
      "\t{'id': 24119, 'path': '/Users/jmc/git/jaycoskey/Coskey_Metis/projects/Project4/data/gutenberg_books_en/aleph.gutenberg.org/2/4/1/1/24119/24119.zip', 'author': 'Rick Raphael', 'title': 'Make Mine Homogenized', 'year': '1960', 'content_lines': None, 'error': ''}\n",
      "Doc #464=Book ID #20649\n",
      "\t{'id': 20649, 'path': '/Users/jmc/git/jaycoskey/Coskey_Metis/projects/Project4/data/gutenberg_books_en/aleph.gutenberg.org/2/0/6/4/20649/20649.zip', 'author': 'Henry Beam Piper', 'title': 'Oomphel in the Sky', 'year': '1960', 'content_lines': None, 'error': ''}\n",
      "Doc #465=Book ID #34607\n",
      "\t{'id': 34607, 'path': '/Users/jmc/git/jaycoskey/Coskey_Metis/projects/Project4/data/gutenberg_books_en/aleph.gutenberg.org/3/4/6/0/34607/34607.zip', 'author': 'George Washington Sears (Nessmuk)', 'title': 'Woodcraft and Camping', 'year': '1963', 'content_lines': None, 'error': ''}\n",
      "Doc #466=Book ID #33272\n",
      "\t{'id': 33272, 'path': '/Users/jmc/git/jaycoskey/Coskey_Metis/projects/Project4/data/gutenberg_books_en/aleph.gutenberg.org/3/3/2/7/33272/33272.zip', 'author': 'Ross Netherton', 'title': 'Green Spring Farm', 'year': '1969', 'content_lines': None, 'error': ''}\n",
      "Doc #467=Book ID #48038\n",
      "\t{'id': 48038, 'path': '/Users/jmc/git/jaycoskey/Coskey_Metis/projects/Project4/data/gutenberg_books_en/aleph.gutenberg.org/4/8/0/3/48038/48038.zip', 'author': 'Neal O. Hines', 'title': 'Atoms, Nature, and Man', 'year': '1966', 'content_lines': None, 'error': ''}\n",
      "Doc #468=Book ID #20728\n",
      "\t{'id': 20728, 'path': '/Users/jmc/git/jaycoskey/Coskey_Metis/projects/Project4/data/gutenberg_books_en/aleph.gutenberg.org/2/0/7/2/20728/20728.zip', 'author': 'Henry Beam Piper', 'title': 'Space Viking', 'year': '1962', 'content_lines': None, 'error': ''}\n",
      "Doc #469=Book ID #32112\n",
      "\t{'id': 32112, 'path': '/Users/jmc/git/jaycoskey/Coskey_Metis/projects/Project4/data/gutenberg_books_en/aleph.gutenberg.org/3/2/1/1/32112/32112.zip', 'author': 'Sydney Anderson', 'title': 'Records of Harvest Mice, Reithrodontomys, from Central America, with Description of a New Subspecies from Nicaragua', 'year': '1960', 'content_lines': None, 'error': ''}\n",
      "Doc #470=Book ID #33931\n",
      "\t{'id': 33931, 'path': '/Users/jmc/git/jaycoskey/Coskey_Metis/projects/Project4/data/gutenberg_books_en/aleph.gutenberg.org/3/3/9/3/33931/33931.zip', 'author': 'Charles Perrault', 'title': 'Popular Tales', 'year': '1977', 'content_lines': None, 'error': ''}\n",
      "Doc #471=Book ID #49335\n",
      "\t{'id': 49335, 'path': '/Users/jmc/git/jaycoskey/Coskey_Metis/projects/Project4/data/gutenberg_books_en/aleph.gutenberg.org/4/9/3/3/49335/49335-0.zip', 'author': 'Various', 'title': 'Conservation of marine birds of northern North America:', 'year': '1974', 'content_lines': None, 'error': ''}\n",
      "Doc #472=Book ID #22675\n",
      "\t{'id': 22675, 'path': '/Users/jmc/git/jaycoskey/Coskey_Metis/projects/Project4/data/gutenberg_books_en/aleph.gutenberg.org/2/2/6/7/22675/22675.zip', 'author': 'Alice Morse Earle', 'title': 'Home Life in Colonial Days', 'year': '1974', 'content_lines': None, 'error': ''}\n",
      "Doc #473=Book ID #29244\n",
      "\t{'id': 29244, 'path': '/Users/jmc/git/jaycoskey/Coskey_Metis/projects/Project4/data/gutenberg_books_en/aleph.gutenberg.org/2/9/2/4/29244/29244.zip', 'author': 'Alexander Scott Withers', 'title': 'Chronicles of Border Warfare', 'year': '1971', 'content_lines': None, 'error': ''}\n",
      "Doc #474=Book ID #63\n",
      "\t{'id': 63, 'path': '/Users/jmc/git/jaycoskey/Coskey_Metis/projects/Project4/data/gutenberg_books_en/aleph.gutenberg.org/6/63/63.zip', 'author': 'Unknown', 'title': 'The Number \"e\"', 'year': '1978', 'content_lines': None, 'error': ''}\n",
      "Doc #475=Book ID #37871\n",
      "\t{'id': 37871, 'path': '/Users/jmc/git/jaycoskey/Coskey_Metis/projects/Project4/data/gutenberg_books_en/aleph.gutenberg.org/3/7/8/7/37871/37871.zip', 'author': 'Carroll Watson Rankin', 'title': 'Dandelion Cottage', 'year': '1977', 'content_lines': None, 'error': ''}\n",
      "Doc #476=Book ID #27327\n",
      "\t{'id': 27327, 'path': '/Users/jmc/git/jaycoskey/Coskey_Metis/projects/Project4/data/gutenberg_books_en/aleph.gutenberg.org/2/7/3/2/27327/27327.zip', 'author': 'John T. Schlebecker', 'title': 'Agricultural Implements and Machines in the Collection of the National Museum of History and Technology', 'year': '1972', 'content_lines': None, 'error': ''}\n",
      "Doc #477=Book ID #49257\n",
      "\t{'id': 49257, 'path': '/Users/jmc/git/jaycoskey/Coskey_Metis/projects/Project4/data/gutenberg_books_en/aleph.gutenberg.org/4/9/2/5/49257/49257-0.zip', 'author': 'H.M. Balyuzi', 'title': 'The Bab', 'year': '1973', 'content_lines': None, 'error': ''}\n",
      "Doc #478=Book ID #35006\n",
      "\t{'id': 35006, 'path': '/Users/jmc/git/jaycoskey/Coskey_Metis/projects/Project4/data/gutenberg_books_en/aleph.gutenberg.org/3/5/0/0/35006/35006.zip', 'author': 'Thomas F. Weise', 'title': 'An Experimental Translocation of the Eastern Timber Wolf', 'year': '1974', 'content_lines': None, 'error': ''}\n",
      "Doc #479=Book ID #19174\n",
      "\t{'id': 19174, 'path': '/Users/jmc/git/jaycoskey/Coskey_Metis/projects/Project4/data/gutenberg_books_en/aleph.gutenberg.org/1/9/1/7/19174/19174.zip', 'author': 'Arthur Train', 'title': 'The Man Who Rocked the Earth', 'year': '1974', 'content_lines': None, 'error': ''}\n",
      "Doc #480=Book ID #29761\n",
      "\t{'id': 29761, 'path': '/Users/jmc/git/jaycoskey/Coskey_Metis/projects/Project4/data/gutenberg_books_en/aleph.gutenberg.org/2/9/7/6/29761/29761.zip', 'author': 'Paul Cameron Brown', 'title': 'Sympathetic Magic', 'year': '1985', 'content_lines': None, 'error': ''}\n",
      "Doc #481=Book ID #34973\n",
      "\t{'id': 34973, 'path': '/Users/jmc/git/jaycoskey/Coskey_Metis/projects/Project4/data/gutenberg_books_en/aleph.gutenberg.org/3/4/9/7/34973/34973.zip', 'author': 'Allan Pinkerton', 'title': 'The Spy of the Rebellion', 'year': '1989', 'content_lines': None, 'error': ''}\n",
      "Doc #482=Book ID #14224\n",
      "\t{'id': 14224, 'path': '/Users/jmc/git/jaycoskey/Coskey_Metis/projects/Project4/data/gutenberg_books_en/aleph.gutenberg.org/1/4/2/2/14224/14224.zip', 'author': 'George Turner', 'title': 'Samoa, A Hundred Years Ago And Long Before', 'year': '1984', 'content_lines': None, 'error': ''}\n",
      "Doc #483=Book ID #16130\n",
      "\t{'id': 16130, 'path': '/Users/jmc/git/jaycoskey/Coskey_Metis/projects/Project4/data/gutenberg_books_en/aleph.gutenberg.org/1/6/1/3/16130/16130.zip', 'author': 'Sir Owen Woodhouse, R. B. Cooke, Ivor L. M. Richardson, Duncan', 'title': 'Judgments of the Court of Appeal of New Zealand on Proceedings to Review Aspects of the Report of the Royal Commission of Inquiry into the Mount Erebus Aircraft Disaster', 'year': '1981', 'content_lines': None, 'error': ''}\n",
      "Doc #484=Book ID #28516\n",
      "\t{'id': 28516, 'path': '/Users/jmc/git/jaycoskey/Coskey_Metis/projects/Project4/data/gutenberg_books_en/aleph.gutenberg.org/2/8/5/1/28516/28516.zip', 'author': 'Robert Shea', 'title': 'The Saracen: The Holy War', 'year': '1989', 'content_lines': None, 'error': ''}\n",
      "Doc #485=Book ID #44926\n",
      "\t{'id': 44926, 'path': '/Users/jmc/git/jaycoskey/Coskey_Metis/projects/Project4/data/gutenberg_books_en/aleph.gutenberg.org/4/4/9/2/44926/44926.zip', 'author': 'Steven J. Bartlett', 'title': \"When You Don't Know Where to Turn\", 'year': '1987', 'content_lines': None, 'error': ''}\n",
      "Doc #486=Book ID #37097\n",
      "\t{'id': 37097, 'path': '/Users/jmc/git/jaycoskey/Coskey_Metis/projects/Project4/data/gutenberg_books_en/aleph.gutenberg.org/3/7/0/9/37097/37097.zip', 'author': 'United States Department of Education', 'title': 'What Works: Schools Without Drugs', 'year': '1986', 'content_lines': None, 'error': ''}\n",
      "Doc #487=Book ID #30054\n",
      "\t{'id': 30054, 'path': '/Users/jmc/git/jaycoskey/Coskey_Metis/projects/Project4/data/gutenberg_books_en/aleph.gutenberg.org/3/0/0/5/30054/30054.zip', 'author': 'Charles A. Stewart', 'title': 'A Virginia Village', 'year': '1985', 'content_lines': None, 'error': ''}\n",
      "Doc #488=Book ID #34317\n",
      "\t{'id': 34317, 'path': '/Users/jmc/git/jaycoskey/Coskey_Metis/projects/Project4/data/gutenberg_books_en/aleph.gutenberg.org/3/4/3/1/34317/34317.zip', 'author': 'Thomas Hoover', 'title': 'Caribbee', 'year': '1985', 'content_lines': None, 'error': ''}\n",
      "Doc #489=Book ID #28515\n",
      "\t{'id': 28515, 'path': '/Users/jmc/git/jaycoskey/Coskey_Metis/projects/Project4/data/gutenberg_books_en/aleph.gutenberg.org/2/8/5/1/28515/28515.zip', 'author': 'Robert Shea', 'title': 'The Saracen: Land of the Infidel', 'year': '1989', 'content_lines': None, 'error': ''}\n",
      "Doc #490=Book ID #1055\n",
      "\t{'id': 1055, 'path': '/Users/jmc/git/jaycoskey/Coskey_Metis/projects/Project4/data/gutenberg_books_en/aleph.gutenberg.org/1/0/5/1055/1055-0.zip', 'author': 'Joseph Conrad', 'title': \"'Twixt Land & Sea\", 'year': '1997', 'content_lines': None, 'error': ''}\n",
      "Doc #491=Book ID #1053\n",
      "\t{'id': 1053, 'path': '/Users/jmc/git/jaycoskey/Coskey_Metis/projects/Project4/data/gutenberg_books_en/aleph.gutenberg.org/1/0/5/1053/1053.zip', 'author': 'Joseph Conrad', 'title': 'Within the Tides', 'year': '1997', 'content_lines': None, 'error': ''}\n",
      "Doc #492=Book ID #351\n",
      "\t{'id': 351, 'path': '/Users/jmc/git/jaycoskey/Coskey_Metis/projects/Project4/data/gutenberg_books_en/aleph.gutenberg.org/3/5/351/351.zip', 'author': 'W. Somerset Maugham', 'title': 'Of Human Bondage', 'year': '1995', 'content_lines': None, 'error': ''}\n",
      "Doc #493=Book ID #2080\n",
      "\t{'id': 2080, 'path': '/Users/jmc/git/jaycoskey/Coskey_Metis/projects/Project4/data/gutenberg_books_en/aleph.gutenberg.org/2/0/8/2080/2080-0.zip', 'author': 'Alice Meynell', 'title': 'The Flower of the Mind', 'year': '1999', 'content_lines': None, 'error': ''}\n",
      "Doc #494=Book ID #1381\n",
      "\t{'id': 1381, 'path': '/Users/jmc/git/jaycoskey/Coskey_Metis/projects/Project4/data/gutenberg_books_en/aleph.gutenberg.org/1/3/8/1381/1381-0.zip', 'author': 'George Meredith', 'title': 'Poems, Vol. 1 [of 3]', 'year': '1998', 'content_lines': None, 'error': ''}\n",
      "Doc #495=Book ID #911\n",
      "\t{'id': 911, 'path': '/Users/jmc/git/jaycoskey/Coskey_Metis/projects/Project4/data/gutenberg_books_en/aleph.gutenberg.org/9/1/911/911-0.zip', 'author': 'Jack London', 'title': 'Tales of the Fish Patrol', 'year': '1997', 'content_lines': None, 'error': ''}\n",
      "Doc #496=Book ID #2018\n",
      "\t{'id': 2018, 'path': '/Users/jmc/git/jaycoskey/Coskey_Metis/projects/Project4/data/gutenberg_books_en/aleph.gutenberg.org/2/0/1/2018/2018-0.zip', 'author': 'Andrew Lang', 'title': 'The Library', 'year': '1999', 'content_lines': None, 'error': ''}\n",
      "Doc #497=Book ID #696\n",
      "\t{'id': 696, 'path': '/Users/jmc/git/jaycoskey/Coskey_Metis/projects/Project4/data/gutenberg_books_en/aleph.gutenberg.org/6/9/696/696-0.zip', 'author': 'Horace Walpole', 'title': 'The Castle of Otranto', 'year': '1996', 'content_lines': None, 'error': ''}\n",
      "Doc #498=Book ID #898\n",
      "\t{'id': 898, 'path': '/Users/jmc/git/jaycoskey/Coskey_Metis/projects/Project4/data/gutenberg_books_en/aleph.gutenberg.org/8/9/898/898-0.zip', 'author': 'Henry James', 'title': 'The Lesson of the Master', 'year': '1997', 'content_lines': None, 'error': ''}\n",
      "Doc #499=Book ID #652\n",
      "\t{'id': 652, 'path': '/Users/jmc/git/jaycoskey/Coskey_Metis/projects/Project4/data/gutenberg_books_en/aleph.gutenberg.org/6/5/652/652-0.zip', 'author': 'Samuel Johnson', 'title': 'Rasselas', 'year': '1996', 'content_lines': None, 'error': ''}\n",
      "Doc #500=Book ID #6224\n",
      "\t{'id': 6224, 'path': '/Users/jmc/git/jaycoskey/Coskey_Metis/projects/Project4/data/gutenberg_books_en/aleph.gutenberg.org/6/2/2/6224/6224.zip', 'author': 'Gilbert Parker', 'title': 'The Seats Of The Mighty, Volume 1.', 'year': '2002', 'content_lines': None, 'error': ''}\n",
      "Doc #501=Book ID #5101\n",
      "\t{'id': 5101, 'path': '/Users/jmc/git/jaycoskey/Coskey_Metis/projects/Project4/data/gutenberg_books_en/aleph.gutenberg.org/5/1/0/5101/5101-0.zip', 'author': 'Samuel Johnson', 'title': 'The Lives of the English Poets: Prior, Congreve, Blackmore and Pope', 'year': '2002', 'content_lines': None, 'error': ''}\n",
      "Doc #502=Book ID #562\n",
      "\t{'id': 562, 'path': '/Users/jmc/git/jaycoskey/Coskey_Metis/projects/Project4/data/gutenberg_books_en/aleph.gutenberg.org/5/6/562/562.zip', 'author': 'Ross Kay', 'title': 'Go Ahead Boys and the Racing Motorboat', 'year': '2008', 'content_lines': None, 'error': ''}\n",
      "Doc #503=Book ID #4762\n",
      "\t{'id': 4762, 'path': '/Users/jmc/git/jaycoskey/Coskey_Metis/projects/Project4/data/gutenberg_books_en/aleph.gutenberg.org/4/7/6/4762/4762.zip', 'author': 'William F. Fox', 'title': 'Civil Government of Virginia', 'year': '2002', 'content_lines': None, 'error': ''}\n",
      "Doc #504=Book ID #3329\n",
      "\t{'id': 3329, 'path': '/Users/jmc/git/jaycoskey/Coskey_Metis/projects/Project4/data/gutenberg_books_en/aleph.gutenberg.org/3/3/2/3329/3329.zip', 'author': 'George Bernard Shaw', 'title': 'Caesar and Cleopatra', 'year': '2009', 'content_lines': None, 'error': ''}\n",
      "Doc #505=Book ID #1388\n",
      "\t{'id': 1388, 'path': '/Users/jmc/git/jaycoskey/Coskey_Metis/projects/Project4/data/gutenberg_books_en/aleph.gutenberg.org/1/3/8/1388/1388.zip', 'author': 'Owen Wister', 'title': 'Padre Ignacio', 'year': '2008', 'content_lines': None, 'error': ''}\n",
      "Doc #506=Book ID #2197\n",
      "\t{'id': 2197, 'path': '/Users/jmc/git/jaycoskey/Coskey_Metis/projects/Project4/data/gutenberg_books_en/aleph.gutenberg.org/2/1/9/2197/2197.zip', 'author': 'Fyodor Dostoyevsky', 'title': 'The Gambler', 'year': '2009', 'content_lines': None, 'error': ''}\n",
      "Doc #507=Book ID #6101\n",
      "\t{'id': 6101, 'path': '/Users/jmc/git/jaycoskey/Coskey_Metis/projects/Project4/data/gutenberg_books_en/aleph.gutenberg.org/6/1/0/6101/6101.zip', 'author': 'George Herbert Palmer', 'title': 'The Nature of Goodness', 'year': '2002', 'content_lines': None, 'error': ''}\n",
      "Doc #508=Book ID #257\n",
      "\t{'id': 257, 'path': '/Users/jmc/git/jaycoskey/Coskey_Metis/projects/Project4/data/gutenberg_books_en/aleph.gutenberg.org/2/5/257/257.zip', 'author': 'Geoffrey Chaucer', 'title': 'Troilus and Criseyde', 'year': '2008', 'content_lines': None, 'error': ''}\n",
      "Doc #509=Book ID #7036\n",
      "\t{'id': 7036, 'path': '/Users/jmc/git/jaycoskey/Coskey_Metis/projects/Project4/data/gutenberg_books_en/aleph.gutenberg.org/7/0/3/7036/7036.zip', 'author': 'Isabel C. Byrum', 'title': 'The Poorhouse Waif and His Divine Teacher', 'year': '2003', 'content_lines': None, 'error': ''}\n",
      "Doc #510=Book ID #9248\n",
      "\t{'id': 9248, 'path': '/Users/jmc/git/jaycoskey/Coskey_Metis/projects/Project4/data/gutenberg_books_en/aleph.gutenberg.org/9/2/4/9248/9248.zip', 'author': 'Nathaniel Hawthorne', 'title': 'Other Tales and Sketches', 'year': '2010', 'content_lines': None, 'error': ''}\n",
      "Doc #511=Book ID #9791\n",
      "\t{'id': 9791, 'path': '/Users/jmc/git/jaycoskey/Coskey_Metis/projects/Project4/data/gutenberg_books_en/aleph.gutenberg.org/9/7/9/9791/9791.zip', 'author': 'Max Brand', 'title': 'Harrigan', 'year': '2010', 'content_lines': None, 'error': ''}\n",
      "Doc #512=Book ID #5676\n",
      "\t{'id': 5676, 'path': '/Users/jmc/git/jaycoskey/Coskey_Metis/projects/Project4/data/gutenberg_books_en/aleph.gutenberg.org/5/6/7/5676/5676.zip', 'author': 'George MacDonald', 'title': 'A Double Story', 'year': '2010', 'content_lines': None, 'error': ''}\n",
      "Doc #513=Book ID #9235\n",
      "\t{'id': 9235, 'path': '/Users/jmc/git/jaycoskey/Coskey_Metis/projects/Project4/data/gutenberg_books_en/aleph.gutenberg.org/9/2/3/9235/9235.zip', 'author': 'Nathaniel Hawthorne', 'title': 'A Virtuoso\\'s Collection (From \"Mosses From An Old Manse\")', 'year': '2010', 'content_lines': None, 'error': ''}\n",
      "Doc #514=Book ID #14126\n",
      "\t{'id': 14126, 'path': '/Users/jmc/git/jaycoskey/Coskey_Metis/projects/Project4/data/gutenberg_books_en/aleph.gutenberg.org/1/4/1/2/14126/14126.zip', 'author': 'Mrs. Humphry Ward', 'title': 'The Marriage of William Ashe', 'year': '2010', 'content_lines': None, 'error': ''}\n",
      "Doc #515=Book ID #11398\n",
      "\t{'id': 11398, 'path': '/Users/jmc/git/jaycoskey/Coskey_Metis/projects/Project4/data/gutenberg_books_en/aleph.gutenberg.org/1/1/3/9/11398/11398.zip', 'author': 'H. C. Yarrow', 'title': 'A further contribution to the study of the mortuary customs of the North American Indians', 'year': '2010', 'content_lines': None, 'error': ''}\n",
      "Doc #516=Book ID #9218\n",
      "\t{'id': 9218, 'path': '/Users/jmc/git/jaycoskey/Coskey_Metis/projects/Project4/data/gutenberg_books_en/aleph.gutenberg.org/9/2/1/9218/9218.zip', 'author': 'Nathaniel Hawthorne', 'title': 'Footprints on the Sea-Shore (From \"Twice Told Tales\")', 'year': '2010', 'content_lines': None, 'error': ''}\n",
      "Doc #517=Book ID #9256\n",
      "\t{'id': 9256, 'path': '/Users/jmc/git/jaycoskey/Coskey_Metis/projects/Project4/data/gutenberg_books_en/aleph.gutenberg.org/9/2/5/9256/9256.zip', 'author': 'Nathaniel Hawthorne', 'title': 'The Paradise of Children', 'year': '2010', 'content_lines': None, 'error': ''}\n",
      "Doc #518=Book ID #9247\n",
      "\t{'id': 9247, 'path': '/Users/jmc/git/jaycoskey/Coskey_Metis/projects/Project4/data/gutenberg_books_en/aleph.gutenberg.org/9/2/4/9247/9247.zip', 'author': 'Nathaniel Hawthorne', 'title': 'Fragments from The Journal of a Solitary Man', 'year': '2010', 'content_lines': None, 'error': ''}\n",
      "Doc #519=Book ID #7471\n",
      "\t{'id': 7471, 'path': '/Users/jmc/git/jaycoskey/Coskey_Metis/projects/Project4/data/gutenberg_books_en/aleph.gutenberg.org/7/4/7/7471/7471.zip', 'author': 'P. G. Wodehouse', 'title': 'The Man with Two Left Feet', 'year': '2010', 'content_lines': None, 'error': ''}\n"
     ]
    }
   ],
   "source": [
    "doc_num = 0\n",
    "for decade in gcorpus.decades:\n",
    "    for id in gcorpus.selected_book_ids_by_decade[decade]:\n",
    "        book = [book for book in gcorpus.books if book['id'] == id][0]\n",
    "        print(f'Doc #{doc_num}=Book ID #{id}')\n",
    "        print(f'\\t{book}')\n",
    "        doc_num += 1"
   ]
  },
  {
   "cell_type": "code",
   "execution_count": 62,
   "metadata": {},
   "outputs": [
    {
     "name": "stdout",
     "output_type": "stream",
     "text": [
      "Distribution of Topic 0 0.000154\n",
      "Distribution of Topic 1 0.162814\n",
      "Distribution of Topic 2 0.027816\n",
      "Distribution of Topic 3 0.108850\n",
      "Distribution of Topic 4 0.695845\n",
      "Distribution of Topic 5 0.001130\n",
      "Distribution of Topic 6 0.000359\n",
      "Distribution of Topic 7 0.002059\n",
      "Distribution of Topic 8 0.000283\n",
      "Distribution of Topic 9 0.000691\n"
     ]
    }
   ],
   "source": [
    "doc_number = 98  # id = 2034\n",
    "for i in range(0, GUTENBERG_NUM_TOPICS):\n",
    "    print (\"Distribution of Topic %d %f\" % (i, gmodel.gamma_[doc_number, i]))"
   ]
  },
  {
   "cell_type": "code",
   "execution_count": 63,
   "metadata": {},
   "outputs": [
    {
     "data": {
      "text/plain": [
       "[{'author': 'Sir Walter Scott',\n",
       "  'content_lines': None,\n",
       "  'error': '',\n",
       "  'id': 2034,\n",
       "  'path': '/Users/jmc/git/jaycoskey/Coskey_Metis/projects/Project4/data/gutenberg_books_en/aleph.gutenberg.org/2/0/3/2034/2034.zip',\n",
       "  'title': 'Waverley',\n",
       "  'year': '1829'}]"
      ]
     },
     "execution_count": 63,
     "metadata": {},
     "output_type": "execute_result"
    }
   ],
   "source": [
    "[book for book in gcorpus.books if book['id'] == 2034]  # doc_num = 98"
   ]
  },
  {
   "cell_type": "code",
   "execution_count": 64,
   "metadata": {},
   "outputs": [
    {
     "name": "stdout",
     "output_type": "stream",
     "text": [
      "[(0.007021885862017292, 'beacon'), (0.004826067525919865, 'county'), (0.004042942456801464, 'javan'), (0.003764436147696965, 'american'), (0.0024851781531810197, 'virginia'), (0.0023047311904931837, 'german'), (0.002195200794210149, 'rev'), (0.002018549448026808, 'boston'), (0.0019224230867267188, 'theodore'), (0.0019204096417340703, 'carolina')]\n",
      "\n",
      "[(0.0037171782641619525, 'thee'), (0.0036114078611691265, 'exclaimed'), (0.0028781938278538213, 'mrs'), (0.002804302652072708, 'philip'), (0.002797914852646892, 'thy'), (0.0021070369721829384, 'owen'), (0.0019115566672535458, 'hath'), (0.0017327847163489678, 'tis'), (0.0015524610494817967, 'jersey'), (0.0014596340363114213, 'mistress')]\n",
      "\n",
      "[(0.007354811458436506, '_mrs'), (0.0047850354041083405, 'thy'), (0.004303875706279973, 'slave'), (0.003445007228751029, 'major'), (0.002670899967863607, 'alexander'), (0.002063504749596228, 'mrs'), (0.0019831226898118473, 'thee'), (0.001784181553251696, 'lion'), (0.0015032793347322302, 'lucien'), (0.0014586828717192471, 'swinton')]\n",
      "\n",
      "[(0.017378943704827517, 'sidenote'), (0.009971580768582568, 'slaves'), (0.008954393300724634, 'buccaneers'), (0.004150559003689873, 'javans'), (0.002726992015010372, 'treaty'), (0.002320212059946692, 'primrose'), (0.0022934131337845245, 'dutch'), (0.0022813558306547313, 'smeaton'), (0.0022680874050873155, 'excellency'), (0.0020546587363571914, 'slavery')]\n",
      "\n",
      "[(0.016456930510640056, 'percy'), (0.016187967015453626, 'caroline'), (0.01480146586122496, 'mrs'), (0.009545987994166116, 'falconer'), (0.006501071511478939, 'brien'), (0.005811337348212734, 'guida'), (0.005386316271820303, 'lordship'), (0.004645858554529198, 'footnote'), (0.003979325663394972, 'rosamond'), (0.003682914964508435, 'commissioner')]\n",
      "\n"
     ]
    }
   ],
   "source": [
    "for topicid in [0,1,2,3,4]: # 1820s\n",
    "    print(gmodel.show_topic(topicid=topicid, time=31, topn=10))\n",
    "    print()"
   ]
  },
  {
   "cell_type": "code",
   "execution_count": 92,
   "metadata": {},
   "outputs": [
    {
     "name": "stdout",
     "output_type": "stream",
     "text": [
      "1840\n"
     ]
    }
   ],
   "source": [
    "topic_words = get_topic_words(gmodel)\n",
    "print(len(topic_words))\n",
    "# for word in topic_words:\n",
    "#    print(word)"
   ]
  },
  {
   "cell_type": "code",
   "execution_count": 65,
   "metadata": {
    "collapsed": true
   },
   "outputs": [],
   "source": [
    "from gensim.matutils import hellinger\n",
    "# from gensim.matutils import jensen_shannon"
   ]
  },
  {
   "cell_type": "code",
   "execution_count": 66,
   "metadata": {},
   "outputs": [
    {
     "name": "stdout",
     "output_type": "stream",
     "text": [
      "Min_doc_num=58; dist=0.28597646615379346; min_vec_other=[0.09999999999999999, 0.09999999999999999, 0.09999999999999999, 0.09999999999999999, 0.09999999999999999]\n"
     ]
    }
   ],
   "source": [
    "# vec_primary = [0.071460, 0.044956, 0.068991, 0.058845, 0.755748] # sweethearts_at_home\n",
    "# vec_primary = [0.059242, 0.733993, 0.022367, 0.119562, 0.064835]\n",
    "vec_primary = [0.201629, 0.097785, 0.068421, 0.467002, 0.165163 ] # Waverly\n",
    "min_dist = 1000000\n",
    "min_doc_num = 1000000\n",
    "min_vec_other = None\n",
    "for doc_num in range(0, 156):\n",
    "    if doc_num == 98:\n",
    "        continue\n",
    "    vec_other = [ gmodel.gamma_[doc_num, 0]\n",
    "               , gmodel.gamma_[doc_num, 1]\n",
    "               , gmodel.gamma_[doc_num, 2]\n",
    "               , gmodel.gamma_[doc_num, 3]\n",
    "               , gmodel.gamma_[doc_num, 4]\n",
    "              ]\n",
    "    dist = hellinger(vec_primary, vec_other)\n",
    "    if dist < min_dist:\n",
    "        min_dist = dist\n",
    "        min_doc_num = doc_num\n",
    "        min_vec_other = vec_other\n",
    "\n",
    "print (f\"Min_doc_num={min_doc_num}; dist={min_dist}; min_vec_other={min_vec_other}\")"
   ]
  },
  {
   "cell_type": "code",
   "execution_count": 67,
   "metadata": {},
   "outputs": [
    {
     "name": "stdout",
     "output_type": "stream",
     "text": [
      "Distribution of Topic 0 0.002783\n",
      "Distribution of Topic 1 0.001239\n",
      "Distribution of Topic 2 0.001314\n",
      "Distribution of Topic 3 0.053972\n",
      "Distribution of Topic 4 0.107822\n",
      "Distribution of Topic 5 0.001847\n",
      "Distribution of Topic 6 0.002441\n",
      "Distribution of Topic 7 0.008646\n",
      "Distribution of Topic 8 0.817248\n",
      "Distribution of Topic 9 0.002689\n"
     ]
    }
   ],
   "source": [
    "doc_number = 89  # id = 21554\n",
    "for i in range(0, GUTENBERG_NUM_TOPICS):\n",
    "    print (\"Distribution of Topic %d %f\" % (i, gmodel.gamma_[doc_number, i]))"
   ]
  },
  {
   "cell_type": "code",
   "execution_count": 68,
   "metadata": {},
   "outputs": [
    {
     "data": {
      "text/plain": [
       "[{'author': 'Captain Frederick Marryat',\n",
       "  'content_lines': None,\n",
       "  'error': '',\n",
       "  'id': 21554,\n",
       "  'path': '/Users/jmc/git/jaycoskey/Coskey_Metis/projects/Project4/data/gutenberg_books_en/aleph.gutenberg.org/2/1/5/5/21554/21554.zip',\n",
       "  'title': 'Frank Mildmay',\n",
       "  'year': '1792'}]"
      ]
     },
     "execution_count": 68,
     "metadata": {},
     "output_type": "execute_result"
    }
   ],
   "source": [
    "[book for book in gcorpus.books if book['id'] == 21554]  # doc_num = 89"
   ]
  },
  {
   "cell_type": "code",
   "execution_count": null,
   "metadata": {
    "collapsed": true
   },
   "outputs": [],
   "source": []
  }
 ],
 "metadata": {
  "kernelspec": {
   "display_name": "Python 3",
   "language": "python",
   "name": "python3"
  },
  "language_info": {
   "codemirror_mode": {
    "name": "ipython",
    "version": 3
   },
   "file_extension": ".py",
   "mimetype": "text/x-python",
   "name": "python",
   "nbconvert_exporter": "python",
   "pygments_lexer": "ipython3",
   "version": "3.6.3"
  },
  "varInspector": {
   "cols": {
    "lenName": 16,
    "lenType": 16,
    "lenVar": 40
   },
   "kernels_config": {
    "python": {
     "delete_cmd_postfix": "",
     "delete_cmd_prefix": "del ",
     "library": "var_list.py",
     "varRefreshCmd": "print(var_dic_list())"
    },
    "r": {
     "delete_cmd_postfix": ") ",
     "delete_cmd_prefix": "rm(",
     "library": "var_list.r",
     "varRefreshCmd": "cat(var_dic_list()) "
    }
   },
   "types_to_exclude": [
    "module",
    "function",
    "builtin_function_or_method",
    "instance",
    "_Feature"
   ],
   "window_display": false
  }
 },
 "nbformat": 4,
 "nbformat_minor": 2
}
