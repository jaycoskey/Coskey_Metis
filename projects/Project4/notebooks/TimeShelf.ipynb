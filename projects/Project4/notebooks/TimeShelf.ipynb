{
 "cells": [
  {
   "cell_type": "markdown",
   "metadata": {},
   "source": [
    "## TimeShelf: Book Recommendations Across Time and Style"
   ]
  },
  {
   "cell_type": "code",
   "execution_count": 1,
   "metadata": {},
   "outputs": [],
   "source": [
    "from collections import Counter, defaultdict\n",
    "import gensim\n",
    "from gensim.corpora.dictionary import Dictionary\n",
    "from gensim.corpora.textcorpus import lower_to_unicode, strip_multiple_whitespaces\n",
    "from gensim.corpora.textcorpus import remove_short, remove_stopwords\n",
    "from gensim import corpora, models, utils\n",
    "from gensim.models.wrappers.dtmmodel import DtmModel\n",
    "from gensim.utils import deaccent, simple_tokenize\n",
    "# from gensim.utils import lemmatize  # Use nltk.stem.WordNetLemmatizer instead\n",
    "# import gutenberg.acquire as gacquire\n",
    "# import gutenberg.query as gquery  # print(gquery.list_supported_metadatas())\n",
    "from hashlib import md5\n",
    "import imp\n",
    "import logging\n",
    "from math import log10\n",
    "import matplotlib.pyplot as plt\n",
    "import nltk\n",
    "from nltk.corpus import stopwords\n",
    "from nltk.stem import WordNetLemmatizer\n",
    "from nltk.stem.porter import PorterStemmer\n",
    "from nltk.tokenize import RegexpTokenizer\n",
    "import numpy as np\n",
    "import os\n",
    "from os import listdir\n",
    "from os.path import isdir, isfile\n",
    "from pymongo import MongoClient, InsertOne, DeleteOne, ReplaceOne\n",
    "from random import shuffle\n",
    "import re\n",
    "from sklearn.utils import resample\n",
    "import sys\n",
    "import zipfile"
   ]
  },
  {
   "cell_type": "markdown",
   "metadata": {},
   "source": [
    "# Config (MongoDB)"
   ]
  },
  {
   "cell_type": "code",
   "execution_count": 2,
   "metadata": {},
   "outputs": [],
   "source": [
    "mongo_client = MongoClient()\n",
    "assert('local' in mongo_client.database_names())\n",
    "mongo_local_db = mongo_client.local\n",
    "# mongo_local_db.create_collection('timeshelf_config')\n",
    "timeshelf_config = mongo_local_db.get_collection('timeshelf_config')\n",
    "mongo_requests = [InsertOne({'config': 'books_per_decade', 'GUTENBERG_BOOKS_PER_DECADE': 2})\n",
    "                  , InsertOne({'config': 'max_header_lines', 'GUTENBERG_MAX_HEADER_LINES': 300})]\n",
    "mongo_result = mongo_local_db.timeshelf_config.bulk_write(mongo_requests)"
   ]
  },
  {
   "cell_type": "code",
   "execution_count": 3,
   "metadata": {},
   "outputs": [
    {
     "data": {
      "text/plain": [
       "[InsertOne({'config': 'books_per_decade', 'GUTENBERG_BOOKS_PER_DECADE': 2, '_id': ObjectId('5aa8b3ff7aec097cca09eb47')}),\n",
       " InsertOne({'config': 'max_header_lines', 'GUTENBERG_MAX_HEADER_LINES': 300, '_id': ObjectId('5aa8b3ff7aec097cca09eb48')})]"
      ]
     },
     "execution_count": 3,
     "metadata": {},
     "output_type": "execute_result"
    }
   ],
   "source": [
    "mongo_requests"
   ]
  },
  {
   "cell_type": "code",
   "execution_count": 4,
   "metadata": {},
   "outputs": [
    {
     "data": {
      "text/plain": [
       "{'nInserted': 2,\n",
       " 'nMatched': 0,\n",
       " 'nModified': 0,\n",
       " 'nRemoved': 0,\n",
       " 'nUpserted': 0,\n",
       " 'upserted': [],\n",
       " 'writeConcernErrors': [],\n",
       " 'writeErrors': []}"
      ]
     },
     "execution_count": 4,
     "metadata": {},
     "output_type": "execute_result"
    }
   ],
   "source": [
    "mongo_result.bulk_api_result"
   ]
  },
  {
   "cell_type": "code",
   "execution_count": 5,
   "metadata": {},
   "outputs": [
    {
     "name": "stdout",
     "output_type": "stream",
     "text": [
      "{'_id': ObjectId('5aa6790b7aec09f27c0484be'), 'GUTENBERG_BOOKS_PER_DECADE': 2}\n",
      "{'_id': ObjectId('5aa6790b7aec09f27c0484bf'), 'GUTENBERG_MAX_HEADER_LINES': 300}\n",
      "{'_id': ObjectId('5aa67cf27aec09f27c0484c1'), 'config': 'books_per_decade', 'GUTENBERG_BOOKS_PER_DECADE': 2}\n",
      "{'_id': ObjectId('5aa67cf27aec09f27c0484c2'), 'config': 'max_header_lines', 'GUTENBERG_MAX_HEADER_LINES': 300}\n",
      "{'_id': ObjectId('5aa83cf17aec096e7a6af7eb'), 'config': 'books_per_decade', 'GUTENBERG_BOOKS_PER_DECADE': 2}\n",
      "{'_id': ObjectId('5aa83cf17aec096e7a6af7ec'), 'config': 'max_header_lines', 'GUTENBERG_MAX_HEADER_LINES': 300}\n",
      "{'_id': ObjectId('5aa842597aec096f6e49c60a'), 'config': 'books_per_decade', 'GUTENBERG_BOOKS_PER_DECADE': 2}\n",
      "{'_id': ObjectId('5aa842597aec096f6e49c60b'), 'config': 'max_header_lines', 'GUTENBERG_MAX_HEADER_LINES': 300}\n",
      "{'_id': ObjectId('5aa84a587aec097102f09273'), 'config': 'books_per_decade', 'GUTENBERG_BOOKS_PER_DECADE': 2}\n",
      "{'_id': ObjectId('5aa84a587aec097102f09274'), 'config': 'max_header_lines', 'GUTENBERG_MAX_HEADER_LINES': 300}\n",
      "{'_id': ObjectId('5aa855bb7aec09727f3b82ac'), 'config': 'books_per_decade', 'GUTENBERG_BOOKS_PER_DECADE': 2}\n",
      "{'_id': ObjectId('5aa855bb7aec09727f3b82ad'), 'config': 'max_header_lines', 'GUTENBERG_MAX_HEADER_LINES': 300}\n",
      "{'_id': ObjectId('5aa8569b7aec0972aec1ca92'), 'config': 'books_per_decade', 'GUTENBERG_BOOKS_PER_DECADE': 2}\n",
      "{'_id': ObjectId('5aa8569b7aec0972aec1ca93'), 'config': 'max_header_lines', 'GUTENBERG_MAX_HEADER_LINES': 300}\n",
      "{'_id': ObjectId('5aa87cc27aec0975e82b5f7e'), 'config': 'books_per_decade', 'GUTENBERG_BOOKS_PER_DECADE': 2}\n",
      "{'_id': ObjectId('5aa87cc27aec0975e82b5f7f'), 'config': 'max_header_lines', 'GUTENBERG_MAX_HEADER_LINES': 300}\n",
      "{'_id': ObjectId('5aa888457aec09775e43ddda'), 'config': 'books_per_decade', 'GUTENBERG_BOOKS_PER_DECADE': 2}\n",
      "{'_id': ObjectId('5aa888457aec09775e43dddb'), 'config': 'max_header_lines', 'GUTENBERG_MAX_HEADER_LINES': 300}\n",
      "{'_id': ObjectId('5aa8b3ff7aec097cca09eb47'), 'config': 'books_per_decade', 'GUTENBERG_BOOKS_PER_DECADE': 2}\n",
      "{'_id': ObjectId('5aa8b3ff7aec097cca09eb48'), 'config': 'max_header_lines', 'GUTENBERG_MAX_HEADER_LINES': 300}\n"
     ]
    }
   ],
   "source": [
    "for timeshelf_config_doc in timeshelf_config.find():\n",
    "    print(timeshelf_config_doc)"
   ]
  },
  {
   "cell_type": "code",
   "execution_count": 6,
   "metadata": {},
   "outputs": [],
   "source": [
    "books_per_decade = timeshelf_config.find_one({'config': 'books_per_decade'})['GUTENBERG_BOOKS_PER_DECADE']"
   ]
  },
  {
   "cell_type": "code",
   "execution_count": 7,
   "metadata": {},
   "outputs": [
    {
     "data": {
      "text/plain": [
       "2"
      ]
     },
     "execution_count": 7,
     "metadata": {},
     "output_type": "execute_result"
    }
   ],
   "source": [
    "books_per_decade"
   ]
  },
  {
   "cell_type": "code",
   "execution_count": 8,
   "metadata": {},
   "outputs": [],
   "source": [
    "max_header_lines = timeshelf_config.find_one({'config': 'max_header_lines'})['GUTENBERG_MAX_HEADER_LINES']"
   ]
  },
  {
   "cell_type": "code",
   "execution_count": 9,
   "metadata": {},
   "outputs": [
    {
     "data": {
      "text/plain": [
       "300"
      ]
     },
     "execution_count": 9,
     "metadata": {},
     "output_type": "execute_result"
    }
   ],
   "source": [
    "max_header_lines"
   ]
  },
  {
   "cell_type": "markdown",
   "metadata": {},
   "source": [
    "# Config (Other)"
   ]
  },
  {
   "cell_type": "code",
   "execution_count": 10,
   "metadata": {},
   "outputs": [],
   "source": [
    "DTM_PATH = os.environ.get('DTM_PATH', None)\n",
    "DTM_PATH = '/Users/jmc/src/dtm/dtm_release/dtm/main'\n",
    "if not DTM_PATH:\n",
    "    raise ValueError(\"Error: DTM_PATH must be set\")"
   ]
  },
  {
   "cell_type": "code",
   "execution_count": 11,
   "metadata": {
    "collapsed": true
   },
   "outputs": [],
   "source": [
    "MODULE_EXTENSIONS = ('.py', '.pyc', '.pyo')"
   ]
  },
  {
   "cell_type": "code",
   "execution_count": 12,
   "metadata": {
    "collapsed": true
   },
   "outputs": [],
   "source": [
    "ZHOME = '../data/gutenberg_books_en/aleph.gutenberg.org/'"
   ]
  },
  {
   "cell_type": "code",
   "execution_count": 75,
   "metadata": {},
   "outputs": [],
   "source": [
    "GUTENBERG_BOOKS_PER_DECADE = 3\n",
    "GUTENBERG_MAX_HEADER_LINES = 300\n",
    "GUTENBERG_NUM_TOPICS = 5\n",
    "\n",
    "GUTENBERG_DOWNLOAD_DIR = os.environ['GUTENBERG_DOWNLOAD_DIR']\n",
    "GUTENBERG_MIN_DECADE = 1500\n",
    "GUTENBERG_MAX_DECADE = 2010\n",
    "\n",
    "GUTENBERG_STOPWORDS = stopwords.words('english')\n",
    "GUTENBERG_STOPWORDS.extend(gensim.parsing.preprocessing.STOPWORDS)\n",
    "GUTENBERG_STOPWORDS.extend(\"\"\"January February March April May June\n",
    "    July August September October November December\n",
    "    time year\n",
    "    one two three four five six seven eight nine ten\n",
    "    eleven twelve thirteen fourteen fifteen sixteen seventeen eighteen nineteen twenty\n",
    "    \"\"\".lower().split())  "
   ]
  },
  {
   "cell_type": "markdown",
   "metadata": {},
   "source": [
    "<hr style=\"height: 5px\"/>"
   ]
  },
  {
   "cell_type": "markdown",
   "metadata": {},
   "source": [
    "<hr style=\"height: 5px\"/>"
   ]
  },
  {
   "cell_type": "markdown",
   "metadata": {},
   "source": [
    "<hr style=\"height: 5px\"/>"
   ]
  },
  {
   "cell_type": "markdown",
   "metadata": {},
   "source": [
    "# Sample Data"
   ]
  },
  {
   "cell_type": "code",
   "execution_count": 14,
   "metadata": {
    "collapsed": true
   },
   "outputs": [],
   "source": [
    "test_book_data = [ [1, 'Lolita',                             'Vladimir Nabokov',    1955 ]\n",
    "                 , [2, 'The Great Gatsby',                   'F. Scott Fitzgerald', 1925 ]\n",
    "                 , [3, 'In Search of Lost Time',             'Marcel Proust',       1922 ]\n",
    "                 , [4, 'Ulysses',                            'James Joyce',         1922 ]\n",
    "                 , [5, 'Dubliners',                          'James Joyce',         1914 ]\n",
    "                 , [6, 'Anna Karenina',                      'Leo Tolstoy',         1877 ]\n",
    "                 , [7, 'Madame Bovary',                      'Gustave Flaubert',    1857 ]\n",
    "                 , [8, 'War and Peace',                      'Leo Tolstoy',         1869 ]\n",
    "                 , [9, 'The Adventures of Huckleberry Finn', 'Mark Twain',          1884 ]\n",
    "                 , [10, 'Middlemarch',                       'George Eliot',        1871 ]\n",
    "                 ]"
   ]
  },
  {
   "cell_type": "markdown",
   "metadata": {},
   "source": [
    "# Data Location Info"
   ]
  },
  {
   "cell_type": "code",
   "execution_count": 15,
   "metadata": {
    "collapsed": true
   },
   "outputs": [],
   "source": [
    "sample_book_ids = [6001, 7001, 8000, 9043, 10000, 20001, 30000, 40000, 50000]\n",
    "excluded_book_ids = [89, 3290, 5192, 10681, 13526, 15824, 18251]  # Extra download files\n",
    "excluded_book_ids.extend([2609, 16762, 11813, 14021, 29274, 35724, 35335])  # Files out of place\n",
    "excluded_book_ids.extend([1])  # Different format"
   ]
  },
  {
   "cell_type": "markdown",
   "metadata": {},
   "source": [
    "<hr style=\"height: 5px\"/>"
   ]
  },
  {
   "cell_type": "markdown",
   "metadata": {},
   "source": [
    "<hr style=\"height: 5px\"/>"
   ]
  },
  {
   "cell_type": "markdown",
   "metadata": {},
   "source": [
    "<hr style=\"height: 5px\"/>"
   ]
  },
  {
   "cell_type": "markdown",
   "metadata": {},
   "source": [
    "# Classes"
   ]
  },
  {
   "cell_type": "code",
   "execution_count": 16,
   "metadata": {
    "collapsed": true
   },
   "outputs": [],
   "source": [
    "# From https://markroxor.github.io/gensim/static/notebooks/dtm_example.html\n",
    "class DTMcorpus(corpora.textcorpus.TextCorpus):\n",
    "    def get_texts(self):\n",
    "        return self.input\n",
    "\n",
    "    def __len__(self):\n",
    "        return len(self.input)"
   ]
  },
  {
   "cell_type": "code",
   "execution_count": 17,
   "metadata": {},
   "outputs": [],
   "source": [
    "# TODO: Upsampling & downsampling to reach GUTENBERG_BOOKS_PER_DECADE\n",
    "class GutenbergCorpus(corpora.textcorpus.TextCorpus):\n",
    "    def __init__(self, books, num_books_per_decade=GUTENBERG_BOOKS_PER_DECADE, seed=0):\n",
    "        self.books = books\n",
    "        self.seed = seed\n",
    "        self.num_books_per_decade = num_books_per_decade\n",
    "        self.set_books_by_decade() # dict: K=int; V=book\n",
    "        self.decades = sorted(self.books_by_decade.keys())\n",
    "        self.set_selected_book_ids_by_decade()\n",
    "\n",
    "        # Creation of the Dictionary uses:\n",
    "        #   0+ character filters\n",
    "        #   a tokenizer\n",
    "        #   0+ token filters\n",
    "        self.character_filters = [lower_to_unicode, deaccent, strip_multiple_whitespaces]\n",
    "        self.tokenizer = simple_tokenize\n",
    "        self.token_filters = [remove_short, remove_stopwords]\n",
    "\n",
    "        self.dictionary = Dictionary(self.get_texts())\n",
    "        self.dictionary.filter_extremes(no_below=3, no_above=0.5, keep_n=100000)\n",
    "        \n",
    "        self.metadata=None\n",
    "\n",
    "    def __len__(self):\n",
    "        # return sum( [len(self.books_by_decade[decade])\n",
    "        #             for decade in self.books_by_decade]\n",
    "        #           )\n",
    "        return self.num_books_per_decade * len(self.decades)\n",
    "    \n",
    "    # Ensure that the texts returned are ordered by decade (i.e., time slice)\n",
    "    # Returned tokens are inserted the instance's dictionary property.\n",
    "    # Note: gensim/corpora/textcorpus.py recommends overriding both get_texts()\n",
    "    #       and getstream(), which is called by get_texts().  Instead of overriding\n",
    "    #       getstream(), we call get_book_content_from_id, which takes care of I/O.\n",
    "    # References: Look at gensim.corpura.wikicorpus for an example of a non-fs-based corpus.\n",
    "    def get_texts(self):\n",
    "        # print(f'Type of items in self.decades: {type(self.decades[0])}')\n",
    "        # print(f'Type of items in self.decades: {type(self.decades[0])}')\n",
    "        for decade in self.decades:\n",
    "            for id in self.selected_book_ids_by_decade[decade]:\n",
    "                content = self.preprocess_text(\n",
    "                    get_book_content_from_id(id, GUTENBERG_STOPWORDS)\n",
    "                )\n",
    "                yield content\n",
    "\n",
    "    def get_time_seq(self):\n",
    "        # Without up- & down-sampling\n",
    "        # return [len(self.decades[decade]) for decade in self.decades]\n",
    "        return [self.num_books_per_decade for decade in self.decades]\n",
    "\n",
    "    def pprint(self):\n",
    "        for decade in self.decades:\n",
    "            print(decade)\n",
    "            for book in self.decades[decade]:\n",
    "                print(f'\\t{book.year}: {book.title}, by {book.author}')\n",
    "\n",
    "    def print_summary(self):\n",
    "        time_seq = self.get_time_seq()\n",
    "        for line in [f'{ts} from the {dec}s' for dec,ts in zip(self.decades, time_seq)]:\n",
    "            print(f'\\t{line}')\n",
    "\n",
    "    def set_books_by_decade(self):\n",
    "        self.books_by_decade = defaultdict(list)\n",
    "        for book in self.books:\n",
    "            dec = get_decade(int(book['year']))\n",
    "            self.books_by_decade[dec].append(book)\n",
    "\n",
    "    def set_selected_book_ids_by_decade(self):\n",
    "        def books2ids(bs):\n",
    "            return list(map(lambda b: int(b['id']), bs))\n",
    "            \n",
    "        self.selected_book_ids_by_decade = defaultdict(list)\n",
    "        for decade in self.decades:\n",
    "            num_books_in_this_decade = len(self.books_by_decade[decade])\n",
    "            if num_books_in_this_decade == self.num_books_per_decade:\n",
    "                # YIELD EACH BOOK IN DECADE\n",
    "                ids = books2ids(self.books_by_decade[decade])\n",
    "                self.selected_book_ids_by_decade[decade] = ids.copy()\n",
    "            elif num_books_in_this_decade > self.num_books_per_decade:\n",
    "                # YIELD SUBSET OF BOOKS IN THIS DECADE\n",
    "                ids = books2ids(np.random.choice(self.books_by_decade[decade]\n",
    "                                             , size=self.num_books_per_decade\n",
    "                                             , replace=False))\n",
    "                self.selected_book_ids_by_decade[decade] = ids.copy()\n",
    "            else:\n",
    "                ids = books2ids(self.books_by_decade[decade])\n",
    "                # NOT ENOUGH BOOKS: UPSAMPLE WITH REPLACEMENT\n",
    "                upsampled_ids = books2ids(\n",
    "                    resample(self.books_by_decade[decade]\n",
    "                             , replace=True\n",
    "                             , n_samples=self.num_books_per_decade - num_books_in_this_decade\n",
    "                             , random_state=self.seed\n",
    "                            ))\n",
    "                self.selected_book_ids_by_decade[decade] = ids.copy() + upsampled_ids.copy()\n",
    "\n",
    "        # Shuffle.  Necessary?\n",
    "        for decade in self.decades:\n",
    "            shuffle(self.selected_book_ids_by_decade[decade])"
   ]
  },
  {
   "cell_type": "markdown",
   "metadata": {},
   "source": [
    "# Functions"
   ]
  },
  {
   "cell_type": "code",
   "execution_count": 18,
   "metadata": {
    "collapsed": true
   },
   "outputs": [],
   "source": [
    "def get_book_content(book_id):\n",
    "    book_path_info = get_book_path_info(book_id, base_dir=GUTENBERG_DOWNLOAD_DIR)\n",
    "    book_path = book_path_info[0]\n",
    "    book = get_book_from_path(book_id, book_path)\n",
    "    return book['content_lines']"
   ]
  },
  {
   "cell_type": "code",
   "execution_count": 68,
   "metadata": {
    "collapsed": true
   },
   "outputs": [],
   "source": [
    "def get_book_content_from_id(id, stopwords=GUTENBERG_STOPWORDS, do_include_content=True):\n",
    "    book = get_book_from_id(id, do_include_content)\n",
    "    lemmatizer = WordNetLemmatizer()\n",
    "    content = lemmatizer.lemmatize(' '.join(book['content_lines']))\n",
    "    content_filtered = ' '.join([word for word in content.split() if word not in GUTENBERG_STOPWORDS])\n",
    "    return content_filtered"
   ]
  },
  {
   "cell_type": "code",
   "execution_count": 73,
   "metadata": {
    "collapsed": true
   },
   "outputs": [],
   "source": [
    "def get_book_errors():\n",
    "    valid_book_ids = []\n",
    "    book_errors = {}\n",
    "    for book_id_num, book_id in enumerate(get_book_ids(base_dir=GUTENBERG_DOWNLOAD_DIR)):\n",
    "        book_path_info = get_book_path_info(book_id, base_dir=GUTENBERG_DOWNLOAD_DIR)\n",
    "        if not book_path_info[0]:\n",
    "            print(f'Error with book #{book_id}: {book_path_info[1]}')\n",
    "            continue\n",
    "        book_path = book_path_info[0]\n",
    "        book = get_book_from_path(book_id, book_path)\n",
    "        if len(book['error']) == 0:\n",
    "            valid_book_ids.append(book_id)\n",
    "        else:\n",
    "            book_errors[book_id] = book['error']\n",
    "    return book_errors"
   ]
  },
  {
   "cell_type": "code",
   "execution_count": 20,
   "metadata": {
    "collapsed": true
   },
   "outputs": [],
   "source": [
    "def get_book_from_id(id, do_include_content=True):\n",
    "    book_id_path_info = get_book_id_path_info(id)\n",
    "    book_path = book_id_path_info[1]\n",
    "    book = get_book_from_path(id, book_path, do_include_content)\n",
    "    return book"
   ]
  },
  {
   "cell_type": "code",
   "execution_count": 21,
   "metadata": {},
   "outputs": [],
   "source": [
    "def get_decade(y):\n",
    "    return 10 * (y // 10)"
   ]
  },
  {
   "cell_type": "code",
   "execution_count": 22,
   "metadata": {
    "collapsed": true
   },
   "outputs": [],
   "source": [
    "# TODO: Refactor, refactor, refactor\n",
    "# TODO: Refactor special cases into modular components\n",
    "def get_book_from_path(id, zpath, do_include_content=True):\n",
    "    assert(zipfile.is_zipfile(zpath))\n",
    "    if zpath.endswith('-0.zip'):\n",
    "        encoding = 'utf-8'\n",
    "    elif zpath.endswith('-8.zip'):\n",
    "        encoding = 'latin-1'  # 'iso-8559-1', 'iso8559-1', '8559'\n",
    "    else:\n",
    "        encoding = 'ascii'\n",
    "\n",
    "    line_number = None\n",
    "    with zipfile.ZipFile(zpath, 'r') as zfile:\n",
    "        # print('Opened zip file')\n",
    "        txtfiles = [fname for fname in zfile.namelist() if fname.lower().endswith('.txt')]\n",
    "        # print(f'txtfiles={txtfiles}')\n",
    "        if len(txtfiles) != 1:\n",
    "            # print(f'Non-unique file for zpath={zpath}')\n",
    "            return { 'id': id\n",
    "                    , 'path': zpath\n",
    "                    , 'author': None\n",
    "                    , 'title': None\n",
    "                    , 'year': None\n",
    "                    , 'content_lines': None\n",
    "                    , 'error': 'Non-unique text file'\n",
    "                   }\n",
    "        with zfile.open(txtfiles[0], 'r') as tfile:\n",
    "            # print('Opened book contents within zip file')\n",
    "            lemmatizer = WordNetLemmatizer()\n",
    "            have_seen_start_content_line = False\n",
    "            have_seen_end_content_line = False\n",
    "            is_in_header_paragraph = False\n",
    "            content_start_line_num = 0\n",
    "            content_end_line_num = sys.maxsize\n",
    "            author = None\n",
    "            title = None\n",
    "            year = 0\n",
    "            error = ''\n",
    "            # print(f'type(tfile)={type(tfile)}')\n",
    "            try:\n",
    "                lines = [line.decode('utf-8').strip() for line in tfile.readlines()]\n",
    "            except Exception as ex:\n",
    "                return { 'id': id\n",
    "                        , 'path': zpath\n",
    "                        , 'author': author\n",
    "                        , 'title': title\n",
    "                        , 'year': year\n",
    "                        , 'content_lines': None\n",
    "                        , 'error': 'Could not decode file'\n",
    "                       }\n",
    "            title_excluded_re = re.compile('(census|dictionary|encyclo|fable|gutenberg|senate)')\n",
    "            title_digits_re = re.compile('(\\d{4})')\n",
    "            gutenberg_re = re.compile('utenberg')\n",
    "            blank_re = re.compile('^\\s*$')\n",
    "            author_re = re.compile('^Author: (.*)$')\n",
    "            release_year_re = re.compile('^Release Date: [^,]+, (\\d{4})')\n",
    "            title_re = re.compile('^Title: (.*)$')\n",
    "            start_content_re = re.compile('^\\*\\*\\*\\s*START')\n",
    "            end_small_print_re = re.compile('^\\*END\\*THE SMALL PRINT')\n",
    "            end_content1_re = re.compile('^\\*\\*\\*\\s*END')\n",
    "            end_content2_re = re.compile('^End of the Project')\n",
    "            \n",
    "            # Case 0: Year on first row\n",
    "            year_anywhere_re = re.compile('[^\\d](\\d{4})[^\\d]')\n",
    "            # Case 1: Year alone on a line with white space (and perhaps a period)\n",
    "            year_own_line_re = re.compile('^\\s*(\\d{4})\\.?\\s*$')\n",
    "            # Case 2: Year taggled with string: edition, copyright, (c), year, published,\n",
    "            #                           transcribed, or full month name\n",
    "            year_tagged_re = re.compile('(copyright|\\(c\\)|edition|published|transcribed|year|january|february|march|april|may|june|july|august|september|october|november|december)')\n",
    "            # Case 3: Year within parentheses\n",
    "            year_parens_re = re.compile('\\((\\d{4})\\)')\n",
    "            \n",
    "            # print('About to iterate through book content lines')\n",
    "            for line_num, line in enumerate(lines):\n",
    "                line_number = line_num\n",
    "\n",
    "                if line_num == 0:\n",
    "                    # Case 0: Year on first row\n",
    "                    year_anywhere_m = year_anywhere_re.search(line)\n",
    "                    if year_anywhere_m:\n",
    "                        year = year_anywhere_m.group(1)\n",
    "\n",
    "                if line_num < GUTENBERG_MAX_HEADER_LINES:\n",
    "                    if not have_seen_end_content_line:\n",
    "                        start_content_m = start_content_re.match(line)\n",
    "                        if start_content_m:\n",
    "                            have_seen_start_content_line = True\n",
    "                            # Start content after START marker\n",
    "                            content_start_line_num = line_num + 1\n",
    "                        end_small_print_m = end_small_print_re.match(line)\n",
    "                        if end_small_print_m:\n",
    "                            # Start content after end of small print\n",
    "                            content_start_line_num = line_num + 1\n",
    "                    if have_seen_start_content_line and gutenberg_re.search(line):\n",
    "                        is_in_header_paragraph = True\n",
    "                    if is_in_header_paragraph and blank_re.match(line):\n",
    "                        is_in_header_paragraph = False\n",
    "                        # Start content at next non-Gutenberg line\n",
    "                        content_start_line_num = line_num + 1\n",
    "\n",
    "                    author_m = author_re.match(line)\n",
    "                    if author_m:\n",
    "                        author = author_m.group(1)\n",
    "\n",
    "                    # release_year_m = release_year_re.match(line)\n",
    "                    # if release_year_m:\n",
    "                    #     year = release_year_m.group(1)\n",
    "\n",
    "                    title_m = title_re.match(line)         \n",
    "                    if title_m:\n",
    "                        title = title_m.group(1)\n",
    "                        title_excluded_m = title_excluded_re.search(line.lower())\n",
    "                        title_digits_m = year_anywhere_re.search(line)\n",
    "                        if title_excluded_m or title_digits_m:\n",
    "                            return { 'id': id\n",
    "                                    , 'path': zpath\n",
    "                                    , 'author': author\n",
    "                                    , 'title': title\n",
    "                                    , 'year': year\n",
    "                                    , 'content_lines':\n",
    "                                        (lines[content_start_line_num:content_end_line_num]\n",
    "                                         if do_include_content else None\n",
    "                                        )\n",
    "                                    , 'error': f'Excluded due to title'\n",
    "                                }\n",
    "\n",
    "                    if year == 0:\n",
    "                        # Case 1: Year alone on a line with white space (and perhaps a period)\n",
    "                        year_own_line_m = year_own_line_re.match(line)\n",
    "                        if year_own_line_m:\n",
    "                            year = year_own_line_m.group(1)\n",
    "                        else:\n",
    "                            # Case 2: Year tagged with string\n",
    "                            year_tagged_m = year_tagged_re.search(line.lower())\n",
    "                            release_year_m = release_year_re.match(line)\n",
    "                            if year_tagged_m and not release_year_m:\n",
    "                                # Find the year itself\n",
    "                                year_anywhere_m = year_anywhere_re.search(line)\n",
    "                                if year_anywhere_m:\n",
    "                                    year = year_anywhere_m.group(1)\n",
    "                            else:\n",
    "                                # Case 3: Year within parentheses\n",
    "                                year_parens_m = year_parens_re.search(line)\n",
    "                                if year_parens_m:\n",
    "                                    year = year_parens_m.group(1)\n",
    "\n",
    "                end_content1_m = end_content1_re.match(line)\n",
    "                end_content2_m = end_content2_re.match(line)\n",
    "                if end_content1_m or end_content2_m:\n",
    "                    content_end_line_num = line_num\n",
    "                    have_seen_end_content_line = True\n",
    "                    # print(f'Found end content tag at line {line_num}; content_end_line_num={content_end_line_num}')\n",
    "                    break\n",
    "\n",
    "            # print(f'seen_start={have_seen_start_content_line}; author={author}; title={title}; year={year}')\n",
    "            if is_in_header_paragraph:\n",
    "                error += f'{line_number}: Still in header paragraph. '\n",
    "            if not have_seen_start_content_line:\n",
    "                error += f'{line_number}: Start content line not found. '\n",
    "            if not author:\n",
    "                error += f'{line_number}: Author not found. '\n",
    "            if not title:\n",
    "                error += f'{line_number}: Title not found. '\n",
    "            if year == 0:\n",
    "                error += f'{line_number}: Year not found. '\n",
    "            if not have_seen_end_content_line:\n",
    "                error += f'{line_number}: End content line not found. '\n",
    "\n",
    "            return { 'id': id\n",
    "                    , 'path': zpath\n",
    "                    , 'author': author\n",
    "                    , 'title': title\n",
    "                    , 'year': year\n",
    "                    , 'content_lines': lines[content_start_line_num:content_end_line_num]\n",
    "                        if do_include_content else None           \n",
    "                    , 'error': error\n",
    "                    }\n",
    "            # End of zfile context manager block"
   ]
  },
  {
   "cell_type": "code",
   "execution_count": 23,
   "metadata": {},
   "outputs": [],
   "source": [
    "def get_book_ids(base_dir=None, excluded_book_ids=[]):\n",
    "    if not base_dir:\n",
    "        base_dir = GUTENBERG_DOWNLOAD_DIR\n",
    "    book_id_strs = []\n",
    "    for root, dirs, files in os.walk(base_dir):\n",
    "        if len(files) > 0:\n",
    "            zip_files = list(filter(lambda fname: fname.endswith('.zip'), files))\n",
    "            if len(zip_files) > 0:\n",
    "                book_id_str = zip_files[0]\n",
    "                hyphen_ind = book_id_str.find('-')\n",
    "                if hyphen_ind > -1:\n",
    "                    book_id_str = book_id_str[:hyphen_ind]\n",
    "                else:\n",
    "                    zip_ind = book_id_str.find('.zip')\n",
    "                    book_id_str = book_id_str[:zip_ind]\n",
    "                if int(book_id_str) in excluded_book_ids:\n",
    "                    continue\n",
    "                book_id_strs.append(book_id_str)\n",
    "    book_ids = [int(id_str) for id_str in book_id_strs]\n",
    "    return [book_id for book_id in book_ids if book_id not in excluded_book_ids]"
   ]
  },
  {
   "cell_type": "code",
   "execution_count": 24,
   "metadata": {
    "collapsed": true
   },
   "outputs": [],
   "source": [
    "def get_book_id_path_info(id, base_dir=None):\n",
    "    if not base_dir:\n",
    "        base_dir = GUTENBERG_DOWNLOAD_DIR\n",
    "    \"\"\"Returns (path, error_string)\"\"\"\n",
    "    if id in excluded_book_ids:\n",
    "        return (id, None, 'Excluded book id')\n",
    "    id_str = str(id)\n",
    "    segments = list(id_str)[:-1]\n",
    "    if len(segments) == 0:\n",
    "        segments.insert(0, '0')\n",
    "    if not base_dir.endswith('/'):\n",
    "        base_dir = base_dir + '/'\n",
    "    dir_path = base_dir + '/'.join(segments) + '/' + id_str + '/'\n",
    " \n",
    "    try:\n",
    "        assert(isdir(dir_path))\n",
    "    except Exception as ex:\n",
    "        return (id, None, 'A=' + str(ex))   \n",
    "    \n",
    "    files = listdir(dir_path)\n",
    "\n",
    "    try: \n",
    "        assert(len(files) > 0)\n",
    "    except Exception as ex:\n",
    "        return (id, None, 'B=' + str(ex))\n",
    "\n",
    "    if len(files) == 1:\n",
    "        return (id, dir_path + files[0], '')\n",
    "\n",
    "    no_hyphens = list(filter(lambda s: not '-' in s, files))\n",
    "    if len(no_hyphens) > 0:\n",
    "        return (id, dir_path + no_hyphens[0], '')\n",
    "\n",
    "    dash_zeros = list(filter(lambda s: '-0' in s, files))\n",
    "    if len(dash_zeros) > 0:\n",
    "        return (id, dir_path + dash_zeros[0], '')\n",
    "\n",
    "    dash_eights = list(filter(lambda s: '-8' in s, files))\n",
    "    if len(dash_eights) > 0:\n",
    "        return (id, dir_path + dash_eights[0], '')\n",
    "\n",
    "    return (id, None, 'No file with expected filename')"
   ]
  },
  {
   "cell_type": "code",
   "execution_count": 25,
   "metadata": {
    "collapsed": true
   },
   "outputs": [],
   "source": [
    "def test_get_book(book_id):\n",
    "    book_path_info = get_book_path_info(book_id, base_dir=GUTENBERG_DOWNLOAD_DIR)\n",
    "    if not book_path_info[0]:\n",
    "        print(f'Book #{book_id}: {book_path_info[1]}')\n",
    "        return None\n",
    "    book_path = book_path_info[0]\n",
    "    book = get_book_from_path(book_id, book_path)\n",
    "    return book  # print(f\"book_id={book_id} has {len(book['content_lines'])} lines\")"
   ]
  },
  {
   "cell_type": "code",
   "execution_count": 106,
   "metadata": {},
   "outputs": [],
   "source": [
    "def test_lda(stop_words=GUTENBERG_STOPWORDS):\n",
    "    p_stemmer = PorterStemmer()\n",
    "    tokenizer = RegexpTokenizer(r'\\w+')\n",
    "    test_books = [get_book_from_id(id) for id in [101,300,400,500,600,700,804,902]]\n",
    "    test_docs = [' '.join(b['content_lines']) for b in test_books]\n",
    "    # print(f\"Titles: {[b['title'] for b in test_books]}\")\n",
    "    # print(f\"Years: {[b['year'] for b in test_books]}\")\n",
    "\n",
    "    test_texts = []\n",
    "    for doc in test_docs:\n",
    "        # clean and tokenize document string\n",
    "        raw = doc.lower()\n",
    "        tokens = tokenizer.tokenize(raw)\n",
    "        valid_tokens = [t for t in tokens if not t in stop_words]\n",
    "        stemmed_tokens = [p_stemmer.stem(st) for st in valid_tokens]\n",
    "        test_texts.append(stemmed_tokens)\n",
    "\n",
    "    test_dictionary = corpora.Dictionary(test_texts)\n",
    "    test_dictionary.filter_extremes(no_below=2, no_above=0.5, keep_n=100000)\n",
    "    test_bow = [test_dictionary.doc2bow(text) for text in test_texts]\n",
    "    ldamodel = gensim.models.ldamodel.LdaModel(test_bow\n",
    "                                               , alpha='auto'\n",
    "                                               , id2word=test_dictionary\n",
    "                                               , num_topics=20\n",
    "                                               , passes=20)\n",
    "\n",
    "    return ldamodel\n",
    "    "
   ]
  },
  {
   "cell_type": "code",
   "execution_count": 27,
   "metadata": {},
   "outputs": [],
   "source": [
    "# test_ldamodel = test_lda()\n",
    "# test_ldamodel.show_topics()"
   ]
  },
  {
   "cell_type": "code",
   "execution_count": 28,
   "metadata": {
    "collapsed": true
   },
   "outputs": [],
   "source": [
    "# Sample use: util_package_contents('nltk')\n",
    "def util_package_contents(package_name):\n",
    "    file, pathname, description = imp.find_module(package_name)\n",
    "    if file:\n",
    "        raise ImportError('Not a package: %r', package_name)\n",
    "    # Use a set because some may be both source and compiled.\n",
    "    return set([os.path.splitext(module)[0]\n",
    "                for module in os.listdir(pathname)\n",
    "                if module.endswith(MODULE_EXTENSIONS)\n",
    "               ])"
   ]
  },
  {
   "cell_type": "markdown",
   "metadata": {},
   "source": [
    "<hr style=\"height: 5px\"/>"
   ]
  },
  {
   "cell_type": "markdown",
   "metadata": {},
   "source": [
    "<hr style=\"height: 5px\"/>"
   ]
  },
  {
   "cell_type": "markdown",
   "metadata": {},
   "source": [
    "<hr style=\"height: 5px\"/>"
   ]
  },
  {
   "cell_type": "markdown",
   "metadata": {},
   "source": [
    "# Examples"
   ]
  },
  {
   "cell_type": "markdown",
   "metadata": {},
   "source": [
    "# Latent Dirichlet Allocation (LDA) Example"
   ]
  },
  {
   "cell_type": "code",
   "execution_count": 109,
   "metadata": {},
   "outputs": [
    {
     "name": "stderr",
     "output_type": "stream",
     "text": [
      "INFO:gensim.corpora.dictionary:adding document #0 to Dictionary(0 unique tokens: [])\n",
      "INFO:gensim.corpora.dictionary:built Dictionary(13439 unique tokens: ['0', '000', '000350', '0011', '00xx']...) from 8 documents (total 200916 corpus positions)\n",
      "INFO:gensim.corpora.dictionary:discarding 9011 tokens: [('0', 1), ('000350', 1), ('0011', 1), ('00xx', 1), ('02', 1), ('03', 1), ('04', 1), ('05', 1), ('06', 1), ('08', 1)]...\n",
      "INFO:gensim.corpora.dictionary:keeping 4428 tokens which were in no less than 2 and no more than 4 (=50.0%) documents\n",
      "DEBUG:gensim.corpora.dictionary:rebuilding dictionary, shrinking gaps\n",
      "INFO:gensim.corpora.dictionary:resulting dictionary: Dictionary(4428 unique tokens: ['000', '1', '10', '11', '12']...)\n",
      "INFO:gensim.models.ldamodel:using autotuned alpha, starting with [0.05, 0.05, 0.05, 0.05, 0.05, 0.05, 0.05, 0.05, 0.05, 0.05, 0.05, 0.05, 0.05, 0.05, 0.05, 0.05, 0.05, 0.05, 0.05, 0.05]\n",
      "INFO:gensim.models.ldamodel:using symmetric eta at 0.05\n",
      "INFO:gensim.models.ldamodel:using serial LDA version on this node\n",
      "INFO:gensim.models.ldamodel:running online (multi-pass) LDA training, 20 topics, 20 passes over the supplied corpus of 8 documents, updating model once every 8 documents, evaluating perplexity every 8 documents, iterating 50x with a convergence threshold of 0.001000\n",
      "DEBUG:gensim.models.ldamodel:bound: at document #0\n",
      "INFO:gensim.models.ldamodel:-11.628 per-word bound, 3165.5 perplexity estimate based on a held-out corpus of 8 documents with 54471 words\n",
      "INFO:gensim.models.ldamodel:PROGRESS: pass 0, at document #8/8\n",
      "DEBUG:gensim.models.ldamodel:performing inference on a chunk of 8 documents\n",
      "DEBUG:gensim.models.ldamodel:0/8 documents converged within 50 iterations\n",
      "INFO:gensim.models.ldamodel:optimized alpha [0.095883235, 0.08820711, 0.08861283, 0.08942583, 0.08902767, 0.08902767, 0.08906733, 0.094914615, 0.08905623, 0.08850595, 0.08926383, 0.08935192, 0.0884405, 0.08871232, 0.088505395, 0.08854255, 0.08860415, 0.08815229, 0.08886141, 0.088629276]\n",
      "DEBUG:gensim.models.ldamodel:updating topics\n",
      "INFO:gensim.models.ldamodel:topic #17 (0.088): 0.012*\"brass\" + 0.009*\"kit\" + 0.006*\"board\" + 0.005*\"underground\" + 0.004*\"dwarf\" + 0.003*\"crime\" + 0.003*\"richard\" + 0.003*\"g\" + 0.003*\"ha\" + 0.003*\"secur\"\n",
      "INFO:gensim.models.ldamodel:topic #1 (0.088): 0.021*\"kit\" + 0.016*\"brass\" + 0.006*\"dwarf\" + 0.005*\"barbara\" + 0.005*\"salli\" + 0.004*\"grandfath\" + 0.004*\"richard\" + 0.003*\"ha\" + 0.003*\"rejoin\" + 0.003*\"marchio\"\n",
      "INFO:gensim.models.ldamodel:topic #3 (0.089): 0.009*\"kit\" + 0.007*\"brass\" + 0.005*\"board\" + 0.004*\"dwarf\" + 0.004*\"fairi\" + 0.004*\"la\" + 0.004*\"ha\" + 0.003*\"law\" + 0.003*\"simpli\" + 0.003*\"polic\"\n",
      "INFO:gensim.models.ldamodel:topic #7 (0.095): 0.010*\"kit\" + 0.007*\"board\" + 0.005*\"brass\" + 0.005*\"secur\" + 0.005*\"g\" + 0.004*\"crime\" + 0.004*\"commun\" + 0.004*\"document\" + 0.004*\"law\" + 0.004*\"polic\"\n",
      "INFO:gensim.models.ldamodel:topic #0 (0.096): 0.009*\"kit\" + 0.007*\"brass\" + 0.006*\"board\" + 0.005*\"document\" + 0.004*\"dwarf\" + 0.004*\"salli\" + 0.004*\"commun\" + 0.003*\"polic\" + 0.003*\"g\" + 0.003*\"crime\"\n",
      "INFO:gensim.models.ldamodel:topic diff=2.602384, rho=1.000000\n",
      "DEBUG:gensim.models.ldamodel:bound: at document #0\n",
      "INFO:gensim.models.ldamodel:-10.023 per-word bound, 1040.5 perplexity estimate based on a held-out corpus of 8 documents with 54471 words\n",
      "INFO:gensim.models.ldamodel:PROGRESS: pass 1, at document #8/8\n",
      "DEBUG:gensim.models.ldamodel:performing inference on a chunk of 8 documents\n",
      "DEBUG:gensim.models.ldamodel:1/8 documents converged within 50 iterations\n",
      "INFO:gensim.models.ldamodel:optimized alpha [0.06325031, 0.07164177, 0.06008394, 0.08323827, 0.087529555, 0.060393196, 0.07943352, 0.06649435, 0.07463108, 0.052974444, 0.0699845, 0.08422624, 0.061282553, 0.0631633, 0.052974585, 0.08536598, 0.05299488, 0.052901108, 0.06904845, 0.061252054]\n",
      "DEBUG:gensim.models.ldamodel:updating topics\n",
      "INFO:gensim.models.ldamodel:topic #17 (0.053): 0.011*\"brass\" + 0.008*\"kit\" + 0.005*\"board\" + 0.004*\"underground\" + 0.003*\"dwarf\" + 0.003*\"crime\" + 0.003*\"richard\" + 0.003*\"g\" + 0.003*\"ha\" + 0.003*\"secur\"\n",
      "INFO:gensim.models.ldamodel:topic #16 (0.053): 0.008*\"kit\" + 0.006*\"board\" + 0.005*\"brass\" + 0.004*\"law\" + 0.003*\"simpli\" + 0.003*\"ha\" + 0.003*\"richard\" + 0.003*\"inform\" + 0.003*\"g\" + 0.003*\"salli\"\n",
      "INFO:gensim.models.ldamodel:topic #11 (0.084): 0.017*\"la\" + 0.011*\"monsieur\" + 0.010*\"ti\" + 0.008*\"madam\" + 0.007*\"thi\" + 0.007*\"french\" + 0.007*\"le\" + 0.006*\"honour\" + 0.006*\"hotel\" + 0.005*\"rocket\"\n",
      "INFO:gensim.models.ldamodel:topic #15 (0.085): 0.022*\"kit\" + 0.017*\"brass\" + 0.008*\"dwarf\" + 0.007*\"richard\" + 0.006*\"ha\" + 0.005*\"salli\" + 0.005*\"barbara\" + 0.004*\"grandfath\" + 0.003*\"law\" + 0.003*\"garland\"\n",
      "INFO:gensim.models.ldamodel:topic #4 (0.088): 0.011*\"kit\" + 0.009*\"brass\" + 0.005*\"rocket\" + 0.005*\"board\" + 0.004*\"giant\" + 0.004*\"dwarf\" + 0.003*\"salli\" + 0.003*\"secur\" + 0.003*\"ha\" + 0.003*\"richard\"\n",
      "INFO:gensim.models.ldamodel:topic diff=2.067274, rho=0.577350\n",
      "DEBUG:gensim.models.ldamodel:bound: at document #0\n",
      "INFO:gensim.models.ldamodel:-8.857 per-word bound, 463.7 perplexity estimate based on a held-out corpus of 8 documents with 54471 words\n",
      "INFO:gensim.models.ldamodel:PROGRESS: pass 2, at document #8/8\n",
      "DEBUG:gensim.models.ldamodel:performing inference on a chunk of 8 documents\n",
      "DEBUG:gensim.models.ldamodel:6/8 documents converged within 50 iterations\n",
      "INFO:gensim.models.ldamodel:optimized alpha [0.05133921, 0.050287418, 0.045031276, 0.07054725, 0.06441637, 0.045185998, 0.05322487, 0.05309811, 0.06610194, 0.0412596, 0.049599923, 0.08587035, 0.045626614, 0.052277304, 0.041259684, 0.07436252, 0.041271035, 0.041218545, 0.049201854, 0.045611612]\n",
      "DEBUG:gensim.models.ldamodel:updating topics\n",
      "INFO:gensim.models.ldamodel:topic #17 (0.041): 0.009*\"brass\" + 0.007*\"kit\" + 0.005*\"board\" + 0.004*\"underground\" + 0.003*\"dwarf\" + 0.003*\"crime\" + 0.003*\"richard\" + 0.002*\"g\" + 0.002*\"ha\" + 0.002*\"secur\"\n",
      "INFO:gensim.models.ldamodel:topic #9 (0.041): 0.005*\"board\" + 0.004*\"kit\" + 0.004*\"brass\" + 0.003*\"underground\" + 0.003*\"document\" + 0.003*\"group\" + 0.003*\"law\" + 0.002*\"commun\" + 0.002*\"secur\" + 0.002*\"inform\"\n",
      "INFO:gensim.models.ldamodel:topic #3 (0.071): 0.022*\"fairi\" + 0.016*\"donkey\" + 0.011*\"cat\" + 0.011*\"fox\" + 0.009*\"cricket\" + 0.007*\"shark\" + 0.006*\"tomorrow\" + 0.006*\"wooden\" + 0.006*\"today\" + 0.005*\"farmer\"\n",
      "INFO:gensim.models.ldamodel:topic #15 (0.074): 0.022*\"kit\" + 0.017*\"brass\" + 0.008*\"dwarf\" + 0.007*\"richard\" + 0.006*\"ha\" + 0.005*\"salli\" + 0.005*\"barbara\" + 0.004*\"grandfath\" + 0.003*\"circumst\" + 0.003*\"garland\"\n",
      "INFO:gensim.models.ldamodel:topic #11 (0.086): 0.020*\"la\" + 0.013*\"monsieur\" + 0.011*\"ti\" + 0.009*\"madam\" + 0.008*\"thi\" + 0.008*\"le\" + 0.008*\"french\" + 0.007*\"honour\" + 0.007*\"hotel\" + 0.006*\"franc\"\n",
      "INFO:gensim.models.ldamodel:topic diff=2.055266, rho=0.500000\n",
      "DEBUG:gensim.models.ldamodel:bound: at document #0\n",
      "INFO:gensim.models.ldamodel:-8.410 per-word bound, 340.2 perplexity estimate based on a held-out corpus of 8 documents with 54471 words\n",
      "INFO:gensim.models.ldamodel:PROGRESS: pass 3, at document #8/8\n",
      "DEBUG:gensim.models.ldamodel:performing inference on a chunk of 8 documents\n",
      "DEBUG:gensim.models.ldamodel:8/8 documents converged within 50 iterations\n",
      "INFO:gensim.models.ldamodel:optimized alpha [0.04454606, 0.040552497, 0.037219234, 0.062768646, 0.05374222, 0.037320346, 0.042324305, 0.042249188, 0.060577247, 0.034698185, 0.040128402, 0.08565848, 0.037607294, 0.045791816, 0.03469824, 0.067314886, 0.034705993, 0.034670144, 0.03988121, 0.037597544]\n",
      "DEBUG:gensim.models.ldamodel:updating topics\n",
      "INFO:gensim.models.ldamodel:topic #17 (0.035): 0.007*\"brass\" + 0.005*\"kit\" + 0.004*\"board\" + 0.003*\"underground\" + 0.002*\"dwarf\" + 0.002*\"crime\" + 0.002*\"richard\" + 0.002*\"g\" + 0.002*\"ha\" + 0.002*\"secur\"\n",
      "INFO:gensim.models.ldamodel:topic #16 (0.035): 0.005*\"kit\" + 0.004*\"board\" + 0.003*\"brass\" + 0.003*\"law\" + 0.002*\"simpli\" + 0.002*\"ha\" + 0.002*\"richard\" + 0.002*\"inform\" + 0.002*\"g\" + 0.002*\"salli\"\n",
      "INFO:gensim.models.ldamodel:topic #3 (0.063): 0.025*\"fairi\" + 0.019*\"donkey\" + 0.012*\"cat\" + 0.012*\"fox\" + 0.010*\"cricket\" + 0.008*\"shark\" + 0.007*\"tomorrow\" + 0.006*\"wooden\" + 0.006*\"today\" + 0.006*\"farmer\"\n",
      "INFO:gensim.models.ldamodel:topic #15 (0.067): 0.023*\"kit\" + 0.017*\"brass\" + 0.008*\"dwarf\" + 0.007*\"richard\" + 0.006*\"ha\" + 0.006*\"salli\" + 0.005*\"barbara\" + 0.004*\"grandfath\" + 0.003*\"circumst\" + 0.003*\"garland\"\n"
     ]
    },
    {
     "name": "stderr",
     "output_type": "stream",
     "text": [
      "INFO:gensim.models.ldamodel:topic #11 (0.086): 0.022*\"la\" + 0.014*\"monsieur\" + 0.012*\"ti\" + 0.010*\"madam\" + 0.009*\"le\" + 0.008*\"french\" + 0.008*\"thi\" + 0.008*\"honour\" + 0.007*\"hotel\" + 0.007*\"franc\"\n",
      "INFO:gensim.models.ldamodel:topic diff=1.896594, rho=0.447214\n",
      "DEBUG:gensim.models.ldamodel:bound: at document #0\n",
      "INFO:gensim.models.ldamodel:-8.150 per-word bound, 284.0 perplexity estimate based on a held-out corpus of 8 documents with 54471 words\n",
      "INFO:gensim.models.ldamodel:PROGRESS: pass 4, at document #8/8\n",
      "DEBUG:gensim.models.ldamodel:performing inference on a chunk of 8 documents\n",
      "DEBUG:gensim.models.ldamodel:7/8 documents converged within 50 iterations\n",
      "INFO:gensim.models.ldamodel:optimized alpha [0.040022373, 0.034640342, 0.032237098, 0.057489444, 0.047195714, 0.03231116, 0.035885658, 0.035833318, 0.058657534, 0.030366927, 0.03433896, 0.084547244, 0.03252095, 0.041376054, 0.030366972, 0.062339608, 0.03037279, 0.030345872, 0.034162704, 0.032513835]\n",
      "DEBUG:gensim.models.ldamodel:updating topics\n",
      "INFO:gensim.models.ldamodel:topic #9 (0.030): 0.003*\"board\" + 0.003*\"kit\" + 0.002*\"brass\" + 0.002*\"underground\" + 0.002*\"document\" + 0.002*\"group\" + 0.002*\"law\" + 0.002*\"commun\" + 0.002*\"secur\" + 0.001*\"inform\"\n",
      "INFO:gensim.models.ldamodel:topic #17 (0.030): 0.006*\"brass\" + 0.004*\"kit\" + 0.003*\"board\" + 0.002*\"underground\" + 0.002*\"dwarf\" + 0.002*\"crime\" + 0.002*\"richard\" + 0.002*\"g\" + 0.002*\"ha\" + 0.002*\"secur\"\n",
      "INFO:gensim.models.ldamodel:topic #8 (0.059): 0.017*\"board\" + 0.010*\"g\" + 0.009*\"polic\" + 0.009*\"secur\" + 0.009*\"crime\" + 0.009*\"underground\" + 0.009*\"document\" + 0.007*\"commun\" + 0.007*\"group\" + 0.006*\"inform\"\n",
      "INFO:gensim.models.ldamodel:topic #15 (0.062): 0.023*\"kit\" + 0.017*\"brass\" + 0.008*\"dwarf\" + 0.007*\"richard\" + 0.006*\"ha\" + 0.006*\"salli\" + 0.005*\"barbara\" + 0.004*\"grandfath\" + 0.003*\"circumst\" + 0.003*\"garland\"\n",
      "INFO:gensim.models.ldamodel:topic #11 (0.085): 0.023*\"la\" + 0.015*\"monsieur\" + 0.013*\"ti\" + 0.011*\"madam\" + 0.009*\"french\" + 0.009*\"le\" + 0.009*\"thi\" + 0.008*\"honour\" + 0.008*\"hotel\" + 0.007*\"franc\"\n",
      "INFO:gensim.models.ldamodel:topic diff=1.635357, rho=0.408248\n",
      "DEBUG:gensim.models.ldamodel:bound: at document #0\n",
      "INFO:gensim.models.ldamodel:-7.993 per-word bound, 254.7 perplexity estimate based on a held-out corpus of 8 documents with 54471 words\n",
      "INFO:gensim.models.ldamodel:PROGRESS: pass 5, at document #8/8\n",
      "DEBUG:gensim.models.ldamodel:performing inference on a chunk of 8 documents\n",
      "DEBUG:gensim.models.ldamodel:7/8 documents converged within 50 iterations\n",
      "INFO:gensim.models.ldamodel:optimized alpha [0.036739785, 0.030574746, 0.028715188, 0.0536366, 0.042663433, 0.028773073, 0.03152308, 0.031483427, 0.058170535, 0.027241236, 0.030343674, 0.083167076, 0.028936846, 0.038126837, 0.027241271, 0.058596518, 0.027245892, 0.027224507, 0.030208254, 0.028931295]\n",
      "DEBUG:gensim.models.ldamodel:updating topics\n",
      "INFO:gensim.models.ldamodel:topic #9 (0.027): 0.002*\"board\" + 0.002*\"kit\" + 0.002*\"brass\" + 0.001*\"underground\" + 0.001*\"document\" + 0.001*\"group\" + 0.001*\"law\" + 0.001*\"commun\" + 0.001*\"secur\" + 0.001*\"inform\"\n",
      "INFO:gensim.models.ldamodel:topic #17 (0.027): 0.004*\"brass\" + 0.003*\"kit\" + 0.002*\"board\" + 0.002*\"underground\" + 0.001*\"dwarf\" + 0.001*\"crime\" + 0.001*\"richard\" + 0.001*\"g\" + 0.001*\"ha\" + 0.001*\"secur\"\n",
      "INFO:gensim.models.ldamodel:topic #8 (0.058): 0.017*\"board\" + 0.010*\"g\" + 0.009*\"polic\" + 0.009*\"secur\" + 0.009*\"underground\" + 0.009*\"crime\" + 0.009*\"document\" + 0.007*\"commun\" + 0.007*\"group\" + 0.006*\"inform\"\n",
      "INFO:gensim.models.ldamodel:topic #15 (0.059): 0.023*\"kit\" + 0.017*\"brass\" + 0.008*\"dwarf\" + 0.007*\"richard\" + 0.006*\"ha\" + 0.006*\"salli\" + 0.005*\"barbara\" + 0.004*\"grandfath\" + 0.003*\"circumst\" + 0.003*\"garland\"\n",
      "INFO:gensim.models.ldamodel:topic #11 (0.083): 0.024*\"la\" + 0.016*\"monsieur\" + 0.013*\"ti\" + 0.012*\"madam\" + 0.009*\"french\" + 0.009*\"le\" + 0.009*\"thi\" + 0.009*\"honour\" + 0.008*\"hotel\" + 0.007*\"franc\"\n",
      "INFO:gensim.models.ldamodel:topic diff=1.347256, rho=0.377964\n",
      "DEBUG:gensim.models.ldamodel:bound: at document #0\n",
      "INFO:gensim.models.ldamodel:-7.898 per-word bound, 238.5 perplexity estimate based on a held-out corpus of 8 documents with 54471 words\n",
      "INFO:gensim.models.ldamodel:PROGRESS: pass 6, at document #8/8\n",
      "DEBUG:gensim.models.ldamodel:performing inference on a chunk of 8 documents\n",
      "DEBUG:gensim.models.ldamodel:7/8 documents converged within 50 iterations\n",
      "INFO:gensim.models.ldamodel:optimized alpha [0.03422124, 0.027567035, 0.026061757, 0.05067513, 0.03929361, 0.026108949, 0.028326182, 0.028294556, 0.05777171, 0.024852913, 0.02738119, 0.08179233, 0.026242347, 0.035609413, 0.02485294, 0.055650417, 0.024856752, 0.024839113, 0.027272116, 0.026237827]\n",
      "DEBUG:gensim.models.ldamodel:updating topics\n",
      "INFO:gensim.models.ldamodel:topic #9 (0.025): 0.002*\"board\" + 0.002*\"kit\" + 0.001*\"brass\" + 0.001*\"underground\" + 0.001*\"document\" + 0.001*\"group\" + 0.001*\"law\" + 0.001*\"commun\" + 0.001*\"secur\" + 0.001*\"inform\"\n",
      "INFO:gensim.models.ldamodel:topic #16 (0.025): 0.002*\"kit\" + 0.002*\"board\" + 0.001*\"brass\" + 0.001*\"law\" + 0.001*\"simpli\" + 0.001*\"ha\" + 0.001*\"richard\" + 0.001*\"inform\" + 0.001*\"g\" + 0.001*\"salli\"\n",
      "INFO:gensim.models.ldamodel:topic #15 (0.056): 0.023*\"kit\" + 0.017*\"brass\" + 0.008*\"dwarf\" + 0.007*\"richard\" + 0.006*\"ha\" + 0.006*\"salli\" + 0.005*\"barbara\" + 0.004*\"grandfath\" + 0.003*\"circumst\" + 0.003*\"garland\"\n",
      "INFO:gensim.models.ldamodel:topic #8 (0.058): 0.017*\"board\" + 0.010*\"g\" + 0.009*\"polic\" + 0.009*\"secur\" + 0.009*\"underground\" + 0.009*\"crime\" + 0.009*\"document\" + 0.007*\"commun\" + 0.007*\"group\" + 0.006*\"inform\"\n",
      "INFO:gensim.models.ldamodel:topic #11 (0.082): 0.024*\"la\" + 0.016*\"monsieur\" + 0.014*\"ti\" + 0.012*\"madam\" + 0.009*\"french\" + 0.009*\"le\" + 0.009*\"thi\" + 0.009*\"honour\" + 0.008*\"hotel\" + 0.007*\"franc\"\n",
      "INFO:gensim.models.ldamodel:topic diff=1.076110, rho=0.353553\n",
      "DEBUG:gensim.models.ldamodel:bound: at document #0\n",
      "INFO:gensim.models.ldamodel:-7.841 per-word bound, 229.2 perplexity estimate based on a held-out corpus of 8 documents with 54471 words\n",
      "INFO:gensim.models.ldamodel:PROGRESS: pass 7, at document #8/8\n",
      "DEBUG:gensim.models.ldamodel:performing inference on a chunk of 8 documents\n",
      "DEBUG:gensim.models.ldamodel:7/8 documents converged within 50 iterations\n",
      "INFO:gensim.models.ldamodel:optimized alpha [0.032212824, 0.025231643, 0.023974184, 0.048313387, 0.036667097, 0.024013817, 0.025860555, 0.025834424, 0.057383645, 0.022954326, 0.025077142, 0.080508895, 0.024125775, 0.03358719, 0.02295435, 0.053256128, 0.02295758, 0.022942632, 0.024986368, 0.024121983]\n",
      "DEBUG:gensim.models.ldamodel:updating topics\n",
      "INFO:gensim.models.ldamodel:topic #17 (0.023): 0.002*\"brass\" + 0.002*\"kit\" + 0.001*\"board\" + 0.001*\"underground\" + 0.001*\"dwarf\" + 0.001*\"crime\" + 0.001*\"richard\" + 0.001*\"g\" + 0.001*\"ha\" + 0.001*\"secur\"\n",
      "INFO:gensim.models.ldamodel:topic #16 (0.023): 0.002*\"kit\" + 0.001*\"board\" + 0.001*\"brass\" + 0.001*\"law\" + 0.001*\"simpli\" + 0.001*\"ha\" + 0.001*\"richard\" + 0.001*\"inform\" + 0.001*\"g\" + 0.001*\"salli\"\n",
      "INFO:gensim.models.ldamodel:topic #15 (0.053): 0.023*\"kit\" + 0.017*\"brass\" + 0.008*\"dwarf\" + 0.007*\"richard\" + 0.006*\"ha\" + 0.006*\"salli\" + 0.005*\"barbara\" + 0.004*\"grandfath\" + 0.003*\"circumst\" + 0.003*\"garland\"\n",
      "INFO:gensim.models.ldamodel:topic #8 (0.057): 0.017*\"board\" + 0.010*\"g\" + 0.009*\"polic\" + 0.009*\"secur\" + 0.009*\"underground\" + 0.009*\"crime\" + 0.009*\"document\" + 0.007*\"commun\" + 0.007*\"group\" + 0.006*\"inform\"\n",
      "INFO:gensim.models.ldamodel:topic #11 (0.081): 0.025*\"la\" + 0.016*\"monsieur\" + 0.014*\"ti\" + 0.012*\"madam\" + 0.010*\"french\" + 0.010*\"le\" + 0.009*\"thi\" + 0.009*\"honour\" + 0.008*\"hotel\" + 0.008*\"franc\"\n",
      "INFO:gensim.models.ldamodel:topic diff=0.841315, rho=0.333333\n",
      "DEBUG:gensim.models.ldamodel:bound: at document #0\n",
      "INFO:gensim.models.ldamodel:-7.806 per-word bound, 223.8 perplexity estimate based on a held-out corpus of 8 documents with 54471 words\n",
      "INFO:gensim.models.ldamodel:PROGRESS: pass 8, at document #8/8\n",
      "DEBUG:gensim.models.ldamodel:performing inference on a chunk of 8 documents\n",
      "DEBUG:gensim.models.ldamodel:7/8 documents converged within 50 iterations\n",
      "INFO:gensim.models.ldamodel:optimized alpha [0.03056471, 0.02335421, 0.022279054, 0.046376843, 0.034549348, 0.022313083, 0.023888463, 0.02386631, 0.056999724, 0.021400234, 0.023222608, 0.07932597, 0.022409162, 0.031918276, 0.021400254, 0.051262263, 0.021403048, 0.021390121, 0.023145223, 0.022405908]\n"
     ]
    },
    {
     "name": "stderr",
     "output_type": "stream",
     "text": [
      "DEBUG:gensim.models.ldamodel:updating topics\n",
      "INFO:gensim.models.ldamodel:topic #16 (0.021): 0.001*\"kit\" + 0.001*\"board\" + 0.001*\"brass\" + 0.001*\"law\" + 0.001*\"simpli\" + 0.001*\"ha\" + 0.001*\"richard\" + 0.001*\"inform\" + 0.001*\"g\" + 0.001*\"salli\"\n",
      "INFO:gensim.models.ldamodel:topic #9 (0.021): 0.001*\"board\" + 0.001*\"kit\" + 0.001*\"brass\" + 0.001*\"underground\" + 0.001*\"document\" + 0.001*\"group\" + 0.001*\"law\" + 0.001*\"commun\" + 0.001*\"secur\" + 0.001*\"inform\"\n",
      "INFO:gensim.models.ldamodel:topic #15 (0.051): 0.023*\"kit\" + 0.017*\"brass\" + 0.008*\"dwarf\" + 0.007*\"richard\" + 0.006*\"ha\" + 0.006*\"salli\" + 0.005*\"barbara\" + 0.004*\"grandfath\" + 0.003*\"circumst\" + 0.003*\"garland\"\n",
      "INFO:gensim.models.ldamodel:topic #8 (0.057): 0.017*\"board\" + 0.010*\"g\" + 0.009*\"polic\" + 0.009*\"secur\" + 0.009*\"underground\" + 0.009*\"crime\" + 0.009*\"document\" + 0.007*\"commun\" + 0.007*\"group\" + 0.006*\"inform\"\n",
      "INFO:gensim.models.ldamodel:topic #11 (0.079): 0.025*\"la\" + 0.016*\"monsieur\" + 0.014*\"ti\" + 0.012*\"madam\" + 0.010*\"french\" + 0.010*\"le\" + 0.009*\"thi\" + 0.009*\"honour\" + 0.009*\"hotel\" + 0.008*\"franc\"\n",
      "INFO:gensim.models.ldamodel:topic diff=0.648135, rho=0.316228\n",
      "DEBUG:gensim.models.ldamodel:bound: at document #0\n",
      "INFO:gensim.models.ldamodel:-7.785 per-word bound, 220.6 perplexity estimate based on a held-out corpus of 8 documents with 54471 words\n",
      "INFO:gensim.models.ldamodel:PROGRESS: pass 9, at document #8/8\n",
      "DEBUG:gensim.models.ldamodel:performing inference on a chunk of 8 documents\n",
      "DEBUG:gensim.models.ldamodel:7/8 documents converged within 50 iterations\n",
      "INFO:gensim.models.ldamodel:optimized alpha [0.029182035, 0.021804836, 0.020868946, 0.044754073, 0.032797452, 0.020898666, 0.022267455, 0.022248305, 0.056619283, 0.0200991, 0.021690633, 0.0782389, 0.020982549, 0.030511703, 0.020099116, 0.04956964, 0.020101571, 0.020090215, 0.02162343, 0.020979708]\n",
      "DEBUG:gensim.models.ldamodel:updating topics\n",
      "INFO:gensim.models.ldamodel:topic #9 (0.020): 0.001*\"board\" + 0.001*\"kit\" + 0.001*\"brass\" + 0.001*\"underground\" + 0.001*\"document\" + 0.001*\"group\" + 0.000*\"law\" + 0.000*\"commun\" + 0.000*\"secur\" + 0.000*\"inform\"\n",
      "INFO:gensim.models.ldamodel:topic #16 (0.020): 0.001*\"kit\" + 0.001*\"board\" + 0.001*\"brass\" + 0.001*\"law\" + 0.001*\"simpli\" + 0.001*\"ha\" + 0.001*\"richard\" + 0.001*\"inform\" + 0.001*\"g\" + 0.000*\"salli\"\n",
      "INFO:gensim.models.ldamodel:topic #15 (0.050): 0.023*\"kit\" + 0.017*\"brass\" + 0.008*\"dwarf\" + 0.007*\"richard\" + 0.006*\"ha\" + 0.006*\"salli\" + 0.005*\"barbara\" + 0.005*\"grandfath\" + 0.003*\"circumst\" + 0.003*\"garland\"\n",
      "INFO:gensim.models.ldamodel:topic #8 (0.057): 0.017*\"board\" + 0.010*\"g\" + 0.009*\"polic\" + 0.009*\"secur\" + 0.009*\"underground\" + 0.009*\"crime\" + 0.009*\"document\" + 0.007*\"commun\" + 0.007*\"group\" + 0.006*\"inform\"\n",
      "INFO:gensim.models.ldamodel:topic #11 (0.078): 0.025*\"la\" + 0.016*\"monsieur\" + 0.014*\"ti\" + 0.012*\"madam\" + 0.010*\"french\" + 0.010*\"le\" + 0.009*\"thi\" + 0.009*\"honour\" + 0.009*\"hotel\" + 0.008*\"franc\"\n",
      "INFO:gensim.models.ldamodel:topic diff=0.494506, rho=0.301511\n",
      "DEBUG:gensim.models.ldamodel:bound: at document #0\n",
      "INFO:gensim.models.ldamodel:-7.772 per-word bound, 218.6 perplexity estimate based on a held-out corpus of 8 documents with 54471 words\n",
      "INFO:gensim.models.ldamodel:PROGRESS: pass 10, at document #8/8\n",
      "DEBUG:gensim.models.ldamodel:performing inference on a chunk of 8 documents\n",
      "DEBUG:gensim.models.ldamodel:7/8 documents converged within 50 iterations\n",
      "INFO:gensim.models.ldamodel:optimized alpha [0.028001454, 0.020499669, 0.01967334, 0.043370213, 0.031318773, 0.019699654, 0.020906363, 0.020889552, 0.056245483, 0.018990021, 0.020399094, 0.07723836, 0.019773899, 0.029306142, 0.018990036, 0.048110254, 0.018992221, 0.018982116, 0.020339876, 0.019771384]\n",
      "DEBUG:gensim.models.ldamodel:updating topics\n",
      "INFO:gensim.models.ldamodel:topic #16 (0.019): 0.001*\"kit\" + 0.001*\"board\" + 0.001*\"brass\" + 0.001*\"law\" + 0.000*\"simpli\" + 0.000*\"ha\" + 0.000*\"richard\" + 0.000*\"inform\" + 0.000*\"g\" + 0.000*\"salli\"\n",
      "INFO:gensim.models.ldamodel:topic #14 (0.019): 0.001*\"kit\" + 0.001*\"brass\" + 0.001*\"board\" + 0.001*\"g\" + 0.000*\"underground\" + 0.000*\"polic\" + 0.000*\"document\" + 0.000*\"law\" + 0.000*\"secur\" + 0.000*\"dwarf\"\n",
      "INFO:gensim.models.ldamodel:topic #15 (0.048): 0.023*\"kit\" + 0.017*\"brass\" + 0.008*\"dwarf\" + 0.007*\"richard\" + 0.006*\"ha\" + 0.006*\"salli\" + 0.005*\"barbara\" + 0.005*\"grandfath\" + 0.003*\"circumst\" + 0.003*\"garland\"\n",
      "INFO:gensim.models.ldamodel:topic #8 (0.056): 0.017*\"board\" + 0.010*\"g\" + 0.009*\"polic\" + 0.009*\"secur\" + 0.009*\"underground\" + 0.009*\"crime\" + 0.009*\"document\" + 0.007*\"commun\" + 0.006*\"group\" + 0.006*\"inform\"\n",
      "INFO:gensim.models.ldamodel:topic #11 (0.077): 0.025*\"la\" + 0.016*\"monsieur\" + 0.014*\"ti\" + 0.012*\"madam\" + 0.010*\"french\" + 0.010*\"le\" + 0.009*\"thi\" + 0.009*\"honour\" + 0.009*\"hotel\" + 0.008*\"franc\"\n",
      "INFO:gensim.models.ldamodel:topic diff=0.375135, rho=0.288675\n",
      "DEBUG:gensim.models.ldamodel:bound: at document #0\n",
      "INFO:gensim.models.ldamodel:-7.764 per-word bound, 217.4 perplexity estimate based on a held-out corpus of 8 documents with 54471 words\n",
      "INFO:gensim.models.ldamodel:PROGRESS: pass 11, at document #8/8\n",
      "DEBUG:gensim.models.ldamodel:performing inference on a chunk of 8 documents\n",
      "DEBUG:gensim.models.ldamodel:7/8 documents converged within 50 iterations\n",
      "INFO:gensim.models.ldamodel:optimized alpha [0.02697884, 0.019381884, 0.0186438, 0.04217299, 0.030050293, 0.018667359, 0.019743819, 0.019728875, 0.055877417, 0.018030718, 0.019292243, 0.07631428, 0.018733814, 0.02825853, 0.018030731, 0.04683568, 0.018032696, 0.01802361, 0.019239439, 0.018731564]\n",
      "DEBUG:gensim.models.ldamodel:updating topics\n",
      "INFO:gensim.models.ldamodel:topic #14 (0.018): 0.001*\"kit\" + 0.001*\"brass\" + 0.001*\"board\" + 0.000*\"g\" + 0.000*\"underground\" + 0.000*\"polic\" + 0.000*\"document\" + 0.000*\"law\" + 0.000*\"secur\" + 0.000*\"dwarf\"\n",
      "INFO:gensim.models.ldamodel:topic #17 (0.018): 0.001*\"brass\" + 0.001*\"kit\" + 0.001*\"board\" + 0.000*\"underground\" + 0.000*\"dwarf\" + 0.000*\"crime\" + 0.000*\"richard\" + 0.000*\"g\" + 0.000*\"ha\" + 0.000*\"secur\"\n",
      "INFO:gensim.models.ldamodel:topic #15 (0.047): 0.023*\"kit\" + 0.017*\"brass\" + 0.008*\"dwarf\" + 0.007*\"richard\" + 0.006*\"ha\" + 0.006*\"salli\" + 0.005*\"barbara\" + 0.005*\"grandfath\" + 0.003*\"circumst\" + 0.003*\"garland\"\n",
      "INFO:gensim.models.ldamodel:topic #8 (0.056): 0.017*\"board\" + 0.010*\"g\" + 0.009*\"polic\" + 0.009*\"secur\" + 0.009*\"underground\" + 0.009*\"crime\" + 0.009*\"document\" + 0.007*\"commun\" + 0.006*\"group\" + 0.006*\"inform\"\n",
      "INFO:gensim.models.ldamodel:topic #11 (0.076): 0.025*\"la\" + 0.016*\"monsieur\" + 0.014*\"ti\" + 0.012*\"madam\" + 0.010*\"french\" + 0.010*\"le\" + 0.009*\"thi\" + 0.009*\"honour\" + 0.009*\"hotel\" + 0.008*\"franc\"\n",
      "INFO:gensim.models.ldamodel:topic diff=0.283818, rho=0.277350\n",
      "DEBUG:gensim.models.ldamodel:bound: at document #0\n",
      "INFO:gensim.models.ldamodel:-7.759 per-word bound, 216.7 perplexity estimate based on a held-out corpus of 8 documents with 54471 words\n",
      "INFO:gensim.models.ldamodel:PROGRESS: pass 12, at document #8/8\n",
      "DEBUG:gensim.models.ldamodel:performing inference on a chunk of 8 documents\n",
      "DEBUG:gensim.models.ldamodel:7/8 documents converged within 50 iterations\n",
      "INFO:gensim.models.ldamodel:optimized alpha [0.026082413, 0.018411463, 0.017745841, 0.041124698, 0.028947504, 0.017767131, 0.01873684, 0.018723419, 0.055517565, 0.017190816, 0.018330773, 0.0754577, 0.01782717, 0.02733766, 0.017190827, 0.045710444, 0.01719261, 0.01718437, 0.018283222, 0.017825136]\n",
      "DEBUG:gensim.models.ldamodel:updating topics\n",
      "INFO:gensim.models.ldamodel:topic #9 (0.017): 0.000*\"board\" + 0.000*\"kit\" + 0.000*\"brass\" + 0.000*\"underground\" + 0.000*\"document\" + 0.000*\"group\" + 0.000*\"law\" + 0.000*\"commun\" + 0.000*\"secur\" + 0.000*\"inform\"\n",
      "INFO:gensim.models.ldamodel:topic #16 (0.017): 0.001*\"kit\" + 0.000*\"board\" + 0.000*\"brass\" + 0.000*\"law\" + 0.000*\"simpli\" + 0.000*\"ha\" + 0.000*\"richard\" + 0.000*\"inform\" + 0.000*\"g\" + 0.000*\"salli\"\n",
      "INFO:gensim.models.ldamodel:topic #15 (0.046): 0.023*\"kit\" + 0.017*\"brass\" + 0.008*\"dwarf\" + 0.007*\"richard\" + 0.006*\"ha\" + 0.006*\"salli\" + 0.005*\"barbara\" + 0.005*\"grandfath\" + 0.003*\"circumst\" + 0.003*\"garland\"\n",
      "INFO:gensim.models.ldamodel:topic #8 (0.056): 0.017*\"board\" + 0.010*\"g\" + 0.009*\"polic\" + 0.009*\"secur\" + 0.009*\"underground\" + 0.009*\"crime\" + 0.009*\"document\" + 0.007*\"commun\" + 0.006*\"group\" + 0.006*\"inform\"\n"
     ]
    },
    {
     "name": "stderr",
     "output_type": "stream",
     "text": [
      "INFO:gensim.models.ldamodel:topic #11 (0.075): 0.025*\"la\" + 0.016*\"monsieur\" + 0.014*\"ti\" + 0.012*\"madam\" + 0.010*\"french\" + 0.010*\"le\" + 0.009*\"thi\" + 0.009*\"honour\" + 0.009*\"hotel\" + 0.008*\"franc\"\n",
      "INFO:gensim.models.ldamodel:topic diff=0.214657, rho=0.267261\n",
      "DEBUG:gensim.models.ldamodel:bound: at document #0\n",
      "INFO:gensim.models.ldamodel:-7.756 per-word bound, 216.2 perplexity estimate based on a held-out corpus of 8 documents with 54471 words\n",
      "INFO:gensim.models.ldamodel:PROGRESS: pass 13, at document #8/8\n",
      "DEBUG:gensim.models.ldamodel:performing inference on a chunk of 8 documents\n",
      "DEBUG:gensim.models.ldamodel:7/8 documents converged within 50 iterations\n",
      "INFO:gensim.models.ldamodel:optimized alpha [0.025288634, 0.01755932, 0.016954169, 0.04019743, 0.027977973, 0.016973559, 0.017854327, 0.01784217, 0.055167053, 0.016447868, 0.017486079, 0.074661046, 0.017028227, 0.026520278, 0.016447878, 0.044707876, 0.016449505, 0.016441977, 0.0174429, 0.017026376]\n",
      "DEBUG:gensim.models.ldamodel:updating topics\n",
      "INFO:gensim.models.ldamodel:topic #17 (0.016): 0.001*\"brass\" + 0.000*\"kit\" + 0.000*\"board\" + 0.000*\"underground\" + 0.000*\"dwarf\" + 0.000*\"crime\" + 0.000*\"richard\" + 0.000*\"g\" + 0.000*\"ha\" + 0.000*\"secur\"\n",
      "INFO:gensim.models.ldamodel:topic #9 (0.016): 0.000*\"board\" + 0.000*\"kit\" + 0.000*\"brass\" + 0.000*\"underground\" + 0.000*\"document\" + 0.000*\"group\" + 0.000*\"law\" + 0.000*\"commun\" + 0.000*\"secur\" + 0.000*\"inform\"\n",
      "INFO:gensim.models.ldamodel:topic #15 (0.045): 0.023*\"kit\" + 0.017*\"brass\" + 0.008*\"dwarf\" + 0.007*\"richard\" + 0.006*\"ha\" + 0.006*\"salli\" + 0.005*\"barbara\" + 0.005*\"grandfath\" + 0.003*\"circumst\" + 0.003*\"garland\"\n",
      "INFO:gensim.models.ldamodel:topic #8 (0.055): 0.017*\"board\" + 0.010*\"g\" + 0.009*\"polic\" + 0.009*\"secur\" + 0.009*\"underground\" + 0.009*\"crime\" + 0.009*\"document\" + 0.007*\"commun\" + 0.006*\"group\" + 0.006*\"inform\"\n",
      "INFO:gensim.models.ldamodel:topic #11 (0.075): 0.025*\"la\" + 0.016*\"monsieur\" + 0.014*\"ti\" + 0.012*\"madam\" + 0.010*\"french\" + 0.010*\"le\" + 0.009*\"thi\" + 0.009*\"honour\" + 0.009*\"hotel\" + 0.008*\"franc\"\n",
      "INFO:gensim.models.ldamodel:topic diff=0.162583, rho=0.258199\n",
      "DEBUG:gensim.models.ldamodel:bound: at document #0\n",
      "INFO:gensim.models.ldamodel:-7.754 per-word bound, 215.9 perplexity estimate based on a held-out corpus of 8 documents with 54471 words\n",
      "INFO:gensim.models.ldamodel:PROGRESS: pass 14, at document #8/8\n",
      "DEBUG:gensim.models.ldamodel:performing inference on a chunk of 8 documents\n",
      "DEBUG:gensim.models.ldamodel:7/8 documents converged within 50 iterations\n",
      "INFO:gensim.models.ldamodel:optimized alpha [0.02457965, 0.016803749, 0.016249755, 0.03937, 0.027117439, 0.016267534, 0.017073167, 0.017062074, 0.054826174, 0.015784882, 0.016736794, 0.07391794, 0.01631765, 0.02578867, 0.01578489, 0.043807484, 0.015786387, 0.015779464, 0.01669731, 0.016315954]\n",
      "DEBUG:gensim.models.ldamodel:updating topics\n",
      "INFO:gensim.models.ldamodel:topic #17 (0.016): 0.000*\"brass\" + 0.000*\"kit\" + 0.000*\"board\" + 0.000*\"underground\" + 0.000*\"dwarf\" + 0.000*\"crime\" + 0.000*\"richard\" + 0.000*\"g\" + 0.000*\"ha\" + 0.000*\"secur\"\n",
      "INFO:gensim.models.ldamodel:topic #14 (0.016): 0.001*\"kit\" + 0.000*\"brass\" + 0.000*\"board\" + 0.000*\"g\" + 0.000*\"underground\" + 0.000*\"polic\" + 0.000*\"document\" + 0.000*\"law\" + 0.000*\"secur\" + 0.000*\"dwarf\"\n",
      "INFO:gensim.models.ldamodel:topic #15 (0.044): 0.023*\"kit\" + 0.017*\"brass\" + 0.008*\"dwarf\" + 0.007*\"richard\" + 0.006*\"ha\" + 0.006*\"salli\" + 0.005*\"barbara\" + 0.005*\"grandfath\" + 0.003*\"circumst\" + 0.003*\"garland\"\n",
      "INFO:gensim.models.ldamodel:topic #8 (0.055): 0.017*\"board\" + 0.010*\"g\" + 0.009*\"polic\" + 0.009*\"secur\" + 0.009*\"underground\" + 0.009*\"crime\" + 0.009*\"document\" + 0.007*\"commun\" + 0.006*\"group\" + 0.006*\"inform\"\n",
      "INFO:gensim.models.ldamodel:topic #11 (0.074): 0.025*\"la\" + 0.016*\"monsieur\" + 0.014*\"ti\" + 0.012*\"madam\" + 0.010*\"french\" + 0.010*\"le\" + 0.009*\"thi\" + 0.009*\"honour\" + 0.009*\"hotel\" + 0.008*\"franc\"\n",
      "INFO:gensim.models.ldamodel:topic diff=0.123483, rho=0.250000\n",
      "DEBUG:gensim.models.ldamodel:bound: at document #0\n",
      "INFO:gensim.models.ldamodel:-7.753 per-word bound, 215.7 perplexity estimate based on a held-out corpus of 8 documents with 54471 words\n",
      "INFO:gensim.models.ldamodel:PROGRESS: pass 15, at document #8/8\n",
      "DEBUG:gensim.models.ldamodel:performing inference on a chunk of 8 documents\n",
      "DEBUG:gensim.models.ldamodel:7/8 documents converged within 50 iterations\n",
      "INFO:gensim.models.ldamodel:optimized alpha [0.023941645, 0.016128194, 0.015617992, 0.038626067, 0.026347356, 0.015634388, 0.016375786, 0.016365599, 0.054494802, 0.015188734, 0.016066609, 0.073222876, 0.015680598, 0.025129072, 0.0151887415, 0.04299324, 0.015190125, 0.015183724, 0.016030282, 0.015679033]\n",
      "DEBUG:gensim.models.ldamodel:updating topics\n",
      "INFO:gensim.models.ldamodel:topic #16 (0.015): 0.000*\"kit\" + 0.000*\"board\" + 0.000*\"brass\" + 0.000*\"law\" + 0.000*\"simpli\" + 0.000*\"ha\" + 0.000*\"richard\" + 0.000*\"inform\" + 0.000*\"g\" + 0.000*\"salli\"\n",
      "INFO:gensim.models.ldamodel:topic #17 (0.015): 0.000*\"brass\" + 0.000*\"kit\" + 0.000*\"board\" + 0.000*\"underground\" + 0.000*\"dwarf\" + 0.000*\"crime\" + 0.000*\"richard\" + 0.000*\"g\" + 0.000*\"ha\" + 0.000*\"secur\"\n",
      "INFO:gensim.models.ldamodel:topic #15 (0.043): 0.023*\"kit\" + 0.017*\"brass\" + 0.008*\"dwarf\" + 0.007*\"richard\" + 0.006*\"ha\" + 0.006*\"salli\" + 0.005*\"barbara\" + 0.005*\"grandfath\" + 0.003*\"circumst\" + 0.003*\"garland\"\n",
      "INFO:gensim.models.ldamodel:topic #8 (0.054): 0.017*\"board\" + 0.010*\"g\" + 0.009*\"polic\" + 0.009*\"secur\" + 0.009*\"underground\" + 0.009*\"crime\" + 0.009*\"document\" + 0.007*\"commun\" + 0.006*\"group\" + 0.006*\"inform\"\n",
      "INFO:gensim.models.ldamodel:topic #11 (0.073): 0.025*\"la\" + 0.016*\"monsieur\" + 0.014*\"ti\" + 0.012*\"madam\" + 0.010*\"french\" + 0.010*\"le\" + 0.009*\"thi\" + 0.009*\"honour\" + 0.009*\"hotel\" + 0.008*\"franc\"\n",
      "INFO:gensim.models.ldamodel:topic diff=0.094139, rho=0.242536\n",
      "DEBUG:gensim.models.ldamodel:bound: at document #0\n",
      "INFO:gensim.models.ldamodel:-7.752 per-word bound, 215.6 perplexity estimate based on a held-out corpus of 8 documents with 54471 words\n",
      "INFO:gensim.models.ldamodel:PROGRESS: pass 16, at document #8/8\n",
      "DEBUG:gensim.models.ldamodel:performing inference on a chunk of 8 documents\n",
      "DEBUG:gensim.models.ldamodel:7/8 documents converged within 50 iterations\n",
      "INFO:gensim.models.ldamodel:optimized alpha [0.023363749, 0.015519782, 0.01504745, 0.03795273, 0.025653286, 0.015062648, 0.015748559, 0.015739152, 0.054173876, 0.014649112, 0.015462833, 0.0725711, 0.015105475, 0.024530612, 0.014649119, 0.042252425, 0.014650405, 0.014644458, 0.015429231, 0.015104025]\n",
      "DEBUG:gensim.models.ldamodel:updating topics\n",
      "INFO:gensim.models.ldamodel:topic #17 (0.015): 0.000*\"brass\" + 0.000*\"kit\" + 0.000*\"board\" + 0.000*\"underground\" + 0.000*\"dwarf\" + 0.000*\"crime\" + 0.000*\"richard\" + 0.000*\"g\" + 0.000*\"ha\" + 0.000*\"secur\"\n",
      "INFO:gensim.models.ldamodel:topic #14 (0.015): 0.000*\"kit\" + 0.000*\"brass\" + 0.000*\"board\" + 0.000*\"g\" + 0.000*\"underground\" + 0.000*\"polic\" + 0.000*\"document\" + 0.000*\"law\" + 0.000*\"secur\" + 0.000*\"dwarf\"\n",
      "INFO:gensim.models.ldamodel:topic #15 (0.042): 0.023*\"kit\" + 0.017*\"brass\" + 0.008*\"dwarf\" + 0.007*\"richard\" + 0.006*\"ha\" + 0.006*\"salli\" + 0.005*\"barbara\" + 0.005*\"grandfath\" + 0.003*\"circumst\" + 0.003*\"garland\"\n",
      "INFO:gensim.models.ldamodel:topic #8 (0.054): 0.017*\"board\" + 0.010*\"g\" + 0.009*\"polic\" + 0.009*\"secur\" + 0.009*\"underground\" + 0.009*\"crime\" + 0.009*\"document\" + 0.007*\"commun\" + 0.006*\"group\" + 0.006*\"inform\"\n",
      "INFO:gensim.models.ldamodel:topic #11 (0.073): 0.025*\"la\" + 0.016*\"monsieur\" + 0.014*\"ti\" + 0.012*\"madam\" + 0.010*\"french\" + 0.010*\"le\" + 0.009*\"thi\" + 0.009*\"honour\" + 0.009*\"hotel\" + 0.008*\"franc\"\n",
      "INFO:gensim.models.ldamodel:topic diff=0.072092, rho=0.235702\n",
      "DEBUG:gensim.models.ldamodel:bound: at document #0\n",
      "INFO:gensim.models.ldamodel:-7.752 per-word bound, 215.5 perplexity estimate based on a held-out corpus of 8 documents with 54471 words\n",
      "INFO:gensim.models.ldamodel:PROGRESS: pass 17, at document #8/8\n",
      "DEBUG:gensim.models.ldamodel:performing inference on a chunk of 8 documents\n",
      "DEBUG:gensim.models.ldamodel:7/8 documents converged within 50 iterations\n",
      "INFO:gensim.models.ldamodel:optimized alpha [0.022837266, 0.014968338, 0.014529048, 0.037339672, 0.025023788, 0.0145432, 0.015180744, 0.015172015, 0.05386297, 0.014157785, 0.014915428, 0.07195844, 0.01458307, 0.023984568, 0.014157793, 0.041574772, 0.014158992, 0.014153443, 0.014884201, 0.014581719]\n"
     ]
    },
    {
     "name": "stderr",
     "output_type": "stream",
     "text": [
      "DEBUG:gensim.models.ldamodel:updating topics\n",
      "INFO:gensim.models.ldamodel:topic #9 (0.014): 0.000*\"board\" + 0.000*\"kit\" + 0.000*\"brass\" + 0.000*\"underground\" + 0.000*\"document\" + 0.000*\"group\" + 0.000*\"law\" + 0.000*\"commun\" + 0.000*\"secur\" + 0.000*\"inform\"\n",
      "INFO:gensim.models.ldamodel:topic #17 (0.014): 0.000*\"brass\" + 0.000*\"kit\" + 0.000*\"board\" + 0.000*\"underground\" + 0.000*\"dwarf\" + 0.000*\"crime\" + 0.000*\"richard\" + 0.000*\"g\" + 0.000*\"ha\" + 0.000*\"secur\"\n",
      "INFO:gensim.models.ldamodel:topic #15 (0.042): 0.023*\"kit\" + 0.017*\"brass\" + 0.008*\"dwarf\" + 0.007*\"richard\" + 0.006*\"ha\" + 0.006*\"salli\" + 0.005*\"barbara\" + 0.005*\"grandfath\" + 0.003*\"circumst\" + 0.003*\"garland\"\n",
      "INFO:gensim.models.ldamodel:topic #8 (0.054): 0.017*\"board\" + 0.010*\"g\" + 0.009*\"polic\" + 0.009*\"secur\" + 0.009*\"underground\" + 0.009*\"crime\" + 0.009*\"document\" + 0.007*\"commun\" + 0.006*\"group\" + 0.006*\"inform\"\n",
      "INFO:gensim.models.ldamodel:topic #11 (0.072): 0.025*\"la\" + 0.016*\"monsieur\" + 0.014*\"ti\" + 0.012*\"madam\" + 0.010*\"french\" + 0.010*\"le\" + 0.009*\"thi\" + 0.009*\"honour\" + 0.009*\"hotel\" + 0.008*\"franc\"\n",
      "INFO:gensim.models.ldamodel:topic diff=0.055486, rho=0.229416\n",
      "DEBUG:gensim.models.ldamodel:bound: at document #0\n",
      "INFO:gensim.models.ldamodel:-7.751 per-word bound, 215.4 perplexity estimate based on a held-out corpus of 8 documents with 54471 words\n",
      "INFO:gensim.models.ldamodel:PROGRESS: pass 18, at document #8/8\n",
      "DEBUG:gensim.models.ldamodel:performing inference on a chunk of 8 documents\n",
      "DEBUG:gensim.models.ldamodel:7/8 documents converged within 50 iterations\n",
      "INFO:gensim.models.ldamodel:optimized alpha [0.022355162, 0.014465703, 0.014055472, 0.03677856, 0.024449684, 0.014068701, 0.0146637475, 0.014655612, 0.05356253, 0.013708095, 0.014416338, 0.07138125, 0.014105967, 0.023483861, 0.013708102, 0.04095192, 0.013709226, 0.013704029, 0.014387198, 0.014104704]\n",
      "DEBUG:gensim.models.ldamodel:updating topics\n",
      "INFO:gensim.models.ldamodel:topic #16 (0.014): 0.000*\"kit\" + 0.000*\"board\" + 0.000*\"brass\" + 0.000*\"law\" + 0.000*\"simpli\" + 0.000*\"ha\" + 0.000*\"richard\" + 0.000*\"inform\" + 0.000*\"g\" + 0.000*\"salli\"\n",
      "INFO:gensim.models.ldamodel:topic #14 (0.014): 0.000*\"kit\" + 0.000*\"brass\" + 0.000*\"board\" + 0.000*\"g\" + 0.000*\"underground\" + 0.000*\"polic\" + 0.000*\"document\" + 0.000*\"law\" + 0.000*\"secur\" + 0.000*\"dwarf\"\n",
      "INFO:gensim.models.ldamodel:topic #15 (0.041): 0.023*\"kit\" + 0.017*\"brass\" + 0.008*\"dwarf\" + 0.007*\"richard\" + 0.006*\"ha\" + 0.006*\"salli\" + 0.005*\"barbara\" + 0.005*\"grandfath\" + 0.003*\"circumst\" + 0.003*\"garland\"\n",
      "INFO:gensim.models.ldamodel:topic #8 (0.054): 0.017*\"board\" + 0.010*\"g\" + 0.009*\"polic\" + 0.009*\"secur\" + 0.009*\"underground\" + 0.009*\"crime\" + 0.009*\"document\" + 0.007*\"commun\" + 0.006*\"group\" + 0.006*\"inform\"\n",
      "INFO:gensim.models.ldamodel:topic #11 (0.071): 0.025*\"la\" + 0.016*\"monsieur\" + 0.014*\"ti\" + 0.012*\"madam\" + 0.010*\"french\" + 0.010*\"le\" + 0.009*\"thi\" + 0.009*\"honour\" + 0.009*\"hotel\" + 0.008*\"franc\"\n",
      "INFO:gensim.models.ldamodel:topic diff=0.042939, rho=0.223607\n",
      "DEBUG:gensim.models.ldamodel:bound: at document #0\n",
      "INFO:gensim.models.ldamodel:-7.751 per-word bound, 215.4 perplexity estimate based on a held-out corpus of 8 documents with 54471 words\n",
      "INFO:gensim.models.ldamodel:PROGRESS: pass 19, at document #8/8\n",
      "DEBUG:gensim.models.ldamodel:performing inference on a chunk of 8 documents\n",
      "DEBUG:gensim.models.ldamodel:7/8 documents converged within 50 iterations\n",
      "INFO:gensim.models.ldamodel:optimized alpha [0.021911664, 0.014005246, 0.013620752, 0.03626256, 0.0239235, 0.013633164, 0.0141906, 0.01418299, 0.053271748, 0.013294592, 0.013959017, 0.070836306, 0.01366812, 0.02302267, 0.013294598, 0.040376954, 0.013295654, 0.01329077, 0.013931723, 0.013666935]\n",
      "DEBUG:gensim.models.ldamodel:updating topics\n",
      "INFO:gensim.models.ldamodel:topic #14 (0.013): 0.000*\"kit\" + 0.000*\"brass\" + 0.000*\"board\" + 0.000*\"g\" + 0.000*\"underground\" + 0.000*\"polic\" + 0.000*\"document\" + 0.000*\"law\" + 0.000*\"secur\" + 0.000*\"dwarf\"\n",
      "INFO:gensim.models.ldamodel:topic #9 (0.013): 0.000*\"board\" + 0.000*\"kit\" + 0.000*\"brass\" + 0.000*\"underground\" + 0.000*\"document\" + 0.000*\"group\" + 0.000*\"law\" + 0.000*\"commun\" + 0.000*\"secur\" + 0.000*\"inform\"\n",
      "INFO:gensim.models.ldamodel:topic #15 (0.040): 0.023*\"kit\" + 0.017*\"brass\" + 0.008*\"dwarf\" + 0.007*\"richard\" + 0.006*\"ha\" + 0.006*\"salli\" + 0.005*\"barbara\" + 0.005*\"grandfath\" + 0.003*\"circumst\" + 0.003*\"garland\"\n",
      "INFO:gensim.models.ldamodel:topic #8 (0.053): 0.017*\"board\" + 0.010*\"g\" + 0.009*\"polic\" + 0.009*\"secur\" + 0.009*\"underground\" + 0.009*\"crime\" + 0.009*\"document\" + 0.007*\"commun\" + 0.006*\"group\" + 0.006*\"inform\"\n",
      "INFO:gensim.models.ldamodel:topic #11 (0.071): 0.025*\"la\" + 0.016*\"monsieur\" + 0.014*\"ti\" + 0.012*\"madam\" + 0.010*\"french\" + 0.010*\"le\" + 0.009*\"thi\" + 0.009*\"honour\" + 0.009*\"hotel\" + 0.008*\"franc\"\n",
      "INFO:gensim.models.ldamodel:topic diff=0.033422, rho=0.218218\n"
     ]
    }
   ],
   "source": [
    "test_ldamodel = test_lda()"
   ]
  },
  {
   "cell_type": "code",
   "execution_count": 110,
   "metadata": {},
   "outputs": [
    {
     "data": {
      "text/plain": [
       "[(16,\n",
       "  '0.000*\"kit\" + 0.000*\"board\" + 0.000*\"brass\" + 0.000*\"law\" + 0.000*\"simpli\" + 0.000*\"ha\" + 0.000*\"richard\" + 0.000*\"inform\" + 0.000*\"g\" + 0.000*\"salli\"'),\n",
       " (14,\n",
       "  '0.000*\"kit\" + 0.000*\"brass\" + 0.000*\"board\" + 0.000*\"g\" + 0.000*\"underground\" + 0.000*\"polic\" + 0.000*\"document\" + 0.000*\"law\" + 0.000*\"secur\" + 0.000*\"dwarf\"'),\n",
       " (17,\n",
       "  '0.000*\"brass\" + 0.000*\"kit\" + 0.000*\"board\" + 0.000*\"underground\" + 0.000*\"dwarf\" + 0.000*\"crime\" + 0.000*\"richard\" + 0.000*\"g\" + 0.000*\"ha\" + 0.000*\"secur\"'),\n",
       " (9,\n",
       "  '0.000*\"board\" + 0.000*\"kit\" + 0.000*\"brass\" + 0.000*\"underground\" + 0.000*\"document\" + 0.000*\"group\" + 0.000*\"law\" + 0.000*\"commun\" + 0.000*\"secur\" + 0.000*\"inform\"'),\n",
       " (5,\n",
       "  '0.000*\"kit\" + 0.000*\"brass\" + 0.000*\"dwarf\" + 0.000*\"richard\" + 0.000*\"board\" + 0.000*\"law\" + 0.000*\"simpli\" + 0.000*\"polic\" + 0.000*\"honour\" + 0.000*\"salli\"'),\n",
       " (4,\n",
       "  '0.034*\"rocket\" + 0.025*\"giant\" + 0.012*\"rat\" + 0.012*\"student\" + 0.011*\"duck\" + 0.011*\"selfish\" + 0.010*\"linnet\" + 0.009*\"thorn\" + 0.009*\"statu\" + 0.009*\"river\"'),\n",
       " (3,\n",
       "  '0.030*\"fairi\" + 0.022*\"donkey\" + 0.014*\"cat\" + 0.014*\"fox\" + 0.011*\"cricket\" + 0.009*\"shark\" + 0.007*\"tomorrow\" + 0.007*\"wooden\" + 0.007*\"farmer\" + 0.007*\"today\"'),\n",
       " (15,\n",
       "  '0.023*\"kit\" + 0.017*\"brass\" + 0.008*\"dwarf\" + 0.007*\"richard\" + 0.006*\"ha\" + 0.006*\"salli\" + 0.005*\"barbara\" + 0.005*\"grandfath\" + 0.003*\"circumst\" + 0.003*\"garland\"'),\n",
       " (8,\n",
       "  '0.017*\"board\" + 0.010*\"g\" + 0.009*\"polic\" + 0.009*\"secur\" + 0.009*\"underground\" + 0.009*\"crime\" + 0.009*\"document\" + 0.007*\"commun\" + 0.006*\"group\" + 0.006*\"inform\"'),\n",
       " (11,\n",
       "  '0.025*\"la\" + 0.016*\"monsieur\" + 0.014*\"ti\" + 0.012*\"madam\" + 0.010*\"french\" + 0.010*\"le\" + 0.009*\"thi\" + 0.009*\"honour\" + 0.009*\"hotel\" + 0.008*\"franc\"')]"
      ]
     },
     "execution_count": 110,
     "metadata": {},
     "output_type": "execute_result"
    }
   ],
   "source": [
    "test_ldamodel.show_topics()"
   ]
  },
  {
   "cell_type": "markdown",
   "metadata": {},
   "source": [
    "# Dynamic Topic Modeling (DTM) Example"
   ]
  },
  {
   "cell_type": "code",
   "execution_count": 97,
   "metadata": {},
   "outputs": [
    {
     "name": "stderr",
     "output_type": "stream",
     "text": [
      "DEBUG:root:test\n"
     ]
    }
   ],
   "source": [
    "logger = logging.getLogger()\n",
    "logger.setLevel(logging.DEBUG)\n",
    "logging.debug(\"test\")"
   ]
  },
  {
   "cell_type": "code",
   "execution_count": 98,
   "metadata": {
    "collapsed": true
   },
   "outputs": [],
   "source": [
    "# Sample data from the dtmmodel documentation\n",
    "test_documents = [[u'senior', u'studios', u'studios', u'studios', u'creators', u'award'\n",
    "              , u'mobile', u'currently', u'challenges', u'senior', u'summary'\n",
    "              , u'senior', u'motivated', u'creative', u'senior', u'performs'\n",
    "              , u'engineering', u'tasks', u'infrastructure', u'focusing', u'primarily'\n",
    "              , u'programming', u'interaction', u'designers', u'engineers'\n",
    "              , u'leadership', u'teams', u'teams', u'crews', u'responsibilities'\n",
    "              , u'engineering', u'quality', u'functional', u'functional', u'teams'\n",
    "              , u'organizing', u'prioritizing', u'technical', u'decisions'\n",
    "              , u'engineering', u'participates', u'participates', u'reviews'\n",
    "              , u'participates', u'hiring', u'conducting', u'interviews'\n",
    "              , u'feedback', u'departments', u'define', u'focusing', u'engineering'\n",
    "              , u'teams', u'crews', u'facilitate', u'engineering', u'departments'\n",
    "              , u'deadlines', u'milestones', u'typically', u'spends', u'designing'\n",
    "              , u'developing', u'updating', u'bugs', u'mentoring', u'engineers'\n",
    "              , u'define', u'schedules', u'milestones', u'participating', u'reviews'\n",
    "              , u'interviews', u'sized', u'teams', u'interacts', u'disciplines'\n",
    "              , u'knowledge', u'skills', u'knowledge', u'knowledge', u'xcode'\n",
    "              , u'scripting', u'debugging', u'skills', u'skills', u'knowledge'\n",
    "              , u'disciplines', u'animation', u'networking', u'expertise', u'competencies'\n",
    "              , u'oral', u'skills', u'management', u'skills', u'proven', u'effectively'\n",
    "              , u'teams', u'deadline', u'environment', u'bachelor', u'minimum', u'shipped'\n",
    "              , u'leadership', u'teams', u'location', u'resumes', u'jobs', u'candidates'\n",
    "              , u'openings', u'jobs'],\n",
    "             \n",
    "             [u'maryland', u'client', u'producers', u'electricity'\n",
    "              , u'operates', u'storage', u'utility', u'retail', u'customers', u'engineering'\n",
    "              , u'consultant', u'maryland', u'summary', u'technical', u'technology'\n",
    "              , u'departments', u'expertise', u'maximizing', u'output', u'reduces'\n",
    "              , u'operating', u'participates', u'areas', u'engineering', u'conducts'\n",
    "              , u'testing', u'solve', u'supports', u'environmental', u'understands'\n",
    "              , u'objectives', u'operates', u'responsibilities', u'handles', u'complex'\n",
    "              , u'engineering', u'aspects', u'monitors', u'quality', u'proficiency'\n",
    "              , u'optimization', u'recommendations', u'supports', u'personnel'\n",
    "              , u'troubleshooting', u'commissioning', u'startup', u'shutdown', u'supports'\n",
    "              , u'procedure', u'operating', u'units', u'develops', u'simulations'\n",
    "              , u'troubleshooting', u'tests', u'enhancing', u'solving', u'develops'\n",
    "              , u'estimates', u'schedules', u'scopes', u'understands', u'technical'\n",
    "              , u'management', u'utilize', u'routine', u'conducts', u'hazards', u'utilizing'\n",
    "              , u'hazard', u'operability', u'methodologies', u'participates', u'startup'\n",
    "              , u'reviews', u'pssr', u'participate', u'teams', u'participate', u'regulatory'\n",
    "              , u'audits', u'define', u'scopes', u'budgets', u'schedules', u'technical'\n",
    "              , u'management', u'environmental', u'awareness', u'interfacing', u'personnel'\n",
    "              , u'interacts', u'regulatory', u'departments', u'input', u'objectives'\n",
    "              , u'identifying', u'introducing', u'concepts', u'solutions', u'peers'\n",
    "              , u'customers', u'coworkers', u'knowledge', u'skills', u'engineering'\n",
    "              , u'quality', u'engineering', u'commissioning', u'startup', u'knowledge'\n",
    "              , u'simulators', u'technologies', u'knowledge', u'engineering', u'techniques'\n",
    "              , u'disciplines', u'leadership', u'skills', u'proven', u'engineers', u'oral'\n",
    "              , u'skills', u'technical', u'skills', u'analytically', u'solve', u'complex'\n",
    "              , u'interpret', u'proficiency', u'simulation', u'knowledge', u'applications'\n",
    "              , u'manipulate', u'applications', u'engineering', u'calculations', u'programs'\n",
    "              , u'matlab', u'excel', u'independently', u'environment', u'proven', u'skills'\n",
    "              , u'effectively', u'multiple', u'tasks', u'planning', u'organizational'\n",
    "              , u'management', u'skills', u'rigzone', u'jobs', u'developer', u'exceptional'\n",
    "              , u'strategies', u'junction', u'exceptional', u'strategies', u'solutions'\n",
    "              , u'solutions', u'biggest', u'insurers', u'operates', u'investment']\n",
    "             \n",
    "             , [u'vegas', u'tasks', u'electrical', u'contracting', u'expertise', u'virtually'\n",
    "                , u'electrical', u'developments', u'institutional', u'utilities', u'technical'\n",
    "                , u'experts', u'relationships', u'credibility', u'contractors', u'utility'\n",
    "                , u'customers', u'customer', u'relationships', u'consistently', u'innovations'\n",
    "                , u'profile', u'construct', u'envision', u'dynamic', u'complex', u'electrical'\n",
    "                , u'management', u'grad', u'internship', u'electrical', u'engineering'\n",
    "                , u'infrastructures', u'engineers', u'documented', u'management', u'engineering'\n",
    "                , u'quality', u'engineering', u'electrical', u'engineers', u'complex', u'distribution'\n",
    "                , u'grounding', u'estimation', u'testing', u'procedures', u'voltage', u'engineering'\n",
    "                , u'troubleshooting', u'installation', u'documentation', u'bsee', u'certification'\n",
    "                , u'electrical', u'voltage', u'cabling', u'electrical', u'engineering', u'candidates'\n",
    "                , u'electrical', u'internships', u'oral', u'skills', u'organizational'\n",
    "                , u'prioritization', u'skills', u'skills', u'excel', u'cadd', u'calculation'\n",
    "                , u'autocad', u'mathcad', u'skills', u'skills', u'customer', u'relationships'\n",
    "                , u'solving', u'ethic', u'motivation', u'tasks', u'budget', u'affirmative'\n",
    "                , u'diversity', u'workforce', u'gender', u'orientation', u'disability', u'disabled'\n",
    "                , u'veteran', u'vietnam', u'veteran', u'qualifying', u'veteran', u'diverse'\n",
    "                , u'candidates', u'respond', u'developing', u'workplace', u'reflects'\n",
    "                , u'diversity', u'communities', u'reviews', u'electrical', u'contracting'\n",
    "                , u'southwest', u'electrical', u'contractors']\n",
    "             \n",
    "             , [u'intern', u'electrical', u'engineering', u'idexx', u'laboratories', u'validating'\n",
    "                , u'idexx', u'integrated', u'hardware', u'entails', u'planning', u'debug'\n",
    "                , u'validation', u'engineers', u'validation', u'methodologies', u'healthcare'\n",
    "                , u'platforms', u'brightest', u'solve', u'challenges', u'innovation'\n",
    "                , u'technology', u'idexx', u'intern', u'idexx', u'interns', u'supplement'\n",
    "                , u'interns', u'teams', u'roles', u'competitive', u'interns', u'idexx'\n",
    "                , u'interns', u'participate', u'internships', u'mentors', u'seminars'\n",
    "                , u'topics', u'leadership', u'workshops', u'relevant', u'planning', u'topics'\n",
    "                , u'intern', u'presentations', u'mixers', u'applicants', u'ineligible'\n",
    "                , u'laboratory', u'compliant', u'idexx', u'laboratories', u'healthcare'\n",
    "                , u'innovation', u'practicing', u'veterinarians', u'diagnostic', u'technology'\n",
    "                , u'idexx', u'enhance', u'veterinarians', u'efficiency', u'economically'\n",
    "                , u'idexx', u'worldwide', u'diagnostic', u'tests', u'tests', u'quality'\n",
    "                , u'headquartered', u'idexx', u'laboratories', u'employs', u'customers'\n",
    "                , u'qualifications', u'applicants', u'idexx', u'interns', u'potential'\n",
    "                , u'demonstrated', u'portfolio', u'recommendation', u'resumes', u'marketing'\n",
    "                , u'location', u'americas', u'verification', u'validation', u'schedule'\n",
    "                , u'overtime', u'idexx', u'laboratories', u'reviews', u'idexx', u'laboratories'\n",
    "                , u'nasdaq', u'healthcare', u'innovation', u'practicing', u'veterinarians']\n",
    "             \n",
    "             , [u'location', u'duration', u'temp', u'verification', u'validation', u'tester'\n",
    "                , u'verification', u'validation', u'middleware', u'specifically', u'testing'\n",
    "                , u'applications', u'clinical', u'laboratory', u'regulated', u'environment'\n",
    "                , u'responsibilities', u'complex', u'hardware', u'testing', u'clinical'\n",
    "                , u'analyzers', u'laboratory', u'graphical', u'interfaces', u'complex'\n",
    "                , u'sample', u'sequencing', u'protocols', u'developers', u'correction'\n",
    "                , u'tracking', u'tool', u'timely', u'troubleshoot', u'testing', u'functional'\n",
    "                , u'manual', u'automated', u'participate', u'ongoing', u'testing', u'coverage'\n",
    "                , u'planning', u'documentation', u'testing', u'validation', u'corrections'\n",
    "                , u'monitor', u'implementation', u'recurrence', u'operating', u'statistical'\n",
    "                , u'quality', u'testing', u'global', u'multi', u'teams', u'travel', u'skills'\n",
    "                , u'concepts', u'waterfall', u'agile', u'methodologies', u'debugging'\n",
    "                , u'skills', u'complex', u'automated', u'instrumentation', u'environment'\n",
    "                , u'hardware', u'mechanical', u'components', u'tracking', u'lifecycle'\n",
    "                , u'management', u'quality', u'organize', u'define', u'priorities'\n",
    "                , u'organize', u'supervision', u'aggressive', u'deadlines', u'ambiguity'\n",
    "                , u'analyze', u'complex', u'situations', u'concepts', u'technologies'\n",
    "                , u'verbal', u'skills', u'effectively', u'technical', u'clinical'\n",
    "                , u'diverse', u'strategy', u'clinical', u'chemistry', u'analyzer'\n",
    "                , u'laboratory', u'middleware', u'basic', u'automated', u'testing'\n",
    "                , u'biomedical', u'engineering', u'technologists', u'laboratory'\n",
    "                , u'technology', u'availability', u'click', u'attach']\n",
    "             \n",
    "             ,[u'scientist', u'linux', u'asrc', u'scientist', u'linux', u'asrc'\n",
    "               , u'technology', u'solutions', u'subsidiary', u'asrc', u'engineering'\n",
    "               , u'technology', u'contracts', u'multiple', u'agencies', u'scientists'\n",
    "               , u'engineers', u'management', u'personnel', u'allows', u'solutions'\n",
    "               , u'complex', u'aeronautics', u'aviation', u'management', u'aviation'\n",
    "               , u'engineering', u'hughes', u'technical', u'technical', u'aviation'\n",
    "               , u'evaluation', u'engineering', u'management', u'technical', u'terminal'\n",
    "               , u'surveillance', u'programs', u'currently', u'scientist', u'travel'\n",
    "               , u'responsibilities', u'develops', u'technology', u'modifies'\n",
    "               , u'technical', u'complex', u'reviews', u'draft', u'conformity'\n",
    "               , u'completeness', u'testing', u'interface', u'hardware', u'regression'\n",
    "               , u'impact', u'reliability', u'maintainability', u'factors'\n",
    "               , u'standardization', u'skills', u'travel', u'programming'\n",
    "               , u'linux', u'environment', u'cisco', u'knowledge', u'terminal'\n",
    "               , u'environment', u'clearance', u'clearance', u'input', u'output'\n",
    "               , u'digital', u'automatic', u'terminal', u'management', u'controller'\n",
    "               , u'termination', u'testing', u'evaluating', u'policies', u'procedure'\n",
    "               , u'interface', u'installation', u'verification', u'certification'\n",
    "               , u'core', u'avionic', u'programs', u'knowledge', u'procedural'\n",
    "               , u'testing', u'interfacing', u'hardware', u'regression', u'impact'\n",
    "               , u'reliability', u'maintainability', u'factors', u'standardization'\n",
    "               , u'missions', u'asrc', u'subsidiaries', u'affirmative', u'employers'\n",
    "               , u'applicants', u'disability', u'veteran', u'technology', u'location'\n",
    "               , u'airport', u'bachelor', u'schedule', u'travel', u'contributor'\n",
    "               , u'management', u'asrc', u'reviews']\n",
    "             \n",
    "             , [u'technical', u'solarcity', u'niche', u'vegas', u'overview'\n",
    "                , u'resolving', u'customer', u'clients', u'expanding', u'engineers'\n",
    "                , u'developers', u'responsibilities', u'knowledge', u'planning'\n",
    "                , u'adapt', u'dynamic', u'environment', u'inventive', u'creative'\n",
    "                , u'solarcity', u'lifecycle', u'responsibilities', u'technical'\n",
    "                , u'analyzing', u'diagnosing', u'troubleshooting', u'customers'\n",
    "                , u'ticketing', u'console', u'escalate', u'knowledge', u'engineering'\n",
    "                , u'timely', u'basic', u'phone', u'functionality', u'customer'\n",
    "                , u'tracking', u'knowledgebase', u'rotation', u'configure'\n",
    "                , u'deployment', u'sccm', u'technical', u'deployment', u'deploy'\n",
    "                , u'hardware', u'solarcity', u'bachelor', u'knowledge', u'dell'\n",
    "                , u'laptops', u'analytical', u'troubleshooting', u'solving'\n",
    "                , u'skills', u'knowledge', u'databases', u'preferably', u'server'\n",
    "                , u'preferably', u'monitoring', u'suites', u'documentation'\n",
    "                , u'procedures', u'knowledge', u'entries', u'verbal', u'skills'\n",
    "                , u'customer', u'skills', u'competitive', u'solar', u'package'\n",
    "                , u'insurance', u'vacation', u'savings', u'referral', u'eligibility'\n",
    "                , u'equity', u'performers', u'solarcity', u'affirmative'\n",
    "                , u'diversity', u'workplace', u'applicants', u'orientation'\n",
    "                , u'disability', u'veteran', u'careerrookie']\n",
    "             \n",
    "             , [u'embedded', u'exelis', u'junction', u'exelis', u'embedded'\n",
    "                , u'acquisition', u'networking', u'capabilities', u'classified'\n",
    "                , u'customer', u'motivated', u'develops', u'tests', u'innovative'\n",
    "                , u'solutions', u'minimal', u'supervision', u'paced', u'environment'\n",
    "                , u'enjoys', u'assignments', u'interact', u'multi', u'disciplined'\n",
    "                , u'challenging', u'focused', u'embedded', u'developments'\n",
    "                , u'spanning', u'engineering', u'lifecycle', u'specification'\n",
    "                , u'enhancement', u'applications', u'embedded', u'freescale'\n",
    "                , u'applications', u'android', u'platforms', u'interface'\n",
    "                , u'customers', u'developers', u'refine', u'specifications'\n",
    "                , u'architectures', u'java', u'programming', u'scripts'\n",
    "                , u'python', u'debug', u'debugging', u'emulators', u'regression'\n",
    "                , u'revisions', u'specialized', u'setups', u'capabilities'\n",
    "                , u'subversion', u'technical', u'documentation', u'multiple'\n",
    "                , u'engineering', u'techexpousa', u'reviews']\n",
    "             \n",
    "             , [u'modeler', u'semantic', u'modeling', u'models', u'skills', u'ontology'\n",
    "                , u'resource', u'framework', u'schema', u'technologies', u'hadoop'\n",
    "                , u'warehouse', u'oracle', u'relational', u'artifacts', u'models'\n",
    "                , u'dictionaries', u'models', u'interface', u'specifications'\n",
    "                , u'documentation', u'harmonization', u'mappings', u'aligned'\n",
    "                , u'coordinate', u'technical', u'peer', u'reviews', u'stakeholder'\n",
    "                , u'communities', u'impact', u'domains', u'relationships'\n",
    "                , u'interdependencies', u'models', u'define', u'analyze', u'legacy'\n",
    "                , u'models', u'corporate', u'databases', u'architectural', u'alignment'\n",
    "                , u'customer', u'expertise', u'harmonization', u'modeling', u'modeling'\n",
    "                , u'consulting', u'stakeholders', u'quality', u'models', u'storage'\n",
    "                , u'agile', u'specifically', u'focus', u'modeling', u'qualifications'\n",
    "                , u'bachelors', u'accredited', u'modeler', u'encompass', u'evaluation'\n",
    "                , u'skills', u'knowledge', u'modeling', u'techniques', u'resource'\n",
    "                , u'framework', u'schema', u'technologies', u'unified', u'modeling'\n",
    "                , u'technologies', u'schemas', u'ontologies', u'sybase', u'knowledge'\n",
    "                , u'skills', u'interpersonal', u'skills', u'customers', u'clearance'\n",
    "                , u'applicants', u'eligibility', u'classified', u'clearance', u'polygraph'\n",
    "                , u'techexpousa', u'solutions', u'partnership', u'solutions', u'integration']\n",
    "             \n",
    "             , [u'technologies', u'junction', u'develops', u'maintains', u'enhances'\n",
    "                , u'complex', u'diverse', u'intensive', u'analytics', u'algorithm'\n",
    "                , u'manipulation', u'management', u'documented', u'individually'\n",
    "                , u'reviews', u'tests', u'components', u'adherence', u'resolves'\n",
    "                , u'utilizes', u'methodologies', u'environment', u'input', u'components'\n",
    "                , u'hardware', u'offs', u'reuse', u'cots', u'gots', u'synthesis'\n",
    "                , u'components', u'tasks', u'individually', u'analyzes', u'modifies'\n",
    "                , u'debugs', u'corrects', u'integrates', u'operating', u'environments'\n",
    "                , u'develops', u'queries', u'databases', u'repositories', u'recommendations'\n",
    "                , u'improving', u'documentation', u'develops', u'implements', u'algorithms'\n",
    "                , u'functional', u'assists', u'developing', u'executing', u'procedures'\n",
    "                , u'components', u'reviews', u'documentation', u'solutions', u'analyzing'\n",
    "                , u'conferring', u'users', u'engineers', u'analyzing', u'investigating'\n",
    "                , u'areas', u'adapt', u'hardware', u'mathematical', u'models', u'predict'\n",
    "                , u'outcome', u'implement', u'complex', u'database', u'repository'\n",
    "                , u'interfaces', u'queries', u'bachelors', u'accredited', u'substituted'\n",
    "                , u'bachelors', u'firewalls', u'ipsec', u'vpns', u'technology'\n",
    "                , u'administering', u'servers', u'apache', u'jboss', u'tomcat'\n",
    "                , u'developing', u'interfaces', u'firefox', u'internet', u'explorer'\n",
    "                , u'operating', u'mainframe', u'linux', u'solaris', u'virtual'\n",
    "                , u'scripting', u'programming', u'oriented', u'programming', u'ajax'\n",
    "                , u'script', u'procedures', u'cobol', u'cognos', u'fusion', u'focus'\n",
    "                , u'html', u'java', u'java', u'script', u'jquery', u'perl', u'visual'\n",
    "                , u'basic', u'powershell', u'cots', u'cots', u'oracle', u'apex'\n",
    "                , u'integration', u'competitive', u'package', u'bonus', u'corporate'\n",
    "                , u'equity', u'tuition', u'reimbursement', u'referral', u'bonus'\n",
    "                , u'holidays', u'insurance', u'flexible', u'disability', u'insurance'\n",
    "                , u'technologies', u'disability', u'accommodation', u'recruiter', u'techexpousa']\n",
    "            ]"
   ]
  },
  {
   "cell_type": "code",
   "execution_count": 99,
   "metadata": {},
   "outputs": [
    {
     "name": "stderr",
     "output_type": "stream",
     "text": [
      "INFO:gensim.corpora.textcorpus:Initializing dictionary\n",
      "INFO:gensim.corpora.dictionary:adding document #0 to Dictionary(0 unique tokens: [])\n",
      "INFO:gensim.corpora.dictionary:built Dictionary(546 unique tokens: ['animation', 'award', 'bachelor', 'bugs', 'candidates']...) from 10 documents (total 1112 corpus positions)\n"
     ]
    }
   ],
   "source": [
    "dtm_corpus = DTMcorpus(test_documents)"
   ]
  },
  {
   "cell_type": "code",
   "execution_count": 100,
   "metadata": {
    "collapsed": true
   },
   "outputs": [],
   "source": [
    "time_seq = [3, 7]  # first 3 documents are from time slice one \n",
    "#  and the other 7 are from the second time slice."
   ]
  },
  {
   "cell_type": "code",
   "execution_count": 101,
   "metadata": {},
   "outputs": [
    {
     "data": {
      "text/plain": [
       "__main__.DTMcorpus"
      ]
     },
     "execution_count": 101,
     "metadata": {},
     "output_type": "execute_result"
    }
   ],
   "source": [
    "type(dtm_corpus)"
   ]
  },
  {
   "cell_type": "code",
   "execution_count": 102,
   "metadata": {},
   "outputs": [
    {
     "name": "stderr",
     "output_type": "stream",
     "text": [
      "INFO:gensim.models.wrappers.dtmmodel:serializing temporary corpus to /var/folders/s2/y23_8q5n12d343lf0z44j9mm0000gn/T/58ab76_train-mult.dat\n",
      "INFO:gensim.corpora.bleicorpus:no word id mapping provided; initializing from corpus\n",
      "INFO:gensim.corpora.bleicorpus:storing corpus in Blei's LDA-C format into /var/folders/s2/y23_8q5n12d343lf0z44j9mm0000gn/T/58ab76_train-mult.dat\n",
      "DEBUG:smart_open.smart_open_lib:{'kw': {}, 'mode': 'wb', 'uri': '/var/folders/s2/y23_8q5n12d343lf0z44j9mm0000gn/T/58ab76_train-mult.dat'}\n",
      "DEBUG:smart_open.smart_open_lib:encoding_wrapper: {'errors': 'strict', 'encoding': None, 'mode': 'wb', 'fileobj': <_io.BufferedWriter name='/var/folders/s2/y23_8q5n12d343lf0z44j9mm0000gn/T/58ab76_train-mult.dat'>}\n",
      "INFO:gensim.corpora.bleicorpus:saving vocabulary of 546 words to /var/folders/s2/y23_8q5n12d343lf0z44j9mm0000gn/T/58ab76_train-mult.dat.vocab\n",
      "DEBUG:smart_open.smart_open_lib:{'kw': {}, 'mode': 'wb', 'uri': '/var/folders/s2/y23_8q5n12d343lf0z44j9mm0000gn/T/58ab76_train-mult.dat.vocab'}\n",
      "DEBUG:smart_open.smart_open_lib:encoding_wrapper: {'errors': 'strict', 'encoding': None, 'mode': 'wb', 'fileobj': <_io.BufferedWriter name='/var/folders/s2/y23_8q5n12d343lf0z44j9mm0000gn/T/58ab76_train-mult.dat.vocab'>}\n",
      "DEBUG:smart_open.smart_open_lib:{'kw': {}, 'mode': 'wb', 'uri': '/var/folders/s2/y23_8q5n12d343lf0z44j9mm0000gn/T/58ab76_train-seq.dat'}\n",
      "DEBUG:smart_open.smart_open_lib:encoding_wrapper: {'errors': 'strict', 'encoding': None, 'mode': 'wb', 'fileobj': <_io.BufferedWriter name='/var/folders/s2/y23_8q5n12d343lf0z44j9mm0000gn/T/58ab76_train-seq.dat'>}\n",
      "INFO:gensim.models.wrappers.dtmmodel:training DTM with args --ntopics=20 --model=dtm  --mode=fit --initialize_lda=true --corpus_prefix=/var/folders/s2/y23_8q5n12d343lf0z44j9mm0000gn/T/58ab76_train --outname=/var/folders/s2/y23_8q5n12d343lf0z44j9mm0000gn/T/58ab76_train_out --alpha=0.01 --lda_max_em_iter=10 --lda_sequence_min_iter=6  --lda_sequence_max_iter=20 --top_chain_var=0.005 --rng_seed=0 \n",
      "INFO:gensim.models.wrappers.dtmmodel:Running command ['/Users/jmc/src/dtm/dtm_release/dtm/main', '--ntopics=20', '--model=dtm', '--mode=fit', '--initialize_lda=true', '--corpus_prefix=/var/folders/s2/y23_8q5n12d343lf0z44j9mm0000gn/T/58ab76_train', '--outname=/var/folders/s2/y23_8q5n12d343lf0z44j9mm0000gn/T/58ab76_train_out', '--alpha=0.01', '--lda_max_em_iter=10', '--lda_sequence_min_iter=6', '--lda_sequence_max_iter=20', '--top_chain_var=0.005', '--rng_seed=0']\n",
      "DEBUG:gensim.utils:COMMAND: () {'args': ['/Users/jmc/src/dtm/dtm_release/dtm/main', '--ntopics=20', '--model=dtm', '--mode=fit', '--initialize_lda=true', '--corpus_prefix=/var/folders/s2/y23_8q5n12d343lf0z44j9mm0000gn/T/58ab76_train', '--outname=/var/folders/s2/y23_8q5n12d343lf0z44j9mm0000gn/T/58ab76_train_out', '--alpha=0.01', '--lda_max_em_iter=10', '--lda_sequence_min_iter=6', '--lda_sequence_max_iter=20', '--top_chain_var=0.005', '--rng_seed=0'], 'stderr': -1}\n"
     ]
    }
   ],
   "source": [
    "dtm_model = DtmModel(DTM_PATH\n",
    "                  , dtm_corpus\n",
    "                  , time_seq\n",
    "                  , num_topics=20\n",
    "                  , id2word=dtm_corpus.dictionary\n",
    "                  , initialize_lda=True)"
   ]
  },
  {
   "cell_type": "code",
   "execution_count": 103,
   "metadata": {},
   "outputs": [
    {
     "name": "stdout",
     "output_type": "stream",
     "text": [
      "Distribution of Topic 0 0.000060\n",
      "Distribution of Topic 1 0.000060\n"
     ]
    }
   ],
   "source": [
    "doc_number = 1\n",
    "num_topics = 2\n",
    "\n",
    "for i in range(0, num_topics):\n",
    "    print (\"Distribution of Topic %d %f\" % (i, dtm_model.gamma_[doc_number, i]))"
   ]
  },
  {
   "cell_type": "markdown",
   "metadata": {},
   "source": [
    "# Dynamic Influence Models (DIM) Example"
   ]
  },
  {
   "cell_type": "code",
   "execution_count": 104,
   "metadata": {},
   "outputs": [
    {
     "name": "stderr",
     "output_type": "stream",
     "text": [
      "INFO:gensim.models.wrappers.dtmmodel:serializing temporary corpus to /var/folders/s2/y23_8q5n12d343lf0z44j9mm0000gn/T/62850d_train-mult.dat\n",
      "INFO:gensim.corpora.bleicorpus:no word id mapping provided; initializing from corpus\n",
      "INFO:gensim.corpora.bleicorpus:storing corpus in Blei's LDA-C format into /var/folders/s2/y23_8q5n12d343lf0z44j9mm0000gn/T/62850d_train-mult.dat\n",
      "DEBUG:smart_open.smart_open_lib:{'kw': {}, 'mode': 'wb', 'uri': '/var/folders/s2/y23_8q5n12d343lf0z44j9mm0000gn/T/62850d_train-mult.dat'}\n",
      "DEBUG:smart_open.smart_open_lib:encoding_wrapper: {'errors': 'strict', 'encoding': None, 'mode': 'wb', 'fileobj': <_io.BufferedWriter name='/var/folders/s2/y23_8q5n12d343lf0z44j9mm0000gn/T/62850d_train-mult.dat'>}\n",
      "INFO:gensim.corpora.bleicorpus:saving vocabulary of 546 words to /var/folders/s2/y23_8q5n12d343lf0z44j9mm0000gn/T/62850d_train-mult.dat.vocab\n",
      "DEBUG:smart_open.smart_open_lib:{'kw': {}, 'mode': 'wb', 'uri': '/var/folders/s2/y23_8q5n12d343lf0z44j9mm0000gn/T/62850d_train-mult.dat.vocab'}\n",
      "DEBUG:smart_open.smart_open_lib:encoding_wrapper: {'errors': 'strict', 'encoding': None, 'mode': 'wb', 'fileobj': <_io.BufferedWriter name='/var/folders/s2/y23_8q5n12d343lf0z44j9mm0000gn/T/62850d_train-mult.dat.vocab'>}\n",
      "DEBUG:smart_open.smart_open_lib:{'kw': {}, 'mode': 'wb', 'uri': '/var/folders/s2/y23_8q5n12d343lf0z44j9mm0000gn/T/62850d_train-seq.dat'}\n",
      "DEBUG:smart_open.smart_open_lib:encoding_wrapper: {'errors': 'strict', 'encoding': None, 'mode': 'wb', 'fileobj': <_io.BufferedWriter name='/var/folders/s2/y23_8q5n12d343lf0z44j9mm0000gn/T/62850d_train-seq.dat'>}\n",
      "INFO:gensim.models.wrappers.dtmmodel:training DTM with args --ntopics=2 --model=fixed  --mode=fit --initialize_lda=true --corpus_prefix=/var/folders/s2/y23_8q5n12d343lf0z44j9mm0000gn/T/62850d_train --outname=/var/folders/s2/y23_8q5n12d343lf0z44j9mm0000gn/T/62850d_train_out --alpha=0.01 --lda_max_em_iter=10 --lda_sequence_min_iter=6  --lda_sequence_max_iter=20 --top_chain_var=0.005 --rng_seed=0 \n",
      "INFO:gensim.models.wrappers.dtmmodel:Running command ['/Users/jmc/src/dtm/dtm_release/dtm/main', '--ntopics=2', '--model=fixed', '--mode=fit', '--initialize_lda=true', '--corpus_prefix=/var/folders/s2/y23_8q5n12d343lf0z44j9mm0000gn/T/62850d_train', '--outname=/var/folders/s2/y23_8q5n12d343lf0z44j9mm0000gn/T/62850d_train_out', '--alpha=0.01', '--lda_max_em_iter=10', '--lda_sequence_min_iter=6', '--lda_sequence_max_iter=20', '--top_chain_var=0.005', '--rng_seed=0']\n",
      "DEBUG:gensim.utils:COMMAND: () {'args': ['/Users/jmc/src/dtm/dtm_release/dtm/main', '--ntopics=2', '--model=fixed', '--mode=fit', '--initialize_lda=true', '--corpus_prefix=/var/folders/s2/y23_8q5n12d343lf0z44j9mm0000gn/T/62850d_train', '--outname=/var/folders/s2/y23_8q5n12d343lf0z44j9mm0000gn/T/62850d_train_out', '--alpha=0.01', '--lda_max_em_iter=10', '--lda_sequence_min_iter=6', '--lda_sequence_max_iter=20', '--top_chain_var=0.005', '--rng_seed=0'], 'stderr': -1}\n"
     ]
    }
   ],
   "source": [
    "dim_model = DtmModel(DTM_PATH, dtm_corpus, time_seq, num_topics=2,\n",
    "                 id2word=dtm_corpus.dictionary, initialize_lda=True, model='fixed')"
   ]
  },
  {
   "cell_type": "code",
   "execution_count": 105,
   "metadata": {},
   "outputs": [
    {
     "data": {
      "text/plain": [
       "2.4833487741304054e-48"
      ]
     },
     "execution_count": 105,
     "metadata": {},
     "output_type": "execute_result"
    }
   ],
   "source": [
    "document_no = 1 #document 2\n",
    "topic_no = 1 #topic number 2\n",
    "time_slice = 0 #time slice 1\n",
    "\n",
    "dim_model.influences_time[time_slice][document_no][topic_no]"
   ]
  },
  {
   "cell_type": "markdown",
   "metadata": {},
   "source": [
    "<hr style=\"height: 5px\"/>"
   ]
  },
  {
   "cell_type": "markdown",
   "metadata": {},
   "source": [
    "<hr style=\"height: 5px\"/>"
   ]
  },
  {
   "cell_type": "markdown",
   "metadata": {},
   "source": [
    "<hr style=\"height: 5px\"/>"
   ]
  },
  {
   "cell_type": "markdown",
   "metadata": {},
   "source": [
    "# Find Books Available for Corpus Membership"
   ]
  },
  {
   "cell_type": "code",
   "execution_count": 29,
   "metadata": {
    "collapsed": true
   },
   "outputs": [],
   "source": [
    "gbook_ids = get_book_ids()"
   ]
  },
  {
   "cell_type": "code",
   "execution_count": 30,
   "metadata": {},
   "outputs": [
    {
     "data": {
      "text/plain": [
       "39684"
      ]
     },
     "execution_count": 30,
     "metadata": {},
     "output_type": "execute_result"
    }
   ],
   "source": [
    "len(gbook_ids)"
   ]
  },
  {
   "cell_type": "code",
   "execution_count": 31,
   "metadata": {},
   "outputs": [],
   "source": [
    "gbook_id_path_infos = [get_book_id_path_info(id) for id in gbook_ids]"
   ]
  },
  {
   "cell_type": "code",
   "execution_count": 32,
   "metadata": {},
   "outputs": [
    {
     "data": {
      "text/plain": [
       "39684"
      ]
     },
     "execution_count": 32,
     "metadata": {},
     "output_type": "execute_result"
    }
   ],
   "source": [
    "len(gbook_id_path_infos)"
   ]
  },
  {
   "cell_type": "code",
   "execution_count": 33,
   "metadata": {},
   "outputs": [],
   "source": [
    "gbook_id_paths = [(id, path) for id, path, error in gbook_id_path_infos\n",
    "                  if error == '']"
   ]
  },
  {
   "cell_type": "code",
   "execution_count": 34,
   "metadata": {},
   "outputs": [
    {
     "data": {
      "text/plain": [
       "39663"
      ]
     },
     "execution_count": 34,
     "metadata": {},
     "output_type": "execute_result"
    }
   ],
   "source": [
    "len(gbook_id_paths)"
   ]
  },
  {
   "cell_type": "code",
   "execution_count": 35,
   "metadata": {},
   "outputs": [],
   "source": [
    "gbooks = [get_book_from_path(id, path, do_include_content=False)\n",
    "          for (id, path) in gbook_id_paths]"
   ]
  },
  {
   "cell_type": "code",
   "execution_count": 36,
   "metadata": {},
   "outputs": [],
   "source": [
    "gbooks_valid = [book for book in gbooks\n",
    "                if book['error'] == ''\n",
    "                    and (book['year'] is not None)\n",
    "                    and int(book['year']) >= GUTENBERG_MIN_DECADE\n",
    "                    and int(book['year']) <= GUTENBERG_MAX_DECADE\n",
    "               ]"
   ]
  },
  {
   "cell_type": "code",
   "execution_count": 37,
   "metadata": {},
   "outputs": [
    {
     "data": {
      "text/plain": [
       "27001"
      ]
     },
     "execution_count": 37,
     "metadata": {},
     "output_type": "execute_result"
    }
   ],
   "source": [
    "len(gbooks_valid)"
   ]
  },
  {
   "cell_type": "code",
   "execution_count": 38,
   "metadata": {},
   "outputs": [],
   "source": [
    "decade_cntr = Counter([get_decade(int(book['year']))\n",
    "                                        for book in gbooks_valid\n",
    "                                        if int(book['year']) <= 2018])"
   ]
  },
  {
   "cell_type": "code",
   "execution_count": 39,
   "metadata": {},
   "outputs": [
    {
     "data": {
      "text/plain": [
       "52"
      ]
     },
     "execution_count": 39,
     "metadata": {},
     "output_type": "execute_result"
    }
   ],
   "source": [
    "len(decade_cntr)"
   ]
  },
  {
   "cell_type": "code",
   "execution_count": 40,
   "metadata": {},
   "outputs": [
    {
     "name": "stdout",
     "output_type": "stream",
     "text": [
      "1500s: 15\n",
      "1510s: 10\n",
      "1520s: 9\n",
      "1530s: 13\n",
      "1540s: 4\n",
      "1550s: 22\n",
      "1560s: 22\n",
      "1570s: 23\n",
      "1580s: 18\n",
      "1590s: 32\n",
      "1600s: 29\n",
      "1610s: 23\n",
      "1620s: 17\n",
      "1630s: 17\n",
      "1640s: 22\n",
      "1650s: 22\n",
      "1660s: 95\n",
      "1670s: 20\n",
      "1680s: 38\n",
      "1690s: 14\n",
      "1700s: 32\n",
      "1710s: 37\n",
      "1720s: 26\n",
      "1730s: 27\n",
      "1740s: 56\n",
      "1750s: 49\n",
      "1760s: 65\n",
      "1770s: 84\n",
      "1780s: 82\n",
      "1790s: 128\n",
      "1800s: 185\n",
      "1810s: 237\n",
      "1820s: 360\n",
      "1830s: 456\n",
      "1840s: 574\n",
      "1850s: 1040\n",
      "1860s: 1030\n",
      "1870s: 1216\n",
      "1880s: 1929\n",
      "1890s: 3197\n",
      "1900s: 4103\n",
      "1910s: 5356\n",
      "1920s: 1868\n",
      "1930s: 217\n",
      "1940s: 149\n",
      "1950s: 439\n",
      "1960s: 274\n",
      "1970s: 43\n",
      "1980s: 28\n",
      "1990s: 192\n",
      "2000s: 2919\n",
      "2010s: 138\n"
     ]
    }
   ],
   "source": [
    "for decade in sorted(decade_cntr.keys()):\n",
    "    print(f'{decade}s: {decade_cntr[decade]}')"
   ]
  },
  {
   "cell_type": "code",
   "execution_count": 41,
   "metadata": {},
   "outputs": [
    {
     "data": {
      "text/plain": [
       "['A Collection of Scotch Proverbs',\n",
       " 'Two Years in the French West Indies',\n",
       " 'Jerome Cardan',\n",
       " 'Stolen Treasure',\n",
       " 'History of the Wars, Books I and II (of 8)',\n",
       " 'The Wit and Humor of America, Volume IV. (of X.)',\n",
       " 'The Golden Calf, Which the World Adores, and Desires',\n",
       " 'A Short View of the Frauds and Abuses Committed by Apothecaries',\n",
       " \"A Plain and Easie Method For Preserving (By God's Blessing)\",\n",
       " 'Loimologia: Or, an Historical Account of the Plague in London in 1665',\n",
       " 'A Day with John Milton',\n",
       " 'Bride of Lammermoor',\n",
       " 'Meteorology',\n",
       " 'Brief Lives (Vol. 2 of 2)',\n",
       " 'Brief Lives (Vol. 1 of 2)',\n",
       " 'Lives of the Poets: Gay, Thomson, Young, and Others',\n",
       " 'Tea Drinking in 18th-Century America: Its Etiquette and Equipage',\n",
       " 'Diary of Samuel Pepys, June/July 1668',\n",
       " 'Diary of Samuel Pepys, 1669',\n",
       " 'Diary of Samuel Pepys, Apr/May 1669',\n",
       " 'Diary of Samuel Pepys, August 1668',\n",
       " 'Diary of Samuel Pepys, November 1668',\n",
       " 'Diary of Samuel Pepys, December 1668',\n",
       " 'Diary of Samuel Pepys, 1668',\n",
       " 'Diary of Samuel Pepys, September/October 1668',\n",
       " 'Diary of Samuel Pepys, July 1667',\n",
       " 'Diary of Samuel Pepys, 1666',\n",
       " 'Diary of Samuel Pepys, May 1667',\n",
       " 'Diary of Samuel Pepys, June 1667',\n",
       " 'Diary of Samuel Pepys, December 1666',\n",
       " 'Diary of Samuel Pepys, August 1667',\n",
       " 'Diary of Samuel Pepys, May/June 1666',\n",
       " 'Diary of Samuel Pepys, 1665',\n",
       " 'Diary of Samuel Pepys, August/September 1666',\n",
       " 'Diary of Samuel Pepys, October 1665',\n",
       " 'Diary of Samuel Pepys, November 1666',\n",
       " 'Diary of Samuel Pepys, October 1666',\n",
       " 'Diary of Samuel Pepys, November/December 1665',\n",
       " 'Diary of Samuel Pepys, July 1666',\n",
       " 'Diary of Samuel Pepys, November 1667',\n",
       " 'Diary of Samuel Pepys, December 1667',\n",
       " 'Diary of Samuel Pepys, 1667',\n",
       " 'Diary of Samuel Pepys, April 1668',\n",
       " 'Diary of Samuel Pepys, October 1667',\n",
       " 'Diary of Samuel Pepys, September 1667',\n",
       " 'Diary of Samuel Pepys, May 1668',\n",
       " 'Diary of Samuel Pepys, June/July 1664',\n",
       " 'Diary of Samuel Pepys, April/May 1664',\n",
       " 'Diary of Samuel Pepys, May/June 1663',\n",
       " 'Diary of Samuel Pepys, November/December 1663',\n",
       " 'Diary of Samuel Pepys, September/October 1663',\n",
       " 'Diary of Samuel Pepys, July/August 1663',\n",
       " 'Diary of Samuel Pepys, 1663',\n",
       " 'Diary of Samuel Pepys, November/December 1661',\n",
       " 'Diary of Samuel Pepys, November/December 1662',\n",
       " 'Diary of Samuel Pepys, September/October 1662',\n",
       " 'Diary of Samuel Pepys, 1661',\n",
       " 'Diary of Samuel Pepys, 1662',\n",
       " 'Diary of Samuel Pepys, May/June 1662',\n",
       " 'Diary of Samuel Pepys, July/August 1662',\n",
       " 'Diary of Samuel Pepys, June/July 1660',\n",
       " 'Diary of Samuel Pepys, 1660',\n",
       " 'Diary of Samuel Pepys, October/November/December 1660',\n",
       " 'Diary of Samuel Pepys, August/September 1660',\n",
       " 'Diary of Samuel Pepys, May 1660',\n",
       " 'Diary of Samuel Pepys, June/July/August 1661',\n",
       " 'Diary of Samuel Pepys, September/October 1661',\n",
       " 'Diary of Samuel Pepys, April/May 1661',\n",
       " 'Diary of Samuel Pepys, December 1664',\n",
       " 'Diary of Samuel Pepys, 1664',\n",
       " 'Diary of Samuel Pepys, August 1665',\n",
       " 'Diary of Samuel Pepys, May/June 1665',\n",
       " 'Diary of Samuel Pepys, October/November 1664',\n",
       " 'Diary of Samuel Pepys, August/September 1664',\n",
       " 'Diary of Samuel Pepys, July 1665',\n",
       " 'Diary of Samuel Pepys, September 1665',\n",
       " 'The Town',\n",
       " 'Notes and Queries, Number 166, January 1, 1853',\n",
       " 'Notes and Queries, Number 169, January 22, 1853',\n",
       " 'In the Hands of the Malays, and Other Stories',\n",
       " 'The Age of Pope',\n",
       " 'The Age of Tennyson',\n",
       " 'A Brief History of Element Discovery, Synthesis, and Analysis',\n",
       " 'The Works of Robert Louis Stevenson - Swanston Edition Vol. XXII (of 25)',\n",
       " 'The Black Moth',\n",
       " 'The Memoirs of Madame de Montespan, Volume I.',\n",
       " 'The History of Sabatai Sevi',\n",
       " 'The Memoirs of Madame de Montespan, Complete',\n",
       " 'History of Phosphorus',\n",
       " 'The Introduction of Self-Registering Meteorological Instruments',\n",
       " \"The Valet's Tragedy and Other Stories\",\n",
       " 'Philosophical Transactions of the Royal Society - Vol 1 - 1666',\n",
       " 'The Tree That Saved Connecticut',\n",
       " 'The Works of Samuel Johnson, LL.D. in Nine Volumes',\n",
       " 'The Memoirs of Count Grammont, Volume 4']"
      ]
     },
     "execution_count": 41,
     "metadata": {},
     "output_type": "execute_result"
    }
   ],
   "source": [
    "[book['title'] for book in gbooks_valid if get_decade(int(book['year'])) == 1660]"
   ]
  },
  {
   "cell_type": "code",
   "execution_count": 42,
   "metadata": {},
   "outputs": [
    {
     "data": {
      "text/plain": [
       "27001"
      ]
     },
     "execution_count": 42,
     "metadata": {},
     "output_type": "execute_result"
    }
   ],
   "source": [
    "sum([v for k, v in decade_cntr.items() if k >= GUTENBERG_MIN_DECADE and k <= GUTENBERG_MAX_DECADE])"
   ]
  },
  {
   "cell_type": "code",
   "execution_count": 43,
   "metadata": {},
   "outputs": [],
   "source": [
    "decade_logp1 = [(k, 1 + log10(decade_cntr[k]))\n",
    "                for k in sorted(decade_cntr.keys())\n",
    "                if k >= GUTENBERG_MIN_DECADE and k <= GUTENBERG_MAX_DECADE]"
   ]
  },
  {
   "cell_type": "code",
   "execution_count": 44,
   "metadata": {
    "scrolled": true
   },
   "outputs": [
    {
     "data": {
      "image/png": "[encoded data removed]",
      "text/plain": [
       "<matplotlib.figure.Figure at 0x1a20c66f28>"
      ]
     },
     "metadata": {},
     "output_type": "display_data"
    }
   ],
   "source": [
    "gxlabels = [p[0] for p in decade_logp1]\n",
    "gyvalues = [p[1] for p in decade_logp1]\n",
    "gwidth = 6\n",
    "fig, ax = plt.subplots(figsize=(50, 10))\n",
    "# plt.gca()\n",
    "plt.bar(gxlabels, gyvalues, gwidth)\n",
    "\n",
    "ax.set_title('Gutenberg Book Count ($1 + log_{10}$) by Decade')\n",
    "ax.set_xlabel('Year of publication')\n",
    "ax.set_ylabel('Gutenberg book count ($1 + log_{10}$)')\n",
    "plt.xlim(xmin=1490, xmax=2020)\n",
    "ax.xaxis.set_ticks(np.arange(1500, 2011, 50))\n",
    "plt.show()"
   ]
  },
  {
   "cell_type": "markdown",
   "metadata": {},
   "source": [
    "# Define Corpus"
   ]
  },
  {
   "cell_type": "code",
   "execution_count": 69,
   "metadata": {},
   "outputs": [
    {
     "name": "stderr",
     "output_type": "stream",
     "text": [
      "INFO:gensim.corpora.dictionary:adding document #0 to Dictionary(0 unique tokens: [])\n",
      "INFO:gensim.corpora.dictionary:built Dictionary(139118 unique tokens: ['abandoned', 'abate', 'ability', 'abject', 'able']...) from 156 documents (total 4423701 corpus positions)\n",
      "INFO:gensim.corpora.dictionary:discarding 100746 tokens: [('abandoned', 81), ('able', 138), ('abroad', 100), ('absence', 113), ('absolutely', 94), ('accept', 104), ('accompanied', 103), ('accomplished', 90), ('according', 124), ('account', 131)]...\n",
      "INFO:gensim.corpora.dictionary:keeping 38372 tokens which were in no less than 3 and no more than 78 (=50.0%) documents\n",
      "DEBUG:gensim.corpora.dictionary:rebuilding dictionary, shrinking gaps\n",
      "INFO:gensim.corpora.dictionary:resulting dictionary: Dictionary(38372 unique tokens: ['abate', 'ability', 'abject', 'abominable', 'absorbed']...)\n"
     ]
    }
   ],
   "source": [
    "gcorpus = GutenbergCorpus(gbooks_valid\n",
    "                          , num_books_per_decade=GUTENBERG_BOOKS_PER_DECADE\n",
    "                         )"
   ]
  },
  {
   "cell_type": "code",
   "execution_count": 70,
   "metadata": {
    "scrolled": true
   },
   "outputs": [
    {
     "name": "stdout",
     "output_type": "stream",
     "text": [
      "1500: [4115, 4114, 18571]\n",
      "1510: [13225, 19398, 47878]\n",
      "1520: [11363, 19018, 38942]\n",
      "1530: [3813, 36266, 1549]\n",
      "1540: [16246, 41346, 14291]\n",
      "1550: [28447, 40383, 40151]\n",
      "1560: [38105, 46662, 39038]\n",
      "1570: [5232, 34053, 5583]\n",
      "1580: [28796, 47051, 6043]\n",
      "1590: [43668, 19902, 4213]\n",
      "1600: [16441, 31999, 10606]\n",
      "1610: [46547, 18253, 12343]\n",
      "1620: [34974, 16417, 27357]\n",
      "1630: [17091, 12259, 5075]\n",
      "1640: [14015, 38007, 25055]\n",
      "1650: [26116, 49323, 40192]\n",
      "1660: [4181, 2073, 47059]\n",
      "1670: [31977, 14725, 25556]\n",
      "1680: [14346, 45777, 19213]\n",
      "1690: [13014, 23273, 15685]\n",
      "1700: [16740, 3866, 44064]\n",
      "1710: [10574, 21235, 3867]\n",
      "1720: [31673, 16007, 16202]\n",
      "1730: [13097, 6758, 37400]\n",
      "1740: [25305, 27137, 13881]\n",
      "1750: [46407, 34481, 34596]\n",
      "1760: [16485, 22695, 16300]\n",
      "1770: [3880, 42573, 8909]\n",
      "1780: [14222, 6782, 34164]\n",
      "1790: [37057, 25476, 21554]\n",
      "1800: [16010, 32277, 26457]\n",
      "1810: [42024, 26901, 6406]\n",
      "1820: [28545, 11386, 2034]\n",
      "1830: [36778, 1683, 12599]\n",
      "1840: [35369, 34915, 40858]\n",
      "1850: [13713, 12572, 41564]\n",
      "1860: [13248, 39470, 45081]\n",
      "1870: [46573, 10032, 39673]\n",
      "1880: [19463, 20183, 19006]\n",
      "1890: [39945, 22419, 45230]\n",
      "1900: [22547, 10991, 21914]\n",
      "1910: [35733, 28115, 49252]\n",
      "1920: [45054, 31071, 16717]\n",
      "1930: [32106, 30303, 28628]\n",
      "1940: [32579, 41262, 30017]\n",
      "1950: [32160, 32590, 32059]\n",
      "1960: [31679, 47036, 24444]\n",
      "1970: [33527, 35006, 39052]\n",
      "1980: [46173, 28516, 14224]\n",
      "1990: [25747, 15035, 872]\n",
      "2000: [9585, 5997, 4621]\n",
      "2010: [9228, 3435, 9807]\n"
     ]
    }
   ],
   "source": [
    "for decade in gcorpus.decades:\n",
    "    print(f'{decade}: {gcorpus.selected_book_ids_by_decade[decade]}')"
   ]
  },
  {
   "cell_type": "code",
   "execution_count": 71,
   "metadata": {},
   "outputs": [
    {
     "name": "stderr",
     "output_type": "stream",
     "text": [
      "INFO:gensim.models.wrappers.dtmmodel:serializing temporary corpus to /var/folders/s2/y23_8q5n12d343lf0z44j9mm0000gn/T/3b15ca_train-mult.dat\n",
      "INFO:gensim.corpora.bleicorpus:no word id mapping provided; initializing from corpus\n",
      "INFO:gensim.corpora.bleicorpus:storing corpus in Blei's LDA-C format into /var/folders/s2/y23_8q5n12d343lf0z44j9mm0000gn/T/3b15ca_train-mult.dat\n",
      "DEBUG:smart_open.smart_open_lib:{'kw': {}, 'mode': 'wb', 'uri': '/var/folders/s2/y23_8q5n12d343lf0z44j9mm0000gn/T/3b15ca_train-mult.dat'}\n",
      "DEBUG:smart_open.smart_open_lib:encoding_wrapper: {'errors': 'strict', 'encoding': None, 'mode': 'wb', 'fileobj': <_io.BufferedWriter name='/var/folders/s2/y23_8q5n12d343lf0z44j9mm0000gn/T/3b15ca_train-mult.dat'>}\n",
      "INFO:gensim.corpora.bleicorpus:saving vocabulary of 38372 words to /var/folders/s2/y23_8q5n12d343lf0z44j9mm0000gn/T/3b15ca_train-mult.dat.vocab\n",
      "DEBUG:smart_open.smart_open_lib:{'kw': {}, 'mode': 'wb', 'uri': '/var/folders/s2/y23_8q5n12d343lf0z44j9mm0000gn/T/3b15ca_train-mult.dat.vocab'}\n",
      "DEBUG:smart_open.smart_open_lib:encoding_wrapper: {'errors': 'strict', 'encoding': None, 'mode': 'wb', 'fileobj': <_io.BufferedWriter name='/var/folders/s2/y23_8q5n12d343lf0z44j9mm0000gn/T/3b15ca_train-mult.dat.vocab'>}\n",
      "DEBUG:smart_open.smart_open_lib:{'kw': {}, 'mode': 'wb', 'uri': '/var/folders/s2/y23_8q5n12d343lf0z44j9mm0000gn/T/3b15ca_train-seq.dat'}\n",
      "DEBUG:smart_open.smart_open_lib:encoding_wrapper: {'errors': 'strict', 'encoding': None, 'mode': 'wb', 'fileobj': <_io.BufferedWriter name='/var/folders/s2/y23_8q5n12d343lf0z44j9mm0000gn/T/3b15ca_train-seq.dat'>}\n",
      "INFO:gensim.models.wrappers.dtmmodel:training DTM with args --ntopics=5 --model=dtm  --mode=fit --initialize_lda=true --corpus_prefix=/var/folders/s2/y23_8q5n12d343lf0z44j9mm0000gn/T/3b15ca_train --outname=/var/folders/s2/y23_8q5n12d343lf0z44j9mm0000gn/T/3b15ca_train_out --alpha=0.01 --lda_max_em_iter=10 --lda_sequence_min_iter=6  --lda_sequence_max_iter=20 --top_chain_var=0.005 --rng_seed=0 \n",
      "INFO:gensim.models.wrappers.dtmmodel:Running command ['/Users/jmc/src/dtm/dtm_release/dtm/main', '--ntopics=5', '--model=dtm', '--mode=fit', '--initialize_lda=true', '--corpus_prefix=/var/folders/s2/y23_8q5n12d343lf0z44j9mm0000gn/T/3b15ca_train', '--outname=/var/folders/s2/y23_8q5n12d343lf0z44j9mm0000gn/T/3b15ca_train_out', '--alpha=0.01', '--lda_max_em_iter=10', '--lda_sequence_min_iter=6', '--lda_sequence_max_iter=20', '--top_chain_var=0.005', '--rng_seed=0']\n",
      "DEBUG:gensim.utils:COMMAND: () {'args': ['/Users/jmc/src/dtm/dtm_release/dtm/main', '--ntopics=5', '--model=dtm', '--mode=fit', '--initialize_lda=true', '--corpus_prefix=/var/folders/s2/y23_8q5n12d343lf0z44j9mm0000gn/T/3b15ca_train', '--outname=/var/folders/s2/y23_8q5n12d343lf0z44j9mm0000gn/T/3b15ca_train_out', '--alpha=0.01', '--lda_max_em_iter=10', '--lda_sequence_min_iter=6', '--lda_sequence_max_iter=20', '--top_chain_var=0.005', '--rng_seed=0'], 'stderr': -1}\n"
     ]
    }
   ],
   "source": [
    "# Unused DTM params: alpha, lda_{min,max}_em_iter, lda_sequence_max_iter, top_chain_var\n",
    "logging.basicConfig(level=logging.DEBUG)\n",
    "gmodel = DtmModel(DTM_PATH\n",
    "                  , gcorpus\n",
    "                  , gcorpus.get_time_seq()\n",
    "                  , num_topics=GUTENBERG_NUM_TOPICS\n",
    "                  , id2word=gcorpus.dictionary\n",
    "                  , initialize_lda=True)"
   ]
  },
  {
   "cell_type": "code",
   "execution_count": 77,
   "metadata": {},
   "outputs": [
    {
     "name": "stdout",
     "output_type": "stream",
     "text": [
      "Doc #0=Book ID #4115\n",
      "\t{'id': 4115, 'path': '/Users/jmc/git/jaycoskey/Coskey_Metis/projects/Project4/data/gutenberg_books_en/aleph.gutenberg.org/4/1/1/4115/4115.zip', 'author': 'Filson Young', 'title': 'Christopher Columbus, Volume 8', 'year': '1504', 'content_lines': None, 'error': ''}\n",
      "Doc #1=Book ID #4114\n",
      "\t{'id': 4114, 'path': '/Users/jmc/git/jaycoskey/Coskey_Metis/projects/Project4/data/gutenberg_books_en/aleph.gutenberg.org/4/1/1/4114/4114.zip', 'author': 'Filson Young', 'title': 'Christopher Columbus, Volume 7', 'year': '1500', 'content_lines': None, 'error': ''}\n",
      "Doc #2=Book ID #18571\n",
      "\t{'id': 18571, 'path': '/Users/jmc/git/jaycoskey/Coskey_Metis/projects/Project4/data/gutenberg_books_en/aleph.gutenberg.org/1/8/5/7/18571/18571.zip', 'author': 'Various', 'title': 'The Northmen, Columbus and Cabot, 985-1503', 'year': '1503', 'content_lines': None, 'error': ''}\n",
      "Doc #3=Book ID #13225\n",
      "\t{'id': 13225, 'path': '/Users/jmc/git/jaycoskey/Coskey_Metis/projects/Project4/data/gutenberg_books_en/aleph.gutenberg.org/1/3/2/2/13225/13225.zip', 'author': 'Robert Kerr', 'title': 'A General History and Collection of Voyages and Travels, Volume VI', 'year': '1516', 'content_lines': None, 'error': ''}\n",
      "Doc #4=Book ID #19398\n",
      "\t{'id': 19398, 'path': '/Users/jmc/git/jaycoskey/Coskey_Metis/projects/Project4/data/gutenberg_books_en/aleph.gutenberg.org/1/9/3/9/19398/19398.zip', 'author': 'G. A. Henty', 'title': 'By Right of Conquest', 'year': '1516', 'content_lines': None, 'error': ''}\n",
      "Doc #5=Book ID #47878\n",
      "\t{'id': 47878, 'path': '/Users/jmc/git/jaycoskey/Coskey_Metis/projects/Project4/data/gutenberg_books_en/aleph.gutenberg.org/4/7/8/7/47878/47878-0.zip', 'author': 'Albert F. Calvert', 'title': 'Spanish Arms and Armour', 'year': '1517', 'content_lines': None, 'error': ''}\n",
      "Doc #6=Book ID #11363\n",
      "\t{'id': 11363, 'path': '/Users/jmc/git/jaycoskey/Coskey_Metis/projects/Project4/data/gutenberg_books_en/aleph.gutenberg.org/1/1/3/6/11363/11363.zip', 'author': 'Christopher Hare', 'title': 'Bayard: The Good Knight Without Fear And Without Reproach', 'year': '1527', 'content_lines': None, 'error': ''}\n",
      "Doc #7=Book ID #19018\n",
      "\t{'id': 19018, 'path': '/Users/jmc/git/jaycoskey/Coskey_Metis/projects/Project4/data/gutenberg_books_en/aleph.gutenberg.org/1/9/0/1/19018/19018.zip', 'author': 'Henrik Ibsen', 'title': \"Henrik Ibsen's Prose Dramas Vol III.\", 'year': '1528', 'content_lines': None, 'error': ''}\n",
      "Doc #8=Book ID #38942\n",
      "\t{'id': 38942, 'path': '/Users/jmc/git/jaycoskey/Coskey_Metis/projects/Project4/data/gutenberg_books_en/aleph.gutenberg.org/3/8/9/4/38942/38942.zip', 'author': 'Travers Twiss', 'title': 'The Oregon Territory', 'year': '1528', 'content_lines': None, 'error': ''}\n",
      "Doc #9=Book ID #3813\n",
      "\t{'id': 3813, 'path': '/Users/jmc/git/jaycoskey/Coskey_Metis/projects/Project4/data/gutenberg_books_en/aleph.gutenberg.org/3/8/1/3813/3813.zip', 'author': 'H. Rider Haggard', 'title': 'The Lady Of Blossholme', 'year': '1535', 'content_lines': None, 'error': ''}\n",
      "Doc #10=Book ID #36266\n",
      "\t{'id': 36266, 'path': '/Users/jmc/git/jaycoskey/Coskey_Metis/projects/Project4/data/gutenberg_books_en/aleph.gutenberg.org/3/6/2/6/36266/36266.zip', 'author': 'Charles Bradlaugh', 'title': 'The Bible: what it is', 'year': '1536', 'content_lines': None, 'error': ''}\n",
      "Doc #11=Book ID #1549\n",
      "\t{'id': 1549, 'path': '/Users/jmc/git/jaycoskey/Coskey_Metis/projects/Project4/data/gutenberg_books_en/aleph.gutenberg.org/1/5/4/1549/1549.zip', 'author': 'Martin Luther', 'title': 'Commentary on the Epistle to the Galatians', 'year': '1535', 'content_lines': None, 'error': ''}\n",
      "Doc #12=Book ID #16246\n",
      "\t{'id': 16246, 'path': '/Users/jmc/git/jaycoskey/Coskey_Metis/projects/Project4/data/gutenberg_books_en/aleph.gutenberg.org/1/6/2/4/16246/16246.zip', 'author': 'Desiderius Erasmus', 'title': 'A Very Pleasaunt & Fruitful Diologe Called the Epicure', 'year': '1545', 'content_lines': None, 'error': ''}\n",
      "Doc #13=Book ID #41346\n",
      "\t{'id': 41346, 'path': '/Users/jmc/git/jaycoskey/Coskey_Metis/projects/Project4/data/gutenberg_books_en/aleph.gutenberg.org/4/1/3/4/41346/41346.zip', 'author': 'George Hay', 'title': 'Bellini', 'year': '1547', 'content_lines': None, 'error': ''}\n",
      "Doc #14=Book ID #14291\n",
      "\t{'id': 14291, 'path': '/Users/jmc/git/jaycoskey/Coskey_Metis/projects/Project4/data/gutenberg_books_en/aleph.gutenberg.org/1/4/2/9/14291/14291.zip', 'author': 'Joseph Jacobs', 'title': 'The Story of Geographical Discovery', 'year': '1548', 'content_lines': None, 'error': ''}\n",
      "Doc #15=Book ID #28447\n",
      "\t{'id': 28447, 'path': '/Users/jmc/git/jaycoskey/Coskey_Metis/projects/Project4/data/gutenberg_books_en/aleph.gutenberg.org/2/8/4/4/28447/28447-0.zip', 'author': 'Richard Sherry', 'title': 'A Treatise of Schemes and Tropes', 'year': '1550', 'content_lines': None, 'error': ''}\n",
      "Doc #16=Book ID #40383\n",
      "\t{'id': 40383, 'path': '/Users/jmc/git/jaycoskey/Coskey_Metis/projects/Project4/data/gutenberg_books_en/aleph.gutenberg.org/4/0/3/8/40383/40383.zip', 'author': 'Carl Engel', 'title': 'Musical Myths and Facts, Volume I (of 2)', 'year': '1556', 'content_lines': None, 'error': ''}\n",
      "Doc #17=Book ID #40151\n",
      "\t{'id': 40151, 'path': '/Users/jmc/git/jaycoskey/Coskey_Metis/projects/Project4/data/gutenberg_books_en/aleph.gutenberg.org/4/0/1/5/40151/40151.zip', 'author': 'Lady Georgiana Fullerton', 'title': 'Constance Sherwood', 'year': '1557', 'content_lines': None, 'error': ''}\n",
      "Doc #18=Book ID #38105\n",
      "\t{'id': 38105, 'path': '/Users/jmc/git/jaycoskey/Coskey_Metis/projects/Project4/data/gutenberg_books_en/aleph.gutenberg.org/3/8/1/0/38105/38105.zip', 'author': 'Robert G. Ingersoll', 'title': 'Shakespeare', 'year': '1564', 'content_lines': None, 'error': ''}\n",
      "Doc #19=Book ID #46662\n",
      "\t{'id': 46662, 'path': '/Users/jmc/git/jaycoskey/Coskey_Metis/projects/Project4/data/gutenberg_books_en/aleph.gutenberg.org/4/6/6/6/46662/46662-0.zip', 'author': 'Cecil Headlam', 'title': 'The Story of Chartres', 'year': '1568', 'content_lines': None, 'error': ''}\n",
      "Doc #20=Book ID #39038\n",
      "\t{'id': 39038, 'path': '/Users/jmc/git/jaycoskey/Coskey_Metis/projects/Project4/data/gutenberg_books_en/aleph.gutenberg.org/3/9/0/3/39038/39038.zip', 'author': 'Desiderius Erasmus', 'title': 'One dialogue, or Colloquye of Erasmus (entituled Diuersoria)', 'year': '1566', 'content_lines': None, 'error': ''}\n",
      "Doc #21=Book ID #5232\n",
      "\t{'id': 5232, 'path': '/Users/jmc/git/jaycoskey/Coskey_Metis/projects/Project4/data/gutenberg_books_en/aleph.gutenberg.org/5/2/3/5232/5232.zip', 'author': 'Ben Jonson', 'title': 'Sejanus: His Fall', 'year': '1573', 'content_lines': None, 'error': ''}\n",
      "Doc #22=Book ID #34053\n",
      "\t{'id': 34053, 'path': '/Users/jmc/git/jaycoskey/Coskey_Metis/projects/Project4/data/gutenberg_books_en/aleph.gutenberg.org/3/4/0/5/34053/34053.zip', 'author': 'William Painter', 'title': 'The Palace of Pleasure', 'year': '1575', 'content_lines': None, 'error': ''}\n",
      "Doc #23=Book ID #5583\n",
      "\t{'id': 5583, 'path': '/Users/jmc/git/jaycoskey/Coskey_Metis/projects/Project4/data/gutenberg_books_en/aleph.gutenberg.org/5/5/8/5583/5583.zip', 'author': 'Georg Ebers', 'title': \"The Burgomaster's Wife, Complete\", 'year': '1574', 'content_lines': None, 'error': ''}\n",
      "Doc #24=Book ID #28796\n",
      "\t{'id': 28796, 'path': '/Users/jmc/git/jaycoskey/Coskey_Metis/projects/Project4/data/gutenberg_books_en/aleph.gutenberg.org/2/8/7/9/28796/28796.zip', 'author': 'Sallie Southall Cotten', 'title': 'The White Doe', 'year': '1585', 'content_lines': None, 'error': ''}\n",
      "Doc #25=Book ID #47051\n",
      "\t{'id': 47051, 'path': '/Users/jmc/git/jaycoskey/Coskey_Metis/projects/Project4/data/gutenberg_books_en/aleph.gutenberg.org/4/7/0/5/47051/47051-0.zip', 'author': 'Petruccio Ubaldini', 'title': 'Descrittione del regno di Scotia', 'year': '1588', 'content_lines': None, 'error': ''}\n",
      "Doc #26=Book ID #6043\n",
      "\t{'id': 6043, 'path': '/Users/jmc/git/jaycoskey/Coskey_Metis/projects/Project4/data/gutenberg_books_en/aleph.gutenberg.org/6/0/4/6043/6043.zip', 'author': 'Thomas Kyd', 'title': 'The Spanish Tragedie', 'year': '1587', 'content_lines': None, 'error': ''}\n",
      "Doc #27=Book ID #43668\n",
      "\t{'id': 43668, 'path': '/Users/jmc/git/jaycoskey/Coskey_Metis/projects/Project4/data/gutenberg_books_en/aleph.gutenberg.org/4/3/6/6/43668/43668.zip', 'author': 'Robert Greene', 'title': 'The Scottish History of James the Fourth', 'year': '1598', 'content_lines': None, 'error': ''}\n",
      "Doc #28=Book ID #19902\n",
      "\t{'id': 19902, 'path': '/Users/jmc/git/jaycoskey/Coskey_Metis/projects/Project4/data/gutenberg_books_en/aleph.gutenberg.org/1/9/9/0/19902/19902.zip', 'author': 'Richard Barnfield', 'title': 'The Affectionate Shepherd', 'year': '1598', 'content_lines': None, 'error': ''}\n",
      "Doc #29=Book ID #4213\n",
      "\t{'id': 4213, 'path': '/Users/jmc/git/jaycoskey/Coskey_Metis/projects/Project4/data/gutenberg_books_en/aleph.gutenberg.org/4/2/1/4213/4213.zip', 'author': 'Charles W. Colby', 'title': 'The Founder of New France: A Chronicle of Champlain', 'year': '1598', 'content_lines': None, 'error': ''}\n",
      "Doc #30=Book ID #16441\n",
      "\t{'id': 16441, 'path': '/Users/jmc/git/jaycoskey/Coskey_Metis/projects/Project4/data/gutenberg_books_en/aleph.gutenberg.org/1/6/4/4/16441/16441.zip', 'author': 'Kenelm Digby', 'title': 'The Closet of Sir Kenelm Digby Knight Opened', 'year': '1603', 'content_lines': None, 'error': ''}\n",
      "Doc #31=Book ID #31999\n",
      "\t{'id': 31999, 'path': '/Users/jmc/git/jaycoskey/Coskey_Metis/projects/Project4/data/gutenberg_books_en/aleph.gutenberg.org/3/1/9/9/31999/31999.zip', 'author': 'W. James King', 'title': 'The Natural Philosophy of William Gilbert and His Predecessors', 'year': '1600', 'content_lines': None, 'error': ''}\n",
      "Doc #32=Book ID #10606\n",
      "\t{'id': 10606, 'path': '/Users/jmc/git/jaycoskey/Coskey_Metis/projects/Project4/data/gutenberg_books_en/aleph.gutenberg.org/1/0/6/0/10606/10606.zip', 'author': 'George MacDonald', 'title': 'The Tragedie of Hamlet, Prince of Denmark', 'year': '1603', 'content_lines': None, 'error': ''}\n",
      "Doc #33=Book ID #46547\n",
      "\t{'id': 46547, 'path': '/Users/jmc/git/jaycoskey/Coskey_Metis/projects/Project4/data/gutenberg_books_en/aleph.gutenberg.org/4/6/5/4/46547/46547.zip', 'author': 'Cyrano de Bergerac', 'title': 'A Voyage to the Moon', 'year': '1619', 'content_lines': None, 'error': ''}\n",
      "Doc #34=Book ID #18253\n",
      "\t{'id': 18253, 'path': '/Users/jmc/git/jaycoskey/Coskey_Metis/projects/Project4/data/gutenberg_books_en/aleph.gutenberg.org/1/8/2/5/18253/18253.zip', 'author': 'Thomas Potts', 'title': 'Discovery of Witches', 'year': '1613', 'content_lines': None, 'error': ''}\n",
      "Doc #35=Book ID #12343\n",
      "\t{'id': 12343, 'path': '/Users/jmc/git/jaycoskey/Coskey_Metis/projects/Project4/data/gutenberg_books_en/aleph.gutenberg.org/1/2/3/4/12343/12343.zip', 'author': 'Samuel Rid', 'title': 'The Art of Iugling or Legerdemaine', 'year': '1612', 'content_lines': None, 'error': ''}\n",
      "Doc #36=Book ID #34974\n",
      "\t{'id': 34974, 'path': '/Users/jmc/git/jaycoskey/Coskey_Metis/projects/Project4/data/gutenberg_books_en/aleph.gutenberg.org/3/4/9/7/34974/34974.zip', 'author': 'Theodore de la Guard', 'title': 'The Simple Cobler of Aggawam in America', 'year': '1629', 'content_lines': None, 'error': ''}\n",
      "Doc #37=Book ID #16417\n",
      "\t{'id': 16417, 'path': '/Users/jmc/git/jaycoskey/Coskey_Metis/projects/Project4/data/gutenberg_books_en/aleph.gutenberg.org/1/6/4/1/16417/16417.zip', 'author': 'Edmund Deane', 'title': 'Spadacrene Anglica', 'year': '1626', 'content_lines': None, 'error': ''}\n",
      "Doc #38=Book ID #27357\n",
      "\t{'id': 27357, 'path': '/Users/jmc/git/jaycoskey/Coskey_Metis/projects/Project4/data/gutenberg_books_en/aleph.gutenberg.org/2/7/3/5/27357/27357.zip', 'author': 'Henry Fisk Carlton', 'title': 'The Landing of the Pilgrims', 'year': '1620', 'content_lines': None, 'error': ''}\n",
      "Doc #39=Book ID #17091\n",
      "\t{'id': 17091, 'path': '/Users/jmc/git/jaycoskey/Coskey_Metis/projects/Project4/data/gutenberg_books_en/aleph.gutenberg.org/1/7/0/9/17091/17091.zip', 'author': 'John Drinkwater', 'title': 'Oliver Cromwell', 'year': '1639', 'content_lines': None, 'error': ''}\n",
      "Doc #40=Book ID #12259\n",
      "\t{'id': 12259, 'path': '/Users/jmc/git/jaycoskey/Coskey_Metis/projects/Project4/data/gutenberg_books_en/aleph.gutenberg.org/1/2/2/5/12259/12259.zip', 'author': 'Daniel Defoe', 'title': 'Memoirs of a Cavalier', 'year': '1632', 'content_lines': None, 'error': ''}\n",
      "Doc #41=Book ID #5075\n",
      "\t{'id': 5075, 'path': '/Users/jmc/git/jaycoskey/Coskey_Metis/projects/Project4/data/gutenberg_books_en/aleph.gutenberg.org/5/0/7/5075/5075.zip', 'author': 'G.A. Henty', 'title': 'The Lion of the North', 'year': '1630', 'content_lines': None, 'error': ''}\n",
      "Doc #42=Book ID #14015\n",
      "\t{'id': 14015, 'path': '/Users/jmc/git/jaycoskey/Coskey_Metis/projects/Project4/data/gutenberg_books_en/aleph.gutenberg.org/1/4/0/1/14015/14015.zip', 'author': 'Matthew Hopkins', 'title': 'The Discovery of Witches', 'year': '1644', 'content_lines': None, 'error': ''}\n",
      "Doc #43=Book ID #38007\n",
      "\t{'id': 38007, 'path': '/Users/jmc/git/jaycoskey/Coskey_Metis/projects/Project4/data/gutenberg_books_en/aleph.gutenberg.org/3/8/0/0/38007/38007.zip', 'author': 'Various', 'title': 'Memoir of John Howe Peyton', 'year': '1644', 'content_lines': None, 'error': ''}\n",
      "Doc #44=Book ID #25055\n",
      "\t{'id': 25055, 'path': '/Users/jmc/git/jaycoskey/Coskey_Metis/projects/Project4/data/gutenberg_books_en/aleph.gutenberg.org/2/5/0/5/25055/25055.zip', 'author': 'Mathias Casimire Sarbiewski', 'title': 'The Odes of Casimire, Translated by G. Hils', 'year': '1646', 'content_lines': None, 'error': ''}\n",
      "Doc #45=Book ID #26116\n",
      "\t{'id': 26116, 'path': '/Users/jmc/git/jaycoskey/Coskey_Metis/projects/Project4/data/gutenberg_books_en/aleph.gutenberg.org/2/6/1/1/26116/26116.zip', 'author': 'Thomas Barker', 'title': 'The Art of Angling', 'year': '1653', 'content_lines': None, 'error': ''}\n",
      "Doc #46=Book ID #49323\n",
      "\t{'id': 49323, 'path': '/Users/jmc/git/jaycoskey/Coskey_Metis/projects/Project4/data/gutenberg_books_en/aleph.gutenberg.org/4/9/3/2/49323/49323-0.zip', 'author': 'John Phillips', 'title': 'A Satyr Against Hypocrites', 'year': '1655', 'content_lines': None, 'error': ''}\n",
      "Doc #47=Book ID #40192\n",
      "\t{'id': 40192, 'path': '/Users/jmc/git/jaycoskey/Coskey_Metis/projects/Project4/data/gutenberg_books_en/aleph.gutenberg.org/4/0/1/9/40192/40192.zip', 'author': 'Samuel Rawson Gardiner', 'title': \"A Student's History of England, v. 2 (of 3)\", 'year': '1656', 'content_lines': None, 'error': ''}\n",
      "Doc #48=Book ID #4181\n",
      "\t{'id': 4181, 'path': '/Users/jmc/git/jaycoskey/Coskey_Metis/projects/Project4/data/gutenberg_books_en/aleph.gutenberg.org/4/1/8/4181/4181.zip', 'author': 'Samuel Pepys', 'title': 'Diary of Samuel Pepys, October 1667', 'year': '1667', 'content_lines': None, 'error': ''}\n",
      "Doc #49=Book ID #2073\n",
      "\t{'id': 2073, 'path': '/Users/jmc/git/jaycoskey/Coskey_Metis/projects/Project4/data/gutenberg_books_en/aleph.gutenberg.org/2/0/7/2073/2073.zip', 'author': 'Andrew Lang', 'title': \"The Valet's Tragedy and Other Stories\", 'year': '1668', 'content_lines': None, 'error': ''}\n",
      "Doc #50=Book ID #47059\n",
      "\t{'id': 47059, 'path': '/Users/jmc/git/jaycoskey/Coskey_Metis/projects/Project4/data/gutenberg_books_en/aleph.gutenberg.org/4/7/0/5/47059/47059.zip', 'author': 'Charles Fitzhugh Talman', 'title': 'Meteorology', 'year': '1666', 'content_lines': None, 'error': ''}\n",
      "Doc #51=Book ID #31977\n",
      "\t{'id': 31977, 'path': '/Users/jmc/git/jaycoskey/Coskey_Metis/projects/Project4/data/gutenberg_books_en/aleph.gutenberg.org/3/1/9/7/31977/31977.zip', 'author': 'William B. Arnold', 'title': 'The Fourth Massachusetts Cavalry in the Closing Scenes of the War for the Maintenance of the Union, from Richmond to Appomatox', 'year': '1675', 'content_lines': None, 'error': ''}\n",
      "Doc #52=Book ID #14725\n",
      "\t{'id': 14725, 'path': '/Users/jmc/git/jaycoskey/Coskey_Metis/projects/Project4/data/gutenberg_books_en/aleph.gutenberg.org/1/4/7/2/14725/14725.zip', 'author': 'Christiaan Huygens', 'title': 'Treatise on Light', 'year': '1678', 'content_lines': None, 'error': ''}\n",
      "Doc #53=Book ID #25556\n",
      "\t{'id': 25556, 'path': '/Users/jmc/git/jaycoskey/Coskey_Metis/projects/Project4/data/gutenberg_books_en/aleph.gutenberg.org/2/5/5/5/25556/25556.zip', 'author': 'Mary Hartwell Catherwood', 'title': 'Heroes of the Middle West', 'year': '1673', 'content_lines': None, 'error': ''}\n",
      "Doc #54=Book ID #14346\n",
      "\t{'id': 14346, 'path': '/Users/jmc/git/jaycoskey/Coskey_Metis/projects/Project4/data/gutenberg_books_en/aleph.gutenberg.org/1/4/3/4/14346/14346.zip', 'author': 'Robert Knox', 'title': 'An Historical Relation Of The Island Ceylon In The East Indies', 'year': '1681', 'content_lines': None, 'error': ''}\n",
      "Doc #55=Book ID #45777\n",
      "\t{'id': 45777, 'path': '/Users/jmc/git/jaycoskey/Coskey_Metis/projects/Project4/data/gutenberg_books_en/aleph.gutenberg.org/4/5/7/7/45777/45777.zip', 'author': 'Aphra Behn', 'title': 'The Works of Aphra Behn, Volume VI', 'year': '1684', 'content_lines': None, 'error': ''}\n",
      "Doc #56=Book ID #19213\n",
      "\t{'id': 19213, 'path': '/Users/jmc/git/jaycoskey/Coskey_Metis/projects/Project4/data/gutenberg_books_en/aleph.gutenberg.org/1/9/2/1/19213/19213.zip', 'author': 'David Hume', 'title': 'The History of England in Three Volumes, Vol.I., Part C.', 'year': '1688', 'content_lines': None, 'error': ''}\n",
      "Doc #57=Book ID #13014\n",
      "\t{'id': 13014, 'path': '/Users/jmc/git/jaycoskey/Coskey_Metis/projects/Project4/data/gutenberg_books_en/aleph.gutenberg.org/1/3/0/1/13014/13014.zip', 'author': 'John Conrade Amman', 'title': 'The Talking Deaf Man', 'year': '1694', 'content_lines': None, 'error': ''}\n",
      "Doc #58=Book ID #23273\n",
      "\t{'id': 23273, 'path': '/Users/jmc/git/jaycoskey/Coskey_Metis/projects/Project4/data/gutenberg_books_en/aleph.gutenberg.org/2/3/2/7/23273/23273.zip', 'author': 'W.H.G. Kingston', 'title': 'John Deane of Nottingham', 'year': '1696', 'content_lines': None, 'error': ''}\n",
      "Doc #59=Book ID #15685\n",
      "\t{'id': 15685, 'path': '/Users/jmc/git/jaycoskey/Coskey_Metis/projects/Project4/data/gutenberg_books_en/aleph.gutenberg.org/1/5/6/8/15685/15685.zip', 'author': 'William Dampier', 'title': 'A Continuation of a Voyage to New Holland', 'year': '1699', 'content_lines': None, 'error': ''}\n",
      "Doc #60=Book ID #16740\n",
      "\t{'id': 16740, 'path': '/Users/jmc/git/jaycoskey/Coskey_Metis/projects/Project4/data/gutenberg_books_en/aleph.gutenberg.org/1/6/7/4/16740/16740.zip', 'author': 'Susanna Centlivre', 'title': 'The Busie Body', 'year': '1709', 'content_lines': None, 'error': ''}\n",
      "Doc #61=Book ID #3866\n",
      "\t{'id': 3866, 'path': '/Users/jmc/git/jaycoskey/Coskey_Metis/projects/Project4/data/gutenberg_books_en/aleph.gutenberg.org/3/8/6/3866/3866.zip', 'author': 'Duc de Saint-Simon', 'title': 'The Memoirs of Louis XIV., Volume 7', 'year': '1709', 'content_lines': None, 'error': ''}\n",
      "Doc #62=Book ID #44064\n",
      "\t{'id': 44064, 'path': '/Users/jmc/git/jaycoskey/Coskey_Metis/projects/Project4/data/gutenberg_books_en/aleph.gutenberg.org/4/4/0/6/44064/44064.zip', 'author': 'Colley Cibber', 'title': 'An Apology for the Life of Mr. Colley Cibber, Volume I (of 2)', 'year': '1707', 'content_lines': None, 'error': ''}\n",
      "Doc #63=Book ID #10574\n",
      "\t{'id': 10574, 'path': '/Users/jmc/git/jaycoskey/Coskey_Metis/projects/Project4/data/gutenberg_books_en/aleph.gutenberg.org/1/0/5/7/10574/10574.zip', 'author': 'David Hume', 'title': 'The History of England, Volume I', 'year': '1711', 'content_lines': None, 'error': ''}\n",
      "Doc #64=Book ID #21235\n",
      "\t{'id': 21235, 'path': '/Users/jmc/git/jaycoskey/Coskey_Metis/projects/Project4/data/gutenberg_books_en/aleph.gutenberg.org/2/1/2/3/21235/21235.zip', 'author': 'Emily Sarah Holt', 'title': \"The Maidens' Lodge\", 'year': '1712', 'content_lines': None, 'error': ''}\n",
      "Doc #65=Book ID #3867\n",
      "\t{'id': 3867, 'path': '/Users/jmc/git/jaycoskey/Coskey_Metis/projects/Project4/data/gutenberg_books_en/aleph.gutenberg.org/3/8/6/3867/3867.zip', 'author': 'Duc de Saint-Simon', 'title': 'The Memoirs of Louis XIV., Volume 8', 'year': '1711', 'content_lines': None, 'error': ''}\n",
      "Doc #66=Book ID #31673\n",
      "\t{'id': 31673, 'path': '/Users/jmc/git/jaycoskey/Coskey_Metis/projects/Project4/data/gutenberg_books_en/aleph.gutenberg.org/3/1/6/7/31673/31673.zip', 'author': 'Howard Pyle', 'title': 'The Rose of Paradise', 'year': '1720', 'content_lines': None, 'error': ''}\n",
      "Doc #67=Book ID #16007\n",
      "\t{'id': 16007, 'path': '/Users/jmc/git/jaycoskey/Coskey_Metis/projects/Project4/data/gutenberg_books_en/aleph.gutenberg.org/1/6/0/0/16007/16007.zip', 'author': 'William Carleton', 'title': 'The Dead Boxer', 'year': '1720', 'content_lines': None, 'error': ''}\n",
      "Doc #68=Book ID #16202\n",
      "\t{'id': 16202, 'path': '/Users/jmc/git/jaycoskey/Coskey_Metis/projects/Project4/data/gutenberg_books_en/aleph.gutenberg.org/1/6/2/0/16202/16202.zip', 'author': 'Captain Samuel Brunt', 'title': 'A Voyage to Cacklogallinia', 'year': '1727', 'content_lines': None, 'error': ''}\n",
      "Doc #69=Book ID #13097\n",
      "\t{'id': 13097, 'path': '/Users/jmc/git/jaycoskey/Coskey_Metis/projects/Project4/data/gutenberg_books_en/aleph.gutenberg.org/1/3/0/9/13097/13097.zip', 'author': 'Arthur L. Hayward', 'title': 'Lives Of The Most Remarkable Criminals Who have been Condemned and Executed for Murder, the Highway, Housebreaking, Street Robberies, Coining or other offences', 'year': '1735', 'content_lines': None, 'error': ''}\n",
      "Doc #70=Book ID #6758\n",
      "\t{'id': 6758, 'path': '/Users/jmc/git/jaycoskey/Coskey_Metis/projects/Project4/data/gutenberg_books_en/aleph.gutenberg.org/6/7/5/6758/6758.zip', 'author': 'Tobias Smollett', 'title': 'The Adventures of Sir Launcelot Greaves', 'year': '1739', 'content_lines': None, 'error': ''}\n",
      "Doc #71=Book ID #37400\n",
      "\t{'id': 37400, 'path': '/Users/jmc/git/jaycoskey/Coskey_Metis/projects/Project4/data/gutenberg_books_en/aleph.gutenberg.org/3/7/4/0/37400/37400.zip', 'author': 'Simon Tyssot de Patot', 'title': 'The Travels and Adventures of James Massey', 'year': '1732', 'content_lines': None, 'error': ''}\n",
      "Doc #72=Book ID #25305\n",
      "\t{'id': 25305, 'path': '/Users/jmc/git/jaycoskey/Coskey_Metis/projects/Project4/data/gutenberg_books_en/aleph.gutenberg.org/2/5/3/0/25305/25305.zip', 'author': 'John Cleland', 'title': 'Memoirs Of Fanny Hill', 'year': '1749', 'content_lines': None, 'error': ''}\n",
      "Doc #73=Book ID #27137\n",
      "\t{'id': 27137, 'path': '/Users/jmc/git/jaycoskey/Coskey_Metis/projects/Project4/data/gutenberg_books_en/aleph.gutenberg.org/2/7/1/3/27137/27137.zip', 'author': 'Grace L. Rogers', 'title': 'The Scholfield Wool-Carding Machines', 'year': '1748', 'content_lines': None, 'error': ''}\n",
      "Doc #74=Book ID #13881\n",
      "\t{'id': 13881, 'path': '/Users/jmc/git/jaycoskey/Coskey_Metis/projects/Project4/data/gutenberg_books_en/aleph.gutenberg.org/1/3/8/8/13881/13881.zip', 'author': 'Catherine Clive', 'title': 'The Case of Mrs. Clive', 'year': '1744', 'content_lines': None, 'error': ''}\n",
      "Doc #75=Book ID #46407\n",
      "\t{'id': 46407, 'path': '/Users/jmc/git/jaycoskey/Coskey_Metis/projects/Project4/data/gutenberg_books_en/aleph.gutenberg.org/4/6/4/0/46407/46407.zip', 'author': 'Catherine II, Empress of Russia', 'title': 'Memoirs of the Empress Catherine II.', 'year': '1759', 'content_lines': None, 'error': ''}\n",
      "Doc #76=Book ID #34481\n",
      "\t{'id': 34481, 'path': '/Users/jmc/git/jaycoskey/Coskey_Metis/projects/Project4/data/gutenberg_books_en/aleph.gutenberg.org/3/4/4/8/34481/34481.zip', 'author': 'W.H.G. Kingston', 'title': 'The Prime Minister', 'year': '1755', 'content_lines': None, 'error': ''}\n",
      "Doc #77=Book ID #34596\n",
      "\t{'id': 34596, 'path': '/Users/jmc/git/jaycoskey/Coskey_Metis/projects/Project4/data/gutenberg_books_en/aleph.gutenberg.org/3/4/5/9/34596/34596.zip', 'author': 'Charles Gardner', 'title': 'William Blake', 'year': '1757', 'content_lines': None, 'error': ''}\n",
      "Doc #78=Book ID #16485\n",
      "\t{'id': 16485, 'path': '/Users/jmc/git/jaycoskey/Coskey_Metis/projects/Project4/data/gutenberg_books_en/aleph.gutenberg.org/1/6/4/8/16485/16485.zip', 'author': 'Philip Thicknesse', 'title': \"A Year's Journey through France and Part of Spain, 1777\", 'year': '1766', 'content_lines': None, 'error': ''}\n",
      "Doc #79=Book ID #22695\n",
      "\t{'id': 22695, 'path': '/Users/jmc/git/jaycoskey/Coskey_Metis/projects/Project4/data/gutenberg_books_en/aleph.gutenberg.org/2/2/6/9/22695/22695.zip', 'author': 'Publius Terentius Afer', 'title': 'The Comedies of Terence', 'year': '1768', 'content_lines': None, 'error': ''}\n",
      "Doc #80=Book ID #16300\n",
      "\t{'id': 16300, 'path': '/Users/jmc/git/jaycoskey/Coskey_Metis/projects/Project4/data/gutenberg_books_en/aleph.gutenberg.org/1/6/3/0/16300/16300.zip', 'author': 'Frances Brooke', 'title': 'The History of Emily Montague', 'year': '1769', 'content_lines': None, 'error': ''}\n",
      "Doc #81=Book ID #3880\n",
      "\t{'id': 3880, 'path': '/Users/jmc/git/jaycoskey/Coskey_Metis/projects/Project4/data/gutenberg_books_en/aleph.gutenberg.org/3/8/8/3880/3880.zip', 'author': 'Madame du Hausset, and of an Unknown English Girl and the Princess Lamballe', 'title': 'The Memoirs of Louis XV. and XVI., Volume 5', 'year': '1778', 'content_lines': None, 'error': ''}\n",
      "Doc #82=Book ID #42573\n",
      "\t{'id': 42573, 'path': '/Users/jmc/git/jaycoskey/Coskey_Metis/projects/Project4/data/gutenberg_books_en/aleph.gutenberg.org/4/2/5/7/42573/42573.zip', 'author': 'A. J. Finberg', 'title': 'Ingres', 'year': '1778', 'content_lines': None, 'error': ''}\n",
      "Doc #83=Book ID #8909\n",
      "\t{'id': 8909, 'path': '/Users/jmc/git/jaycoskey/Coskey_Metis/projects/Project4/data/gutenberg_books_en/aleph.gutenberg.org/8/9/0/8909/8909.zip', 'author': \"Paul Henri Thiery (Baron D'Holbach)\", 'title': 'The System of Nature, Volume 1', 'year': '1770', 'content_lines': None, 'error': ''}\n",
      "Doc #84=Book ID #14222\n",
      "\t{'id': 14222, 'path': '/Users/jmc/git/jaycoskey/Coskey_Metis/projects/Project4/data/gutenberg_books_en/aleph.gutenberg.org/1/4/2/2/14222/14222.zip', 'author': 'Frederick Marryat', 'title': 'Poor Jack', 'year': '1787', 'content_lines': None, 'error': ''}\n",
      "Doc #85=Book ID #6782\n",
      "\t{'id': 6782, 'path': '/Users/jmc/git/jaycoskey/Coskey_Metis/projects/Project4/data/gutenberg_books_en/aleph.gutenberg.org/6/7/8/6782/6782.zip', 'author': 'Frederich Schiller', 'title': 'The Robbers', 'year': '1781', 'content_lines': None, 'error': ''}\n",
      "Doc #86=Book ID #34164\n",
      "\t{'id': 34164, 'path': '/Users/jmc/git/jaycoskey/Coskey_Metis/projects/Project4/data/gutenberg_books_en/aleph.gutenberg.org/3/4/1/6/34164/34164.zip', 'author': 'May Wynne', 'title': 'A Blot on the Scutcheon', 'year': '1780', 'content_lines': None, 'error': ''}\n",
      "Doc #87=Book ID #37057\n",
      "\t{'id': 37057, 'path': '/Users/jmc/git/jaycoskey/Coskey_Metis/projects/Project4/data/gutenberg_books_en/aleph.gutenberg.org/3/7/0/5/37057/37057.zip', 'author': 'John Haslam', 'title': 'Observations on Insanity', 'year': '1798', 'content_lines': None, 'error': ''}\n",
      "Doc #88=Book ID #25476\n",
      "\t{'id': 25476, 'path': '/Users/jmc/git/jaycoskey/Coskey_Metis/projects/Project4/data/gutenberg_books_en/aleph.gutenberg.org/2/5/4/7/25476/25476.zip', 'author': 'Anonymous', 'title': 'Golden Deeds', 'year': '1798', 'content_lines': None, 'error': ''}\n",
      "Doc #89=Book ID #21554\n",
      "\t{'id': 21554, 'path': '/Users/jmc/git/jaycoskey/Coskey_Metis/projects/Project4/data/gutenberg_books_en/aleph.gutenberg.org/2/1/5/5/21554/21554.zip', 'author': 'Captain Frederick Marryat', 'title': 'Frank Mildmay', 'year': '1792', 'content_lines': None, 'error': ''}\n",
      "Doc #90=Book ID #16010\n",
      "\t{'id': 16010, 'path': '/Users/jmc/git/jaycoskey/Coskey_Metis/projects/Project4/data/gutenberg_books_en/aleph.gutenberg.org/1/6/0/1/16010/16010.zip', 'author': 'William Carleton', 'title': 'The Tithe-Proctor', 'year': '1808', 'content_lines': None, 'error': ''}\n",
      "Doc #91=Book ID #32277\n",
      "\t{'id': 32277, 'path': '/Users/jmc/git/jaycoskey/Coskey_Metis/projects/Project4/data/gutenberg_books_en/aleph.gutenberg.org/3/2/2/7/32277/32277.zip', 'author': 'James Parkerson', 'title': 'Characters from Life', 'year': '1800', 'content_lines': None, 'error': ''}\n",
      "Doc #92=Book ID #26457\n",
      "\t{'id': 26457, 'path': '/Users/jmc/git/jaycoskey/Coskey_Metis/projects/Project4/data/gutenberg_books_en/aleph.gutenberg.org/2/6/4/5/26457/26457.zip', 'author': 'Francis Huber', 'title': 'New observations on the natural history of bees', 'year': '1806', 'content_lines': None, 'error': ''}\n",
      "Doc #93=Book ID #42024\n",
      "\t{'id': 42024, 'path': '/Users/jmc/git/jaycoskey/Coskey_Metis/projects/Project4/data/gutenberg_books_en/aleph.gutenberg.org/4/2/0/2/42024/42024.zip', 'author': 'Elizabeth Semple', 'title': 'A cup of sweets, that can never cloy:', 'year': '1810', 'content_lines': None, 'error': ''}\n",
      "Doc #94=Book ID #26901\n",
      "\t{'id': 26901, 'path': '/Users/jmc/git/jaycoskey/Coskey_Metis/projects/Project4/data/gutenberg_books_en/aleph.gutenberg.org/2/6/9/0/26901/26901.zip', 'author': 'Edwin Emerson', 'title': 'A History of the Nineteenth Century, Year by Year', 'year': '1816', 'content_lines': None, 'error': ''}\n",
      "Doc #95=Book ID #6406\n",
      "\t{'id': 6406, 'path': '/Users/jmc/git/jaycoskey/Coskey_Metis/projects/Project4/data/gutenberg_books_en/aleph.gutenberg.org/6/4/0/6406/6406.zip', 'author': 'Sir Walter Scott', 'title': 'The Monastery', 'year': '1813', 'content_lines': None, 'error': ''}\n",
      "Doc #96=Book ID #28545\n",
      "\t{'id': 28545, 'path': '/Users/jmc/git/jaycoskey/Coskey_Metis/projects/Project4/data/gutenberg_books_en/aleph.gutenberg.org/2/8/5/4/28545/28545.zip', 'author': 'Susan Warner', 'title': 'Say and Seal, Volume II', 'year': '1824', 'content_lines': None, 'error': ''}\n",
      "Doc #97=Book ID #11386\n",
      "\t{'id': 11386, 'path': '/Users/jmc/git/jaycoskey/Coskey_Metis/projects/Project4/data/gutenberg_books_en/aleph.gutenberg.org/1/1/3/8/11386/11386.zip', 'author': 'Various', 'title': 'The Mirror of Literature, Amusement, and Instruction.', 'year': '1828', 'content_lines': None, 'error': ''}\n",
      "Doc #98=Book ID #2034\n",
      "\t{'id': 2034, 'path': '/Users/jmc/git/jaycoskey/Coskey_Metis/projects/Project4/data/gutenberg_books_en/aleph.gutenberg.org/2/0/3/2034/2034.zip', 'author': 'Sir Walter Scott', 'title': 'Waverley', 'year': '1829', 'content_lines': None, 'error': ''}\n",
      "Doc #99=Book ID #36778\n",
      "\t{'id': 36778, 'path': '/Users/jmc/git/jaycoskey/Coskey_Metis/projects/Project4/data/gutenberg_books_en/aleph.gutenberg.org/3/6/7/7/36778/36778.zip', 'author': 'William  Surtees', 'title': 'Twenty-Five Years in the Rifle Brigade', 'year': '1830', 'content_lines': None, 'error': ''}\n",
      "Doc #100=Book ID #1683\n",
      "\t{'id': 1683, 'path': '/Users/jmc/git/jaycoskey/Coskey_Metis/projects/Project4/data/gutenberg_books_en/aleph.gutenberg.org/1/6/8/1683/1683.zip', 'author': 'Honore de Balzac', 'title': 'Honorine', 'year': '1831', 'content_lines': None, 'error': ''}\n",
      "Doc #101=Book ID #12599\n",
      "\t{'id': 12599, 'path': '/Users/jmc/git/jaycoskey/Coskey_Metis/projects/Project4/data/gutenberg_books_en/aleph.gutenberg.org/1/2/5/9/12599/12599.zip', 'author': 'Various', 'title': 'The Mirror of Literature, Amusement, and Instruction, Vol. 17, No.', 'year': '1831', 'content_lines': None, 'error': ''}\n",
      "Doc #102=Book ID #35369\n",
      "\t{'id': 35369, 'path': '/Users/jmc/git/jaycoskey/Coskey_Metis/projects/Project4/data/gutenberg_books_en/aleph.gutenberg.org/3/5/3/6/35369/35369.zip', 'author': 'William Cornwallis Harris', 'title': 'The Highlands of Ethiopia', 'year': '1844', 'content_lines': None, 'error': ''}\n",
      "Doc #103=Book ID #34915\n",
      "\t{'id': 34915, 'path': '/Users/jmc/git/jaycoskey/Coskey_Metis/projects/Project4/data/gutenberg_books_en/aleph.gutenberg.org/3/4/9/1/34915/34915.zip', 'author': 'Frederick Douglass', 'title': 'Abolition Fanaticism in New York', 'year': '1847', 'content_lines': None, 'error': ''}\n",
      "Doc #104=Book ID #40858\n",
      "\t{'id': 40858, 'path': '/Users/jmc/git/jaycoskey/Coskey_Metis/projects/Project4/data/gutenberg_books_en/aleph.gutenberg.org/4/0/8/5/40858/40858.zip', 'author': \"J. H. Merle D'Aubigne\", 'title': 'History of the Reformation in the Sixteenth Century (Volume 1)', 'year': '1845', 'content_lines': None, 'error': ''}\n",
      "Doc #105=Book ID #13713\n",
      "\t{'id': 13713, 'path': '/Users/jmc/git/jaycoskey/Coskey_Metis/projects/Project4/data/gutenberg_books_en/aleph.gutenberg.org/1/3/7/1/13713/13713.zip', 'author': 'Various', 'title': 'Notes & Queries, No. 30. Saturday, May 25, 1850', 'year': '1850', 'content_lines': None, 'error': ''}\n",
      "Doc #106=Book ID #12572\n",
      "\t{'id': 12572, 'path': '/Users/jmc/git/jaycoskey/Coskey_Metis/projects/Project4/data/gutenberg_books_en/aleph.gutenberg.org/1/2/5/7/12572/12572.zip', 'author': 'Various', 'title': \"The World's Greatest Books, Vol X\", 'year': '1851', 'content_lines': None, 'error': ''}\n"
     ]
    },
    {
     "name": "stdout",
     "output_type": "stream",
     "text": [
      "Doc #107=Book ID #41564\n",
      "\t{'id': 41564, 'path': '/Users/jmc/git/jaycoskey/Coskey_Metis/projects/Project4/data/gutenberg_books_en/aleph.gutenberg.org/4/1/5/6/41564/41564.zip', 'author': 'Emma Warburton', 'title': 'Mabel, Vol. I (of 3)', 'year': '1854', 'content_lines': None, 'error': ''}\n",
      "Doc #108=Book ID #13248\n",
      "\t{'id': 13248, 'path': '/Users/jmc/git/jaycoskey/Coskey_Metis/projects/Project4/data/gutenberg_books_en/aleph.gutenberg.org/1/3/2/4/13248/13248.zip', 'author': 'John McKinlay', 'title': \"McKinlay's Journal of Exploration in the Interior of Australia\", 'year': '1861', 'content_lines': None, 'error': ''}\n",
      "Doc #109=Book ID #39470\n",
      "\t{'id': 39470, 'path': '/Users/jmc/git/jaycoskey/Coskey_Metis/projects/Project4/data/gutenberg_books_en/aleph.gutenberg.org/3/9/4/7/39470/39470.zip', 'author': 'G. A. Henty', 'title': 'March to Magdala', 'year': '1868', 'content_lines': None, 'error': ''}\n",
      "Doc #110=Book ID #45081\n",
      "\t{'id': 45081, 'path': '/Users/jmc/git/jaycoskey/Coskey_Metis/projects/Project4/data/gutenberg_books_en/aleph.gutenberg.org/4/5/0/8/45081/45081-0.zip', 'author': 'Ernest Renan', 'title': 'The Apostles', 'year': '1866', 'content_lines': None, 'error': ''}\n",
      "Doc #111=Book ID #46573\n",
      "\t{'id': 46573, 'path': '/Users/jmc/git/jaycoskey/Coskey_Metis/projects/Project4/data/gutenberg_books_en/aleph.gutenberg.org/4/6/5/7/46573/46573.zip', 'author': 'Moritz Karasowski', 'title': 'Frederic Chopin, Vol II (of 2)', 'year': '1879', 'content_lines': None, 'error': ''}\n",
      "Doc #112=Book ID #10032\n",
      "\t{'id': 10032, 'path': '/Users/jmc/git/jaycoskey/Coskey_Metis/projects/Project4/data/gutenberg_books_en/aleph.gutenberg.org/1/0/0/3/10032/10032.zip', 'author': 'Various', 'title': 'Punchinello, Vol. 1, No. 24, September 10, 1870', 'year': '1870', 'content_lines': None, 'error': ''}\n",
      "Doc #113=Book ID #39673\n",
      "\t{'id': 39673, 'path': '/Users/jmc/git/jaycoskey/Coskey_Metis/projects/Project4/data/gutenberg_books_en/aleph.gutenberg.org/3/9/6/7/39673/39673.zip', 'author': 'Henry Arthur Bright', 'title': 'A Year in a Lancashire Garden', 'year': '1879', 'content_lines': None, 'error': ''}\n",
      "Doc #114=Book ID #19463\n",
      "\t{'id': 19463, 'path': '/Users/jmc/git/jaycoskey/Coskey_Metis/projects/Project4/data/gutenberg_books_en/aleph.gutenberg.org/1/9/4/6/19463/19463.zip', 'author': 'Thomas R. Lounsbury', 'title': 'James Fenimore Cooper', 'year': '1884', 'content_lines': None, 'error': ''}\n",
      "Doc #115=Book ID #20183\n",
      "\t{'id': 20183, 'path': '/Users/jmc/git/jaycoskey/Coskey_Metis/projects/Project4/data/gutenberg_books_en/aleph.gutenberg.org/2/0/1/8/20183/20183.zip', 'author': 'John. T. Morse', 'title': 'John Quincy Adams', 'year': '1882', 'content_lines': None, 'error': ''}\n",
      "Doc #116=Book ID #19006\n",
      "\t{'id': 19006, 'path': '/Users/jmc/git/jaycoskey/Coskey_Metis/projects/Project4/data/gutenberg_books_en/aleph.gutenberg.org/1/9/0/0/19006/19006.zip', 'author': 'James John Howard Gregory', 'title': 'Cabbages and Cauliflowers: How to Grow Them', 'year': '1889', 'content_lines': None, 'error': ''}\n",
      "Doc #117=Book ID #39945\n",
      "\t{'id': 39945, 'path': '/Users/jmc/git/jaycoskey/Coskey_Metis/projects/Project4/data/gutenberg_books_en/aleph.gutenberg.org/3/9/9/4/39945/39945.zip', 'author': 'John Kendrick Bangs', 'title': 'Peeps at People', 'year': '1899', 'content_lines': None, 'error': ''}\n",
      "Doc #118=Book ID #22419\n",
      "\t{'id': 22419, 'path': '/Users/jmc/git/jaycoskey/Coskey_Metis/projects/Project4/data/gutenberg_books_en/aleph.gutenberg.org/2/2/4/1/22419/22419.zip', 'author': 'Various', 'title': 'The Arena', 'year': '1891', 'content_lines': None, 'error': ''}\n",
      "Doc #119=Book ID #45230\n",
      "\t{'id': 45230, 'path': '/Users/jmc/git/jaycoskey/Coskey_Metis/projects/Project4/data/gutenberg_books_en/aleph.gutenberg.org/4/5/2/3/45230/45230.zip', 'author': 'Charles Sumner', 'title': 'Charles Sumner; his complete works, volume 1 (of 20)', 'year': '1899', 'content_lines': None, 'error': ''}\n",
      "Doc #120=Book ID #22547\n",
      "\t{'id': 22547, 'path': '/Users/jmc/git/jaycoskey/Coskey_Metis/projects/Project4/data/gutenberg_books_en/aleph.gutenberg.org/2/2/5/4/22547/22547.zip', 'author': 'Edward Stratemeyer (AKA Arthur M. Winfield)', 'title': 'The Rover Boys on Treasure Isle', 'year': '1909', 'content_lines': None, 'error': ''}\n",
      "Doc #121=Book ID #10991\n",
      "\t{'id': 10991, 'path': '/Users/jmc/git/jaycoskey/Coskey_Metis/projects/Project4/data/gutenberg_books_en/aleph.gutenberg.org/1/0/9/9/10991/10991.zip', 'author': 'Robert Leighton', 'title': 'Dogs and All About Them', 'year': '1909', 'content_lines': None, 'error': ''}\n",
      "Doc #122=Book ID #21914\n",
      "\t{'id': 21914, 'path': '/Users/jmc/git/jaycoskey/Coskey_Metis/projects/Project4/data/gutenberg_books_en/aleph.gutenberg.org/2/1/9/1/21914/21914.zip', 'author': 'L. Frank Baum', 'title': 'The Woggle-Bug Book', 'year': '1905', 'content_lines': None, 'error': ''}\n",
      "Doc #123=Book ID #35733\n",
      "\t{'id': 35733, 'path': '/Users/jmc/git/jaycoskey/Coskey_Metis/projects/Project4/data/gutenberg_books_en/aleph.gutenberg.org/3/5/7/3/35733/35733.zip', 'author': 'Barnette Miller', 'title': \"Leigh Hunt's Relations with Byron, Shelley and Keats\", 'year': '1910', 'content_lines': None, 'error': ''}\n",
      "Doc #124=Book ID #28115\n",
      "\t{'id': 28115, 'path': '/Users/jmc/git/jaycoskey/Coskey_Metis/projects/Project4/data/gutenberg_books_en/aleph.gutenberg.org/2/8/1/1/28115/28115.zip', 'author': 'Joseph  Altsheler', 'title': 'The Great Sioux Trail', 'year': '1918', 'content_lines': None, 'error': ''}\n",
      "Doc #125=Book ID #49252\n",
      "\t{'id': 49252, 'path': '/Users/jmc/git/jaycoskey/Coskey_Metis/projects/Project4/data/gutenberg_books_en/aleph.gutenberg.org/4/9/2/5/49252/49252-0.zip', 'author': 'Hawkins', 'title': 'Hawkins Electrical Guide v. 6 (of 10)', 'year': '1914', 'content_lines': None, 'error': ''}\n",
      "Doc #126=Book ID #45054\n",
      "\t{'id': 45054, 'path': '/Users/jmc/git/jaycoskey/Coskey_Metis/projects/Project4/data/gutenberg_books_en/aleph.gutenberg.org/4/5/0/5/45054/45054.zip', 'author': 'Joseph Fielding Smith', 'title': 'Essentials in Church History', 'year': '1922', 'content_lines': None, 'error': ''}\n",
      "Doc #127=Book ID #31071\n",
      "\t{'id': 31071, 'path': '/Users/jmc/git/jaycoskey/Coskey_Metis/projects/Project4/data/gutenberg_books_en/aleph.gutenberg.org/3/1/0/7/31071/31071.zip', 'author': 'Various', 'title': 'Punch, or the London Charivari, Volume 158, June 2, 1920', 'year': '1920', 'content_lines': None, 'error': ''}\n",
      "Doc #128=Book ID #16717\n",
      "\t{'id': 16717, 'path': '/Users/jmc/git/jaycoskey/Coskey_Metis/projects/Project4/data/gutenberg_books_en/aleph.gutenberg.org/1/6/7/1/16717/16717.zip', 'author': 'Various', 'title': 'Punch, or the London Charivari, Vol. 159, September 1st, 1920', 'year': '1920', 'content_lines': None, 'error': ''}\n",
      "Doc #129=Book ID #32106\n",
      "\t{'id': 32106, 'path': '/Users/jmc/git/jaycoskey/Coskey_Metis/projects/Project4/data/gutenberg_books_en/aleph.gutenberg.org/3/2/1/0/32106/32106.zip', 'author': 'Olaf Baker', 'title': 'Dusty Star', 'year': '1936', 'content_lines': None, 'error': ''}\n",
      "Doc #130=Book ID #30303\n",
      "\t{'id': 30303, 'path': '/Users/jmc/git/jaycoskey/Coskey_Metis/projects/Project4/data/gutenberg_books_en/aleph.gutenberg.org/3/0/3/0/30303/30303.zip', 'author': 'Anthony Gilmore', 'title': 'The Passing of Ku Sui', 'year': '1932', 'content_lines': None, 'error': ''}\n",
      "Doc #131=Book ID #28628\n",
      "\t{'id': 28628, 'path': '/Users/jmc/git/jaycoskey/Coskey_Metis/projects/Project4/data/gutenberg_books_en/aleph.gutenberg.org/2/8/6/2/28628/28628.zip', 'author': 'Hal K. Wells', 'title': 'Devil Crystals of Arret', 'year': '1931', 'content_lines': None, 'error': ''}\n",
      "Doc #132=Book ID #32579\n",
      "\t{'id': 32579, 'path': '/Users/jmc/git/jaycoskey/Coskey_Metis/projects/Project4/data/gutenberg_books_en/aleph.gutenberg.org/3/2/5/7/32579/32579.zip', 'author': 'Forrest James Ackerman', 'title': 'Micro-Man', 'year': '1947', 'content_lines': None, 'error': ''}\n",
      "Doc #133=Book ID #41262\n",
      "\t{'id': 41262, 'path': '/Users/jmc/git/jaycoskey/Coskey_Metis/projects/Project4/data/gutenberg_books_en/aleph.gutenberg.org/4/1/2/6/41262/41262.zip', 'author': 'Mildred A. Wirt', 'title': 'Dan Carter and the River Camp', 'year': '1949', 'content_lines': None, 'error': ''}\n",
      "Doc #134=Book ID #30017\n",
      "\t{'id': 30017, 'path': '/Users/jmc/git/jaycoskey/Coskey_Metis/projects/Project4/data/gutenberg_books_en/aleph.gutenberg.org/3/0/0/1/30017/30017.zip', 'author': 'Ruth Stiles Gannett', 'title': \"My Father's Dragon\", 'year': '1948', 'content_lines': None, 'error': ''}\n",
      "Doc #135=Book ID #32160\n",
      "\t{'id': 32160, 'path': '/Users/jmc/git/jaycoskey/Coskey_Metis/projects/Project4/data/gutenberg_books_en/aleph.gutenberg.org/3/2/1/6/32160/32160.zip', 'author': 'Stephen Arr', 'title': 'Chain of Command', 'year': '1954', 'content_lines': None, 'error': ''}\n",
      "Doc #136=Book ID #32590\n",
      "\t{'id': 32590, 'path': '/Users/jmc/git/jaycoskey/Coskey_Metis/projects/Project4/data/gutenberg_books_en/aleph.gutenberg.org/3/2/5/9/32590/32590.zip', 'author': 'Roger Phillips Graham', 'title': 'The Old Martians', 'year': '1952', 'content_lines': None, 'error': ''}\n",
      "Doc #137=Book ID #32059\n",
      "\t{'id': 32059, 'path': '/Users/jmc/git/jaycoskey/Coskey_Metis/projects/Project4/data/gutenberg_books_en/aleph.gutenberg.org/3/2/0/5/32059/32059.zip', 'author': 'Harold Leland Goodwin', 'title': 'The Pirates of Shan', 'year': '1958', 'content_lines': None, 'error': ''}\n",
      "Doc #138=Book ID #31679\n",
      "\t{'id': 31679, 'path': '/Users/jmc/git/jaycoskey/Coskey_Metis/projects/Project4/data/gutenberg_books_en/aleph.gutenberg.org/3/1/6/7/31679/31679.zip', 'author': 'E. Raymond Hall', 'title': \"North American Yellow Bats, 'Dasypterus,' And a List of the Named Kinds Of the Genus Lasiurus Gray\", 'year': '1961', 'content_lines': None, 'error': ''}\n",
      "Doc #139=Book ID #47036\n",
      "\t{'id': 47036, 'path': '/Users/jmc/git/jaycoskey/Coskey_Metis/projects/Project4/data/gutenberg_books_en/aleph.gutenberg.org/4/7/0/3/47036/47036.zip', 'author': 'Various', 'title': 'The Jade Flute', 'year': '1960', 'content_lines': None, 'error': ''}\n",
      "Doc #140=Book ID #24444\n",
      "\t{'id': 24444, 'path': '/Users/jmc/git/jaycoskey/Coskey_Metis/projects/Project4/data/gutenberg_books_en/aleph.gutenberg.org/2/4/4/4/24444/24444.zip', 'author': 'Gordon Randall Garrett', 'title': 'Out Like a Light', 'year': '1960', 'content_lines': None, 'error': ''}\n",
      "Doc #141=Book ID #33527\n",
      "\t{'id': 33527, 'path': '/Users/jmc/git/jaycoskey/Coskey_Metis/projects/Project4/data/gutenberg_books_en/aleph.gutenberg.org/3/3/5/2/33527/33527.zip', 'author': 'Stephen Leatherwood', 'title': 'Whales, Dolphins, and Porpoises of the Western North Atlantic', 'year': '1972', 'content_lines': None, 'error': ''}\n",
      "Doc #142=Book ID #35006\n",
      "\t{'id': 35006, 'path': '/Users/jmc/git/jaycoskey/Coskey_Metis/projects/Project4/data/gutenberg_books_en/aleph.gutenberg.org/3/5/0/0/35006/35006.zip', 'author': 'Thomas F. Weise', 'title': 'An Experimental Translocation of the Eastern Timber Wolf', 'year': '1974', 'content_lines': None, 'error': ''}\n",
      "Doc #143=Book ID #39052\n",
      "\t{'id': 39052, 'path': '/Users/jmc/git/jaycoskey/Coskey_Metis/projects/Project4/data/gutenberg_books_en/aleph.gutenberg.org/3/9/0/5/39052/39052.zip', 'author': \"Paul Henry Thiry Baron d' Holbach\", 'title': 'Ecce Homo!', 'year': '1977', 'content_lines': None, 'error': ''}\n",
      "Doc #144=Book ID #46173\n",
      "\t{'id': 46173, 'path': '/Users/jmc/git/jaycoskey/Coskey_Metis/projects/Project4/data/gutenberg_books_en/aleph.gutenberg.org/4/6/1/7/46173/46173.zip', 'author': 'F. Anstey', 'title': \"Tourmalin's Time Cheques\", 'year': '1986', 'content_lines': None, 'error': ''}\n",
      "Doc #145=Book ID #28516\n",
      "\t{'id': 28516, 'path': '/Users/jmc/git/jaycoskey/Coskey_Metis/projects/Project4/data/gutenberg_books_en/aleph.gutenberg.org/2/8/5/1/28516/28516.zip', 'author': 'Robert Shea', 'title': 'The Saracen: The Holy War', 'year': '1989', 'content_lines': None, 'error': ''}\n",
      "Doc #146=Book ID #14224\n",
      "\t{'id': 14224, 'path': '/Users/jmc/git/jaycoskey/Coskey_Metis/projects/Project4/data/gutenberg_books_en/aleph.gutenberg.org/1/4/2/2/14224/14224.zip', 'author': 'George Turner', 'title': 'Samoa, A Hundred Years Ago And Long Before', 'year': '1984', 'content_lines': None, 'error': ''}\n",
      "Doc #147=Book ID #25747\n",
      "\t{'id': 25747, 'path': '/Users/jmc/git/jaycoskey/Coskey_Metis/projects/Project4/data/gutenberg_books_en/aleph.gutenberg.org/2/5/7/4/25747/25747.zip', 'author': 'Ann Wilson', 'title': 'Youngling', 'year': '1992', 'content_lines': None, 'error': ''}\n",
      "Doc #148=Book ID #15035\n",
      "\t{'id': 15035, 'path': '/Users/jmc/git/jaycoskey/Coskey_Metis/projects/Project4/data/gutenberg_books_en/aleph.gutenberg.org/1/5/0/3/15035/15035.zip', 'author': 'Walter H. Rich', 'title': 'Fishing Grounds of the Gulf of Maine', 'year': '1994', 'content_lines': None, 'error': ''}\n",
      "Doc #149=Book ID #872\n",
      "\t{'id': 872, 'path': '/Users/jmc/git/jaycoskey/Coskey_Metis/projects/Project4/data/gutenberg_books_en/aleph.gutenberg.org/8/7/872/872-0.zip', 'author': 'Charles Dickens', 'title': 'Reprinted Pieces', 'year': '1997', 'content_lines': None, 'error': ''}\n",
      "Doc #150=Book ID #9585\n",
      "\t{'id': 9585, 'path': '/Users/jmc/git/jaycoskey/Coskey_Metis/projects/Project4/data/gutenberg_books_en/aleph.gutenberg.org/9/5/8/9585/9585.zip', 'author': 'John Greenleaf Whittier', 'title': 'At Sundown', 'year': '2005', 'content_lines': None, 'error': ''}\n",
      "Doc #151=Book ID #5997\n",
      "\t{'id': 5997, 'path': '/Users/jmc/git/jaycoskey/Coskey_Metis/projects/Project4/data/gutenberg_books_en/aleph.gutenberg.org/5/9/9/5997/5997.zip', 'author': 'Sara Yorke Stevenson', 'title': 'Maximilian in Mexico', 'year': '2002', 'content_lines': None, 'error': ''}\n",
      "Doc #152=Book ID #4621\n",
      "\t{'id': 4621, 'path': '/Users/jmc/git/jaycoskey/Coskey_Metis/projects/Project4/data/gutenberg_books_en/aleph.gutenberg.org/4/6/2/4621/4621.zip', 'author': 'T. S. Arthur', 'title': 'The Two Wives', 'year': '2009', 'content_lines': None, 'error': ''}\n",
      "Doc #153=Book ID #9228\n",
      "\t{'id': 9228, 'path': '/Users/jmc/git/jaycoskey/Coskey_Metis/projects/Project4/data/gutenberg_books_en/aleph.gutenberg.org/9/2/2/9228/9228.zip', 'author': 'Nathaniel Hawthorne', 'title': 'The Christmas Banquet (From \"Mosses From An Old Manse\")', 'year': '2010', 'content_lines': None, 'error': ''}\n",
      "Doc #154=Book ID #3435\n",
      "\t{'id': 3435, 'path': '/Users/jmc/git/jaycoskey/Coskey_Metis/projects/Project4/data/gutenberg_books_en/aleph.gutenberg.org/3/4/3/3435/3435.zip', 'author': 'Richard F. Burton', 'title': 'The Book of the Thousand Nights and a Night, Volume 1', 'year': '2010', 'content_lines': None, 'error': ''}\n",
      "Doc #155=Book ID #9807\n",
      "\t{'id': 9807, 'path': '/Users/jmc/git/jaycoskey/Coskey_Metis/projects/Project4/data/gutenberg_books_en/aleph.gutenberg.org/9/8/0/9807/9807.zip', 'author': 'J. S. Fletcher', 'title': 'Scarhaven Keep', 'year': '2010', 'content_lines': None, 'error': ''}\n"
     ]
    }
   ],
   "source": [
    "doc_num = 0\n",
    "for decade in gcorpus.decades:\n",
    "    for id in gcorpus.selected_book_ids_by_decade[decade]:\n",
    "        book = [book for book in gcorpus.books if book['id'] == id][0]\n",
    "        print(f'Doc #{doc_num}=Book ID #{id}')\n",
    "        print(f'\\t{book}')\n",
    "        doc_num += 1"
   ]
  },
  {
   "cell_type": "code",
   "execution_count": 83,
   "metadata": {},
   "outputs": [
    {
     "name": "stdout",
     "output_type": "stream",
     "text": [
      "Distribution of Topic 0 0.201629\n",
      "Distribution of Topic 1 0.097785\n",
      "Distribution of Topic 2 0.068421\n",
      "Distribution of Topic 3 0.467002\n",
      "Distribution of Topic 4 0.165163\n"
     ]
    }
   ],
   "source": [
    "doc_number = 98  # id = 2034\n",
    "for i in range(0, GUTENBERG_NUM_TOPICS):\n",
    "    print (\"Distribution of Topic %d %f\" % (i, gmodel.gamma_[doc_number, i]))"
   ]
  },
  {
   "cell_type": "code",
   "execution_count": 89,
   "metadata": {},
   "outputs": [
    {
     "data": {
      "text/plain": [
       "[{'author': 'Sir Walter Scott',\n",
       "  'content_lines': None,\n",
       "  'error': '',\n",
       "  'id': 2034,\n",
       "  'path': '/Users/jmc/git/jaycoskey/Coskey_Metis/projects/Project4/data/gutenberg_books_en/aleph.gutenberg.org/2/0/3/2034/2034.zip',\n",
       "  'title': 'Waverley',\n",
       "  'year': '1829'}]"
      ]
     },
     "execution_count": 89,
     "metadata": {},
     "output_type": "execute_result"
    }
   ],
   "source": [
    "[book for book in gcorpus.books if book['id'] == 2034]  # doc_num = 98"
   ]
  },
  {
   "cell_type": "code",
   "execution_count": 84,
   "metadata": {},
   "outputs": [
    {
     "name": "stdout",
     "output_type": "stream",
     "text": [
      "[(0.003281477919586323, 'rome'), (0.002787234661752813, 'pope'), (0.002437863117450068, 'fergus'), (0.002317870195728509, 'jesus'), (0.002084454232153747, 'regiment'), (0.0019917611557961927, 'halbert'), (0.0019187959872561295, 'political'), (0.001506371464867138, 'christianity'), (0.001419877642349331, 'doctrine'), (0.0013556045010353125, 'reformation')]\n",
      "\n",
      "[(0.0256922560423349, 'linden'), (0.0043637601518432805, 'harrison'), (0.004228607606810379, 'camp'), (0.003073473141664041, 'creek'), (0.003012296691141654, 'lake'), (0.002894933704096992, 'animals'), (0.002875498641687751, 'mabel'), (0.0027352859344679393, 'bees'), (0.0023798389180298483, 'colour'), (0.002229421915218082, 'mile')]\n",
      "\n",
      "[(0.01551829105909307, 'luther'), (0.012913755808239068, 'sidenote'), (0.006224195182058598, 'troops'), (0.004427297572705404, 'battalion'), (0.0030561673859927996, 'german'), (0.0028818034101118868, 'christ'), (0.0028359871075325648, 'president'), (0.0021295930320954564, 'germany'), (0.0019486159719793552, 'cooper'), (0.0018272744712569849, 'soil')]\n",
      "\n",
      "[(0.007980224679566276, 'waverley'), (0.007007637547495376, 'miss'), (0.0067118305701813884, 'mrs'), (0.004542863030716357, 'edward'), (0.002541795773726269, 'baron'), (0.0024513517896653076, 'reuben'), (0.00184543220294366, 'exclaimed'), (0.0016300527201272232, 'tom'), (0.0015666835349189012, 'colonel'), (0.0015541901065832836, 'mules')]\n",
      "\n",
      "[(0.002940596127980953, 'galla'), (0.0026555021499797397, 'abbot'), (0.0026552796205586734, 'prior'), (0.0023305086746044984, 'abyssinia'), (0.0021330898004529144, 'sub'), (0.001968030502414843, 'whilst'), (0.0018776475037130206, 'monk'), (0.001622601530962873, 'monarch'), (0.001584688065172909, 'saint'), (0.0015211893851492274, 'abyssinian')]\n",
      "\n"
     ]
    }
   ],
   "source": [
    "for topicid in [0,1,2,3,4]: # 1820s\n",
    "    print(gmodel.show_topic(topicid=topicid, time=33, topn=10))\n",
    "    print()"
   ]
  },
  {
   "cell_type": "code",
   "execution_count": 88,
   "metadata": {
    "collapsed": true
   },
   "outputs": [],
   "source": [
    "from gensim.matutils import hellinger"
   ]
  },
  {
   "cell_type": "code",
   "execution_count": 93,
   "metadata": {},
   "outputs": [
    {
     "name": "stdout",
     "output_type": "stream",
     "text": [
      "Min_doc_num=89; dist=0.06887974150060062; min_vec_other=[0.14644793513807577, 0.08795194686403375, 0.07642252774934631, 0.5506000511341648, 0.13857753911437937]\n"
     ]
    }
   ],
   "source": [
    "# vec_primary = [0.071460, 0.044956, 0.068991, 0.058845, 0.755748] # sweethearts_at_home\n",
    "# vec_primary = [0.059242, 0.733993, 0.022367, 0.119562, 0.064835]\n",
    "vec_primary = [0.201629, 0.097785, 0.068421, 0.467002, 0.165163 ] # Waverly\n",
    "min_dist = 1000000\n",
    "min_doc_num = 1000000\n",
    "min_vec_other = None\n",
    "for doc_num in range(0, 156):\n",
    "    if doc_num == 98:\n",
    "        continue\n",
    "    vec_other = [ gmodel.gamma_[doc_num, 0]\n",
    "               , gmodel.gamma_[doc_num, 1]\n",
    "               , gmodel.gamma_[doc_num, 2]\n",
    "               , gmodel.gamma_[doc_num, 3]\n",
    "               , gmodel.gamma_[doc_num, 4]\n",
    "              ]\n",
    "    dist = hellinger(vec_primary, vec_other)\n",
    "    if dist < min_dist:\n",
    "        min_dist = dist\n",
    "        min_doc_num = doc_num\n",
    "        min_vec_other = vec_other\n",
    "\n",
    "print (f\"Min_doc_num={min_doc_num}; dist={min_dist}; min_vec_other={min_vec_other}\")"
   ]
  },
  {
   "cell_type": "code",
   "execution_count": 95,
   "metadata": {},
   "outputs": [
    {
     "name": "stdout",
     "output_type": "stream",
     "text": [
      "Distribution of Topic 0 0.146448\n",
      "Distribution of Topic 1 0.087952\n",
      "Distribution of Topic 2 0.076423\n",
      "Distribution of Topic 3 0.550600\n",
      "Distribution of Topic 4 0.138578\n"
     ]
    }
   ],
   "source": [
    "doc_number = 89  # id = 21554\n",
    "for i in range(0, GUTENBERG_NUM_TOPICS):\n",
    "    print (\"Distribution of Topic %d %f\" % (i, gmodel.gamma_[doc_number, i]))"
   ]
  },
  {
   "cell_type": "code",
   "execution_count": 94,
   "metadata": {},
   "outputs": [
    {
     "data": {
      "text/plain": [
       "[{'author': 'Captain Frederick Marryat',\n",
       "  'content_lines': None,\n",
       "  'error': '',\n",
       "  'id': 21554,\n",
       "  'path': '/Users/jmc/git/jaycoskey/Coskey_Metis/projects/Project4/data/gutenberg_books_en/aleph.gutenberg.org/2/1/5/5/21554/21554.zip',\n",
       "  'title': 'Frank Mildmay',\n",
       "  'year': '1792'}]"
      ]
     },
     "execution_count": 94,
     "metadata": {},
     "output_type": "execute_result"
    }
   ],
   "source": [
    "[book for book in gcorpus.books if book['id'] == 21554]  # doc_num = 89"
   ]
  }
 ],
 "metadata": {
  "kernelspec": {
   "display_name": "Python 3",
   "language": "python",
   "name": "python3"
  },
  "language_info": {
   "codemirror_mode": {
    "name": "ipython",
    "version": 3
   },
   "file_extension": ".py",
   "mimetype": "text/x-python",
   "name": "python",
   "nbconvert_exporter": "python",
   "pygments_lexer": "ipython3",
   "version": "3.6.3"
  },
  "varInspector": {
   "cols": {
    "lenName": 16,
    "lenType": 16,
    "lenVar": 40
   },
   "kernels_config": {
    "python": {
     "delete_cmd_postfix": "",
     "delete_cmd_prefix": "del ",
     "library": "var_list.py",
     "varRefreshCmd": "print(var_dic_list())"
    },
    "r": {
     "delete_cmd_postfix": ") ",
     "delete_cmd_prefix": "rm(",
     "library": "var_list.r",
     "varRefreshCmd": "cat(var_dic_list()) "
    }
   },
   "types_to_exclude": [
    "module",
    "function",
    "builtin_function_or_method",
    "instance",
    "_Feature"
   ],
   "window_display": false
  }
 },
 "nbformat": 4,
 "nbformat_minor": 2
}
