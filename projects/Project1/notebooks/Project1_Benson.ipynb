{
 "cells": [
  {
   "cell_type": "markdown",
   "metadata": {},
   "source": [
    "# Project 1: Benson.  MTA Outreach Analysis for WTWY"
   ]
  },
  {
   "cell_type": "code",
   "execution_count": 1,
   "metadata": {
    "collapsed": true
   },
   "outputs": [],
   "source": [
    "import datetime as dt\n",
    "import matplotlib.pyplot as plt\n",
    "import numpy as np\n",
    "import pandas as pd\n",
    "\n",
    "from IPython.display import Image"
   ]
  },
  {
   "cell_type": "code",
   "execution_count": 2,
   "metadata": {
    "collapsed": true
   },
   "outputs": [],
   "source": [
    "%matplotlib inline"
   ]
  },
  {
   "cell_type": "code",
   "execution_count": 76,
   "metadata": {
    "collapsed": true
   },
   "outputs": [],
   "source": [
    "pd.set_option('display.max_columns', None)\n",
    "pd.set_option('display.max_rows', 25)\n",
    "pd.set_option('display.precision', 3)"
   ]
  },
  {
   "cell_type": "markdown",
   "metadata": {},
   "source": [
    "## Read in and explore raw data"
   ]
  },
  {
   "cell_type": "code",
   "execution_count": 4,
   "metadata": {
    "scrolled": true
   },
   "outputs": [],
   "source": [
    "TURNSTILE_DIR = '../data/mta.info/turnstile/'\n",
    "raw_df = pd.read_csv(TURNSTILE_DIR + 'turnstile_180113.txt',\n",
    "                     skiprows=1,\n",
    "                     names=['ControlArea', 'Unit', 'SCP', 'Station',\n",
    "                            'LineName', 'Division', 'Date', 'Time',\n",
    "                            'Description', 'Entries', 'Exits'],\n",
    "                     dtype={'Entries': np.int, 'Exits': np.int},\n",
    "                     parse_dates=[6],\n",
    "                     thousands=',')"
   ]
  },
  {
   "cell_type": "code",
   "execution_count": 5,
   "metadata": {},
   "outputs": [
    {
     "data": {
      "text/plain": [
       "(201118, 11)"
      ]
     },
     "execution_count": 5,
     "metadata": {},
     "output_type": "execute_result"
    }
   ],
   "source": [
    "raw_df.shape"
   ]
  },
  {
   "cell_type": "code",
   "execution_count": 6,
   "metadata": {},
   "outputs": [
    {
     "data": {
      "text/plain": [
       "ControlArea            object\n",
       "Unit                   object\n",
       "SCP                    object\n",
       "Station                object\n",
       "LineName               object\n",
       "Division               object\n",
       "Date           datetime64[ns]\n",
       "Time                   object\n",
       "Description            object\n",
       "Entries                 int64\n",
       "Exits                   int64\n",
       "dtype: object"
      ]
     },
     "execution_count": 6,
     "metadata": {},
     "output_type": "execute_result"
    }
   ],
   "source": [
    "raw_df.dtypes"
   ]
  },
  {
   "cell_type": "code",
   "execution_count": 7,
   "metadata": {
    "scrolled": false
   },
   "outputs": [
    {
     "data": {
      "text/html": [
       "<div>\n",
       "<style>\n",
       "    .dataframe thead tr:only-child th {\n",
       "        text-align: right;\n",
       "    }\n",
       "\n",
       "    .dataframe thead th {\n",
       "        text-align: left;\n",
       "    }\n",
       "\n",
       "    .dataframe tbody tr th {\n",
       "        vertical-align: top;\n",
       "    }\n",
       "</style>\n",
       "<table border=\"1\" class=\"dataframe\">\n",
       "  <thead>\n",
       "    <tr style=\"text-align: right;\">\n",
       "      <th></th>\n",
       "      <th>ControlArea</th>\n",
       "      <th>Unit</th>\n",
       "      <th>SCP</th>\n",
       "      <th>Station</th>\n",
       "      <th>LineName</th>\n",
       "      <th>Division</th>\n",
       "      <th>Date</th>\n",
       "      <th>Time</th>\n",
       "      <th>Description</th>\n",
       "      <th>Entries</th>\n",
       "      <th>Exits</th>\n",
       "    </tr>\n",
       "  </thead>\n",
       "  <tbody>\n",
       "    <tr>\n",
       "      <th>179339</th>\n",
       "      <td>R508</td>\n",
       "      <td>R346</td>\n",
       "      <td>00-00-00</td>\n",
       "      <td>COURT SQ</td>\n",
       "      <td>7</td>\n",
       "      <td>IRT</td>\n",
       "      <td>2018-01-08</td>\n",
       "      <td>07:00:00</td>\n",
       "      <td>REGULAR</td>\n",
       "      <td>2678537</td>\n",
       "      <td>3979581</td>\n",
       "    </tr>\n",
       "    <tr>\n",
       "      <th>13245</th>\n",
       "      <td>A084</td>\n",
       "      <td>R125</td>\n",
       "      <td>01-00-01</td>\n",
       "      <td>BROAD ST</td>\n",
       "      <td>JZ</td>\n",
       "      <td>BMT</td>\n",
       "      <td>2018-01-11</td>\n",
       "      <td>16:00:00</td>\n",
       "      <td>REGULAR</td>\n",
       "      <td>674728</td>\n",
       "      <td>11735</td>\n",
       "    </tr>\n",
       "    <tr>\n",
       "      <th>21879</th>\n",
       "      <td>C012</td>\n",
       "      <td>R258</td>\n",
       "      <td>01-06-00</td>\n",
       "      <td>4AV-9 ST</td>\n",
       "      <td>DFGMNR</td>\n",
       "      <td>BMT</td>\n",
       "      <td>2018-01-07</td>\n",
       "      <td>11:00:00</td>\n",
       "      <td>REGULAR</td>\n",
       "      <td>46785</td>\n",
       "      <td>379053</td>\n",
       "    </tr>\n",
       "    <tr>\n",
       "      <th>190373</th>\n",
       "      <td>R605</td>\n",
       "      <td>R456</td>\n",
       "      <td>00-06-00</td>\n",
       "      <td>HOYT ST</td>\n",
       "      <td>23</td>\n",
       "      <td>IRT</td>\n",
       "      <td>2018-01-08</td>\n",
       "      <td>07:00:00</td>\n",
       "      <td>REGULAR</td>\n",
       "      <td>2695973</td>\n",
       "      <td>1253048</td>\n",
       "    </tr>\n",
       "    <tr>\n",
       "      <th>38804</th>\n",
       "      <td>J022</td>\n",
       "      <td>R435</td>\n",
       "      <td>00-00-00</td>\n",
       "      <td>CLEVELAND ST</td>\n",
       "      <td>J</td>\n",
       "      <td>BMT</td>\n",
       "      <td>2018-01-09</td>\n",
       "      <td>00:00:00</td>\n",
       "      <td>REGULAR</td>\n",
       "      <td>3931713</td>\n",
       "      <td>4207539</td>\n",
       "    </tr>\n",
       "  </tbody>\n",
       "</table>\n",
       "</div>"
      ],
      "text/plain": [
       "       ControlArea  Unit       SCP       Station LineName Division       Date  \\\n",
       "179339        R508  R346  00-00-00      COURT SQ        7      IRT 2018-01-08   \n",
       "13245         A084  R125  01-00-01      BROAD ST       JZ      BMT 2018-01-11   \n",
       "21879         C012  R258  01-06-00      4AV-9 ST   DFGMNR      BMT 2018-01-07   \n",
       "190373        R605  R456  00-06-00       HOYT ST       23      IRT 2018-01-08   \n",
       "38804         J022  R435  00-00-00  CLEVELAND ST        J      BMT 2018-01-09   \n",
       "\n",
       "            Time Description  Entries    Exits  \n",
       "179339  07:00:00     REGULAR  2678537  3979581  \n",
       "13245   16:00:00     REGULAR   674728    11735  \n",
       "21879   11:00:00     REGULAR    46785   379053  \n",
       "190373  07:00:00     REGULAR  2695973  1253048  \n",
       "38804   00:00:00     REGULAR  3931713  4207539  "
      ]
     },
     "execution_count": 7,
     "metadata": {},
     "output_type": "execute_result"
    }
   ],
   "source": [
    "raw_df.sample(5)"
   ]
  },
  {
   "cell_type": "code",
   "execution_count": 8,
   "metadata": {
    "scrolled": false
   },
   "outputs": [
    {
     "data": {
      "text/plain": [
       "12161"
      ]
     },
     "execution_count": 8,
     "metadata": {},
     "output_type": "execute_result"
    }
   ],
   "source": [
    "len(raw_df['Time'].unique())"
   ]
  },
  {
   "cell_type": "markdown",
   "metadata": {},
   "source": [
    "* **Observation:** Some times are on hour-boundaries, but many are not."
   ]
  },
  {
   "cell_type": "code",
   "execution_count": 9,
   "metadata": {},
   "outputs": [],
   "source": [
    "raw_df['DateTime'] = [dt.datetime.strptime(d + ' ' + t, '%Y-%m-%d %H:%M:%S')\n",
    "                      for d,t in zip(raw_df['Date'].astype(str), raw_df['Time'])]"
   ]
  },
  {
   "cell_type": "code",
   "execution_count": 10,
   "metadata": {},
   "outputs": [],
   "source": [
    "hourly_mask = (raw_df['DateTime'].dt.minute == 0) & (raw_df['DateTime'].dt.second == 0)"
   ]
  },
  {
   "cell_type": "code",
   "execution_count": 11,
   "metadata": {
    "scrolled": true
   },
   "outputs": [
    {
     "data": {
      "text/plain": [
       "True     180780\n",
       "False     20338\n",
       "Name: DateTime, dtype: int64"
      ]
     },
     "execution_count": 11,
     "metadata": {},
     "output_type": "execute_result"
    }
   ],
   "source": [
    "hourly_mask.value_counts()"
   ]
  },
  {
   "cell_type": "markdown",
   "metadata": {},
   "source": [
    "* **Observation:** About 90% of the data is recorded on the hour."
   ]
  },
  {
   "cell_type": "code",
   "execution_count": 12,
   "metadata": {
    "scrolled": false
   },
   "outputs": [
    {
     "data": {
      "text/html": [
       "<div>\n",
       "<style>\n",
       "    .dataframe thead tr:only-child th {\n",
       "        text-align: right;\n",
       "    }\n",
       "\n",
       "    .dataframe thead th {\n",
       "        text-align: left;\n",
       "    }\n",
       "\n",
       "    .dataframe tbody tr th {\n",
       "        vertical-align: top;\n",
       "    }\n",
       "</style>\n",
       "<table border=\"1\" class=\"dataframe\">\n",
       "  <thead>\n",
       "    <tr style=\"text-align: right;\">\n",
       "      <th></th>\n",
       "      <th>ControlArea</th>\n",
       "      <th>Unit</th>\n",
       "      <th>SCP</th>\n",
       "      <th>Station</th>\n",
       "      <th>LineName</th>\n",
       "      <th>Division</th>\n",
       "      <th>Date</th>\n",
       "      <th>Time</th>\n",
       "      <th>Description</th>\n",
       "      <th>Entries</th>\n",
       "      <th>Exits</th>\n",
       "      <th>DateTime</th>\n",
       "    </tr>\n",
       "  </thead>\n",
       "  <tbody>\n",
       "    <tr>\n",
       "      <th>41494</th>\n",
       "      <td>N001</td>\n",
       "      <td>R173</td>\n",
       "      <td>01-05-00</td>\n",
       "      <td>INWOOD-207 ST</td>\n",
       "      <td>A</td>\n",
       "      <td>IND</td>\n",
       "      <td>2018-01-12</td>\n",
       "      <td>04:00:00</td>\n",
       "      <td>REGULAR</td>\n",
       "      <td>301</td>\n",
       "      <td>0</td>\n",
       "      <td>2018-01-12 04:00:00</td>\n",
       "    </tr>\n",
       "    <tr>\n",
       "      <th>41536</th>\n",
       "      <td>N001</td>\n",
       "      <td>R173</td>\n",
       "      <td>01-05-01</td>\n",
       "      <td>INWOOD-207 ST</td>\n",
       "      <td>A</td>\n",
       "      <td>IND</td>\n",
       "      <td>2018-01-12</td>\n",
       "      <td>04:00:00</td>\n",
       "      <td>REGULAR</td>\n",
       "      <td>67108872</td>\n",
       "      <td>16777412</td>\n",
       "      <td>2018-01-12 04:00:00</td>\n",
       "    </tr>\n",
       "    <tr>\n",
       "      <th>41578</th>\n",
       "      <td>N001</td>\n",
       "      <td>R173</td>\n",
       "      <td>01-06-00</td>\n",
       "      <td>INWOOD-207 ST</td>\n",
       "      <td>A</td>\n",
       "      <td>IND</td>\n",
       "      <td>2018-01-12</td>\n",
       "      <td>04:00:00</td>\n",
       "      <td>REGULAR</td>\n",
       "      <td>4143559</td>\n",
       "      <td>760241</td>\n",
       "      <td>2018-01-12 04:00:00</td>\n",
       "    </tr>\n",
       "    <tr>\n",
       "      <th>41620</th>\n",
       "      <td>N001</td>\n",
       "      <td>R173</td>\n",
       "      <td>01-06-01</td>\n",
       "      <td>INWOOD-207 ST</td>\n",
       "      <td>A</td>\n",
       "      <td>IND</td>\n",
       "      <td>2018-01-12</td>\n",
       "      <td>04:00:00</td>\n",
       "      <td>REGULAR</td>\n",
       "      <td>201806894</td>\n",
       "      <td>302650</td>\n",
       "      <td>2018-01-12 04:00:00</td>\n",
       "    </tr>\n",
       "    <tr>\n",
       "      <th>41662</th>\n",
       "      <td>N001</td>\n",
       "      <td>R173</td>\n",
       "      <td>01-06-02</td>\n",
       "      <td>INWOOD-207 ST</td>\n",
       "      <td>A</td>\n",
       "      <td>IND</td>\n",
       "      <td>2018-01-12</td>\n",
       "      <td>04:00:00</td>\n",
       "      <td>REGULAR</td>\n",
       "      <td>742566</td>\n",
       "      <td>553216</td>\n",
       "      <td>2018-01-12 04:00:00</td>\n",
       "    </tr>\n",
       "    <tr>\n",
       "      <th>41704</th>\n",
       "      <td>N001</td>\n",
       "      <td>R173</td>\n",
       "      <td>01-06-03</td>\n",
       "      <td>INWOOD-207 ST</td>\n",
       "      <td>A</td>\n",
       "      <td>IND</td>\n",
       "      <td>2018-01-12</td>\n",
       "      <td>04:00:00</td>\n",
       "      <td>REGULAR</td>\n",
       "      <td>332417</td>\n",
       "      <td>162116</td>\n",
       "      <td>2018-01-12 04:00:00</td>\n",
       "    </tr>\n",
       "    <tr>\n",
       "      <th>41746</th>\n",
       "      <td>N002A</td>\n",
       "      <td>R173</td>\n",
       "      <td>00-00-00</td>\n",
       "      <td>INWOOD-207 ST</td>\n",
       "      <td>A</td>\n",
       "      <td>IND</td>\n",
       "      <td>2018-01-12</td>\n",
       "      <td>04:00:00</td>\n",
       "      <td>REGULAR</td>\n",
       "      <td>5655675</td>\n",
       "      <td>3308405</td>\n",
       "      <td>2018-01-12 04:00:00</td>\n",
       "    </tr>\n",
       "    <tr>\n",
       "      <th>41788</th>\n",
       "      <td>N002A</td>\n",
       "      <td>R173</td>\n",
       "      <td>00-00-01</td>\n",
       "      <td>INWOOD-207 ST</td>\n",
       "      <td>A</td>\n",
       "      <td>IND</td>\n",
       "      <td>2018-01-12</td>\n",
       "      <td>04:00:00</td>\n",
       "      <td>REGULAR</td>\n",
       "      <td>9247893</td>\n",
       "      <td>5364605</td>\n",
       "      <td>2018-01-12 04:00:00</td>\n",
       "    </tr>\n",
       "    <tr>\n",
       "      <th>41830</th>\n",
       "      <td>N002A</td>\n",
       "      <td>R173</td>\n",
       "      <td>00-00-02</td>\n",
       "      <td>INWOOD-207 ST</td>\n",
       "      <td>A</td>\n",
       "      <td>IND</td>\n",
       "      <td>2018-01-12</td>\n",
       "      <td>04:00:00</td>\n",
       "      <td>REGULAR</td>\n",
       "      <td>6382433</td>\n",
       "      <td>3683969</td>\n",
       "      <td>2018-01-12 04:00:00</td>\n",
       "    </tr>\n",
       "    <tr>\n",
       "      <th>41872</th>\n",
       "      <td>N002A</td>\n",
       "      <td>R173</td>\n",
       "      <td>00-05-00</td>\n",
       "      <td>INWOOD-207 ST</td>\n",
       "      <td>A</td>\n",
       "      <td>IND</td>\n",
       "      <td>2018-01-12</td>\n",
       "      <td>04:00:00</td>\n",
       "      <td>REGULAR</td>\n",
       "      <td>3414</td>\n",
       "      <td>0</td>\n",
       "      <td>2018-01-12 04:00:00</td>\n",
       "    </tr>\n",
       "    <tr>\n",
       "      <th>41914</th>\n",
       "      <td>N002A</td>\n",
       "      <td>R173</td>\n",
       "      <td>00-05-01</td>\n",
       "      <td>INWOOD-207 ST</td>\n",
       "      <td>A</td>\n",
       "      <td>IND</td>\n",
       "      <td>2018-01-12</td>\n",
       "      <td>04:00:00</td>\n",
       "      <td>REGULAR</td>\n",
       "      <td>0</td>\n",
       "      <td>522</td>\n",
       "      <td>2018-01-12 04:00:00</td>\n",
       "    </tr>\n",
       "  </tbody>\n",
       "</table>\n",
       "</div>"
      ],
      "text/plain": [
       "      ControlArea  Unit       SCP        Station LineName Division       Date  \\\n",
       "41494        N001  R173  01-05-00  INWOOD-207 ST        A      IND 2018-01-12   \n",
       "41536        N001  R173  01-05-01  INWOOD-207 ST        A      IND 2018-01-12   \n",
       "41578        N001  R173  01-06-00  INWOOD-207 ST        A      IND 2018-01-12   \n",
       "41620        N001  R173  01-06-01  INWOOD-207 ST        A      IND 2018-01-12   \n",
       "41662        N001  R173  01-06-02  INWOOD-207 ST        A      IND 2018-01-12   \n",
       "41704        N001  R173  01-06-03  INWOOD-207 ST        A      IND 2018-01-12   \n",
       "41746       N002A  R173  00-00-00  INWOOD-207 ST        A      IND 2018-01-12   \n",
       "41788       N002A  R173  00-00-01  INWOOD-207 ST        A      IND 2018-01-12   \n",
       "41830       N002A  R173  00-00-02  INWOOD-207 ST        A      IND 2018-01-12   \n",
       "41872       N002A  R173  00-05-00  INWOOD-207 ST        A      IND 2018-01-12   \n",
       "41914       N002A  R173  00-05-01  INWOOD-207 ST        A      IND 2018-01-12   \n",
       "\n",
       "           Time Description    Entries     Exits            DateTime  \n",
       "41494  04:00:00     REGULAR        301         0 2018-01-12 04:00:00  \n",
       "41536  04:00:00     REGULAR   67108872  16777412 2018-01-12 04:00:00  \n",
       "41578  04:00:00     REGULAR    4143559    760241 2018-01-12 04:00:00  \n",
       "41620  04:00:00     REGULAR  201806894    302650 2018-01-12 04:00:00  \n",
       "41662  04:00:00     REGULAR     742566    553216 2018-01-12 04:00:00  \n",
       "41704  04:00:00     REGULAR     332417    162116 2018-01-12 04:00:00  \n",
       "41746  04:00:00     REGULAR    5655675   3308405 2018-01-12 04:00:00  \n",
       "41788  04:00:00     REGULAR    9247893   5364605 2018-01-12 04:00:00  \n",
       "41830  04:00:00     REGULAR    6382433   3683969 2018-01-12 04:00:00  \n",
       "41872  04:00:00     REGULAR       3414         0 2018-01-12 04:00:00  \n",
       "41914  04:00:00     REGULAR          0       522 2018-01-12 04:00:00  "
      ]
     },
     "execution_count": 12,
     "metadata": {},
     "output_type": "execute_result"
    }
   ],
   "source": [
    "sample1_mask = ((raw_df['Date'] == '2018-01-12')\n",
    "        & (raw_df['Time'] == '04:00:00')\n",
    "        & (raw_df['Unit'] == 'R173'))\n",
    "raw_df[sample1_mask]"
   ]
  },
  {
   "cell_type": "code",
   "execution_count": 13,
   "metadata": {
    "scrolled": true
   },
   "outputs": [
    {
     "data": {
      "text/html": [
       "<div>\n",
       "<style>\n",
       "    .dataframe thead tr:only-child th {\n",
       "        text-align: right;\n",
       "    }\n",
       "\n",
       "    .dataframe thead th {\n",
       "        text-align: left;\n",
       "    }\n",
       "\n",
       "    .dataframe tbody tr th {\n",
       "        vertical-align: top;\n",
       "    }\n",
       "</style>\n",
       "<table border=\"1\" class=\"dataframe\">\n",
       "  <thead>\n",
       "    <tr style=\"text-align: right;\">\n",
       "      <th></th>\n",
       "      <th>ControlArea</th>\n",
       "      <th>Unit</th>\n",
       "      <th>SCP</th>\n",
       "      <th>Station</th>\n",
       "      <th>LineName</th>\n",
       "      <th>Division</th>\n",
       "      <th>Date</th>\n",
       "      <th>Time</th>\n",
       "      <th>Description</th>\n",
       "      <th>Entries</th>\n",
       "      <th>Exits</th>\n",
       "      <th>DateTime</th>\n",
       "    </tr>\n",
       "  </thead>\n",
       "  <tbody>\n",
       "    <tr>\n",
       "      <th>41495</th>\n",
       "      <td>N001</td>\n",
       "      <td>R173</td>\n",
       "      <td>01-05-00</td>\n",
       "      <td>INWOOD-207 ST</td>\n",
       "      <td>A</td>\n",
       "      <td>IND</td>\n",
       "      <td>2018-01-12</td>\n",
       "      <td>08:00:00</td>\n",
       "      <td>REGULAR</td>\n",
       "      <td>301</td>\n",
       "      <td>0</td>\n",
       "      <td>2018-01-12 08:00:00</td>\n",
       "    </tr>\n",
       "    <tr>\n",
       "      <th>41537</th>\n",
       "      <td>N001</td>\n",
       "      <td>R173</td>\n",
       "      <td>01-05-01</td>\n",
       "      <td>INWOOD-207 ST</td>\n",
       "      <td>A</td>\n",
       "      <td>IND</td>\n",
       "      <td>2018-01-12</td>\n",
       "      <td>08:00:00</td>\n",
       "      <td>REGULAR</td>\n",
       "      <td>67108872</td>\n",
       "      <td>16777412</td>\n",
       "      <td>2018-01-12 08:00:00</td>\n",
       "    </tr>\n",
       "    <tr>\n",
       "      <th>41579</th>\n",
       "      <td>N001</td>\n",
       "      <td>R173</td>\n",
       "      <td>01-06-00</td>\n",
       "      <td>INWOOD-207 ST</td>\n",
       "      <td>A</td>\n",
       "      <td>IND</td>\n",
       "      <td>2018-01-12</td>\n",
       "      <td>08:00:00</td>\n",
       "      <td>REGULAR</td>\n",
       "      <td>4144041</td>\n",
       "      <td>760256</td>\n",
       "      <td>2018-01-12 08:00:00</td>\n",
       "    </tr>\n",
       "    <tr>\n",
       "      <th>41621</th>\n",
       "      <td>N001</td>\n",
       "      <td>R173</td>\n",
       "      <td>01-06-01</td>\n",
       "      <td>INWOOD-207 ST</td>\n",
       "      <td>A</td>\n",
       "      <td>IND</td>\n",
       "      <td>2018-01-12</td>\n",
       "      <td>08:00:00</td>\n",
       "      <td>REGULAR</td>\n",
       "      <td>201807042</td>\n",
       "      <td>302674</td>\n",
       "      <td>2018-01-12 08:00:00</td>\n",
       "    </tr>\n",
       "    <tr>\n",
       "      <th>41663</th>\n",
       "      <td>N001</td>\n",
       "      <td>R173</td>\n",
       "      <td>01-06-02</td>\n",
       "      <td>INWOOD-207 ST</td>\n",
       "      <td>A</td>\n",
       "      <td>IND</td>\n",
       "      <td>2018-01-12</td>\n",
       "      <td>08:00:00</td>\n",
       "      <td>REGULAR</td>\n",
       "      <td>742751</td>\n",
       "      <td>553278</td>\n",
       "      <td>2018-01-12 08:00:00</td>\n",
       "    </tr>\n",
       "    <tr>\n",
       "      <th>41705</th>\n",
       "      <td>N001</td>\n",
       "      <td>R173</td>\n",
       "      <td>01-06-03</td>\n",
       "      <td>INWOOD-207 ST</td>\n",
       "      <td>A</td>\n",
       "      <td>IND</td>\n",
       "      <td>2018-01-12</td>\n",
       "      <td>08:00:00</td>\n",
       "      <td>REGULAR</td>\n",
       "      <td>332668</td>\n",
       "      <td>162141</td>\n",
       "      <td>2018-01-12 08:00:00</td>\n",
       "    </tr>\n",
       "    <tr>\n",
       "      <th>41747</th>\n",
       "      <td>N002A</td>\n",
       "      <td>R173</td>\n",
       "      <td>00-00-00</td>\n",
       "      <td>INWOOD-207 ST</td>\n",
       "      <td>A</td>\n",
       "      <td>IND</td>\n",
       "      <td>2018-01-12</td>\n",
       "      <td>08:00:00</td>\n",
       "      <td>REGULAR</td>\n",
       "      <td>5656200</td>\n",
       "      <td>3308462</td>\n",
       "      <td>2018-01-12 08:00:00</td>\n",
       "    </tr>\n",
       "    <tr>\n",
       "      <th>41789</th>\n",
       "      <td>N002A</td>\n",
       "      <td>R173</td>\n",
       "      <td>00-00-01</td>\n",
       "      <td>INWOOD-207 ST</td>\n",
       "      <td>A</td>\n",
       "      <td>IND</td>\n",
       "      <td>2018-01-12</td>\n",
       "      <td>08:00:00</td>\n",
       "      <td>REGULAR</td>\n",
       "      <td>9248297</td>\n",
       "      <td>5364632</td>\n",
       "      <td>2018-01-12 08:00:00</td>\n",
       "    </tr>\n",
       "    <tr>\n",
       "      <th>41831</th>\n",
       "      <td>N002A</td>\n",
       "      <td>R173</td>\n",
       "      <td>00-00-02</td>\n",
       "      <td>INWOOD-207 ST</td>\n",
       "      <td>A</td>\n",
       "      <td>IND</td>\n",
       "      <td>2018-01-12</td>\n",
       "      <td>08:00:00</td>\n",
       "      <td>REGULAR</td>\n",
       "      <td>6382835</td>\n",
       "      <td>3684013</td>\n",
       "      <td>2018-01-12 08:00:00</td>\n",
       "    </tr>\n",
       "    <tr>\n",
       "      <th>41873</th>\n",
       "      <td>N002A</td>\n",
       "      <td>R173</td>\n",
       "      <td>00-05-00</td>\n",
       "      <td>INWOOD-207 ST</td>\n",
       "      <td>A</td>\n",
       "      <td>IND</td>\n",
       "      <td>2018-01-12</td>\n",
       "      <td>08:00:00</td>\n",
       "      <td>REGULAR</td>\n",
       "      <td>3414</td>\n",
       "      <td>0</td>\n",
       "      <td>2018-01-12 08:00:00</td>\n",
       "    </tr>\n",
       "    <tr>\n",
       "      <th>41915</th>\n",
       "      <td>N002A</td>\n",
       "      <td>R173</td>\n",
       "      <td>00-05-01</td>\n",
       "      <td>INWOOD-207 ST</td>\n",
       "      <td>A</td>\n",
       "      <td>IND</td>\n",
       "      <td>2018-01-12</td>\n",
       "      <td>08:00:00</td>\n",
       "      <td>REGULAR</td>\n",
       "      <td>0</td>\n",
       "      <td>522</td>\n",
       "      <td>2018-01-12 08:00:00</td>\n",
       "    </tr>\n",
       "  </tbody>\n",
       "</table>\n",
       "</div>"
      ],
      "text/plain": [
       "      ControlArea  Unit       SCP        Station LineName Division       Date  \\\n",
       "41495        N001  R173  01-05-00  INWOOD-207 ST        A      IND 2018-01-12   \n",
       "41537        N001  R173  01-05-01  INWOOD-207 ST        A      IND 2018-01-12   \n",
       "41579        N001  R173  01-06-00  INWOOD-207 ST        A      IND 2018-01-12   \n",
       "41621        N001  R173  01-06-01  INWOOD-207 ST        A      IND 2018-01-12   \n",
       "41663        N001  R173  01-06-02  INWOOD-207 ST        A      IND 2018-01-12   \n",
       "41705        N001  R173  01-06-03  INWOOD-207 ST        A      IND 2018-01-12   \n",
       "41747       N002A  R173  00-00-00  INWOOD-207 ST        A      IND 2018-01-12   \n",
       "41789       N002A  R173  00-00-01  INWOOD-207 ST        A      IND 2018-01-12   \n",
       "41831       N002A  R173  00-00-02  INWOOD-207 ST        A      IND 2018-01-12   \n",
       "41873       N002A  R173  00-05-00  INWOOD-207 ST        A      IND 2018-01-12   \n",
       "41915       N002A  R173  00-05-01  INWOOD-207 ST        A      IND 2018-01-12   \n",
       "\n",
       "           Time Description    Entries     Exits            DateTime  \n",
       "41495  08:00:00     REGULAR        301         0 2018-01-12 08:00:00  \n",
       "41537  08:00:00     REGULAR   67108872  16777412 2018-01-12 08:00:00  \n",
       "41579  08:00:00     REGULAR    4144041    760256 2018-01-12 08:00:00  \n",
       "41621  08:00:00     REGULAR  201807042    302674 2018-01-12 08:00:00  \n",
       "41663  08:00:00     REGULAR     742751    553278 2018-01-12 08:00:00  \n",
       "41705  08:00:00     REGULAR     332668    162141 2018-01-12 08:00:00  \n",
       "41747  08:00:00     REGULAR    5656200   3308462 2018-01-12 08:00:00  \n",
       "41789  08:00:00     REGULAR    9248297   5364632 2018-01-12 08:00:00  \n",
       "41831  08:00:00     REGULAR    6382835   3684013 2018-01-12 08:00:00  \n",
       "41873  08:00:00     REGULAR       3414         0 2018-01-12 08:00:00  \n",
       "41915  08:00:00     REGULAR          0       522 2018-01-12 08:00:00  "
      ]
     },
     "execution_count": 13,
     "metadata": {},
     "output_type": "execute_result"
    }
   ],
   "source": [
    "sample2_mask = ((raw_df['Date'] == '2018-01-12')\n",
    "        & (raw_df['Time'] == '08:00:00')\n",
    "        & (raw_df['Unit'] == 'R173'))\n",
    "raw_df[sample2_mask]"
   ]
  },
  {
   "cell_type": "markdown",
   "metadata": {},
   "source": [
    "* **Observation:** Some turnstiles don't have increasing Entries/Exists values, due to disuse or malfunction."
   ]
  },
  {
   "cell_type": "markdown",
   "metadata": {},
   "source": [
    "## Find traffic counts per time period"
   ]
  },
  {
   "cell_type": "code",
   "execution_count": 14,
   "metadata": {
    "scrolled": false
   },
   "outputs": [
    {
     "data": {
      "text/html": [
       "<div>\n",
       "<style>\n",
       "    .dataframe thead tr:only-child th {\n",
       "        text-align: right;\n",
       "    }\n",
       "\n",
       "    .dataframe thead th {\n",
       "        text-align: left;\n",
       "    }\n",
       "\n",
       "    .dataframe tbody tr th {\n",
       "        vertical-align: top;\n",
       "    }\n",
       "</style>\n",
       "<table border=\"1\" class=\"dataframe\">\n",
       "  <thead>\n",
       "    <tr style=\"text-align: right;\">\n",
       "      <th></th>\n",
       "      <th></th>\n",
       "      <th></th>\n",
       "      <th></th>\n",
       "      <th>Date</th>\n",
       "      <th>Entries</th>\n",
       "      <th>Exits</th>\n",
       "      <th>DateTime</th>\n",
       "      <th>dt_delta</th>\n",
       "      <th>entries_delta</th>\n",
       "      <th>exits_delta</th>\n",
       "    </tr>\n",
       "    <tr>\n",
       "      <th>ControlArea</th>\n",
       "      <th>Unit</th>\n",
       "      <th>SCP</th>\n",
       "      <th>Station</th>\n",
       "      <th></th>\n",
       "      <th></th>\n",
       "      <th></th>\n",
       "      <th></th>\n",
       "      <th></th>\n",
       "      <th></th>\n",
       "      <th></th>\n",
       "    </tr>\n",
       "  </thead>\n",
       "  <tbody>\n",
       "    <tr>\n",
       "      <th rowspan=\"5\" valign=\"top\">A002</th>\n",
       "      <th rowspan=\"5\" valign=\"top\">R051</th>\n",
       "      <th rowspan=\"5\" valign=\"top\">02-00-00</th>\n",
       "      <th>59 ST</th>\n",
       "      <td>2018-01-06</td>\n",
       "      <td>6470216</td>\n",
       "      <td>2190123</td>\n",
       "      <td>2018-01-06 03:00:00</td>\n",
       "      <td>NaT</td>\n",
       "      <td>NaN</td>\n",
       "      <td>NaN</td>\n",
       "    </tr>\n",
       "    <tr>\n",
       "      <th>59 ST</th>\n",
       "      <td>2018-01-06</td>\n",
       "      <td>6470223</td>\n",
       "      <td>2190140</td>\n",
       "      <td>2018-01-06 07:00:00</td>\n",
       "      <td>04:00:00</td>\n",
       "      <td>7.0</td>\n",
       "      <td>17.0</td>\n",
       "    </tr>\n",
       "    <tr>\n",
       "      <th>59 ST</th>\n",
       "      <td>2018-01-06</td>\n",
       "      <td>6470256</td>\n",
       "      <td>2190229</td>\n",
       "      <td>2018-01-06 11:00:00</td>\n",
       "      <td>04:00:00</td>\n",
       "      <td>33.0</td>\n",
       "      <td>89.0</td>\n",
       "    </tr>\n",
       "    <tr>\n",
       "      <th>59 ST</th>\n",
       "      <td>2018-01-06</td>\n",
       "      <td>6470379</td>\n",
       "      <td>2190299</td>\n",
       "      <td>2018-01-06 15:00:00</td>\n",
       "      <td>04:00:00</td>\n",
       "      <td>123.0</td>\n",
       "      <td>70.0</td>\n",
       "    </tr>\n",
       "    <tr>\n",
       "      <th>59 ST</th>\n",
       "      <td>2018-01-06</td>\n",
       "      <td>6470665</td>\n",
       "      <td>2190366</td>\n",
       "      <td>2018-01-06 19:00:00</td>\n",
       "      <td>04:00:00</td>\n",
       "      <td>286.0</td>\n",
       "      <td>67.0</td>\n",
       "    </tr>\n",
       "  </tbody>\n",
       "</table>\n",
       "</div>"
      ],
      "text/plain": [
       "                                        Date  Entries    Exits  \\\n",
       "ControlArea Unit SCP      Station                                \n",
       "A002        R051 02-00-00 59 ST   2018-01-06  6470216  2190123   \n",
       "                          59 ST   2018-01-06  6470223  2190140   \n",
       "                          59 ST   2018-01-06  6470256  2190229   \n",
       "                          59 ST   2018-01-06  6470379  2190299   \n",
       "                          59 ST   2018-01-06  6470665  2190366   \n",
       "\n",
       "                                             DateTime dt_delta  entries_delta  \\\n",
       "ControlArea Unit SCP      Station                                               \n",
       "A002        R051 02-00-00 59 ST   2018-01-06 03:00:00      NaT            NaN   \n",
       "                          59 ST   2018-01-06 07:00:00 04:00:00            7.0   \n",
       "                          59 ST   2018-01-06 11:00:00 04:00:00           33.0   \n",
       "                          59 ST   2018-01-06 15:00:00 04:00:00          123.0   \n",
       "                          59 ST   2018-01-06 19:00:00 04:00:00          286.0   \n",
       "\n",
       "                                   exits_delta  \n",
       "ControlArea Unit SCP      Station               \n",
       "A002        R051 02-00-00 59 ST            NaN  \n",
       "                          59 ST           17.0  \n",
       "                          59 ST           89.0  \n",
       "                          59 ST           70.0  \n",
       "                          59 ST           67.0  "
      ]
     },
     "execution_count": 14,
     "metadata": {},
     "output_type": "execute_result"
    }
   ],
   "source": [
    "# raw_df.groupby(['ControlArea', 'Unit', 'SCP', 'Station'])\n",
    "\n",
    "delta_df = raw_df.copy()\n",
    "delta_df = delta_df.drop(['LineName', 'Division', 'Description', 'Time'], axis=1)\n",
    "delta_df.set_index(['ControlArea', 'Unit', 'SCP', 'Station'], inplace=True)\n",
    "delta_df.sort_values(by=['DateTime'])\n",
    "\n",
    "delta_df['dt_delta'] = delta_df['DateTime'].diff()\n",
    "delta_df['entries_delta'] = delta_df['Entries'].diff()\n",
    "delta_df['exits_delta'] = delta_df['Exits'].diff()\n",
    "# delta_df = delta_df.drop(['Exits', 'Entries'], axis=1)  # Will use below\n",
    "\n",
    "delta_df.head()"
   ]
  },
  {
   "cell_type": "code",
   "execution_count": 15,
   "metadata": {
    "scrolled": true
   },
   "outputs": [
    {
     "data": {
      "text/plain": [
       "1328"
      ]
     },
     "execution_count": 15,
     "metadata": {},
     "output_type": "execute_result"
    }
   ],
   "source": [
    "len(delta_df['dt_delta'].unique())"
   ]
  },
  {
   "cell_type": "code",
   "execution_count": 16,
   "metadata": {},
   "outputs": [
    {
     "data": {
      "text/plain": [
       "(201118,)"
      ]
     },
     "execution_count": 16,
     "metadata": {},
     "output_type": "execute_result"
    }
   ],
   "source": [
    "delta_df['dt_delta'].shape"
   ]
  },
  {
   "cell_type": "code",
   "execution_count": 17,
   "metadata": {},
   "outputs": [
    {
     "data": {
      "text/plain": [
       "0.8785091339412683"
      ]
     },
     "execution_count": 17,
     "metadata": {},
     "output_type": "execute_result"
    }
   ],
   "source": [
    "176684/201118"
   ]
  },
  {
   "cell_type": "code",
   "execution_count": 18,
   "metadata": {},
   "outputs": [
    {
     "data": {
      "text/plain": [
       "0 days 04:00:00      176684\n",
       "0 days 04:12:00       11744\n",
       "-7 days +04:00:00      4040\n",
       "0 days 00:01:20         631\n",
       "0 days 00:01:21         488\n",
       "0 days 08:00:00         196\n",
       "0 days 04:26:00         148\n",
       "0 days 00:01:25         116\n",
       "0 days 00:01:22          80\n",
       "-7 days +01:00:00        78\n",
       "-7 days +07:00:00        75\n",
       "0 days 00:01:24          73\n",
       "                      ...  \n",
       "-7 days +03:36:52         1\n",
       "-7 days +03:47:20         1\n",
       "-7 days +03:05:18         1\n",
       "0 days 04:02:33           1\n",
       "-7 days +04:28:16         1\n",
       "0 days 04:02:05           1\n",
       "-7 days +06:13:41         1\n",
       "-7 days +22:11:11         1\n",
       "-7 days +04:11:39         1\n",
       "-7 days +02:12:12         1\n",
       "0 days 04:03:49           1\n",
       "0 days 04:11:21           1\n",
       "Name: dt_delta, Length: 1327, dtype: int64"
      ]
     },
     "execution_count": 18,
     "metadata": {},
     "output_type": "execute_result"
    }
   ],
   "source": [
    "delta_df['dt_delta'].value_counts()"
   ]
  },
  {
   "cell_type": "markdown",
   "metadata": {},
   "source": [
    "* **Observation:** Just as the times are irregular, so are the time intervals per turnstile."
   ]
  },
  {
   "cell_type": "code",
   "execution_count": 19,
   "metadata": {},
   "outputs": [
    {
     "name": "stdout",
     "output_type": "stream",
     "text": [
      "Rows: 201118\n",
      "Rows w/ entries_delta < 0: 3944\n",
      "Rows w/ exits_delta < 0: 3650\n"
     ]
    }
   ],
   "source": [
    "print('Rows: {}'.format(delta_df.shape[0]))\n",
    "print('Rows w/ entries_delta < 0: {}'.format(\n",
    "    len([True for delta in delta_df['entries_delta'] if delta < 0])))\n",
    "print('Rows w/ exits_delta < 0: {}'.format(\n",
    "    len([True for delta in delta_df['exits_delta'] if delta < 0])))"
   ]
  },
  {
   "cell_type": "code",
   "execution_count": 20,
   "metadata": {
    "scrolled": true
   },
   "outputs": [
    {
     "name": "stdout",
     "output_type": "stream",
     "text": [
      "Rows w/ entries_delta > 100,000,000: 217\n",
      "Rows w/ exits_delta > 100,000,000: 142\n"
     ]
    }
   ],
   "source": [
    "print('Rows w/ entries_delta > 100,000,000: {}'.format(\n",
    "    len([True for delta in delta_df['entries_delta'] if delta > 100_000_000])))\n",
    "print('Rows w/ exits_delta > 100,000,000: {}'.format(\n",
    "    len([True for delta in delta_df['exits_delta'] if delta > 100_000_000])))"
   ]
  },
  {
   "cell_type": "markdown",
   "metadata": {},
   "source": [
    "* **Observation:** There is definitely some bad data here.  (Probably the result of diff'ing between groups.)"
   ]
  },
  {
   "cell_type": "code",
   "execution_count": 21,
   "metadata": {},
   "outputs": [
    {
     "name": "stdout",
     "output_type": "stream",
     "text": [
      "entries_delta: 99th percentile: 208354.47999999704\n",
      "entries_delta: 98th percentile: 1259.0\n",
      "entries_delta: 97th percentile: 996.5199999999895\n",
      "entries_delta: 96th percentile: 838.359999999986\n",
      "entries_delta: 95th percentile: 738.0\n"
     ]
    }
   ],
   "source": [
    "print('entries_delta: 99th percentile: {}'.format(delta_df['entries_delta'].quantile(q=0.99)))\n",
    "print('entries_delta: 98th percentile: {}'.format(delta_df['entries_delta'].quantile(q=0.98)))\n",
    "print('entries_delta: 97th percentile: {}'.format(delta_df['entries_delta'].quantile(q=0.97)))\n",
    "print('entries_delta: 96th percentile: {}'.format(delta_df['entries_delta'].quantile(q=0.96)))\n",
    "print('entries_delta: 95th percentile: {}'.format(delta_df['entries_delta'].quantile(q=0.95)))"
   ]
  },
  {
   "cell_type": "code",
   "execution_count": 22,
   "metadata": {
    "scrolled": true
   },
   "outputs": [
    {
     "name": "stdout",
     "output_type": "stream",
     "text": [
      "exits_delta: 99th percentile: 78240.75999999986\n",
      "exits_delta: 98th percentile: 1138.679999999993\n",
      "exits_delta: 97th percentile: 844.0\n",
      "exits_delta: 96th percentile: 691.0\n",
      "exits_delta: 95th percentile: 593.0\n"
     ]
    }
   ],
   "source": [
    "print('exits_delta: 99th percentile: {}'.format(delta_df['exits_delta'].quantile(q=0.99)))\n",
    "print('exits_delta: 98th percentile: {}'.format(delta_df['exits_delta'].quantile(q=0.98)))\n",
    "print('exits_delta: 97th percentile: {}'.format(delta_df['exits_delta'].quantile(q=0.97)))\n",
    "print('exits_delta: 96th percentile: {}'.format(delta_df['exits_delta'].quantile(q=0.96)))\n",
    "print('exits_delta: 95th percentile: {}'.format(delta_df['exits_delta'].quantile(q=0.95)))"
   ]
  },
  {
   "cell_type": "markdown",
   "metadata": {},
   "source": [
    "## Remove rows with questionable traffic counts"
   ]
  },
  {
   "cell_type": "code",
   "execution_count": 37,
   "metadata": {},
   "outputs": [],
   "source": [
    "filter_mask = ((delta_df['entries_delta'] >= 0)\n",
    "               & (delta_df['exits_delta'] >= 0)\n",
    "               & (delta_df['entries_delta'] <= delta_df['entries_delta'].quantile(q=0.98))\n",
    "               & (delta_df['exits_delta'] <= delta_df['exits_delta'].quantile(q=0.98))\n",
    "              )"
   ]
  },
  {
   "cell_type": "code",
   "execution_count": 38,
   "metadata": {
    "scrolled": false
   },
   "outputs": [
    {
     "data": {
      "text/plain": [
       "True     190715\n",
       "False     10403\n",
       "dtype: int64"
      ]
     },
     "execution_count": 38,
     "metadata": {},
     "output_type": "execute_result"
    }
   ],
   "source": [
    "filter_mask.value_counts()"
   ]
  },
  {
   "cell_type": "code",
   "execution_count": 39,
   "metadata": {
    "scrolled": true
   },
   "outputs": [],
   "source": [
    "filtered_df = delta_df.copy()\n",
    "filtered_df = filtered_df[filter_mask]\n",
    "filtered_df.drop(['Entries', 'Exits'], axis=1, inplace=True)"
   ]
  },
  {
   "cell_type": "markdown",
   "metadata": {},
   "source": [
    "## Hourly chart"
   ]
  },
  {
   "cell_type": "code",
   "execution_count": 40,
   "metadata": {},
   "outputs": [],
   "source": [
    "hourly_filtered_mask = ((filtered_df['DateTime'].dt.hour % 4 == 0)\n",
    "                        & (filtered_df['DateTime'].dt.minute == 0)\n",
    "                        & (filtered_df['DateTime'].dt.second == 0)\n",
    "                        )"
   ]
  },
  {
   "cell_type": "code",
   "execution_count": 41,
   "metadata": {},
   "outputs": [],
   "source": [
    "hourly_filtered_df = filtered_df[hourly_filtered_mask]"
   ]
  },
  {
   "cell_type": "code",
   "execution_count": 42,
   "metadata": {
    "collapsed": true
   },
   "outputs": [],
   "source": [
    "hourly_filtered_df = filtered_df"
   ]
  },
  {
   "cell_type": "code",
   "execution_count": 43,
   "metadata": {},
   "outputs": [],
   "source": [
    "hourly_filtered_grp = hourly_filtered_df.groupby(['DateTime']).sum()"
   ]
  },
  {
   "cell_type": "code",
   "execution_count": 46,
   "metadata": {},
   "outputs": [
    {
     "data": {
      "image/png": "[encoded data removed]",
      "text/plain": [
       "<matplotlib.figure.Figure at 0x1099584e0>"
      ]
     },
     "metadata": {},
     "output_type": "display_data"
    }
   ],
   "source": [
    "hourly_filtered_grp['entries_delta'].plot()"
   ]
  },
  {
   "cell_type": "code",
   "execution_count": 47,
   "metadata": {},
   "outputs": [
    {
     "data": {
      "text/plain": [
       "<matplotlib.axes._subplots.AxesSubplot at 0x109af7ac8>"
      ]
     },
     "execution_count": 47,
     "metadata": {},
     "output_type": "execute_result"
    },
    {
     "data": {
      "image/png": "[encoded data removed]",
      "text/plain": [
       "<matplotlib.figure.Figure at 0x109958a90>"
      ]
     },
     "metadata": {},
     "output_type": "display_data"
    }
   ],
   "source": [
    "hourly_filtered_grp['exits_delta'].plot()"
   ]
  },
  {
   "cell_type": "code",
   "execution_count": null,
   "metadata": {},
   "outputs": [],
   "source": [
    "hourly_exits_df.hist()"
   ]
  },
  {
   "cell_type": "markdown",
   "metadata": {},
   "source": [
    "## Station chart"
   ]
  },
  {
   "cell_type": "code",
   "execution_count": 48,
   "metadata": {
    "collapsed": true
   },
   "outputs": [],
   "source": [
    "station_grp = filtered_df.groupby(['Station']).sum()"
   ]
  },
  {
   "cell_type": "code",
   "execution_count": 57,
   "metadata": {},
   "outputs": [
    {
     "data": {
      "text/plain": [
       "Station\n",
       "BROAD CHANNEL      2.153e+03\n",
       "BEACH 105 ST       3.230e+03\n",
       "TOMPKINSVILLE      4.423e+03\n",
       "BEACH 98 ST        5.451e+03\n",
       "AVENUE I           5.835e+03\n",
       "SENECA AVE         6.427e+03\n",
       "ROCKAWAY PARK B    8.187e+03\n",
       "BEACH 44 ST        8.617e+03\n",
       "BEACH 90 ST        8.783e+03\n",
       "AVENUE P           8.837e+03\n",
       "AQUEDUCT N.COND    1.033e+04\n",
       "AQUEDUCT RACETR    1.074e+04\n",
       "BEACH 36 ST        1.105e+04\n",
       "AVENUE N           1.177e+04\n",
       "E 143/ST MARY'S    1.307e+04\n",
       "NEPTUNE AV         1.364e+04\n",
       "RIT-ROOSEVELT      1.401e+04\n",
       "RIT-MANHATTAN      1.407e+04\n",
       "CYPRESS HILLS      1.462e+04\n",
       "ATLANTIC AV        1.634e+04\n",
       "215 ST             1.639e+04\n",
       "55 ST              1.819e+04\n",
       "W 8 ST-AQUARIUM    1.856e+04\n",
       "BOTANIC GARDEN     1.949e+04\n",
       "104 ST             1.990e+04\n",
       "BAY 50 ST          2.059e+04\n",
       "BRONX PARK EAST    2.091e+04\n",
       "AVENUE X           2.104e+04\n",
       "121 ST             2.137e+04\n",
       "88 ST              2.190e+04\n",
       "BEACH 67 ST        2.243e+04\n",
       "BEACH 60 ST        2.245e+04\n",
       "BUSHWICK AV        2.253e+04\n",
       "WHITLOCK AV        2.263e+04\n",
       "FOREST AVE         2.288e+04\n",
       "75 AV              2.298e+04\n",
       "MIDDLETOWN RD      2.305e+04\n",
       "BEACH 25 ST        2.326e+04\n",
       "HEWES ST           2.360e+04\n",
       "21 ST              2.428e+04\n",
       "BAYCHESTER AV      2.452e+04\n",
       "LIBERTY AV         2.457e+04\n",
       "JUNIUS ST          2.538e+04\n",
       "METS-WILLETS PT    2.573e+04\n",
       "238 ST             2.641e+04\n",
       "163 ST-AMSTERDM    2.697e+04\n",
       "BURKE AV           2.699e+04\n",
       "NEREID AV          2.733e+04\n",
       "MORRIS PARK        2.770e+04\n",
       "OCEAN PKWY         2.789e+04\n",
       "ALABAMA AV         2.794e+04\n",
       "JACKSON AV         2.797e+04\n",
       "SHEPHERD AV        2.943e+04\n",
       "ZEREGA AV          3.009e+04\n",
       "219 ST             3.027e+04\n",
       "BEVERLY RD         3.067e+04\n",
       "CHAUNCEY ST        3.093e+04\n",
       "AVENUE H           3.124e+04\n",
       "190 ST             3.136e+04\n",
       "NECK RD            3.406e+04\n",
       "LIVONIA AV         3.440e+04\n",
       "YORK ST            3.521e+04\n",
       "DITMAS AV          3.527e+04\n",
       "138/GRAND CONC     3.536e+04\n",
       "CLARK ST           3.560e+04\n",
       "PATH WTC 2         3.593e+04\n",
       "85 ST-FOREST PK    3.601e+04\n",
       "225 ST             3.602e+04\n",
       "VAN SICLEN AVE     3.635e+04\n",
       "CLEVELAND ST       3.645e+04\n",
       "6 AV               3.696e+04\n",
       "233 ST             3.726e+04\n",
       "BEVERLEY ROAD      3.732e+04\n",
       "CYPRESS AV         3.738e+04\n",
       "65 ST              3.788e+04\n",
       "LONGWOOD AV        3.795e+04\n",
       "INTERVALE AV       3.821e+04\n",
       "80 ST              3.843e+04\n",
       "182-183 STS        3.854e+04\n",
       "NORWOOD AV         3.859e+04\n",
       "SUTPHIN BLVD       3.970e+04\n",
       "75 ST-ELDERTS      4.021e+04\n",
       "BOWERY             4.041e+04\n",
       "MARBLE HILL-225    4.041e+04\n",
       "PENNSYLVANIA AV    4.047e+04\n",
       "25 AV              4.049e+04\n",
       "BUHRE AV           4.103e+04\n",
       "LAFAYETTE AV       4.110e+04\n",
       "25 ST              4.212e+04\n",
       "174-175 STS        4.331e+04\n",
       "ALLERTON AV        4.351e+04\n",
       "39 AV              4.358e+04\n",
       "NEWARK C           4.404e+04\n",
       "71 ST              4.406e+04\n",
       "SUTTER AV          4.433e+04\n",
       "BRIARWOOD          4.444e+04\n",
       "EAST 105 ST        4.450e+04\n",
       "HARLEM 148 ST      4.597e+04\n",
       "FRESH POND RD      4.609e+04\n",
       "74 ST-BROADWAY     4.634e+04\n",
       "HOWARD BCH JFK     4.703e+04\n",
       "BROAD ST           4.715e+04\n",
       "ST LAWRENCE AV     4.717e+04\n",
       "ROCKAWAY BLVD      4.764e+04\n",
       "WOODLAWN           4.795e+04\n",
       "4 AV-9 ST          4.796e+04\n",
       "EASTN PKWY-MUSM    4.864e+04\n",
       "JAMAICA VAN WK     4.908e+04\n",
       "EASTCHSTER/DYRE    4.926e+04\n",
       "CORTELYOU RD       4.977e+04\n",
       "PRESIDENT ST       4.996e+04\n",
       "9TH STREET         5.036e+04\n",
       "FREEMAN ST         5.101e+04\n",
       "FRANKLIN ST        5.128e+04\n",
       "KINGSTON AV        5.182e+04\n",
       "WINTHROP ST        5.184e+04\n",
       "MT EDEN AV         5.200e+04\n",
       "KOSCIUSZKO ST      5.219e+04\n",
       "RALPH AV           5.231e+04\n",
       "AVENUE M           5.315e+04\n",
       "NEW UTRECHT AV     5.316e+04\n",
       "176 ST             5.372e+04\n",
       "PARK PLACE         5.426e+04\n",
       "FAR ROCKAWAY       5.429e+04\n",
       "183 ST             5.440e+04\n",
       "AVENUE J           5.494e+04\n",
       "WILSON AV          5.496e+04\n",
       "MYRTLE-WILLOUGH    5.528e+04\n",
       "69 ST              5.584e+04\n",
       "E 149 ST           5.586e+04\n",
       "BAY RIDGE-95 ST    5.627e+04\n",
       "20 AV              5.634e+04\n",
       "NEW LOTS           5.688e+04\n",
       "BAY RIDGE AV       5.706e+04\n",
       "207 ST             5.720e+04\n",
       "V.CORTLANDT PK     5.721e+04\n",
       "CRESCENT ST        5.745e+04\n",
       "SARATOGA AV        5.766e+04\n",
       "PARKSIDE AV        5.897e+04\n",
       "JEFFERSON ST       5.900e+04\n",
       "STERLING ST        5.904e+04\n",
       "WAKEFIELD/241      5.916e+04\n",
       "COURT SQ-23 ST     5.919e+04\n",
       "TREMONT AV         5.969e+04\n",
       "15 ST-PROSPECT     5.996e+04\n",
       "CITY HALL          6.089e+04\n",
       "SMITH-9 ST         6.099e+04\n",
       "GRAND ARMY PLAZ    6.155e+04\n",
       "CLASSON AV         6.160e+04\n",
       "HOYT ST            6.205e+04\n",
       "GATES AV           6.236e+04\n",
       "231 ST             6.261e+04\n",
       "9 AV               6.282e+04\n",
       "155 ST             6.302e+04\n",
       "PELHAM BAY PARK    6.326e+04\n",
       "WEST FARMS SQ      6.330e+04\n",
       "GRANT AV           6.439e+04\n",
       "174 ST             6.570e+04\n",
       "45 ST              6.594e+04\n",
       "MOSHOLU PKWY       6.598e+04\n",
       "TWENTY THIRD ST    6.655e+04\n",
       "SIMPSON ST         6.802e+04\n",
       "KINGSTON-THROOP    6.828e+04\n",
       "WESTCHESTER SQ     6.846e+04\n",
       "52 ST              6.876e+04\n",
       "VAN SICLEN AV      6.892e+04\n",
       "BROOK AV           6.972e+04\n",
       "MORISN AV/SNDVW    6.993e+04\n",
       "NEW LOTS AV        7.074e+04\n",
       "CASTLE HILL AV     7.132e+04\n",
       "ROOSEVELT ISLND    7.151e+04\n",
       "MONTROSE AV        7.178e+04\n",
       "53 ST              7.230e+04\n",
       "MORGAN AV          7.238e+04\n",
       "HARRISON           7.269e+04\n",
       "NEWKIRK AV         7.287e+04\n",
       "NORTHERN BLVD      7.428e+04\n",
       "NEWARK HW BMEBE    7.464e+04\n",
       "PARSONS BLVD       7.497e+04\n",
       "ELDER AV           7.543e+04\n",
       "ELMHURST AV        7.572e+04\n",
       "UNION ST           7.573e+04\n",
       "HUNTERS PT AV      7.644e+04\n",
       "3 AV 138 ST        7.668e+04\n",
       "INWOOD-207 ST      7.680e+04\n",
       "OZONE PK LEFFRT    7.811e+04\n",
       "E 180 ST           7.829e+04\n",
       "ST. GEORGE         7.844e+04\n",
       "LORIMER ST         8.017e+04\n",
       "BEDFORD-NOSTRAN    8.066e+04\n",
       "67 AV              8.071e+04\n",
       "EUCLID AV          8.131e+04\n",
       "SUTTER AV-RUTLD    8.153e+04\n",
       "HIGH ST            8.205e+04\n",
       "18 ST              8.364e+04\n",
       "NASSAU AV          8.370e+04\n",
       "NORWOOD 205 ST     8.415e+04\n",
       "NEWARK HM HE       8.666e+04\n",
       "169 ST             8.696e+04\n",
       "MYRTLE AV          8.751e+04\n",
       "GRAHAM AV          8.786e+04\n",
       "3 AV               8.792e+04\n",
       "QUEENSBORO PLZ     8.852e+04\n",
       "PROSPECT PARK      8.905e+04\n",
       "21 ST-QNSBRIDGE    9.014e+04\n",
       "BURNSIDE AV        9.056e+04\n",
       "AVENUE U           9.099e+04\n",
       "CANARSIE-ROCKAW    9.224e+04\n",
       "57 ST              9.323e+04\n",
       "CENTRAL PK N110    9.371e+04\n",
       "14TH STREET        9.442e+04\n",
       "CARROLL ST         9.542e+04\n",
       "CLINTON-WASH AV    9.603e+04\n",
       "46 ST              9.606e+04\n",
       "4AV-9 ST           9.743e+04\n",
       "40 ST LOWERY ST    9.800e+04\n",
       "116 ST-COLUMBIA    9.833e+04\n",
       "BROADWAY JCT       9.899e+04\n",
       "EAST BROADWAY      9.938e+04\n",
       "NEWARK BM BW       9.950e+04\n",
       "GREENPOINT AV      1.007e+05\n",
       "191 ST             1.010e+05\n",
       "PELHAM PKWY        1.012e+05\n",
       "5 AVE              1.018e+05\n",
       "18 AV              1.027e+05\n",
       "34 ST-HUDSON YD    1.039e+05\n",
       "JFK JAMAICA CT1    1.044e+05\n",
       "FLUSHING AV        1.054e+05\n",
       "DYCKMAN ST         1.062e+05\n",
       "149/GRAND CONC     1.070e+05\n",
       "BRIGHTON BEACH     1.071e+05\n",
       "33 ST-RAWSON ST    1.082e+05\n",
       "QUEENS PLAZA       1.085e+05\n",
       "HOYT-SCHER         1.089e+05\n",
       "175 ST             1.092e+05\n",
       "157 ST             1.098e+05\n",
       "HUNTS POINT AV     1.107e+05\n",
       "ROCKAWAY AV        1.119e+05\n",
       "PROSPECT AV        1.122e+05\n",
       "NEWKIRK PLAZA      1.126e+05\n",
       "FT HAMILTON PKY    1.142e+05\n",
       "THIRTY ST          1.150e+05\n",
       "METROPOLITAN AV    1.151e+05\n",
       "BEDFORD PK BLVD    1.159e+05\n",
       "MARCY AV           1.183e+05\n",
       "110 ST             1.201e+05\n",
       "VERNON-JACKSON     1.226e+05\n",
       "LACKAWANNA         1.235e+05\n",
       "81 ST-MUSEUM       1.241e+05\n",
       "NEVINS ST          1.258e+05\n",
       "GUN HILL RD        1.275e+05\n",
       "GRAND-NEWTOWN      1.283e+05\n",
       "BLEECKER ST        1.286e+05\n",
       "CONEY IS-STILLW    1.290e+05\n",
       "63 DR-REGO PARK    1.297e+05\n",
       "ASTORIA BLVD       1.309e+05\n",
       "HOUSTON ST         1.311e+05\n",
       "46 ST BLISS ST     1.312e+05\n",
       "SOUTH FERRY        1.325e+05\n",
       "137 ST CITY COL    1.386e+05\n",
       "BROOKLYN BRIDGE    1.395e+05\n",
       "HALSEY ST          1.397e+05\n",
       "RECTOR ST          1.401e+05\n",
       "SHEEPSHEAD BAY     1.409e+05\n",
       "90 ST-ELMHURST     1.448e+05\n",
       "ASTORIA DITMARS    1.466e+05\n",
       "BROADWAY           1.472e+05\n",
       "170 ST             1.483e+05\n",
       "2 AV               1.496e+05\n",
       "BERGEN ST          1.520e+05\n",
       "5 AV/59 ST         1.527e+05\n",
       "STEINWAY ST        1.528e+05\n",
       "8 ST-NYU           1.538e+05\n",
       "CHRISTOPHER ST     1.564e+05\n",
       "COURT SQ           1.567e+05\n",
       "CITY / BUS         1.570e+05\n",
       "KINGSBRIDGE RD     1.575e+05\n",
       "111 ST             1.577e+05\n",
       "FLATBUSH AV-B.C    1.585e+05\n",
       "PARKCHESTER        1.614e+05\n",
       "3 AV-149 ST        1.620e+05\n",
       "WORLD TRADE CTR    1.620e+05\n",
       "JAMAICA 179 ST     1.633e+05\n",
       "UTICA AV           1.634e+05\n",
       "82 ST-JACKSON H    1.635e+05\n",
       "135 ST             1.660e+05\n",
       "BAY PKWY           1.684e+05\n",
       "LEXINGTON AV/63    1.690e+05\n",
       "CATHEDRAL PKWY     1.711e+05\n",
       "PAVONIA/NEWPORT    1.720e+05\n",
       "WHITEHALL S-FRY    1.726e+05\n",
       "FORDHAM RD         1.727e+05\n",
       "PRINCE ST          1.774e+05\n",
       "36 ST              1.799e+05\n",
       "ASTOR PL           1.810e+05\n",
       "167 ST             1.816e+05\n",
       "161/YANKEE STAD    1.819e+05\n",
       "FRANKLIN AV        1.826e+05\n",
       "EXCHANGE PLACE     1.838e+05\n",
       "SPRING ST          1.846e+05\n",
       "61 ST WOODSIDE     1.855e+05\n",
       "96 ST-2 AVE        1.869e+05\n",
       "103 ST-CORONA      1.888e+05\n",
       "JUNCTION BLVD      1.916e+05\n",
       "79 ST              1.933e+05\n",
       "1 AV               1.934e+05\n",
       "CORTLANDT ST       1.959e+05\n",
       "NOSTRAND AV        1.970e+05\n",
       "THIRTY THIRD ST    1.989e+05\n",
       "68ST-HUNTER CO     2.011e+05\n",
       "168 ST             2.081e+05\n",
       "JOURNAL SQUARE     2.087e+05\n",
       "KEW GARDENS        2.111e+05\n",
       "MYRTLE-WYCKOFF     2.121e+05\n",
       "B'WAY-LAFAYETTE    2.178e+05\n",
       "57 ST-7 AV         2.191e+05\n",
       "GROVE STREET       2.199e+05\n",
       "86 ST-2 AVE        2.240e+05\n",
       "5 AV/53 ST         2.301e+05\n",
       "FOREST HILLS 71    2.325e+05\n",
       "WOODHAVEN BLVD     2.338e+05\n",
       "GRAND ST           2.345e+05\n",
       "CROWN HTS-UTICA    2.379e+05\n",
       "DELANCEY/ESSEX     2.395e+05\n",
       "DEKALB AV          2.427e+05\n",
       "181 ST             2.469e+05\n",
       "SUTPHIN-ARCHER     2.486e+05\n",
       "51 ST              2.500e+05\n",
       "BOWLING GREEN      2.510e+05\n",
       "42 ST-BRYANT PK    2.549e+05\n",
       "66 ST-LINCOLN      2.665e+05\n",
       "49 ST              2.677e+05\n",
       "JAMAICA CENTER     2.838e+05\n",
       "33 ST              2.906e+05\n",
       "72 ST-2 AVE        2.908e+05\n",
       "KINGS HWY          2.966e+05\n",
       "BEDFORD AV         2.967e+05\n",
       "103 ST             2.993e+05\n",
       "BOROUGH HALL       3.014e+05\n",
       "116 ST             3.016e+05\n",
       "8 AV               3.065e+05\n",
       "47-50 STS ROCK     3.070e+05\n",
       "W 4 ST-WASH SQ     3.222e+05\n",
       "LEXINGTON AV/53    3.239e+05\n",
       "77 ST              3.390e+05\n",
       "145 ST             3.465e+05\n",
       "JAY ST-METROTEC    3.528e+05\n",
       "CHURCH AV          3.606e+05\n",
       "7 AV               3.733e+05\n",
       "72 ST              4.161e+05\n",
       "WALL ST            4.171e+05\n",
       "JKSN HT-ROOSVLT    4.196e+05\n",
       "PATH NEW WTC       4.259e+05\n",
       "ATL AV-BARCLAY     4.884e+05\n",
       "CHAMBERS ST        4.917e+05\n",
       "50 ST              5.034e+05\n",
       "28 ST              5.249e+05\n",
       "14 ST              5.293e+05\n",
       "FLUSHING-MAIN      5.675e+05\n",
       "59 ST COLUMBUS     5.681e+05\n",
       "96 ST              5.867e+05\n",
       "59 ST              6.201e+05\n",
       "CANAL ST           6.430e+05\n",
       "42 ST-PORT AUTH    7.201e+05\n",
       "125 ST             7.286e+05\n",
       "14 ST-UNION SQ     7.658e+05\n",
       "34 ST-HERALD SQ    7.875e+05\n",
       "86 ST              7.922e+05\n",
       "TIMES SQ-42 ST     8.853e+05\n",
       "GRD CNTRL-42 ST    8.932e+05\n",
       "FULTON ST          8.952e+05\n",
       "23 ST              9.502e+05\n",
       "34 ST-PENN STA     1.336e+06\n",
       "dtype: float64"
      ]
     },
     "execution_count": 57,
     "metadata": {},
     "output_type": "execute_result"
    }
   ],
   "source": [
    "station_df = station_grp['entries_delta'] + station_grp['exits_delta']\n",
    "station_df.sort_values(inplace=True)\n",
    "station_df"
   ]
  },
  {
   "cell_type": "code",
   "execution_count": 55,
   "metadata": {},
   "outputs": [
    {
     "data": {
      "text/plain": [
       "<matplotlib.axes._subplots.AxesSubplot at 0x109e50240>"
      ]
     },
     "execution_count": 55,
     "metadata": {},
     "output_type": "execute_result"
    },
    {
     "data": {
      "image/png": "[encoded data removed]",
      "text/plain": [
       "<matplotlib.figure.Figure at 0x109eb9668>"
      ]
     },
     "metadata": {},
     "output_type": "display_data"
    }
   ],
   "source": [
    "station_df.plot(rot=90)"
   ]
  },
  {
   "cell_type": "markdown",
   "metadata": {},
   "source": [
    "## Q: Can we identify which stations are in a business district?\n",
    "## A: Not with certainty."
   ]
  },
  {
   "cell_type": "code",
   "execution_count": 61,
   "metadata": {
    "collapsed": true
   },
   "outputs": [],
   "source": [
    "morning_mask = (filtered_df['DateTime'].dt.hour >= 8) & (filtered_df['DateTime'].dt.hour <= 10)"
   ]
  },
  {
   "cell_type": "code",
   "execution_count": 63,
   "metadata": {},
   "outputs": [
    {
     "data": {
      "text/plain": [
       "False    172978\n",
       "True      17737\n",
       "Name: DateTime, dtype: int64"
      ]
     },
     "execution_count": 63,
     "metadata": {},
     "output_type": "execute_result"
    }
   ],
   "source": [
    "morning_mask.value_counts()"
   ]
  },
  {
   "cell_type": "code",
   "execution_count": 66,
   "metadata": {},
   "outputs": [],
   "source": [
    "evening_mask = (filtered_df['DateTime'].dt.hour >= 16) & (filtered_df['DateTime'].dt.hour <= 18)"
   ]
  },
  {
   "cell_type": "code",
   "execution_count": 67,
   "metadata": {},
   "outputs": [
    {
     "data": {
      "text/plain": [
       "False    176045\n",
       "True      14670\n",
       "Name: DateTime, dtype: int64"
      ]
     },
     "execution_count": 67,
     "metadata": {},
     "output_type": "execute_result"
    }
   ],
   "source": [
    "evening_mask.value_counts()"
   ]
  },
  {
   "cell_type": "markdown",
   "metadata": {},
   "source": [
    "* **Note:** We're filtering out ~5% of the rows."
   ]
  },
  {
   "cell_type": "code",
   "execution_count": 68,
   "metadata": {
    "collapsed": true
   },
   "outputs": [],
   "source": [
    "morning_station_df = filtered_df[morning_mask].groupby(['Station']).sum()"
   ]
  },
  {
   "cell_type": "code",
   "execution_count": 69,
   "metadata": {},
   "outputs": [],
   "source": [
    "evening_station_df = filtered_df[evening_mask].groupby(['Station']).sum()"
   ]
  },
  {
   "cell_type": "code",
   "execution_count": 70,
   "metadata": {},
   "outputs": [],
   "source": [
    "morning_business_stations_mask = morning_station_df['entries_delta'] < morning_station_df['exits_delta']\n",
    "morning_business_stations = set(morning_station_df[morning_business_stations_mask].index)"
   ]
  },
  {
   "cell_type": "code",
   "execution_count": 71,
   "metadata": {},
   "outputs": [],
   "source": [
    "evening_business_stations_mask = evening_station_df['entries_delta'] > evening_station_df['exits_delta']\n",
    "evening_business_stations = set(evening_station_df[evening_business_stations_mask].index)"
   ]
  },
  {
   "cell_type": "code",
   "execution_count": 72,
   "metadata": {},
   "outputs": [
    {
     "data": {
      "text/plain": [
       "68"
      ]
     },
     "execution_count": 72,
     "metadata": {},
     "output_type": "execute_result"
    }
   ],
   "source": [
    "len(morning_business_stations)"
   ]
  },
  {
   "cell_type": "code",
   "execution_count": 73,
   "metadata": {},
   "outputs": [
    {
     "data": {
      "text/plain": [
       "165"
      ]
     },
     "execution_count": 73,
     "metadata": {},
     "output_type": "execute_result"
    }
   ],
   "source": [
    "len(evening_business_stations)"
   ]
  },
  {
   "cell_type": "code",
   "execution_count": 74,
   "metadata": {},
   "outputs": [
    {
     "data": {
      "text/plain": [
       "29"
      ]
     },
     "execution_count": 74,
     "metadata": {},
     "output_type": "execute_result"
    }
   ],
   "source": [
    "len(morning_business_stations - evening_business_stations)"
   ]
  },
  {
   "cell_type": "code",
   "execution_count": 75,
   "metadata": {},
   "outputs": [
    {
     "data": {
      "text/plain": [
       "126"
      ]
     },
     "execution_count": 75,
     "metadata": {},
     "output_type": "execute_result"
    }
   ],
   "source": [
    "len(evening_business_stations - morning_business_stations)"
   ]
  },
  {
   "cell_type": "markdown",
   "metadata": {},
   "source": [
    "## Traffic per station"
   ]
  },
  {
   "cell_type": "code",
   "execution_count": null,
   "metadata": {
    "collapsed": true
   },
   "outputs": [],
   "source": [
    "station_df = filtered_df.copy()\n",
    "station_df['traffic'] = station_df['entries_delta'] + station_df['exits_delta']\n",
    "station_df.drop(['dt_delta', 'entries_delta', 'exits_delta'], axis=1, inplace=True)\n",
    "station_df.index.ControlArea = 'ControlArea'\n",
    "station_df.index.Unit = 'Unit'\n",
    "station_df.index.SCP = 'SCP'\n",
    "station_df.reset_index(inplace=True)\n",
    "station_df.drop(['ControlArea', 'Unit', 'SCP', 'Date', 'DateTime'], axis=1, inplace=True)"
   ]
  },
  {
   "cell_type": "code",
   "execution_count": null,
   "metadata": {
    "scrolled": true
   },
   "outputs": [],
   "source": [
    "station_grouped = station_df.groupby('Station')"
   ]
  },
  {
   "cell_type": "code",
   "execution_count": null,
   "metadata": {},
   "outputs": [],
   "source": [
    "station_df = pd.DataFrame(station_grouped['traffic'].aggregate('sum').astype(int))"
   ]
  },
  {
   "cell_type": "code",
   "execution_count": null,
   "metadata": {},
   "outputs": [],
   "source": [
    "station_df.sort_values(by=['traffic'])"
   ]
  },
  {
   "cell_type": "code",
   "execution_count": null,
   "metadata": {
    "collapsed": true
   },
   "outputs": [],
   "source": []
  }
 ],
 "metadata": {
  "kernelspec": {
   "display_name": "Python 3",
   "language": "python",
   "name": "python3"
  },
  "language_info": {
   "codemirror_mode": {
    "name": "ipython",
    "version": 3
   },
   "file_extension": ".py",
   "mimetype": "text/x-python",
   "name": "python",
   "nbconvert_exporter": "python",
   "pygments_lexer": "ipython3",
   "version": "3.6.3"
  }
 },
 "nbformat": 4,
 "nbformat_minor": 2
}
